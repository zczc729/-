{
 "cells": [
  {
   "cell_type": "markdown",
   "id": "b978443f",
   "metadata": {},
   "source": [
    "# Part 6. 데이터프레임 고급활용"
   ]
  },
  {
   "cell_type": "code",
   "execution_count": null,
   "id": "20f901dd",
   "metadata": {},
   "outputs": [],
   "source": [
    "# 라이브러리 불러오기\n",
    "import seaborn as sns\n",
    "\n",
    "# titanic 데이터셋에서 age, fare 2개 열을 선택하여 데이터프레임 만들기\n",
    "titanic = sns.load_dataset('titanic')\n",
    "df = titanic.loc[:, ['age','fare']]\n",
    "df['ten'] = 10\n",
    "df"
   ]
  },
  {
   "cell_type": "code",
   "execution_count": null,
   "id": "9130d23b",
   "metadata": {},
   "outputs": [],
   "source": [
    "# 사용자 함수 정의\n",
    "def add_10(n):   # 10을 더하는 함수\n",
    "    return n + 10"
   ]
  },
  {
   "cell_type": "code",
   "execution_count": null,
   "id": "4b20f436",
   "metadata": {},
   "outputs": [],
   "source": [
    "def add_two_obj(a, b):    # 두 객체의 합\n",
    "    return a + b"
   ]
  },
  {
   "cell_type": "code",
   "execution_count": null,
   "id": "9a8b18ed",
   "metadata": {},
   "outputs": [],
   "source": [
    "add_10(10)"
   ]
  },
  {
   "cell_type": "code",
   "execution_count": null,
   "id": "738e4aec",
   "metadata": {},
   "outputs": [],
   "source": [
    "add_two_obj(10, 10)"
   ]
  },
  {
   "cell_type": "code",
   "execution_count": null,
   "id": "79b32ab7",
   "metadata": {},
   "outputs": [],
   "source": [
    "df['age']"
   ]
  },
  {
   "cell_type": "code",
   "execution_count": null,
   "id": "e024cb02",
   "metadata": {},
   "outputs": [],
   "source": [
    "add_10(df['age'])"
   ]
  },
  {
   "cell_type": "code",
   "execution_count": null,
   "id": "534fc33b",
   "metadata": {},
   "outputs": [],
   "source": [
    "add_two_obj(df['age'], b=10)"
   ]
  },
  {
   "cell_type": "code",
   "execution_count": null,
   "id": "0b2e0fa9",
   "metadata": {},
   "outputs": [],
   "source": [
    "# 시리즈 객체에 적용\n",
    "sr1 = df['age'].apply(add_10)               # n = df['age']의 모든 원소\n",
    "sr1.head()"
   ]
  },
  {
   "cell_type": "code",
   "execution_count": null,
   "id": "fc1ab3d1",
   "metadata": {},
   "outputs": [],
   "source": [
    "# 시리즈 객체와 숫자에 적용 : 2개의 인수(시리즈 + 숫자)\n",
    "sr2 = df['age'].apply(add_two_obj, b=10)    # a=df['age']의 모든 원소, b=10\n",
    "sr2.head()"
   ]
  },
  {
   "cell_type": "code",
   "execution_count": null,
   "id": "8059af48",
   "metadata": {},
   "outputs": [],
   "source": [
    "# 람다 함수 활용: 시리즈 객체에 적용\n",
    "sr3 = df['age'].apply(lambda x: add_10(x))  # x=df['age']\n",
    "sr3.head()"
   ]
  },
  {
   "cell_type": "code",
   "execution_count": null,
   "id": "cf860dac",
   "metadata": {},
   "outputs": [],
   "source": [
    "# 사용자 함수 정의\n",
    "def add_20(n):   # 10을 더하는 함수\n",
    "    return n + 20    "
   ]
  },
  {
   "cell_type": "code",
   "execution_count": null,
   "id": "bacfe75f",
   "metadata": {},
   "outputs": [],
   "source": [
    "df.head()"
   ]
  },
  {
   "cell_type": "code",
   "execution_count": null,
   "id": "d3c74bc7",
   "metadata": {},
   "outputs": [],
   "source": [
    "# 데이터프레임에 applymap()으로 add_10() 함수를 매핑 적용\n",
    "df_map = df.apply(add_20)   \n",
    "df_map.head()"
   ]
  },
  {
   "cell_type": "code",
   "execution_count": null,
   "id": "7f0b315b",
   "metadata": {},
   "outputs": [],
   "source": []
  },
  {
   "cell_type": "code",
   "execution_count": null,
   "id": "f99b1279",
   "metadata": {},
   "outputs": [],
   "source": [
    "# 사용자 함수 정의\n",
    "def missing_value(series):    # 시리즈를 인수로 전달\n",
    "    return series.isnull()    # 불린 시리즈를 반환"
   ]
  },
  {
   "cell_type": "code",
   "execution_count": null,
   "id": "19722e60",
   "metadata": {},
   "outputs": [],
   "source": [
    "df.tail()"
   ]
  },
  {
   "cell_type": "code",
   "execution_count": null,
   "id": "903c3327",
   "metadata": {},
   "outputs": [],
   "source": [
    "# 데이터프레임의 각 열을 인수로 전달하면 데이터프레임을 반환\n",
    "result = df.apply(missing_value, axis=1)  \n",
    "result.tail()"
   ]
  },
  {
   "cell_type": "code",
   "execution_count": null,
   "id": "33319313",
   "metadata": {},
   "outputs": [],
   "source": [
    "type(result)"
   ]
  },
  {
   "cell_type": "code",
   "execution_count": null,
   "id": "cc74a603",
   "metadata": {},
   "outputs": [],
   "source": [
    "# 사용자 함수 정의\n",
    "def min_max(x):    # 최대값 - 최소값\n",
    "    return x.max() - x.min()"
   ]
  },
  {
   "cell_type": "code",
   "execution_count": null,
   "id": "c9a477e3",
   "metadata": {},
   "outputs": [],
   "source": [
    "df.head()"
   ]
  },
  {
   "cell_type": "code",
   "execution_count": null,
   "id": "97b451ba",
   "metadata": {},
   "outputs": [],
   "source": [
    "# 데이터프레임의 각 열을 인수로 전달하면 시리즈를 반환\n",
    "result = df.apply(min_max)   #기본값 axis=0 \n",
    "result"
   ]
  },
  {
   "cell_type": "code",
   "execution_count": null,
   "id": "12185cf5",
   "metadata": {},
   "outputs": [],
   "source": [
    "# 데이터프레임의 각 열을 인수로 전달하면 시리즈를 반환\n",
    "result = df.apply(min_max, axis=1)   #기본값 axis=0 \n",
    "result"
   ]
  },
  {
   "cell_type": "code",
   "execution_count": null,
   "id": "7142306a",
   "metadata": {},
   "outputs": [],
   "source": [
    "type(result)"
   ]
  },
  {
   "cell_type": "code",
   "execution_count": null,
   "id": "ed05f150",
   "metadata": {},
   "outputs": [],
   "source": [
    "# 사용자 함수 정의\n",
    "def add_two_obj(a, b):    # 두 객체의 합\n",
    "    return a + b"
   ]
  },
  {
   "cell_type": "code",
   "execution_count": null,
   "id": "1ba6a429",
   "metadata": {},
   "outputs": [],
   "source": [
    "df.head()"
   ]
  },
  {
   "cell_type": "code",
   "execution_count": null,
   "id": "2c42063f",
   "metadata": {},
   "outputs": [],
   "source": [
    "# 데이터프레임의 2개 열을 선택하여 적용\n",
    "# x=df, a=df['age'], b=df['ten']\n",
    "df['add'] = df.apply(lambda x: add_two_obj(x['age'], x['ten']), axis=1)   \n",
    "df.head()"
   ]
  },
  {
   "cell_type": "code",
   "execution_count": null,
   "id": "b2da0af0",
   "metadata": {},
   "outputs": [],
   "source": []
  },
  {
   "cell_type": "code",
   "execution_count": null,
   "id": "a0b8510f",
   "metadata": {},
   "outputs": [],
   "source": [
    "# 라이브러리 불러오기\n",
    "import seaborn as sns\n",
    "\n",
    "# titanic 데이터셋의 부분을 선택하여 데이터프레임 만들기\n",
    "titanic = sns.load_dataset('titanic')\n",
    "df = titanic.loc[0:4, 'survived':'age']\n",
    "df"
   ]
  },
  {
   "cell_type": "code",
   "execution_count": null,
   "id": "a09e950c",
   "metadata": {},
   "outputs": [],
   "source": [
    "# 열 이름의 리스트 만들기\n",
    "columns = list(df.columns.values)   #기존 열 이름\n",
    "columns"
   ]
  },
  {
   "cell_type": "code",
   "execution_count": null,
   "id": "fcbd953f",
   "metadata": {},
   "outputs": [],
   "source": [
    "# 열 이름을 알파벳 순으로 정렬하기\n",
    "columns_sorted = sorted(columns, reverse=True)    #알파벳 순으로 정렬\n",
    "columns_sorted"
   ]
  },
  {
   "cell_type": "code",
   "execution_count": null,
   "id": "6f4a2105",
   "metadata": {},
   "outputs": [],
   "source": [
    "df_sorted = df[columns_sorted]\n",
    "df_sorted"
   ]
  },
  {
   "cell_type": "code",
   "execution_count": null,
   "id": "70d57491",
   "metadata": {},
   "outputs": [],
   "source": [
    "# 열 이름을 기존 순서의 정반대 역순으로 정렬하기\n",
    "columns_reversed = list(reversed(columns))  \n",
    "columns_reversed"
   ]
  },
  {
   "cell_type": "code",
   "execution_count": null,
   "id": "40b71062",
   "metadata": {},
   "outputs": [],
   "source": [
    "df_reversed = df[columns_reversed]\n",
    "df_reversed"
   ]
  },
  {
   "cell_type": "code",
   "execution_count": null,
   "id": "3eace3bf",
   "metadata": {},
   "outputs": [],
   "source": [
    "# 열 이름을 사용자가 정의한 임의의 순서로 재배치하기\n",
    "columns_customed = ['pclass', 'sex', 'age', 'survived']  \n",
    "df_customed = df[columns_customed]\n",
    "df_customed"
   ]
  },
  {
   "cell_type": "code",
   "execution_count": null,
   "id": "c37113b2",
   "metadata": {},
   "outputs": [],
   "source": [
    "# 라이브러리 불러오기\n",
    "import pandas as pd"
   ]
  },
  {
   "cell_type": "code",
   "execution_count": null,
   "id": "2a4ed9f2",
   "metadata": {},
   "outputs": [],
   "source": [
    "# 데이터셋 가져오기\n",
    "df = pd.read_excel('data/주가데이터.xlsx', engine= 'openpyxl')\n",
    "df.head()"
   ]
  },
  {
   "cell_type": "code",
   "execution_count": null,
   "id": "01f99a9f",
   "metadata": {},
   "outputs": [],
   "source": [
    "df.dtypes"
   ]
  },
  {
   "cell_type": "code",
   "execution_count": null,
   "id": "bd63dc00",
   "metadata": {},
   "outputs": [],
   "source": [
    "# 연, 월, 일 데이터 분리하기\n",
    "df['연월일'] = df['연월일'].astype('str')   # 문자열 메소드 사용을 자료형 변경\n",
    "df.head()"
   ]
  },
  {
   "cell_type": "code",
   "execution_count": null,
   "id": "83ba68c5",
   "metadata": {},
   "outputs": [],
   "source": [
    "df.info()"
   ]
  },
  {
   "cell_type": "code",
   "execution_count": null,
   "id": "07fd67bc",
   "metadata": {},
   "outputs": [],
   "source": [
    "df['연월일'].str.split(\"-\")"
   ]
  },
  {
   "cell_type": "code",
   "execution_count": null,
   "id": "0a995fb9",
   "metadata": {},
   "outputs": [],
   "source": [
    "dates = df['연월일'].str.split('-')        # 문자열을 split() 메서드로 분리\n",
    "dates.head()"
   ]
  },
  {
   "cell_type": "code",
   "execution_count": null,
   "id": "216b1826",
   "metadata": {},
   "outputs": [],
   "source": [
    "# 분리된 정보를 각각 새로운 열에 담아서 df에 추가하기\n",
    "df['연'] = dates.str.get(0)     # dates 변수의 원소 리스트의 0번째 인덱스 값\n",
    "df['월'] = dates.str.get(1)     # dates 변수의 원소 리스트의 1번째 인덱스 값 \n",
    "df['일'] = dates.str.get(2)     # dates 변수의 원소 리스트의 2번째 인덱스 값\n",
    "df.head()"
   ]
  },
  {
   "cell_type": "code",
   "execution_count": null,
   "id": "5cb05033",
   "metadata": {},
   "outputs": [],
   "source": []
  },
  {
   "cell_type": "code",
   "execution_count": null,
   "id": "c40f45bb",
   "metadata": {},
   "outputs": [],
   "source": [
    "# 라이브러리 불러오기\n",
    "import seaborn as sns\n",
    "\n",
    "# titanic 데이터셋 로딩\n",
    "titanic = sns.load_dataset('titanic')\n",
    "titanic"
   ]
  },
  {
   "cell_type": "code",
   "execution_count": null,
   "id": "b841f702",
   "metadata": {},
   "outputs": [],
   "source": [
    "titanic[titanic['age'] >= 10]"
   ]
  },
  {
   "cell_type": "code",
   "execution_count": null,
   "id": "0ff4c019",
   "metadata": {},
   "outputs": [],
   "source": [
    "# 나이가 10대(10~19세)인 승객만 따로 선택\n",
    "mask1 = (titanic.age >= 10) & (titanic.age < 20)\n",
    "mask1"
   ]
  },
  {
   "cell_type": "code",
   "execution_count": null,
   "id": "e8cfc85a",
   "metadata": {},
   "outputs": [],
   "source": [
    "df_teenage = titanic.loc[mask1, :]\n",
    "df_teenage"
   ]
  },
  {
   "cell_type": "code",
   "execution_count": null,
   "id": "1cba4fae",
   "metadata": {},
   "outputs": [],
   "source": [
    "# 나이가 10세 미만(0~9세)이고 여성인 승객만 따로 선택\n",
    "mask2 = (titanic.age < 10) & (titanic.sex == 'female')"
   ]
  },
  {
   "cell_type": "code",
   "execution_count": null,
   "id": "60c0e5a0",
   "metadata": {},
   "outputs": [],
   "source": [
    "df_female_under10 = titanic.loc[mask2, :]\n",
    "df_female_under10"
   ]
  },
  {
   "cell_type": "code",
   "execution_count": null,
   "id": "47b50916",
   "metadata": {},
   "outputs": [],
   "source": [
    "# 나이가 10세 미만(0~9세) 또는 60세 이상인 승객의 age, sex, alone 열만 선택\n",
    "mask3 = (titanic.age < 10) | (titanic.age >= 60)\n",
    "df_under10_morethan60 = titanic.loc[mask3, ['age', 'sex', 'alone']]\n",
    "df_under10_morethan60"
   ]
  },
  {
   "cell_type": "code",
   "execution_count": null,
   "id": "652919f6",
   "metadata": {},
   "outputs": [],
   "source": []
  },
  {
   "cell_type": "code",
   "execution_count": null,
   "id": "8889da47",
   "metadata": {},
   "outputs": [],
   "source": [
    "# IPyhton 디스플레이 설정 변경 - 출력할 최대 열의 개수\n",
    "pd.set_option('display.max_columns', 100)      "
   ]
  },
  {
   "cell_type": "code",
   "execution_count": null,
   "id": "2b20e7a7",
   "metadata": {},
   "outputs": [],
   "source": [
    "# 함께 탑승한 형제 또는 배우자의 수가 3, 4, 5인 승객만 따로 추출 - 불린 인덱싱\n",
    "mask3 = ( titanic['sibsp'] == 3 )\n",
    "mask4 = ( titanic['sibsp'] == 4 )\n",
    "mask5 = ( titanic['sibsp'] == 5 )"
   ]
  },
  {
   "cell_type": "code",
   "execution_count": null,
   "id": "1c377b06",
   "metadata": {},
   "outputs": [],
   "source": [
    "df_boolean = titanic[mask3 | mask4 | mask5]\n",
    "df_boolean"
   ]
  },
  {
   "cell_type": "code",
   "execution_count": null,
   "id": "2538773f",
   "metadata": {},
   "outputs": [],
   "source": [
    "# isin() 메서드 활용하여 동일한 조건으로 추출\n",
    "isin_filter = titanic['sibsp'].isin([3, 4, 5])\n",
    "df_isin = titanic[isin_filter]\n",
    "df_isin"
   ]
  },
  {
   "cell_type": "code",
   "execution_count": null,
   "id": "52fcdbaa",
   "metadata": {},
   "outputs": [],
   "source": []
  },
  {
   "cell_type": "code",
   "execution_count": null,
   "id": "4b158685",
   "metadata": {},
   "outputs": [],
   "source": [
    "# 라이브러리 불러오기\n",
    "import pandas as pd"
   ]
  },
  {
   "cell_type": "code",
   "execution_count": null,
   "id": "bb0264db",
   "metadata": {},
   "outputs": [],
   "source": [
    "# 데이터프레임 만들기\n",
    "df1 = pd.DataFrame({'a': ['a0', 'a1', 'a2', 'a3'],\n",
    "                    'b': ['b0', 'b1', 'b2', 'b3'],\n",
    "                    'c': ['c0', 'c1', 'c2', 'c3']},\n",
    "                    index=[0, 1, 2, 3])\n",
    "df1"
   ]
  },
  {
   "cell_type": "code",
   "execution_count": null,
   "id": "9f8269fb",
   "metadata": {},
   "outputs": [],
   "source": [
    "df2 = pd.DataFrame({'a': ['a2', 'a3', 'a4', 'a5'],\n",
    "                    'b': ['b2', 'b3', 'b4', 'b5'],\n",
    "                    'c': ['c2', 'c3', 'c4', 'c5'],\n",
    "                    'd': ['d2', 'd3', 'd4', 'd5']},\n",
    "                    index=[2, 3, 4, 5])\n",
    "df2"
   ]
  },
  {
   "cell_type": "code",
   "execution_count": null,
   "id": "99b0d194",
   "metadata": {},
   "outputs": [],
   "source": [
    "# 2개의 데이터프레임을 위 아래 행 방향으로 이어 붙이듯 연결하기 \n",
    "result1 = pd.concat([df1, df2])\n",
    "result1"
   ]
  },
  {
   "cell_type": "code",
   "execution_count": null,
   "id": "b7e4f1cd",
   "metadata": {},
   "outputs": [],
   "source": [
    "# ignore_index=True 옵션 설정하기 \n",
    "result2 = pd.concat([df1, df2], ignore_index=True)\n",
    "result2"
   ]
  },
  {
   "cell_type": "code",
   "execution_count": null,
   "id": "0444194c",
   "metadata": {},
   "outputs": [],
   "source": [
    "# 2개의 데이터프레임을 좌우 열 방향으로 이어 붙이듯 연결하기 \n",
    "result3 = pd.concat([df1, df2], axis=1)\n",
    "result3"
   ]
  },
  {
   "cell_type": "code",
   "execution_count": null,
   "id": "8c76ced9",
   "metadata": {},
   "outputs": [],
   "source": [
    "# join='inner' 옵션 적용하기(교집합)\n",
    "result3_in = pd.concat([df1, df2], axis=1, join='inner')\n",
    "result3_in"
   ]
  },
  {
   "cell_type": "code",
   "execution_count": null,
   "id": "47d34207",
   "metadata": {},
   "outputs": [],
   "source": [
    "# 시리즈 만들기\n",
    "sr1 = pd.Series(['e0', 'e1', 'e2', 'e3'], name='e')\n",
    "sr2 = pd.Series(['f0', 'f1', 'f2'], name='f', index=[3, 4, 5])\n",
    "sr3 = pd.Series(['g0', 'g1', 'g2', 'g3'], name='g')"
   ]
  },
  {
   "cell_type": "code",
   "execution_count": null,
   "id": "fe54112e",
   "metadata": {},
   "outputs": [],
   "source": [
    "sr1"
   ]
  },
  {
   "cell_type": "code",
   "execution_count": null,
   "id": "09f4340d",
   "metadata": {},
   "outputs": [],
   "source": [
    "df1"
   ]
  },
  {
   "cell_type": "code",
   "execution_count": null,
   "id": "57f80f34",
   "metadata": {},
   "outputs": [],
   "source": [
    "# df1과 sr1을 좌우 열 방향으로 연결하기\n",
    "result4 = pd.concat([df1, sr1], axis=1)\n",
    "result4"
   ]
  },
  {
   "cell_type": "code",
   "execution_count": null,
   "id": "d0bb2379",
   "metadata": {},
   "outputs": [],
   "source": [
    "df2"
   ]
  },
  {
   "cell_type": "code",
   "execution_count": null,
   "id": "cf9f7635",
   "metadata": {},
   "outputs": [],
   "source": [
    "sr2"
   ]
  },
  {
   "cell_type": "code",
   "execution_count": null,
   "id": "4042f3bc",
   "metadata": {},
   "outputs": [],
   "source": [
    "# df2과 sr2을 좌우 열 방향으로 연결하기\n",
    "result5 = pd.concat([df2, sr2], axis=1, sort=True)\n",
    "result5"
   ]
  },
  {
   "cell_type": "code",
   "execution_count": null,
   "id": "ca7e5baa",
   "metadata": {},
   "outputs": [],
   "source": [
    "sr3"
   ]
  },
  {
   "cell_type": "code",
   "execution_count": null,
   "id": "0dd36555",
   "metadata": {},
   "outputs": [],
   "source": [
    "# sr1과 sr3을 좌우 열 방향으로 연결하기\n",
    "result6 = pd.concat([sr1, sr3], axis=1)\n",
    "result6"
   ]
  },
  {
   "cell_type": "code",
   "execution_count": null,
   "id": "24ccba38",
   "metadata": {},
   "outputs": [],
   "source": [
    "result7 = pd.concat([sr1, sr3], axis=0)\n",
    "result7"
   ]
  },
  {
   "cell_type": "code",
   "execution_count": null,
   "id": "fef131df",
   "metadata": {},
   "outputs": [],
   "source": []
  },
  {
   "cell_type": "code",
   "execution_count": null,
   "id": "17854273",
   "metadata": {},
   "outputs": [],
   "source": [
    "# 라이브러리 불러오기\n",
    "import pandas as pd"
   ]
  },
  {
   "cell_type": "code",
   "execution_count": null,
   "id": "a4d29a78",
   "metadata": {},
   "outputs": [],
   "source": [
    "# IPyhton 디스플레이 설정 변경 \n",
    "pd.set_option('display.max_columns', 10)                  # 출력할 최대 열의 개수\n",
    "pd.set_option('display.max_colwidth', 20)                 # 출력할 열의 너비\n",
    "pd.set_option('display.unicode.east_asian_width', True)   # 유니코드 사용 너비 조정"
   ]
  },
  {
   "cell_type": "code",
   "execution_count": null,
   "id": "66bdb47d",
   "metadata": {},
   "outputs": [],
   "source": [
    "# 주식 데이터를 가져와서 데이터프레임 만들기\n",
    "df1 = pd.read_excel('data/stock price.xlsx', engine= 'openpyxl')\n",
    "df1"
   ]
  },
  {
   "cell_type": "code",
   "execution_count": null,
   "id": "da6417cb",
   "metadata": {},
   "outputs": [],
   "source": [
    "df2 = pd.read_excel('data/stock valuation.xlsx', engine= 'openpyxl')\n",
    "df2"
   ]
  },
  {
   "cell_type": "code",
   "execution_count": null,
   "id": "2eb587b8",
   "metadata": {},
   "outputs": [],
   "source": [
    "# 데이터프레임 합치기 - 교집합\n",
    "merge_inner = pd.merge(df1, df2)\n",
    "merge_inner"
   ]
  },
  {
   "cell_type": "code",
   "execution_count": null,
   "id": "756b2d42",
   "metadata": {},
   "outputs": [],
   "source": [
    "# 데이터프레임 합치기 - 합집합\n",
    "merge_outer = pd.merge(df1, df2, how='outer', on='id')\n",
    "merge_outer"
   ]
  },
  {
   "cell_type": "code",
   "execution_count": null,
   "id": "a5454de6",
   "metadata": {},
   "outputs": [],
   "source": [
    "# 데이터프레임 합치기 - 왼쪽 데이터프레임 기준, 키 값 분리\n",
    "merge_left = pd.merge(df1, df2, how='left', left_on='stock_name', right_on='name')\n",
    "merge_left"
   ]
  },
  {
   "cell_type": "code",
   "execution_count": null,
   "id": "25a0a2bd",
   "metadata": {},
   "outputs": [],
   "source": [
    "# 데이터프레임 합치기 - 오른쪽 데이터프레임 기준, 키 값 분리\n",
    "merge_right = pd.merge(df1, df2, how='right', left_on='stock_name', right_on='name')\n",
    "merge_right"
   ]
  },
  {
   "cell_type": "code",
   "execution_count": null,
   "id": "ae945a13",
   "metadata": {},
   "outputs": [],
   "source": [
    "df1['price'] < 50000"
   ]
  },
  {
   "cell_type": "code",
   "execution_count": null,
   "id": "f8fe0b40",
   "metadata": {},
   "outputs": [],
   "source": [
    "# 불린 인덱싱과 결합하여 원하는 데이터 찾기\n",
    "price = df1[df1['price'] < 50000]\n",
    "price"
   ]
  },
  {
   "cell_type": "code",
   "execution_count": null,
   "id": "252681c4",
   "metadata": {},
   "outputs": [],
   "source": [
    "df2"
   ]
  },
  {
   "cell_type": "code",
   "execution_count": null,
   "id": "bf77436d",
   "metadata": {},
   "outputs": [],
   "source": [
    "value = pd.merge(price, df2, how='left', left_on='stock_name', right_on='name')\n",
    "value"
   ]
  },
  {
   "cell_type": "code",
   "execution_count": null,
   "id": "4177326e",
   "metadata": {},
   "outputs": [],
   "source": []
  },
  {
   "cell_type": "code",
   "execution_count": null,
   "id": "8ee602e5",
   "metadata": {},
   "outputs": [],
   "source": [
    "# 라이브러리 불러오기\n",
    "import pandas as pd\n",
    "import seaborn as sns"
   ]
  },
  {
   "cell_type": "code",
   "execution_count": null,
   "id": "419f35f8",
   "metadata": {},
   "outputs": [],
   "source": [
    "# titanic 데이터셋에서 age, sex 등 5개 열을 선택하여 데이터프레임 만들기\n",
    "titanic = sns.load_dataset('titanic')\n",
    "df = titanic.loc[:, ['age','sex', 'class', 'fare', 'survived']]"
   ]
  },
  {
   "cell_type": "code",
   "execution_count": null,
   "id": "367dc6d8",
   "metadata": {},
   "outputs": [],
   "source": [
    "print('승객 수:', len(df))"
   ]
  },
  {
   "cell_type": "code",
   "execution_count": null,
   "id": "d0741044",
   "metadata": {},
   "outputs": [],
   "source": [
    "df"
   ]
  },
  {
   "cell_type": "code",
   "execution_count": null,
   "id": "b46d9aca",
   "metadata": {},
   "outputs": [],
   "source": [
    "df['class']"
   ]
  },
  {
   "cell_type": "code",
   "execution_count": null,
   "id": "caa4e603",
   "metadata": {},
   "outputs": [],
   "source": [
    "# class 열을 기준으로 분할\n",
    "grouped = df.groupby(['class']) \n",
    "grouped"
   ]
  },
  {
   "cell_type": "code",
   "execution_count": null,
   "id": "8ff4095f",
   "metadata": {},
   "outputs": [],
   "source": [
    "# 그룹 객체를 iteration으로 출력: head() 메소드로 첫 5행만을 출력\n",
    "for key, group in grouped:\n",
    "    print('* key :', key)\n",
    "    print('* number :', len(group))    \n",
    "    print(group.head())\n",
    "    print('\\n')"
   ]
  },
  {
   "cell_type": "code",
   "execution_count": null,
   "id": "1e650f10",
   "metadata": {},
   "outputs": [],
   "source": [
    "# 연산 메소드 적용\n",
    "average = grouped.mean()\n",
    "average"
   ]
  },
  {
   "cell_type": "code",
   "execution_count": null,
   "id": "4cdfcf8c",
   "metadata": {},
   "outputs": [],
   "source": [
    "# 개별 그룹 선택하기\n",
    "group3 = grouped.get_group('Third')\n",
    "group3"
   ]
  },
  {
   "cell_type": "code",
   "execution_count": null,
   "id": "1e0dde74",
   "metadata": {},
   "outputs": [],
   "source": [
    "group3.head()"
   ]
  },
  {
   "cell_type": "code",
   "execution_count": null,
   "id": "22005f23",
   "metadata": {},
   "outputs": [],
   "source": [
    "df['sex']"
   ]
  },
  {
   "cell_type": "code",
   "execution_count": null,
   "id": "3bf710fe",
   "metadata": {},
   "outputs": [],
   "source": [
    "# class 열, sex 열을 기준으로 분할\n",
    "grouped_two = df.groupby(['class', 'sex']) \n",
    "grouped_two"
   ]
  },
  {
   "cell_type": "code",
   "execution_count": null,
   "id": "4851ea88",
   "metadata": {},
   "outputs": [],
   "source": [
    "# grouped_two 그룹 객체를 iteration으로 출력\n",
    "for key, group in grouped_two:\n",
    "    print('* key :', key)\n",
    "    print('* number :', len(group))    \n",
    "    print(group.head())\n",
    "    print('\\n')    "
   ]
  },
  {
   "cell_type": "code",
   "execution_count": null,
   "id": "ad0b2424",
   "metadata": {},
   "outputs": [],
   "source": [
    "# grouped_two 그룹 객체에 연산 메소드 적용\n",
    "average_two = grouped_two.mean()\n",
    "average_two"
   ]
  },
  {
   "cell_type": "code",
   "execution_count": null,
   "id": "887dd2bb",
   "metadata": {},
   "outputs": [],
   "source": [
    "type(average_two)"
   ]
  },
  {
   "cell_type": "code",
   "execution_count": null,
   "id": "84aa0732",
   "metadata": {},
   "outputs": [],
   "source": [
    "# grouped_two 그룹 객체에서 개별 그룹 선택하기\n",
    "group3f = grouped_two.get_group(('Third','female'))\n",
    "group3f"
   ]
  },
  {
   "cell_type": "code",
   "execution_count": null,
   "id": "25198c50",
   "metadata": {},
   "outputs": [],
   "source": []
  },
  {
   "cell_type": "code",
   "execution_count": null,
   "id": "7520e6f6",
   "metadata": {},
   "outputs": [],
   "source": [
    "# 라이브러리 불러오기\n",
    "import pandas as pd\n",
    "import seaborn as sns\n",
    "\n",
    "# titanic 데이터셋에서 age, sex 등 5개 열을 선택하여 데이터프레임 만들기\n",
    "titanic = sns.load_dataset('titanic')\n",
    "df = titanic.loc[:, ['age','sex', 'class', 'fare', 'survived']]\n",
    "\n",
    "# class 열을 기준으로 분할\n",
    "grouped = df.groupby(['class']) \n",
    "grouped"
   ]
  },
  {
   "cell_type": "code",
   "execution_count": null,
   "id": "ea132153",
   "metadata": {},
   "outputs": [],
   "source": [
    "# 각 그룹에 대한 모든 열의 표준편차를 집계하여 데이터프레임으로 반환\n",
    "std_all = grouped.std()  \n",
    "std_all"
   ]
  },
  {
   "cell_type": "code",
   "execution_count": null,
   "id": "e11f8788",
   "metadata": {},
   "outputs": [],
   "source": [
    "type(std_all)"
   ]
  },
  {
   "cell_type": "code",
   "execution_count": null,
   "id": "a5105907",
   "metadata": {},
   "outputs": [],
   "source": [
    "grouped['fare'].std()"
   ]
  },
  {
   "cell_type": "code",
   "execution_count": null,
   "id": "deb6db05",
   "metadata": {},
   "outputs": [],
   "source": [
    "# 각 그룹에 대한 fare 열의 표준편차를 집계하여 시리즈로 반환 \n",
    "std_fare = grouped.fare.std()  \n",
    "std_fare"
   ]
  },
  {
   "cell_type": "code",
   "execution_count": null,
   "id": "bb06c60f",
   "metadata": {},
   "outputs": [],
   "source": [
    "type(std_fare)"
   ]
  },
  {
   "cell_type": "code",
   "execution_count": null,
   "id": "96b34a19",
   "metadata": {},
   "outputs": [],
   "source": [
    "# 그룹 객체에 agg() 메소드 적용 - 사용자 정의 함수를 인수로 전달\n",
    "def min_max(x):    # 최대값 - 최소값\n",
    "    return x.max() - x.min()"
   ]
  },
  {
   "cell_type": "code",
   "execution_count": null,
   "id": "88ef11e4",
   "metadata": {},
   "outputs": [],
   "source": [
    "# 각 그룹의 최대값과 최소값의 차이를 계산하여 그룹별로 집계\n",
    "agg_minmax = grouped.agg(min_max) \n",
    "agg_minmax"
   ]
  },
  {
   "cell_type": "code",
   "execution_count": null,
   "id": "3bc16e64",
   "metadata": {},
   "outputs": [],
   "source": [
    "# 여러 함수를 각 열에 동일하게 적용하여 집계\n",
    "agg_all = grouped.agg(['min', 'max'])\n",
    "agg_all"
   ]
  },
  {
   "cell_type": "code",
   "execution_count": null,
   "id": "4669e304",
   "metadata": {},
   "outputs": [],
   "source": [
    "# 각 열마다 다른 함수를 적용하여 집계\n",
    "agg_sep = grouped.agg({'fare':['min', 'max'], 'age':'mean'})  \n",
    "agg_sep.head()"
   ]
  },
  {
   "cell_type": "code",
   "execution_count": null,
   "id": "4e5b1553",
   "metadata": {},
   "outputs": [],
   "source": []
  },
  {
   "cell_type": "code",
   "execution_count": null,
   "id": "42bbe4ba",
   "metadata": {},
   "outputs": [],
   "source": [
    "# class 열을 기준으로 분할\n",
    "grouped = df.groupby(['class']) \n",
    "grouped"
   ]
  },
  {
   "cell_type": "code",
   "execution_count": null,
   "id": "9acd8ec9",
   "metadata": {},
   "outputs": [],
   "source": [
    "# 그룹별 age 열의 평균 집계 연산\n",
    "age_mean = grouped['age'].mean()\n",
    "age_mean"
   ]
  },
  {
   "cell_type": "code",
   "execution_count": null,
   "id": "43a9d1ca",
   "metadata": {},
   "outputs": [],
   "source": [
    "# 그룹별 age 열의 표준편차 집계 연산\n",
    "age_std = grouped['age'].std()\n",
    "age_std"
   ]
  },
  {
   "cell_type": "code",
   "execution_count": null,
   "id": "5ca7fdb1",
   "metadata": {},
   "outputs": [],
   "source": [
    "# 그룹 객체의 age 열을 iteration으로 z-score를 계산하여 출력\n",
    "for key, group in grouped.age:\n",
    "    group_zscore = (group - age_mean.loc[key]) / age_std.loc[key]         \n",
    "    print('* origin :', key)\n",
    "    print(group_zscore.head(3))  # 각 그룹의 첫 3개의 행을 출력\n",
    "    print('\\n')"
   ]
  },
  {
   "cell_type": "code",
   "execution_count": null,
   "id": "8656aefd",
   "metadata": {},
   "outputs": [],
   "source": [
    "# z-score를 계산하는 사용자 함수 정의\n",
    "def z_score(x): \n",
    "    return (x - x.mean()) / x.std()"
   ]
  },
  {
   "cell_type": "code",
   "execution_count": null,
   "id": "9101919c",
   "metadata": {},
   "outputs": [],
   "source": [
    "# transform() 메소드를 이용하여 age 열의 데이터를 z-score로 변환\n",
    "age_zscore = grouped.age.transform(z_score)  \n",
    "age_zscore"
   ]
  },
  {
   "cell_type": "code",
   "execution_count": null,
   "id": "d484f1ef",
   "metadata": {},
   "outputs": [],
   "source": [
    "age_zscore.loc[[1, 9, 0]]     # 1, 2, 3 그룹의 첫 데이터 확인 (변환 결과)"
   ]
  },
  {
   "cell_type": "code",
   "execution_count": null,
   "id": "4c48b0dc",
   "metadata": {},
   "outputs": [],
   "source": [
    "len(age_zscore)              # transform 메소드 반환 값의 길이"
   ]
  },
  {
   "cell_type": "code",
   "execution_count": null,
   "id": "58eb7bec",
   "metadata": {},
   "outputs": [],
   "source": [
    "age_zscore.loc[0:9]          # transform 메소드 반환 값 출력 (첫 10개)"
   ]
  },
  {
   "cell_type": "code",
   "execution_count": null,
   "id": "62d4b58f",
   "metadata": {},
   "outputs": [],
   "source": [
    "type(age_zscore)             # transform 메소드 반환 객체의 자료형"
   ]
  },
  {
   "cell_type": "code",
   "execution_count": null,
   "id": "fbd8101c",
   "metadata": {},
   "outputs": [],
   "source": []
  },
  {
   "cell_type": "code",
   "execution_count": null,
   "id": "1fb0c361",
   "metadata": {},
   "outputs": [],
   "source": [
    "# 라이브러리 불러오기\n",
    "import pandas as pd\n",
    "import seaborn as sns\n",
    "\n",
    "# titanic 데이터셋에서 age, sex 등 5개 열을 선택하여 데이터프레임 만들기\n",
    "titanic = sns.load_dataset('titanic')\n",
    "df = titanic.loc[:, ['age','sex', 'class', 'fare', 'survived']]\n",
    "\n",
    "# class 열을 기준으로 분할\n",
    "grouped = df.groupby(['class']) \n",
    "grouped"
   ]
  },
  {
   "cell_type": "code",
   "execution_count": null,
   "id": "3cdd0af1",
   "metadata": {},
   "outputs": [],
   "source": [
    "# 데이터 개수가 200개 이상인 그룹만을 필터링하여 데이터프레임으로 반환\n",
    "grouped_filter = grouped.filter(lambda x: len(x) >= 200)  \n",
    "grouped_filter"
   ]
  },
  {
   "cell_type": "code",
   "execution_count": null,
   "id": "009926bd",
   "metadata": {},
   "outputs": [],
   "source": [
    "type(grouped_filter)"
   ]
  },
  {
   "cell_type": "code",
   "execution_count": null,
   "id": "bd6130f7",
   "metadata": {},
   "outputs": [],
   "source": [
    "# age 열의 평균이 30보다 작은 그룹만을 필터링하여 데이터프레임으로 반환\n",
    "age_filter = grouped.filter(lambda x: x.age.mean() < 30)  \n",
    "age_filter"
   ]
  },
  {
   "cell_type": "code",
   "execution_count": null,
   "id": "108fd2a2",
   "metadata": {},
   "outputs": [],
   "source": [
    "type(age_filter)"
   ]
  },
  {
   "cell_type": "code",
   "execution_count": null,
   "id": "759508ba",
   "metadata": {},
   "outputs": [],
   "source": [
    "# 집계 : 각 그룹별 요약 통계정보를 집계\n",
    "agg_grouped = grouped.apply(lambda x: x.describe())   \n",
    "agg_grouped"
   ]
  },
  {
   "cell_type": "code",
   "execution_count": null,
   "id": "07b12e7b",
   "metadata": {},
   "outputs": [],
   "source": [
    "# z-score를 계산하는 사용자 함수 정의\n",
    "def z_score(x):                          \n",
    "    return (x - x.mean()) / x.std()"
   ]
  },
  {
   "cell_type": "code",
   "execution_count": null,
   "id": "5c5214e6",
   "metadata": {},
   "outputs": [],
   "source": [
    "age_zscore = grouped.age.apply(z_score)   #기본값 axis=0 \n",
    "age_zscore"
   ]
  },
  {
   "cell_type": "code",
   "execution_count": null,
   "id": "e9f2b81a",
   "metadata": {},
   "outputs": [],
   "source": [
    "# 필터링 : age 열의 데이터 평균이 30보다 작은 그룹만을 필터링하여 출력\n",
    "age_filter = grouped.apply(lambda x: x.age.mean() < 30)  \n",
    "age_filter"
   ]
  },
  {
   "cell_type": "code",
   "execution_count": null,
   "id": "946b8e59",
   "metadata": {},
   "outputs": [],
   "source": [
    "for x in age_filter.index:\n",
    "    if age_filter[x]==True:\n",
    "        age_filter_df = grouped.get_group(x)\n",
    "        print(age_filter_df.head())\n",
    "        print('\\n')"
   ]
  },
  {
   "cell_type": "code",
   "execution_count": null,
   "id": "70a720fc",
   "metadata": {},
   "outputs": [],
   "source": []
  },
  {
   "cell_type": "code",
   "execution_count": null,
   "id": "c1d8859b",
   "metadata": {},
   "outputs": [],
   "source": [
    "# 라이브러리 불러오기\n",
    "import pandas as pd\n",
    "import seaborn as sns\n",
    "\n",
    "# titanic 데이터셋에서 age, sex 등 5개 열을 선택하여 데이터프레임 만들기\n",
    "titanic = sns.load_dataset('titanic')\n",
    "df = titanic.loc[:, ['age','sex', 'class', 'fare', 'survived']]\n",
    "\n",
    "# class 열, sex 열을 기준으로 분할\n",
    "grouped = df.groupby(['class', 'sex'])  \n",
    "grouped"
   ]
  },
  {
   "cell_type": "code",
   "execution_count": null,
   "id": "46e6b971",
   "metadata": {},
   "outputs": [],
   "source": [
    "# 그룹 객체에 연산 메서드 적용\n",
    "gdf = grouped.mean()\n",
    "gdf"
   ]
  },
  {
   "cell_type": "code",
   "execution_count": null,
   "id": "69029a18",
   "metadata": {},
   "outputs": [],
   "source": [
    "type(gdf)"
   ]
  },
  {
   "cell_type": "code",
   "execution_count": null,
   "id": "8ab75065",
   "metadata": {},
   "outputs": [],
   "source": [
    "# class 값이 First인 행을 선택하여 출력\n",
    "gdf.loc['First']"
   ]
  },
  {
   "cell_type": "code",
   "execution_count": null,
   "id": "511008a9",
   "metadata": {},
   "outputs": [],
   "source": [
    "# class 값이 First이고, sex 값이 female인 행을 선택하여 출력\n",
    "gdf.loc[('First', 'female')]"
   ]
  },
  {
   "cell_type": "code",
   "execution_count": null,
   "id": "04ff8ecd",
   "metadata": {},
   "outputs": [],
   "source": [
    "# sex 값이 male인 행을 선택하여 출력\n",
    "gdf.xs('male', level='sex')"
   ]
  },
  {
   "cell_type": "code",
   "execution_count": null,
   "id": "f2f32992",
   "metadata": {},
   "outputs": [],
   "source": [
    "# sex 값이 male인 행을 선택하여 출력\n",
    "gdf.xs('Third', level='class')"
   ]
  },
  {
   "cell_type": "code",
   "execution_count": null,
   "id": "b054b446",
   "metadata": {},
   "outputs": [],
   "source": []
  },
  {
   "cell_type": "code",
   "execution_count": null,
   "id": "cecfefe1",
   "metadata": {},
   "outputs": [],
   "source": [
    "# 라이브러리 불러오기\n",
    "import pandas as pd\n",
    "import seaborn as sns\n",
    "\n",
    "# IPyhton 디스플레이 설정 변경 \n",
    "pd.set_option('display.max_columns', 10)    # 출력할 최대 열의 개수\n",
    "pd.set_option('display.max_colwidth', 20)    # 출력할 열의 너비\n",
    "\n",
    "# titanic 데이터셋에서 age, sex 등 5개 열을 선택하여 데이터프레임 만들기\n",
    "titanic = sns.load_dataset('titanic')\n",
    "df = titanic.loc[:, ['age','sex', 'class', 'fare', 'survived']]\n",
    "df"
   ]
  },
  {
   "cell_type": "code",
   "execution_count": null,
   "id": "70e94d5d",
   "metadata": {},
   "outputs": [],
   "source": [
    "# 행, 열, 값, 집계에 사용할 열을 1개씩 지정 - 평균 집계\n",
    "pdf1 = pd.pivot_table(df,              # 피벗할 데이터프레임\n",
    "                     index='class',    # 행 위치에 들어갈 열\n",
    "                     columns='sex',    # 열 위치에 들어갈 열\n",
    "                     values='age',     # 데이터로 사용할 열\n",
    "                     aggfunc='mean')   # 데이터 집계 함수\n",
    "pdf1"
   ]
  },
  {
   "cell_type": "code",
   "execution_count": null,
   "id": "16e80503",
   "metadata": {},
   "outputs": [],
   "source": [
    "df.groupby(['class','sex'])['age'].mean().to_frame()"
   ]
  },
  {
   "cell_type": "code",
   "execution_count": null,
   "id": "8da75488",
   "metadata": {},
   "outputs": [],
   "source": [
    "# 값에 적용하는 집계 함수를 2개 이상 지정 가능 - 생존율, 생존자 수 집계\n",
    "pdf2 = pd.pivot_table(df,                       # 피벗할 데이터프레임\n",
    "                     index='class',             # 행 위치에 들어갈 열\n",
    "                     columns='sex',             # 열 위치에 들어갈 열\n",
    "                     values='survived',         # 데이터로 사용할 열\n",
    "                     aggfunc=['mean', 'sum'])   # 데이터 집계 함수\n",
    "pdf2"
   ]
  },
  {
   "cell_type": "code",
   "execution_count": null,
   "id": "83916e4f",
   "metadata": {},
   "outputs": [],
   "source": [
    "# 행, 열, 값에 사용할 열을 2개 이상 지정 가능 - 평균 나이, 최대 요금 집계\n",
    "pdf3 = pd.pivot_table(df,                       # 피벗할 데이터프레임\n",
    "                     index=['class', 'sex'],    # 행 위치에 들어갈 열\n",
    "                     columns='survived',        # 열 위치에 들어갈 열\n",
    "                     values=['age', 'fare'],    # 데이터로 사용할 열\n",
    "                     aggfunc=['mean', 'max'])   # 데이터 집계 함수\n",
    "\n",
    "# IPython Console 디스플레이 옵션 설정\n",
    "pd.set_option('display.max_columns', 10)        # 출력할 열의 개수 한도\n",
    "pdf3"
   ]
  },
  {
   "cell_type": "code",
   "execution_count": null,
   "id": "abb09a7a",
   "metadata": {},
   "outputs": [],
   "source": [
    "# 행, 열 구조 살펴보기\n",
    "pdf3.index"
   ]
  },
  {
   "cell_type": "code",
   "execution_count": null,
   "id": "0f8e0b24",
   "metadata": {},
   "outputs": [],
   "source": [
    "pdf3.columns"
   ]
  },
  {
   "cell_type": "code",
   "execution_count": null,
   "id": "a2555fa3",
   "metadata": {},
   "outputs": [],
   "source": [
    "# xs 인덱서 사용 - 행 선택(default: axis=0)\n",
    "pdf3.xs('First')              # 행 인덱스가 First인 행을 선택 "
   ]
  },
  {
   "cell_type": "code",
   "execution_count": null,
   "id": "5db8e4ff",
   "metadata": {},
   "outputs": [],
   "source": [
    "pdf3.xs(('First', 'female'))   # 행 인덱스가 ('First', 'female')인 행을 선택"
   ]
  },
  {
   "cell_type": "code",
   "execution_count": null,
   "id": "3c7dbd90",
   "metadata": {},
   "outputs": [],
   "source": [
    "pdf3.xs('male', level='sex')  # 행 인덱스의 sex 레벨이 male인 행을 선택"
   ]
  },
  {
   "cell_type": "code",
   "execution_count": null,
   "id": "7e1455c2",
   "metadata": {},
   "outputs": [],
   "source": [
    "pdf3.xs(('Second', 'male'), level=[0, 'sex'])  # Second, male인 행을 선택"
   ]
  },
  {
   "cell_type": "code",
   "execution_count": null,
   "id": "583545b0",
   "metadata": {},
   "outputs": [],
   "source": [
    "# xs 인덱서 사용 - 열 선택(axis=1 설정)\n",
    "pdf3.xs('mean', axis=1)        # 열 인덱스가 mean인 데이터를 선택 "
   ]
  },
  {
   "cell_type": "code",
   "execution_count": null,
   "id": "1599d9a4",
   "metadata": {},
   "outputs": [],
   "source": [
    "pdf3.xs(('mean', 'age'), axis=1)   # 열 인덱스가 ('mean', 'age')인 데이터 선택"
   ]
  },
  {
   "cell_type": "code",
   "execution_count": null,
   "id": "b00391e0",
   "metadata": {},
   "outputs": [],
   "source": [
    "pdf3.xs(1, level='survived', axis=1)  # survived 레벨이 1인 데이터 선택"
   ]
  },
  {
   "cell_type": "code",
   "execution_count": null,
   "id": "0e34be7d",
   "metadata": {},
   "outputs": [],
   "source": [
    "pdf3.xs(('max', 'fare', 0), \n",
    "              level=[0, 1, 2], axis=1)  # max, fare, survived=0인 데이터 선택"
   ]
  },
  {
   "cell_type": "code",
   "execution_count": null,
   "id": "d38bc220",
   "metadata": {},
   "outputs": [],
   "source": []
  }
 ],
 "metadata": {
  "kernelspec": {
   "display_name": "Python 3 (ipykernel)",
   "language": "python",
   "name": "python3"
  },
  "language_info": {
   "codemirror_mode": {
    "name": "ipython",
    "version": 3
   },
   "file_extension": ".py",
   "mimetype": "text/x-python",
   "name": "python",
   "nbconvert_exporter": "python",
   "pygments_lexer": "ipython3",
   "version": "3.9.12"
  }
 },
 "nbformat": 4,
 "nbformat_minor": 5
}
