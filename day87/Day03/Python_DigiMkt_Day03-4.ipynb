{
 "cells": [
  {
   "cell_type": "markdown",
   "id": "07cbc861",
   "metadata": {},
   "source": [
    "# 파이썬 활용 디지털마케팅 데이터분석 및 기획"
   ]
  },
  {
   "cell_type": "markdown",
   "id": "ccac7c59",
   "metadata": {},
   "source": [
    "# Today's mission\n",
    "\n",
    "- 고객 Funnel 분석\n",
    "- 문제 정의 및 가설 설정  \n",
    "  (문제정의, 가설 정립 및 예상 결과)\n",
    "- 분석 프레임  \n",
    "  (MECE 방법론, 타당도와 신뢰도, 로직 트리, 추가 고려요소)\n",
    "- 데이터 전처리  \n",
    "  (데이터 전처리 가이드라인, 전처리 실습)\n",
    "- 고객 Funnel 분석 : 분석(일별 통계, 변수별 통계, 구간별 전환율, 클러스터별 차이)\n",
    "- 고객 Funnel 분석 : 보고서 작성"
   ]
  },
  {
   "cell_type": "markdown",
   "id": "c36accff",
   "metadata": {},
   "source": [
    "]"
   ]
  },
  {
   "cell_type": "markdown",
   "id": "b8df74e6",
   "metadata": {},
   "source": [
    "## Day03-4A  Funnel 분석 - 보고서 작성"
   ]
  },
  {
   "cell_type": "markdown",
   "id": "ef46c75f",
   "metadata": {},
   "source": [
    "- 보고서 작성  "
   ]
  },
  {
   "cell_type": "markdown",
   "id": "b3609146",
   "metadata": {},
   "source": [
    "### 목적\n",
    "- Funnel 분석의 개념을 이해하고 로그 데이터를 통해 분석 실습을 진행한다.\n",
    "- 마치 분석 프로젝트 업무를 맡은 담당자라 생각하고 실습한다."
   ]
  },
  {
   "cell_type": "markdown",
   "id": "4dd50cf3",
   "metadata": {},
   "source": [
    "]"
   ]
  },
  {
   "cell_type": "markdown",
   "id": "69a6da0a",
   "metadata": {},
   "source": [
    "### 보고서 작성방법"
   ]
  },
  {
   "cell_type": "markdown",
   "id": "7faf2f68",
   "metadata": {},
   "source": [
    "분석과정을 마무리 했다면 리포트를 작성하는 과정을 시작한다.  \n",
    "이 과정을 시작하기 전에 분석 초반에 설정한 목적과 가설, 프레임워크를 다시 상기하고 진행하는 것이 유용하다.  \n",
    "\n",
    "**리포트는 과정보다는 분석 결과를 중심으로 기술하고, 향후 개선방향과 분석가가 발견한 인사이트를 언급하는 것이 효과적이다.**\n",
    "\n",
    "만약 분석 과정에만 큰 비중을 둘 경우 리포트를 제공받는 사람의 집중력과 관심을 잃게될 가능성이 있고,  \n",
    "인사이트나 추후 방향성에 대한 언급이 없으면 어떠한 액션을 취할지 모호해지기 때문이다.  \n",
    "도메인 지식이 부족할지라도 분석가는 최소한 데이터가 의미하는 바를 최대한 발굴하고 개선방향을 다같이 토의할 수 있는 토대는 제공해야 한다.  \n",
    "비록 주관성이 다분하고 틀린 방향일지라도 아무것도 없는 것보다 낫다.\n",
    "\n",
    "이제 가상 케이스에서 분석한 결과를 토대로 리포트를 작성해보자.  \n",
    "만약 분석과정에서 markdown 기능을 활용해 중간에 코멘트를 달아놓으면 리포트 과정에서 도움이 될 수 있다."
   ]
  },
  {
   "cell_type": "markdown",
   "id": "7a54b939",
   "metadata": {},
   "source": [
    "#### 도입 단계"
   ]
  },
  {
   "cell_type": "markdown",
   "id": "f353f6f6",
   "metadata": {},
   "source": [
    "일반적으로 리포트의 도입 단계에는 분석 배경과 목적/가설, 목차 등이 포함된다.  \n",
    "초반에 작성한 내용을 토대로 아래와 같이 간단히 정리할 수 있다.  \n",
    "\n",
    "- 배경\n",
    "  - 기획팀 요청으로 유저의 시나리오 전환이 잘 이루어지고 있는지 파악과 개선이 필요함 \n",
    "  \n",
    "  \n",
    "- 목적\n",
    "  - Funnel 단계별 전환율과 이탈율을 파악해 개선이 필요한 구간(Bottleneck)을 탐색한다.\n",
    "  - 전환율을 높일 수 있는 실질적인 방안을 찾고 성과를 측정한다.\n",
    "  \n",
    "  \n",
    "- 목차\n",
    "  - 일별 주요 통계\n",
    "  - 구간별 전환율\n",
    "  - 클러스터링 결과 및 클러스터별 전환율 차이\n",
    "  - 전환율 개선을 위한 핵심 Targeting 그룹\n",
    "  - 시사점 및 개선안"
   ]
  },
  {
   "cell_type": "markdown",
   "id": "c45b8f93",
   "metadata": {},
   "source": [
    "#### 본론 단계"
   ]
  },
  {
   "cell_type": "markdown",
   "id": "9e664392",
   "metadata": {},
   "source": [
    "본론 단계에서는 목차에 맞게 중요도가 높은 결과를 기준으로 기술하며,  \n",
    "만약 일회성(Ad-hoc) 분석이 아닌 Tracking 분석일 경우는 스토리텔링 방식으로 기술하는 것이 효과적이다.  \n",
    "(예를 들어, 지난 해와 올해의 주요 지표 변화와 사건/이슈를 같이 첨부하여 기술)\n",
    "\n",
    "- 일별 주요 통계\n",
    "\n",
    "  - 활성화 세션의 경우 주말에 감소하고 주중에 증가하는 트렌드 보임\n",
    "  - 확장자별 1 tier에는 pdf, xls, doc가 포지셔닝되며, 2 tier에는 hwp, ppt가 포함됨\n",
    "  - 문서의 이용 위치는 'other app' 이 압도적으로 높음\n",
    "  - 스크린별로 사용성 파악 결과, 메인(main) 화면이 가장 많이 노출되며 다음 화면(pub_dir or per_dir)으로 넘어가는 경우 많지 않음\n",
    "\n",
    "\n",
    "- 구간별 전환율\n",
    "\n",
    "  - 전환율이 가장 낮은 구간(=이탈이 가장 높은 구간)은 구매정보 페이지에서 구매 완료 페이지로 전환하는 구간임(3.7%)\n",
    "  - 제품내 웹 -> 앱으로 전환하는 구간은 전환율이 양호함(74%)\n",
    "\n",
    "\n",
    "- 클러스터링\n",
    "\n",
    "  - 전체를 그룹으로 세분화했을 경우 전환율의 차이를 파악하고, 우선순위에 따른 Targeting 위해 k-means 클러스터링 진행함\n",
    "  - 확장자 변수를 이용하여 아래와 같이 4개의 그룹으로 세분화함\n",
    "\n",
    "\n",
    "- 클러스터 별 전환율 차이\n",
    "\n",
    "  - XLS 그룹: 전반적으로 전환이 유사한 수준으로 진행되나, purchase_page 에서 실 구매로 이어지지 않음\n",
    "  - DOC 그룹: inproduct_web -> per_dir 으로 전환율은 높으나, per_dir -> purchase_page 구간의 이탈이 두드러짐\n",
    "  - PDF 그룹: 전반적인 구간에서 전화율이 고르게 낮은 편임. 특히 per_dir -> inproduct_web으로 전환하는 비율이 낮음\n",
    "  - HWP 그룹: inproduct web -> purchase_page 구간의 이탈이 심한 경향을 보임\n",
    "\n",
    "\n",
    "- 전환율 개선 Target 그룹\n",
    "\n",
    "  - 구간별 가중치를 고려할 경우, 평균 전환율이 가장 낮은 구간은 pdf 사용그룹이므로 개선이 가장 시급한 그룹으로 고려됨\n",
    "  - XLS 및 DOC 그룹은 상대적으로 양호한 전환율을 보이고 있음. (단, 전환율 상승 지속 노력 필요함)"
   ]
  },
  {
   "cell_type": "markdown",
   "id": "51459ab4",
   "metadata": {},
   "source": [
    "#### 결론 단계"
   ]
  },
  {
   "cell_type": "markdown",
   "id": "fde867c7",
   "metadata": {},
   "source": [
    "일반적으로 결론 및 마무리 단계에서는 데이터 분석 결과의 시사점과 한계점, 개선/실행 방안 및 추후 분석 방향 등에 대해 기술한다.  \n",
    "분석가의 주관적 판단과 경험을 토대로 데이터를 통해 얻은 Learning, Insights, 비즈니스적 가치와 문제해결을 위한 아이디어 등에 대해 간결하고 설득력 있게 커뮤니케이션하는 것이 중요하다.  \n",
    "경우에 따라서 결론 및 시사점을 먼저 전달하고 위의 상세한 본론 내용을 뒤에서 제시하는 방식으로 커뮤니케이션을 진행한다.\n",
    "\n",
    "- 현황\n",
    "\n",
    "  - 주말 대비 주중의 사용성 높음 (세션수 기준)\n",
    "  - doc, pdf, xls 확장자가 주요 항목\n",
    "  - 전체적으로 구매정보 -> 구매결제로 이어지는 전환율이 낮아(3.7%) 개선이 시급함\n",
    "  - 바로 전단계인 제품내 -> 구매정보로의 전환율 역시 낮은 편임(23%)\n",
    " \n",
    " \n",
    "- 시사점\n",
    "\n",
    "  - 클러스터링 결과 PDF 사용 그룹의 전환율 상대적으로 낮아 원인 파악 필요(24%, 타그룹 평균 약35%)\n",
    "  - 모든 funnel 단계에서 전환율 전반적으로 낮음 (약 20%대)\n",
    "  - 개선 우선순위가 가장 높은(핵심)그룹으로 고려 가능\n",
    "  - PDF 관련 기능 검토 필요 (안정성 등)\n",
    " \n",
    " \n",
    "- 개선 방안\n",
    "\n",
    "  - 제품 내에서 Right (timing, persons, contents) 제공하여 구매 정보 제고 및 구매 전환 유도\n",
    "  - 디자인/컨텐츠 시안, 타깃 적절히 설계하여 a/b test 진행 후 개선 프로세스 반복\n",
    "  - 관련 신규 부가 기능 검토 및 안정성 확보 필요\n",
    " \n",
    " \n",
    "- 분석 한계점\n",
    "\n",
    "  - 클러스터링 방식의 고도화 (보다 세분화된 그룹핑 및 전략 개발)"
   ]
  },
  {
   "cell_type": "code",
   "execution_count": null,
   "id": "4b1e7e9e",
   "metadata": {},
   "outputs": [],
   "source": []
  }
 ],
 "metadata": {
  "kernelspec": {
   "display_name": "Python 3 (ipykernel)",
   "language": "python",
   "name": "python3"
  },
  "language_info": {
   "codemirror_mode": {
    "name": "ipython",
    "version": 3
   },
   "file_extension": ".py",
   "mimetype": "text/x-python",
   "name": "python",
   "nbconvert_exporter": "python",
   "pygments_lexer": "ipython3",
   "version": "3.9.12"
  },
  "toc": {
   "base_numbering": 1,
   "nav_menu": {},
   "number_sections": true,
   "sideBar": true,
   "skip_h1_title": true,
   "title_cell": "Table of Contents",
   "title_sidebar": "Contents",
   "toc_cell": false,
   "toc_position": {
    "height": "calc(100% - 180px)",
    "left": "10px",
    "top": "150px",
    "width": "236.667px"
   },
   "toc_section_display": true,
   "toc_window_display": true
  }
 },
 "nbformat": 4,
 "nbformat_minor": 5
}
