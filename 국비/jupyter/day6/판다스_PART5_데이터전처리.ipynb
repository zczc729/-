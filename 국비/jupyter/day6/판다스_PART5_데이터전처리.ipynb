{
 "cells": [
  {
   "cell_type": "markdown",
   "id": "d298861c",
   "metadata": {},
   "source": [
    "# Part 5. 데이터 전처리"
   ]
  },
  {
   "cell_type": "code",
   "execution_count": null,
   "id": "875392a6",
   "metadata": {},
   "outputs": [],
   "source": [
    "# 라이브러리 불러오기\n",
    "import seaborn as sns"
   ]
  },
  {
   "cell_type": "code",
   "execution_count": null,
   "id": "cd12ad44",
   "metadata": {},
   "outputs": [],
   "source": [
    "# titanic 데이터셋 가져오기\n",
    "df = sns.load_dataset('titanic')\n",
    "df"
   ]
  },
  {
   "cell_type": "code",
   "execution_count": null,
   "id": "4224d72e",
   "metadata": {},
   "outputs": [],
   "source": [
    "df.info()"
   ]
  },
  {
   "cell_type": "code",
   "execution_count": null,
   "id": "f39f7e04",
   "metadata": {},
   "outputs": [],
   "source": [
    "df['deck'].value_counts(dropna=False) "
   ]
  },
  {
   "cell_type": "code",
   "execution_count": null,
   "id": "4a8f74d7",
   "metadata": {},
   "outputs": [],
   "source": [
    "# deck 열의 NaN 개수 계산하기\n",
    "nan_deck = df['deck'].value_counts(dropna=False) \n",
    "nan_deck"
   ]
  },
  {
   "cell_type": "code",
   "execution_count": null,
   "id": "c83b2efb",
   "metadata": {},
   "outputs": [],
   "source": [
    "# isnull() 메서드로 누락 데이터 찾기\n",
    "df.head().isnull()"
   ]
  },
  {
   "cell_type": "code",
   "execution_count": null,
   "id": "bb310dde",
   "metadata": {},
   "outputs": [],
   "source": [
    "# notnull() 메서드로 누락 데이터 찾기\n",
    "df.tail().notnull()"
   ]
  },
  {
   "cell_type": "code",
   "execution_count": null,
   "id": "c8722565",
   "metadata": {},
   "outputs": [],
   "source": [
    "# isnull() 메서드로 누락 데이터 개수 구하기\n",
    "df.isnull().sum(axis=0)"
   ]
  },
  {
   "cell_type": "code",
   "execution_count": null,
   "id": "727b2f6f",
   "metadata": {},
   "outputs": [],
   "source": [
    "# for 반복문으로 각 열의 NaN 개수 계산하기\n",
    "missing_df = df.isnull()\n",
    "for col in missing_df.columns:\n",
    "    missing_count = missing_df[col].value_counts()    # 각 열의 NaN 개수 파악\n",
    "\n",
    "    try: \n",
    "        print(col, ': ', missing_count[True])   # NaN 값이 있으면 개수를 출력\n",
    "    except:\n",
    "        print(col, ': ', 0)                     # NaN 값이 없으면 0개 출력"
   ]
  },
  {
   "cell_type": "code",
   "execution_count": null,
   "id": "798b90d0",
   "metadata": {},
   "outputs": [],
   "source": [
    "df.isnull().sum()"
   ]
  },
  {
   "cell_type": "code",
   "execution_count": null,
   "id": "c1a24979",
   "metadata": {
    "scrolled": true
   },
   "outputs": [],
   "source": [
    "df.dropna(axis=1)"
   ]
  },
  {
   "cell_type": "code",
   "execution_count": null,
   "id": "7cb60099",
   "metadata": {},
   "outputs": [],
   "source": [
    "# NaN 값이 500개 이상인 열을 모두 삭제 - deck 열(891개 중 688개의 NaN 값)\n",
    "df_thresh = df.dropna(axis=1, thresh=500)\n",
    "df_thresh"
   ]
  },
  {
   "cell_type": "code",
   "execution_count": null,
   "id": "73dbf97a",
   "metadata": {},
   "outputs": [],
   "source": [
    "df_thresh.columns"
   ]
  },
  {
   "cell_type": "code",
   "execution_count": null,
   "id": "66788ffd",
   "metadata": {},
   "outputs": [],
   "source": [
    "# age 열에 나이 데이터가 없는 모든 행을 삭제 - age 열(891개 중 177개의 NaN 값)\n",
    "df_age = df.dropna(subset=['age'], how='any', axis=0)  \n",
    "df_age"
   ]
  },
  {
   "cell_type": "code",
   "execution_count": null,
   "id": "78422610",
   "metadata": {},
   "outputs": [],
   "source": [
    "len(df_age)"
   ]
  },
  {
   "cell_type": "code",
   "execution_count": null,
   "id": "f06577bf",
   "metadata": {},
   "outputs": [],
   "source": [
    "# 라이브러리 불러오기\n",
    "import seaborn as sns\n",
    "\n",
    "# titanic 데이터셋 가져오기\n",
    "df = sns.load_dataset('titanic')\n",
    "df"
   ]
  },
  {
   "cell_type": "code",
   "execution_count": null,
   "id": "a2b0d4bd",
   "metadata": {},
   "outputs": [],
   "source": [
    "# age 열의 첫 10개 데이터 출력 (5 행에 NaN 값)\n",
    "df['age'].head(10)"
   ]
  },
  {
   "cell_type": "code",
   "execution_count": null,
   "id": "bb04ba0f",
   "metadata": {},
   "outputs": [],
   "source": [
    "df.mean(axis=1)"
   ]
  },
  {
   "cell_type": "code",
   "execution_count": null,
   "id": "474da9fb",
   "metadata": {},
   "outputs": [],
   "source": [
    "# age 열의 NaN값을 다른 나이 데이터의 평균으로 변경하기\n",
    "mean_age = df['age'].mean(axis=0)   # age 열의 평균 계산 (NaN 값 제외)\n",
    "mean_age"
   ]
  },
  {
   "cell_type": "code",
   "execution_count": null,
   "id": "d2e75431",
   "metadata": {},
   "outputs": [],
   "source": [
    "df['age'].fillna(mean_age, inplace=True)\n",
    "df"
   ]
  },
  {
   "cell_type": "code",
   "execution_count": null,
   "id": "eab94126",
   "metadata": {},
   "outputs": [],
   "source": [
    "# age 열의 첫 10개 데이터 출력 (5 행에 NaN 값이 평균으로 대체)\n",
    "print(df['age'].head(10))"
   ]
  },
  {
   "cell_type": "code",
   "execution_count": null,
   "id": "abeb7c7c",
   "metadata": {},
   "outputs": [],
   "source": []
  },
  {
   "cell_type": "code",
   "execution_count": null,
   "id": "81cdd49c",
   "metadata": {},
   "outputs": [],
   "source": [
    "# 라이브러리 불러오기\n",
    "import seaborn as sns\n",
    "\n",
    "# titanic 데이터셋 가져오기\n",
    "df = sns.load_dataset('titanic')\n",
    "df"
   ]
  },
  {
   "cell_type": "code",
   "execution_count": null,
   "id": "b0de867d",
   "metadata": {},
   "outputs": [],
   "source": [
    "# embark_town 열의 829행의 NaN 데이터 출력\n",
    "df['embark_town'][825:830]"
   ]
  },
  {
   "cell_type": "code",
   "execution_count": null,
   "id": "0a162caa",
   "metadata": {},
   "outputs": [],
   "source": [
    "df['embark_town'].value_counts()#.idxmax() "
   ]
  },
  {
   "cell_type": "code",
   "execution_count": null,
   "id": "c61635e2",
   "metadata": {},
   "outputs": [],
   "source": [
    "# embark_town 열의 NaN값을 승선도시 중에서 가장 많이 출현한 값으로 치환하기\n",
    "most_freq = df['embark_town'].value_counts(dropna=True).idxmax() \n",
    "most_freq"
   ]
  },
  {
   "cell_type": "code",
   "execution_count": null,
   "id": "9acf2853",
   "metadata": {},
   "outputs": [],
   "source": [
    "df['embark_town'].fillna(most_freq, inplace=True)\n",
    "# embark_town 열 829행의 NaN 데이터 출력 (NaN 값이 most_freq 값으로 대체)\n",
    "df['embark_town'][825:830]"
   ]
  },
  {
   "cell_type": "code",
   "execution_count": null,
   "id": "4d29ad38",
   "metadata": {},
   "outputs": [],
   "source": [
    "df.isnull().sum()"
   ]
  },
  {
   "cell_type": "code",
   "execution_count": null,
   "id": "8b0a49ab",
   "metadata": {},
   "outputs": [],
   "source": []
  },
  {
   "cell_type": "code",
   "execution_count": null,
   "id": "447d5cdd",
   "metadata": {},
   "outputs": [],
   "source": [
    "# 라이브러리 불러오기\n",
    "import seaborn as sns\n",
    "# titanic 데이터셋 가져오기\n",
    "df = sns.load_dataset('titanic')\n",
    "# embark_town 열의 829행의 NaN 데이터 출력\n",
    "df['embark_town'][825:831]"
   ]
  },
  {
   "cell_type": "code",
   "execution_count": null,
   "id": "d577bf7f",
   "metadata": {},
   "outputs": [],
   "source": [
    "# embark_town 열의 NaN값을 바로 앞에 있는 828행의 값으로 변경하기\n",
    "df['embark_town'].fillna(method='ffill', inplace=True) #뒤에꺼 'bfill'\n",
    "df['embark_town'][825:831]"
   ]
  },
  {
   "cell_type": "code",
   "execution_count": null,
   "id": "db49997a",
   "metadata": {},
   "outputs": [],
   "source": []
  },
  {
   "cell_type": "code",
   "execution_count": null,
   "id": "bf471671",
   "metadata": {},
   "outputs": [],
   "source": [
    "import pandas as pd\n",
    "# 중복 데이터를 갖는 데이터프레임 만들기\n",
    "df = pd.DataFrame({'c1':['a', 'a', 'b', 'a', 'b'],\n",
    "                  'c2':[1, 1, 1, 2, 2],\n",
    "                  'c3':[1, 1, 2, 2, 2]})\n",
    "df"
   ]
  },
  {
   "cell_type": "code",
   "execution_count": null,
   "id": "c512aed6",
   "metadata": {},
   "outputs": [],
   "source": [
    "# 데이터프레임 전체 행 데이터 중에서 중복값 찾기\n",
    "df_dup = df.duplicated()\n",
    "df_dup"
   ]
  },
  {
   "cell_type": "code",
   "execution_count": null,
   "id": "e480e7ad",
   "metadata": {},
   "outputs": [],
   "source": [
    "# 데이터프레임의 특정 열 데이터에서 중복값 찾기\n",
    "col_dup = df['c2'].duplicated()\n",
    "col_dup"
   ]
  },
  {
   "cell_type": "code",
   "execution_count": null,
   "id": "f296840b",
   "metadata": {},
   "outputs": [],
   "source": [
    "# 데이터프레임에서 중복 행을 제거\n",
    "df2 = df.drop_duplicates()\n",
    "df2"
   ]
  },
  {
   "cell_type": "code",
   "execution_count": null,
   "id": "33831d19",
   "metadata": {},
   "outputs": [],
   "source": [
    "### 참고 : 나중에 나올 예정인 함수들...\n",
    "pd.DataFrame((df['c2'].astype(str)+df['c3'].astype(str)).unique())"
   ]
  },
  {
   "cell_type": "code",
   "execution_count": null,
   "id": "ce7918ce",
   "metadata": {},
   "outputs": [],
   "source": [
    "# c2, c3열을 기준으로 중복 행을 제거\n",
    "df3 = df.drop_duplicates(subset=['c2', 'c3'])\n",
    "df3"
   ]
  },
  {
   "cell_type": "code",
   "execution_count": null,
   "id": "925779ec",
   "metadata": {},
   "outputs": [],
   "source": []
  },
  {
   "cell_type": "code",
   "execution_count": null,
   "id": "71947b14",
   "metadata": {},
   "outputs": [],
   "source": [
    "# 라이브러리 불러오기\n",
    "import pandas as pd\n",
    "# read_csv() 함수로 df 생성\n",
    "df = pd.read_csv('data/auto-mpg.csv', header=None)\n",
    "# 열 이름을 지정\n",
    "df.columns = ['mpg','cylinders','displacement','horsepower','weight',\n",
    "              'acceleration','model year','origin','name'] \n",
    "df.head(3)"
   ]
  },
  {
   "cell_type": "code",
   "execution_count": null,
   "id": "6f2977a9",
   "metadata": {},
   "outputs": [],
   "source": [
    "# mpg(mile per gallon)를 kpl(kilometer per liter)로 변환 (mpg_to_kpl = 0.425)\n",
    "mpg_to_kpl = 1.60934 / 3.78541\n",
    "mpg_to_kpl"
   ]
  },
  {
   "cell_type": "code",
   "execution_count": null,
   "id": "efb83a94",
   "metadata": {},
   "outputs": [],
   "source": [
    "# mpg 열에 0.425를 곱한 결과를 새로운 열(kpl)에 추가\n",
    "df['kpl'] = df['mpg'] * mpg_to_kpl\n",
    "df.head(3)"
   ]
  },
  {
   "cell_type": "code",
   "execution_count": null,
   "id": "e464be34",
   "metadata": {},
   "outputs": [],
   "source": [
    "# kpl 열을 소수점 아래 둘째 자리에서 반올림 \n",
    "df['kpl'] = df['kpl'].round(2)\n",
    "df.head(3)"
   ]
  },
  {
   "cell_type": "code",
   "execution_count": null,
   "id": "4d374a02",
   "metadata": {},
   "outputs": [],
   "source": [
    "# 각 열의 자료형 확인\n",
    "df.dtypes"
   ]
  },
  {
   "cell_type": "code",
   "execution_count": null,
   "id": "94e07e8f",
   "metadata": {},
   "outputs": [],
   "source": [
    "# horsepower 열의 고유값 확인\n",
    "df['horsepower'].unique()"
   ]
  },
  {
   "cell_type": "code",
   "execution_count": null,
   "id": "3b635990",
   "metadata": {},
   "outputs": [],
   "source": [
    "# 누락 데이터('?') 삭제 \n",
    "import numpy as np\n",
    "df['horsepower'].replace('?', np.nan, inplace=True)      # '?'을 np.nan으로 변경\n",
    "df['horsepower'].unique()"
   ]
  },
  {
   "cell_type": "code",
   "execution_count": null,
   "id": "0162e3bd",
   "metadata": {},
   "outputs": [],
   "source": [
    "df.dropna(subset=['horsepower'], axis=0, inplace=True)   # 누락데이터 행을 삭제"
   ]
  },
  {
   "cell_type": "code",
   "execution_count": null,
   "id": "f6d1ceb3",
   "metadata": {},
   "outputs": [],
   "source": [
    "df['horsepower'] = df['horsepower'].astype('float')      # 문자열을 실수형으로 변환"
   ]
  },
  {
   "cell_type": "code",
   "execution_count": null,
   "id": "f0037faa",
   "metadata": {},
   "outputs": [],
   "source": [
    "# horsepower 열의 자료형 확인\n",
    "df['horsepower'].dtypes"
   ]
  },
  {
   "cell_type": "code",
   "execution_count": null,
   "id": "a09ab314",
   "metadata": {},
   "outputs": [],
   "source": [
    "# origin 열의 고유값 확인\n",
    "df['origin'].unique()"
   ]
  },
  {
   "cell_type": "code",
   "execution_count": null,
   "id": "c102d301",
   "metadata": {},
   "outputs": [],
   "source": [
    "# 정수형 데이터를 문자형 데이터로 변환 \n",
    "df['origin'].replace({1:'USA', 2:'EU', 3:'JAPAN'}, inplace=True)\n",
    "df"
   ]
  },
  {
   "cell_type": "code",
   "execution_count": null,
   "id": "d6fbeac2",
   "metadata": {},
   "outputs": [],
   "source": [
    "# origin 열의 고유값과 자료형 확인\n",
    "df['origin'].unique()"
   ]
  },
  {
   "cell_type": "code",
   "execution_count": null,
   "id": "02635fea",
   "metadata": {},
   "outputs": [],
   "source": [
    "df['origin'].dtypes"
   ]
  },
  {
   "cell_type": "code",
   "execution_count": null,
   "id": "101d18c1",
   "metadata": {},
   "outputs": [],
   "source": [
    "# origin 열의 문자열 자료형을 범주형으로 변환\n",
    "df['origin'] = df['origin'].astype('category')     \n",
    "df['origin'].unique()"
   ]
  },
  {
   "cell_type": "code",
   "execution_count": null,
   "id": "c4a01795",
   "metadata": {},
   "outputs": [],
   "source": [
    "df['origin'].dtypes"
   ]
  },
  {
   "cell_type": "code",
   "execution_count": null,
   "id": "c81b1fcb",
   "metadata": {},
   "outputs": [],
   "source": [
    "# 범주형을 문자열로 다시 변환\n",
    "df['origin'] = df['origin'].astype('str')     \n",
    "df['origin'].dtypes"
   ]
  },
  {
   "cell_type": "code",
   "execution_count": null,
   "id": "24f662f1",
   "metadata": {},
   "outputs": [],
   "source": [
    "df['model year'].dtypes"
   ]
  },
  {
   "cell_type": "code",
   "execution_count": null,
   "id": "51b83090",
   "metadata": {},
   "outputs": [],
   "source": [
    "# model year 열의 정수형을 범주형으로 변환\n",
    "df['model year'].sample(3)\n",
    "df['model year'] = df['model year'].astype('category') \n",
    "df['model year'].sample(3)"
   ]
  },
  {
   "cell_type": "code",
   "execution_count": null,
   "id": "7dfb447f",
   "metadata": {},
   "outputs": [],
   "source": []
  },
  {
   "cell_type": "code",
   "execution_count": null,
   "id": "cd6c66fb",
   "metadata": {},
   "outputs": [],
   "source": [
    "# 라이브러리 불러오기\n",
    "import pandas as pd\n",
    "import numpy as np"
   ]
  },
  {
   "cell_type": "code",
   "execution_count": null,
   "id": "752c51c3",
   "metadata": {},
   "outputs": [],
   "source": [
    "# read_csv() 함수로 df 생성\n",
    "df = pd.read_csv('data/auto-mpg.csv', header=None)"
   ]
  },
  {
   "cell_type": "code",
   "execution_count": null,
   "id": "1945c005",
   "metadata": {},
   "outputs": [],
   "source": [
    "# 열 이름을 지정\n",
    "df.columns = ['mpg','cylinders','displacement','horsepower','weight',\n",
    "              'acceleration','model year','origin','name'] \n",
    "df"
   ]
  },
  {
   "cell_type": "code",
   "execution_count": null,
   "id": "746ed202",
   "metadata": {},
   "outputs": [],
   "source": [
    "# horsepower 열의 누락 데이터('?') 삭제하고 실수형으로 변환\n",
    "df['horsepower'].replace('?', np.nan, inplace=True)      # '?'을 np.nan으로 변경\n",
    "df.dropna(subset=['horsepower'], axis=0, inplace=True)   # 누락데이터 행을 삭제\n",
    "df['horsepower'] = df['horsepower'].astype('float')      # 문자열을 실수형으로 변환"
   ]
  },
  {
   "cell_type": "code",
   "execution_count": null,
   "id": "8bffaef5",
   "metadata": {},
   "outputs": [],
   "source": [
    "df['horsepower'].sort_values()"
   ]
  },
  {
   "cell_type": "code",
   "execution_count": null,
   "id": "2af37308",
   "metadata": {},
   "outputs": [],
   "source": [
    "np.histogram(df['horsepower'], bins=3)"
   ]
  },
  {
   "cell_type": "code",
   "execution_count": null,
   "id": "0861dd51",
   "metadata": {},
   "outputs": [],
   "source": [
    "# np.histogram 함수로 3개의 bin으로 나누는 경계 값의 리스트 구하기\n",
    "count, bin_dividers = np.histogram(df['horsepower'], bins=3)\n",
    "bin_dividers"
   ]
  },
  {
   "cell_type": "code",
   "execution_count": null,
   "id": "b3d4bd3d",
   "metadata": {},
   "outputs": [],
   "source": [
    "# 3개의 bin에 이름 지정\n",
    "bin_names = ['저출력', '보통출력', '고출력']"
   ]
  },
  {
   "cell_type": "code",
   "execution_count": null,
   "id": "a6eaff56",
   "metadata": {},
   "outputs": [],
   "source": [
    "# pd.cut 함수로 각 데이터를 3개의 bin에 할당\n",
    "df['hp_bin'] = pd.cut(x=df['horsepower'],     # 데이터 배열\n",
    "                      bins=bin_dividers,      # 경계 값 리스트\n",
    "                      labels=bin_names,       # bin 이름\n",
    "                      include_lowest=True)    # 첫 경계값 포함 "
   ]
  },
  {
   "cell_type": "code",
   "execution_count": null,
   "id": "1d98b99b",
   "metadata": {},
   "outputs": [],
   "source": [
    "# horsepower 열, hp_bin 열의 첫 15행을 출력\n",
    "print(df[['horsepower', 'hp_bin']].head(15))"
   ]
  },
  {
   "cell_type": "code",
   "execution_count": null,
   "id": "417c98ea",
   "metadata": {},
   "outputs": [],
   "source": [
    "# read_csv() 함수로 df 생성\n",
    "df = pd.read_csv('data/auto-mpg.csv', header=None)\n",
    "\n",
    "# 열 이름을 지정\n",
    "df.columns = ['mpg','cylinders','displacement','horsepower','weight',\n",
    "              'acceleration','model year','origin','name'] "
   ]
  },
  {
   "cell_type": "code",
   "execution_count": null,
   "id": "d0a7efc3",
   "metadata": {},
   "outputs": [],
   "source": [
    "# horsepower 열의 누락 데이터('?') 삭제하고 실수형으로 변환\n",
    "df['horsepower'].replace('?', np.nan, inplace=True)      # '?'을 np.nan으로 변경\n",
    "df.dropna(subset=['horsepower'], axis=0, inplace=True)   # 누락데이터 행을 삭제\n",
    "df['horsepower'] = df['horsepower'].astype('float')      # 문자열을 실수형으로 변환"
   ]
  },
  {
   "cell_type": "code",
   "execution_count": null,
   "id": "f06c73ab",
   "metadata": {},
   "outputs": [],
   "source": [
    "# np.histogram 으로 3개의 bin으로 나누는 경계 값의 리스트 구하기\n",
    "count, bin_dividers = np.histogram(df['horsepower'], bins=3)\n",
    "\n",
    "# 3개의 bin에 이름 지정\n",
    "bin_names = ['저출력', '보통출력', '고출력']\n",
    "\n",
    "# pd.cut 으로 각 데이터를 3개의 bin에 할당\n",
    "df['hp_bin'] = pd.cut(x=df['horsepower'],     # 데이터 배열\n",
    "                      bins=bin_dividers,      # 경계 값 리스트\n",
    "                      labels=bin_names,       # bin 이름\n",
    "                      include_lowest=True)    # 첫 경계값 포함"
   ]
  },
  {
   "cell_type": "code",
   "execution_count": null,
   "id": "48466a06",
   "metadata": {},
   "outputs": [],
   "source": [
    "pd.get_dummies(df['hp_bin'])"
   ]
  },
  {
   "cell_type": "code",
   "execution_count": null,
   "id": "6ca9a797",
   "metadata": {},
   "outputs": [],
   "source": [
    "# hp_bin 열의 범주형 데이터를 더미 변수로 변환\n",
    "horsepower_dummies = pd.get_dummies(df['hp_bin'])\n",
    "horsepower_dummies.head(15)"
   ]
  },
  {
   "cell_type": "code",
   "execution_count": null,
   "id": "dc9da025",
   "metadata": {},
   "outputs": [],
   "source": []
  },
  {
   "cell_type": "code",
   "execution_count": null,
   "id": "c69202f0",
   "metadata": {},
   "outputs": [],
   "source": [
    "# 라이브러리 불러오기\n",
    "import pandas as pd\n",
    "import numpy as np\n",
    "\n",
    "# read_csv() 함수로 df 생성\n",
    "df = pd.read_csv('data/auto-mpg.csv', header=None)\n",
    "\n",
    "# 열 이름을 지정\n",
    "df.columns = ['mpg','cylinders','displacement','horsepower','weight',\n",
    "              'acceleration','model year','origin','name'] \n",
    "\n",
    "# horsepower 열의 누락 데이터('?') 삭제하고 실수형으로 변환\n",
    "df['horsepower'].replace('?', np.nan, inplace=True)      # '?'을 np.nan으로 변경\n",
    "df.dropna(subset=['horsepower'], axis=0, inplace=True)   # 누락데이터 행을 삭제\n",
    "df['horsepower'] = df['horsepower'].astype('float')      # 문자열을 실수형으로 변환\n",
    "\n",
    "# np.histogram 으로 3개의 bin으로 나누는 경계 값의 리스트 구하기\n",
    "count, bin_dividers = np.histogram(df['horsepower'], bins=3)\n",
    "\n",
    "# 3개의 bin에 이름 지정\n",
    "bin_names = ['저출력', '보통출력', '고출력']\n",
    "\n",
    "# pd.cut 으로 각 데이터를 3개의 bin에 할당\n",
    "df['hp_bin'] = pd.cut(x=df['horsepower'],     # 데이터 배열\n",
    "                      bins=bin_dividers,      # 경계 값 리스트\n",
    "                      labels=bin_names,       # bin 이름\n",
    "                      include_lowest=True)    # 첫 경계값 포함"
   ]
  },
  {
   "cell_type": "code",
   "execution_count": null,
   "id": "817aafb8",
   "metadata": {},
   "outputs": [],
   "source": [
    "df"
   ]
  },
  {
   "cell_type": "code",
   "execution_count": null,
   "id": "167dfabb",
   "metadata": {},
   "outputs": [],
   "source": [
    "# sklern 라이브러리 불러오기\n",
    "from sklearn import preprocessing    "
   ]
  },
  {
   "cell_type": "code",
   "execution_count": null,
   "id": "0cb2b3da",
   "metadata": {},
   "outputs": [],
   "source": [
    "# 전처리를 위한 encoder 객체 만들기\n",
    "label_encoder = preprocessing.LabelEncoder()       # label encoder 생성\n",
    "onehot_encoder = preprocessing.OneHotEncoder()     # one hot encoder 생성"
   ]
  },
  {
   "cell_type": "code",
   "execution_count": null,
   "id": "acdd86de",
   "metadata": {},
   "outputs": [],
   "source": [
    "# label encoder로 문자열 범주를 숫자형 범주로 변환\n",
    "onehot_labeled = label_encoder.fit_transform(df['hp_bin'].head(15))  \n",
    "onehot_labeled"
   ]
  },
  {
   "cell_type": "code",
   "execution_count": null,
   "id": "088c4d46",
   "metadata": {},
   "outputs": [],
   "source": [
    "type(onehot_labeled)"
   ]
  },
  {
   "cell_type": "code",
   "execution_count": null,
   "id": "5ff84f20",
   "metadata": {},
   "outputs": [],
   "source": [
    "# 2차원 행렬로 형태 변경\n",
    "onehot_reshaped = onehot_labeled.reshape(len(onehot_labeled), 1) \n",
    "onehot_reshaped"
   ]
  },
  {
   "cell_type": "code",
   "execution_count": null,
   "id": "e934efc3",
   "metadata": {},
   "outputs": [],
   "source": [
    "type(onehot_reshaped)"
   ]
  },
  {
   "cell_type": "code",
   "execution_count": null,
   "id": "99d60308",
   "metadata": {},
   "outputs": [],
   "source": [
    "# 희소행렬로 변환\n",
    "onehot_fitted = onehot_encoder.fit_transform(onehot_reshaped)\n",
    "onehot_fitted"
   ]
  },
  {
   "cell_type": "code",
   "execution_count": null,
   "id": "9fd8fc3b",
   "metadata": {},
   "outputs": [],
   "source": [
    "type(onehot_fitted)"
   ]
  },
  {
   "cell_type": "markdown",
   "id": "968efa38",
   "metadata": {},
   "source": [
    "## 정규화"
   ]
  },
  {
   "cell_type": "code",
   "execution_count": null,
   "id": "a12b52c6",
   "metadata": {},
   "outputs": [],
   "source": [
    "# 라이브러리 불러오기\n",
    "import pandas as pd\n",
    "import numpy as np"
   ]
  },
  {
   "cell_type": "code",
   "execution_count": null,
   "id": "2baa1d10",
   "metadata": {},
   "outputs": [],
   "source": [
    "# read_csv() 함수로 df 생성\n",
    "df = pd.read_csv('data/auto-mpg.csv', header=None)\n",
    "# 열 이름을 지정\n",
    "df.columns = ['mpg','cylinders','displacement','horsepower','weight',\n",
    "              'acceleration','model year','origin','name']  \n",
    "df"
   ]
  },
  {
   "cell_type": "code",
   "execution_count": null,
   "id": "c3611eb0",
   "metadata": {},
   "outputs": [],
   "source": [
    "# horsepower 열의 누락 데이터('?') 삭제하고 실수형으로 변환\n",
    "df['horsepower'].replace('?', np.nan, inplace=True)      # '?'을 np.nan으로 변경\n",
    "df.dropna(subset=['horsepower'], axis=0, inplace=True)   # 누락데이터 행을 삭제\n",
    "df['horsepower'] = df['horsepower'].astype('float')      # 문자열을 실수형으로 변환"
   ]
  },
  {
   "cell_type": "code",
   "execution_count": null,
   "id": "c986a825",
   "metadata": {},
   "outputs": [],
   "source": [
    "# horsepower 열의 통계 요약정보로 최대값(max)을 확인\n",
    "df['horsepower'].describe()"
   ]
  },
  {
   "cell_type": "code",
   "execution_count": null,
   "id": "4769bd3e",
   "metadata": {},
   "outputs": [],
   "source": [
    "# horsepower 열의 최대값의 절대값으로 모든 데이터를 나눠서 저장\n",
    "df['norm_max'] = df['horsepower'] / abs(df['horsepower'].max()) "
   ]
  },
  {
   "cell_type": "code",
   "execution_count": null,
   "id": "ac2117ad",
   "metadata": {},
   "outputs": [],
   "source": [
    "df['norm_max'].head()"
   ]
  },
  {
   "cell_type": "code",
   "execution_count": null,
   "id": "e64f3232",
   "metadata": {},
   "outputs": [],
   "source": [
    "df['norm_max'].describe()"
   ]
  },
  {
   "cell_type": "code",
   "execution_count": null,
   "id": "a42c08c4",
   "metadata": {},
   "outputs": [],
   "source": [
    "# 라이브러리 불러오기\n",
    "import pandas as pd\n",
    "import numpy as np"
   ]
  },
  {
   "cell_type": "code",
   "execution_count": null,
   "id": "b451ec59",
   "metadata": {},
   "outputs": [],
   "source": [
    "# read_csv() 함수로 df 생성\n",
    "df = pd.read_csv('data/auto-mpg.csv', header=None)"
   ]
  },
  {
   "cell_type": "code",
   "execution_count": null,
   "id": "a3da0077",
   "metadata": {},
   "outputs": [],
   "source": [
    "# 열 이름을 지정\n",
    "df.columns = ['mpg','cylinders','displacement','horsepower','weight',\n",
    "              'acceleration','model year','origin','name']  \n",
    "\n",
    "# horsepower 열의 누락 데이터('?') 삭제하고 실수형으로 변환\n",
    "df['horsepower'].replace('?', np.nan, inplace=True)      # '?'을 np.nan으로 변경\n",
    "df.dropna(subset=['horsepower'], axis=0, inplace=True)   # 누락데이터 행을 삭제\n",
    "df['horsepower'] = df['horsepower'].astype('float')      # 문자열을 실수형으로 변환"
   ]
  },
  {
   "cell_type": "code",
   "execution_count": null,
   "id": "64c974b3",
   "metadata": {},
   "outputs": [],
   "source": [
    "# horsepower 열의 통계 요약정보로 최대값(max)과 최소값(min)을 확인\n",
    "df['horsepower'].describe()"
   ]
  },
  {
   "cell_type": "code",
   "execution_count": null,
   "id": "f3576a44",
   "metadata": {},
   "outputs": [],
   "source": [
    "# horsepower 열의 최대값의 절대값으로 모든 데이터를 나눠서 저장\n",
    "min_x = df.horsepower - df.horsepower.min()\n",
    "min_max = df.horsepower.max() - df.horsepower.min()\n",
    "df['norm_min_max'] = min_x / min_max"
   ]
  },
  {
   "cell_type": "code",
   "execution_count": null,
   "id": "ca805653",
   "metadata": {},
   "outputs": [],
   "source": [
    "df['horsepower'].head()"
   ]
  },
  {
   "cell_type": "code",
   "execution_count": null,
   "id": "639f1187",
   "metadata": {},
   "outputs": [],
   "source": [
    "df['norm_min_max'].describe()"
   ]
  },
  {
   "cell_type": "code",
   "execution_count": null,
   "id": "b02ed24c",
   "metadata": {},
   "outputs": [],
   "source": []
  }
 ],
 "metadata": {
  "kernelspec": {
   "display_name": "Python 3 (ipykernel)",
   "language": "python",
   "name": "python3"
  },
  "language_info": {
   "codemirror_mode": {
    "name": "ipython",
    "version": 3
   },
   "file_extension": ".py",
   "mimetype": "text/x-python",
   "name": "python",
   "nbconvert_exporter": "python",
   "pygments_lexer": "ipython3",
   "version": "3.9.12"
  }
 },
 "nbformat": 4,
 "nbformat_minor": 5
}
