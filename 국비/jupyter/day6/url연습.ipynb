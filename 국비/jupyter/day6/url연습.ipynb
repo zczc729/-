{
 "cells": [
  {
   "cell_type": "code",
   "execution_count": 15,
   "id": "0c4220da",
   "metadata": {},
   "outputs": [],
   "source": [
    "### Import Packages\n",
    "import pandas as pd\n",
    "import requests\n",
    "from bs4 import BeautifulSoup\n",
    "import pprint"
   ]
  },
  {
   "cell_type": "code",
   "execution_count": 16,
   "id": "c54a54b7",
   "metadata": {},
   "outputs": [],
   "source": [
    "### Data Loading Example\n",
    "#\"http://openapi.molit.go.kr:8081/OpenAPI_ToolInstallPackage/service/rest/RTMSOBJSvc/getRTMSDataSvcAptTrade\n",
    "#        ?\n",
    "#        LAWD_CD=11110\n",
    "#        &\n",
    "#        DEAL_YMD=201512\n",
    "#        &\n",
    "#        serviceKey=서비스키\""
   ]
  },
  {
   "cell_type": "code",
   "execution_count": 17,
   "id": "a41a85c2",
   "metadata": {},
   "outputs": [],
   "source": [
    "my_api_key = 'oKp2k%2FHFgJt4W12ji1GMWWj0hDj8yQBH6IX3OBtt%2F2gHg0dBYlZpHZQTJLzkrtbdLsDREVVvIIx5Bp4KT5PdLg%3D%3D'"
   ]
  },
  {
   "cell_type": "code",
   "execution_count": 18,
   "id": "0d5442a0",
   "metadata": {},
   "outputs": [],
   "source": [
    "base_url = \"http://openapi.molit.go.kr:8081/OpenAPI_ToolInstallPackage/service/rest/RTMSOBJSvc/getRTMSDataSvcAptTrade\""
   ]
  },
  {
   "cell_type": "code",
   "execution_count": 19,
   "id": "d4213dc4",
   "metadata": {},
   "outputs": [],
   "source": [
    "area_cd = \"LAWD_CD=\" + \"11680\"    # 11680 : 강남구\n",
    "deal_dt = \"DEAL_YMD=\" + \"202201\"\n",
    "svc_key = \"serviceKey=\" + my_api_key "
   ]
  },
  {
   "cell_type": "code",
   "execution_count": 20,
   "id": "54c9c238",
   "metadata": {},
   "outputs": [
    {
     "data": {
      "text/plain": [
       "'http://openapi.molit.go.kr:8081/OpenAPI_ToolInstallPackage/service/rest/RTMSOBJSvc/getRTMSDataSvcAptTrade?LAWD_CD=11680&DEAL_YMD=202201&serviceKey=oKp2k%2FHFgJt4W12ji1GMWWj0hDj8yQBH6IX3OBtt%2F2gHg0dBYlZpHZQTJLzkrtbdLsDREVVvIIx5Bp4KT5PdLg%3D%3D'"
      ]
     },
     "execution_count": 20,
     "metadata": {},
     "output_type": "execute_result"
    }
   ],
   "source": [
    "url = base_url + \"?\" + area_cd + \"&\" + deal_dt + \"&\" + svc_key\n",
    "url"
   ]
  },
  {
   "cell_type": "code",
   "execution_count": 21,
   "id": "95adbbe2",
   "metadata": {},
   "outputs": [
    {
     "data": {
      "text/plain": [
       "<Response [200]>"
      ]
     },
     "execution_count": 21,
     "metadata": {},
     "output_type": "execute_result"
    }
   ],
   "source": [
    "### Import Packages\n",
    "response = requests.get(url)\n",
    "response"
   ]
  },
  {
   "cell_type": "code",
   "execution_count": 22,
   "id": "29bbc343",
   "metadata": {},
   "outputs": [
    {
     "data": {
      "text/plain": [
       "'<?xml version=\"1.0\" encoding=\"UTF-8\" standalone=\"yes\"?><response><header><resultCode>99</resultCode><resultMsg>SERVICE KEY IS NOT REGISTERED ERROR.</resultMsg></header></response>'"
      ]
     },
     "execution_count": 22,
     "metadata": {},
     "output_type": "execute_result"
    }
   ],
   "source": [
    "response.text"
   ]
  },
  {
   "cell_type": "code",
   "execution_count": null,
   "id": "cbefe0fa",
   "metadata": {},
   "outputs": [],
   "source": []
  },
  {
   "cell_type": "code",
   "execution_count": null,
   "id": "8ba6d1f9",
   "metadata": {},
   "outputs": [],
   "source": []
  },
  {
   "cell_type": "code",
   "execution_count": null,
   "id": "b961b04f",
   "metadata": {},
   "outputs": [],
   "source": []
  },
  {
   "cell_type": "code",
   "execution_count": null,
   "id": "baf807ad",
   "metadata": {},
   "outputs": [],
   "source": []
  },
  {
   "cell_type": "code",
   "execution_count": null,
   "id": "cbea3551",
   "metadata": {},
   "outputs": [],
   "source": []
  },
  {
   "cell_type": "code",
   "execution_count": null,
   "id": "242125b1",
   "metadata": {},
   "outputs": [],
   "source": []
  },
  {
   "cell_type": "code",
   "execution_count": null,
   "id": "1ead1416",
   "metadata": {},
   "outputs": [],
   "source": []
  },
  {
   "cell_type": "code",
   "execution_count": null,
   "id": "767e631c",
   "metadata": {},
   "outputs": [],
   "source": []
  },
  {
   "cell_type": "code",
   "execution_count": null,
   "id": "9ebba245",
   "metadata": {},
   "outputs": [],
   "source": []
  },
  {
   "cell_type": "code",
   "execution_count": null,
   "id": "0dacbfef",
   "metadata": {},
   "outputs": [],
   "source": []
  },
  {
   "cell_type": "code",
   "execution_count": null,
   "id": "62c84088",
   "metadata": {},
   "outputs": [],
   "source": []
  },
  {
   "cell_type": "code",
   "execution_count": null,
   "id": "7e03bb22",
   "metadata": {},
   "outputs": [],
   "source": []
  }
 ],
 "metadata": {
  "kernelspec": {
   "display_name": "Python 3 (ipykernel)",
   "language": "python",
   "name": "python3"
  },
  "language_info": {
   "codemirror_mode": {
    "name": "ipython",
    "version": 3
   },
   "file_extension": ".py",
   "mimetype": "text/x-python",
   "name": "python",
   "nbconvert_exporter": "python",
   "pygments_lexer": "ipython3",
   "version": "3.9.12"
  }
 },
 "nbformat": 4,
 "nbformat_minor": 5
}
