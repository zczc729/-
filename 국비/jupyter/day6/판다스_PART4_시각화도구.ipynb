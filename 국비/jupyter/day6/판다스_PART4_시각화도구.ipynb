{
 "cells": [
  {
   "cell_type": "markdown",
   "id": "d7f4a5dd-0533-4bde-9914-00860089262d",
   "metadata": {},
   "source": [
    "# Part 4. 시각화 도구"
   ]
  },
  {
   "cell_type": "code",
   "execution_count": null,
   "id": "31ce276f",
   "metadata": {},
   "outputs": [],
   "source": [
    "# 라이브러리 불러오기\n",
    "import pandas as pd\n",
    "import matplotlib.pyplot as plt"
   ]
  },
  {
   "cell_type": "code",
   "execution_count": null,
   "id": "6c0f91a4",
   "metadata": {},
   "outputs": [],
   "source": [
    "# Excel 데이터를 데이터프레임 변환 \n",
    "df = pd.read_excel('data/시도별 전출입 인구수.xlsx', engine='openpyxl', header=0)\n",
    "df"
   ]
  },
  {
   "cell_type": "code",
   "execution_count": null,
   "id": "12bc0eaa",
   "metadata": {},
   "outputs": [],
   "source": [
    "# 누락값(NaN)을 앞 데이터로 채움 (엑셀 양식 병합 부분)\n",
    "df = df.fillna(method='ffill')\n",
    "df"
   ]
  },
  {
   "cell_type": "code",
   "execution_count": null,
   "id": "efcc89fc",
   "metadata": {},
   "outputs": [],
   "source": [
    "# 서울에서 다른 지역으로 이동한 데이터만 추출하여 정리\n",
    "mask = (df['전출지별'] == '서울특별시') & (df['전입지별'] != '서울특별시') \n",
    "df_seoul = df[mask]\n",
    "df_seoul"
   ]
  },
  {
   "cell_type": "code",
   "execution_count": null,
   "id": "b2670784",
   "metadata": {},
   "outputs": [],
   "source": [
    "df_seoul = df_seoul.drop(['전출지별'], axis=1)"
   ]
  },
  {
   "cell_type": "code",
   "execution_count": null,
   "id": "bad67ef9",
   "metadata": {},
   "outputs": [],
   "source": [
    "df_seoul.head()"
   ]
  },
  {
   "cell_type": "code",
   "execution_count": null,
   "id": "9697e608",
   "metadata": {},
   "outputs": [],
   "source": [
    "df_seoul.rename({'전입지별':'전입지'}, axis=1, inplace=True)\n",
    "df_seoul.head(1)"
   ]
  },
  {
   "cell_type": "code",
   "execution_count": null,
   "id": "62bf8db3",
   "metadata": {},
   "outputs": [],
   "source": [
    "df_seoul.set_index('전입지', inplace=True)\n",
    "df_seoul.head(1)"
   ]
  },
  {
   "cell_type": "code",
   "execution_count": null,
   "id": "c5ac764d",
   "metadata": {
    "scrolled": true
   },
   "outputs": [],
   "source": [
    "# 서울에서 경기도로 이동한 인구 데이터 값만 선택 \n",
    "sr_one = df_seoul.loc['경기도']\n",
    "sr_one"
   ]
  },
  {
   "cell_type": "code",
   "execution_count": null,
   "id": "2a80375d",
   "metadata": {},
   "outputs": [],
   "source": [
    "# x, y축 데이터를 plot 함수에 입력\n",
    "plt.plot(sr_one.index, sr_one.values)"
   ]
  },
  {
   "cell_type": "code",
   "execution_count": null,
   "id": "db6997dd",
   "metadata": {},
   "outputs": [],
   "source": [
    "# 판다스 객체를 plot 함수에 입력\n",
    "plt.plot(sr_one)"
   ]
  },
  {
   "cell_type": "code",
   "execution_count": null,
   "id": "f0c2fad2",
   "metadata": {},
   "outputs": [],
   "source": [
    "sr_one"
   ]
  },
  {
   "cell_type": "code",
   "execution_count": null,
   "id": "e643fab3",
   "metadata": {},
   "outputs": [],
   "source": [
    "# 차트 제목 추가\n",
    "plt.title('서울 -> 경기 인구 이동')"
   ]
  },
  {
   "cell_type": "code",
   "execution_count": null,
   "id": "46afaefe",
   "metadata": {
    "scrolled": true
   },
   "outputs": [],
   "source": [
    "# 축이름 추가\n",
    "plt.xlabel('기간')\n",
    "plt.ylabel('이동 인구수')"
   ]
  },
  {
   "cell_type": "code",
   "execution_count": null,
   "id": "f6562671",
   "metadata": {},
   "outputs": [],
   "source": [
    "# matplotlib 한글 폰트 오류 문제 해결\n",
    "from matplotlib import font_manager, rc\n",
    "font_path = \"data/malgun.ttf\"   #폰트파일의 위치\n",
    "font_name = font_manager.FontProperties(fname=font_path).get_name()\n",
    "rc('font', family=font_name)"
   ]
  },
  {
   "cell_type": "code",
   "execution_count": null,
   "id": "9b8cae7b",
   "metadata": {},
   "outputs": [],
   "source": [
    "# x, y축 데이터를 plot 함수에 입력\n",
    "plt.plot(sr_one.index, sr_one.values)\n",
    "\n",
    "# 차트 제목 추가\n",
    "plt.title('서울 -> 경기 인구 이동')\n",
    "\n",
    "# 축이름 추가\n",
    "plt.xlabel('기간')\n",
    "plt.ylabel('이동 인구수')\n"
   ]
  },
  {
   "cell_type": "code",
   "execution_count": null,
   "id": "3b5e1c61",
   "metadata": {},
   "outputs": [],
   "source": [
    "# 그림 사이즈 지정(가로 14인치, 세로 5인치)\n",
    "plt.figure(figsize=(16, 5))\n",
    "# x축 눈금 라벨 회전하기\n",
    "plt.xticks(rotation='vertical')\n",
    "# x, y축 데이터를 plot 함수에 입력 \n",
    "plt.plot(sr_one.index, sr_one.values)\n",
    "plt.title('서울 -> 경기 인구 이동')  #차트 제목\n",
    "plt.xlabel('기간')                  #x축 이름\n",
    "plt.ylabel('이동 인구수')           #y축 이름\n",
    "plt.legend(labels=['서울 -> 경기'], loc='best')     #범례 표시"
   ]
  },
  {
   "cell_type": "code",
   "execution_count": null,
   "id": "4a359e53",
   "metadata": {},
   "outputs": [],
   "source": [
    "df=sr_one\n",
    "\n",
    "# matplotlib 한글 폰트 오류 문제 해결\n",
    "from matplotlib import font_manager, rc\n",
    "font_path = \"data/malgun.ttf\"   #폰트파일의 위치\n",
    "font_name = font_manager.FontProperties(fname=font_path).get_name()\n",
    "rc('font', family=font_name)\n",
    "\n",
    "# 스타일 서식 지정\n",
    "plt.style.use('seaborn-pastel') \n",
    "# 그림 사이즈 지정\n",
    "plt.figure(figsize=(10, 5))\n",
    "# x축 눈금 라벨 회전하기\n",
    "plt.xticks(size=10, rotation='vertical')\n",
    "# x, y축 데이터를 plot 함수에 입력 \n",
    "plt.plot(df.index, df.values, marker='o', markersize=10)  # 마커 표시 추가\n",
    "plt.title('서울 -> 경기 인구 이동', size=20)  #차트 제목\n",
    "plt.xlabel('기간', size=15)                  #x축 이름\n",
    "plt.ylabel('이동 인구수', size=15)           #y축 이름\n",
    "plt.legend(labels=['서울 -> 경기'], loc='best', fontsize=12)   #범례 표시"
   ]
  },
  {
   "cell_type": "code",
   "execution_count": null,
   "id": "4580ddad",
   "metadata": {},
   "outputs": [],
   "source": [
    "# 스타일 리스트 출력\n",
    "print(plt.style.available)"
   ]
  },
  {
   "cell_type": "code",
   "execution_count": null,
   "id": "d105d1cb",
   "metadata": {},
   "outputs": [],
   "source": [
    "# matplotlib 한글 폰트 오류 문제 해결\n",
    "from matplotlib import font_manager, rc\n",
    "font_path = \"data/malgun.ttf\"   #폰트파일의 위치\n",
    "font_name = font_manager.FontProperties(fname=font_path).get_name()\n",
    "rc('font', family=font_name)\n",
    "# 스타일 서식 지정\n",
    "plt.style.use('ggplot') \n",
    "# 그림 사이즈 늘리기\n",
    "plt.figure(figsize=(14, 5))\n",
    "# x축 눈금 라벨 회전하기\n",
    "plt.xticks(size=10, rotation='vertical')\n",
    "# x, y축 데이터를 plot 함수에 입력 \n",
    "plt.plot(sr_one.index, sr_one.values, marker='o', markersize=10)  # 마커 표시 추가\n",
    "plt.title('서울 -> 경기 인구 이동', size=30)  #차트 제목\n",
    "plt.xlabel('기간', size=20)                  #x축 이름\n",
    "plt.ylabel('이동 인구수', size=20)           #y축 이름\n",
    "#범례 표시\n",
    "plt.legend(labels=['서울 -> 경기'], loc='best', fontsize=15)\n",
    "# y축 범위 지정 (최소값, 최대값)\n",
    "plt.ylim(50000, 800000)\n",
    "# 주석 표시 - 화살표\n",
    "plt.annotate('',\n",
    "             xy=(20, 620000),       #화살표의 머리 부분(끝점)\n",
    "             xytext=(2, 290000),    #화살표의 꼬리 부분(시작점)\n",
    "             xycoords='data',       #좌표체계\n",
    "             arrowprops=dict(arrowstyle='->', color='skyblue', lw=5), #화살표 서식\n",
    "             )\n",
    "plt.annotate('',\n",
    "             xy=(47, 450000),       #화살표의 머리 부분(끝점)\n",
    "             xytext=(30, 580000),   #화살표의 꼬리 부분(시작점)\n",
    "             xycoords='data',       #좌표체계\n",
    "             arrowprops=dict(arrowstyle='->', color='olive', lw=5),  #화살표 서식\n",
    "             )\n",
    "# 주석 표시 - 텍스트\n",
    "plt.annotate('인구이동 증가(1970-1995)',  #텍스트 입력\n",
    "             xy=(10, 450000),            #텍스트 위치 기준점\n",
    "             rotation=25,                #텍스트 회전각도\n",
    "             va='baseline',              #텍스트 상하 정렬\n",
    "             ha='center',                #텍스트 좌우 정렬\n",
    "             fontsize=15,                #텍스트 크기\n",
    "             )\n",
    "plt.annotate('인구이동 감소(1995-2017)',  #텍스트 입력\n",
    "             xy=(40, 560000),            #텍스트 위치 기준점\n",
    "             rotation=-11,               #텍스트 회전각도\n",
    "             va='baseline',              #텍스트 상하 정렬\n",
    "             ha='center',                #텍스트 좌우 정렬\n",
    "             fontsize=15,                #텍스트 크기\n",
    "             )"
   ]
  },
  {
   "cell_type": "code",
   "execution_count": null,
   "id": "63ebbce7",
   "metadata": {
    "scrolled": true
   },
   "outputs": [],
   "source": [
    "# 스타일 서식 지정\n",
    "plt.style.use('ggplot') \n",
    "# 그래프 객체 생성 (figure에 2개의 서브 플롯을 생성)\n",
    "fig = plt.figure(figsize=(10, 10))   \n",
    "ax1 = fig.add_subplot(2, 1, 1)\n",
    "ax2 = fig.add_subplot(2, 1, 2)\n",
    "# axe 객체에 plot 함수로 그래프 출력\n",
    "ax1.plot(sr_one, 'o', markersize=10)\n",
    "ax2.plot(sr_one, marker='o', markerfacecolor='green', markersize=10, \n",
    "         color='olive', linewidth=2, label='서울 -> 경기')\n",
    "ax2.legend(loc='best')\n",
    "#y축 범위 지정 (최소값, 최대값)\n",
    "ax1.set_ylim(50000, 800000)\n",
    "ax2.set_ylim(50000, 800000)\n",
    "# 축 눈금 라벨 지정 및 75도 회전\n",
    "ax1.set_xticklabels(sr_one.index, rotation=75)\n",
    "ax2.set_xticklabels(sr_one.index, rotation=75)"
   ]
  },
  {
   "cell_type": "code",
   "execution_count": null,
   "id": "99f3ae8c",
   "metadata": {},
   "outputs": [],
   "source": [
    "# 스타일 서식 지정\n",
    "plt.style.use('ggplot') \n",
    "# 그래프 객체 생성 (figure에 1개의 서브 플롯을 생성)\n",
    "fig = plt.figure(figsize=(20, 5))   \n",
    "ax = fig.add_subplot(1, 1, 1)\n",
    "# axe 객체에 plot 함수로 그래프 출력\n",
    "ax.plot(sr_one, marker='o', markerfacecolor='orange', markersize=10, \n",
    "        color='olive', linewidth=2, label='서울 -> 경기')\n",
    "ax.legend(loc='best')\n",
    "#y축 범위 지정 (최소값, 최대값)\n",
    "ax.set_ylim(50000, 800000)\n",
    "# 차트 제목 추가\n",
    "ax.set_title('서울 -> 경기 인구 이동', size=20)\n",
    "# 축이름 추가\n",
    "ax.set_xlabel('기간', size=12)\n",
    "ax.set_ylabel('이동 인구수', size = 12)\n",
    "# 축 눈금 라벨 지정 및 75도 회전\n",
    "ax.set_xticklabels(sr_one.index, rotation=75)\n",
    "# 축 눈금 라벨 크기\n",
    "ax.tick_params(axis=\"x\", labelsize=10)\n",
    "ax.tick_params(axis=\"y\", labelsize=10)"
   ]
  },
  {
   "cell_type": "code",
   "execution_count": null,
   "id": "f8d868b1",
   "metadata": {},
   "outputs": [],
   "source": []
  },
  {
   "cell_type": "code",
   "execution_count": null,
   "id": "ac960400",
   "metadata": {},
   "outputs": [],
   "source": [
    "# 라이브러리 불러오기\n",
    "import pandas as pd\n",
    "import matplotlib.pyplot as plt"
   ]
  },
  {
   "cell_type": "code",
   "execution_count": null,
   "id": "56e42992",
   "metadata": {},
   "outputs": [],
   "source": [
    "# matplotlib 한글 폰트 오류 문제 해결\n",
    "from matplotlib import font_manager, rc\n",
    "font_path = \"data/malgun.ttf\"   #폰트파일의 위치\n",
    "font_name = font_manager.FontProperties(fname=font_path).get_name()\n",
    "rc('font', family=font_name)"
   ]
  },
  {
   "cell_type": "code",
   "execution_count": null,
   "id": "7afaec73",
   "metadata": {},
   "outputs": [],
   "source": [
    "# Excel 데이터를 데이터프레임 변환 \n",
    "df = pd.read_excel('data/시도별 전출입 인구수.xlsx', engine= 'openpyxl', header=0)\n",
    "# 전출지별에서 누락값(NaN)을 앞 데이터로 채움 (엑셀 양식 병합 부분)\n",
    "df = df.fillna(method='ffill')\n",
    "# 서울에서 다른 지역으로 이동한 데이터만 추출하여 정리\n",
    "mask = (df['전출지별'] == '서울특별시') & (df['전입지별'] != '서울특별시') \n",
    "df_seoul = df[mask]\n",
    "df_seoul = df_seoul.drop(['전출지별'], axis=1)\n",
    "df_seoul.rename({'전입지별':'전입지'}, axis=1, inplace=True)\n",
    "df_seoul.set_index('전입지', inplace=True)"
   ]
  },
  {
   "cell_type": "code",
   "execution_count": null,
   "id": "194ffbc5",
   "metadata": {},
   "outputs": [],
   "source": [
    "# 서울에서 '충청남도','경상북도', '강원도'로 이동한 인구 데이터 값만 선택\n",
    "col_years = list(map(str, range(1970, 2018)))\n",
    "col_years"
   ]
  },
  {
   "cell_type": "code",
   "execution_count": null,
   "id": "38ec10ea",
   "metadata": {},
   "outputs": [],
   "source": [
    "df_seoul"
   ]
  },
  {
   "cell_type": "code",
   "execution_count": null,
   "id": "0f2f7482",
   "metadata": {},
   "outputs": [],
   "source": [
    "df_3 = df_seoul.loc[['충청남도','경상북도', '강원도'], col_years]\n",
    "df_3"
   ]
  },
  {
   "cell_type": "code",
   "execution_count": null,
   "id": "ff1990ce",
   "metadata": {},
   "outputs": [],
   "source": [
    "# 스타일 서식 지정\n",
    "plt.style.use('ggplot') \n",
    "# 그래프 객체 생성 (figure에 1개의 서브 플롯을 생성)\n",
    "fig = plt.figure(figsize=(20, 5))   \n",
    "ax = fig.add_subplot(1, 1, 1)\n",
    "# axe 객체에 plot 함수로 그래프 출력\n",
    "ax.plot(col_years, df_3.loc['충청남도',:], marker='o', markerfacecolor='green', \n",
    "        markersize=10, color='olive', linewidth=2, label='서울 -> 충남')\n",
    "ax.plot(col_years, df_3.loc['경상북도',:], marker='o', markerfacecolor='blue', \n",
    "        markersize=10, color='skyblue', linewidth=2, label='서울 -> 경북')\n",
    "ax.plot(col_years, df_3.loc['강원도',:], marker='o', markerfacecolor='red', \n",
    "        markersize=10, color='magenta', linewidth=2, label='서울 -> 강원')\n",
    "# 범례 표시\n",
    "ax.legend(loc='best')\n",
    "# 차트 제목 추가\n",
    "ax.set_title('서울 -> 충남, 경북, 강원 인구 이동', size=20)\n",
    "# 축이름 추가\n",
    "ax.set_xlabel('기간', size=12)\n",
    "ax.set_ylabel('이동 인구수', size = 12)\n",
    "# 축 눈금 라벨 지정 및 90도 회전\n",
    "ax.set_xticklabels(col_years, rotation=90)\n",
    "# 축 눈금 라벨 크기\n",
    "ax.tick_params(axis=\"x\", labelsize=10)\n",
    "ax.tick_params(axis=\"y\", labelsize=10)"
   ]
  },
  {
   "cell_type": "code",
   "execution_count": null,
   "id": "e33235ad",
   "metadata": {},
   "outputs": [],
   "source": []
  },
  {
   "cell_type": "code",
   "execution_count": null,
   "id": "417135f4",
   "metadata": {},
   "outputs": [],
   "source": [
    "# 라이브러리 불러오기\n",
    "import pandas as pd\n",
    "import matplotlib.pyplot as plt"
   ]
  },
  {
   "cell_type": "code",
   "execution_count": null,
   "id": "e2441aeb",
   "metadata": {},
   "outputs": [],
   "source": [
    "# Excel 데이터를 데이터프레임 변환 \n",
    "df = pd.read_excel('data/시도별 전출입 인구수.xlsx', engine= 'openpyxl', header=0)\n",
    "# 전출지별에서 누락값(NaN)을 앞 데이터로 채움 (엑셀 양식 병합 부분)\n",
    "df = df.fillna(method='ffill')\n",
    "# 서울에서 다른 지역으로 이동한 데이터만 추출하여 정리\n",
    "mask = (df['전출지별'] == '서울특별시') & (df['전입지별'] != '서울특별시') \n",
    "df_seoul = df[mask]\n",
    "df_seoul = df_seoul.drop(['전출지별'], axis=1)\n",
    "df_seoul.rename({'전입지별':'전입지'}, axis=1, inplace=True)\n",
    "df_seoul.set_index('전입지', inplace=True)"
   ]
  },
  {
   "cell_type": "code",
   "execution_count": null,
   "id": "f6e3d020",
   "metadata": {},
   "outputs": [],
   "source": [
    "# 서울에서 '충청남도','경상북도', '강원도', '전라남도'로 이동한 인구 데이터 값만 선택\n",
    "col_years = list(map(str, range(1970, 2018)))\n",
    "df_4 = df_seoul.loc[['충청남도','경상북도', '강원도', '전라남도'], col_years]"
   ]
  },
  {
   "cell_type": "code",
   "execution_count": null,
   "id": "7c282b4e",
   "metadata": {},
   "outputs": [],
   "source": [
    "df_4.head()"
   ]
  },
  {
   "cell_type": "code",
   "execution_count": null,
   "id": "07c4a4c3",
   "metadata": {},
   "outputs": [],
   "source": [
    "import warnings\n",
    "warnings.filterwarnings(\"ignore\")"
   ]
  },
  {
   "cell_type": "code",
   "execution_count": null,
   "id": "aa5882e8",
   "metadata": {},
   "outputs": [],
   "source": [
    "# matplotlib 한글 폰트 오류 문제 해결\n",
    "from matplotlib import font_manager, rc\n",
    "font_path = \"data/malgun.ttf\"   #폰트파일의 위치\n",
    "font_name = font_manager.FontProperties(fname=font_path).get_name()\n",
    "rc('font', family=font_name)\n",
    "# 스타일 서식 지정\n",
    "plt.style.use('ggplot') \n",
    "# 그래프 객체 생성 (figure에 1개의 서브 플롯을 생성)\n",
    "fig = plt.figure(figsize=(20, 10))   \n",
    "ax1 = fig.add_subplot(2, 2, 1)\n",
    "ax2 = fig.add_subplot(2, 2, 2)\n",
    "ax3 = fig.add_subplot(2, 2, 3)\n",
    "ax4 = fig.add_subplot(2, 2, 4)\n",
    "# axe 객체에 plot 함수로 그래프 출력\n",
    "ax1.plot(col_years, df_4.loc['충청남도',:], marker='o', markerfacecolor='green', \n",
    "        markersize=10, color='olive', linewidth=2, label='서울 -> 충남')\n",
    "ax2.plot(col_years, df_4.loc['경상북도',:], marker='o', markerfacecolor='blue', \n",
    "        markersize=10, color='skyblue', linewidth=2, label='서울 -> 경북')\n",
    "ax3.plot(col_years, df_4.loc['강원도',:], marker='o', markerfacecolor='red', \n",
    "        markersize=10, color='magenta', linewidth=2, label='서울 -> 강원')\n",
    "ax4.plot(col_years, df_4.loc['전라남도',:], marker='o', markerfacecolor='orange', \n",
    "        markersize=10, color='yellow', linewidth=2, label='서울 -> 전남')\n",
    "# 범례 표시\n",
    "ax1.legend(loc='best')\n",
    "ax2.legend(loc='best')\n",
    "ax3.legend(loc='best')\n",
    "ax4.legend(loc='best')\n",
    "# 차트 제목 추가\n",
    "ax1.set_title('서울 -> 충남 인구 이동', size=15)\n",
    "ax2.set_title('서울 -> 경북 인구 이동', size=15)\n",
    "ax3.set_title('서울 -> 강원 인구 이동', size=15)\n",
    "ax4.set_title('서울 -> 전남 인구 이동', size=15)\n",
    "# 축 눈금 라벨 지정 및 90도 회전\n",
    "ax1.set_xticklabels(col_years, rotation=90)\n",
    "ax2.set_xticklabels(col_years, rotation=90)\n",
    "ax3.set_xticklabels(col_years, rotation=90)\n",
    "ax4.set_xticklabels(col_years, rotation=90)"
   ]
  },
  {
   "cell_type": "code",
   "execution_count": null,
   "id": "c64eb443",
   "metadata": {},
   "outputs": [],
   "source": []
  },
  {
   "cell_type": "code",
   "execution_count": null,
   "id": "094c22b1",
   "metadata": {},
   "outputs": [],
   "source": [
    "# 라이브러리 불러오기\n",
    "import matplotlib\n",
    "\n",
    "# 컬러 정보를 담을 빈 딕셔너리 생성\n",
    "colors={}\n",
    "\n",
    "# 컬러 이름과 헥사코드 확인하여 딕셔서리에 입력\n",
    "for name, hex in matplotlib.colors.cnames.items():\n",
    "\tcolors[name] = hex\n",
    "\n",
    "# 딕셔너리 출력    \n",
    "print(colors)"
   ]
  },
  {
   "cell_type": "code",
   "execution_count": null,
   "id": "2b56ea35",
   "metadata": {},
   "outputs": [],
   "source": []
  },
  {
   "cell_type": "code",
   "execution_count": null,
   "id": "a7bbdd99",
   "metadata": {},
   "outputs": [],
   "source": [
    "# 라이브러리 불러오기\n",
    "import pandas as pd\n",
    "import matplotlib.pyplot as plt"
   ]
  },
  {
   "cell_type": "code",
   "execution_count": null,
   "id": "1c4b8104",
   "metadata": {},
   "outputs": [],
   "source": [
    "# Excel 데이터를 데이터프레임 변환 \n",
    "df = pd.read_excel('data/시도별 전출입 인구수.xlsx', engine= 'openpyxl', header=0)\n",
    "# 전출지별에서 누락값(NaN)을 앞 데이터로 채움 (엑셀 양식 병합 부분)\n",
    "df = df.fillna(method='ffill')\n",
    "# 서울에서 다른 지역으로 이동한 데이터만 추출하여 정리\n",
    "mask = (df['전출지별'] == '서울특별시') & (df['전입지별'] != '서울특별시') \n",
    "df_seoul = df[mask]\n",
    "df_seoul = df_seoul.drop(['전출지별'], axis=1)\n",
    "df_seoul.rename({'전입지별':'전입지'}, axis=1, inplace=True)\n",
    "df_seoul.set_index('전입지', inplace=True)\n",
    "# 서울에서 '충청남도','경상북도', '강원도', '전라남도'로 이동한 인구 데이터 값만 선택\n",
    "col_years = list(map(str, range(1970, 2018)))\n",
    "df_4 = df_seoul.loc[['충청남도','경상북도', '강원도', '전라남도'], col_years]\n",
    "df_4 = df_4.T"
   ]
  },
  {
   "cell_type": "code",
   "execution_count": null,
   "id": "c3da796a",
   "metadata": {},
   "outputs": [],
   "source": [
    "df_4"
   ]
  },
  {
   "cell_type": "code",
   "execution_count": null,
   "id": "cd37ca07",
   "metadata": {},
   "outputs": [],
   "source": [
    "# matplotlib 한글 폰트 오류 문제 해결\n",
    "from matplotlib import font_manager, rc\n",
    "font_path = \"data/malgun.ttf\"   #폰트파일의 위치\n",
    "font_name = font_manager.FontProperties(fname=font_path).get_name()\n",
    "rc('font', family=font_name)\n",
    "# 스타일 서식 지정\n",
    "plt.style.use('ggplot') \n",
    "# 데이터프레임의 인덱스를 정수형으로 변경 (x축 눈금 라벨 표시)\n",
    "df_4.index = df_4.index.map(int)\n",
    "# 면적 그래프 그리기\n",
    "df_4.plot(kind='area', stacked=False, alpha=0.2, figsize=(20, 10))\n",
    "plt.title('서울 -> 타시도 인구 이동', size=30)\n",
    "plt.ylabel('이동 인구 수', size=20)\n",
    "plt.xlabel('기간', size=20)\n",
    "plt.legend(loc='best', fontsize=15)"
   ]
  },
  {
   "cell_type": "code",
   "execution_count": null,
   "id": "87773100",
   "metadata": {},
   "outputs": [],
   "source": [
    "# 스타일 서식 지정\n",
    "plt.style.use('ggplot') \n",
    "# 데이터프레임의 인덱스를 정수형으로 변경 (x축 눈금 라벨 표시)\n",
    "df_4.index = df_4.index.map(int)\n",
    "# 면적 그래프 그리기\n",
    "df_4.plot(kind='area', stacked=True, alpha=0.2, figsize=(20, 10))\n",
    "plt.title('서울 -> 타시도 인구 이동', size=30)\n",
    "plt.ylabel('이동 인구 수', size=20)\n",
    "plt.xlabel('기간', size=20)\n",
    "plt.legend(loc='best', fontsize=15)"
   ]
  },
  {
   "cell_type": "code",
   "execution_count": null,
   "id": "c9933178",
   "metadata": {},
   "outputs": [],
   "source": [
    "# 스타일 서식 지정\n",
    "plt.style.use('ggplot') \n",
    "# 데이터프레임의 인덱스를 정수형으로 변경 (x축 눈금 라벨 표시)\n",
    "df_4.index = df_4.index.map(int)\n",
    "# 면적 그래프 axe 객체 생성\n",
    "ax = df_4.plot(kind='area', stacked=True, alpha=0.2, figsize=(20, 10))\n",
    "print(type(ax))\n",
    "# axe 객체 설정 변경\n",
    "ax.set_title('서울 -> 타시도 인구 이동', size=30, color='brown', weight='bold')\n",
    "ax.set_ylabel('이동 인구 수', size=20, color='blue')\n",
    "ax.set_xlabel('기간', size=20, color='blue')\n",
    "ax.legend(loc='best', fontsize=15)\n",
    "# 축 눈금 라벨 지정 및 90도 회전\n",
    "ax.set_xticklabels(col_years, rotation=90)"
   ]
  },
  {
   "cell_type": "code",
   "execution_count": null,
   "id": "9df1a9d8",
   "metadata": {},
   "outputs": [],
   "source": []
  },
  {
   "cell_type": "code",
   "execution_count": null,
   "id": "1e22fa76",
   "metadata": {},
   "outputs": [],
   "source": [
    "# 라이브러리 불러오기\n",
    "import pandas as pd\n",
    "import matplotlib.pyplot as plt"
   ]
  },
  {
   "cell_type": "code",
   "execution_count": null,
   "id": "d8b2db86",
   "metadata": {},
   "outputs": [],
   "source": [
    "# Excel 데이터를 데이터프레임 변환 \n",
    "df = pd.read_excel('data/시도별 전출입 인구수.xlsx', engine= 'openpyxl', header=0)\n",
    "# 전출지별에서 누락값(NaN)을 앞 데이터로 채움 (엑셀 양식 병합 부분)\n",
    "df = df.fillna(method='ffill')\n",
    "# 서울에서 다른 지역으로 이동한 데이터만 추출하여 정리\n",
    "mask = (df['전출지별'] == '서울특별시') & (df['전입지별'] != '서울특별시') \n",
    "df_seoul = df[mask]\n",
    "df_seoul = df_seoul.drop(['전출지별'], axis=1)\n",
    "df_seoul.rename({'전입지별':'전입지'}, axis=1, inplace=True)\n",
    "df_seoul.set_index('전입지', inplace=True)\n",
    "# 서울에서 '충청남도','경상북도', '강원도', '전라남도'로 이동한 인구 데이터 값만 선택\n",
    "col_years = list(map(str, range(2010, 2018)))     \n",
    "df_4 = df_seoul.loc[['충청남도','경상북도', '강원도', '전라남도'], col_years]\n",
    "df_4 = df_4.transpose()"
   ]
  },
  {
   "cell_type": "code",
   "execution_count": null,
   "id": "0614ba93",
   "metadata": {},
   "outputs": [],
   "source": [
    "df_4"
   ]
  },
  {
   "cell_type": "code",
   "execution_count": null,
   "id": "57591ba5",
   "metadata": {},
   "outputs": [],
   "source": [
    "# matplotlib 한글 폰트 오류 문제 해결\n",
    "from matplotlib import font_manager, rc\n",
    "font_path = \"data/malgun.ttf\"   #폰트파일의 위치\n",
    "font_name = font_manager.FontProperties(fname=font_path).get_name()\n",
    "rc('font', family=font_name)\n",
    "# 스타일 서식 지정\n",
    "plt.style.use('ggplot') \n",
    "# 데이터프레임의 인덱스를 정수형으로 변경 (x축 눈금 라벨 표시)\n",
    "df_4.index = df_4.index.map(int)\n",
    "# 막대 그래프 그리기\n",
    "df_4.plot(kind='bar', figsize=(20, 10), width=0.7,\n",
    "          color=['orange', 'green', 'skyblue', 'blue'])\n",
    "plt.title('서울 -> 타시도 인구 이동', size=30)\n",
    "plt.ylabel('이동 인구 수', size=20)\n",
    "plt.xlabel('기간', size=20)\n",
    "plt.ylim(5000, 30000)\n",
    "plt.legend(loc='best', fontsize=15)"
   ]
  },
  {
   "cell_type": "code",
   "execution_count": null,
   "id": "9c4f5231",
   "metadata": {},
   "outputs": [],
   "source": [
    "# 라이브러리 불러오기\n",
    "import pandas as pd\n",
    "import matplotlib.pyplot as plt"
   ]
  },
  {
   "cell_type": "code",
   "execution_count": null,
   "id": "44334d4a",
   "metadata": {},
   "outputs": [],
   "source": [
    "# Excel 데이터를 데이터프레임 변환 \n",
    "df = pd.read_excel('data/시도별 전출입 인구수.xlsx', engine= 'openpyxl', header=0)\n",
    "\n",
    "# 전출지별에서 누락값(NaN)을 앞 데이터로 채움 (엑셀 양식 병합 부분)\n",
    "df = df.fillna(method='ffill')\n",
    "\n",
    "# 서울에서 다른 지역으로 이동한 데이터만 추출하여 정리\n",
    "mask = (df['전출지별'] == '서울특별시') & (df['전입지별'] != '서울특별시') \n",
    "df_seoul = df[mask]\n",
    "df_seoul = df_seoul.drop(['전출지별'], axis=1)\n",
    "df_seoul.rename({'전입지별':'전입지'}, axis=1, inplace=True)\n",
    "df_seoul.set_index('전입지', inplace=True)\n",
    "\n",
    "# 서울에서 '충청남도','경상북도', '강원도', '전라남도'로 이동한 인구 데이터 값만 선택\n",
    "col_years = list(map(str, range(2010, 2018)))\n",
    "df_4 = df_seoul.loc[['충청남도','경상북도', '강원도', '전라남도'], col_years]"
   ]
  },
  {
   "cell_type": "code",
   "execution_count": null,
   "id": "756c5219",
   "metadata": {},
   "outputs": [],
   "source": [
    "df_4"
   ]
  },
  {
   "cell_type": "code",
   "execution_count": null,
   "id": "d8e5e18f",
   "metadata": {},
   "outputs": [],
   "source": [
    "df_4.sum(axis=1)"
   ]
  },
  {
   "cell_type": "code",
   "execution_count": null,
   "id": "20347666",
   "metadata": {},
   "outputs": [],
   "source": [
    "# 2010-2017년 이동 인구 수를 합계하여 새로운 열로 추가\n",
    "df_4['합계'] = df_4.sum(axis=1)\n",
    "df_4"
   ]
  },
  {
   "cell_type": "code",
   "execution_count": null,
   "id": "ee75a5b7",
   "metadata": {},
   "outputs": [],
   "source": [
    "df_4[['합계']].sort_values(by='합계', ascending=True)"
   ]
  },
  {
   "cell_type": "code",
   "execution_count": null,
   "id": "54743181",
   "metadata": {},
   "outputs": [],
   "source": [
    "# 가장 큰 값부터 정렬\n",
    "df_total = df_4[['합계']].sort_values(by='합계', ascending=True)\n",
    "df_total"
   ]
  },
  {
   "cell_type": "code",
   "execution_count": null,
   "id": "1048d61f",
   "metadata": {},
   "outputs": [],
   "source": [
    "# matplotlib 한글 폰트 오류 문제 해결\n",
    "from matplotlib import font_manager, rc\n",
    "font_path = \"data/malgun.ttf\"   #폰트파일의 위치\n",
    "font_name = font_manager.FontProperties(fname=font_path).get_name()\n",
    "rc('font', family=font_name)\n",
    "# 스타일 서식 지정\n",
    "plt.style.use('ggplot') \n",
    "# 수평 막대 그래프 그리기\n",
    "df_total.plot(kind='barh', color='cornflowerblue', width=0.5, figsize=(10, 5))\n",
    "plt.title('서울 -> 타시도 인구 이동')\n",
    "plt.ylabel('전입지')\n",
    "plt.xlabel('이동 인구 수')"
   ]
  },
  {
   "cell_type": "code",
   "execution_count": null,
   "id": "4d543dc6",
   "metadata": {},
   "outputs": [],
   "source": []
  },
  {
   "cell_type": "code",
   "execution_count": null,
   "id": "3089ccf5",
   "metadata": {},
   "outputs": [],
   "source": [
    "# Excel 데이터를 데이터프레임 변환 \n",
    "df = pd.read_excel('data/남북한발전전력량.xlsx', engine= 'openpyxl', convert_float=True)\n",
    "df = df.loc[5:9]\n",
    "df"
   ]
  },
  {
   "cell_type": "code",
   "execution_count": null,
   "id": "12ad7f33",
   "metadata": {},
   "outputs": [],
   "source": [
    "df.drop('전력량 (억㎾h)', axis='columns', inplace=True)\n",
    "df.set_index('발전 전력별', inplace=True)\n",
    "df = df.T \n",
    "df"
   ]
  },
  {
   "cell_type": "code",
   "execution_count": null,
   "id": "cc207766",
   "metadata": {},
   "outputs": [],
   "source": [
    "# 증감율(변동률) 계산\n",
    "df = df.rename(columns={'합계':'총발전량'})\n",
    "df.head()"
   ]
  },
  {
   "cell_type": "code",
   "execution_count": null,
   "id": "276d4587",
   "metadata": {},
   "outputs": [],
   "source": [
    "df['총발전량 - 1년'] = df['총발전량'].shift(1)\n",
    "df.head()"
   ]
  },
  {
   "cell_type": "code",
   "execution_count": null,
   "id": "ae8b918d",
   "metadata": {},
   "outputs": [],
   "source": [
    "# (df['총발전량'] - df['총발전량 - 1년']) /  df['총발전량 - 1년']"
   ]
  },
  {
   "cell_type": "code",
   "execution_count": null,
   "id": "4235adf5",
   "metadata": {},
   "outputs": [],
   "source": [
    "df['증감율'] = ((df['총발전량'] / df['총발전량 - 1년']) - 1) * 100      \n",
    "df"
   ]
  },
  {
   "cell_type": "code",
   "execution_count": null,
   "id": "16a2caa7",
   "metadata": {},
   "outputs": [],
   "source": [
    "# matplotlib 한글 폰트 오류 문제 해결\n",
    "from matplotlib import font_manager, rc\n",
    "font_path = \"data/malgun.ttf\"   #폰트파일의 위치\n",
    "font_name = font_manager.FontProperties(fname=font_path).get_name()\n",
    "rc('font', family=font_name)\n",
    "plt.style.use('ggplot')   # 스타일 서식 지정\n",
    "plt.rcParams['axes.unicode_minus']=False   # 마이너스 부호 출력 설정\n",
    "# 2축 그래프 그리기\n",
    "ax1 = df[['수력','화력']].plot(kind='bar', figsize=(20, 10), width=0.7, stacked=True)  \n",
    "ax2 = ax1.twinx()\n",
    "ax2.plot(df.index, df.증감율, ls='--', marker='o', markersize=20, \n",
    "         color='green', label='전년대비 증감율(%)')  \n",
    "ax1.set_ylim(0, 500)\n",
    "ax2.set_ylim(-50, 50)\n",
    "ax1.set_xlabel('연도', size=20)\n",
    "ax1.set_ylabel('발전량(억 KWh)', size=20)\n",
    "ax2.set_ylabel('전년 대비 증감율(%)', size=20)\n",
    "plt.title('북한 전력 발전량 (1990 ~ 2016)', size=30)\n",
    "ax1.legend(loc='upper left')"
   ]
  },
  {
   "cell_type": "code",
   "execution_count": null,
   "id": "f0748558",
   "metadata": {},
   "outputs": [],
   "source": []
  },
  {
   "cell_type": "code",
   "execution_count": null,
   "id": "a0dcb92b",
   "metadata": {},
   "outputs": [],
   "source": [
    "# 라이브러리 불러오기\n",
    "import pandas as pd\n",
    "import matplotlib.pyplot as plt\n",
    "\n",
    "# read_csv() 함수로 df 생성\n",
    "df = pd.read_csv('data/auto-mpg.csv', header=None)\n",
    "\n",
    "# 열 이름을 지정\n",
    "df.columns = ['mpg','cylinders','displacement','horsepower','weight',\n",
    "              'acceleration','model year','origin','name']"
   ]
  },
  {
   "cell_type": "code",
   "execution_count": null,
   "id": "5485c21d",
   "metadata": {},
   "outputs": [],
   "source": [
    "plt.style.use('classic')   # 스타일 서식 지정\n",
    "# 연비(mpg) 열에 대한 히스토그램 그리기\n",
    "df['mpg'].plot(kind='hist', bins=30, color='coral', figsize=(5, 5))\n",
    "\n",
    "# 그래프 꾸미기\n",
    "plt.title('Histogram')\n",
    "plt.xlabel('mpg')"
   ]
  },
  {
   "cell_type": "code",
   "execution_count": null,
   "id": "b09c20d6",
   "metadata": {},
   "outputs": [],
   "source": [
    "plt.style.use('classic')   # 스타일 서식 지정\n",
    "# 연비(mpg) 열에 대한 히스토그램 그리기\n",
    "df['weight'].plot(kind='hist', bins=30, color='coral', figsize=(5, 5))\n",
    "\n",
    "# 그래프 꾸미기\n",
    "plt.title('Histogram')\n",
    "plt.xlabel('weight')"
   ]
  },
  {
   "cell_type": "code",
   "execution_count": null,
   "id": "c2ba59ea",
   "metadata": {},
   "outputs": [],
   "source": [
    "# 연비(mpg)와 차중(weight) 열에 대한 산점도 그리기\n",
    "df.plot(kind='scatter', x='weight', y='mpg',  c='coral', s=10, figsize=(10, 5))\n",
    "plt.title('Scatter Plot - mpg vs. weight')"
   ]
  },
  {
   "cell_type": "code",
   "execution_count": null,
   "id": "95ca44bd",
   "metadata": {},
   "outputs": [],
   "source": [
    "# cylinders 개수의 상대적 비율을 계산하여 시리즈 생성\n",
    "cylinders_size = df.cylinders / df.cylinders.max() * 300\n",
    "cylinders_size"
   ]
  },
  {
   "cell_type": "code",
   "execution_count": null,
   "id": "e8d509fc",
   "metadata": {},
   "outputs": [],
   "source": [
    "# 3개의 변수로 산점도 그리기 \n",
    "df.plot(kind='scatter', x='weight', y='mpg', c='coral', figsize=(10, 5),\n",
    "        s=cylinders_size, alpha=0.3)\n",
    "plt.title('Scatter Plot: mpg-weight-cylinders')"
   ]
  },
  {
   "cell_type": "code",
   "execution_count": null,
   "id": "d782d908",
   "metadata": {},
   "outputs": [],
   "source": [
    "# 3개의 변수로 산점도 그리기 \n",
    "df.plot(kind='scatter', x='weight', y='mpg', marker='o', figsize=(10, 5),\n",
    "        cmap='viridis', c=cylinders_size, s=50, alpha=0.3)\n",
    "plt.title('Scatter Plot: mpg-weight-cylinders')\n",
    "\n",
    "plt.savefig(\"output/scatter.png\")   \n",
    "plt.savefig(\"output/scatter_transparent.png\", transparent=True)   "
   ]
  },
  {
   "cell_type": "code",
   "execution_count": null,
   "id": "f8835d49",
   "metadata": {},
   "outputs": [],
   "source": []
  },
  {
   "cell_type": "code",
   "execution_count": null,
   "id": "f04f907b",
   "metadata": {},
   "outputs": [],
   "source": [
    "# 라이브러리 불러오기\n",
    "import pandas as pd\n",
    "import matplotlib.pyplot as plt\n",
    "\n",
    "# read_csv() 함수로 df 생성\n",
    "df = pd.read_csv('data/auto-mpg.csv', header=None)"
   ]
  },
  {
   "cell_type": "code",
   "execution_count": null,
   "id": "40e51c52",
   "metadata": {},
   "outputs": [],
   "source": [
    "# 열 이름을 지정\n",
    "df.columns = ['mpg','cylinders','displacement','horsepower','weight',\n",
    "              'acceleration','model year','origin','name']\n",
    "\n",
    "# 데이터 개수 카운트를 위해 값 1을 가진 열을 추가\n",
    "df['count'] = 1\n",
    "df"
   ]
  },
  {
   "cell_type": "code",
   "execution_count": null,
   "id": "607a59d1",
   "metadata": {},
   "outputs": [],
   "source": [
    "df_origin = df.groupby('origin').sum()   # origin 열을 기준으로 그룹화, 합계 연산\n",
    "df_origin.head()                  # 그룹 연산 결과 출력"
   ]
  },
  {
   "cell_type": "code",
   "execution_count": null,
   "id": "586112ce",
   "metadata": {},
   "outputs": [],
   "source": [
    "# 제조국가(origin) 값을 실제 지역명으로 변경\n",
    "df_origin.index = ['USA', 'EU', 'JAPAN']"
   ]
  },
  {
   "cell_type": "code",
   "execution_count": null,
   "id": "0b0977b5",
   "metadata": {},
   "outputs": [],
   "source": [
    "plt.style.use('default')   # 스타일 서식 지정\n",
    "# 제조국가(origin) 열에 대한 파이 차트 그리기 – count 열 데이터 사용\n",
    "df_origin['count'].plot(kind='pie', \n",
    "                     figsize=(5, 5),\n",
    "                     autopct='%1.1f%%',   # 퍼센트 % 표시\n",
    "                     startangle=10,       # 파이 조각을 나누는 시작점(각도 표시)\n",
    "                     colors=['chocolate', 'bisque', 'cadetblue']    # 색상 리스트\n",
    "                     )\n",
    "\n",
    "plt.title('Model Origin', size=20)\n",
    "plt.axis('equal')    # 파이 차트의 비율을 같게 (원에 가깝게) 조정\n",
    "plt.legend(labels=df_origin.index, loc='upper right')   # 범례 표시"
   ]
  },
  {
   "cell_type": "code",
   "execution_count": null,
   "id": "8ffe4e57",
   "metadata": {},
   "outputs": [],
   "source": []
  },
  {
   "cell_type": "code",
   "execution_count": null,
   "id": "aa47c3e6",
   "metadata": {},
   "outputs": [],
   "source": [
    "# read_csv() 함수로 df 생성\n",
    "df = pd.read_csv('data/auto-mpg.csv', header=None)\n",
    "\n",
    "# 열 이름을 지정\n",
    "df.columns = ['mpg','cylinders','displacement','horsepower','weight',\n",
    "              'acceleration','model year','origin','name']"
   ]
  },
  {
   "cell_type": "code",
   "execution_count": null,
   "id": "5d99957a",
   "metadata": {},
   "outputs": [],
   "source": [
    "df[df['origin']==1]['mpg']"
   ]
  },
  {
   "cell_type": "code",
   "execution_count": null,
   "id": "e89c0be5",
   "metadata": {},
   "outputs": [],
   "source": [
    "# matplotlib 한글 폰트 오류 문제 해결\n",
    "from matplotlib import font_manager, rc\n",
    "font_path = \"data/malgun.ttf\"   #폰트파일의 위치\n",
    "font_name = font_manager.FontProperties(fname=font_path).get_name()\n",
    "rc('font', family=font_name)\n",
    "\n",
    "plt.style.use('seaborn-poster')            # 스타일 서식 지정\n",
    "plt.rcParams['axes.unicode_minus']=False   # 마이너스 부호 출력 설정\n",
    "# 그래프 객체 생성 (figure에 2개의 서브 플롯을 생성)\n",
    "fig = plt.figure(figsize=(15, 5))   \n",
    "ax1 = fig.add_subplot(1, 2, 1)\n",
    "ax2 = fig.add_subplot(1, 2, 2)\n",
    "\n",
    "# axe 객체에 boxplot 메서드로 그래프 출력\n",
    "ax1.boxplot(x=[df[df['origin']==1]['mpg'],\n",
    "               df[df['origin']==2]['mpg'],\n",
    "               df[df['origin']==3]['mpg']], \n",
    "         labels=['USA', 'EU', 'JAPAN'])\n",
    "\n",
    "ax2.boxplot(x=[df[df['origin']==1]['mpg'],\n",
    "               df[df['origin']==2]['mpg'],\n",
    "               df[df['origin']==3]['mpg']], \n",
    "         labels=['USA', 'EU', 'JAPAN'],\n",
    "         vert=False)\n",
    "\n",
    "ax1.set_title('제조국가별 연비 분포(수직 박스 플롯)')\n",
    "ax2.set_title('제조국가별 연비 분포(수평 박스 플롯)')"
   ]
  },
  {
   "cell_type": "code",
   "execution_count": null,
   "id": "0c171a99",
   "metadata": {},
   "outputs": [],
   "source": []
  },
  {
   "cell_type": "code",
   "execution_count": null,
   "id": "8b5458a5",
   "metadata": {},
   "outputs": [],
   "source": [
    "# 라이브러리 불러오기\n",
    "import matplotlib.pyplot as plt\n",
    "import seaborn as sns"
   ]
  },
  {
   "cell_type": "code",
   "execution_count": null,
   "id": "3afe1e68",
   "metadata": {},
   "outputs": [],
   "source": [
    "# Seaborn 제공 데이터셋 가져오기\n",
    "titanic = sns.load_dataset('titanic')\n",
    " \n",
    "# 스타일 테마 설정 (5가지: darkgrid, whitegrid, dark, white, ticks)\n",
    "sns.set_style('whitegrid')\n",
    "\n",
    "# 그래프 객체 생성 (figure에 2개의 서브 플롯을 생성)\n",
    "fig = plt.figure(figsize=(15, 5))   \n",
    "ax1 = fig.add_subplot(1, 2, 1)\n",
    "ax2 = fig.add_subplot(1, 2, 2)\n",
    " \n",
    "# 그래프 그리기 - 선형회귀선 표시(fit_reg=True)\n",
    "sns.regplot(x='age',        #x축 변수\n",
    "            y='fare',       #y축 변수\n",
    "            data=titanic,   #데이터\n",
    "            ax=ax1)         #axe 객체 - 1번째 그래프 \n",
    "\n",
    "# 그래프 그리기 - 선형회귀선 미표시(fit_reg=False)\n",
    "sns.regplot(x='age',        #x축 변수\n",
    "            y='fare',       #y축 변수\n",
    "            data=titanic,   #데이터\n",
    "            ax=ax2,         #axe 객체 - 2번째 그래프        \n",
    "            fit_reg=False)  #회귀선 미표시"
   ]
  },
  {
   "cell_type": "code",
   "execution_count": null,
   "id": "a09e3153",
   "metadata": {},
   "outputs": [],
   "source": []
  },
  {
   "cell_type": "code",
   "execution_count": null,
   "id": "578aad9c",
   "metadata": {},
   "outputs": [],
   "source": [
    "# 스타일 테마 설정 (5가지: darkgrid, whitegrid, dark, white, ticks)\n",
    "sns.set_style('darkgrid')\n",
    "# 그래프 객체 생성 (figure에 3개의 서브 플롯을 생성)\n",
    "fig = plt.figure(figsize=(15, 5))   \n",
    "ax1 = fig.add_subplot(1, 3, 1)\n",
    "ax2 = fig.add_subplot(1, 3, 2)\n",
    "ax3 = fig.add_subplot(1, 3, 3)\n",
    "# distplot\n",
    "sns.distplot(titanic['fare'], ax=ax1) \n",
    "# kdeplot\n",
    "sns.kdeplot(x='fare', data=titanic, ax=ax2) \n",
    "# histplot\n",
    "sns.histplot(x='fare', data=titanic,  ax=ax3)        \n",
    "# 차트 제목 표시\n",
    "ax1.set_title('titanic fare - distplot')\n",
    "ax2.set_title('titanic fare - kdeplot')\n",
    "ax3.set_title('titanic fare - histplot')"
   ]
  },
  {
   "cell_type": "code",
   "execution_count": null,
   "id": "5032deaf",
   "metadata": {},
   "outputs": [],
   "source": []
  },
  {
   "cell_type": "code",
   "execution_count": null,
   "id": "37c8941d",
   "metadata": {},
   "outputs": [],
   "source": [
    "# 스타일 테마 설정 (5가지: darkgrid, whitegrid, dark, white, ticks)\n",
    "sns.set_style('darkgrid')\n",
    "\n",
    "# 피벗테이블로 범주형 변수를 각각 행, 열로 재구분하여 정리\n",
    "table = titanic.pivot_table(index=['sex'], columns=['class'], aggfunc='size')\n",
    "table"
   ]
  },
  {
   "cell_type": "code",
   "execution_count": null,
   "id": "29219a8a",
   "metadata": {},
   "outputs": [],
   "source": [
    "# 히트맵 그리기\n",
    "sns.heatmap(table,                  # 데이터프레임\n",
    "            annot=True, fmt='d',    # 데이터 값 표시 여부, 정수형 포맷\n",
    "            cmap='YlGnBu',          # 컬러 맵\n",
    "            linewidth=.5,           # 구분 선\n",
    "            cbar=False)             # 컬러 바 표시 여부"
   ]
  },
  {
   "cell_type": "code",
   "execution_count": null,
   "id": "19174e1f",
   "metadata": {},
   "outputs": [],
   "source": []
  },
  {
   "cell_type": "code",
   "execution_count": null,
   "id": "0dfd2f49",
   "metadata": {},
   "outputs": [],
   "source": [
    "# 스타일 테마 설정 (5가지: darkgrid, whitegrid, dark, white, ticks)\n",
    "sns.set_style('whitegrid')\n",
    "\n",
    "# 그래프 객체 생성 (figure에 2개의 서브 플롯을 생성)\n",
    "fig = plt.figure(figsize=(15, 5))   \n",
    "ax1 = fig.add_subplot(1, 2, 1)\n",
    "ax2 = fig.add_subplot(1, 2, 2)\n",
    " \n",
    "# 이산형 변수의 분포 - 데이터 분산 미고려\n",
    "sns.stripplot(x=\"class\",      #x축 변수\n",
    "              y=\"age\",        #y축 변수           \n",
    "              data=titanic,   #데이터셋 - 데이터프레임\n",
    "              ax=ax1)         #axe 객체 - 1번째 그래프 \n",
    "\n",
    "# 이산형 변수의 분포 - 데이터 분산 고려 (중복 X) \n",
    "sns.swarmplot(x=\"class\",      #x축 변수\n",
    "              y=\"age\",        #y축 변수\n",
    "              data=titanic,   #데이터셋 - 데이터프레임\n",
    "              ax=ax2)         #axe 객체 - 2번째 그래프        \n",
    "\n",
    "# 차트 제목 표시\n",
    "ax1.set_title('Strip Plot')\n",
    "ax2.set_title('Strip Plot')"
   ]
  },
  {
   "cell_type": "code",
   "execution_count": null,
   "id": "c15126c0",
   "metadata": {},
   "outputs": [],
   "source": []
  },
  {
   "cell_type": "code",
   "execution_count": null,
   "id": "9bd3f921",
   "metadata": {},
   "outputs": [],
   "source": [
    "# 스타일 테마 설정 (5가지: darkgrid, whitegrid, dark, white, ticks)\n",
    "sns.set_style('whitegrid')\n",
    "\n",
    "# 그래프 객체 생성 (figure에 3개의 서브 플롯을 생성)\n",
    "fig = plt.figure(figsize=(15, 5))   \n",
    "ax1 = fig.add_subplot(1, 3, 1)\n",
    "ax2 = fig.add_subplot(1, 3, 2)\n",
    "ax3 = fig.add_subplot(1, 3, 3)\n",
    " \n",
    "# x축, y축에 변수 할당\n",
    "sns.barplot(x='sex', y='survived', data=titanic, ax=ax1) \n",
    "\n",
    "# x축, y축에 변수 할당하고 hue 옵션 추가 \n",
    "sns.barplot(x='sex', y='survived', hue='class', data=titanic, ax=ax2) \n",
    "\n",
    "# x축, y축에 변수 할당하고 hue 옵션을 추가하여 누적 출력\n",
    "sns.barplot(x='sex', y='survived', hue='class', dodge=False, data=titanic, ax=ax3)       \n",
    "\n",
    "# 차트 제목 표시\n",
    "ax1.set_title('titanic survived - sex')\n",
    "ax2.set_title('titanic survived - sex/class')\n",
    "ax3.set_title('titanic survived - sex/class(stacked)')"
   ]
  },
  {
   "cell_type": "code",
   "execution_count": null,
   "id": "f5b4bfec",
   "metadata": {},
   "outputs": [],
   "source": []
  },
  {
   "cell_type": "code",
   "execution_count": null,
   "id": "ac40226f",
   "metadata": {},
   "outputs": [],
   "source": [
    "# 스타일 테마 설정 (5가지: darkgrid, whitegrid, dark, white, ticks)\n",
    "sns.set_style('whitegrid')\n",
    "\n",
    "# 그래프 객체 생성 (figure에 3개의 서브 플롯을 생성)\n",
    "fig = plt.figure(figsize=(15, 5))   \n",
    "ax1 = fig.add_subplot(1, 3, 1)\n",
    "ax2 = fig.add_subplot(1, 3, 2)\n",
    "ax3 = fig.add_subplot(1, 3, 3)\n",
    " \n",
    "# 기본값\n",
    "sns.countplot(x='class', palette='Set1', data=titanic, ax=ax1) \n",
    "\n",
    "# hue 옵션에 'who' 추가 \n",
    "sns.countplot(x='class', hue='who', palette='Set2', data=titanic, ax=ax2) \n",
    "\n",
    "# dodge=False 옵션 추가 (축 방향으로 분리하지 않고 누적 그래프 출력)\n",
    "sns.countplot(x='class', hue='who', palette='Set3', dodge=False, data=titanic, ax=ax3)       \n",
    "\n",
    "# 차트 제목 표시\n",
    "ax1.set_title('titanic class')\n",
    "ax2.set_title('titanic class - who')\n",
    "ax3.set_title('titanic class - who(stacked)')"
   ]
  },
  {
   "cell_type": "code",
   "execution_count": null,
   "id": "aa4d471c",
   "metadata": {},
   "outputs": [],
   "source": []
  },
  {
   "cell_type": "code",
   "execution_count": null,
   "id": "c02df110",
   "metadata": {},
   "outputs": [],
   "source": [
    "# 라이브러리 불러오기\n",
    "import matplotlib.pyplot as plt\n",
    "import seaborn as sns"
   ]
  },
  {
   "cell_type": "code",
   "execution_count": null,
   "id": "98ccfa14",
   "metadata": {},
   "outputs": [],
   "source": [
    "# Seaborn 제공 데이터셋 가져오기\n",
    "titanic = sns.load_dataset('titanic')\n",
    " \n",
    "# 스타일 테마 설정 (5가지: darkgrid, whitegrid, dark, white, ticks)\n",
    "sns.set_style('whitegrid')\n",
    "\n",
    "# 그래프 객체 생성 (figure에 4개의 서브 플롯을 생성)\n",
    "fig = plt.figure(figsize=(15, 10))   \n",
    "ax1 = fig.add_subplot(2, 2, 1)\n",
    "ax2 = fig.add_subplot(2, 2, 2)\n",
    "ax3 = fig.add_subplot(2, 2, 3)\n",
    "ax4 = fig.add_subplot(2, 2, 4)\n",
    " \n",
    "# 박스 그래프 - 기본값\n",
    "sns.boxplot(x='alive', y='age', data=titanic, ax=ax1) \n",
    "\n",
    "# 바이올린 그래프 - hue 변수 추가\n",
    "sns.boxplot(x='alive', y='age', hue='sex', data=titanic, ax=ax2) \n",
    "\n",
    "# 박스 그래프 - 기본값\n",
    "sns.violinplot(x='alive', y='age', data=titanic, ax=ax3) \n",
    "\n",
    "# 바이올린 그래프 - hue 변수 추가\n",
    "sns.violinplot(x='alive', y='age', hue='sex', data=titanic, ax=ax4) "
   ]
  },
  {
   "cell_type": "code",
   "execution_count": null,
   "id": "a9f1a975",
   "metadata": {},
   "outputs": [],
   "source": []
  },
  {
   "cell_type": "code",
   "execution_count": null,
   "id": "f6881c34",
   "metadata": {},
   "outputs": [],
   "source": [
    "# 라이브러리 불러오기\n",
    "import matplotlib.pyplot as plt\n",
    "import seaborn as sns"
   ]
  },
  {
   "cell_type": "code",
   "execution_count": null,
   "id": "918a69f5",
   "metadata": {},
   "outputs": [],
   "source": [
    "# 스타일 테마 설정 (5가지: darkgrid, whitegrid, dark, white, ticks)\n",
    "sns.set_style('whitegrid')\n",
    "\n",
    "# 그래프 객체 생성 (figure에 4개의 서브 플롯을 생성)\n",
    "plt.figure(figsize=(5, 20))\n",
    "\n",
    "# 조인트 그래프 - 산점도(기본값)\n",
    "j1 = sns.jointplot(x='fare', y='age', data=titanic) \n",
    "j1.fig.suptitle('titanic fare - scatter', size=10)"
   ]
  },
  {
   "cell_type": "code",
   "execution_count": null,
   "id": "a3a00b6d",
   "metadata": {},
   "outputs": [],
   "source": [
    "# 조인트 그래프 - 회귀선\n",
    "j2 = sns.jointplot(x='fare', y='age', kind='reg', data=titanic) \n",
    "j2.fig.suptitle('titanic fare - reg', size=10)"
   ]
  },
  {
   "cell_type": "code",
   "execution_count": null,
   "id": "f1f6b530",
   "metadata": {},
   "outputs": [],
   "source": [
    "# 조인트 그래프 - 육각 그래프\n",
    "j3 = sns.jointplot(x='fare', y='age', kind='hex', data=titanic) \n",
    "j3.fig.suptitle('titanic fare - hex', size=10)"
   ]
  },
  {
   "cell_type": "code",
   "execution_count": null,
   "id": "8821a737",
   "metadata": {},
   "outputs": [],
   "source": [
    "# 조인트 그래프 - 커럴 밀집 그래프\n",
    "j4 = sns.jointplot(x='fare', y='age', kind='kde', data=titanic) \n",
    "j4.fig.suptitle('titanic fare - kde', size=10)"
   ]
  },
  {
   "cell_type": "code",
   "execution_count": null,
   "id": "e510b12b",
   "metadata": {},
   "outputs": [],
   "source": [
    "titanic"
   ]
  },
  {
   "cell_type": "code",
   "execution_count": null,
   "id": "a5f715d9",
   "metadata": {},
   "outputs": [],
   "source": [
    "# 스타일 테마 설정 (5가지: darkgrid, whitegrid, dark, white, ticks)\n",
    "sns.set_style('whitegrid')\n",
    "\n",
    "# 조건에 따라 그리드 나누기\n",
    "g = sns.FacetGrid(data=titanic, col='who', row='survived') \n",
    "\n",
    "# 그래프 적용하기\n",
    "g = g.map(plt.hist, 'fare')"
   ]
  },
  {
   "cell_type": "code",
   "execution_count": null,
   "id": "5c6b4293",
   "metadata": {},
   "outputs": [],
   "source": [
    "titanic"
   ]
  },
  {
   "cell_type": "code",
   "execution_count": null,
   "id": "0ee5b826",
   "metadata": {},
   "outputs": [],
   "source": [
    "# 스타일 테마 설정 (5가지: darkgrid, whitegrid, dark, white, ticks)\n",
    "sns.set_style('whitegrid')\n",
    "\n",
    "# titanic 데이터셋 중에서 분석 데이터 선택하기\n",
    "titanic_pair = titanic[['age','pclass', 'fare', 'sibsp']]\n",
    "\n",
    "# 조건에 따라 그리드 나누기\n",
    "g = sns.pairplot(titanic_pair)"
   ]
  },
  {
   "cell_type": "code",
   "execution_count": null,
   "id": "864ae88e",
   "metadata": {},
   "outputs": [],
   "source": []
  }
 ],
 "metadata": {
  "kernelspec": {
   "display_name": "Python 3 (ipykernel)",
   "language": "python",
   "name": "python3"
  },
  "language_info": {
   "codemirror_mode": {
    "name": "ipython",
    "version": 3
   },
   "file_extension": ".py",
   "mimetype": "text/x-python",
   "name": "python",
   "nbconvert_exporter": "python",
   "pygments_lexer": "ipython3",
   "version": "3.9.12"
  }
 },
 "nbformat": 4,
 "nbformat_minor": 5
}
