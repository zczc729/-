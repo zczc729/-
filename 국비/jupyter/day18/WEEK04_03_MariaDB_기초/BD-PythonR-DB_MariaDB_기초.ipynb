{
 "cells": [
  {
   "cell_type": "markdown",
   "id": "7f4c8350",
   "metadata": {},
   "source": [
    "# MariaDB 설치 및 데이터적재 (기초)"
   ]
  },
  {
   "cell_type": "code",
   "execution_count": null,
   "id": "6ca1b123",
   "metadata": {},
   "outputs": [],
   "source": []
  },
  {
   "cell_type": "markdown",
   "id": "c29442bd",
   "metadata": {},
   "source": [
    "## Step.1 관련 툴 설치"
   ]
  },
  {
   "cell_type": "markdown",
   "id": "3f86a596",
   "metadata": {},
   "source": [
    "- [MariaDB 설치방법](https://cha-coding.tistory.com/entry/MariaDB-%EC%9C%88%EB%8F%84%EC%9A%B010-MariaDB-%EC%84%A4%EC%B9%98%ED%95%98%EA%B8%B0)\n",
    "\n",
    "    **(주의) id/password 는 root/root1234 로 통일**  \n",
    "    -- Enable access from remote machines for 'root' user : 외부 원격 시스템에서 'root' 계정에 대해 접근을 허용한다.   \n",
    "    -- User UTF8 as default server's charactor set (필수) : 서버의 문자셋을 UTF8로 설정한다.    \n",
    "    -- MySQL과 MariaDB는 기본적으로 3306 포트를 이용한다.\n",
    "\n",
    "\n",
    "- [MariaDB 다운로드](https://mariadb.org/download/?t=mariadb&p=mariadb&r=11.3.2&os=windows&cpu=x86_64&pkg=msi&mirror=blendbyte)\n",
    "\n",
    "\n",
    "- [HeidiSQL다운로드](https://www.heidisql.com/download.php)\n",
    "\n",
    "    **(신규 데이터베이스 생성**   \n",
    "    -- <새로생성> - <데이터베이스> - 이름은 'dbmaria'    \n",
    "          \n",
    "    **(신규 사용자 등록)**    \n",
    "    -- 1. 프로그램 상단의 [도구] - [사용자 관리자] 메뉴 클릭   \n",
    "    -- 2. [추가] 버튼 클릭    \n",
    "    -- 3. 사용자 이름(user), 암호(user1234), 호스트(모든곳에서접근), 데이터베이스(dbmaria) 설정을 해준다.  "
   ]
  },
  {
   "cell_type": "code",
   "execution_count": null,
   "id": "aae1a9ff",
   "metadata": {},
   "outputs": [],
   "source": []
  },
  {
   "cell_type": "markdown",
   "id": "78c9034d",
   "metadata": {},
   "source": [
    "## Step.2 MariaDB 연결 (pymysql 사용)"
   ]
  },
  {
   "cell_type": "code",
   "execution_count": null,
   "id": "2d6f83c9",
   "metadata": {},
   "outputs": [],
   "source": [
    "# pymysql 라이브러리를 설치합니다.\n",
    "#!pip install pymysql\n",
    "\n",
    "#### 아래 실행 전 테이블 삭제\n",
    "def db_delete():\n",
    "    import pymysql\n",
    "    # MariaDB 연결\n",
    "    conn = pymysql.connect(host='127.0.0.1', user='user', password='user1234', db='dbmaria', charset='utf8')\n",
    "    # 커서 생성\n",
    "    cur = conn.cursor()\n",
    "    # User 테이블 생성 (nameUser에 UNIQUE 제약 추가)\n",
    "    cur.execute('''DROP TABLE user''')\n",
    "    # 변경사항 커밋\n",
    "    conn.commit()\n",
    "    # 연결 종료\n",
    "    conn.close()"
   ]
  },
  {
   "cell_type": "code",
   "execution_count": null,
   "id": "68d31744",
   "metadata": {},
   "outputs": [],
   "source": [
    "#db_delete()"
   ]
  },
  {
   "cell_type": "markdown",
   "id": "a431ca92",
   "metadata": {},
   "source": [
    "- 테이블 생성 및 샘플 데이터 추가"
   ]
  },
  {
   "cell_type": "code",
   "execution_count": null,
   "id": "512bedfe",
   "metadata": {},
   "outputs": [],
   "source": [
    "import pymysql\n",
    "# MariaDB 연결\n",
    "conn = pymysql.connect(host='127.0.0.1', user='user', password='user1234', db='dbmaria', charset='utf8')\n",
    "# 커서 생성\n",
    "cur = conn.cursor()\n",
    "# User 테이블 생성 (nameUser에 UNIQUE 제약 추가)\n",
    "cur.execute('''CREATE TABLE IF NOT EXISTS user (\n",
    "                nameUser VARCHAR(255) PRIMARY KEY,\n",
    "                ageUser INTEGER,\n",
    "                phoneUser VARCHAR(20)\n",
    "            )''')\n",
    "# 삽입할 데이터\n",
    "data_list = [\n",
    "    ('user1', 25, '010-0123-4567'),\n",
    "    ('user2', 30, '010-1234-5678'),\n",
    "    ('user3', 35, '010-2345-6789'),\n",
    "    ('user4', 40, '010-3456-7890'),\n",
    "    ('user5', 66, '010-3676-7230')\n",
    "]\n",
    "# 데이터 삽입\n",
    "sql = \"INSERT INTO user (nameUser, ageUser, phoneUser) VALUES (%s, %s, %s)\"\n",
    "cur.executemany(sql, data_list)\n",
    "# 변경사항 커밋\n",
    "conn.commit()\n",
    "# 연결 종료\n",
    "conn.close()"
   ]
  },
  {
   "cell_type": "markdown",
   "id": "8f957e86",
   "metadata": {},
   "source": [
    "- 테이블 데이터 조회"
   ]
  },
  {
   "cell_type": "code",
   "execution_count": null,
   "id": "baba2db5",
   "metadata": {
    "scrolled": true
   },
   "outputs": [],
   "source": [
    "import pymysql\n",
    "conn = pymysql.connect(host='127.0.0.1', user='user', password='user1234', db='dbmaria', charset='utf8')\n",
    "cur = conn.cursor()\n",
    "sql = \"SELECT * FROM user\"\n",
    "cur.execute(sql)\n",
    "results = cur.fetchall()\n",
    "for i in results:\n",
    "    print(i[0] + \" / \" + str(i[1]) + \" / \" + i[2])\n",
    "conn.close()"
   ]
  },
  {
   "cell_type": "code",
   "execution_count": null,
   "id": "4f87bfb6",
   "metadata": {},
   "outputs": [],
   "source": [
    "import pymysql\n",
    "def db_query():\n",
    "    conn = pymysql.connect(host='127.0.0.1', user='user', password='user1234', db='dbmaria', charset='utf8')\n",
    "    cur = conn.cursor()\n",
    "    sql = \"SELECT * FROM user\"\n",
    "    cur.execute(sql)\n",
    "    results = cur.fetchall()\n",
    "    for i in results:\n",
    "        print(i[0] + \" / \" + str(i[1]) + \" / \" + i[2])\n",
    "    conn.close()"
   ]
  },
  {
   "cell_type": "markdown",
   "id": "0f36b29d",
   "metadata": {},
   "source": [
    "- 테이블에서 데이터 수정"
   ]
  },
  {
   "cell_type": "code",
   "execution_count": null,
   "id": "878cc53f",
   "metadata": {},
   "outputs": [],
   "source": [
    "import pymysql\n",
    "conn = pymysql.connect(host='127.0.0.1', user='user', password='user1234', db='dbmaria', charset='utf8')\n",
    "cur = conn.cursor()\n",
    "sql = \"UPDATE User SET ageUser = 25 WHERE nameUser = 'user4'\"\n",
    "cur.execute(sql)\n",
    "conn.commit()\n",
    "conn.close()"
   ]
  },
  {
   "cell_type": "code",
   "execution_count": null,
   "id": "3161338c",
   "metadata": {},
   "outputs": [],
   "source": [
    "db_query()"
   ]
  },
  {
   "cell_type": "markdown",
   "id": "b94b64ea",
   "metadata": {},
   "source": [
    "- 테이블에 데이터 추가"
   ]
  },
  {
   "cell_type": "code",
   "execution_count": null,
   "id": "566a98f7",
   "metadata": {},
   "outputs": [],
   "source": [
    "import pymysql\n",
    "conn = pymysql.connect(host='127.0.0.1', user='user', password='user1234', db='dbmaria', charset='utf8')\n",
    "cur = conn.cursor()\n",
    "sql = \"INSERT INTO User (nameUser, ageUser, phoneUser) VALUE ('user6',25,'010-0123-4567')\"\n",
    "#sql = \"INSERT INTO User (nameUser, ageUser, phoneUser) VALUE ('user7',35,'010-0233-4587')\"\n",
    "cur.execute(sql)\n",
    "conn.commit()\n",
    "conn.close()"
   ]
  },
  {
   "cell_type": "code",
   "execution_count": null,
   "id": "0bb741a2",
   "metadata": {},
   "outputs": [],
   "source": [
    "db_query()"
   ]
  },
  {
   "cell_type": "markdown",
   "id": "6971840d",
   "metadata": {},
   "source": [
    "- 테이블에서 데이터 삭제"
   ]
  },
  {
   "cell_type": "code",
   "execution_count": null,
   "id": "0ddd4b4a",
   "metadata": {},
   "outputs": [],
   "source": [
    "import pymysql\n",
    "conn = pymysql.connect(host='127.0.0.1', user='user', password='user1234', db='dbmaria', charset='utf8')\n",
    "cur = conn.cursor()\n",
    "sql = \"DELETE FROM User WHERE nameUser = 'user6'\"\n",
    "cur.execute(sql)\n",
    "conn.commit()\n",
    "conn.close()"
   ]
  },
  {
   "cell_type": "code",
   "execution_count": null,
   "id": "fb48719e",
   "metadata": {},
   "outputs": [],
   "source": [
    "db_query()"
   ]
  },
  {
   "cell_type": "code",
   "execution_count": null,
   "id": "331b4b25",
   "metadata": {},
   "outputs": [],
   "source": [
    "db_delete()"
   ]
  },
  {
   "cell_type": "code",
   "execution_count": null,
   "id": "7a88b6dc",
   "metadata": {},
   "outputs": [],
   "source": []
  }
 ],
 "metadata": {
  "kernelspec": {
   "display_name": "Python 3 (ipykernel)",
   "language": "python",
   "name": "python3"
  },
  "language_info": {
   "codemirror_mode": {
    "name": "ipython",
    "version": 3
   },
   "file_extension": ".py",
   "mimetype": "text/x-python",
   "name": "python",
   "nbconvert_exporter": "python",
   "pygments_lexer": "ipython3",
   "version": "3.9.12"
  }
 },
 "nbformat": 4,
 "nbformat_minor": 5
}
