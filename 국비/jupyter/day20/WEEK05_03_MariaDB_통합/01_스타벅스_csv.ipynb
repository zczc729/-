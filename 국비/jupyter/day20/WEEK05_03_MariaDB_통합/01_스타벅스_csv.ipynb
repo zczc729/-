{
 "cells": [
  {
   "cell_type": "markdown",
   "id": "ab91e3df",
   "metadata": {},
   "source": [
    "# folium을 이용한 서울시 스타벅스 이디야 입지 시각화\n",
    "- 참고 : https://wooiljeong.github.io/python/folium/"
   ]
  },
  {
   "cell_type": "markdown",
   "id": "4bd095d4",
   "metadata": {},
   "source": [
    "- 필요한 import 및 from 작업"
   ]
  },
  {
   "cell_type": "code",
   "execution_count": null,
   "id": "196dab34",
   "metadata": {},
   "outputs": [],
   "source": [
    "#!pip install folium"
   ]
  },
  {
   "cell_type": "code",
   "execution_count": null,
   "id": "cac5dcb5",
   "metadata": {},
   "outputs": [],
   "source": [
    "import folium\n",
    "import json\n",
    "import glob\n",
    "import os\n",
    "import pandas as pd\n",
    "import numpy as np"
   ]
  },
  {
   "cell_type": "markdown",
   "id": "9e761303",
   "metadata": {},
   "source": [
    "- 가장 최근 \"소상공인시장진흥공단_상가(상권)정보 파일\"을 다운로드합니다.\n",
    "- 링크 : https://www.data.go.kr/data/15083033/fileData.do"
   ]
  },
  {
   "cell_type": "markdown",
   "id": "6ac27dc9",
   "metadata": {},
   "source": [
    "- 데이터 불러오기"
   ]
  },
  {
   "cell_type": "code",
   "execution_count": null,
   "id": "5e7491cc",
   "metadata": {},
   "outputs": [],
   "source": [
    "#path = 'store202209/'\n",
    "path = 'store202403/'\n",
    "allFiles = glob.glob(os.path.join(path+\"*.csv\"))\n",
    "\n",
    "df = pd.DataFrame()\n",
    "for file in allFiles:\n",
    "\n",
    "    print(file)\n",
    "\n",
    "    temp = pd.read_csv(file, engine='python', encoding='utf-8')\n",
    "    df = pd.concat([df, temp])"
   ]
  },
  {
   "cell_type": "markdown",
   "id": "33ff75f8",
   "metadata": {},
   "source": [
    "- 데이터 컬럼 확인하기"
   ]
  },
  {
   "cell_type": "code",
   "execution_count": null,
   "id": "e8d1f3e0",
   "metadata": {},
   "outputs": [],
   "source": [
    "print('컬럼 항목 수 :', len(df.columns))\n",
    "list(df.columns)"
   ]
  },
  {
   "cell_type": "markdown",
   "id": "a7c249a2",
   "metadata": {},
   "source": [
    "- 상권업종 간단하게 확인하기"
   ]
  },
  {
   "cell_type": "code",
   "execution_count": null,
   "id": "2d012fc2",
   "metadata": {},
   "outputs": [],
   "source": [
    "print('='*70)\n",
    "print('상권업종대분류명', set(df['상권업종대분류명']))\n",
    "print('='*70)\n",
    "print('상권업종중분류명', set(df['상권업종중분류명']))\n",
    "print('='*70)"
   ]
  },
  {
   "cell_type": "markdown",
   "id": "ce19d8ff",
   "metadata": {},
   "source": [
    "- 관련 정보만 추출"
   ]
  },
  {
   "cell_type": "code",
   "execution_count": null,
   "id": "f289dee8",
   "metadata": {},
   "outputs": [],
   "source": [
    "dataset = df[['상호명','지점명',\n",
    "              '상권업종대분류명', '상권업종중분류명',\n",
    "              '시도명', '시군구명', '행정동명',\n",
    "              '위도', '경도']]\n",
    "\n",
    "dataset.head()"
   ]
  },
  {
   "cell_type": "markdown",
   "id": "52e4b038",
   "metadata": {},
   "source": [
    "- 커피 전문점 데이터 추출\n",
    "- 여러 상권업소 중 서울시 내 커피 전문점 업소만 추출해 df_coffee를 정의합니다.\n",
    "- 즉, 시도명이 서울특별시이면서, 상권업종중분류명이 커피점/카페인 경우를 뜻합니다."
   ]
  },
  {
   "cell_type": "code",
   "execution_count": null,
   "id": "f888b558",
   "metadata": {},
   "outputs": [],
   "source": [
    "sdata = dataset[dataset['상호명']=='스타벅스']\n",
    "sdata"
   ]
  },
  {
   "cell_type": "code",
   "execution_count": null,
   "id": "d8e0aaac",
   "metadata": {},
   "outputs": [],
   "source": [
    "if path == 'store202209/':\n",
    "    sdata.to_csv(\"data/starbucks_raw_csv.csv\", encoding='cp949')"
   ]
  },
  {
   "cell_type": "code",
   "execution_count": null,
   "id": "877e54d8",
   "metadata": {},
   "outputs": [],
   "source": [
    "#df_coffee = dataset[(dataset['상권업종중분류명']=='커피점/카페')&(dataset['시도명']=='서울특별시')]\n",
    "df_coffee = dataset[(dataset['상호명']=='스타벅스')&(dataset['시도명']=='서울특별시')]\n",
    "df_coffee.index = range(len(df_coffee))\n",
    "print('서울시 내 커피 전문점 점포 수 :', len(df_coffee))\n",
    "df_coffee.head()"
   ]
  },
  {
   "cell_type": "code",
   "execution_count": null,
   "id": "2c4758e2",
   "metadata": {},
   "outputs": [],
   "source": [
    "df_coffee['상호명']"
   ]
  },
  {
   "cell_type": "markdown",
   "id": "935abbdb",
   "metadata": {},
   "source": [
    "- 스타벅스 데이터 추출"
   ]
  },
  {
   "cell_type": "code",
   "execution_count": null,
   "id": "1d1e12ce",
   "metadata": {},
   "outputs": [],
   "source": [
    "df_seoul_starbucks = df_coffee[df_coffee['상호명'].str.contains('스타벅스')]\n",
    "df_seoul_starbucks.index = range(len(df_seoul_starbucks))\n",
    "print('서울시 내 스타벅스 점포 수 :', len(df_seoul_starbucks))\n",
    "df_seoul_starbucks.head()"
   ]
  },
  {
   "cell_type": "markdown",
   "id": "cdf13158",
   "metadata": {},
   "source": [
    "- 이디야 데이터 추출"
   ]
  },
  {
   "cell_type": "code",
   "execution_count": null,
   "id": "c3a12499",
   "metadata": {},
   "outputs": [],
   "source": [
    "df_seoul_ediya = df_coffee[df_coffee['상호명'].str.contains('이디야')]\n",
    "df_seoul_ediya.index = range(len(df_seoul_ediya))\n",
    "print('서울시 내 이디야 점포 수 :', len(df_seoul_ediya))\n",
    "df_seoul_ediya.head()"
   ]
  },
  {
   "cell_type": "markdown",
   "id": "f57f7d3d",
   "metadata": {},
   "source": [
    "- 메가커피 데이터 추출"
   ]
  },
  {
   "cell_type": "code",
   "execution_count": null,
   "id": "faa94103",
   "metadata": {},
   "outputs": [],
   "source": [
    "df_seoul_mega = df_coffee[df_coffee['상호명'].str.contains('메가커피')]\n",
    "df_seoul_mega.index = range(len(df_seoul_mega))\n",
    "print('서울시 내 메가커피 점포 수 :', len(df_seoul_mega))\n",
    "df_seoul_mega.head()"
   ]
  },
  {
   "cell_type": "markdown",
   "id": "b0fa76b0",
   "metadata": {},
   "source": [
    "- 서울시 구 별 스타벅스 수"
   ]
  },
  {
   "cell_type": "code",
   "execution_count": null,
   "id": "3a995a66",
   "metadata": {},
   "outputs": [],
   "source": [
    "starbucks_gu = df_seoul_starbucks.groupby('시군구명')['상호명'].count().to_frame().sort_values(by='상호명', ascending=False)\n",
    "starbucks_gu = starbucks_gu.reset_index()\n",
    "starbucks_gu = starbucks_gu.set_index('시군구명')\n",
    "starbucks_gu"
   ]
  },
  {
   "cell_type": "markdown",
   "id": "a51add7f",
   "metadata": {},
   "source": [
    "- 서울시 구 별 이디야 수"
   ]
  },
  {
   "cell_type": "code",
   "execution_count": null,
   "id": "01720942",
   "metadata": {},
   "outputs": [],
   "source": [
    "ediya_gu = df_seoul_ediya.groupby('시군구명')['상호명'].count().to_frame().sort_values(by='상호명', ascending=False)\n",
    "ediya_gu = ediya_gu.reset_index()\n",
    "ediya_gu = ediya_gu.set_index('시군구명')\n",
    "ediya_gu"
   ]
  },
  {
   "cell_type": "markdown",
   "id": "87a4fc50",
   "metadata": {},
   "source": [
    "- 서울시 구 별 메가커피 수"
   ]
  },
  {
   "cell_type": "code",
   "execution_count": null,
   "id": "22e569d3",
   "metadata": {},
   "outputs": [],
   "source": [
    "mega_gu = df_seoul_mega.groupby('시군구명')['상호명'].count().to_frame().sort_values(by='상호명', ascending=False)\n",
    "mega_gu = mega_gu.reset_index()\n",
    "mega_gu = mega_gu.set_index('시군구명')\n",
    "mega_gu"
   ]
  },
  {
   "cell_type": "markdown",
   "id": "13a0ea56",
   "metadata": {},
   "source": [
    "- 서울특별시 폴리곤 JSON 파일 불러오기\n",
    "- https://github.com/PinkWink/DataScience/blob/master/data/02.%20skorea_municipalities_geo_simple.json"
   ]
  },
  {
   "cell_type": "markdown",
   "id": "e17ffc40",
   "metadata": {},
   "source": [
    "folium을 통해 서울시 지도 위에 점포들을 시각화하기 위해서는 지리 정보를 담고 있는 폴리곤 json 파일이 필요합니다.\n",
    "PinkWink(github)에 접속 후 02.%20skorea_municipalities_geo_simple.json을 map/ 폴더에 다운로드하여 불러옵니다.\n",
    "\n",
    "간편 다운로드 방법\n",
    "\n",
    "skorea_municipalities_geo_simple.json 링크를 우클릭하여 다른 이름으로 링크 저장 합니다.\n",
    "(출처:PinkWink(github))"
   ]
  },
  {
   "cell_type": "code",
   "execution_count": null,
   "id": "ed15185f",
   "metadata": {},
   "outputs": [],
   "source": [
    "geo_path = 'map/02. skorea_municipalities_geo_simple.json'\n",
    "geo_str = json.load(open(geo_path, encoding='utf-8'))"
   ]
  },
  {
   "cell_type": "code",
   "execution_count": null,
   "id": "056050f0",
   "metadata": {},
   "outputs": [],
   "source": [
    "# 위치 파라미터 설정\n",
    "loc = [37.5502, 126.982] # 위도(N), 경도(E)\n",
    "data_size = len(df_seoul_starbucks)\n",
    "\n",
    "# 지도 정의\n",
    "map_starbucks = folium.Map(location=loc, zoom_start=12)\n",
    "folium.Choropleth(geo_data=geo_str,\n",
    "              data = starbucks_gu['상호명'],\n",
    "              columns=[starbucks_gu.index, starbucks_gu['상호명']],\n",
    "              fill_color='PuRd',\n",
    "              key_on='feature.id')\n",
    "\n",
    "\n",
    "# 포인트 마커 추가\n",
    "\n",
    "for i in range(data_size):\n",
    "\n",
    "    folium.Marker(list(df_seoul_starbucks.iloc[i][['위도', '경도']]),\n",
    "                 popup=df_seoul_starbucks.iloc[i][['지점명']],\n",
    "                 icon=folium.Icon(color='green')).add_to(map_starbucks)\n",
    "\n",
    "map_starbucks"
   ]
  },
  {
   "cell_type": "markdown",
   "id": "e4c2b2c4",
   "metadata": {},
   "source": [
    "- 서울시 구 별 이디야 분포도 시각화"
   ]
  },
  {
   "cell_type": "code",
   "execution_count": null,
   "id": "f5003a3c",
   "metadata": {},
   "outputs": [],
   "source": [
    "# 위치 파라미터 설정\n",
    "loc = [37.5502, 126.982] # 위도(N), 경도(E)\n",
    "data2_size = len(df_seoul_ediya)\n",
    "\n",
    "# 지도 정의\n",
    "map_ediya = folium.Map(location=loc, zoom_start=12)\n",
    "folium.Choropleth(geo_data=geo_str,\n",
    "              data = ediya_gu['상호명'],\n",
    "              columns=[ediya_gu.index, ediya_gu['상호명']],\n",
    "              fill_color='PuRd',\n",
    "              key_on='feature.id')\n",
    "\n",
    "\n",
    "# 포인트 마커 추가\n",
    "\n",
    "for i in range(data2_size):\n",
    "\n",
    "    folium.Marker(list(df_seoul_ediya.iloc[i][['위도', '경도']]),\n",
    "                 popup=df_seoul_ediya.iloc[i][['지점명']],\n",
    "                 icon=folium.Icon(color='blue')).add_to(map_ediya)\n",
    "\n",
    "map_ediya"
   ]
  },
  {
   "cell_type": "markdown",
   "id": "4c87eca7",
   "metadata": {},
   "source": [
    "- 서울시 스타벅스 및 이디야 입지 시각화"
   ]
  },
  {
   "cell_type": "code",
   "execution_count": null,
   "id": "bff8835d",
   "metadata": {},
   "outputs": [],
   "source": [
    "# 위치 파라미터 설정\n",
    "loc = [37.5502, 126.982] # 위도(N), 경도(E)\n",
    "\n",
    "data_size = len(df_seoul_starbucks)\n",
    "data2_size = len(df_seoul_ediya)\n",
    "\n",
    "# 지도 정의\n",
    "map = folium.Map(location=loc,\n",
    "                 #tiles = 'Stamen Terrain',\n",
    "                 #attr='Map tiles by Stamen Design, under CC BY 3.0. Data by OpenStreetMap, under ODbL.',\n",
    "                 zoom_start=11)\n",
    "\n",
    "# 포인트 마커 추가\n",
    "\n",
    "for i in range(data_size):\n",
    "\n",
    "    folium.Marker(list(df_seoul_starbucks.iloc[i][['위도', '경도']]),\n",
    "                 popup=df_seoul_starbucks.iloc[i][['지점명']],\n",
    "                 icon=folium.Icon(color='green')).add_to(map)\n",
    "\n",
    "\n",
    "for i in range(data2_size):\n",
    "\n",
    "    folium.Marker(list(df_seoul_ediya.iloc[i][['위도', '경도']]),\n",
    "                 popup=df_seoul_ediya.iloc[i][['지점명']],\n",
    "                 icon=folium.Icon(color='blue')).add_to(map)\n",
    "\n",
    "\n",
    "map"
   ]
  },
  {
   "cell_type": "markdown",
   "id": "62136165",
   "metadata": {},
   "source": [
    "- 점포 별 반경 100m 서클 시각화"
   ]
  },
  {
   "cell_type": "code",
   "execution_count": null,
   "id": "5ae19e19",
   "metadata": {},
   "outputs": [],
   "source": [
    "# 위치 파라미터 설정\n",
    "\n",
    "# 강남역 좌표\n",
    "loc = [37.497895, 127.027565] # 위도(N), 경도(E)\n",
    "\n",
    "data_size = len(df_seoul_starbucks)\n",
    "data2_size = len(df_seoul_ediya)\n",
    "\n",
    "# 지도 정의\n",
    "map = folium.Map(location=loc, zoom_start=12)\n",
    "folium.Choropleth(geo_data=geo_str,\n",
    "              data = starbucks_gu['상호명'],\n",
    "              columns=[starbucks_gu.index, starbucks_gu['상호명']],\n",
    "              fill_color='PuRd',\n",
    "              key_on='feature.id')\n",
    "\n",
    "# 포인트 서클 추가\n",
    "\n",
    "for i in range(data_size):\n",
    "\n",
    "    folium.Circle(list(df_seoul_starbucks.iloc[i][['위도', '경도']]),\n",
    "                  radius = 100,\n",
    "                  popup = df_seoul_starbucks.iloc[i]['지점명'],\n",
    "                  color = '#2c9147',fill_color = '#2c9147').add_to(map)\n",
    "\n",
    "for i in range(data2_size):\n",
    "\n",
    "    folium.Circle(list(df_seoul_ediya.iloc[i][['위도', '경도']]),\n",
    "                  radius = 100,\n",
    "                  popup = df_seoul_ediya.iloc[i]['지점명'],\n",
    "                  color = '#32408c',fill_color = '#32408c').add_to(map)\n",
    "\n",
    "map"
   ]
  },
  {
   "cell_type": "markdown",
   "id": "52c5faef",
   "metadata": {},
   "source": [
    "- 결론   \n",
    "점포 별 반경 100m 서클 시각화 결과는 강남역을 중심으로 확대한 지도를 보여주고 있습니다. 점포 마다 반경 100m 지역을 원으로 나타내고 있습니다. 반원을 점포의 직접적인 상권으로 가정하면, 초록색 원인 스타벅스와 파란색 원인 이디야 사이에 직접적인 상권이 겹치는 부분이 심심치 않게 보입니다. 또한, 두 브랜드 모두 특정 도로를 중심으로 분포하고 있는 모습을 확인할 수 있습니다. 시각화 결과만 놓고 보면 두 점포가 매우 가까이에 위치해 있는 것을 알 수 있습니다. 다만, 이는 두 브랜드를 비교한 결과이기때문에 스타벅스와 이디야만 근접해있다고 볼 수는 없다는 한계가 있습니다."
   ]
  },
  {
   "cell_type": "code",
   "execution_count": null,
   "id": "938dfcbb",
   "metadata": {
    "scrolled": true
   },
   "outputs": [],
   "source": [
    "# 위치 파라미터 설정\n",
    "loc = [37.5502, 126.982] # 위도(N), 경도(E)\n",
    "\n",
    "data_size = len(df_seoul_starbucks)\n",
    "data2_size = len(df_seoul_ediya)\n",
    "\n",
    "# 지도 정의\n",
    "map = folium.Map(location=loc,\n",
    "                 #tiles = 'Stamen Toner',\n",
    "                 zoom_start=11)\n",
    "\n",
    "\n",
    "# 지도 정의\n",
    "map = folium.Map(location=loc, zoom_start=12)\n",
    "folium.Choropleth(geo_data=geo_str,\n",
    "              data = starbucks_gu['상호명'],\n",
    "              columns=[starbucks_gu.index, starbucks_gu['상호명']],\n",
    "              fill_color='PuRd',\n",
    "              key_on='feature.id')\n",
    "\n",
    "# 포인트 마커 추가\n",
    "\n",
    "for i in range(data_size):\n",
    "\n",
    "    folium.Marker(list(df_seoul_starbucks.iloc[i][['위도', '경도']]),\n",
    "                 popup=df_seoul_starbucks.iloc[i][['지점명']],\n",
    "                 icon=folium.Icon(color='green')).add_to(map)\n",
    "\n",
    "\n",
    "for i in range(data2_size):\n",
    "\n",
    "    folium.Marker(list(df_seoul_ediya.iloc[i][['위도', '경도']]),\n",
    "                 popup=df_seoul_ediya.iloc[i][['지점명']],\n",
    "                 icon=folium.Icon(color='blue')).add_to(map)\n",
    "\n",
    "\n",
    "map"
   ]
  },
  {
   "cell_type": "code",
   "execution_count": null,
   "id": "4f833800",
   "metadata": {},
   "outputs": [],
   "source": []
  }
 ],
 "metadata": {
  "kernelspec": {
   "display_name": "Python 3 (ipykernel)",
   "language": "python",
   "name": "python3"
  },
  "language_info": {
   "codemirror_mode": {
    "name": "ipython",
    "version": 3
   },
   "file_extension": ".py",
   "mimetype": "text/x-python",
   "name": "python",
   "nbconvert_exporter": "python",
   "pygments_lexer": "ipython3",
   "version": "3.9.12"
  },
  "toc": {
   "base_numbering": 1,
   "nav_menu": {},
   "number_sections": true,
   "sideBar": true,
   "skip_h1_title": false,
   "title_cell": "Table of Contents",
   "title_sidebar": "Contents",
   "toc_cell": false,
   "toc_position": {},
   "toc_section_display": true,
   "toc_window_display": false
  }
 },
 "nbformat": 4,
 "nbformat_minor": 5
}
