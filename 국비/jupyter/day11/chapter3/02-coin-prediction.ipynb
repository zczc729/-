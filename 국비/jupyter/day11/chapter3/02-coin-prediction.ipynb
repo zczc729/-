{
 "cells": [
  {
   "cell_type": "markdown",
   "metadata": {},
   "source": [
    "Copyright (c) 2019 [윤기태]\n",
    "\n",
    "https://github.com/yoonkt200/python-data-analysis\n",
    "\n",
    "[MIT License](https://github.com/yoonkt200/python-data-analysis/blob/master/LICENSE.txt)"
   ]
  },
  {
   "cell_type": "markdown",
   "metadata": {},
   "source": [
    "# (가제) 파이썬 데이터 분석"
   ]
  },
  {
   "cell_type": "markdown",
   "metadata": {},
   "source": [
    "-----"
   ]
  },
  {
   "cell_type": "markdown",
   "metadata": {},
   "source": [
    "# 3.2) 비트코인 시세 예측하기"
   ]
  },
  {
   "cell_type": "markdown",
   "metadata": {},
   "source": [
    "### 바로가기"
   ]
  },
  {
   "cell_type": "markdown",
   "metadata": {},
   "source": [
    "- [<Step1. 탐색> : 시간정보가 포함된 데이터 살펴보기](#<Step1.-탐색>-:-시간정보가-포함된-데이터-살펴보기)\n",
    "    - [market price 데이터셋의 기본 정보]\n",
    "    - [시계열 데이터 살펴보기]\n",
    "- [<Step2. 예측> : 파이썬 라이브러리를 활용한 시세 예측](#<Step2.-예측>-:-파이썬-라이브러리를-활용한-시세-예측)\n",
    "    - [ARIMA 모델 활용하기]\n",
    "    - [Facebook Prophet 활용하기]\n",
    "- [<Step3. 활용> : 더 나은 결과를 위한 방법들](#<Step3.-활용>-:-더-나은-결과를-위한-방법들)\n",
    "    - [상한가 및 하한가 선정]\n",
    "    - [이상치 제거하기]\n",
    "    - [하이퍼 파라미터 선정하기]\n",
    "- [재미로 알아보는 내일의 비트코인 시세](#재미로-알아보는-내일의-비트코인-시세)"
   ]
  },
  {
   "cell_type": "markdown",
   "metadata": {},
   "source": [
    "-----"
   ]
  },
  {
   "cell_type": "code",
   "execution_count": 1,
   "metadata": {},
   "outputs": [],
   "source": [
    "# -*- coding: utf-8 -*-\n",
    "\n",
    "%matplotlib inline\n",
    "\n",
    "import pandas as pd\n",
    "import numpy as np\n",
    "import matplotlib.pyplot as plt\n",
    "\n",
    "import warnings\n",
    "warnings.filterwarnings(\"ignore\")"
   ]
  },
  {
   "cell_type": "markdown",
   "metadata": {},
   "source": [
    "# <Step1. 탐색> : 시간정보가 포함된 데이터 살펴보기"
   ]
  },
  {
   "cell_type": "markdown",
   "metadata": {},
   "source": [
    "### [market price 데이터셋의 기본 정보]"
   ]
  },
  {
   "cell_type": "code",
   "execution_count": 2,
   "metadata": {},
   "outputs": [],
   "source": [
    "# Data Source : https://www.blockchain.com/ko/charts/market-price?timespan=60days\n",
    "\n",
    "file_path = './data/market-price.csv'\n",
    "bitcoin_df = pd.read_csv(file_path, names = ['day', 'price'])"
   ]
  },
  {
   "cell_type": "code",
   "execution_count": 3,
   "metadata": {},
   "outputs": [
    {
     "name": "stdout",
     "output_type": "stream",
     "text": [
      "(365, 2)\n",
      "<class 'pandas.core.frame.DataFrame'>\n",
      "RangeIndex: 365 entries, 0 to 364\n",
      "Data columns (total 2 columns):\n",
      " #   Column  Non-Null Count  Dtype  \n",
      "---  ------  --------------  -----  \n",
      " 0   day     365 non-null    object \n",
      " 1   price   365 non-null    float64\n",
      "dtypes: float64(1), object(1)\n",
      "memory usage: 5.8+ KB\n",
      "None\n"
     ]
    }
   ],
   "source": [
    "# 기본 정보를 출력합니다.\n",
    "print(bitcoin_df.shape)\n",
    "print(bitcoin_df.info())"
   ]
  },
  {
   "cell_type": "code",
   "execution_count": 4,
   "metadata": {},
   "outputs": [
    {
     "data": {
      "text/html": [
       "<div>\n",
       "<style scoped>\n",
       "    .dataframe tbody tr th:only-of-type {\n",
       "        vertical-align: middle;\n",
       "    }\n",
       "\n",
       "    .dataframe tbody tr th {\n",
       "        vertical-align: top;\n",
       "    }\n",
       "\n",
       "    .dataframe thead th {\n",
       "        text-align: right;\n",
       "    }\n",
       "</style>\n",
       "<table border=\"1\" class=\"dataframe\">\n",
       "  <thead>\n",
       "    <tr style=\"text-align: right;\">\n",
       "      <th></th>\n",
       "      <th>day</th>\n",
       "      <th>price</th>\n",
       "    </tr>\n",
       "  </thead>\n",
       "  <tbody>\n",
       "    <tr>\n",
       "      <th>360</th>\n",
       "      <td>2018-08-22 00:00:00</td>\n",
       "      <td>6575.229167</td>\n",
       "    </tr>\n",
       "    <tr>\n",
       "      <th>361</th>\n",
       "      <td>2018-08-23 00:00:00</td>\n",
       "      <td>6434.881667</td>\n",
       "    </tr>\n",
       "    <tr>\n",
       "      <th>362</th>\n",
       "      <td>2018-08-24 00:00:00</td>\n",
       "      <td>6543.645714</td>\n",
       "    </tr>\n",
       "    <tr>\n",
       "      <th>363</th>\n",
       "      <td>2018-08-25 00:00:00</td>\n",
       "      <td>6719.429231</td>\n",
       "    </tr>\n",
       "    <tr>\n",
       "      <th>364</th>\n",
       "      <td>2018-08-26 00:00:00</td>\n",
       "      <td>6673.274167</td>\n",
       "    </tr>\n",
       "  </tbody>\n",
       "</table>\n",
       "</div>"
      ],
      "text/plain": [
       "                     day        price\n",
       "360  2018-08-22 00:00:00  6575.229167\n",
       "361  2018-08-23 00:00:00  6434.881667\n",
       "362  2018-08-24 00:00:00  6543.645714\n",
       "363  2018-08-25 00:00:00  6719.429231\n",
       "364  2018-08-26 00:00:00  6673.274167"
      ]
     },
     "execution_count": 4,
     "metadata": {},
     "output_type": "execute_result"
    }
   ],
   "source": [
    "bitcoin_df.tail()"
   ]
  },
  {
   "cell_type": "markdown",
   "metadata": {},
   "source": [
    "-----"
   ]
  },
  {
   "cell_type": "markdown",
   "metadata": {},
   "source": [
    "### [시계열 데이터 살펴보기]"
   ]
  },
  {
   "cell_type": "code",
   "execution_count": null,
   "metadata": {},
   "outputs": [],
   "source": [
    "# to_datetime으로 day 피처를 시계열 피처로 변환합니다. \n",
    "bitcoin_df['day'] = pd.to_datetime(bitcoin_df['day'])\n",
    "\n",
    "# day 데이터프레임의 index로 설정합니다.\n",
    "bitcoin_df.index = bitcoin_df['day']\n",
    "bitcoin_df.set_index('day', inplace=True)\n",
    "bitcoin_df.head()"
   ]
  },
  {
   "cell_type": "code",
   "execution_count": null,
   "metadata": {},
   "outputs": [],
   "source": [
    "bitcoin_df.describe()"
   ]
  },
  {
   "cell_type": "code",
   "execution_count": null,
   "metadata": {},
   "outputs": [],
   "source": [
    "# 일자별 비트코인 시세를 시각화합니다.\n",
    "bitcoin_df.plot()\n",
    "plt.show()"
   ]
  },
  {
   "cell_type": "markdown",
   "metadata": {},
   "source": [
    "-----"
   ]
  },
  {
   "cell_type": "markdown",
   "metadata": {},
   "source": [
    "# <Step2. 예측> : 파이썬 라이브러리를 활용한 시세 예측"
   ]
  },
  {
   "cell_type": "markdown",
   "metadata": {},
   "source": [
    "### [ARIMA 모델 활용하기]"
   ]
  },
  {
   "cell_type": "markdown",
   "metadata": {},
   "source": [
    "###### ARIMA 모델 학습"
   ]
  },
  {
   "cell_type": "code",
   "execution_count": null,
   "metadata": {},
   "outputs": [],
   "source": [
    "from statsmodels.tsa.arima_model import ARIMA\n",
    "import statsmodels.api as sm\n",
    "\n",
    "# (AR=2, 차분=1, MA=2) 파라미터로 ARIMA 모델을 학습합니다.\n",
    "model = ARIMA(bitcoin_df.price.values, order=(2,1,2))\n",
    "model_fit = model.fit(trend='c', full_output=True, disp=True)\n",
    "print(model_fit.summary())"
   ]
  },
  {
   "cell_type": "markdown",
   "metadata": {},
   "source": [
    "-----\n",
    "\n",
    "###### 모델의 성능 & 예측 결과 시각화\n",
    "- 학습한 모델이 학습 데이터에 대해서 예측한 결과만을 시각화합니다."
   ]
  },
  {
   "cell_type": "code",
   "execution_count": null,
   "metadata": {},
   "outputs": [],
   "source": [
    "fig = model_fit.plot_predict() # 학습 데이터에 대한 예측 결과입니다. (첫번째 그래프)\n",
    "residuals = pd.DataFrame(model_fit.resid) # 잔차의 변동을 시각화합니다. (두번째 그래프)\n",
    "residuals.plot()"
   ]
  },
  {
   "cell_type": "markdown",
   "metadata": {},
   "source": [
    "###### 실제 데이터와의 비교\n",
    "- 예측 결과인 마지막 5일의 예측값을 실제 데이터와 비교해봅니다.\n",
    "- 5일 후의 실제 데이터는 `'../data/market-price-test.csv'` 에서 불러올 수 있습니다. 데이터를 직접 다운로드(https://www.blockchain.com/ko/charts/market-price?timespan=60days) 하여 여러분이 직접 만든 모델을 마음대로의 기간으로 예측해 보세요."
   ]
  },
  {
   "cell_type": "code",
   "execution_count": null,
   "metadata": {},
   "outputs": [],
   "source": [
    "forecast_data = model_fit.forecast(steps=5) # 학습 데이터셋으로부터 5일 뒤를 예측합니다.\n",
    "\n",
    "# 테스트 데이터셋을 불러옵니다.\n",
    "test_file_path = '../data/market-price-test.csv'\n",
    "bitcoin_test_df = pd.read_csv(test_file_path, names=['ds', 'y'])\n",
    "\n",
    "pred_y = forecast_data[0].tolist() # 마지막 5일의 예측 데이터입니다. (2018-08-27 ~ 2018-08-31)\n",
    "test_y = bitcoin_test_df.y.values # 실제 5일 가격 데이터입니다. (2018-08-27 ~ 2018-08-31)\n",
    "pred_y_lower = [] # 마지막 5일의 예측 데이터의 최소값입니다.\n",
    "pred_y_upper = [] # 마지막 5일의 예측 데이터의 최대값입니다.\n",
    "for lower_upper in forecast_data[2]:\n",
    "    lower = lower_upper[0]\n",
    "    upper = lower_upper[1]\n",
    "    pred_y_lower.append(lower)\n",
    "    pred_y_upper.append(upper)"
   ]
  },
  {
   "cell_type": "code",
   "execution_count": null,
   "metadata": {},
   "outputs": [],
   "source": [
    "plt.plot(pred_y, color=\"gold\") # 모델이 예상한 가격 그래프입니다.\n",
    "plt.plot(pred_y_lower, color=\"red\") # 모델이 예상한 최소가격 그래프입니다.\n",
    "plt.plot(pred_y_upper, color=\"blue\") # 모델이 예상한 최대가격 그래프입니다.\n",
    "plt.plot(test_y, color=\"green\") # 실제 가격 그래프입니다."
   ]
  },
  {
   "cell_type": "code",
   "execution_count": null,
   "metadata": {},
   "outputs": [],
   "source": [
    "plt.plot(pred_y, color=\"gold\") # 모델이 예상한 가격 그래프입니다.\n",
    "plt.plot(test_y, color=\"green\") # 실제 가격 그래프입니다."
   ]
  },
  {
   "cell_type": "markdown",
   "metadata": {},
   "source": [
    "-----"
   ]
  },
  {
   "cell_type": "code",
   "execution_count": null,
   "metadata": {},
   "outputs": [],
   "source": [
    "from sklearn.metrics import mean_squared_error, r2_score\n",
    "from math import sqrt\n",
    "\n",
    "rmse = sqrt(mean_squared_error(pred_y, test_y))\n",
    "print(rmse)"
   ]
  },
  {
   "cell_type": "markdown",
   "metadata": {},
   "source": [
    "-----"
   ]
  },
  {
   "cell_type": "markdown",
   "metadata": {},
   "source": [
    "### [Facebook Prophet 활용하기]"
   ]
  },
  {
   "cell_type": "markdown",
   "metadata": {},
   "source": [
    "- 아래 코드 실행을 위해, anaconda prompt 혹은 Terminal에서 아래와 같은 패키지들을 설치해 줍니다.\n",
    "    - (env_name) `conda install -c conda-forge fbprophet`\n",
    "- prophet의 input data columns는 'ds'와 'y'로 고정되어야 합니다.\n",
    "- seasonality_mode : 연간, 월간, 주간, 일간 등의 트렌드성을 반영하는 것을 의미합니다. 비트코인 데이터의 경우 대부분의 주기마다 트렌드성이 반영되는 것이 좋습니다.\n",
    "- changepoint_prior_scale : 트렌드가 변경되는 문맥을 반영하여 예측합니다. 수치가 높을수록 overfitting에 가까워집니다."
   ]
  },
  {
   "cell_type": "markdown",
   "metadata": {},
   "source": [
    "###### Prophet 모델 학습"
   ]
  },
  {
   "cell_type": "code",
   "execution_count": null,
   "metadata": {},
   "outputs": [],
   "source": [
    "from fbprophet import Prophet"
   ]
  },
  {
   "cell_type": "code",
   "execution_count": null,
   "metadata": {},
   "outputs": [],
   "source": [
    "# prophet을 사용하기 위해서는 다음과 같이 피처의 이름을 변경해야 합니다 : 'ds', 'y'\n",
    "bitcoin_df = pd.read_csv(file_path, names=['ds', 'y'])\n",
    "prophet = Prophet(seasonality_mode='multiplicative', \n",
    "                  yearly_seasonality=True,\n",
    "                  weekly_seasonality=True, daily_seasonality=True,\n",
    "                  changepoint_prior_scale=0.5)\n",
    "prophet.fit(bitcoin_df)"
   ]
  },
  {
   "cell_type": "markdown",
   "metadata": {},
   "source": [
    "-----"
   ]
  },
  {
   "cell_type": "markdown",
   "metadata": {},
   "source": [
    "###### 모델로부터 예측할 기간을 정의하고, 결과를 도출."
   ]
  },
  {
   "cell_type": "code",
   "execution_count": null,
   "metadata": {},
   "outputs": [],
   "source": [
    "# 5일을 내다보며 예측합니다.\n",
    "future_data = prophet.make_future_dataframe(periods=5, freq='d')\n",
    "forecast_data = prophet.predict(future_data)"
   ]
  },
  {
   "cell_type": "code",
   "execution_count": null,
   "metadata": {},
   "outputs": [],
   "source": [
    "forecast_data.tail(5)"
   ]
  },
  {
   "cell_type": "code",
   "execution_count": null,
   "metadata": {},
   "outputs": [],
   "source": [
    "forecast_data[['ds', 'yhat', 'yhat_lower', 'yhat_upper']].tail(5)"
   ]
  },
  {
   "cell_type": "markdown",
   "metadata": {},
   "source": [
    "-----"
   ]
  },
  {
   "cell_type": "markdown",
   "metadata": {},
   "source": [
    "###### 결과의 시각화"
   ]
  },
  {
   "cell_type": "markdown",
   "metadata": {},
   "source": [
    "- 전체 데이터를 기반으로 학습한, 5일 단위의 예측 결과를 시각화합니다."
   ]
  },
  {
   "cell_type": "code",
   "execution_count": null,
   "metadata": {},
   "outputs": [],
   "source": [
    "fig1 = prophet.plot(forecast_data)"
   ]
  },
  {
   "cell_type": "markdown",
   "metadata": {},
   "source": [
    "-----"
   ]
  },
  {
   "cell_type": "markdown",
   "metadata": {},
   "source": [
    "- seasonality_mode로 설정했었던 기간별 트렌드 정보를 시각화합니다."
   ]
  },
  {
   "cell_type": "code",
   "execution_count": null,
   "metadata": {},
   "outputs": [],
   "source": [
    "fig2 = prophet.plot_components(forecast_data)"
   ]
  },
  {
   "cell_type": "markdown",
   "metadata": {},
   "source": [
    "-----"
   ]
  },
  {
   "cell_type": "markdown",
   "metadata": {},
   "source": [
    "###### 모델의 성능\n",
    "- 실제 가격과 예측한 가격간의 차이 : 첫 5일과 마지막 5일은 제외하고 계산합니다."
   ]
  },
  {
   "cell_type": "code",
   "execution_count": null,
   "metadata": {},
   "outputs": [],
   "source": [
    "y = bitcoin_df.y.values[5:] # 첫 5일을 제외한 실제 가격 데이터입니다.\n",
    "y_pred = forecast_data.yhat.values[5:-5] # 첫 5일, 마지막 5일을 제외한 예측 가격 데이터입니다."
   ]
  },
  {
   "cell_type": "code",
   "execution_count": null,
   "metadata": {},
   "outputs": [],
   "source": [
    "rmse = sqrt(mean_squared_error(y, y_pred))\n",
    "r2 = r2_score(y, y_pred)\n",
    "print(rmse)\n",
    "print(r2)"
   ]
  },
  {
   "cell_type": "markdown",
   "metadata": {},
   "source": [
    "-----"
   ]
  },
  {
   "cell_type": "markdown",
   "metadata": {},
   "source": [
    "###### 실제 데이터와의 비교\n",
    "- 예측 결과인 마지막 5일의 예측값을 실제 데이터와 비교해봅니다.\n",
    "- 5일 후의 실제 데이터는 `'../data/market-price-test.csv'` 에서 불러올 수 있습니다. 데이터를 직접 다운로드(https://www.blockchain.com/ko/charts/market-price?timespan=60days) 하여 여러분이 직접 만든 모델을 마음대로의 기간으로 예측해 보세요."
   ]
  },
  {
   "cell_type": "code",
   "execution_count": null,
   "metadata": {},
   "outputs": [],
   "source": [
    "bitcoin_test_df = pd.read_csv(test_file_path, names=['ds', 'y'])\n",
    "\n",
    "pred_y = forecast_data.yhat.values[-5:] # 마지막 5일의 예측 데이터입니다. (2018-08-27 ~ 2018-08-31)\n",
    "test_y = bitcoin_test_df.y.values # 실제 5일 가격 데이터입니다. (2018-08-27 ~ 2018-08-31)\n",
    "pred_y_lower = forecast_data.yhat_lower.values[-5:] # 마지막 5일의 예측 데이터의 최소값입니다.\n",
    "pred_y_upper = forecast_data.yhat_upper.values[-5:] # 마지막 5일의 예측 데이터의 최대값입니다."
   ]
  },
  {
   "cell_type": "code",
   "execution_count": null,
   "metadata": {},
   "outputs": [],
   "source": [
    "plt.plot(pred_y, color=\"gold\") # 모델이 예상한 가격 그래프입니다.\n",
    "plt.plot(pred_y_lower, color=\"red\") # 모델이 예상한 최소가격 그래프입니다.\n",
    "plt.plot(pred_y_upper, color=\"blue\") # 모델이 예상한 최대가격 그래프입니다.\n",
    "plt.plot(test_y, color=\"green\") # 실제 가격 그래프입니다."
   ]
  },
  {
   "cell_type": "code",
   "execution_count": null,
   "metadata": {},
   "outputs": [],
   "source": [
    "plt.plot(pred_y, color=\"gold\") # 모델이 예상한 가격 그래프입니다.\n",
    "plt.plot(test_y, color=\"green\") # 실제 가격 그래프입니다."
   ]
  },
  {
   "cell_type": "markdown",
   "metadata": {},
   "source": [
    "-----"
   ]
  },
  {
   "cell_type": "code",
   "execution_count": null,
   "metadata": {},
   "outputs": [],
   "source": [
    "rmse = sqrt(mean_squared_error(pred_y, test_y))\n",
    "print(rmse)"
   ]
  },
  {
   "cell_type": "markdown",
   "metadata": {},
   "source": [
    "-----"
   ]
  },
  {
   "cell_type": "markdown",
   "metadata": {},
   "source": [
    "# <Step3. 활용> : 더 나은 결과를 위한 방법들"
   ]
  },
  {
   "cell_type": "markdown",
   "metadata": {},
   "source": [
    "### [상한가 및 하한가 선정]"
   ]
  },
  {
   "cell_type": "markdown",
   "metadata": {},
   "source": [
    "- 주가데이터의 경우 의미가 없지만, 일반적인 시계열 데이터의 경우 상한값 혹은 하한값을 잘 설정해주는 것이 도움이 되기도 합니다."
   ]
  },
  {
   "cell_type": "code",
   "execution_count": null,
   "metadata": {},
   "outputs": [],
   "source": [
    "bitcoin_df = pd.read_csv(file_path, names=['ds', 'y'])\n",
    "\n",
    "# 상한가를 설정합니다.\n",
    "bitcoin_df['cap'] = 20000\n",
    "\n",
    "# 상한가 적용을 위한 파라미터를 다음과 같이 설정합니다.\n",
    "prophet = Prophet(seasonality_mode='multiplicative', \n",
    "                  growth='logistic',\n",
    "                  yearly_seasonality=True,\n",
    "                  weekly_seasonality=True, daily_seasonality=True,\n",
    "                  changepoint_prior_scale=0.5)\n",
    "prophet.fit(bitcoin_df)"
   ]
  },
  {
   "cell_type": "code",
   "execution_count": null,
   "metadata": {},
   "outputs": [],
   "source": [
    "# 5일을 내다보며 예측합니다.\n",
    "future_data = prophet.make_future_dataframe(periods=5, freq='d')\n",
    "\n",
    "# 상한가를 설정합니다.\n",
    "future_data['cap'] = 20000\n",
    "forecast_data = prophet.predict(future_data)"
   ]
  },
  {
   "cell_type": "code",
   "execution_count": null,
   "metadata": {},
   "outputs": [],
   "source": [
    "fig = prophet.plot(forecast_data)"
   ]
  },
  {
   "cell_type": "markdown",
   "metadata": {},
   "source": [
    "-----"
   ]
  },
  {
   "cell_type": "markdown",
   "metadata": {},
   "source": [
    "###### 실제 데이터와의 비교\n",
    "- 비트코인 데이터의 경우, 상한선을 둠으로써 오히려 예측력이 다소 떨어지는 결과를 보였습니다."
   ]
  },
  {
   "cell_type": "code",
   "execution_count": null,
   "metadata": {},
   "outputs": [],
   "source": [
    "bitcoin_test_df = pd.read_csv(test_file_path, names=['ds', 'y'])\n",
    "\n",
    "# 모델이 예상한 마지막 5일의 가격 데이터를 가져옵니다.\n",
    "pred_y = forecast_data.yhat.values[-5:]\n",
    "test_y = bitcoin_test_df.y.values\n",
    "pred_y_lower = forecast_data.yhat_lower.values[-5:]\n",
    "pred_y_upper = forecast_data.yhat_upper.values[-5:]"
   ]
  },
  {
   "cell_type": "code",
   "execution_count": null,
   "metadata": {},
   "outputs": [],
   "source": [
    "plt.plot(pred_y, color=\"gold\") # 모델이 예상한 가격 그래프입니다.\n",
    "plt.plot(pred_y_lower, color=\"red\") # 모델이 예상한 최소가격 그래프입니다.\n",
    "plt.plot(pred_y_upper, color=\"blue\") # 모델이 예상한 최대가격 그래프입니다.\n",
    "plt.plot(test_y, color=\"green\") # 실제 가격 그래프입니다."
   ]
  },
  {
   "cell_type": "code",
   "execution_count": null,
   "metadata": {},
   "outputs": [],
   "source": [
    "plt.plot(pred_y, color=\"gold\") # 모델이 예상한 가격 그래프입니다.\n",
    "plt.plot(test_y, color=\"green\") # 실제 가격 그래프입니다."
   ]
  },
  {
   "cell_type": "markdown",
   "metadata": {},
   "source": [
    "-----"
   ]
  },
  {
   "cell_type": "code",
   "execution_count": null,
   "metadata": {},
   "outputs": [],
   "source": [
    "rmse = sqrt(mean_squared_error(pred_y, test_y))\n",
    "print(rmse)"
   ]
  },
  {
   "cell_type": "markdown",
   "metadata": {},
   "source": [
    "-----"
   ]
  },
  {
   "cell_type": "markdown",
   "metadata": {},
   "source": [
    "### [이상치 제거하기]"
   ]
  },
  {
   "cell_type": "markdown",
   "metadata": {},
   "source": [
    "- 가격이 18000을 넘어가는 값을 이상치로 판단하여 제거합니다."
   ]
  },
  {
   "cell_type": "code",
   "execution_count": null,
   "metadata": {},
   "outputs": [],
   "source": [
    "# 18000 이상의 데이터는 이상치라고 판단\n",
    "bitcoin_df = pd.read_csv(file_path, names=['ds', 'y'])\n",
    "bitcoin_df.loc[bitcoin_df['y'] > 18000, 'y'] = None"
   ]
  },
  {
   "cell_type": "code",
   "execution_count": null,
   "metadata": {},
   "outputs": [],
   "source": [
    "# prophet 모델을 학습합니다.\n",
    "prophet = Prophet(seasonality_mode='multiplicative',\n",
    "                  yearly_seasonality=True,\n",
    "                  weekly_seasonality=True, daily_seasonality=True,\n",
    "                  changepoint_prior_scale=0.5)\n",
    "prophet.fit(bitcoin_df)\n",
    "\n",
    "# 5일단위의 미래를 예측합니다.\n",
    "future_data = prophet.make_future_dataframe(periods=5, freq='d')\n",
    "forecast_data = prophet.predict(future_data)\n",
    "\n",
    "# 예측 결과를 그래프로 출력합니다.\n",
    "fig = prophet.plot(forecast_data)"
   ]
  },
  {
   "cell_type": "markdown",
   "metadata": {},
   "source": [
    "-----"
   ]
  },
  {
   "cell_type": "markdown",
   "metadata": {},
   "source": [
    "###### 실제 데이터와의 비교\n",
    "- 비트코인 데이터의 경우, 이상치를 제거함으로써 오히려 예측력이 다소 떨어지는 결과를 보였습니다.\n",
    "- 모델의 정확도 스코어 측면에서는 떨어졌지만, 트렌드 예측의 측면에서는 다소 나은 모습을 보여줄 수도 있습니다."
   ]
  },
  {
   "cell_type": "code",
   "execution_count": null,
   "metadata": {},
   "outputs": [],
   "source": [
    "bitcoin_test_df = pd.read_csv(test_file_path, names = ['ds', 'y'])\n",
    "\n",
    "# 모델이 예상한 마지막 5일의 가격 데이터를 가져옵니다.\n",
    "pred_y = forecast_data.yhat.values[-5:]\n",
    "test_y = bitcoin_test_df.y.values\n",
    "pred_y_lower = forecast_data.yhat_lower.values[-5:]\n",
    "pred_y_upper = forecast_data.yhat_upper.values[-5:]"
   ]
  },
  {
   "cell_type": "code",
   "execution_count": null,
   "metadata": {},
   "outputs": [],
   "source": [
    "plt.plot(pred_y, color=\"gold\") # 모델이 예상한 가격 그래프입니다.\n",
    "plt.plot(pred_y_lower, color=\"red\") # 모델이 예상한 최소가격 그래프입니다.\n",
    "plt.plot(pred_y_upper, color=\"blue\") # 모델이 예상한 최대가격 그래프입니다.\n",
    "plt.plot(test_y, color=\"green\") # 실제 가격 그래프입니다."
   ]
  },
  {
   "cell_type": "code",
   "execution_count": null,
   "metadata": {},
   "outputs": [],
   "source": [
    "plt.plot(pred_y, color=\"gold\") # 모델이 예상한 가격 그래프입니다.\n",
    "plt.plot(test_y, color=\"green\") # 실제 가격 그래프입니다."
   ]
  },
  {
   "cell_type": "markdown",
   "metadata": {},
   "source": [
    "-----"
   ]
  },
  {
   "cell_type": "code",
   "execution_count": null,
   "metadata": {},
   "outputs": [],
   "source": [
    "# 테스트 데이터의 RMSE를 출력합니다.\n",
    "rmse = sqrt(mean_squared_error(pred_y, test_y))\n",
    "print(rmse)"
   ]
  },
  {
   "cell_type": "markdown",
   "metadata": {},
   "source": [
    "-----"
   ]
  },
  {
   "cell_type": "markdown",
   "metadata": {},
   "source": [
    "### `한걸음 더 나아가기`"
   ]
  },
  {
   "cell_type": "markdown",
   "metadata": {},
   "source": [
    "### [ARIMA 모델의 하이퍼 파라미터 선정하기]"
   ]
  },
  {
   "cell_type": "markdown",
   "metadata": {},
   "source": [
    "###### 적절한 파라미터 선정하기\n",
    "- ARIMA 모델은 p,d,q 세 가지 파라미터를 적절하게 선정하는 것이 가장 중요합니다.\n",
    "- ACF(Autocorrelation function), PACF(Partial autocorrelation function) 그래프를 통해 대략적인 파라미터를 선정합니다."
   ]
  },
  {
   "cell_type": "code",
   "execution_count": null,
   "metadata": {},
   "outputs": [],
   "source": [
    "bitcoin_df = pd.read_csv(file_path, names = ['day', 'price'])\n",
    "bitcoin_df['day'] = pd.to_datetime(bitcoin_df['day'])\n",
    "bitcoin_df.index = bitcoin_df['day']\n",
    "bitcoin_df.set_index('day', inplace=True)"
   ]
  },
  {
   "cell_type": "code",
   "execution_count": null,
   "metadata": {},
   "outputs": [],
   "source": [
    "from statsmodels.graphics.tsaplots import plot_acf, plot_pacf\n",
    "\n",
    "plot_acf(bitcoin_df.price.values)\n",
    "plot_pacf(bitcoin_df.price.values)\n",
    "plt.show()"
   ]
  },
  {
   "cell_type": "markdown",
   "metadata": {},
   "source": [
    "-----"
   ]
  },
  {
   "cell_type": "markdown",
   "metadata": {},
   "source": [
    "###### ARIMA 모델 학습\n",
    "- 그래프를 토대로 1차 학습"
   ]
  },
  {
   "cell_type": "code",
   "execution_count": null,
   "metadata": {},
   "outputs": [],
   "source": [
    "model = ARIMA(bitcoin_df.price.values, order=(15,2,0))\n",
    "model_fit = model.fit(trend='c',full_output=True, disp=True)\n",
    "print(model_fit.summary())"
   ]
  },
  {
   "cell_type": "markdown",
   "metadata": {},
   "source": [
    "-----"
   ]
  },
  {
   "cell_type": "markdown",
   "metadata": {},
   "source": [
    "- 1차 결과를 토대로 2차 학습"
   ]
  },
  {
   "cell_type": "code",
   "execution_count": null,
   "metadata": {},
   "outputs": [],
   "source": [
    "model = ARIMA(bitcoin_df.price.values, order=(2,1,2))\n",
    "model_fit = model.fit(trend='c',full_output=True, disp=True)\n",
    "print(model_fit.summary())"
   ]
  },
  {
   "cell_type": "markdown",
   "metadata": {},
   "source": [
    "-----"
   ]
  },
  {
   "cell_type": "markdown",
   "metadata": {},
   "source": [
    "# 재미로 알아보는 내일의 비트코인 시세"
   ]
  },
  {
   "cell_type": "markdown",
   "metadata": {},
   "source": [
    "###### 좋은 예측력을 보였던 Prophet 모델로 향후 5일간의 비트코인 시세를 예측해 봅시다."
   ]
  },
  {
   "cell_type": "code",
   "execution_count": null,
   "metadata": {},
   "outputs": [],
   "source": [
    "# prophet을 사용하기 위해서는 다음과 같이 피처의 이름을 변경해야 합니다 : 'ds', 'y'\n",
    "bitcoin_df = pd.read_csv(file_path, names = ['ds', 'y'])\n",
    "prophet = Prophet(seasonality_mode='multiplicative', \n",
    "                  yearly_seasonality=True,\n",
    "                  weekly_seasonality=True, daily_seasonality=True,\n",
    "                  changepoint_prior_scale=0.5)\n",
    "prophet.fit(bitcoin_df)"
   ]
  },
  {
   "cell_type": "code",
   "execution_count": null,
   "metadata": {},
   "outputs": [],
   "source": [
    "# 5일단위의 미래를 예측합니다.\n",
    "future_data = prophet.make_future_dataframe(periods=5, freq = 'd')\n",
    "forecast_data = prophet.predict(future_data)"
   ]
  },
  {
   "cell_type": "code",
   "execution_count": null,
   "metadata": {},
   "outputs": [],
   "source": [
    "# 테스트 데이터를 불러옵니다.\n",
    "bitcoin_test_df = pd.read_csv(test_file_path, names = ['ds', 'y'])\n",
    "\n",
    "# 마지막 5일의 데이터를 가져옵니다.\n",
    "pred_y = forecast_data.yhat.values[-5:]\n",
    "test_y = bitcoin_test_df.y.values\n",
    "pred_y_lower = forecast_data.yhat_lower.values[-5:]\n",
    "pred_y_upper = forecast_data.yhat_upper.values[-5:]"
   ]
  },
  {
   "cell_type": "code",
   "execution_count": null,
   "metadata": {},
   "outputs": [],
   "source": [
    "plt.plot(pred_y, color=\"red\", ls=\"--\", marker=\"o\", ms=5) # 모델이 예상한 가격 그래프입니다.\n",
    "plt.plot(test_y, color=\"blue\") # 실제 가격 그래프입니다."
   ]
  }
 ],
 "metadata": {
  "kernelspec": {
   "display_name": "Python 3 (ipykernel)",
   "language": "python",
   "name": "python3"
  },
  "language_info": {
   "codemirror_mode": {
    "name": "ipython",
    "version": 3
   },
   "file_extension": ".py",
   "mimetype": "text/x-python",
   "name": "python",
   "nbconvert_exporter": "python",
   "pygments_lexer": "ipython3",
   "version": "3.9.12"
  },
  "toc": {
   "base_numbering": 1,
   "nav_menu": {},
   "number_sections": true,
   "sideBar": true,
   "skip_h1_title": false,
   "title_cell": "Table of Contents",
   "title_sidebar": "Contents",
   "toc_cell": false,
   "toc_position": {},
   "toc_section_display": true,
   "toc_window_display": true
  }
 },
 "nbformat": 4,
 "nbformat_minor": 4
}
