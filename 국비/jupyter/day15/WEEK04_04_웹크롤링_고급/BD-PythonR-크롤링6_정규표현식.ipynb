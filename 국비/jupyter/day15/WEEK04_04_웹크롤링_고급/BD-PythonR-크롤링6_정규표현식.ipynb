{
 "cells": [
  {
   "cell_type": "markdown",
   "id": "8c5b3ca9",
   "metadata": {},
   "source": [
    "# 입문자를 위한, 파이썬/R 데이터 분석 "
   ]
  },
  {
   "cell_type": "code",
   "execution_count": null,
   "id": "625cebed",
   "metadata": {},
   "outputs": [],
   "source": []
  },
  {
   "cell_type": "markdown",
   "id": "a75a268d",
   "metadata": {},
   "source": [
    "## Today's mission\n",
    "\n",
    "- Python 정규표현식"
   ]
  },
  {
   "cell_type": "code",
   "execution_count": null,
   "id": "60da6475",
   "metadata": {},
   "outputs": [],
   "source": []
  },
  {
   "cell_type": "markdown",
   "id": "9d1c0e56",
   "metadata": {},
   "source": [
    "## 점프투파이썬 정규표현식\n",
    "\n",
    "- https://wikidocs.net/1642"
   ]
  },
  {
   "cell_type": "code",
   "execution_count": 1,
   "id": "5b3b349d",
   "metadata": {},
   "outputs": [],
   "source": [
    "data = \"\"\"\n",
    "park 800905-1049118\n",
    "kim  700905-1059119\n",
    "\"\"\""
   ]
  },
  {
   "cell_type": "code",
   "execution_count": 2,
   "id": "170b1b4c",
   "metadata": {},
   "outputs": [
    {
     "data": {
      "text/plain": [
       "'\\npark 800905-1049118\\nkim  700905-1059119\\n'"
      ]
     },
     "execution_count": 2,
     "metadata": {},
     "output_type": "execute_result"
    }
   ],
   "source": [
    "data"
   ]
  },
  {
   "cell_type": "code",
   "execution_count": 3,
   "id": "87f78587",
   "metadata": {},
   "outputs": [
    {
     "name": "stdout",
     "output_type": "stream",
     "text": [
      "\n",
      "park 800905-1049118\n",
      "kim  700905-1059119\n",
      "\n"
     ]
    }
   ],
   "source": [
    "print(data)"
   ]
  },
  {
   "cell_type": "code",
   "execution_count": 4,
   "id": "0c47d3bb",
   "metadata": {},
   "outputs": [],
   "source": [
    "result = []"
   ]
  },
  {
   "cell_type": "code",
   "execution_count": 5,
   "id": "34455bcb",
   "metadata": {},
   "outputs": [],
   "source": [
    "word_result = []"
   ]
  },
  {
   "cell_type": "code",
   "execution_count": 6,
   "id": "96a60cf2",
   "metadata": {},
   "outputs": [
    {
     "name": "stdout",
     "output_type": "stream",
     "text": [
      "kim  700905-1059119\n"
     ]
    }
   ],
   "source": [
    "line = data.split(\"\\n\")[2]\n",
    "print(line)"
   ]
  },
  {
   "cell_type": "code",
   "execution_count": 7,
   "id": "ec0852a8",
   "metadata": {},
   "outputs": [
    {
     "name": "stdout",
     "output_type": "stream",
     "text": [
      "kim\n",
      "\n",
      "700905-1059119\n"
     ]
    }
   ],
   "source": [
    "for word in line.split(\" \"):\n",
    "    word_result = []\n",
    "    print(word)\n",
    "    if len(word) == 14 and word[:6].isdigit() and word[7:].isdigit():\n",
    "        word = word[:6] + \"-\" + \"*******\"\n",
    "    word_result.append(word)\n",
    "result.append(\" \".join(word_result))   "
   ]
  },
  {
   "cell_type": "code",
   "execution_count": 8,
   "id": "7089a99f",
   "metadata": {},
   "outputs": [
    {
     "data": {
      "text/plain": [
       "['700905-*******']"
      ]
     },
     "execution_count": 8,
     "metadata": {},
     "output_type": "execute_result"
    }
   ],
   "source": [
    "word_result"
   ]
  },
  {
   "cell_type": "code",
   "execution_count": 9,
   "id": "0e0ce062",
   "metadata": {},
   "outputs": [
    {
     "data": {
      "text/plain": [
       "['700905-*******']"
      ]
     },
     "execution_count": 9,
     "metadata": {},
     "output_type": "execute_result"
    }
   ],
   "source": [
    "result"
   ]
  },
  {
   "cell_type": "code",
   "execution_count": 10,
   "id": "e19d9e3b",
   "metadata": {},
   "outputs": [],
   "source": [
    "for line in data.split(\"\\n\"):\n",
    "    word_result = []\n",
    "    for word in line.split(\" \"):\n",
    "        if len(word) == 14 and word[:6].isdigit() and word[7:].isdigit():\n",
    "            word = word[:6] + \"-\" + \"*******\"\n",
    "        word_result.append(word)\n",
    "    result.append(\" \".join(word_result))    "
   ]
  },
  {
   "cell_type": "code",
   "execution_count": 11,
   "id": "4e06a287",
   "metadata": {},
   "outputs": [
    {
     "name": "stdout",
     "output_type": "stream",
     "text": [
      "700905-*******\n",
      "\n",
      "park 800905-*******\n",
      "kim  700905-*******\n",
      "\n"
     ]
    }
   ],
   "source": [
    "print(\"\\n\".join(result))"
   ]
  },
  {
   "cell_type": "code",
   "execution_count": 12,
   "id": "538a7744",
   "metadata": {},
   "outputs": [
    {
     "name": "stdout",
     "output_type": "stream",
     "text": [
      "\n",
      "park 800905-*******\n",
      "kim  700905-*******\n",
      "\n"
     ]
    }
   ],
   "source": [
    "import re \n",
    "\n",
    "data = \"\"\"\n",
    "park 800905-1049118\n",
    "kim  700905-1059119\n",
    "\"\"\"\n",
    "\n",
    "pat = re.compile(\"(\\d{6})[-]\\d{7}\")\n",
    "print(pat.sub(\"\\g<1>-*******\", data))"
   ]
  },
  {
   "cell_type": "code",
   "execution_count": null,
   "id": "5b54e858",
   "metadata": {},
   "outputs": [],
   "source": []
  },
  {
   "cell_type": "markdown",
   "id": "96852da3",
   "metadata": {},
   "source": [
    "## 정규 표현식\n",
    "\n",
    "정규 표현식(정규식)이란 프로그래밍에서 문자열을 다룰 때 문자열의 일정한 패턴을 표현하는 일종의 형식 언어를 말하며, 영어로는 regular expression를 줄여 일반적으로 regex라 표현한다. 정규 표현식은 파이썬만의 고유 문법이 아니라 문자열을 처리하는 모든 프로그래밍에서 사용되는 공통 문법이기에 한 번 알아두면 파이썬 뿐만 아니라 다른 언어에서도 쉽게 적용할 수 있다. 본 책의 내용은 아래 페이지의 내용을 참고하여 작성되었다.\n",
    "\n",
    "```\n",
    "https://docs.python.org/3.10/howto/regex.html\n",
    "```\n",
    "\n",
    "### 정규 표현식을 알아야 하는 이유\n",
    "\n",
    "만약 우리가 크롤링한 결과물이 다음과 같다고 하자.\n",
    "\n",
    "```\n",
    "\"동 기업의 매출액은 전년 대비 29.2% 늘어났습니다.\"\n",
    "```\n",
    "\n",
    "만일 이 중에서 [29.2%]에 해당하는 데이터만 추출하려면 어떻게 해야 할까? 얼핏 보기에도 꽤나 복잡한 방법을 통해 클렌징을 해야 한다. 그러나 정규 표현식을 이용할 경우 이는 매우 간단한 작업이다."
   ]
  },
  {
   "cell_type": "code",
   "execution_count": 13,
   "id": "5f613b8f",
   "metadata": {},
   "outputs": [
    {
     "data": {
      "text/plain": [
       "['29.2%']"
      ]
     },
     "execution_count": 13,
     "metadata": {},
     "output_type": "execute_result"
    }
   ],
   "source": [
    "import re\n",
    "\n",
    "data = '동 기업의 매출액은 전년 대비 29.2% 늘어났습니다.'\n",
    "re.findall('\\d+.\\d+%', data)"
   ]
  },
  {
   "cell_type": "markdown",
   "id": "0441e60b",
   "metadata": {},
   "source": [
    "'\\d+.\\d+%'라는 표현식은 '숫자.숫자%'의 형태를 나타내는 정규 표현식이며, re 모듈의 `findall()` 함수를 통해 텍스트에서 해당 표현식의 글자를 추출할 수 있다. 이제 정규 표현식의 종류에는 어떠한 것들이 있는지 알아보도록 하자.\n",
    "\n",
    "### 메타문자\n",
    "\n",
    "프로그래밍에서 메타 문자(Meta Characters)란 문자가 가진 원래의 의미가 아닌 특별한 용도로 사용되는 문자를 말한다. 정규 표현식에서 사용되는 메타 문자는 다음과 같다.\n",
    "\n",
    "```\n",
    ". ^ $ * + ? { } [ ] \\ | ( )\n",
    "```\n",
    "\n",
    "정규 표현식에 메타 문자를 사용하면 특별한 기능을 갖는다.\n",
    "\n",
    "#### 문자 클래스([ ])\n",
    "\n",
    "정규 표현식에서 대괄호([ ])는 **대괄호 안에 포함된 문자들 중 하나와 매치**를 뜻한다. 예를 들어 'apple', 'blueberry', 'coconut'이 정규표현식이 [ae]와 어떻게 매치되는지 살펴보자.\n",
    "\n",
    "- 'apple'에는 정규표현식 내의 a와 e가 모두 존재하므로 매치된다.\n",
    "- 'blueberry'에는 e가 존재하므로 매치된다.\n",
    "- 'coconut'에는 a와 e 중 어느 문자도 포함하고 있지 않으므로 매치되지 않는다.\n",
    "\n",
    "만일 [ ] 안의 두 문자 사이에 하이픈(-)을 입력하면 두 문자 사이의 범위를 의미한다. 즉 [a-e]라는 정규 표현식은 [abcde]와 동일하며, [0-5]는 [012345]와 동일하다. 흔히 [a-z]는 알파벳 소문자를, [A-Z]는 알파벳 대문자를, [a-zA-Z]는 모든 알파벳을, [0-9]는 모든 숫자를 뜻한다. 또한 [ ]안의 ^는 반대를 뜻한다. 즉 [^0-9]는 숫자를 제외한 문자만 매치를, [^abc]는 a,b,c를 제외한 모든 문자와 매치를 뜻한다.\n",
    "\n",
    "자주 사용하는 문자 클래스의 경우 별도의 표기법이 존재하여 훨씬 간단하게 표현할 수 있다.\n",
    "\n",
    "```{table} 자주 사용하는 문자 클래스\n",
    ":name: character_class\n",
    "| 문자 클래스 | 설명 |\n",
    "| --- | --- |\n",
    "| \\d | 숫자와 매치, [0-9]와 동일한 표현식 |\n",
    "| \\D | 숫자가 아닌 것 매치, [^0-9]와 동일한 표현식 |\n",
    "| \\s | whitespace(공백) 문자와 매치, [ \\t\\n\\r\\f\\v]와 동일한 표현식 |\n",
    "| \\S | whitespace 문자가 아닌 것과 매치, [^\\t\\n\\r\\f\\v]와 동일한 표현식 |\n",
    "| \\w | 문자+숫자(alphanumeric)와 매치, [a-zA-Z0-9]와 동일한 표현식 |\n",
    "| \\W | 문자+숫자(alphanumeric)가 아닌 문자와 매치, [^a-zA-Z0-9]와 동일한 표현식 |\n",
    "```\n",
    "\n",
    "{numref}`character_class`에서 알 수 있듯이 대문자로 표현된 문자 클래스는 소문자로 표현된 것의 반대를 의미한다.\n",
    "\n",
    "#### 모든 문자(.)\n",
    "\n",
    "Dot(.) 메타 문자는 줄바꿈 문자인 \\n을 제외한 모든 문자와 매치되며, Dot 하나당 임의의 한 문자를 나타낸다. 정규 표현식 `a.e`는 'a+모든문자+e'의 형태다. 즉 a와 e 문자 사이에는 어떤 문자가 들어가도 모두 매치가 된다. 'abe', 'ace', 'abate', 'ae'의 경우 정규식 `a.e`와 어떻게 매치되는지 살펴보자.\n",
    "\n",
    "- 'abe': a와 e 사이에 b라는 문자가 있으므로 정규식과 매치된다.\n",
    "- 'ace': a와 e 사이에 c라는 문자가 있으므로 정규식과 매치된다.\n",
    "- 'abate': a와 e 사이에 문자가 하나가 아닌 여러개가 있으므로 매치되지 않는다.\n",
    "- 'ae': a와 e 사이에 문자가 없으므로 매치되지 않는다.\n",
    "\n",
    "만일 정규식이 a[.]c의 형태일 경우는 'a.c'를 의미한다. 즉 a와 c사이의 dot(.)은 모든 문자를 의미하는 것이 아닌 문자 그대로인 .를 의미한다.\n",
    "\n",
    "#### 반복문\n",
    "\n",
    "정규 표현식에는 반복을 의미하는 여러 메타문자가 존재한다. 먼저 `*`의 경우 `*` 바로 앞에 있는 문자가 0부터 무한대로 반복될 수 있다는 의미다.  `ca*t` 이라는 정규식은 c 다음의 a가 0부터 무한대로 반복되고 t로 끝이난다는 의미로, 'ct', 'cat', 'caat', 'caaaat' 모두 정규식과 매치된다.\n",
    "\n",
    "반면 메타문자 `+`는 최소 1번 이상 반복될 때 사용된다. `ca+t` 라는 정규식은 c 다음의 a가 1번 이상 반복된 후 t로 끝남을 의미하며, 위 예제에서 ct는 a가 없으므로 매치되지 않는다.\n",
    "\n",
    "메타문자 `{ }`를 사용하면 반복 횟수를 고정할 수 있다. 즉 {m, n}은 반복 횟수가 m부터 n까지 고정된다. m 혹은 n은 생략할 수도 있으며, {3, }의 경우 반복 횟수가 3 이상, {, 3}의 경우 반복 횟수가 3 이하를 의미한다. \n",
    "\n",
    "메타문자 `?`는 {0, 1}과 동일하다. 즉 `?` 앞의 문자가 있어도 되고 없어도 된다는 의미다.\n",
    "\n",
    "#### 기타 메타문자\n",
    "\n",
    "이 외에도 정규 표현식에는 다양한 메타문자가 존재한다.\n",
    "\n",
    "- `|`: or과 동일한 의미다. 즉 `expr1 | expr2`라는 정규식은 expr1 혹은 expr2 라는 의미로써, 둘 중 하나의 형태만 만족해도 매치가 된다.\n",
    "- `^`: 문자열의 맨 처음과 일치함을 의미한다. 즉 `^a` 정규식은 a로 시작하는 단어와 매치가 된다.\n",
    "- `$`: `^`와 반대의 의미로써, 문자열의 끝과 매치함을 의미한다. 즉, `a$`는 a로 끝나는 단어와 매치가 된다.\n",
    "- `\\`: 메타문자의 성질을 없앨때 붙인다. 즉 `^`이나 `$` 문자를 메타문자가 아닌 문자 그 자체로 매치하고 싶은 경우 `\\^`, `\\$`의 형태로 사용한다.\n",
    "- `()`: 괄호안의 문자열을 하나로 묶어 취급한다.\n",
    "\n",
    "### 정규식을 이용한 문자열 검색\n",
    "\n",
    "대략적인 정규 표현식을 익혔다면, 실제 예제를 통해 문자열을 검색하는 법을 알아보자. 파이썬에서는 re(regular expression) 모듈을 통해 정규 표현식을 사용할 수 있다. 정규 표현식과 관련된 메서드는 다음과 같다.\n",
    "\n",
    "- `match()`: 시작부분부터 일치하는 패턴을 찾는다.\n",
    "- `search()`: 첫 번째 일치하는 패턴을 찾는다.\n",
    "- `findall()`: 일치하는 모든 패턴을 찾는다.\n",
    "- `finditer()`: `findall()`과 동일하지만 그 결과로 반복 가능한 객체를 반환한다.\n",
    "\n",
    "간단한 실습을 해보도록 하자.\n",
    "\n",
    "#### `match()`"
   ]
  },
  {
   "cell_type": "code",
   "execution_count": 14,
   "id": "6a6f9ba1",
   "metadata": {},
   "outputs": [
    {
     "data": {
      "text/plain": [
       "re.Pattern"
      ]
     },
     "execution_count": 14,
     "metadata": {},
     "output_type": "execute_result"
    }
   ],
   "source": [
    "import re\n",
    "\n",
    "p = re.compile('[a-z]+')\n",
    "type(p)"
   ]
  },
  {
   "cell_type": "markdown",
   "id": "504e84d2",
   "metadata": {},
   "source": [
    "파이썬에서는 re 모듈을 통해 정규 표현식을 사용할 수 있으며, `re.compile()`을 통해 정규 표현식을 컴파일하여 변수에 저장한 후 사용할 수 있다. `[a-z]+`는 알파벳 소문자가 1부터 여러개까지를 의미하는 표현식이다."
   ]
  },
  {
   "cell_type": "code",
   "execution_count": 15,
   "id": "a191e14f",
   "metadata": {},
   "outputs": [
    {
     "name": "stdout",
     "output_type": "stream",
     "text": [
      "<re.Match object; span=(0, 6), match='python'>\n"
     ]
    }
   ],
   "source": [
    "m = p.match('python')\n",
    "print(m)"
   ]
  },
  {
   "cell_type": "markdown",
   "id": "6973fee0",
   "metadata": {},
   "source": [
    "`match()` 함수를 통해 처음부터 정규 표현식과 일치하는 패턴을 찾을 수 있다. python이라는 단어는 알파벳이 여러개가 있는 경우이므로 match 객체를 반환한다."
   ]
  },
  {
   "cell_type": "code",
   "execution_count": 16,
   "id": "3414070b",
   "metadata": {},
   "outputs": [
    {
     "data": {
      "text/plain": [
       "'python'"
      ]
     },
     "execution_count": 16,
     "metadata": {},
     "output_type": "execute_result"
    }
   ],
   "source": [
    "m.group()"
   ]
  },
  {
   "cell_type": "markdown",
   "id": "11cdd035",
   "metadata": {},
   "source": [
    "match 객체 뒤에 `group()`을 입력하면 매치된 텍스트만 출력할 수 있다."
   ]
  },
  {
   "cell_type": "code",
   "execution_count": 17,
   "id": "8a521fe4",
   "metadata": {},
   "outputs": [
    {
     "name": "stdout",
     "output_type": "stream",
     "text": [
      "None\n"
     ]
    }
   ],
   "source": [
    "m = p.match('Use python')\n",
    "print(m)"
   ]
  },
  {
   "cell_type": "markdown",
   "id": "f1b791bc",
   "metadata": {},
   "source": [
    "'Use python 이라는 문자열은 맨 처음의 문자 'U'가 대문자로써, 소문자를 의미하는 정규 표현식 `[a-z]+`와는 매치되지 않아 None을 반환한다."
   ]
  },
  {
   "cell_type": "code",
   "execution_count": 18,
   "id": "9a507502",
   "metadata": {},
   "outputs": [
    {
     "name": "stdout",
     "output_type": "stream",
     "text": [
      "None\n"
     ]
    }
   ],
   "source": [
    "m = p.match('PYTHON')\n",
    "print(m)"
   ]
  },
  {
   "cell_type": "markdown",
   "id": "8056845f",
   "metadata": {},
   "source": [
    "PYTHON이라는 단어는 대문자이므로 이 역시`[a-z]+`와는 매치되지 않는다. 이 경우 대문자에 해당하는 `[A-Z]+` 표현식을 사용해야 매치가 된다."
   ]
  },
  {
   "cell_type": "code",
   "execution_count": 19,
   "id": "b6c4a7ea",
   "metadata": {},
   "outputs": [
    {
     "name": "stdout",
     "output_type": "stream",
     "text": [
      "<re.Match object; span=(0, 3), match='파이썬'>\n"
     ]
    }
   ],
   "source": [
    "p = re.compile('[가-힣]+')\n",
    "m = p.match('파이썬')\n",
    "print(m)"
   ]
  },
  {
   "cell_type": "markdown",
   "id": "0a5e1b05",
   "metadata": {},
   "source": [
    "한글의 경우 알파벳이 아니므로 모든 한글을 뜻하는 `[가-힣]+` 표현식을 사용하면 매치가 된다.\n",
    "\n",
    "#### `search()`\n",
    "\n",
    "`search()` 함수는 첫 번째 일치하는 패턴을 찾는다."
   ]
  },
  {
   "cell_type": "code",
   "execution_count": 20,
   "id": "482de887",
   "metadata": {},
   "outputs": [
    {
     "name": "stdout",
     "output_type": "stream",
     "text": [
      "<re.Match object; span=(0, 6), match='python'>\n"
     ]
    }
   ],
   "source": [
    "p = re.compile('[a-z]+')\n",
    "m = p.search('python')\n",
    "print(m)"
   ]
  },
  {
   "cell_type": "markdown",
   "id": "46c8d661",
   "metadata": {},
   "source": [
    "'python'이라는 문자에 search 메서드를 수행하면 match 메서드를 수행한 것과 결과가 동일하다."
   ]
  },
  {
   "cell_type": "code",
   "execution_count": 21,
   "id": "27b9af96",
   "metadata": {},
   "outputs": [
    {
     "name": "stdout",
     "output_type": "stream",
     "text": [
      "<re.Match object; span=(1, 3), match='se'>\n"
     ]
    }
   ],
   "source": [
    "m = p.search('Use python')\n",
    "print(m)"
   ]
  },
  {
   "cell_type": "markdown",
   "id": "fdcd8c9e",
   "metadata": {},
   "source": [
    "'Use python' 문자의 경우 첫번째 문자인 'U'는 대문자라 매치가 되지 않지만, 그 이후의 문자열 'se'는 소문자로 구성되어 있기에 매치가 된다. 이처럼 `search()`는 문자열의 처음부터 검색하는 것이 아니라 문자열 전체를 검색하며, 첫 번째로 일치하는 패턴을 찾기에 띄어쓰기 이후의 'python'은 매치되지 않는다.\n",
    "\n",
    "#### `findall()`\n",
    "\n",
    "`findall()`은 하나가 아닌 일치하는 모든 패턴을 찾는다."
   ]
  },
  {
   "cell_type": "code",
   "execution_count": 22,
   "id": "09203755",
   "metadata": {},
   "outputs": [
    {
     "name": "stdout",
     "output_type": "stream",
     "text": [
      "['Life', 'is', 'too', 'short', 'You', 'need', 'Python']\n"
     ]
    }
   ],
   "source": [
    "p = re.compile('[a-zA-Z]+')\n",
    "m = p.findall('Life is too short, You need Python.')\n",
    "print(m)"
   ]
  },
  {
   "cell_type": "markdown",
   "id": "3863acb7",
   "metadata": {},
   "source": [
    "이번에는 대소문자 모든 알파벳을 뜻하는 `[a-zA-Z]+` 표현식을 입력하였다. 그 후 'Life is too short, You need Python.'라는 문자에 `finall()` 메서드를 적용하면 정규 표현식과 매치되는 모든 단어를 리스트 형태도 반환한다.\n",
    "\n",
    "#### finditer()\n",
    "\n",
    "마지막으로 `findall()`과 비슷한 `finditer()` 함수의 결과를 살펴보자."
   ]
  },
  {
   "cell_type": "code",
   "execution_count": 23,
   "id": "c09316d5",
   "metadata": {},
   "outputs": [
    {
     "name": "stdout",
     "output_type": "stream",
     "text": [
      "<callable_iterator object at 0x0000029D75B3BD30>\n"
     ]
    }
   ],
   "source": [
    "p = re.compile('[a-zA-Z]+')\n",
    "m = p.finditer('Life is too short, You need Python.')\n",
    "print(m)"
   ]
  },
  {
   "cell_type": "markdown",
   "id": "dc994c55",
   "metadata": {},
   "source": [
    "결과를 살펴보면 반복 가능한 객체(iterator object)를 반환한다. 이는 for문을 통해 출력할 수 있다."
   ]
  },
  {
   "cell_type": "code",
   "execution_count": 24,
   "id": "c54839d7",
   "metadata": {},
   "outputs": [
    {
     "name": "stdout",
     "output_type": "stream",
     "text": [
      "<re.Match object; span=(0, 4), match='Life'>\n",
      "<re.Match object; span=(5, 7), match='is'>\n",
      "<re.Match object; span=(8, 11), match='too'>\n",
      "<re.Match object; span=(12, 17), match='short'>\n",
      "<re.Match object; span=(19, 22), match='You'>\n",
      "<re.Match object; span=(23, 27), match='need'>\n",
      "<re.Match object; span=(28, 34), match='Python'>\n"
     ]
    }
   ],
   "source": [
    "for i in m:\n",
    "    print(i)"
   ]
  },
  {
   "cell_type": "markdown",
   "id": "fb14c615",
   "metadata": {},
   "source": [
    "### 정규 표현식 연습해보기\n",
    "\n",
    "위에서 배운 것들을 토대로 실제 크롤링 결과물 중 정규 표현식을 사용해 원하는 부분만 찾는 연습을 해보도록 하자."
   ]
  },
  {
   "cell_type": "code",
   "execution_count": 25,
   "id": "5bd630af",
   "metadata": {},
   "outputs": [],
   "source": [
    "num = \"\"\"r\\n\\t\\t\\t\\t\\t\\t\\t\\r\\n\\t\\t\\t\\t\\t\\t\\t\\t15\\r\\n\\t\\t\\t\\t\\t\\t\\t\\t23\\r\\n\\t\\t\\t\\t\\t\\t\\t\\t29\\r\\n\\t\\t\\t\\t\\t\\t\\t\\t34\\r\\n\\t\\t\\t\\t\\t\\t\\t\\t40\\r\\n\\t\\t\\t\\t\\t\\t\\t\\t44\\r\\n\\t\\t\\t\\t\\t\\t\\t\\r\\n\\t\\t\\t\\t\\t\\t\"\"\""
   ]
  },
  {
   "cell_type": "markdown",
   "id": "b64bb4ab",
   "metadata": {},
   "source": [
    "위의 HTML 결과물에서 숫자에 해당하는 부분만 추츨해보도록 하자."
   ]
  },
  {
   "cell_type": "code",
   "execution_count": 26,
   "id": "4b1eb06a",
   "metadata": {},
   "outputs": [
    {
     "name": "stdout",
     "output_type": "stream",
     "text": [
      "['15', '23', '29', '34', '40', '44']\n"
     ]
    }
   ],
   "source": [
    "import re\n",
    "\n",
    "p = re.compile('[0-9]+')\n",
    "m = p.findall(num)\n",
    "print(m)"
   ]
  },
  {
   "cell_type": "markdown",
   "id": "74caac08",
   "metadata": {},
   "source": [
    "\\n, \\t와 같은 문자를 없애는 방법으로 클렌징을 할 수도 있지만, 숫자를 의미하는 '[0-9]+' 정규 표현식을 사용하면 훨씬 간단하게 추출할 수 있다."
   ]
  },
  {
   "cell_type": "code",
   "execution_count": 27,
   "id": "239ea00e",
   "metadata": {},
   "outputs": [],
   "source": [
    "dt = '> 오늘의 날짜는 2022.12.31 입니다.'"
   ]
  },
  {
   "cell_type": "markdown",
   "id": "5c341853",
   "metadata": {},
   "source": [
    "이번에는 위의 문장에서 날짜에 해당하는 '2022.12.31' 혹은 '20221231' 만 추출해보도록 하자."
   ]
  },
  {
   "cell_type": "code",
   "execution_count": 28,
   "id": "3107531c",
   "metadata": {},
   "outputs": [
    {
     "data": {
      "text/plain": [
       "['2022.12.31']"
      ]
     },
     "execution_count": 28,
     "metadata": {},
     "output_type": "execute_result"
    }
   ],
   "source": [
    "p = re.compile('[0-9]+.[0-9]+.[0-9]+')\n",
    "p.findall(dt)"
   ]
  },
  {
   "cell_type": "markdown",
   "id": "9e3273be",
   "metadata": {},
   "source": [
    "정규 표현식 '[0-9]+.[0-9]+.[0-9]+'은 [숫자.숫자.숫자] 형태를 의미하며, 이를 통해 '2022.12.31'을 추출한다."
   ]
  },
  {
   "cell_type": "code",
   "execution_count": 29,
   "id": "375ffa51",
   "metadata": {},
   "outputs": [
    {
     "name": "stdout",
     "output_type": "stream",
     "text": [
      "['2022', '12', '31']\n"
     ]
    }
   ],
   "source": [
    "p = re.compile('[0-9]+')\n",
    "m = p.findall(dt)\n",
    "print(m)"
   ]
  },
  {
   "cell_type": "markdown",
   "id": "73cd2124",
   "metadata": {},
   "source": [
    "정규 표현식에 `[0-9]+`을 입력할 경우 숫자가 개별로 추출되므로, 추가적인 작업을 통해 '20221231' 형태로 만들어주면 된다."
   ]
  },
  {
   "cell_type": "code",
   "execution_count": 30,
   "id": "f3123b68",
   "metadata": {},
   "outputs": [
    {
     "data": {
      "text/plain": [
       "'20221231'"
      ]
     },
     "execution_count": 30,
     "metadata": {},
     "output_type": "execute_result"
    }
   ],
   "source": [
    "''.join(m)"
   ]
  },
  {
   "cell_type": "markdown",
   "id": "b7ec6547",
   "metadata": {},
   "source": [
    "`join()` 함수는 `'구분자'.join(리스트)` 형태이므로, 구분자에 ''를 입력하면 리스트 내의 모든 문자를 공백없이 합쳐서 반환한다.\n",
    "\n",
    "```{note}\n",
    "아래의 웹사이트에서 정규 표현식을 연습하고 테스트할 수 있다. 크롤링 후 내가 선택하고자 하는 문자를 한 번에 정규 표현식을 이용해 추출하는 것은 초보자 단계에서는 쉬운일이 아니므로, 아래 웹사이트에서 텍스트를 입력하고 이를 추출하는 정규 표현식을 알아낸 후, 이를 파이썬에 적용하는 것이 훨씬 효율성이 높다.\n",
    "\n",
    "- https://regexr.com\n",
    "- https://regex101.com\n",
    "```"
   ]
  },
  {
   "cell_type": "code",
   "execution_count": null,
   "id": "f637e3fd",
   "metadata": {},
   "outputs": [],
   "source": []
  }
 ],
 "metadata": {
  "kernelspec": {
   "display_name": "Python 3 (ipykernel)",
   "language": "python",
   "name": "python3"
  },
  "language_info": {
   "codemirror_mode": {
    "name": "ipython",
    "version": 3
   },
   "file_extension": ".py",
   "mimetype": "text/x-python",
   "name": "python",
   "nbconvert_exporter": "python",
   "pygments_lexer": "ipython3",
   "version": "3.9.12"
  },
  "varInspector": {
   "cols": {
    "lenName": 16,
    "lenType": 16,
    "lenVar": 40
   },
   "kernels_config": {
    "python": {
     "delete_cmd_postfix": "",
     "delete_cmd_prefix": "del ",
     "library": "var_list.py",
     "varRefreshCmd": "print(var_dic_list())"
    },
    "r": {
     "delete_cmd_postfix": ") ",
     "delete_cmd_prefix": "rm(",
     "library": "var_list.r",
     "varRefreshCmd": "cat(var_dic_list()) "
    }
   },
   "types_to_exclude": [
    "module",
    "function",
    "builtin_function_or_method",
    "instance",
    "_Feature"
   ],
   "window_display": false
  }
 },
 "nbformat": 4,
 "nbformat_minor": 5
}
