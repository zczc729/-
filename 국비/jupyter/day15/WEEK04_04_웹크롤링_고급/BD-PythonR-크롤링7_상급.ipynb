{
 "cells": [
  {
   "cell_type": "markdown",
   "metadata": {},
   "source": [
    "# 입문자를 위한, 파이썬/R 데이터 분석  "
   ]
  },
  {
   "cell_type": "markdown",
   "metadata": {},
   "source": [
    "]"
   ]
  },
  {
   "cell_type": "markdown",
   "metadata": {},
   "source": [
    "## Today's mission\n",
    "\n",
    "- selenium 패키지 활용 데이터 수집\n",
    "- 실습 (1) 한국거래소 기업공시채널 상장법인 목록 읽기\n",
    "- 실습 (2) 주식 종가 차트 그리기\n",
    "- 실습 (3) 네이버 주식정보 가져오기"
   ]
  },
  {
   "cell_type": "markdown",
   "metadata": {},
   "source": [
    "]"
   ]
  },
  {
   "cell_type": "markdown",
   "metadata": {},
   "source": [
    "##### 패키지 Import 방법 참조 :\n",
    "- 1) `import pkg_name` : pkg_name 이름의 패키지를 로딩합니다 (일반적 방법)\n",
    "- 2) `import pkg_name.sub` : pkg_name 와 하위 패키지 sub 까지 로딩합니다 (하위 패키지까지 로딩할 경우)\n",
    "- 3) `from pkg_name.sub import abc` : pkg_name와 하위 패키지 sub 에다가 abc 모듈 또는 함수까지 로딩합니다"
   ]
  },
  {
   "cell_type": "code",
   "execution_count": null,
   "metadata": {},
   "outputs": [],
   "source": []
  },
  {
   "cell_type": "markdown",
   "metadata": {},
   "source": [
    "## 실습 (1) 한국거래소 기업공시채널 상장법인 목록 읽기"
   ]
  },
  {
   "cell_type": "markdown",
   "metadata": {},
   "source": [
    "#### 참고 :  https://kind.krx.co.kr/corpgeneral/corpList.do?method=loadInitPage\n",
    "\n",
    "![KIND](data/kind.jpg)\n",
    "\n",
    "#### 한국거래소 기업공시채널(kind.krx.co.kr) > 상장법인상세정보 > 상장법인목록 > EXCEL 다운로드\n",
    "\n",
    "![KIND](data/kind_excel.jpg)\n",
    "\n",
    "#### 그런데, EXCEL 파일 같지만 메모장으로 열어보면 HTML 형태 !!!\n",
    "\n",
    "![KIND](data/kind_notepad.jpg)\n",
    "\n",
    "#### 그러므로, 판다스 read_html()로 데이터를 읽어야함"
   ]
  },
  {
   "cell_type": "code",
   "execution_count": null,
   "metadata": {},
   "outputs": [],
   "source": [
    "#!pip install html5lib\n",
    "#!pip install lxml"
   ]
  },
  {
   "cell_type": "code",
   "execution_count": null,
   "metadata": {},
   "outputs": [],
   "source": [
    "import pandas as pd\n",
    "krx_list = pd.read_html(\"data/상장법인목록.xls\")"
   ]
  },
  {
   "cell_type": "code",
   "execution_count": null,
   "metadata": {},
   "outputs": [],
   "source": [
    "krx_list[0]#.info()"
   ]
  },
  {
   "cell_type": "code",
   "execution_count": null,
   "metadata": {},
   "outputs": [],
   "source": [
    "krx_list[0].종목코드 = krx_list[0].종목코드.map('{:06d}'.format)"
   ]
  },
  {
   "cell_type": "code",
   "execution_count": null,
   "metadata": {},
   "outputs": [],
   "source": [
    "krx_list[0].info()"
   ]
  },
  {
   "cell_type": "code",
   "execution_count": null,
   "metadata": {},
   "outputs": [],
   "source": [
    "df = pd.read_html('http://kind.krx.co.kr/corpgeneral/corpList.do?method=download&searchType=13')[0]"
   ]
  },
  {
   "cell_type": "markdown",
   "metadata": {},
   "source": [
    "- (중요) API 서버의 Parameter를 어떻게 찾을까?\n",
    "- https://kind.krx.co.kr/corpgeneral/corpList.do?method=loadInitPage\n",
    "- [Chrome]-<개발자도구 F12>-<Network>-<Excel 다운로드 클릭>-[다운로드 파일 Name/Payload 분석]\n",
    "- REST API 및 GET, PUT 방식 : https://studyandwrite.tistory.com/453"
   ]
  },
  {
   "cell_type": "code",
   "execution_count": null,
   "metadata": {},
   "outputs": [],
   "source": [
    "df"
   ]
  },
  {
   "cell_type": "code",
   "execution_count": null,
   "metadata": {},
   "outputs": [],
   "source": [
    "df['종목코드'] = df['종목코드'].map('{:06d}'.format)"
   ]
  },
  {
   "cell_type": "code",
   "execution_count": null,
   "metadata": {},
   "outputs": [],
   "source": [
    "df = df.sort_values(by='종목코드')"
   ]
  },
  {
   "cell_type": "code",
   "execution_count": null,
   "metadata": {},
   "outputs": [],
   "source": [
    "df"
   ]
  },
  {
   "cell_type": "code",
   "execution_count": null,
   "metadata": {},
   "outputs": [],
   "source": []
  },
  {
   "cell_type": "markdown",
   "metadata": {},
   "source": [
    "## 실습 (2) 주식 종가 차트 그리기\n",
    "\n",
    "- xmltodict 라이브리리"
   ]
  },
  {
   "cell_type": "code",
   "execution_count": null,
   "metadata": {},
   "outputs": [],
   "source": [
    "#!pip install mplfinance\n",
    "#!pip install xmltodict"
   ]
  },
  {
   "cell_type": "code",
   "execution_count": null,
   "metadata": {},
   "outputs": [],
   "source": [
    "##importing libraries\n",
    "from urllib.request import urlopen\n",
    "import numpy as np\n",
    "import lxml\n",
    "import requests\n",
    "import json\n",
    "import xmltodict\n",
    "import mplfinance as mpf\n",
    "import pandas as pd"
   ]
  },
  {
   "cell_type": "code",
   "execution_count": null,
   "metadata": {},
   "outputs": [],
   "source": [
    "#data crawling using json\n",
    "url='https://fchart.stock.naver.com/sise.nhn?symbol=005930&timeframe=day&count=200&requestType=0'\n",
    "rs=requests.get(url)\n",
    "dt=xmltodict.parse(rs.text)\n",
    "js=json.dumps(dt)\n",
    "js=json.loads(js)"
   ]
  },
  {
   "cell_type": "code",
   "execution_count": null,
   "metadata": {},
   "outputs": [],
   "source": [
    "js"
   ]
  },
  {
   "cell_type": "code",
   "execution_count": null,
   "metadata": {},
   "outputs": [],
   "source": [
    "data=pd.json_normalize(js['protocol']['chartdata']['item'])\n",
    "data"
   ]
  },
  {
   "cell_type": "code",
   "execution_count": null,
   "metadata": {},
   "outputs": [],
   "source": [
    "df=data['@data'].str.split('|', expand=True)\n",
    "df.columns=['Date','Open','High','Low','Close','Volume']"
   ]
  },
  {
   "cell_type": "code",
   "execution_count": null,
   "metadata": {},
   "outputs": [],
   "source": [
    "df"
   ]
  },
  {
   "cell_type": "code",
   "execution_count": null,
   "metadata": {},
   "outputs": [],
   "source": [
    "#data handling\n",
    "df['Open']=pd.to_numeric(df['Open'])\n",
    "df['High']=pd.to_numeric(df['High'])\n",
    "df['Low']=pd.to_numeric(df['Low'])\n",
    "df['Close']=pd.to_numeric(df['Close'])\n",
    "df['Volume']=pd.to_numeric(df['Volume'])\n",
    "df_final=df[['Open','High','Low','Close','Volume']]\n",
    "df_final_time=pd.DatetimeIndex(df['Date'])\n",
    "df_final.index=df_final_time"
   ]
  },
  {
   "cell_type": "code",
   "execution_count": null,
   "metadata": {},
   "outputs": [],
   "source": [
    "df_final"
   ]
  },
  {
   "cell_type": "code",
   "execution_count": null,
   "metadata": {},
   "outputs": [],
   "source": [
    "#Visualization\n",
    "kwargs=dict(title=\"Samsung\", type='candle',mav=(5,20,60), volume=True)\n",
    "mc=mpf.make_marketcolors(up='red', down='blue', inherit=True)\n",
    "style_final=mpf.make_mpf_style(marketcolors=mc)\n",
    "mpf.plot(df_final, **kwargs, style=style_final)\n",
    "#plt.show()"
   ]
  },
  {
   "cell_type": "code",
   "execution_count": null,
   "metadata": {},
   "outputs": [],
   "source": []
  },
  {
   "cell_type": "markdown",
   "metadata": {},
   "source": [
    "## 실습 (3) 네이버 주식정보 가져오기\n",
    "\n",
    "#### 사이트 : https://finance.naver.com/sise/sise_market_sum.nhn\n",
    "#### 참고 : https://cocoabba.tistory.com/20"
   ]
  },
  {
   "cell_type": "code",
   "execution_count": null,
   "metadata": {},
   "outputs": [],
   "source": [
    "import requests\n",
    "from bs4 import BeautifulSoup"
   ]
  },
  {
   "cell_type": "code",
   "execution_count": null,
   "metadata": {},
   "outputs": [],
   "source": [
    "url = \"https://finance.naver.com/sise/sise_market_sum.nhn?page=3\"\n",
    "res = requests.get(url)\n",
    "res.text"
   ]
  },
  {
   "cell_type": "code",
   "execution_count": null,
   "metadata": {},
   "outputs": [],
   "source": [
    "url"
   ]
  },
  {
   "cell_type": "code",
   "execution_count": null,
   "metadata": {},
   "outputs": [],
   "source": [
    "soup = BeautifulSoup(res.text, 'lxml')\n",
    "print(soup)"
   ]
  },
  {
   "cell_type": "code",
   "execution_count": null,
   "metadata": {},
   "outputs": [],
   "source": [
    "stock_head = soup.find(\"thead\").find_all(\"th\")\n",
    "stock_head"
   ]
  },
  {
   "cell_type": "code",
   "execution_count": null,
   "metadata": {},
   "outputs": [],
   "source": [
    "data_head = [head.get_text() for head in stock_head]\n",
    "data_head"
   ]
  },
  {
   "cell_type": "code",
   "execution_count": null,
   "metadata": {},
   "outputs": [],
   "source": [
    "stock_list = soup.find(\"tbody\").find_all(\"tr\")\n",
    "#stock_list\n",
    "stock_list[1].get_text().split()"
   ]
  },
  {
   "cell_type": "code",
   "execution_count": null,
   "metadata": {},
   "outputs": [],
   "source": [
    "for stock in stock_list:\n",
    "     if len(stock) > 1 :\n",
    "          print(stock.get_text().split())"
   ]
  },
  {
   "cell_type": "code",
   "execution_count": null,
   "metadata": {},
   "outputs": [],
   "source": []
  }
 ],
 "metadata": {
  "kernelspec": {
   "display_name": "Python 3 (ipykernel)",
   "language": "python",
   "name": "python3"
  },
  "language_info": {
   "codemirror_mode": {
    "name": "ipython",
    "version": 3
   },
   "file_extension": ".py",
   "mimetype": "text/x-python",
   "name": "python",
   "nbconvert_exporter": "python",
   "pygments_lexer": "ipython3",
   "version": "3.9.12"
  },
  "toc": {
   "base_numbering": 1,
   "nav_menu": {},
   "number_sections": true,
   "sideBar": true,
   "skip_h1_title": false,
   "title_cell": "Table of Contents",
   "title_sidebar": "Contents",
   "toc_cell": false,
   "toc_position": {
    "height": "calc(100% - 180px)",
    "left": "10px",
    "top": "150px",
    "width": "245.062px"
   },
   "toc_section_display": true,
   "toc_window_display": false
  }
 },
 "nbformat": 4,
 "nbformat_minor": 4
}
