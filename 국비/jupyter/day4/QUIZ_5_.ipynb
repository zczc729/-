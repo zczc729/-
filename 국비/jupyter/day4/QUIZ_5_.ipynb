{
 "cells": [
  {
   "cell_type": "markdown",
   "id": "3ce941ff",
   "metadata": {},
   "source": [
    "QUIZ (고급 : 도움없이)  \n",
    "콜라츠 추측 (3n+1 문제)  \n",
    "\n",
    "\n",
    "3n + 1 문제는 다음과 같습니다.\n",
    "\n",
    "  * n이 홀수면 3을 곱한 뒤 1을 더하고\n",
    "  * n이 짝수면 2로 나눕니다.\n",
    "  * 마지막으로 n이 1이 되면 프로그램을 종료합니다.\n",
    "\n",
    "이 문제 역시 재귀 함수를 사용하면 간단하게 풀 수 있습니다.\n",
    "\n",
    "참고 : [콜라츠 추측](https://m.blog.naver.com/PostView.naver?isHttpsRedirect=true&blogId=inwook28&logNo=221622650947)\n",
    "\n",
    "**산식**\n",
    "\n",
    "    f(x) = n/2 (if n is even)\n",
    "         = 3*n+1 (if n is odd)"
   ]
  },
  {
   "cell_type": "code",
   "execution_count": 1,
   "id": "5a653a5b",
   "metadata": {},
   "outputs": [
    {
     "name": "stdout",
     "output_type": "stream",
     "text": [
      "10\n",
      "5.0\n",
      "16.0\n",
      "8.0\n",
      "4.0\n",
      "2.0\n",
      "1.0\n",
      "[3, 10, 5.0, 16.0, 8.0, 4.0, 2.0, 1]\n"
     ]
    }
   ],
   "source": [
    "### while문으로 계산\n",
    "n = 3\n",
    "result = []\n",
    "\n",
    "while n != 1:\n",
    "    result.append(n)\n",
    "    if n % 2 == 0:\n",
    "        n = n / 2\n",
    "        print(n)\n",
    "    else:\n",
    "        n = 3 * n + 1\n",
    "        print(n)\n",
    "\n",
    "result.append(1)\n",
    "\n",
    "print(result)"
   ]
  },
  {
   "cell_type": "code",
   "execution_count": 2,
   "id": "fc59a043",
   "metadata": {},
   "outputs": [],
   "source": [
    "# cycle이라는 이름의 함수를 만듭니다. 인자로 n을 받습니다.\n",
    "def cycle(n):\n",
    "    # n이 1이면 1이 하나 들어간 리스트를 반환합니다.\n",
    "    if n == 1:\n",
    "        return [1]\n",
    "\n",
    "    # n이 짝수이면 n이 하나 들어간 리스트와, cycle(n / 2)의 결과값을 더해서 반환합니다.\n",
    "    if n % 2 == 0:\n",
    "        return [n] + cycle(n / 2)\n",
    "    \n",
    "    # n이 홀수이면 n이 하나 들어간 리스트와, cycle(3 * n + 2)의 결과값을 더해서 반환합니다.\n",
    "    else:\n",
    "        return [n] + cycle(3 * n + 1)"
   ]
  },
  {
   "cell_type": "code",
   "execution_count": 3,
   "id": "21321448",
   "metadata": {},
   "outputs": [
    {
     "data": {
      "text/plain": [
       "[3, 10, 5.0, 16.0, 8.0, 4.0, 2.0, 1]"
      ]
     },
     "execution_count": 3,
     "metadata": {},
     "output_type": "execute_result"
    }
   ],
   "source": [
    "cycle(3)"
   ]
  },
  {
   "cell_type": "code",
   "execution_count": 4,
   "id": "ad778c93",
   "metadata": {},
   "outputs": [
    {
     "name": "stdout",
     "output_type": "stream",
     "text": [
      "[1]\n"
     ]
    }
   ],
   "source": [
    "# 1번부터 5번까지 3n + 1 문제를 실행합니다.\n",
    "print(cycle(1))"
   ]
  },
  {
   "cell_type": "code",
   "execution_count": 5,
   "id": "82782a81",
   "metadata": {},
   "outputs": [
    {
     "name": "stdout",
     "output_type": "stream",
     "text": [
      "[27, 82, 41.0, 124.0, 62.0, 31.0, 94.0, 47.0, 142.0, 71.0, 214.0, 107.0, 322.0, 161.0, 484.0, 242.0, 121.0, 364.0, 182.0, 91.0, 274.0, 137.0, 412.0, 206.0, 103.0, 310.0, 155.0, 466.0, 233.0, 700.0, 350.0, 175.0, 526.0, 263.0, 790.0, 395.0, 1186.0, 593.0, 1780.0, 890.0, 445.0, 1336.0, 668.0, 334.0, 167.0, 502.0, 251.0, 754.0, 377.0, 1132.0, 566.0, 283.0, 850.0, 425.0, 1276.0, 638.0, 319.0, 958.0, 479.0, 1438.0, 719.0, 2158.0, 1079.0, 3238.0, 1619.0, 4858.0, 2429.0, 7288.0, 3644.0, 1822.0, 911.0, 2734.0, 1367.0, 4102.0, 2051.0, 6154.0, 3077.0, 9232.0, 4616.0, 2308.0, 1154.0, 577.0, 1732.0, 866.0, 433.0, 1300.0, 650.0, 325.0, 976.0, 488.0, 244.0, 122.0, 61.0, 184.0, 92.0, 46.0, 23.0, 70.0, 35.0, 106.0, 53.0, 160.0, 80.0, 40.0, 20.0, 10.0, 5.0, 16.0, 8.0, 4.0, 2.0, 1]\n"
     ]
    }
   ],
   "source": [
    "print(cycle(27))"
   ]
  },
  {
   "cell_type": "code",
   "execution_count": 6,
   "id": "43867ed9",
   "metadata": {},
   "outputs": [
    {
     "data": {
      "text/plain": [
       "111"
      ]
     },
     "execution_count": 6,
     "metadata": {},
     "output_type": "execute_result"
    }
   ],
   "source": [
    "len(cycle(27))-1"
   ]
  },
  {
   "cell_type": "code",
   "execution_count": 8,
   "id": "58ea7f42",
   "metadata": {
    "scrolled": true
   },
   "outputs": [
    {
     "name": "stdout",
     "output_type": "stream",
     "text": [
      "숫자를 입력하세요:3\n",
      "3 10 5 16 8 4 2 "
     ]
    }
   ],
   "source": [
    "# 콜라츠 추측\n",
    "n = int(input(\"숫자를 입력하세요:\"))\n",
    "while n != 1:\n",
    "    print(n, end=' ')\n",
    "    if n % 2 == 0:\n",
    "        n = n // 2\n",
    "    else:\n",
    "        n = 3 * n + 1"
   ]
  },
  {
   "cell_type": "code",
   "execution_count": null,
   "id": "99190b61",
   "metadata": {},
   "outputs": [],
   "source": []
  }
 ],
 "metadata": {
  "kernelspec": {
   "display_name": "Python 3 (ipykernel)",
   "language": "python",
   "name": "python3"
  },
  "language_info": {
   "codemirror_mode": {
    "name": "ipython",
    "version": 3
   },
   "file_extension": ".py",
   "mimetype": "text/x-python",
   "name": "python",
   "nbconvert_exporter": "python",
   "pygments_lexer": "ipython3",
   "version": "3.9.12"
  }
 },
 "nbformat": 4,
 "nbformat_minor": 5
}
