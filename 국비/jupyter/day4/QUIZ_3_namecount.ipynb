{
 "cells": [
  {
   "cell_type": "markdown",
   "id": "b4364336",
   "metadata": {},
   "source": [
    "<QUIZ #5>\n",
    "주어진 문자열(공백 없이 쉼표로 구분되어 있음)을 가지고 아래 문제에 대한 프로그램을 작성하세요.\n",
    "\n",
    "(데이터)\n",
    "이유덕,이재영,권종표,이재영,박민호,강상희,이재영,김지완,최승혁,이성연,박영서,박민호,전경헌,송정환,김재성,이유덕,전경헌\n",
    "\n",
    "1.김씨와 이씨는 각각 몇 명 인가요? (동명이인)      \n",
    "2.\"이재영\"이란 이름이 몇 번 반복되나요?       \n",
    "3.중복을 제거한 이름을 출력하세요.      \n",
    "4.중복을 제거한 이름을 오름차순으로 정렬하여 출력하세요.     "
   ]
  },
  {
   "cell_type": "markdown",
   "id": "0b9c69ac",
   "metadata": {},
   "source": [
    "# 퀴즈 5번"
   ]
  },
  {
   "cell_type": "code",
   "execution_count": 3,
   "id": "bab76ab8",
   "metadata": {},
   "outputs": [],
   "source": [
    "names = \"이유덕,이재영,권종표,이재영,박민호,강상희,이재영,김지완,최승혁,이성연,박영서,박민호,전경헌,송정환,김재성,이유덕,전경헌\""
   ]
  },
  {
   "cell_type": "code",
   "execution_count": 4,
   "id": "f3090d9d",
   "metadata": {},
   "outputs": [
    {
     "data": {
      "text/plain": [
       "'이유덕,이재영,권종표,이재영,박민호,강상희,이재영,김지완,최승혁,이성연,박영서,박민호,전경헌,송정환,김재성,이유덕,전경헌'"
      ]
     },
     "execution_count": 4,
     "metadata": {},
     "output_type": "execute_result"
    }
   ],
   "source": [
    "names"
   ]
  },
  {
   "cell_type": "code",
   "execution_count": 5,
   "id": "10ce7b4d",
   "metadata": {},
   "outputs": [
    {
     "data": {
      "text/plain": [
       "str"
      ]
     },
     "execution_count": 5,
     "metadata": {},
     "output_type": "execute_result"
    }
   ],
   "source": [
    "type(names)"
   ]
  },
  {
   "cell_type": "code",
   "execution_count": null,
   "id": "aeb9a608",
   "metadata": {},
   "outputs": [],
   "source": []
  },
  {
   "cell_type": "markdown",
   "id": "55d7b8ff",
   "metadata": {},
   "source": [
    "## Ans.2"
   ]
  },
  {
   "cell_type": "code",
   "execution_count": 6,
   "id": "f48caeb4",
   "metadata": {},
   "outputs": [
    {
     "data": {
      "text/plain": [
       "'이유덕,이재영,권종표,이재영,박민호,강상희,이재영,김지완,최승혁,이성연,박영서,박민호,전경헌,송정환,김재성,이유덕,전경헌'"
      ]
     },
     "execution_count": 6,
     "metadata": {},
     "output_type": "execute_result"
    }
   ],
   "source": [
    "names"
   ]
  },
  {
   "cell_type": "code",
   "execution_count": 7,
   "id": "2ba2d20f",
   "metadata": {},
   "outputs": [
    {
     "data": {
      "text/plain": [
       "3"
      ]
     },
     "execution_count": 7,
     "metadata": {},
     "output_type": "execute_result"
    }
   ],
   "source": [
    "names.count(\"이재영\")"
   ]
  },
  {
   "cell_type": "code",
   "execution_count": 8,
   "id": "9a0531c7",
   "metadata": {},
   "outputs": [
    {
     "data": {
      "text/plain": [
       "['이유덕',\n",
       " '이재영',\n",
       " '권종표',\n",
       " '이재영',\n",
       " '박민호',\n",
       " '강상희',\n",
       " '이재영',\n",
       " '김지완',\n",
       " '최승혁',\n",
       " '이성연',\n",
       " '박영서',\n",
       " '박민호',\n",
       " '전경헌',\n",
       " '송정환',\n",
       " '김재성',\n",
       " '이유덕',\n",
       " '전경헌']"
      ]
     },
     "execution_count": 8,
     "metadata": {},
     "output_type": "execute_result"
    }
   ],
   "source": [
    "names.split(',')"
   ]
  },
  {
   "cell_type": "code",
   "execution_count": 9,
   "id": "96d2823b",
   "metadata": {},
   "outputs": [],
   "source": [
    "name_list = names.split(\",\")"
   ]
  },
  {
   "cell_type": "code",
   "execution_count": 10,
   "id": "60274fb3",
   "metadata": {},
   "outputs": [
    {
     "data": {
      "text/plain": [
       "17"
      ]
     },
     "execution_count": 10,
     "metadata": {},
     "output_type": "execute_result"
    }
   ],
   "source": [
    "len(name_list)"
   ]
  },
  {
   "cell_type": "code",
   "execution_count": 11,
   "id": "9edc6237",
   "metadata": {},
   "outputs": [
    {
     "data": {
      "text/plain": [
       "3"
      ]
     },
     "execution_count": 11,
     "metadata": {},
     "output_type": "execute_result"
    }
   ],
   "source": [
    "name_list.count('이재영')"
   ]
  },
  {
   "cell_type": "code",
   "execution_count": null,
   "id": "5dbaa677",
   "metadata": {},
   "outputs": [],
   "source": []
  },
  {
   "cell_type": "code",
   "execution_count": null,
   "id": "040f9d54",
   "metadata": {},
   "outputs": [],
   "source": []
  },
  {
   "cell_type": "markdown",
   "id": "97e7caf9",
   "metadata": {},
   "source": [
    "# Ans.3"
   ]
  },
  {
   "cell_type": "code",
   "execution_count": 12,
   "id": "65ddb73b",
   "metadata": {},
   "outputs": [
    {
     "data": {
      "text/plain": [
       "{'강상희',\n",
       " '권종표',\n",
       " '김재성',\n",
       " '김지완',\n",
       " '박민호',\n",
       " '박영서',\n",
       " '송정환',\n",
       " '이성연',\n",
       " '이유덕',\n",
       " '이재영',\n",
       " '전경헌',\n",
       " '최승혁'}"
      ]
     },
     "execution_count": 12,
     "metadata": {},
     "output_type": "execute_result"
    }
   ],
   "source": [
    "set(name_list)"
   ]
  },
  {
   "cell_type": "code",
   "execution_count": 13,
   "id": "8db4b608",
   "metadata": {},
   "outputs": [
    {
     "data": {
      "text/plain": [
       "12"
      ]
     },
     "execution_count": 13,
     "metadata": {},
     "output_type": "execute_result"
    }
   ],
   "source": [
    "len(set(name_list))"
   ]
  },
  {
   "cell_type": "code",
   "execution_count": 14,
   "id": "73c8c56c",
   "metadata": {},
   "outputs": [
    {
     "data": {
      "text/plain": [
       "['이유덕',\n",
       " '김재성',\n",
       " '이재영',\n",
       " '송정환',\n",
       " '박영서',\n",
       " '최승혁',\n",
       " '전경헌',\n",
       " '이성연',\n",
       " '강상희',\n",
       " '김지완',\n",
       " '박민호',\n",
       " '권종표']"
      ]
     },
     "execution_count": 14,
     "metadata": {},
     "output_type": "execute_result"
    }
   ],
   "source": [
    "list(set(name_list))"
   ]
  },
  {
   "cell_type": "code",
   "execution_count": 15,
   "id": "c0f45c4e",
   "metadata": {},
   "outputs": [],
   "source": [
    "uniq_name = list(set(name_list))"
   ]
  },
  {
   "cell_type": "code",
   "execution_count": 16,
   "id": "ad85d4b7",
   "metadata": {},
   "outputs": [
    {
     "data": {
      "text/plain": [
       "['이유덕',\n",
       " '김재성',\n",
       " '이재영',\n",
       " '송정환',\n",
       " '박영서',\n",
       " '최승혁',\n",
       " '전경헌',\n",
       " '이성연',\n",
       " '강상희',\n",
       " '김지완',\n",
       " '박민호',\n",
       " '권종표']"
      ]
     },
     "execution_count": 16,
     "metadata": {},
     "output_type": "execute_result"
    }
   ],
   "source": [
    "uniq_name"
   ]
  },
  {
   "cell_type": "code",
   "execution_count": 17,
   "id": "d070b744",
   "metadata": {},
   "outputs": [
    {
     "data": {
      "text/plain": [
       "12"
      ]
     },
     "execution_count": 17,
     "metadata": {},
     "output_type": "execute_result"
    }
   ],
   "source": [
    "len(uniq_name)"
   ]
  },
  {
   "cell_type": "code",
   "execution_count": null,
   "id": "0da6cd41",
   "metadata": {},
   "outputs": [],
   "source": []
  },
  {
   "cell_type": "markdown",
   "id": "9df0312e",
   "metadata": {},
   "source": [
    "# Ans.4"
   ]
  },
  {
   "cell_type": "code",
   "execution_count": 18,
   "id": "9800f9f7",
   "metadata": {},
   "outputs": [
    {
     "data": {
      "text/plain": [
       "['이유덕',\n",
       " '김재성',\n",
       " '이재영',\n",
       " '송정환',\n",
       " '박영서',\n",
       " '최승혁',\n",
       " '전경헌',\n",
       " '이성연',\n",
       " '강상희',\n",
       " '김지완',\n",
       " '박민호',\n",
       " '권종표']"
      ]
     },
     "execution_count": 18,
     "metadata": {},
     "output_type": "execute_result"
    }
   ],
   "source": [
    "uniq_name"
   ]
  },
  {
   "cell_type": "code",
   "execution_count": 19,
   "id": "195581be",
   "metadata": {},
   "outputs": [],
   "source": [
    "uniq_name.sort()"
   ]
  },
  {
   "cell_type": "code",
   "execution_count": 20,
   "id": "edc0476d",
   "metadata": {},
   "outputs": [
    {
     "data": {
      "text/plain": [
       "['강상희',\n",
       " '권종표',\n",
       " '김재성',\n",
       " '김지완',\n",
       " '박민호',\n",
       " '박영서',\n",
       " '송정환',\n",
       " '이성연',\n",
       " '이유덕',\n",
       " '이재영',\n",
       " '전경헌',\n",
       " '최승혁']"
      ]
     },
     "execution_count": 20,
     "metadata": {},
     "output_type": "execute_result"
    }
   ],
   "source": [
    "uniq_name"
   ]
  },
  {
   "cell_type": "code",
   "execution_count": null,
   "id": "e54dee15",
   "metadata": {},
   "outputs": [],
   "source": []
  },
  {
   "cell_type": "markdown",
   "id": "bc68ad59",
   "metadata": {},
   "source": [
    "# Ans.1"
   ]
  },
  {
   "cell_type": "code",
   "execution_count": 21,
   "id": "86d3e80c",
   "metadata": {},
   "outputs": [
    {
     "data": {
      "text/plain": [
       "'이유덕,이재영,권종표,이재영,박민호,강상희,이재영,김지완,최승혁,이성연,박영서,박민호,전경헌,송정환,김재성,이유덕,전경헌'"
      ]
     },
     "execution_count": 21,
     "metadata": {},
     "output_type": "execute_result"
    }
   ],
   "source": [
    "names"
   ]
  },
  {
   "cell_type": "code",
   "execution_count": 22,
   "id": "91fd0b2f",
   "metadata": {},
   "outputs": [
    {
     "data": {
      "text/plain": [
       "6"
      ]
     },
     "execution_count": 22,
     "metadata": {},
     "output_type": "execute_result"
    }
   ],
   "source": [
    "# 문제가? 성이 이씨?\n",
    "names.count(\"이\")"
   ]
  },
  {
   "cell_type": "code",
   "execution_count": 23,
   "id": "14ba6103",
   "metadata": {},
   "outputs": [
    {
     "data": {
      "text/plain": [
       "'전경헌'"
      ]
     },
     "execution_count": 23,
     "metadata": {},
     "output_type": "execute_result"
    }
   ],
   "source": [
    "name_list[16]"
   ]
  },
  {
   "cell_type": "code",
   "execution_count": 24,
   "id": "eddf5c38",
   "metadata": {},
   "outputs": [
    {
     "data": {
      "text/plain": [
       "'이'"
      ]
     },
     "execution_count": 24,
     "metadata": {},
     "output_type": "execute_result"
    }
   ],
   "source": [
    "# 성\n",
    "name_list[0][0]"
   ]
  },
  {
   "cell_type": "code",
   "execution_count": 25,
   "id": "221a84e7",
   "metadata": {},
   "outputs": [
    {
     "data": {
      "text/plain": [
       "'유덕'"
      ]
     },
     "execution_count": 25,
     "metadata": {},
     "output_type": "execute_result"
    }
   ],
   "source": [
    "# 이름\n",
    "name_list[0][1:]"
   ]
  },
  {
   "cell_type": "code",
   "execution_count": 26,
   "id": "789a287b",
   "metadata": {},
   "outputs": [
    {
     "data": {
      "text/plain": [
       "'이덕'"
      ]
     },
     "execution_count": 26,
     "metadata": {},
     "output_type": "execute_result"
    }
   ],
   "source": [
    "# 이름의 첫글자 + 마지막글자\n",
    "name_list[0][0] + name_list[0][2]"
   ]
  },
  {
   "cell_type": "code",
   "execution_count": 27,
   "id": "b29b64fc",
   "metadata": {},
   "outputs": [
    {
     "data": {
      "text/plain": [
       "'덕'"
      ]
     },
     "execution_count": 27,
     "metadata": {},
     "output_type": "execute_result"
    }
   ],
   "source": [
    "name_list[0][2]"
   ]
  },
  {
   "cell_type": "code",
   "execution_count": null,
   "id": "3fc47c8f",
   "metadata": {},
   "outputs": [],
   "source": []
  },
  {
   "cell_type": "code",
   "execution_count": 28,
   "id": "0c650429",
   "metadata": {},
   "outputs": [
    {
     "name": "stdout",
     "output_type": "stream",
     "text": [
      "이유덕\n",
      "['이']\n",
      "다음 실행?\n",
      "이재영\n",
      "['이', '이']\n",
      "다음 실행?\n",
      "권종표\n",
      "['이', '이', '권']\n",
      "다음 실행?\n",
      "이재영\n",
      "['이', '이', '권', '이']\n",
      "다음 실행?\n",
      "박민호\n",
      "['이', '이', '권', '이', '박']\n",
      "다음 실행?\n",
      "강상희\n",
      "['이', '이', '권', '이', '박', '강']\n",
      "다음 실행?\n",
      "이재영\n",
      "['이', '이', '권', '이', '박', '강', '이']\n",
      "다음 실행?\n",
      "김지완\n",
      "['이', '이', '권', '이', '박', '강', '이', '김']\n",
      "다음 실행?\n",
      "최승혁\n",
      "['이', '이', '권', '이', '박', '강', '이', '김', '최']\n",
      "다음 실행?\n",
      "이성연\n",
      "['이', '이', '권', '이', '박', '강', '이', '김', '최', '이']\n",
      "다음 실행?\n",
      "박영서\n",
      "['이', '이', '권', '이', '박', '강', '이', '김', '최', '이', '박']\n",
      "다음 실행?\n",
      "박민호\n",
      "['이', '이', '권', '이', '박', '강', '이', '김', '최', '이', '박', '박']\n",
      "다음 실행?\n",
      "전경헌\n",
      "['이', '이', '권', '이', '박', '강', '이', '김', '최', '이', '박', '박', '전']\n",
      "다음 실행?\n",
      "송정환\n",
      "['이', '이', '권', '이', '박', '강', '이', '김', '최', '이', '박', '박', '전', '송']\n",
      "다음 실행?\n",
      "김재성\n",
      "['이', '이', '권', '이', '박', '강', '이', '김', '최', '이', '박', '박', '전', '송', '김']\n",
      "다음 실행?\n",
      "이유덕\n",
      "['이', '이', '권', '이', '박', '강', '이', '김', '최', '이', '박', '박', '전', '송', '김', '이']\n",
      "다음 실행?\n",
      "전경헌\n",
      "['이', '이', '권', '이', '박', '강', '이', '김', '최', '이', '박', '박', '전', '송', '김', '이', '전']\n",
      "다음 실행?\n"
     ]
    }
   ],
   "source": [
    "# 변수와 데이터 초기화 : 리스트로 쓰겠다\n",
    "sung = []\n",
    "\n",
    "for name in name_list:\n",
    "    print(name)\n",
    "    sung.append(name[0])\n",
    "    print(sung)\n",
    "    \n",
    "    input(\"다음 실행?\")"
   ]
  },
  {
   "cell_type": "code",
   "execution_count": 29,
   "id": "eff4d9b0",
   "metadata": {},
   "outputs": [
    {
     "data": {
      "text/plain": [
       "['이',\n",
       " '이',\n",
       " '권',\n",
       " '이',\n",
       " '박',\n",
       " '강',\n",
       " '이',\n",
       " '김',\n",
       " '최',\n",
       " '이',\n",
       " '박',\n",
       " '박',\n",
       " '전',\n",
       " '송',\n",
       " '김',\n",
       " '이',\n",
       " '전']"
      ]
     },
     "execution_count": 29,
     "metadata": {},
     "output_type": "execute_result"
    }
   ],
   "source": [
    "sung"
   ]
  },
  {
   "cell_type": "code",
   "execution_count": 30,
   "id": "57d327e8",
   "metadata": {},
   "outputs": [
    {
     "name": "stdout",
     "output_type": "stream",
     "text": [
      "김씨 인원 : 2\n",
      "이씨 인원 : 6\n"
     ]
    }
   ],
   "source": [
    "print(\"김씨 인원 :\", sung.count(\"김\"))\n",
    "print(\"이씨 인원 :\", sung.count(\"이\"))"
   ]
  }
 ],
 "metadata": {
  "kernelspec": {
   "display_name": "Python 3 (ipykernel)",
   "language": "python",
   "name": "python3"
  },
  "language_info": {
   "codemirror_mode": {
    "name": "ipython",
    "version": 3
   },
   "file_extension": ".py",
   "mimetype": "text/x-python",
   "name": "python",
   "nbconvert_exporter": "python",
   "pygments_lexer": "ipython3",
   "version": "3.9.12"
  }
 },
 "nbformat": 4,
 "nbformat_minor": 5
}
