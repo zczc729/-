{
 "cells": [
  {
   "cell_type": "markdown",
   "id": "8c5b3ca9",
   "metadata": {},
   "source": [
    "# 입문자를 위한, 파이썬/R 데이터 분석 "
   ]
  },
  {
   "cell_type": "code",
   "execution_count": null,
   "id": "625cebed",
   "metadata": {},
   "outputs": [],
   "source": []
  },
  {
   "cell_type": "markdown",
   "id": "a75a268d",
   "metadata": {},
   "source": [
    "## Today's mission\n",
    "\n",
    "- 데이터 수집\n",
    "  - 셀레니움 웹크롤링\n",
    "  - 셀레니움 사용법   \n"
   ]
  },
  {
   "cell_type": "code",
   "execution_count": null,
   "id": "60da6475",
   "metadata": {},
   "outputs": [],
   "source": []
  },
  {
   "cell_type": "markdown",
   "id": "f0c27848",
   "metadata": {},
   "source": [
    "## 셀레니움 : 동적 크롤링\n",
    "\n",
    "좀 더 복잡한 형태의 데이터를 크롤링하기 위한 동적 크롤링 및 정규 표현식의 사용방법\n",
    "\n",
    "**참고 사이트**\n",
    "- https://kihome15.tistory.com/10\n",
    "- https://coding-shop.tistory.com/290?category=1235575\n",
    "- https://coding-shop.tistory.com/286?category=1235575\n",
    "\n",
    "\n",
    "### 동적 크롤링이란?\n",
    "\n",
    "- 일반적인 크롤링으로는 정적 데이터, 즉 변하지 않는 데이터만을 수집할 수 있다. \n",
    "- 한 페이지 안에서 원하는 정보가 모두 드러나는 것을 정적 데이터라 한다. \n",
    "\n",
    "- 반면 입력, 클릭, 로그인 등을 통해 데이터가 바뀌는 것을 동적 데이터라 한다. \n",
    "- 예를 들어 네이버 지도에서 매장을 검색을 한 후 좌측에서 원하는 선택할 때 마다 이에 해당하는 내용이 뜬다. \n",
    "\n",
    "이는 웹페이지에서 사용자가 클릭 등과 같은 조작을 하면 AJAX 호출이 발생하여 그 결과가 페이지의 일부분에만 반영되어 변경되기 때문이다. 즉 매장을 클릭하면 웹브라우저가 연결된 자바스크립트 코드를 실행하여 해당 매장의 상세 정보가 동일한 페이지에 동적으로 표시된다. 정적 페이지와 동적 페이지의 작동 방식의 차이를 나타낸다.\n",
    "\n",
    "셀레니움을 이용할 경우 정적 페이지와 동적 페이지를 모두 크롤링 할 수 있다는 강력함이 있지만, 상대적으로 속도가 느리다. 따라서 정적 페이지는 기존의 방법을 이용한 크롤링을, 동적 페이지는 셀레니움을 이용한 크롤링을 하는 것이 일반적이다.\n",
    "\n",
    "- 정적 크롤링과 동적 크롤링 비교\n",
    ":name: crawl_compare\n",
    "| 구분 | 정적 크롤링 | 동적 크롤링 |\n",
    "| --- | --- | --- |\n",
    "|사용 패키지\t|requests |\tselenium |\n",
    "|수집 커버리지 |정적 페이지 | 정적/동적 페이지 |\n",
    "| 수집 속도 | 빠름 (별도 페이지 조작 필요 X) | 상대적으로 느림 |\n",
    "| 파싱 패키지 | beautifulsoup | beautifulsoup / selenium |\n",
    "```\n",
    "\n",
    "셀레니움이란 다양한 브라우저(인터넷 익스플로러, 크롬, 사파리 오페라 등) 및 플랫폼에서 웹 응용 프로그램을 테스트할 수 있게 해주는 라이브러리다. 즉 웹 자동화 테스트 용도로 개발이 되었기에 실제 브라우저를 사용하며, 페이지가 변화하는 것도 관찰이 가능하기에 동적 크롤링에 사용할 수 있다."
   ]
  },
  {
   "cell_type": "markdown",
   "id": "901ada63",
   "metadata": {},
   "source": [
    "### 셀레니움 실습"
   ]
  },
  {
   "cell_type": "code",
   "execution_count": null,
   "id": "e14c30b5",
   "metadata": {},
   "outputs": [],
   "source": [
    "#!pip install selenium"
   ]
  },
  {
   "cell_type": "code",
   "execution_count": null,
   "id": "ef16f68e",
   "metadata": {},
   "outputs": [],
   "source": [
    "# #### (복잡) 패키지 먼저 설치 ######\n",
    "# #!pip install webdriver_manager\n",
    "# # Chrome 웹 드라이버 다운로드 및 설치 후 실행\n",
    "# from selenium import webdriver\n",
    "# from selenium.webdriver.chrome.service import Service\n",
    "# from webdriver_manager.chrome import ChromeDriverManager\n",
    "# from selenium.webdriver.common.by import By\n",
    "# from selenium.webdriver.common.keys import Keys\n",
    "# import time\n",
    "# from bs4 import BeautifulSoup\n",
    "\n",
    "# driver = webdriver.Chrome(service=Service(ChromeDriverManager().install()))"
   ]
  },
  {
   "cell_type": "code",
   "execution_count": null,
   "id": "c0e4da3d",
   "metadata": {},
   "outputs": [],
   "source": [
    "# 설치한 selenium에서 webdriver를 import\n",
    "from selenium import webdriver\n",
    "from selenium.webdriver.common.by import By\n",
    "from selenium.webdriver.common.keys import Keys\n",
    "import time\n",
    "from bs4 import BeautifulSoup"
   ]
  },
  {
   "cell_type": "code",
   "execution_count": null,
   "id": "84583380",
   "metadata": {},
   "outputs": [],
   "source": [
    "# selenum의 webdriver에 앞서 설치한 chromedirver를 연동한다.\n",
    "driver = webdriver.Chrome(\"\")"
   ]
  },
  {
   "cell_type": "markdown",
   "id": "02eec4dc",
   "metadata": {},
   "source": [
    "`webdriver.Chrome(service=Service(ChromeDriverManager().install()))` 코드를 실행하면 크롬 브라우저의 버전을 탐색한 다음, 버전에 맞는 웹드라이버를 다운로드하여 해당 경로를 셀레니움에 전달해준다. 또한 `selenium_open`와 같이 크롬 창이 열리며, 좌측 상단에 'Chrome이 자동화된 테스트 소프트웨어에 의해 제어되고 있습니다.'라는 문구가 뜬다. 이제 파이썬 코드를 이용해 해당 페이지를 조작할 수 있다. "
   ]
  },
  {
   "cell_type": "code",
   "execution_count": null,
   "id": "8f9d64a4",
   "metadata": {},
   "outputs": [],
   "source": [
    "url = 'https://www.naver.com/'\n",
    "driver.get(url)\n",
    "driver.page_source[1:1000]"
   ]
  },
  {
   "cell_type": "markdown",
   "id": "9f94a5a9",
   "metadata": {},
   "source": [
    "`driver.get()` 내에 URL 주소를 입력하면 해당 주소로 이동한다. 또한 `driver.page_source`를 통해 열려있는 창의 HTML 코드를 확인할 수도 있다. 이제 네이버 메인에서 [뉴스]버튼을 누르는 동작을 실행해보자. 개발자도구 화면을 통해 확인해보면 [뉴스] 탭은 아래 HTML에 위치하고 있다."
   ]
  },
  {
   "cell_type": "code",
   "execution_count": null,
   "id": "07a62196",
   "metadata": {},
   "outputs": [],
   "source": [
    "driver.find_element(By.LINK_TEXT , value = '뉴스').click()"
   ]
  },
  {
   "cell_type": "markdown",
   "id": "fa533aec",
   "metadata": {},
   "source": [
    "- 브라우저 상에서 보이는 버튼, 검색창, 사진, 테이블, 동영상 등을 엘레먼트(element, 요소)라고 한다. \n",
    "- `find_element()`는 다양한 방법으로 엘레먼트에 접근하게 해주며, \n",
    "- `By.*` 를 통해 어떠한 방법으로 엘레먼트에 접근할지 선언한다. \n",
    "- LINK_TEXT의 경우 링크가 달려 있는 텍스트로 접근하며, \n",
    "- `value = '뉴스'`, 즉 뉴스라는 단어가 있는 엘레먼트로 접근한다. \n",
    "- `click()` 함수는 마우스 클릭을 실행하며 결과 적으로 뉴스 탭을 클릭한 후 페이지가 이동\n",
    "- `find_element()` 내 접근방법 및 셀레니움의 각종 동작 제어 방법에 대해서는 나중에 다시 정리하도록 한다.\n",
    "\n",
    "이제 해당 탭을 닫아보자."
   ]
  },
  {
   "cell_type": "code",
   "execution_count": null,
   "id": "4ac6f4a0",
   "metadata": {},
   "outputs": [],
   "source": [
    "driver.switch_to.window(driver.window_handles[1])\n",
    "driver.close()"
   ]
  },
  {
   "cell_type": "markdown",
   "id": "6d7c6722",
   "metadata": {},
   "source": [
    "- `switch_to.window()` 메서드는 인자로 전달된 창의 핸들로 드라이버의 컨트롤을 전환한다. \n",
    "- `driver.window_handles[1]`를 통해 현재 열린 두번째 창으로 포커스를 이동한다. \n",
    "- 이 후 `close()`를 통해 해당 페이지를 닫는다.\n",
    "\n",
    "이제 특정 검색어를 검색하는 방법에 대해 알아보자. 먼저 검색창의 위치가 어디에 있는지 확인해보면 query라는 id와 search_input라는 class에 위치하고 있다."
   ]
  },
  {
   "cell_type": "code",
   "execution_count": null,
   "id": "338fff0a",
   "metadata": {},
   "outputs": [],
   "source": [
    "driver.switch_to.window(driver.window_handles[0])\n",
    "driver.find_element(By.CLASS_NAME, value = 'search_input').send_keys('셀레니움')"
   ]
  },
  {
   "cell_type": "markdown",
   "id": "ab606082",
   "metadata": {},
   "source": [
    "- 먼저 `driver.switch_to.window(driver.window_handles[0])`를 통해 현재 탭으로 다시 포커스를 이동한다.\n",
    "- `find_element()` 내에 By.CLASS_NAME을 입력하면 클래스 명에 해당하는 엘레먼트에 접근하며, \n",
    "- 여기서는 검색창에 접근한다. \n",
    "- 그 후 `send_keys()` 내에 텍스트를 입력하면 해당 내용이 웹페이지에 입력된다. \n",
    "- 이제 웹페이지에서 검색 버튼 해당하는 돋보기 모양을 클릭하거나 엔터키를 누르면 검색이 실행된다. \n",
    "- 먼저 돋보기 모양의 위치를 확인해보면 btn_search 클래스에 위치하고 있다."
   ]
  },
  {
   "cell_type": "code",
   "execution_count": null,
   "id": "af580e2d",
   "metadata": {},
   "outputs": [],
   "source": [
    "driver.find_element(By.CLASS_NAME, value = 'btn_search').send_keys(Keys.ENTER)"
   ]
  },
  {
   "cell_type": "markdown",
   "id": "66ee71f5",
   "metadata": {},
   "source": [
    "- `find_element(By.CLASS_NAME, value = 'btn_search')`를 통해 검색 버튼에 접근한다. \n",
    "- 그 후 `send_keys(Keys.ENTER)`를 입력하면 엔터키를 누르는 동작이 실행된다. \n",
    "- 페이지를 확인해보면 검색이 실행된 후 결과를 확인할 수 있다. \n",
    "\n",
    "이번에는 다른 단어를 검색해보도록 하자. 웹에서 기존 검색어 내용을 지운 후, 검색어를 입력하고, 버튼을 클릭해야 한다. 이를 위해 검색어 박스와 검색 버튼의 위치를 찾아보면 다음과 같다.\n",
    "- 검색어 박스: nx_query id\n",
    "- 검색 버튼: bt_search 클래스"
   ]
  },
  {
   "cell_type": "code",
   "execution_count": null,
   "id": "99f3f620",
   "metadata": {},
   "outputs": [],
   "source": [
    "driver.find_element(By.ID, value = 'nx_query').clear()\n",
    "driver.find_element(By.ID, value = 'nx_query').send_keys('파이썬')\n",
    "driver.find_element(By.CLASS_NAME, value = 'bt_search').click()"
   ]
  },
  {
   "cell_type": "markdown",
   "id": "013bcce9",
   "metadata": {},
   "source": [
    "- 1. 검색어 박스(nx_query)에 접근한 후, `clear()`를 실행하면 모든 텍스트가 지워진다.\n",
    "- 2. `send_keys('이현열 퀀트')`를 실행하여 새로운 검색어를 입력한다.\n",
    "- 3. 검색 버튼(bt_search)에 접근한 후, `click()`을 실행하여 해당 버튼을 클릭한다.\n",
    "\n",
    "- 이번에는 블로그에서 [최신순] 버튼을 클릭하는 동작을 실행해보도록 한다. \n",
    "- 기존처럼 링크나 클래스명을 통해 엘레먼트에 접근할 수도 있지만, \n",
    "- 이번에는 XPATH를 이용해 접근해보도록 하자. XPATH란 XML 중 특정 값의 태그나 속성을 찾기 쉽게 만든 주소다. \n",
    "- 예를 들어 윈도우 탐색기에서는 특정 폴더의 위치가 '**C:\\Program Files**'과 같이 주소처럼 보이며 \n",
    "- 이는 윈도우의 PATH 문법이다. \n",
    "- XML 역시 이와 동일한 개념의 XPATH가 있다. 웹페이지에서 XPATH를 찾는 법은 다음과 같다.\n",
    "\n",
    "1. 개발자도구 화면에서 위치를 찾고 싶은 부분에서 마우스 우클릭을 한다.\n",
    "2. [Copy → Copy Xpath]를 선택한다.\n",
    "\n",
    "- 위 과정을 통해 XPATH가 복사된다. 메모장을 확인해보면 [최신순] 부분의 XPATH는 다음과 같다.\n",
    "\n",
    "```\n",
    "//*[@id=\"snb\"]/div[2]/ul/li[1]/div/div/a[2]\n",
    "```\n",
    "\n",
    "- 이를 이용해 해당 부분을 클릭하는 동작을 실행해보자. 실행 순서는 [블로그 클릭]"
   ]
  },
  {
   "cell_type": "code",
   "execution_count": null,
   "id": "c20ef90b",
   "metadata": {},
   "outputs": [],
   "source": [
    "driver.find_element(By.XPATH, value = '//*[@id=\"lnb\"]/div[1]/div/div[1]/div/div[1]/div[2]/a').click()"
   ]
  },
  {
   "cell_type": "code",
   "execution_count": null,
   "id": "ad9424ac",
   "metadata": {},
   "outputs": [],
   "source": [
    "#driver.find_element(By.XPATH, value = '//*[@id=\"lnb\"]/div[1]/div/div[1]/div/div[1]/div[1]/a').click()\n",
    "#driver.find_element(By.XPATH, value = '//*[@id=\"snb\"]/div[1]/div/div[2]/a').click()\n",
    "#driver.find_element(By.XPATH, value = '//*[@id=\"snb\"]/div[2]/ul/li[1]/div/div/a[2]').click()"
   ]
  },
  {
   "cell_type": "code",
   "execution_count": null,
   "id": "b05e394a",
   "metadata": {},
   "outputs": [],
   "source": [
    "driver.find_element(By.XPATH, value = '//*[@id=\"snb\"]/div[1]/div/div[1]/a[2]').click()"
   ]
  },
  {
   "cell_type": "markdown",
   "id": "58874958",
   "metadata": {},
   "source": [
    "- 위의 순서대로 클릭하는 동작을 수행하여 검색어가 최신순으로 정렬되었다. \n",
    "- 이제 page down 기능을 수행해보도록 하자."
   ]
  },
  {
   "cell_type": "code",
   "execution_count": null,
   "id": "355d25c2",
   "metadata": {},
   "outputs": [],
   "source": [
    "driver.execute_script('window.scrollTo(0, document.body.scrollHeight);')\n",
    "# driver.find_element(By.TAG_NAME, value = 'body').send_keys(Keys.PAGE_DOWN)"
   ]
  },
  {
   "cell_type": "markdown",
   "id": "90f7db0c",
   "metadata": {},
   "source": [
    "- 먼저 `document.body.scrollHeight`는 웹페이지의 높이를 나타내는 것으로써, `window.scrollTo(0, document.body.scrollHeight);`는 웹페이지의 가장 하단까지 스크롤을 내리라는 자바스크립트 명령어다. \n",
    "- `driver.execute_script()`를 통해 해당 명령어를 실행하면 웹페이지가 아래로 스크롤이 이동된다. - `send_keys(Keys.PAGE_DOWN)` 는 키보드의 페이지다운(PgDn) 버튼을 누르는 동작이며 이 역시 페이지가 아래로 이동시킨다.\n",
    "\n",
    "- 그러나 결과를 살펴보면 스크롤이 끝까지 내려간 후 얼마간의 로딩이 있은 후에 새로운 데이터가 생성된다. \n",
    "- 이처럼 유튜브나 인스타그램, 페이스북 등 많은 검색결과를 보여줘야 하는 경우 웹페이지 상에서 한 번에 모든 데이터를 보여주기 보다는 스크롤을 가장 아래로 위치하면 로딩을 거쳐 추가적인 결과를 보여준다. \n",
    "- 따라서 스크롤을 한 번만 내리는 것이 아닌 모든 결과가 나올 때까지 내리는 동작을 실행해야 한다."
   ]
  },
  {
   "cell_type": "code",
   "execution_count": null,
   "id": "3ab8052d",
   "metadata": {},
   "outputs": [],
   "source": [
    "prev_height = driver.execute_script('return document.body.scrollHeight')\n",
    "\n",
    "while True:\n",
    "    driver.execute_script('window.scrollTo(0, document.body.scrollHeight);')\n",
    "    time.sleep(2)\n",
    "    \n",
    "    curr_height = driver.execute_script('return document.body.scrollHeight')\n",
    "    if curr_height == prev_height:\n",
    "        break\n",
    "    prev_height = curr_height"
   ]
  },
  {
   "cell_type": "markdown",
   "id": "ba602c70",
   "metadata": {},
   "source": [
    "1. `return document.body.scrollHeight`은 현재의 창 높이는 반환하는 자바스크립트 명령어이며, 이를 prev_height에 저장한다.\n",
    "2. while문을 통해 반복문을 실행한다.\n",
    "3. 셀레니움을 통해 페이지의 최하단으로 스크롤을 내린다.\n",
    "4. 페이지가 로딩되는 시간을 기다리기 위해 2초간 슬립을 준다.\n",
    "5. curr_height에 현재 창 높이를 저장한다.\n",
    "6. curr_height와 prev_height가 동일하다는 의미는 페이지가 끝까지 내려왔다는 의미이다. 따라서 이 경우 `break`를 통해 while문을 멈추며, 그렇지 않을 경우 다시 스크롤을 내리는 동작을 반복한다.\n",
    "7. prev_height에 새로운 창 높이를 입력한다.\n",
    "\n",
    "이제 모든 검색 결과가 나타났으면 이전 장에서 살펴보았던 정적 크롤링을 통해 데이터 수집이 가능하다. 제목 부분을 확인해보면 **title_link** 클래스에 위치하고 있으며, 이를 통해 모든 제목을 크롤링해보자."
   ]
  },
  {
   "cell_type": "code",
   "execution_count": null,
   "id": "4aee77ea",
   "metadata": {},
   "outputs": [],
   "source": [
    "html = BeautifulSoup(driver.page_source, 'lxml')\n",
    "txt = html.find_all(class_ = 'title_link')\n",
    "txt_list = [i.get_text() for i in txt]\n",
    "\n",
    "txt_list[0:10]"
   ]
  },
  {
   "cell_type": "markdown",
   "id": "b1c98a55",
   "metadata": {},
   "source": [
    "1. `driver.page_source`를 통해 현재 웹페이지의 HTML 정보를 가져올 수 있으며, 이를 BeautifulSoup 객체로 만들어준다.\n",
    "2. `find_all()` 함수를 통해 제목 부분에 위치하는 데이터를 모두 불러온다.\n",
    "3. for문을 통해 텍스트만 추출한다.\n",
    "\n",
    "- 이처럼 동적 페이지의 경우도 셀레니움을 통해 웹페이지를 제어한 후 `BeautifulSoup` 패키지를 사용해 원하는 부분을 추출하면 얼마든지 크롤링이 가능하다."
   ]
  },
  {
   "cell_type": "code",
   "execution_count": null,
   "id": "a177c760",
   "metadata": {},
   "outputs": [],
   "source": [
    "# `driver.quit()`을 실행하면 열려있던 페이지가 종료된다.\n",
    "driver.quit()"
   ]
  },
  {
   "cell_type": "markdown",
   "id": "1a94cfcc",
   "metadata": {},
   "source": [
    "### 셀레니움 명령어 정리\n",
    "\n",
    "마지막으로 셀레니움의 각종 명령어는 다음과 같다.\n",
    "\n",
    "#### 브라우저 관련\n",
    "\n",
    "- `webdriver.Chrome()`: 브라우저 열기\n",
    "- `driver.close()`: 현재 탭 닫기\n",
    "- `driver.quit()`: 브라우저 닫기\n",
    "- `driver.back()`: 뒤로 가기\n",
    "- `driver.forward()`: 앞으로 가기\n",
    "\n",
    "#### 엘레먼트 접근\n",
    "\n",
    "`driver.find_element(by = 'id', value = 'value')` 중 by = 'id' 부분에 해당하는 방법에 따라 엘레먼트에 접근한다. 또한 `find_element()`는 해당하는 엘레먼트가 여러 개 있을 경우 첫 번째 요소 하나만을 반환하며, `find_elements()`는 여러 엘레먼트가 있을 경우 리스트로 반환한다.\n",
    "\n",
    "- `By.ID`: 태그의 ID 값으로 추출\n",
    "- `By.NAME`: 태그의 NAME 값으로 추출\n",
    "- `By.XPATH`: 태그의 XPATH 값으로 추출\n",
    "- `By.LINK_TEXT`: 링크에 존재하는 텍스트로 추출\n",
    "- `By.TAG_NAME`: 태그명으로 추출\n",
    "- `By.CLASS_NAME`: 태그의 클래스명으로 추출\n",
    "- `By.CSS_SELECTOR`: CSS 선택자로 추출\n",
    "\n",
    "#### 동작\n",
    "\n",
    "엘레먼트에 접근한 후 각종 동작을 수행할 수 있다.\n",
    "\n",
    "- `click()`: 엘레먼트를 클릭\n",
    "- `clear()`: 텍스트 삭제\n",
    "- `send_keys(text)`: 텍스트 입력\n",
    "- `send_keys(Keys.CONTROL + 'v')`: 컨트롤 + v 누르기\n",
    "\n",
    "#### 자바스크립트 코드 실행\n",
    "\n",
    "`execute_script()` 내에 자바스크립트 코드를 입력하여 여러가지 동작을 수행할 수 있다.\n",
    "\n",
    "```{note}\n",
    "파이썬 내 셀레니움은 아래 페이지에 상세하게 설명되어 있다.\n",
    "https://selenium-python.readthedocs.io/\n",
    "```"
   ]
  },
  {
   "cell_type": "code",
   "execution_count": null,
   "id": "86b876df",
   "metadata": {},
   "outputs": [],
   "source": []
  }
 ],
 "metadata": {
  "kernelspec": {
   "display_name": "Python 3 (ipykernel)",
   "language": "python",
   "name": "python3"
  },
  "language_info": {
   "codemirror_mode": {
    "name": "ipython",
    "version": 3
   },
   "file_extension": ".py",
   "mimetype": "text/x-python",
   "name": "python",
   "nbconvert_exporter": "python",
   "pygments_lexer": "ipython3",
   "version": "3.9.12"
  },
  "varInspector": {
   "cols": {
    "lenName": 16,
    "lenType": 16,
    "lenVar": 40
   },
   "kernels_config": {
    "python": {
     "delete_cmd_postfix": "",
     "delete_cmd_prefix": "del ",
     "library": "var_list.py",
     "varRefreshCmd": "print(var_dic_list())"
    },
    "r": {
     "delete_cmd_postfix": ") ",
     "delete_cmd_prefix": "rm(",
     "library": "var_list.r",
     "varRefreshCmd": "cat(var_dic_list()) "
    }
   },
   "types_to_exclude": [
    "module",
    "function",
    "builtin_function_or_method",
    "instance",
    "_Feature"
   ],
   "window_display": false
  }
 },
 "nbformat": 4,
 "nbformat_minor": 5
}
