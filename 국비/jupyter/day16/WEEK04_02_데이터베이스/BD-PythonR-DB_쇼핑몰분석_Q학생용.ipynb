{
 "cells": [
  {
   "cell_type": "markdown",
   "metadata": {},
   "source": [
    "# 입문자를 위한, 파이썬/R 데이터 분석    "
   ]
  },
  {
   "cell_type": "markdown",
   "metadata": {},
   "source": [
    "]"
   ]
  },
  {
   "cell_type": "markdown",
   "metadata": {
    "colab_type": "text",
    "id": "E0q6CL_hxs2g"
   },
   "source": [
    "## (DB분석) SQLite 활용 여성패션 쇼핑몰 데이터분석\n",
    "\n",
    "1) 내부 데이터를 다른 데이터 분석가가 이용할 수 있도록 정리하고, \n",
    "\n",
    "2) 정리한 데이터를 바탕으로 요청사항을 분석 정리합니다"
   ]
  },
  {
   "cell_type": "code",
   "execution_count": null,
   "metadata": {},
   "outputs": [],
   "source": []
  },
  {
   "cell_type": "markdown",
   "metadata": {},
   "source": [
    "**< Set options >**"
   ]
  },
  {
   "cell_type": "code",
   "execution_count": null,
   "metadata": {},
   "outputs": [],
   "source": [
    "import pandas as pd"
   ]
  },
  {
   "cell_type": "code",
   "execution_count": null,
   "metadata": {},
   "outputs": [],
   "source": [
    "# 화면에 출력하는 데이터 프레임의 최대 row 수를 500으로 설정\n",
    "pd.set_option('display.max_rows', 500)\n",
    "\n",
    "# 화면에 출력하는 데이터 프레임의 최대 column 수를 500으로 설정\n",
    "pd.set_option('display.max_columns', 500)"
   ]
  },
  {
   "cell_type": "code",
   "execution_count": null,
   "metadata": {},
   "outputs": [],
   "source": []
  },
  {
   "cell_type": "markdown",
   "metadata": {},
   "source": [
    "**1. data 폴더의 C_team_DB.db에 연결한 뒤 데이터베이스 스키마를 출력해주세요. 그 다음,  order 테이블을 불러와주세요.**"
   ]
  },
  {
   "cell_type": "markdown",
   "metadata": {},
   "source": [
    "C 팀 데이터 테이블들을 모두 C_team_DB.db 파일에 저장해두었습니다. 저번 주 수업자료를 참고해 database를 조회하고 그 중, order 테이블을 불러와주세요. 테이블이 다음과 같은 모양입니다."
   ]
  },
  {
   "cell_type": "markdown",
   "metadata": {},
   "source": [
    "<table border=\"1\" class=\"dataframe\">\n",
    "  <thead>\n",
    "    <tr style=\"text-align: right;\">\n",
    "      <th></th>\n",
    "      <th>timestamp</th>\n",
    "      <th>user_id</th>\n",
    "      <th>goods_id</th>\n",
    "      <th>shop_id</th>\n",
    "      <th>price</th>\n",
    "    </tr>\n",
    "  </thead>\n",
    "  <tbody>\n",
    "    <tr>\n",
    "      <th>0</th>\n",
    "      <td>2018-06-11 00:00:43.032</td>\n",
    "      <td>bvu0aLTqiFDoU-963xnr5nzQWTNLUMjx</td>\n",
    "      <td>1414</td>\n",
    "      <td>38</td>\n",
    "      <td>45000</td>\n",
    "    </tr>\n",
    "    <tr>\n",
    "      <th>1</th>\n",
    "      <td>2018-06-11 00:02:33.763</td>\n",
    "      <td>smDmRnykg61KajpxXKzQ0oNkrh2nuSBj</td>\n",
    "      <td>1351</td>\n",
    "      <td>12</td>\n",
    "      <td>9500</td>\n",
    "    </tr>\n",
    "    <tr>\n",
    "      <th>2</th>\n",
    "      <td>2018-06-11 00:04:06.364</td>\n",
    "      <td>EyGjKYtSqZgqJ1ddKCtH5XwGirTyOH2P</td>\n",
    "      <td>646</td>\n",
    "      <td>14</td>\n",
    "      <td>22000</td>\n",
    "    </tr>\n",
    "    <tr>\n",
    "      <th>3</th>\n",
    "      <td>2018-06-11 00:04:17.258</td>\n",
    "      <td>KQBGi33Zxh5Dgu0WEkOkjN0YqTT_wxC3</td>\n",
    "      <td>5901</td>\n",
    "      <td>46</td>\n",
    "      <td>29800</td>\n",
    "    </tr>\n",
    "    <tr>\n",
    "      <th>4</th>\n",
    "      <td>2018-06-11 00:05:26.010</td>\n",
    "      <td>lq1Je3voA3a0MouSFba3629lKCvweI24</td>\n",
    "      <td>5572</td>\n",
    "      <td>89</td>\n",
    "      <td>29000</td>\n",
    "    </tr>\n",
    "  </tbody>\n",
    "</table>"
   ]
  },
  {
   "cell_type": "code",
   "execution_count": null,
   "metadata": {},
   "outputs": [],
   "source": [
    "# python에서 DB를 다루는 library인 sqlite3와 데이터를 다루는 library인 padas를 import합니다.\n",
    "import sqlite3"
   ]
  },
  {
   "cell_type": "code",
   "execution_count": null,
   "metadata": {},
   "outputs": [],
   "source": [
    "#Write your code here!\n",
    "# DB 파일과 연결\n",
    "conn = sqlite3.connect('data/C_team_DB.db')\n",
    "#conn = sqlite3.connect('C_team_DB.db')\n",
    "conn"
   ]
  },
  {
   "cell_type": "code",
   "execution_count": null,
   "metadata": {},
   "outputs": [],
   "source": [
    "# Sqlite3 과 연결된 DB 테이블 구조 확인 : \n",
    "query = \"select * from 'sqlite_master'\"       # 해당 DB에서 전체 Master 되는 Table 들 조회시 사용\n",
    "pd.read_sql(query, conn)"
   ]
  },
  {
   "cell_type": "code",
   "execution_count": null,
   "metadata": {},
   "outputs": [],
   "source": [
    "# order table 만 불러오기 :\n",
    "query = \"select * from 'order'\"\n",
    "order = pd.read_sql(query, conn)\n",
    "order.head()"
   ]
  },
  {
   "cell_type": "code",
   "execution_count": null,
   "metadata": {},
   "outputs": [],
   "source": [
    "order.tail()"
   ]
  },
  {
   "cell_type": "code",
   "execution_count": null,
   "metadata": {},
   "outputs": [],
   "source": [
    "order.info()"
   ]
  },
  {
   "cell_type": "markdown",
   "metadata": {},
   "source": [
    "order 테이블의 각 행은 주문이 일어난 로그를 나타냅니다. 현재는 2018년 6월 11일 하루치 데이터가 들어있습니다.\n",
    "\n",
    "timestamp는 주문시각, user_id는 주문을 한 유저의 고유 아이디, goods_id는 상품의 id, shop_id는 쇼핑몰의 id, price는 상품의 가격을 나타냅니다."
   ]
  },
  {
   "cell_type": "code",
   "execution_count": null,
   "metadata": {},
   "outputs": [],
   "source": []
  },
  {
   "cell_type": "markdown",
   "metadata": {},
   "source": [
    "**2. order 테이블을 이용해 C팀의 당일 매출 상위 10개 쇼핑몰을 구해주세요.**"
   ]
  },
  {
   "cell_type": "markdown",
   "metadata": {},
   "source": [
    "order 테이블을 이용해 C팀을 통해 이루어진 6월 11일의 쇼핑몰별 매출 정보를 피벗 테이블을 이용하여 구해주세요. 결과는 다음과 같이 나와야 합니다."
   ]
  },
  {
   "cell_type": "markdown",
   "metadata": {},
   "source": [
    "<table border=\"1\" class=\"dataframe\">\n",
    "  <thead>\n",
    "    <tr style=\"text-align: right;\">\n",
    "      <th></th>\n",
    "      <th>price</th>\n",
    "    </tr>\n",
    "    <tr>\n",
    "      <th>shop_id</th>\n",
    "      <th></th>\n",
    "    </tr>\n",
    "  </thead>\n",
    "  <tbody>\n",
    "    <tr>\n",
    "      <th>22</th>\n",
    "      <td>1365200</td>\n",
    "    </tr>\n",
    "    <tr>\n",
    "      <th>14</th>\n",
    "      <td>872000</td>\n",
    "    </tr>\n",
    "    <tr>\n",
    "      <th>63</th>\n",
    "      <td>710700</td>\n",
    "    </tr>\n",
    "    <tr>\n",
    "      <th>32</th>\n",
    "      <td>707900</td>\n",
    "    </tr>\n",
    "    <tr>\n",
    "      <th>126</th>\n",
    "      <td>669400</td>\n",
    "    </tr>\n",
    "    <tr>\n",
    "      <th>6</th>\n",
    "      <td>655900</td>\n",
    "    </tr>\n",
    "    <tr>\n",
    "      <th>11</th>\n",
    "      <td>653000</td>\n",
    "    </tr>\n",
    "    <tr>\n",
    "      <th>60</th>\n",
    "      <td>558300</td>\n",
    "    </tr>\n",
    "    <tr>\n",
    "      <th>19</th>\n",
    "      <td>518400</td>\n",
    "    </tr>\n",
    "    <tr>\n",
    "      <th>12</th>\n",
    "      <td>446900</td>\n",
    "    </tr>\n",
    "  </tbody>\n",
    "</table>"
   ]
  },
  {
   "cell_type": "code",
   "execution_count": null,
   "metadata": {},
   "outputs": [],
   "source": [
    "#Write your code here!\n",
    "#order_top10"
   ]
  },
  {
   "cell_type": "code",
   "execution_count": null,
   "metadata": {},
   "outputs": [],
   "source": []
  },
  {
   "cell_type": "markdown",
   "metadata": {},
   "source": [
    "**3. 판매 건수를 포함하여 피벗테이블을 만들어주세요. 또한, 상위 10개 쇼핑몰의 매출을 막대그래프로 보여주세요.**"
   ]
  },
  {
   "cell_type": "markdown",
   "metadata": {},
   "source": [
    "같은 횟수의 거래라도 제품의 가격이 비싸면 매출이 크게 나오게 되어있습니다. 상대적으로 저렴한 물품을 파는 쇼핑몰들은 결제 건수에 비해 매출이 적을 수 있습니다.\n",
    "\n",
    "매출과 결제 건수를 함께 볼 수 있는 피벗테이블을 작성해주세요. 그리고, 그 결과를 막대그래프로 시각화하여 보여주세요. 결과는 다음과 같이 나오게됩니다."
   ]
  },
  {
   "cell_type": "markdown",
   "metadata": {},
   "source": [
    "<table border=\"1\" class=\"dataframe\">\n",
    "  <thead>\n",
    "    <tr style=\"text-align: right;\">\n",
    "      <th></th>\n",
    "      <th>sum</th>\n",
    "      <th>count</th>\n",
    "    </tr>\n",
    "    <tr>\n",
    "      <th>shop_id</th>\n",
    "      <th></th>\n",
    "      <th></th>\n",
    "    </tr>\n",
    "  </thead>\n",
    "  <tbody>\n",
    "    <tr>\n",
    "      <th>22</th>\n",
    "      <td>1365200</td>\n",
    "      <td>99</td>\n",
    "    </tr>\n",
    "    <tr>\n",
    "      <th>14</th>\n",
    "      <td>872000</td>\n",
    "      <td>30</td>\n",
    "    </tr>\n",
    "    <tr>\n",
    "      <th>63</th>\n",
    "      <td>710700</td>\n",
    "      <td>27</td>\n",
    "    </tr>\n",
    "    <tr>\n",
    "      <th>32</th>\n",
    "      <td>707900</td>\n",
    "      <td>37</td>\n",
    "    </tr>\n",
    "    <tr>\n",
    "      <th>126</th>\n",
    "      <td>669400</td>\n",
    "      <td>39</td>\n",
    "    </tr>\n",
    "    <tr>\n",
    "      <th>6</th>\n",
    "      <td>655900</td>\n",
    "      <td>24</td>\n",
    "    </tr>\n",
    "    <tr>\n",
    "      <th>11</th>\n",
    "      <td>653000</td>\n",
    "      <td>19</td>\n",
    "    </tr>\n",
    "    <tr>\n",
    "      <th>60</th>\n",
    "      <td>558300</td>\n",
    "      <td>23</td>\n",
    "    </tr>\n",
    "    <tr>\n",
    "      <th>19</th>\n",
    "      <td>518400</td>\n",
    "      <td>19</td>\n",
    "    </tr>\n",
    "    <tr>\n",
    "      <th>12</th>\n",
    "      <td>446900</td>\n",
    "      <td>42</td>\n",
    "    </tr>\n",
    "  </tbody>\n",
    "</table>"
   ]
  },
  {
   "cell_type": "markdown",
   "metadata": {},
   "source": [
    "![](https://i.imgur.com/T6VRYf6.png)"
   ]
  },
  {
   "cell_type": "code",
   "execution_count": null,
   "metadata": {},
   "outputs": [],
   "source": [
    "## 시각화 표현을 위한 Import :\n",
    "import matplotlib.pyplot as plt\n",
    "import seaborn as sns\n",
    "%matplotlib inline"
   ]
  },
  {
   "cell_type": "code",
   "execution_count": null,
   "metadata": {},
   "outputs": [],
   "source": [
    "#Write your code here!\n",
    "#order_top10"
   ]
  },
  {
   "cell_type": "code",
   "execution_count": null,
   "metadata": {},
   "outputs": [],
   "source": []
  },
  {
   "cell_type": "code",
   "execution_count": null,
   "metadata": {},
   "outputs": [],
   "source": [
    "# Case 1: order_top10.sort_values(by='sum',  ascending=False, inplace=True)\n",
    "# Case 2: \n"
   ]
  },
  {
   "cell_type": "code",
   "execution_count": null,
   "metadata": {},
   "outputs": [],
   "source": []
  },
  {
   "cell_type": "code",
   "execution_count": null,
   "metadata": {},
   "outputs": [],
   "source": []
  },
  {
   "cell_type": "code",
   "execution_count": null,
   "metadata": {},
   "outputs": [],
   "source": []
  },
  {
   "cell_type": "code",
   "execution_count": null,
   "metadata": {},
   "outputs": [],
   "source": []
  },
  {
   "cell_type": "code",
   "execution_count": null,
   "metadata": {},
   "outputs": [],
   "source": []
  },
  {
   "cell_type": "markdown",
   "metadata": {},
   "source": [
    "**4. 시간대별 C팀 매출을 구하려고 합니다. lineplot을 이용하여 6월 11일의 시간대별 매출을 시각화 해주세요.**"
   ]
  },
  {
   "cell_type": "markdown",
   "metadata": {},
   "source": [
    "C팀 이용자들의 구매 패턴을 알아보려고 합니다. timestamp를 to_datetime을 이용하여 datetime 자료형으로 만든 뒤, 이를 이용하여 시간대별 총 매출량을 구해주세요.\n",
    "\n",
    "x를 timestamp, y를 price로 놓는 경우 다음과 같은 그래프가 나오게 됩니다. "
   ]
  },
  {
   "cell_type": "markdown",
   "metadata": {},
   "source": [
    "![](https://i.imgur.com/5cqEAAj.png)"
   ]
  },
  {
   "cell_type": "code",
   "execution_count": null,
   "metadata": {},
   "outputs": [],
   "source": [
    "## 시각화 표현을 위한 Import :\n",
    "import matplotlib as mpl\n",
    "sns.set_style('whitegrid') #스타일은 원하는 것을 사용하세요.\n",
    "mpl.rc('font', family='Malgun Gothic') # Mac의 경우는 AppleGothic, 윈도우의 경우는 Malgun Gothic을 사용하면 됩니다 :) \n",
    "mpl.rc('axes', unicode_minus=False)\n",
    "from IPython.display import set_matplotlib_formats\n",
    "set_matplotlib_formats('retina')"
   ]
  },
  {
   "cell_type": "code",
   "execution_count": null,
   "metadata": {},
   "outputs": [],
   "source": [
    "# timestamp 데이터형 변환 : 이유> 시간이 오래걸림 (object 형 -> datetime64 형으로 변환)\n"
   ]
  },
  {
   "cell_type": "code",
   "execution_count": null,
   "metadata": {},
   "outputs": [],
   "source": []
  },
  {
   "cell_type": "code",
   "execution_count": null,
   "metadata": {},
   "outputs": [],
   "source": []
  },
  {
   "cell_type": "markdown",
   "metadata": {},
   "source": [
    "**5. 위의 시각화를 구간화(binning) 작업을 거쳐 보기 좋은 형태로 만들어주세요.**"
   ]
  },
  {
   "cell_type": "markdown",
   "metadata": {},
   "source": [
    "위의 시각화는 적절하지 못한 시각화입니다. 정확하게는 x시 00분 ~ x시 59분 까지의 매출을 시간대별로 모두 합하는 binning 과정을 거친 뒤 시각화를 진행해야 원하는 결과를 얻을 수 있습니다.\n",
    "\n",
    "order 테이블에 로그의 발생 시간을 나타내는 hour 칼럼을 추가한 뒤, pivot_table을 이용하여 시간대별 매출을 구해주세요. 그리고, 이를 이용해 아래와 같은 그래프를 만들어 주세요."
   ]
  },
  {
   "cell_type": "markdown",
   "metadata": {},
   "source": [
    "*lineplot을 사용하는 경우*\n",
    "![](https://i.imgur.com/sGVLJKi.png)\n",
    "\n",
    "*pointplot을 사용하는 경우*\n",
    "![](https://i.imgur.com/hYuKVqE.png)"
   ]
  },
  {
   "cell_type": "code",
   "execution_count": null,
   "metadata": {},
   "outputs": [],
   "source": [
    "#Write your code here!\n",
    "# timestamp 를 이용하여 hour 컬럼 추가 :\n"
   ]
  },
  {
   "cell_type": "code",
   "execution_count": null,
   "metadata": {},
   "outputs": [],
   "source": []
  },
  {
   "cell_type": "code",
   "execution_count": null,
   "metadata": {},
   "outputs": [],
   "source": []
  },
  {
   "cell_type": "code",
   "execution_count": null,
   "metadata": {},
   "outputs": [],
   "source": [
    "#Write your code here!\n",
    "#print(data['price'].dtype)\n"
   ]
  },
  {
   "cell_type": "code",
   "execution_count": null,
   "metadata": {},
   "outputs": [],
   "source": [
    "#Write your code here!\n",
    "#print(data['price'].dtype)\n"
   ]
  },
  {
   "cell_type": "code",
   "execution_count": null,
   "metadata": {},
   "outputs": [],
   "source": []
  },
  {
   "cell_type": "code",
   "execution_count": null,
   "metadata": {},
   "outputs": [],
   "source": []
  },
  {
   "cell_type": "code",
   "execution_count": null,
   "metadata": {},
   "outputs": [],
   "source": []
  },
  {
   "cell_type": "markdown",
   "metadata": {},
   "source": [
    "**6 . user 테이블을 불러와 order 테이블과 병합해주세요.**"
   ]
  },
  {
   "cell_type": "markdown",
   "metadata": {},
   "source": [
    "user 테이블에는 고객의 고유 아이디를 나타내는 user_id, 그리고 접속 기기정보를 나타내는 os, 그리고 나이정보 age가 있습니다. 이를 이용해 top 10 쇼핑몰 매출이 어떤 연령층에서 발생했는지 분석하고자 합니다. 데이터베이스에서 user 테이블을 불러온 뒤, order 테이블과 병합해주세요."
   ]
  },
  {
   "cell_type": "markdown",
   "metadata": {},
   "source": [
    "병합 결과는 다음과 같이 나오게 됩니다.\n",
    "\n",
    "<table border=\"1\" class=\"dataframe\">\n",
    "  <thead>\n",
    "    <tr style=\"text-align: right;\">\n",
    "      <th></th>\n",
    "      <th>timestamp</th>\n",
    "      <th>user_id</th>\n",
    "      <th>goods_id</th>\n",
    "      <th>shop_id</th>\n",
    "      <th>price</th>\n",
    "      <th>hour</th>\n",
    "      <th>os</th>\n",
    "      <th>age</th>\n",
    "    </tr>\n",
    "  </thead>\n",
    "  <tbody>\n",
    "    <tr>\n",
    "      <th>0</th>\n",
    "      <td>2018-06-11 00:00:43.032</td>\n",
    "      <td>bvu0aLTqiFDoU-963xnr5nzQWTNLUMjx</td>\n",
    "      <td>1414</td>\n",
    "      <td>38</td>\n",
    "      <td>45000</td>\n",
    "      <td>0</td>\n",
    "      <td>iOS</td>\n",
    "      <td>39</td>\n",
    "    </tr>\n",
    "    <tr>\n",
    "      <th>1</th>\n",
    "      <td>2018-06-11 00:02:33.763</td>\n",
    "      <td>smDmRnykg61KajpxXKzQ0oNkrh2nuSBj</td>\n",
    "      <td>1351</td>\n",
    "      <td>12</td>\n",
    "      <td>9500</td>\n",
    "      <td>0</td>\n",
    "      <td>And</td>\n",
    "      <td>17</td>\n",
    "    </tr>\n",
    "    <tr>\n",
    "      <th>2</th>\n",
    "      <td>2018-06-11 00:04:06.364</td>\n",
    "      <td>EyGjKYtSqZgqJ1ddKCtH5XwGirTyOH2P</td>\n",
    "      <td>646</td>\n",
    "      <td>14</td>\n",
    "      <td>22000</td>\n",
    "      <td>0</td>\n",
    "      <td>And</td>\n",
    "      <td>-1</td>\n",
    "    </tr>\n",
    "    <tr>\n",
    "      <th>3</th>\n",
    "      <td>2018-06-11 00:04:17.258</td>\n",
    "      <td>KQBGi33Zxh5Dgu0WEkOkjN0YqTT_wxC3</td>\n",
    "      <td>5901</td>\n",
    "      <td>46</td>\n",
    "      <td>29800</td>\n",
    "      <td>0</td>\n",
    "      <td>And</td>\n",
    "      <td>34</td>\n",
    "    </tr>\n",
    "    <tr>\n",
    "      <th>4</th>\n",
    "      <td>2018-06-11 00:05:26.010</td>\n",
    "      <td>lq1Je3voA3a0MouSFba3629lKCvweI24</td>\n",
    "      <td>5572</td>\n",
    "      <td>89</td>\n",
    "      <td>29000</td>\n",
    "      <td>0</td>\n",
    "      <td>And</td>\n",
    "      <td>17</td>\n",
    "    </tr>\n",
    "  </tbody>\n",
    "</table>"
   ]
  },
  {
   "cell_type": "code",
   "execution_count": null,
   "metadata": {},
   "outputs": [],
   "source": [
    "#Write your code here!\n",
    "#order"
   ]
  },
  {
   "cell_type": "code",
   "execution_count": null,
   "metadata": {},
   "outputs": [],
   "source": []
  },
  {
   "cell_type": "code",
   "execution_count": null,
   "metadata": {},
   "outputs": [],
   "source": [
    "#Write your code here!\n"
   ]
  },
  {
   "cell_type": "code",
   "execution_count": null,
   "metadata": {},
   "outputs": [],
   "source": []
  },
  {
   "cell_type": "code",
   "execution_count": null,
   "metadata": {},
   "outputs": [],
   "source": []
  },
  {
   "cell_type": "code",
   "execution_count": null,
   "metadata": {},
   "outputs": [],
   "source": []
  },
  {
   "cell_type": "code",
   "execution_count": null,
   "metadata": {},
   "outputs": [],
   "source": []
  },
  {
   "cell_type": "code",
   "execution_count": null,
   "metadata": {},
   "outputs": [],
   "source": []
  },
  {
   "cell_type": "code",
   "execution_count": null,
   "metadata": {},
   "outputs": [],
   "source": []
  },
  {
   "cell_type": "markdown",
   "metadata": {},
   "source": [
    "**7. 매출 Top 10 쇼핑몰 구매자들의 연령대를 쇼핑몰별로 시각화하여 보여주세요.**"
   ]
  },
  {
   "cell_type": "markdown",
   "metadata": {},
   "source": [
    "위의 병합된 테이블을 이용하여, 당일 매출 Top 10 쇼핑몰에서 구매를 한 고객들의 연령대 분포를 시각화로 표현하고자 합니다. 이를 이용해 쇼핑몰이 설정한 타겟 연령대와 실제 구매층이 일치하는지를 비교해보고자 합니다.\n",
    "\n",
    "나이 정보가 없는 경우는 -1이 입력되어 있기 때문에 이를 처리한 다음 시각화를 해야 합니다. 시각화 결과가 아래의 둘 중 하나가 나오게 해주세요."
   ]
  },
  {
   "attachments": {
    "image-3.png": {
     "image/png": "[encoded data removed]"
    }
   },
   "cell_type": "markdown",
   "metadata": {},
   "source": [
    "![image-3.png](attachment:image-3.png)"
   ]
  },
  {
   "cell_type": "code",
   "execution_count": null,
   "metadata": {},
   "outputs": [],
   "source": [
    "pd.np.nan"
   ]
  },
  {
   "cell_type": "code",
   "execution_count": null,
   "metadata": {},
   "outputs": [],
   "source": [
    "#Write your code here!\n"
   ]
  },
  {
   "cell_type": "code",
   "execution_count": null,
   "metadata": {},
   "outputs": [],
   "source": []
  },
  {
   "cell_type": "code",
   "execution_count": null,
   "metadata": {},
   "outputs": [],
   "source": []
  },
  {
   "cell_type": "code",
   "execution_count": null,
   "metadata": {},
   "outputs": [],
   "source": [
    "\n",
    "#len(usr_grp)"
   ]
  },
  {
   "cell_type": "code",
   "execution_count": null,
   "metadata": {},
   "outputs": [],
   "source": []
  },
  {
   "cell_type": "code",
   "execution_count": null,
   "metadata": {},
   "outputs": [],
   "source": []
  },
  {
   "cell_type": "code",
   "execution_count": null,
   "metadata": {},
   "outputs": [],
   "source": []
  },
  {
   "cell_type": "code",
   "execution_count": null,
   "metadata": {},
   "outputs": [],
   "source": []
  },
  {
   "cell_type": "markdown",
   "metadata": {},
   "source": [
    "**8. user 테이블에 연령대를 나타내는 칼럼을 만들어주세요. 그리고 쇼핑몰이 설정한 타겟 연령대와 실제로 구매를 한 고객의 연령과 일치하는지를 검증해주세요.**"
   ]
  },
  {
   "cell_type": "markdown",
   "metadata": {},
   "source": [
    "C팀의 쇼핑몰들은 아래의 필터에서 보여지는 것과 같이 타겟 연령대를 가지고 있습니다. 하지만, 실제 구매가 설정되어 있는 타겟 연령대에 맞게 이루어지는지 꾸준히 검증이 이루어져야 합니다. 유저에게 더 적합한 제품이나 쇼핑몰을 추천해주어 유저 경험 (UX)를 증진시키는 것은 추천 플랫폼에게 매우 중요한 요소이기 때문입니다."
   ]
  },
  {
   "cell_type": "markdown",
   "metadata": {},
   "source": [
    "<img src=\"https://i.imgur.com/HMd9xC2.jpg\" width=300>"
   ]
  },
  {
   "cell_type": "markdown",
   "metadata": {},
   "source": [
    "수행해야 할 작업은 총 3단계입니다.\n",
    "\n",
    "    1. 실제 나이를 바탕으로 user 테이블에 연령대 칼럼을 만들기\n",
    "    2. shop 테이블을 불러와 user, order 테이블과 병합하기\n",
    "    3. 쇼핑몰의 타겟 연령대와 해당 쇼핑몰에서의 결제를 한 고객의 연령대를 비교하기"
   ]
  },
  {
   "cell_type": "markdown",
   "metadata": {},
   "source": [
    "아래의 함수를 이용해 user 테이블에 연령대를 만들어주세요."
   ]
  },
  {
   "cell_type": "code",
   "execution_count": null,
   "metadata": {},
   "outputs": [],
   "source": [
    "# def make_generation(age):\n"
   ]
  },
  {
   "cell_type": "code",
   "execution_count": null,
   "metadata": {},
   "outputs": [],
   "source": []
  },
  {
   "cell_type": "code",
   "execution_count": null,
   "metadata": {},
   "outputs": [],
   "source": [
    "#Write your code here!\n"
   ]
  },
  {
   "cell_type": "code",
   "execution_count": null,
   "metadata": {},
   "outputs": [],
   "source": []
  },
  {
   "cell_type": "code",
   "execution_count": null,
   "metadata": {},
   "outputs": [],
   "source": []
  },
  {
   "cell_type": "markdown",
   "metadata": {},
   "source": [
    "shop 테이블을 DB에서 불러와 주세요. 그 다음, user, order 테이블과 병합해주세요."
   ]
  },
  {
   "cell_type": "markdown",
   "metadata": {},
   "source": [
    "병합 결과는 다음과 같게 됩니다.\n",
    "\n",
    "<table border=\"1\" class=\"dataframe\">\n",
    "  <thead>\n",
    "    <tr style=\"text-align: right;\">\n",
    "      <th></th>\n",
    "      <th>timestamp</th>\n",
    "      <th>user_id</th>\n",
    "      <th>goods_id</th>\n",
    "      <th>shop_id</th>\n",
    "      <th>price</th>\n",
    "      <th>hour</th>\n",
    "      <th>os</th>\n",
    "      <th>age_x</th>\n",
    "      <th>연령대</th>\n",
    "      <th>name</th>\n",
    "      <th>category</th>\n",
    "      <th>age_y</th>\n",
    "      <th>style</th>\n",
    "    </tr>\n",
    "  </thead>\n",
    "  <tbody>\n",
    "    <tr>\n",
    "      <th>0</th>\n",
    "      <td>2018-06-11 00:00:43.032</td>\n",
    "      <td>bvu0aLTqiFDoU-963xnr5nzQWTNLUMjx</td>\n",
    "      <td>1414</td>\n",
    "      <td>38</td>\n",
    "      <td>45000</td>\n",
    "      <td>0</td>\n",
    "      <td>iOS</td>\n",
    "      <td>39</td>\n",
    "      <td>30대 후반</td>\n",
    "      <td>Mabel</td>\n",
    "      <td>의류</td>\n",
    "      <td>20대 후반/30대 초반/30대 중반</td>\n",
    "      <td>모던시크/페미닌</td>\n",
    "    </tr>\n",
    "    <tr>\n",
    "      <th>1</th>\n",
    "      <td>2018-06-11 07:33:39.823</td>\n",
    "      <td>ni3NQK35j-YaSxli-C_Sz7ZmQqOwMljL</td>\n",
    "      <td>2278</td>\n",
    "      <td>38</td>\n",
    "      <td>37000</td>\n",
    "      <td>7</td>\n",
    "      <td>And</td>\n",
    "      <td>32</td>\n",
    "      <td>30대 초반</td>\n",
    "      <td>Mabel</td>\n",
    "      <td>의류</td>\n",
    "      <td>20대 후반/30대 초반/30대 중반</td>\n",
    "      <td>모던시크/페미닌</td>\n",
    "    </tr>\n",
    "    <tr>\n",
    "      <th>2</th>\n",
    "      <td>2018-06-11 12:56:27.867</td>\n",
    "      <td>MnvhmV0tA89bN9TLXgRTbLza689bTkT9</td>\n",
    "      <td>5513</td>\n",
    "      <td>38</td>\n",
    "      <td>31000</td>\n",
    "      <td>12</td>\n",
    "      <td>And</td>\n",
    "      <td>37</td>\n",
    "      <td>30대 후반</td>\n",
    "      <td>Mabel</td>\n",
    "      <td>의류</td>\n",
    "      <td>20대 후반/30대 초반/30대 중반</td>\n",
    "      <td>모던시크/페미닌</td>\n",
    "    </tr>\n",
    "    <tr>\n",
    "      <th>3</th>\n",
    "      <td>2018-06-11 22:57:11.582</td>\n",
    "      <td>3Vo9NP0qU_176pgbqk6Cu-CY7kpJ2-WB</td>\n",
    "      <td>7026</td>\n",
    "      <td>38</td>\n",
    "      <td>17100</td>\n",
    "      <td>22</td>\n",
    "      <td>iOS</td>\n",
    "      <td>34</td>\n",
    "      <td>30대 중반</td>\n",
    "      <td>Mabel</td>\n",
    "      <td>의류</td>\n",
    "      <td>20대 후반/30대 초반/30대 중반</td>\n",
    "      <td>모던시크/페미닌</td>\n",
    "    </tr>\n",
    "    <tr>\n",
    "      <th>4</th>\n",
    "      <td>2018-06-11 00:02:33.763</td>\n",
    "      <td>smDmRnykg61KajpxXKzQ0oNkrh2nuSBj</td>\n",
    "      <td>1351</td>\n",
    "      <td>12</td>\n",
    "      <td>9500</td>\n",
    "      <td>0</td>\n",
    "      <td>And</td>\n",
    "      <td>17</td>\n",
    "      <td>10대 후반</td>\n",
    "      <td>Rachel</td>\n",
    "      <td>의류</td>\n",
    "      <td>10대/20대 초반</td>\n",
    "      <td>러블리/심플베이직</td>\n",
    "    </tr>\n",
    "  </tbody>\n",
    "</table>"
   ]
  },
  {
   "cell_type": "code",
   "execution_count": null,
   "metadata": {},
   "outputs": [],
   "source": [
    "#Write your code here!\n"
   ]
  },
  {
   "cell_type": "markdown",
   "metadata": {},
   "source": [
    "병합한 테이블을 이용하여 '거래연령 일치여부' 칼럼을 아래의 칼럼을 이용하여 만들어 주세요. 각 열이 아닌 각 행에 함수를 적용할 때는 `apply(function, axis=1)`을 이용해야 합니다."
   ]
  },
  {
   "cell_type": "code",
   "execution_count": null,
   "metadata": {},
   "outputs": [],
   "source": []
  },
  {
   "cell_type": "code",
   "execution_count": null,
   "metadata": {},
   "outputs": [],
   "source": []
  },
  {
   "cell_type": "code",
   "execution_count": null,
   "metadata": {},
   "outputs": [],
   "source": []
  },
  {
   "cell_type": "markdown",
   "metadata": {},
   "source": [
    "피벗 테이블을 이용한 결과가 다음과 같이 나오게 됩니다."
   ]
  },
  {
   "cell_type": "markdown",
   "metadata": {},
   "source": [
    "<table border=\"1\" class=\"dataframe\">\n",
    "  <thead>\n",
    "    <tr>\n",
    "      <th></th>\n",
    "      <th>mean</th>\n",
    "      <th>count</th>\n",
    "    </tr>\n",
    "    <tr>\n",
    "      <th></th>\n",
    "      <th>거래연령 일치여부</th>\n",
    "      <th>거래연령 일치여부</th>\n",
    "    </tr>\n",
    "    <tr>\n",
    "      <th>shop_id</th>\n",
    "      <th></th>\n",
    "      <th></th>\n",
    "    </tr>\n",
    "  </thead>\n",
    "  <tbody>\n",
    "    <tr>\n",
    "      <th>1</th>\n",
    "      <td>0.666667</td>\n",
    "      <td>3</td>\n",
    "    </tr>\n",
    "    <tr>\n",
    "      <th>2</th>\n",
    "      <td>0.937500</td>\n",
    "      <td>16</td>\n",
    "    </tr>\n",
    "    <tr>\n",
    "      <th>3</th>\n",
    "      <td>0.400000</td>\n",
    "      <td>5</td>\n",
    "    </tr>\n",
    "    <tr>\n",
    "      <th>4</th>\n",
    "      <td>1.000000</td>\n",
    "      <td>1</td>\n",
    "    </tr>\n",
    "    <tr>\n",
    "      <th>5</th>\n",
    "      <td>0.000000</td>\n",
    "      <td>1</td>\n",
    "    </tr>\n",
    "  </tbody>\n",
    "</table>"
   ]
  },
  {
   "cell_type": "code",
   "execution_count": null,
   "metadata": {},
   "outputs": [],
   "source": []
  },
  {
   "cell_type": "code",
   "execution_count": null,
   "metadata": {},
   "outputs": [],
   "source": [
    "#Write your code here!\n"
   ]
  },
  {
   "cell_type": "code",
   "execution_count": null,
   "metadata": {},
   "outputs": [],
   "source": []
  },
  {
   "cell_type": "markdown",
   "metadata": {},
   "source": [
    "위의 정보를 Top 10 쇼핑몰에 대해 뽑아보면 다음과 같은 결과가 나옵니다. "
   ]
  },
  {
   "cell_type": "code",
   "execution_count": null,
   "metadata": {},
   "outputs": [],
   "source": []
  },
  {
   "cell_type": "markdown",
   "metadata": {},
   "source": [
    "의류이외의 제품을 파는 쇼핑몰은 타겟 연령층이 없기 떄문에 일치여부가 0이 나옵니다. 일치여부가 낮은 쇼핑몰의 경우는 더 긴 기간의 로그를 모니터링 한 다음, 태그 수정을 제안하여 타겟 적합도를 높일 수 있습니다."
   ]
  },
  {
   "cell_type": "code",
   "execution_count": null,
   "metadata": {},
   "outputs": [],
   "source": []
  },
  {
   "cell_type": "markdown",
   "metadata": {},
   "source": [
    "**9. 쇼핑몰의 스타일 태그를 정리해주세요.**"
   ]
  },
  {
   "cell_type": "markdown",
   "metadata": {},
   "source": [
    "쇼핑몰별로 제품군의 스타일을 나타낼 수 있는 태그를 가지고 있습니다. 이 태그는 다음의 리스트에 정리되어 있습니다."
   ]
  },
  {
   "cell_type": "code",
   "execution_count": null,
   "metadata": {},
   "outputs": [],
   "source": []
  },
  {
   "cell_type": "code",
   "execution_count": null,
   "metadata": {},
   "outputs": [],
   "source": []
  },
  {
   "cell_type": "markdown",
   "metadata": {},
   "source": [
    "위의 스타일을 정리하여 shop 테이블을 전처리해 아래와 같은 테이블을 만들어주세요."
   ]
  },
  {
   "cell_type": "markdown",
   "metadata": {},
   "source": [
    "<table border=\"1\" class=\"dataframe\">\n",
    "  <thead>\n",
    "    <tr style=\"text-align: right;\">\n",
    "      <th></th>\n",
    "      <th>name</th>\n",
    "      <th>category</th>\n",
    "      <th>age</th>\n",
    "      <th>style</th>\n",
    "      <th>페미닌</th>\n",
    "      <th>모던시크</th>\n",
    "      <th>심플베이직</th>\n",
    "      <th>러블리</th>\n",
    "      <th>유니크</th>\n",
    "      <th>미시스타일</th>\n",
    "      <th>캠퍼스룩</th>\n",
    "      <th>빈티지</th>\n",
    "      <th>섹시글램</th>\n",
    "      <th>스쿨룩</th>\n",
    "      <th>로맨틱</th>\n",
    "      <th>오피스룩</th>\n",
    "      <th>럭셔리</th>\n",
    "      <th>헐리웃스타일</th>\n",
    "      <th>심플시크</th>\n",
    "      <th>키치</th>\n",
    "      <th>펑키</th>\n",
    "      <th>큐티</th>\n",
    "      <th>볼드&amp;에스닉</th>\n",
    "    </tr>\n",
    "    <tr>\n",
    "      <th>shop_id</th>\n",
    "      <th></th>\n",
    "      <th></th>\n",
    "      <th></th>\n",
    "      <th></th>\n",
    "      <th></th>\n",
    "      <th></th>\n",
    "      <th></th>\n",
    "      <th></th>\n",
    "      <th></th>\n",
    "      <th></th>\n",
    "      <th></th>\n",
    "      <th></th>\n",
    "      <th></th>\n",
    "      <th></th>\n",
    "      <th></th>\n",
    "      <th></th>\n",
    "      <th></th>\n",
    "      <th></th>\n",
    "      <th></th>\n",
    "      <th></th>\n",
    "      <th></th>\n",
    "      <th></th>\n",
    "      <th></th>\n",
    "    </tr>\n",
    "  </thead>\n",
    "  <tbody>\n",
    "    <tr>\n",
    "      <th>1</th>\n",
    "      <td>Edna</td>\n",
    "      <td>의류</td>\n",
    "      <td>20대 중반/20대 후반/30대 초반</td>\n",
    "      <td>모던시크/러블리</td>\n",
    "      <td>False</td>\n",
    "      <td>True</td>\n",
    "      <td>False</td>\n",
    "      <td>True</td>\n",
    "      <td>False</td>\n",
    "      <td>False</td>\n",
    "      <td>False</td>\n",
    "      <td>False</td>\n",
    "      <td>False</td>\n",
    "      <td>False</td>\n",
    "      <td>False</td>\n",
    "      <td>False</td>\n",
    "      <td>False</td>\n",
    "      <td>False</td>\n",
    "      <td>False</td>\n",
    "      <td>False</td>\n",
    "      <td>False</td>\n",
    "      <td>False</td>\n",
    "      <td>False</td>\n",
    "    </tr>\n",
    "    <tr>\n",
    "      <th>2</th>\n",
    "      <td>Pam</td>\n",
    "      <td>의류</td>\n",
    "      <td>20대 중반/20대 후반/30대 초반</td>\n",
    "      <td>러블리/심플베이직</td>\n",
    "      <td>False</td>\n",
    "      <td>False</td>\n",
    "      <td>True</td>\n",
    "      <td>True</td>\n",
    "      <td>False</td>\n",
    "      <td>False</td>\n",
    "      <td>False</td>\n",
    "      <td>False</td>\n",
    "      <td>False</td>\n",
    "      <td>False</td>\n",
    "      <td>False</td>\n",
    "      <td>False</td>\n",
    "      <td>False</td>\n",
    "      <td>False</td>\n",
    "      <td>False</td>\n",
    "      <td>False</td>\n",
    "      <td>False</td>\n",
    "      <td>False</td>\n",
    "      <td>False</td>\n",
    "    </tr>\n",
    "    <tr>\n",
    "      <th>3</th>\n",
    "      <td>Carolyn</td>\n",
    "      <td>의류</td>\n",
    "      <td>20대 중반/20대 후반/30대 초반</td>\n",
    "      <td>모던시크/심플베이직</td>\n",
    "      <td>False</td>\n",
    "      <td>True</td>\n",
    "      <td>True</td>\n",
    "      <td>False</td>\n",
    "      <td>False</td>\n",
    "      <td>False</td>\n",
    "      <td>False</td>\n",
    "      <td>False</td>\n",
    "      <td>False</td>\n",
    "      <td>False</td>\n",
    "      <td>False</td>\n",
    "      <td>False</td>\n",
    "      <td>False</td>\n",
    "      <td>False</td>\n",
    "      <td>False</td>\n",
    "      <td>False</td>\n",
    "      <td>False</td>\n",
    "      <td>False</td>\n",
    "      <td>False</td>\n",
    "    </tr>\n",
    "  </tbody>\n",
    "</table>"
   ]
  },
  {
   "cell_type": "markdown",
   "metadata": {},
   "source": [
    "예를 들어 shop_id가 1인 쇼핑몰의 스타일이 `모던시크/러블리`인 경우 모던시크 칼럼과 러블리 칼럼은 True 값을 가지고 나머지 칼럼은 False의 값을 가집니다."
   ]
  },
  {
   "cell_type": "code",
   "execution_count": null,
   "metadata": {},
   "outputs": [],
   "source": []
  },
  {
   "cell_type": "code",
   "execution_count": null,
   "metadata": {},
   "outputs": [],
   "source": [
    "#Write your code here!\n",
    "## 첫번째 스타일\n",
    "\n",
    "## 두번째 스타일\n"
   ]
  },
  {
   "cell_type": "code",
   "execution_count": null,
   "metadata": {},
   "outputs": [],
   "source": []
  },
  {
   "cell_type": "code",
   "execution_count": null,
   "metadata": {},
   "outputs": [],
   "source": []
  },
  {
   "cell_type": "code",
   "execution_count": null,
   "metadata": {},
   "outputs": [],
   "source": []
  },
  {
   "cell_type": "code",
   "execution_count": null,
   "metadata": {},
   "outputs": [],
   "source": []
  },
  {
   "cell_type": "code",
   "execution_count": null,
   "metadata": {},
   "outputs": [],
   "source": []
  },
  {
   "cell_type": "code",
   "execution_count": null,
   "metadata": {},
   "outputs": [],
   "source": []
  },
  {
   "cell_type": "code",
   "execution_count": null,
   "metadata": {},
   "outputs": [],
   "source": []
  },
  {
   "cell_type": "code",
   "execution_count": null,
   "metadata": {},
   "outputs": [],
   "source": []
  },
  {
   "cell_type": "code",
   "execution_count": null,
   "metadata": {
    "scrolled": true
   },
   "outputs": [],
   "source": []
  },
  {
   "cell_type": "markdown",
   "metadata": {},
   "source": [
    "- 또다른 방법"
   ]
  },
  {
   "cell_type": "code",
   "execution_count": null,
   "metadata": {},
   "outputs": [],
   "source": [
    "# 스타일 분류 비교반복문 작성 :\n"
   ]
  },
  {
   "cell_type": "code",
   "execution_count": null,
   "metadata": {},
   "outputs": [],
   "source": []
  },
  {
   "cell_type": "code",
   "execution_count": null,
   "metadata": {},
   "outputs": [],
   "source": []
  },
  {
   "cell_type": "code",
   "execution_count": null,
   "metadata": {},
   "outputs": [],
   "source": []
  },
  {
   "cell_type": "code",
   "execution_count": null,
   "metadata": {},
   "outputs": [],
   "source": []
  },
  {
   "cell_type": "markdown",
   "metadata": {},
   "source": [
    "**10. 스타일별 실제 구매 기록을 바탕으로 가장 구매가 많이 일어난 스타일 키워드를 찾아주세요. 또한, 매출이 가장 많은 3가지 스타일의 구매 연령대 분포를 그려주세요.**\n"
   ]
  },
  {
   "cell_type": "markdown",
   "metadata": {},
   "source": [
    "위에서 전처리한 스타일을 이용하기 위해 order, shop, user 테이블을 다시 테이블을 병합하도록 하겠습니다."
   ]
  },
  {
   "cell_type": "code",
   "execution_count": null,
   "metadata": {},
   "outputs": [],
   "source": [
    "#Write your code here!\n"
   ]
  },
  {
   "cell_type": "markdown",
   "metadata": {},
   "source": [
    "위의 merged table을 이용하여 다음과 같은 그래프가 나오게 해주세요."
   ]
  },
  {
   "cell_type": "markdown",
   "metadata": {},
   "source": [
    "\n",
    "\n",
    "<img src=\"https://i.imgur.com/T4a4atS.png\" width=800>"
   ]
  },
  {
   "cell_type": "code",
   "execution_count": null,
   "metadata": {},
   "outputs": [],
   "source": [
    "#Write your code here!\n"
   ]
  },
  {
   "cell_type": "code",
   "execution_count": null,
   "metadata": {},
   "outputs": [],
   "source": []
  }
 ],
 "metadata": {
  "kernelspec": {
   "display_name": "Python 3 (ipykernel)",
   "language": "python",
   "name": "python3"
  },
  "language_info": {
   "codemirror_mode": {
    "name": "ipython",
    "version": 3
   },
   "file_extension": ".py",
   "mimetype": "text/x-python",
   "name": "python",
   "nbconvert_exporter": "python",
   "pygments_lexer": "ipython3",
   "version": "3.9.12"
  },
  "toc": {
   "base_numbering": 1,
   "nav_menu": {},
   "number_sections": true,
   "sideBar": true,
   "skip_h1_title": false,
   "title_cell": "Table of Contents",
   "title_sidebar": "Contents",
   "toc_cell": false,
   "toc_position": {
    "height": "calc(100% - 180px)",
    "left": "10px",
    "top": "150px",
    "width": "245.052px"
   },
   "toc_section_display": true,
   "toc_window_display": false
  }
 },
 "nbformat": 4,
 "nbformat_minor": 4
}
