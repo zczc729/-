{
 "cells": [
  {
   "cell_type": "markdown",
   "id": "a5df2dda-af47-4b2a-a218-abb8ebd7ccff",
   "metadata": {},
   "source": [
    "## 판다스 10 분 완성\n",
    "## 10 minutes to pandas    \n",
    "영문 : https://pandas.pydata.org/pandas-docs/stable/user_guide/10min.html    \n",
    "한글 : https://dataitgirls2.github.io/10minutes2pandas/"
   ]
  },
  {
   "cell_type": "code",
   "execution_count": null,
   "id": "a235ffbc-29a3-451f-842c-7aaac1f8cf4a",
   "metadata": {},
   "outputs": [],
   "source": []
  },
  {
   "cell_type": "code",
   "execution_count": null,
   "id": "705d9429-b257-4f70-ac44-c32c2b4970b9",
   "metadata": {},
   "outputs": [],
   "source": []
  },
  {
   "cell_type": "code",
   "execution_count": null,
   "id": "64bb8157-5e82-495c-b7e4-f86c5199e526",
   "metadata": {},
   "outputs": [],
   "source": []
  },
  {
   "cell_type": "code",
   "execution_count": null,
   "id": "be6105f8-69f0-4f4b-9319-736c61dd737e",
   "metadata": {},
   "outputs": [],
   "source": []
  },
  {
   "cell_type": "code",
   "execution_count": null,
   "id": "49e5970c-7c15-4b22-a8b7-0715af162310",
   "metadata": {},
   "outputs": [],
   "source": []
  }
 ],
 "metadata": {
  "kernelspec": {
   "display_name": "Python 3 (ipykernel)",
   "language": "python",
   "name": "python3"
  },
  "language_info": {
   "codemirror_mode": {
    "name": "ipython",
    "version": 3
   },
   "file_extension": ".py",
   "mimetype": "text/x-python",
   "name": "python",
   "nbconvert_exporter": "python",
   "pygments_lexer": "ipython3",
   "version": "3.9.12"
  }
 },
 "nbformat": 4,
 "nbformat_minor": 5
}
