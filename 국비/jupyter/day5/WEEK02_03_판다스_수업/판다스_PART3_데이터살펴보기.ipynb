{
 "cells": [
  {
   "cell_type": "markdown",
   "id": "b087a297",
   "metadata": {},
   "source": [
    "## Part 3. 데이터 살펴보기"
   ]
  },
  {
   "cell_type": "markdown",
   "id": "3f3d33bc",
   "metadata": {},
   "source": [
    "## 1. 데이터프레임의 구조"
   ]
  },
  {
   "cell_type": "markdown",
   "id": "b9046aa9",
   "metadata": {},
   "source": [
    "### 1-1. 데이터 내용 미리보기 "
   ]
  },
  {
   "cell_type": "code",
   "execution_count": null,
   "id": "ba0144af",
   "metadata": {},
   "outputs": [],
   "source": [
    "import pandas as pd"
   ]
  },
  {
   "cell_type": "code",
   "execution_count": null,
   "id": "71c0e48e",
   "metadata": {},
   "outputs": [],
   "source": [
    "# read_csv() 함수로 df 생성\n",
    "df = pd.read_csv('./data/auto-mpg.csv', header=None)\n",
    "df"
   ]
  },
  {
   "cell_type": "code",
   "execution_count": null,
   "id": "20008ca3",
   "metadata": {},
   "outputs": [],
   "source": [
    "df.columns"
   ]
  },
  {
   "cell_type": "code",
   "execution_count": null,
   "id": "371f85dc",
   "metadata": {},
   "outputs": [],
   "source": [
    "# 열 이름을 지정\n",
    "df.columns = ['mpg','cylinders','displacement','horsepower','weight',\n",
    "              'acceleration','model year','origin','name']"
   ]
  },
  {
   "cell_type": "code",
   "execution_count": null,
   "id": "3ce09ac3",
   "metadata": {},
   "outputs": [],
   "source": [
    "df.head()"
   ]
  },
  {
   "cell_type": "code",
   "execution_count": null,
   "id": "e0ef93c3",
   "metadata": {},
   "outputs": [],
   "source": [
    "df['model year']"
   ]
  },
  {
   "cell_type": "code",
   "execution_count": null,
   "id": "26f9b0d8",
   "metadata": {},
   "outputs": [],
   "source": [
    "df.tail()"
   ]
  },
  {
   "cell_type": "code",
   "execution_count": null,
   "id": "194d0953",
   "metadata": {},
   "outputs": [],
   "source": [
    "# df의 모양과 크기 확인: (행의 개수, 열의 개수)를 투플로 반환 \n",
    "df.shape"
   ]
  },
  {
   "cell_type": "code",
   "execution_count": null,
   "id": "bd0d0eb8",
   "metadata": {},
   "outputs": [],
   "source": [
    "# 데이터프레임 df의 내용 확인 \n",
    "df.info()"
   ]
  },
  {
   "cell_type": "code",
   "execution_count": null,
   "id": "c440b94b",
   "metadata": {},
   "outputs": [],
   "source": [
    "# 데이터프레임 df의 자료형 확인 \n",
    "df.dtypes"
   ]
  },
  {
   "cell_type": "code",
   "execution_count": null,
   "id": "7a2c2769",
   "metadata": {},
   "outputs": [],
   "source": [
    "# 시리즈(mog 열)의 자료형 확인 \n",
    "df['mpg'].dtypes"
   ]
  },
  {
   "cell_type": "code",
   "execution_count": null,
   "id": "74a2ace7",
   "metadata": {},
   "outputs": [],
   "source": [
    "# 데이터프레임 df의 기술통계량 정보 확인 (기본값:숫자형) \n",
    "df.describe()"
   ]
  },
  {
   "cell_type": "code",
   "execution_count": null,
   "id": "8577e257",
   "metadata": {},
   "outputs": [],
   "source": [
    "### 전체 기술통계량\n",
    "df.describe(include='all')"
   ]
  },
  {
   "cell_type": "code",
   "execution_count": null,
   "id": "ab900c6e",
   "metadata": {},
   "outputs": [],
   "source": [
    "# 데이터프레임 df의 각 열이 가지고 있는 원소 개수 확인 \n",
    "df.count()"
   ]
  },
  {
   "cell_type": "code",
   "execution_count": null,
   "id": "7003ce2c",
   "metadata": {},
   "outputs": [],
   "source": [
    "# df.count()가 반환하는 객체 타입 출력\n",
    "type(df.count())"
   ]
  },
  {
   "cell_type": "code",
   "execution_count": null,
   "id": "9e9123d7",
   "metadata": {},
   "outputs": [],
   "source": [
    "df['cylinders'].value_counts() "
   ]
  },
  {
   "cell_type": "code",
   "execution_count": null,
   "id": "f43a7b09",
   "metadata": {},
   "outputs": [],
   "source": [
    "# 데이터프레임 df의 특정 열이 가지고 있는 고유값 확인 \n",
    "unique_values = df['origin'].value_counts() \n",
    "unique_values"
   ]
  },
  {
   "cell_type": "code",
   "execution_count": null,
   "id": "3d2f7012",
   "metadata": {},
   "outputs": [],
   "source": [
    "# value_counts 메소드가 반환하는 객체 타입 출력\n",
    "type(unique_values)"
   ]
  },
  {
   "cell_type": "code",
   "execution_count": null,
   "id": "f76e4a95",
   "metadata": {},
   "outputs": [],
   "source": []
  },
  {
   "cell_type": "markdown",
   "id": "3edcaf74",
   "metadata": {},
   "source": [
    "## 2. 통계 함수 적용"
   ]
  },
  {
   "cell_type": "code",
   "execution_count": null,
   "id": "37ddefde",
   "metadata": {},
   "outputs": [],
   "source": [
    "# 평균값 \n",
    "df.mean()"
   ]
  },
  {
   "cell_type": "code",
   "execution_count": null,
   "id": "93986db0",
   "metadata": {},
   "outputs": [],
   "source": [
    "df['mpg'].mean()"
   ]
  },
  {
   "cell_type": "code",
   "execution_count": null,
   "id": "f1ef9bc2",
   "metadata": {},
   "outputs": [],
   "source": [
    "df[['mpg','weight']].mean()"
   ]
  },
  {
   "cell_type": "code",
   "execution_count": null,
   "id": "f4dfea21",
   "metadata": {},
   "outputs": [],
   "source": [
    "# 중간값(중위수) \n",
    "df.median()"
   ]
  },
  {
   "cell_type": "code",
   "execution_count": null,
   "id": "e076058a",
   "metadata": {},
   "outputs": [],
   "source": [
    "df['mpg'].median()"
   ]
  },
  {
   "cell_type": "code",
   "execution_count": null,
   "id": "58e0af17",
   "metadata": {},
   "outputs": [],
   "source": [
    "# 최대값 \n",
    "df.max()"
   ]
  },
  {
   "cell_type": "code",
   "execution_count": null,
   "id": "78910134",
   "metadata": {},
   "outputs": [],
   "source": [
    "df['name'].max()"
   ]
  },
  {
   "cell_type": "code",
   "execution_count": null,
   "id": "78b74b79",
   "metadata": {},
   "outputs": [],
   "source": [
    "# 최소값 \n",
    "df.min()"
   ]
  },
  {
   "cell_type": "code",
   "execution_count": null,
   "id": "f3953cd9",
   "metadata": {},
   "outputs": [],
   "source": [
    "df['mpg'].min()"
   ]
  },
  {
   "cell_type": "code",
   "execution_count": null,
   "id": "8e0fc689",
   "metadata": {},
   "outputs": [],
   "source": [
    "# 표준편차 \n",
    "df.std()"
   ]
  },
  {
   "cell_type": "code",
   "execution_count": null,
   "id": "e768d7cb",
   "metadata": {},
   "outputs": [],
   "source": [
    "df['mpg'].std()"
   ]
  },
  {
   "cell_type": "code",
   "execution_count": null,
   "id": "43957c2a",
   "metadata": {},
   "outputs": [],
   "source": [
    "# 상관계수 \n",
    "df.corr()"
   ]
  },
  {
   "cell_type": "code",
   "execution_count": null,
   "id": "417a7462",
   "metadata": {},
   "outputs": [],
   "source": [
    "df[['mpg','weight']].corr()"
   ]
  },
  {
   "cell_type": "code",
   "execution_count": null,
   "id": "e770b298",
   "metadata": {},
   "outputs": [],
   "source": []
  },
  {
   "cell_type": "markdown",
   "id": "fb1895da",
   "metadata": {},
   "source": [
    "## 3. 판다스 내장 그래프 도구 활용"
   ]
  },
  {
   "cell_type": "code",
   "execution_count": null,
   "id": "d01798ef",
   "metadata": {},
   "outputs": [],
   "source": [
    "df = pd.read_excel('data/남북한발전전력량.xlsx')#, engine='openpyxl')  # 데이터프레임 변환 \n",
    "df.head()"
   ]
  },
  {
   "cell_type": "code",
   "execution_count": null,
   "id": "0ee125a2",
   "metadata": {},
   "outputs": [],
   "source": [
    "df_ns = df.iloc[[0, 5], 3:]            # 남한, 북한 발전량 합계 데이터만 추출\n",
    "df_ns"
   ]
  },
  {
   "cell_type": "code",
   "execution_count": null,
   "id": "92a26c65",
   "metadata": {},
   "outputs": [],
   "source": [
    "df_ns.index = ['South','North']        # 행 인덱스 변경\n",
    "df_ns"
   ]
  },
  {
   "cell_type": "code",
   "execution_count": null,
   "id": "2f8fe5a1",
   "metadata": {},
   "outputs": [],
   "source": [
    "df_ns.info()"
   ]
  },
  {
   "cell_type": "code",
   "execution_count": null,
   "id": "931a8ade",
   "metadata": {},
   "outputs": [],
   "source": [
    "df_ns.columns.map(int)"
   ]
  },
  {
   "cell_type": "code",
   "execution_count": null,
   "id": "702b1586",
   "metadata": {},
   "outputs": [],
   "source": [
    "df_ns.columns = df_ns.columns.map(int) # 열 이름의 자료형을 정수형으로 변경\n",
    "df_ns"
   ]
  },
  {
   "cell_type": "code",
   "execution_count": null,
   "id": "838d5045",
   "metadata": {},
   "outputs": [],
   "source": [
    "# 선 그래프 그리기\n",
    "df_ns.plot()"
   ]
  },
  {
   "cell_type": "code",
   "execution_count": null,
   "id": "b9bbeb06",
   "metadata": {},
   "outputs": [],
   "source": [
    "# 행, 열 전치하여 다시 그리기\n",
    "tdf_ns = df_ns.T\n",
    "tdf_ns.head()"
   ]
  },
  {
   "cell_type": "code",
   "execution_count": null,
   "id": "deb6e0d7",
   "metadata": {},
   "outputs": [],
   "source": [
    "tdf_ns.plot(kind='line')"
   ]
  },
  {
   "cell_type": "code",
   "execution_count": null,
   "id": "bbc035b0",
   "metadata": {},
   "outputs": [],
   "source": [
    "# 행, 열 전치하여 막대 그래프 그리기\n",
    "tdf_ns.plot(kind='bar')"
   ]
  },
  {
   "cell_type": "code",
   "execution_count": null,
   "id": "796596c5-8c9d-4035-b3cd-9bb88acb1999",
   "metadata": {},
   "outputs": [],
   "source": [
    "tdf_ns.info()"
   ]
  },
  {
   "cell_type": "code",
   "execution_count": null,
   "id": "51253f7a-abd0-4895-ab31-3b2209779e45",
   "metadata": {},
   "outputs": [],
   "source": [
    "tdf_ns['South'] = tdf_ns['South'].astype(int)\n",
    "tdf_ns['North'] = tdf_ns['North'].astype(int)\n",
    "\n",
    "#tdf_ns = tdf_ns.astype(int)"
   ]
  },
  {
   "cell_type": "code",
   "execution_count": null,
   "id": "c5abf701",
   "metadata": {},
   "outputs": [],
   "source": [
    "tdf_ns.head()"
   ]
  },
  {
   "cell_type": "code",
   "execution_count": null,
   "id": "0badeea1",
   "metadata": {},
   "outputs": [],
   "source": [
    "# 행, 열 전치하여 히스토그램 그리기\n",
    "tdf_ns.plot(kind='hist')"
   ]
  },
  {
   "cell_type": "code",
   "execution_count": null,
   "id": "84b8e4dd",
   "metadata": {},
   "outputs": [],
   "source": [
    "tdf_ns.plot(y='South', x='North', kind='scatter')"
   ]
  },
  {
   "cell_type": "code",
   "execution_count": null,
   "id": "2d65f074",
   "metadata": {},
   "outputs": [],
   "source": [
    "tdf_ns.plot(kind='box')"
   ]
  },
  {
   "cell_type": "code",
   "execution_count": null,
   "id": "017269de",
   "metadata": {},
   "outputs": [],
   "source": [
    "# read_csv() 함수로 df 생성\n",
    "df = pd.read_csv('data/auto-mpg.csv', header=None)\n",
    "# 열 이름을 지정\n",
    "df.columns = ['mpg','cylinders','displacement','horsepower','weight',\n",
    "              'acceleration','model year','origin','name']\n",
    "df"
   ]
  },
  {
   "cell_type": "code",
   "execution_count": null,
   "id": "cc83f000",
   "metadata": {},
   "outputs": [],
   "source": [
    "# 2개의 열을 선택하여 산점도 그리기\n",
    "df.plot(x='weight',y='mpg', kind='scatter')"
   ]
  },
  {
   "cell_type": "code",
   "execution_count": null,
   "id": "80f0f858",
   "metadata": {},
   "outputs": [],
   "source": [
    "# 열을 선택하여 박스 플롯 그리기\n",
    "df[['mpg','cylinders']].plot(kind='box')"
   ]
  },
  {
   "cell_type": "code",
   "execution_count": null,
   "id": "64ecf527",
   "metadata": {},
   "outputs": [],
   "source": []
  }
 ],
 "metadata": {
  "kernelspec": {
   "display_name": "Python 3 (ipykernel)",
   "language": "python",
   "name": "python3"
  },
  "language_info": {
   "codemirror_mode": {
    "name": "ipython",
    "version": 3
   },
   "file_extension": ".py",
   "mimetype": "text/x-python",
   "name": "python",
   "nbconvert_exporter": "python",
   "pygments_lexer": "ipython3",
   "version": "3.9.12"
  }
 },
 "nbformat": 4,
 "nbformat_minor": 5
}
