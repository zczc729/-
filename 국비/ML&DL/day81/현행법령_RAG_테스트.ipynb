{
 "cells": [
  {
   "cell_type": "markdown",
   "metadata": {},
   "source": [
    "# 1. 파일 Import / 벡터 DB 저장"
   ]
  },
  {
   "cell_type": "code",
   "execution_count": 1,
   "metadata": {},
   "outputs": [
    {
     "name": "stderr",
     "output_type": "stream",
     "text": [
      "/Users/shinminseog/opt/anaconda3/envs/dl/lib/python3.9/site-packages/sentence_transformers/cross_encoder/CrossEncoder.py:11: TqdmExperimentalWarning: Using `tqdm.autonotebook.tqdm` in notebook mode. Use `tqdm.tqdm` instead to force console mode (e.g. in jupyter console)\n",
      "  from tqdm.autonotebook import tqdm, trange\n"
     ]
    },
    {
     "name": "stdout",
     "output_type": "stream",
     "text": [
      "Using device: mps\n"
     ]
    }
   ],
   "source": [
    "import pandas as pd\n",
    "import numpy as np\n",
    "import os\n",
    "import torch\n",
    "from keybert import KeyBERT\n",
    "from transformers import PreTrainedTokenizerFast, BartForConditionalGeneration, AutoTokenizer, AutoModelForSequenceClassification\n",
    "from sentence_transformers import SentenceTransformer\n",
    "\n",
    "from langchain_core.messages import ChatMessage, HumanMessage, AIMessage, SystemMessage\n",
    "from langchain_core.embeddings import Embeddings\n",
    "from langchain_core.prompts import ChatPromptTemplate, MessagesPlaceholder\n",
    "from langchain_core.output_parsers import StrOutputParser\n",
    "from langchain_core.runnables import RunnablePassthrough\n",
    "\n",
    "from langchain_community.document_loaders import TextLoader, PyPDFLoader, PyMuPDFLoader\n",
    "from langchain_community.vectorstores import FAISS\n",
    "from langchain_community.vectorstores.utils import DistanceStrategy\n",
    "\n",
    "from langchain_openai import ChatOpenAI\n",
    "\n",
    "from langchain.text_splitter import RecursiveCharacterTextSplitter\n",
    "\n",
    "from langserve.pydantic_v1 import BaseModel, Field\n",
    "from typing import List, Union\n",
    "\n",
    "from openai import OpenAI\n",
    "import os\n",
    "import warnings\n",
    "\n",
    "warnings.filterwarnings(\"ignore\")\n",
    "\n",
    "import os\n",
    "import shutil\n",
    "import gc\n",
    "import warnings\n",
    "import torch\n",
    "from langchain.vectorstores import Chroma\n",
    "from langchain_community.document_loaders import PyMuPDFLoader\n",
    "from langchain.text_splitter import RecursiveCharacterTextSplitter\n",
    "from sentence_transformers import SentenceTransformer\n",
    "from transformers import PreTrainedTokenizerFast\n",
    "\n",
    "warnings.filterwarnings(\"ignore\")\n",
    "\n",
    "# MPS(Apple Silicon GPU)가 사용 가능한지 확인\n",
    "device = torch.device(\"mps\") if torch.backends.mps.is_available() else torch.device(\"cpu\")\n",
    "print(f\"Using device: {device}\")"
   ]
  },
  {
   "cell_type": "code",
   "execution_count": null,
   "metadata": {},
   "outputs": [],
   "source": [
    "# PDF 파일이 있는 디렉토리\n",
    "pdf_dir = \"file/현행법령/\"\n",
    "\n",
    "# 벡터 저장소 경로\n",
    "vectorstore_path = 'file/law_vectorstore_3'\n",
    "\n",
    "# 기존 Chroma 벡터 저장소 삭제 (처음부터 새로 저장하기 위해)\n",
    "if os.path.exists(vectorstore_path):\n",
    "    print(\"Removing existing Chroma vectorstore...\")\n",
    "    shutil.rmtree(vectorstore_path)\n",
    "\n",
    "# 새로 저장소 디렉토리 생성\n",
    "os.makedirs(vectorstore_path, exist_ok=True)\n",
    "\n",
    "# 토크나이저 초기화\n",
    "tokenizer = AutoTokenizer.from_pretrained('sentence-transformers/paraphrase-multilingual-MiniLM-L12-v2')\n",
    "\n",
    "# 텍스트 분할기\n",
    "splitter = RecursiveCharacterTextSplitter(\n",
    "    chunk_size=500, \n",
    "    chunk_overlap=50,\n",
    "    separators=[\"\\n\\n\", \"\\n\", \"(?<=\\. )\", \" \", \"\"],\n",
    "    length_function=lambda text: len(tokenizer.encode(text)),\n",
    ")\n",
    "\n",
    "# Embeddings 클래스 정의\n",
    "class MyEmbeddings(Embeddings):\n",
    "    def __init__(self, model_name=\"sentence-transformers/paraphrase-multilingual-MiniLM-L12-v2\"):\n",
    "        # SentenceTransformer 모델을 MPS 디바이스로 이동\n",
    "        self.model = SentenceTransformer(model_name, device=device)\n",
    "\n",
    "    def embed_documents(self, texts: List[str]) -> List[List[float]]:\n",
    "        # 임베딩을 GPU에서 처리\n",
    "        embeddings = self.model.encode(texts, convert_to_tensor=True, device=device)\n",
    "        return embeddings.tolist()\n",
    "\n",
    "    def embed_query(self, text: str) -> List[float]:\n",
    "        return self.embed_documents([text])[0]\n",
    "\n",
    "# 임베딩 모델 설정\n",
    "embedding_model = MyEmbeddings()\n",
    "\n",
    "# 새로 Chroma 벡터 저장소 생성\n",
    "print(\"Creating new Chroma vectorstore...\")\n",
    "vectorstore = Chroma(persist_directory=vectorstore_path, embedding_function=embedding_model)\n",
    "\n",
    "# PDF 파일들을 읽어 Chroma 벡터 저장소에 추가\n",
    "for file_name in os.listdir(pdf_dir):\n",
    "    if file_name.endswith(\".pdf\"):\n",
    "        pdf_path = os.path.join(pdf_dir, file_name)\n",
    "\n",
    "        # PDF 파일 로더로 파일 읽기\n",
    "        loader = PyMuPDFLoader(pdf_path)\n",
    "        document = loader.load()\n",
    "\n",
    "        # 텍스트 분할\n",
    "        docs_split = splitter.split_documents(document)\n",
    "\n",
    "        # 분할된 문서를 벡터 저장소에 추가\n",
    "        vectorstore.add_documents(docs_split)\n",
    "        \n",
    "        # 벡터 저장소 업데이트\n",
    "        vectorstore.persist()\n",
    "\n",
    "        # 대용량 객체 메모리 해제\n",
    "        del document, docs_split\n",
    "        gc.collect()\n",
    "\n",
    "        # 파일 처리 완료 메시지 출력\n",
    "        print(f\"Processing and embedding: {file_name}\")\n",
    "\n",
    "print(\"All documents processed and Chroma Vectorstore created successfully.\")"
   ]
  },
  {
   "cell_type": "code",
   "execution_count": 2,
   "metadata": {},
   "outputs": [],
   "source": [
    "# Embeddings 클래스 정의\n",
    "class MyEmbeddings(Embeddings):\n",
    "    def __init__(self, model_name=\"sentence-transformers/paraphrase-multilingual-MiniLM-L12-v2\"):\n",
    "        # SentenceTransformer 모델을 MPS 디바이스로 이동\n",
    "        self.model = SentenceTransformer(model_name, device=device)\n",
    "\n",
    "    def embed_documents(self, texts: List[str]) -> List[List[float]]:\n",
    "        # 임베딩을 GPU에서 처리\n",
    "        embeddings = self.model.encode(texts, convert_to_tensor=True, device=device)\n",
    "        return embeddings.tolist()\n",
    "\n",
    "    def embed_query(self, text: str) -> List[float]:\n",
    "        return self.embed_documents([text])[0]\n",
    "\n",
    "# 임베딩 모델 설정\n",
    "embedding_model = MyEmbeddings()\n",
    "vectorstore_path = 'file/law_vectorstore_2'"
   ]
  },
  {
   "cell_type": "code",
   "execution_count": 17,
   "metadata": {},
   "outputs": [],
   "source": [
    "vs_test = Chroma(persist_directory=vectorstore_path, embedding_function=embedding_model)\n",
    "retriever = vs_test.as_retriever(search_kwargs={'k': 30})"
   ]
  },
  {
   "cell_type": "code",
   "execution_count": 16,
   "metadata": {},
   "outputs": [],
   "source": [
    "r_test1 = retriever.get_relevant_documents(\"민법에서 대리권이 소멸되는 경우는 무엇인가요?\")\n",
    "r_test2 = retriever.get_relevant_documents(\"도로교통법에서 음주운전 기준은 어떻게 되나요?\")"
   ]
  },
  {
   "cell_type": "code",
   "execution_count": null,
   "metadata": {},
   "outputs": [],
   "source": [
    "num = 1\n",
    "for i in r_test1:\n",
    "    print(num, i.page_content)\n",
    "    num += 1"
   ]
  },
  {
   "cell_type": "code",
   "execution_count": null,
   "metadata": {},
   "outputs": [],
   "source": [
    "retriever.get_relevant_documents(\"도로교통법에서 음주운전 기준은 어떻게 되나요?\")"
   ]
  },
  {
   "cell_type": "code",
   "execution_count": null,
   "metadata": {},
   "outputs": [],
   "source": [
    "num = 1\n",
    "for i in r_test2:\n",
    "    print(num, i.page_content)\n",
    "    num += 1"
   ]
  },
  {
   "cell_type": "code",
   "execution_count": null,
   "metadata": {},
   "outputs": [],
   "source": []
  },
  {
   "cell_type": "code",
   "execution_count": null,
   "metadata": {},
   "outputs": [],
   "source": []
  },
  {
   "cell_type": "code",
   "execution_count": null,
   "metadata": {},
   "outputs": [],
   "source": [
    "score_df = pd.read_csv(\"file/현행법령_질문_타겟답변.csv\")\n",
    "score_df"
   ]
  },
  {
   "cell_type": "code",
   "execution_count": null,
   "metadata": {},
   "outputs": [],
   "source": []
  },
  {
   "cell_type": "code",
   "execution_count": null,
   "metadata": {},
   "outputs": [],
   "source": []
  },
  {
   "cell_type": "code",
   "execution_count": null,
   "metadata": {},
   "outputs": [],
   "source": []
  },
  {
   "cell_type": "code",
   "execution_count": null,
   "metadata": {},
   "outputs": [],
   "source": []
  },
  {
   "cell_type": "code",
   "execution_count": null,
   "metadata": {},
   "outputs": [],
   "source": []
  },
  {
   "cell_type": "code",
   "execution_count": null,
   "metadata": {},
   "outputs": [],
   "source": []
  },
  {
   "cell_type": "code",
   "execution_count": null,
   "metadata": {},
   "outputs": [],
   "source": []
  },
  {
   "cell_type": "code",
   "execution_count": null,
   "metadata": {},
   "outputs": [],
   "source": []
  },
  {
   "cell_type": "code",
   "execution_count": null,
   "metadata": {},
   "outputs": [],
   "source": [
    "retriever.get_relevant_documents(\"민법에서 대리권이 소멸되는 경우는 무엇인가요?\")"
   ]
  },
  {
   "cell_type": "code",
   "execution_count": null,
   "metadata": {},
   "outputs": [],
   "source": []
  },
  {
   "cell_type": "code",
   "execution_count": null,
   "metadata": {},
   "outputs": [],
   "source": []
  },
  {
   "cell_type": "code",
   "execution_count": 9,
   "metadata": {},
   "outputs": [
    {
     "name": "stdout",
     "output_type": "stream",
     "text": [
      "Using device: mps\n",
      "All documents processed and Chroma Vectorstore created successfully.\n"
     ]
    }
   ],
   "source": [
    "# MPS(Apple Silicon GPU)가 사용 가능한지 확인\n",
    "device = torch.device(\"mps\") if torch.backends.mps.is_available() else torch.device(\"cpu\")\n",
    "print(f\"Using device: {device}\")\n",
    "\n",
    "# PDF 파일이 있는 디렉토리\n",
    "pdf_dir = \"file/\"\n",
    "\n",
    "# 토크나이저 초기화\n",
    "tokenizer_2 = AutoTokenizer.from_pretrained('sentence-transformers/paraphrase-multilingual-MiniLM-L12-v2')\n",
    "\n",
    "# 텍스트 분할기\n",
    "splitter_2 = RecursiveCharacterTextSplitter(\n",
    "    chunk_size=500, \n",
    "    chunk_overlap=50,\n",
    "    # separators=[\"\\n\\n\", \"\\n\", \"(?<=\\. )\", \" \", \"\"],\n",
    "    length_function=lambda text: len(tokenizer_2.encode(text)),\n",
    ")\n",
    "\n",
    "# Embeddings 클래스 정의\n",
    "class MyEmbeddings(Embeddings):\n",
    "    def __init__(self, model_name=\"sentence-transformers/paraphrase-multilingual-MiniLM-L12-v2\"):\n",
    "        # SentenceTransformer 모델을 MPS 디바이스로 이동\n",
    "        self.model = SentenceTransformer(model_name, device=device)\n",
    "\n",
    "    def embed_documents(self, texts: List[str]) -> List[List[float]]:\n",
    "        # 임베딩을 GPU에서 처리\n",
    "        embeddings = self.model.encode(texts, convert_to_tensor=True, device=device)\n",
    "        return embeddings.tolist()\n",
    "\n",
    "    def embed_query(self, text: str) -> List[float]:\n",
    "        return self.embed_documents([text])[0]\n",
    "\n",
    "# 임베딩 모델 설정\n",
    "embedding_model = MyEmbeddings()\n",
    "vectorstore_2 = Chroma(embedding_function=embedding_model)\n",
    "\n",
    "file_name = \"최신 소방 관계 법령.pdf\"\n",
    "\n",
    "pdf_path = pdf_dir + file_name\n",
    "\n",
    "# PDF 파일 로더로 파일 읽기\n",
    "loader = PyMuPDFLoader(pdf_path)\n",
    "document = loader.load()\n",
    "\n",
    "# 텍스트 분할\n",
    "docs_split = splitter_2.split_documents(document)\n",
    "\n",
    "# 분할된 문서를 벡터 저장소에 추가\n",
    "vectorstore_2.add_documents(docs_split)\n",
    "\n",
    "print(\"All documents processed and Chroma Vectorstore created successfully.\")"
   ]
  },
  {
   "cell_type": "code",
   "execution_count": 26,
   "metadata": {},
   "outputs": [
    {
     "name": "stdout",
     "output_type": "stream",
     "text": [
      "Using device: mps\n",
      "All documents processed and Chroma Vectorstore created successfully.\n"
     ]
    }
   ],
   "source": [
    "import re\n",
    "import torch\n",
    "from transformers import AutoTokenizer\n",
    "from langchain.text_splitter import RecursiveCharacterTextSplitter\n",
    "from langchain.document_loaders import PyMuPDFLoader\n",
    "from sentence_transformers import SentenceTransformer\n",
    "from typing import List\n",
    "from langchain.schema import Document  # Document 객체를 가져옵니다\n",
    "\n",
    "# MPS(Apple Silicon GPU)가 사용 가능한지 확인\n",
    "device = torch.device(\"mps\") if torch.backends.mps.is_available() else torch.device(\"cpu\")\n",
    "print(f\"Using device: {device}\")\n",
    "\n",
    "# 토크나이저 초기화\n",
    "tokenizer = AutoTokenizer.from_pretrained('bespin-global/klue-sroberta-base-continue-learning-by-mnr')\n",
    "\n",
    "def preprocess_text(text: str) -> str:\n",
    "    # 여러 개의 공백을 하나로 줄이기\n",
    "    text = re.sub(r'\\s+', ' ', text)\n",
    "    \n",
    "    # 불필요한 페이지 번호나 공백을 제거\n",
    "    text = re.sub(r'\\b\\d+\\b', '', text)  # 숫자(페이지 번호) 제거\n",
    "    \n",
    "    # 특정 키워드 제거 (법제처, 국가법령정보센터 등)\n",
    "    keywords_to_remove = [\"법제처\", \"국가법령정보센터\"]\n",
    "    for keyword in keywords_to_remove:\n",
    "        text = text.replace(keyword, \"\")\n",
    "    \n",
    "    # 텍스트 양쪽의 불필요한 공백 제거\n",
    "    text = text.strip()\n",
    "    \n",
    "    # 특수문자 제거\n",
    "    text = re.sub(r'[^A-Za-z0-9가-힣\\s.,]', '', text)\n",
    "\n",
    "    return text\n",
    "\n",
    "# Embeddings 클래스 정의\n",
    "class MyEmbeddings(Embeddings):\n",
    "    def __init__(self, model_name=\"bespin-global/klue-sroberta-base-continue-learning-by-mnr\"):\n",
    "        self.model = SentenceTransformer(model_name, device=device)\n",
    "\n",
    "    def embed_documents(self, texts: List[str]) -> List[List[float]]:\n",
    "        embeddings = self.model.encode(texts, convert_to_tensor=True, device=device)\n",
    "        return embeddings.cpu().tolist()\n",
    "\n",
    "    def embed_query(self, text: str) -> List[float]:\n",
    "        return self.embed_documents([text])[0]\n",
    "\n",
    "# 임베딩 모델 설정\n",
    "embedding_model = MyEmbeddings()\n",
    "\n",
    "# Chroma 클라이언트 초기화 (임베딩 함수 설정)\n",
    "client = Chroma(embedding_function=embedding_model)\n",
    "\n",
    "file_name = \"최신 소방 관계 법령.pdf\"\n",
    "\n",
    "# PDF 파일 로더로 파일 읽기\n",
    "loader = PyMuPDFLoader('file/' + file_name)\n",
    "document = loader.load()\n",
    "\n",
    "# 텍스트 전처리 적용\n",
    "preprocessed_docs = [Document(page_content=preprocess_text(doc.page_content), metadata=doc.metadata) for doc in document]\n",
    "\n",
    "# 텍스트 분할기\n",
    "splitter = RecursiveCharacterTextSplitter(\n",
    "    chunk_size=768, \n",
    "    chunk_overlap=76,\n",
    "    # separators=[\"\\n\\n\", \"\\n\", \"(?<=\\. )\", \" \", \"\"],\n",
    "    length_function=lambda text: len(tokenizer.encode(text)),\n",
    ")\n",
    "\n",
    "# 전처리된 텍스트를 분할\n",
    "docs_split = splitter.split_documents(preprocessed_docs)\n",
    "\n",
    "# 분할된 문서를 벡터 저장소에 추가\n",
    "client.add_documents(docs_split)\n",
    "\n",
    "print(\"All documents processed and Chroma Vectorstore created successfully.\")"
   ]
  },
  {
   "cell_type": "code",
   "execution_count": 12,
   "metadata": {},
   "outputs": [],
   "source": [
    "# 5. 유사도 점수를 포함한 검색\n",
    "retriever_with_score = client.as_retriever(\n",
    "    search_type=\"similarity\",\n",
    "    search_kwargs={\n",
    "        \"k\": 3,\n",
    "        \"score_threshold\": 0.7\n",
    "    }\n",
    ")"
   ]
  },
  {
   "cell_type": "code",
   "execution_count": 3,
   "metadata": {},
   "outputs": [],
   "source": [
    "retriever = client.as_retriever(\n",
    "    search_type=\"similarity_score_threshold\",\n",
    "    search_kwargs={\n",
    "        \"score_threshold\": 0.0000001,  # 최소 유사도 점수 설정\n",
    "        \"k\": 5  # 반환할 최대 문서 수\n",
    "    }\n",
    ")"
   ]
  },
  {
   "cell_type": "code",
   "execution_count": 26,
   "metadata": {},
   "outputs": [
    {
     "ename": "ValidationError",
     "evalue": "1 validation error for VectorStoreRetriever\n__root__\n  `score_threshold` is not specified with a float value(0~1) in `search_kwargs`. (type=value_error)",
     "output_type": "error",
     "traceback": [
      "\u001b[0;31m---------------------------------------------------------------------------\u001b[0m",
      "\u001b[0;31mValidationError\u001b[0m                           Traceback (most recent call last)",
      "Cell \u001b[0;32mIn[26], line 1\u001b[0m\n\u001b[0;32m----> 1\u001b[0m retriever_test \u001b[38;5;241m=\u001b[39m \u001b[43mclient\u001b[49m\u001b[38;5;241;43m.\u001b[39;49m\u001b[43mas_retriever\u001b[49m\u001b[43m(\u001b[49m\n\u001b[1;32m      2\u001b[0m \u001b[43m    \u001b[49m\u001b[43msearch_type\u001b[49m\u001b[38;5;241;43m=\u001b[39;49m\u001b[38;5;124;43m\"\u001b[39;49m\u001b[38;5;124;43msimilarity_score_threshold\u001b[39;49m\u001b[38;5;124;43m\"\u001b[39;49m\u001b[43m,\u001b[49m\u001b[43m \u001b[49m\n\u001b[1;32m      3\u001b[0m \u001b[43m    \u001b[49m\u001b[43msearch_kwargs\u001b[49m\u001b[38;5;241;43m=\u001b[39;49m\u001b[43m{\u001b[49m\n\u001b[1;32m      4\u001b[0m \u001b[43m        \u001b[49m\u001b[38;5;124;43m'\u001b[39;49m\u001b[38;5;124;43mk\u001b[39;49m\u001b[38;5;124;43m'\u001b[39;49m\u001b[43m:\u001b[49m\u001b[43m \u001b[49m\u001b[38;5;241;43m5\u001b[39;49m\u001b[43m,\u001b[49m\n\u001b[1;32m      5\u001b[0m \u001b[43m        \u001b[49m\u001b[38;5;124;43m'\u001b[39;49m\u001b[38;5;124;43mscore_threshold\u001b[39;49m\u001b[38;5;124;43m'\u001b[39;49m\u001b[43m \u001b[49m\u001b[43m:\u001b[49m\u001b[43m \u001b[49m\u001b[38;5;241;43m0\u001b[39;49m\u001b[43m,\u001b[49m\n\u001b[1;32m      6\u001b[0m \u001b[43m    \u001b[49m\u001b[43m}\u001b[49m\u001b[43m,\u001b[49m\u001b[43m    \u001b[49m\n\u001b[1;32m      7\u001b[0m \u001b[43m)\u001b[49m\n",
      "File \u001b[0;32m~/opt/anaconda3/envs/dl/lib/python3.9/site-packages/langchain_core/vectorstores/base.py:969\u001b[0m, in \u001b[0;36mVectorStore.as_retriever\u001b[0;34m(self, **kwargs)\u001b[0m\n\u001b[1;32m    912\u001b[0m \u001b[38;5;250m\u001b[39m\u001b[38;5;124;03m\"\"\"Return VectorStoreRetriever initialized from this VectorStore.\u001b[39;00m\n\u001b[1;32m    913\u001b[0m \n\u001b[1;32m    914\u001b[0m \u001b[38;5;124;03mArgs:\u001b[39;00m\n\u001b[0;32m   (...)\u001b[0m\n\u001b[1;32m    966\u001b[0m \u001b[38;5;124;03m    )\u001b[39;00m\n\u001b[1;32m    967\u001b[0m \u001b[38;5;124;03m\"\"\"\u001b[39;00m\n\u001b[1;32m    968\u001b[0m tags \u001b[38;5;241m=\u001b[39m kwargs\u001b[38;5;241m.\u001b[39mpop(\u001b[38;5;124m\"\u001b[39m\u001b[38;5;124mtags\u001b[39m\u001b[38;5;124m\"\u001b[39m, \u001b[38;5;28;01mNone\u001b[39;00m) \u001b[38;5;129;01mor\u001b[39;00m [] \u001b[38;5;241m+\u001b[39m \u001b[38;5;28mself\u001b[39m\u001b[38;5;241m.\u001b[39m_get_retriever_tags()\n\u001b[0;32m--> 969\u001b[0m \u001b[38;5;28;01mreturn\u001b[39;00m \u001b[43mVectorStoreRetriever\u001b[49m\u001b[43m(\u001b[49m\u001b[43mvectorstore\u001b[49m\u001b[38;5;241;43m=\u001b[39;49m\u001b[38;5;28;43mself\u001b[39;49m\u001b[43m,\u001b[49m\u001b[43m \u001b[49m\u001b[43mtags\u001b[49m\u001b[38;5;241;43m=\u001b[39;49m\u001b[43mtags\u001b[49m\u001b[43m,\u001b[49m\u001b[43m \u001b[49m\u001b[38;5;241;43m*\u001b[39;49m\u001b[38;5;241;43m*\u001b[39;49m\u001b[43mkwargs\u001b[49m\u001b[43m)\u001b[49m\n",
      "File \u001b[0;32m~/opt/anaconda3/envs/dl/lib/python3.9/site-packages/langchain_core/load/serializable.py:113\u001b[0m, in \u001b[0;36mSerializable.__init__\u001b[0;34m(self, *args, **kwargs)\u001b[0m\n\u001b[1;32m    111\u001b[0m \u001b[38;5;28;01mdef\u001b[39;00m \u001b[38;5;21m__init__\u001b[39m(\u001b[38;5;28mself\u001b[39m, \u001b[38;5;241m*\u001b[39margs: Any, \u001b[38;5;241m*\u001b[39m\u001b[38;5;241m*\u001b[39mkwargs: Any) \u001b[38;5;241m-\u001b[39m\u001b[38;5;241m>\u001b[39m \u001b[38;5;28;01mNone\u001b[39;00m:\n\u001b[1;32m    112\u001b[0m \u001b[38;5;250m    \u001b[39m\u001b[38;5;124;03m\"\"\"\"\"\"\u001b[39;00m\n\u001b[0;32m--> 113\u001b[0m     \u001b[38;5;28;43msuper\u001b[39;49m\u001b[43m(\u001b[49m\u001b[43m)\u001b[49m\u001b[38;5;241;43m.\u001b[39;49m\u001b[38;5;21;43m__init__\u001b[39;49m\u001b[43m(\u001b[49m\u001b[38;5;241;43m*\u001b[39;49m\u001b[43margs\u001b[49m\u001b[43m,\u001b[49m\u001b[43m \u001b[49m\u001b[38;5;241;43m*\u001b[39;49m\u001b[38;5;241;43m*\u001b[39;49m\u001b[43mkwargs\u001b[49m\u001b[43m)\u001b[49m\n",
      "File \u001b[0;32m~/opt/anaconda3/envs/dl/lib/python3.9/site-packages/pydantic/v1/main.py:341\u001b[0m, in \u001b[0;36mBaseModel.__init__\u001b[0;34m(__pydantic_self__, **data)\u001b[0m\n\u001b[1;32m    339\u001b[0m values, fields_set, validation_error \u001b[38;5;241m=\u001b[39m validate_model(__pydantic_self__\u001b[38;5;241m.\u001b[39m\u001b[38;5;18m__class__\u001b[39m, data)\n\u001b[1;32m    340\u001b[0m \u001b[38;5;28;01mif\u001b[39;00m validation_error:\n\u001b[0;32m--> 341\u001b[0m     \u001b[38;5;28;01mraise\u001b[39;00m validation_error\n\u001b[1;32m    342\u001b[0m \u001b[38;5;28;01mtry\u001b[39;00m:\n\u001b[1;32m    343\u001b[0m     object_setattr(__pydantic_self__, \u001b[38;5;124m'\u001b[39m\u001b[38;5;124m__dict__\u001b[39m\u001b[38;5;124m'\u001b[39m, values)\n",
      "\u001b[0;31mValidationError\u001b[0m: 1 validation error for VectorStoreRetriever\n__root__\n  `score_threshold` is not specified with a float value(0~1) in `search_kwargs`. (type=value_error)"
     ]
    }
   ],
   "source": [
    "retriever_test = client.as_retriever(\n",
    "    search_type=\"similarity_score_threshold\", \n",
    "    search_kwargs={\n",
    "        'k': 5,\n",
    "        'score_threshold' : 0,\n",
    "    },    \n",
    ")"
   ]
  },
  {
   "cell_type": "code",
   "execution_count": 34,
   "metadata": {},
   "outputs": [],
   "source": [
    "retriever = client.as_retriever(search_kwargs={'k': 5})"
   ]
  },
  {
   "cell_type": "code",
   "execution_count": 4,
   "metadata": {},
   "outputs": [
    {
     "name": "stderr",
     "output_type": "stream",
     "text": [
      "No relevant docs were retrieved using the relevance score threshold 1e-07\n"
     ]
    },
    {
     "data": {
      "text/plain": [
       "[]"
      ]
     },
     "execution_count": 4,
     "metadata": {},
     "output_type": "execute_result"
    }
   ],
   "source": [
    "retriever.get_relevant_documents(\"소화기 설치 조건\")"
   ]
  },
  {
   "cell_type": "code",
   "execution_count": 13,
   "metadata": {},
   "outputs": [
    {
     "ename": "TypeError",
     "evalue": "query() got an unexpected keyword argument 'score_threshold'",
     "output_type": "error",
     "traceback": [
      "\u001b[0;31m---------------------------------------------------------------------------\u001b[0m",
      "\u001b[0;31mTypeError\u001b[0m                                 Traceback (most recent call last)",
      "Cell \u001b[0;32mIn[13], line 1\u001b[0m\n\u001b[0;32m----> 1\u001b[0m \u001b[43mretriever_with_score\u001b[49m\u001b[38;5;241;43m.\u001b[39;49m\u001b[43mget_relevant_documents\u001b[49m\u001b[43m(\u001b[49m\u001b[38;5;124;43m\"\u001b[39;49m\u001b[38;5;124;43m소화기 설치 조건\u001b[39;49m\u001b[38;5;124;43m\"\u001b[39;49m\u001b[43m)\u001b[49m\n",
      "File \u001b[0;32m~/opt/anaconda3/envs/dl/lib/python3.9/site-packages/langchain_core/_api/deprecation.py:180\u001b[0m, in \u001b[0;36mdeprecated.<locals>.deprecate.<locals>.warning_emitting_wrapper\u001b[0;34m(*args, **kwargs)\u001b[0m\n\u001b[1;32m    178\u001b[0m     warned \u001b[38;5;241m=\u001b[39m \u001b[38;5;28;01mTrue\u001b[39;00m\n\u001b[1;32m    179\u001b[0m     emit_warning()\n\u001b[0;32m--> 180\u001b[0m \u001b[38;5;28;01mreturn\u001b[39;00m \u001b[43mwrapped\u001b[49m\u001b[43m(\u001b[49m\u001b[38;5;241;43m*\u001b[39;49m\u001b[43margs\u001b[49m\u001b[43m,\u001b[49m\u001b[43m \u001b[49m\u001b[38;5;241;43m*\u001b[39;49m\u001b[38;5;241;43m*\u001b[39;49m\u001b[43mkwargs\u001b[49m\u001b[43m)\u001b[49m\n",
      "File \u001b[0;32m~/opt/anaconda3/envs/dl/lib/python3.9/site-packages/langchain_core/retrievers.py:396\u001b[0m, in \u001b[0;36mBaseRetriever.get_relevant_documents\u001b[0;34m(self, query, callbacks, tags, metadata, run_name, **kwargs)\u001b[0m\n\u001b[1;32m    394\u001b[0m \u001b[38;5;28;01mif\u001b[39;00m run_name:\n\u001b[1;32m    395\u001b[0m     config[\u001b[38;5;124m\"\u001b[39m\u001b[38;5;124mrun_name\u001b[39m\u001b[38;5;124m\"\u001b[39m] \u001b[38;5;241m=\u001b[39m run_name\n\u001b[0;32m--> 396\u001b[0m \u001b[38;5;28;01mreturn\u001b[39;00m \u001b[38;5;28;43mself\u001b[39;49m\u001b[38;5;241;43m.\u001b[39;49m\u001b[43minvoke\u001b[49m\u001b[43m(\u001b[49m\u001b[43mquery\u001b[49m\u001b[43m,\u001b[49m\u001b[43m \u001b[49m\u001b[43mconfig\u001b[49m\u001b[43m,\u001b[49m\u001b[43m \u001b[49m\u001b[38;5;241;43m*\u001b[39;49m\u001b[38;5;241;43m*\u001b[39;49m\u001b[43mkwargs\u001b[49m\u001b[43m)\u001b[49m\n",
      "File \u001b[0;32m~/opt/anaconda3/envs/dl/lib/python3.9/site-packages/langchain_core/retrievers.py:253\u001b[0m, in \u001b[0;36mBaseRetriever.invoke\u001b[0;34m(self, input, config, **kwargs)\u001b[0m\n\u001b[1;32m    251\u001b[0m \u001b[38;5;28;01mexcept\u001b[39;00m \u001b[38;5;167;01mException\u001b[39;00m \u001b[38;5;28;01mas\u001b[39;00m e:\n\u001b[1;32m    252\u001b[0m     run_manager\u001b[38;5;241m.\u001b[39mon_retriever_error(e)\n\u001b[0;32m--> 253\u001b[0m     \u001b[38;5;28;01mraise\u001b[39;00m e\n\u001b[1;32m    254\u001b[0m \u001b[38;5;28;01melse\u001b[39;00m:\n\u001b[1;32m    255\u001b[0m     run_manager\u001b[38;5;241m.\u001b[39mon_retriever_end(\n\u001b[1;32m    256\u001b[0m         result,\n\u001b[1;32m    257\u001b[0m     )\n",
      "File \u001b[0;32m~/opt/anaconda3/envs/dl/lib/python3.9/site-packages/langchain_core/retrievers.py:246\u001b[0m, in \u001b[0;36mBaseRetriever.invoke\u001b[0;34m(self, input, config, **kwargs)\u001b[0m\n\u001b[1;32m    244\u001b[0m _kwargs \u001b[38;5;241m=\u001b[39m kwargs \u001b[38;5;28;01mif\u001b[39;00m \u001b[38;5;28mself\u001b[39m\u001b[38;5;241m.\u001b[39m_expects_other_args \u001b[38;5;28;01melse\u001b[39;00m {}\n\u001b[1;32m    245\u001b[0m \u001b[38;5;28;01mif\u001b[39;00m \u001b[38;5;28mself\u001b[39m\u001b[38;5;241m.\u001b[39m_new_arg_supported:\n\u001b[0;32m--> 246\u001b[0m     result \u001b[38;5;241m=\u001b[39m \u001b[38;5;28;43mself\u001b[39;49m\u001b[38;5;241;43m.\u001b[39;49m\u001b[43m_get_relevant_documents\u001b[49m\u001b[43m(\u001b[49m\n\u001b[1;32m    247\u001b[0m \u001b[43m        \u001b[49m\u001b[38;5;28;43minput\u001b[39;49m\u001b[43m,\u001b[49m\u001b[43m \u001b[49m\u001b[43mrun_manager\u001b[49m\u001b[38;5;241;43m=\u001b[39;49m\u001b[43mrun_manager\u001b[49m\u001b[43m,\u001b[49m\u001b[43m \u001b[49m\u001b[38;5;241;43m*\u001b[39;49m\u001b[38;5;241;43m*\u001b[39;49m\u001b[43m_kwargs\u001b[49m\n\u001b[1;32m    248\u001b[0m \u001b[43m    \u001b[49m\u001b[43m)\u001b[49m\n\u001b[1;32m    249\u001b[0m \u001b[38;5;28;01melse\u001b[39;00m:\n\u001b[1;32m    250\u001b[0m     result \u001b[38;5;241m=\u001b[39m \u001b[38;5;28mself\u001b[39m\u001b[38;5;241m.\u001b[39m_get_relevant_documents(\u001b[38;5;28minput\u001b[39m, \u001b[38;5;241m*\u001b[39m\u001b[38;5;241m*\u001b[39m_kwargs)\n",
      "File \u001b[0;32m~/opt/anaconda3/envs/dl/lib/python3.9/site-packages/langchain_core/vectorstores/base.py:1042\u001b[0m, in \u001b[0;36mVectorStoreRetriever._get_relevant_documents\u001b[0;34m(self, query, run_manager)\u001b[0m\n\u001b[1;32m   1038\u001b[0m \u001b[38;5;28;01mdef\u001b[39;00m \u001b[38;5;21m_get_relevant_documents\u001b[39m(\n\u001b[1;32m   1039\u001b[0m     \u001b[38;5;28mself\u001b[39m, query: \u001b[38;5;28mstr\u001b[39m, \u001b[38;5;241m*\u001b[39m, run_manager: CallbackManagerForRetrieverRun\n\u001b[1;32m   1040\u001b[0m ) \u001b[38;5;241m-\u001b[39m\u001b[38;5;241m>\u001b[39m List[Document]:\n\u001b[1;32m   1041\u001b[0m     \u001b[38;5;28;01mif\u001b[39;00m \u001b[38;5;28mself\u001b[39m\u001b[38;5;241m.\u001b[39msearch_type \u001b[38;5;241m==\u001b[39m \u001b[38;5;124m\"\u001b[39m\u001b[38;5;124msimilarity\u001b[39m\u001b[38;5;124m\"\u001b[39m:\n\u001b[0;32m-> 1042\u001b[0m         docs \u001b[38;5;241m=\u001b[39m \u001b[38;5;28;43mself\u001b[39;49m\u001b[38;5;241;43m.\u001b[39;49m\u001b[43mvectorstore\u001b[49m\u001b[38;5;241;43m.\u001b[39;49m\u001b[43msimilarity_search\u001b[49m\u001b[43m(\u001b[49m\u001b[43mquery\u001b[49m\u001b[43m,\u001b[49m\u001b[43m \u001b[49m\u001b[38;5;241;43m*\u001b[39;49m\u001b[38;5;241;43m*\u001b[39;49m\u001b[38;5;28;43mself\u001b[39;49m\u001b[38;5;241;43m.\u001b[39;49m\u001b[43msearch_kwargs\u001b[49m\u001b[43m)\u001b[49m\n\u001b[1;32m   1043\u001b[0m     \u001b[38;5;28;01melif\u001b[39;00m \u001b[38;5;28mself\u001b[39m\u001b[38;5;241m.\u001b[39msearch_type \u001b[38;5;241m==\u001b[39m \u001b[38;5;124m\"\u001b[39m\u001b[38;5;124msimilarity_score_threshold\u001b[39m\u001b[38;5;124m\"\u001b[39m:\n\u001b[1;32m   1044\u001b[0m         docs_and_similarities \u001b[38;5;241m=\u001b[39m (\n\u001b[1;32m   1045\u001b[0m             \u001b[38;5;28mself\u001b[39m\u001b[38;5;241m.\u001b[39mvectorstore\u001b[38;5;241m.\u001b[39msimilarity_search_with_relevance_scores(\n\u001b[1;32m   1046\u001b[0m                 query, \u001b[38;5;241m*\u001b[39m\u001b[38;5;241m*\u001b[39m\u001b[38;5;28mself\u001b[39m\u001b[38;5;241m.\u001b[39msearch_kwargs\n\u001b[1;32m   1047\u001b[0m             )\n\u001b[1;32m   1048\u001b[0m         )\n",
      "File \u001b[0;32m~/opt/anaconda3/envs/dl/lib/python3.9/site-packages/langchain_community/vectorstores/chroma.py:350\u001b[0m, in \u001b[0;36mChroma.similarity_search\u001b[0;34m(self, query, k, filter, **kwargs)\u001b[0m\n\u001b[1;32m    333\u001b[0m \u001b[38;5;28;01mdef\u001b[39;00m \u001b[38;5;21msimilarity_search\u001b[39m(\n\u001b[1;32m    334\u001b[0m     \u001b[38;5;28mself\u001b[39m,\n\u001b[1;32m    335\u001b[0m     query: \u001b[38;5;28mstr\u001b[39m,\n\u001b[0;32m   (...)\u001b[0m\n\u001b[1;32m    338\u001b[0m     \u001b[38;5;241m*\u001b[39m\u001b[38;5;241m*\u001b[39mkwargs: Any,\n\u001b[1;32m    339\u001b[0m ) \u001b[38;5;241m-\u001b[39m\u001b[38;5;241m>\u001b[39m List[Document]:\n\u001b[1;32m    340\u001b[0m \u001b[38;5;250m    \u001b[39m\u001b[38;5;124;03m\"\"\"Run similarity search with Chroma.\u001b[39;00m\n\u001b[1;32m    341\u001b[0m \n\u001b[1;32m    342\u001b[0m \u001b[38;5;124;03m    Args:\u001b[39;00m\n\u001b[0;32m   (...)\u001b[0m\n\u001b[1;32m    348\u001b[0m \u001b[38;5;124;03m        List[Document]: List of documents most similar to the query text.\u001b[39;00m\n\u001b[1;32m    349\u001b[0m \u001b[38;5;124;03m    \"\"\"\u001b[39;00m\n\u001b[0;32m--> 350\u001b[0m     docs_and_scores \u001b[38;5;241m=\u001b[39m \u001b[38;5;28;43mself\u001b[39;49m\u001b[38;5;241;43m.\u001b[39;49m\u001b[43msimilarity_search_with_score\u001b[49m\u001b[43m(\u001b[49m\n\u001b[1;32m    351\u001b[0m \u001b[43m        \u001b[49m\u001b[43mquery\u001b[49m\u001b[43m,\u001b[49m\u001b[43m \u001b[49m\u001b[43mk\u001b[49m\u001b[43m,\u001b[49m\u001b[43m \u001b[49m\u001b[38;5;28;43mfilter\u001b[39;49m\u001b[38;5;241;43m=\u001b[39;49m\u001b[38;5;28;43mfilter\u001b[39;49m\u001b[43m,\u001b[49m\u001b[43m \u001b[49m\u001b[38;5;241;43m*\u001b[39;49m\u001b[38;5;241;43m*\u001b[39;49m\u001b[43mkwargs\u001b[49m\n\u001b[1;32m    352\u001b[0m \u001b[43m    \u001b[49m\u001b[43m)\u001b[49m\n\u001b[1;32m    353\u001b[0m     \u001b[38;5;28;01mreturn\u001b[39;00m [doc \u001b[38;5;28;01mfor\u001b[39;00m doc, _ \u001b[38;5;129;01min\u001b[39;00m docs_and_scores]\n",
      "File \u001b[0;32m~/opt/anaconda3/envs/dl/lib/python3.9/site-packages/langchain_community/vectorstores/chroma.py:440\u001b[0m, in \u001b[0;36mChroma.similarity_search_with_score\u001b[0;34m(self, query, k, filter, where_document, **kwargs)\u001b[0m\n\u001b[1;32m    438\u001b[0m \u001b[38;5;28;01melse\u001b[39;00m:\n\u001b[1;32m    439\u001b[0m     query_embedding \u001b[38;5;241m=\u001b[39m \u001b[38;5;28mself\u001b[39m\u001b[38;5;241m.\u001b[39m_embedding_function\u001b[38;5;241m.\u001b[39membed_query(query)\n\u001b[0;32m--> 440\u001b[0m     results \u001b[38;5;241m=\u001b[39m \u001b[38;5;28;43mself\u001b[39;49m\u001b[38;5;241;43m.\u001b[39;49m\u001b[43m__query_collection\u001b[49m\u001b[43m(\u001b[49m\n\u001b[1;32m    441\u001b[0m \u001b[43m        \u001b[49m\u001b[43mquery_embeddings\u001b[49m\u001b[38;5;241;43m=\u001b[39;49m\u001b[43m[\u001b[49m\u001b[43mquery_embedding\u001b[49m\u001b[43m]\u001b[49m\u001b[43m,\u001b[49m\n\u001b[1;32m    442\u001b[0m \u001b[43m        \u001b[49m\u001b[43mn_results\u001b[49m\u001b[38;5;241;43m=\u001b[39;49m\u001b[43mk\u001b[49m\u001b[43m,\u001b[49m\n\u001b[1;32m    443\u001b[0m \u001b[43m        \u001b[49m\u001b[43mwhere\u001b[49m\u001b[38;5;241;43m=\u001b[39;49m\u001b[38;5;28;43mfilter\u001b[39;49m\u001b[43m,\u001b[49m\n\u001b[1;32m    444\u001b[0m \u001b[43m        \u001b[49m\u001b[43mwhere_document\u001b[49m\u001b[38;5;241;43m=\u001b[39;49m\u001b[43mwhere_document\u001b[49m\u001b[43m,\u001b[49m\n\u001b[1;32m    445\u001b[0m \u001b[43m        \u001b[49m\u001b[38;5;241;43m*\u001b[39;49m\u001b[38;5;241;43m*\u001b[39;49m\u001b[43mkwargs\u001b[49m\u001b[43m,\u001b[49m\n\u001b[1;32m    446\u001b[0m \u001b[43m    \u001b[49m\u001b[43m)\u001b[49m\n\u001b[1;32m    448\u001b[0m \u001b[38;5;28;01mreturn\u001b[39;00m _results_to_docs_and_scores(results)\n",
      "File \u001b[0;32m~/opt/anaconda3/envs/dl/lib/python3.9/site-packages/langchain_core/utils/utils.py:51\u001b[0m, in \u001b[0;36mxor_args.<locals>.decorator.<locals>.wrapper\u001b[0;34m(*args, **kwargs)\u001b[0m\n\u001b[1;32m     45\u001b[0m     invalid_group_names \u001b[38;5;241m=\u001b[39m [\u001b[38;5;124m\"\u001b[39m\u001b[38;5;124m, \u001b[39m\u001b[38;5;124m\"\u001b[39m\u001b[38;5;241m.\u001b[39mjoin(arg_groups[i]) \u001b[38;5;28;01mfor\u001b[39;00m i \u001b[38;5;129;01min\u001b[39;00m invalid_groups]\n\u001b[1;32m     46\u001b[0m     \u001b[38;5;28;01mraise\u001b[39;00m \u001b[38;5;167;01mValueError\u001b[39;00m(\n\u001b[1;32m     47\u001b[0m         \u001b[38;5;124m\"\u001b[39m\u001b[38;5;124mExactly one argument in each of the following\u001b[39m\u001b[38;5;124m\"\u001b[39m\n\u001b[1;32m     48\u001b[0m         \u001b[38;5;124m\"\u001b[39m\u001b[38;5;124m groups must be defined:\u001b[39m\u001b[38;5;124m\"\u001b[39m\n\u001b[1;32m     49\u001b[0m         \u001b[38;5;124mf\u001b[39m\u001b[38;5;124m\"\u001b[39m\u001b[38;5;124m \u001b[39m\u001b[38;5;132;01m{\u001b[39;00m\u001b[38;5;124m'\u001b[39m\u001b[38;5;124m, \u001b[39m\u001b[38;5;124m'\u001b[39m\u001b[38;5;241m.\u001b[39mjoin(invalid_group_names)\u001b[38;5;132;01m}\u001b[39;00m\u001b[38;5;124m\"\u001b[39m\n\u001b[1;32m     50\u001b[0m     )\n\u001b[0;32m---> 51\u001b[0m \u001b[38;5;28;01mreturn\u001b[39;00m \u001b[43mfunc\u001b[49m\u001b[43m(\u001b[49m\u001b[38;5;241;43m*\u001b[39;49m\u001b[43margs\u001b[49m\u001b[43m,\u001b[49m\u001b[43m \u001b[49m\u001b[38;5;241;43m*\u001b[39;49m\u001b[38;5;241;43m*\u001b[39;49m\u001b[43mkwargs\u001b[49m\u001b[43m)\u001b[49m\n",
      "File \u001b[0;32m~/opt/anaconda3/envs/dl/lib/python3.9/site-packages/langchain_community/vectorstores/chroma.py:157\u001b[0m, in \u001b[0;36mChroma.__query_collection\u001b[0;34m(self, query_texts, query_embeddings, n_results, where, where_document, **kwargs)\u001b[0m\n\u001b[1;32m    152\u001b[0m \u001b[38;5;28;01mexcept\u001b[39;00m \u001b[38;5;167;01mImportError\u001b[39;00m:\n\u001b[1;32m    153\u001b[0m     \u001b[38;5;28;01mraise\u001b[39;00m \u001b[38;5;167;01mImportError\u001b[39;00m(\n\u001b[1;32m    154\u001b[0m         \u001b[38;5;124m\"\u001b[39m\u001b[38;5;124mCould not import chromadb python package. \u001b[39m\u001b[38;5;124m\"\u001b[39m\n\u001b[1;32m    155\u001b[0m         \u001b[38;5;124m\"\u001b[39m\u001b[38;5;124mPlease install it with `pip install chromadb`.\u001b[39m\u001b[38;5;124m\"\u001b[39m\n\u001b[1;32m    156\u001b[0m     )\n\u001b[0;32m--> 157\u001b[0m \u001b[38;5;28;01mreturn\u001b[39;00m \u001b[38;5;28;43mself\u001b[39;49m\u001b[38;5;241;43m.\u001b[39;49m\u001b[43m_collection\u001b[49m\u001b[38;5;241;43m.\u001b[39;49m\u001b[43mquery\u001b[49m\u001b[43m(\u001b[49m\n\u001b[1;32m    158\u001b[0m \u001b[43m    \u001b[49m\u001b[43mquery_texts\u001b[49m\u001b[38;5;241;43m=\u001b[39;49m\u001b[43mquery_texts\u001b[49m\u001b[43m,\u001b[49m\n\u001b[1;32m    159\u001b[0m \u001b[43m    \u001b[49m\u001b[43mquery_embeddings\u001b[49m\u001b[38;5;241;43m=\u001b[39;49m\u001b[43mquery_embeddings\u001b[49m\u001b[43m,\u001b[49m\n\u001b[1;32m    160\u001b[0m \u001b[43m    \u001b[49m\u001b[43mn_results\u001b[49m\u001b[38;5;241;43m=\u001b[39;49m\u001b[43mn_results\u001b[49m\u001b[43m,\u001b[49m\n\u001b[1;32m    161\u001b[0m \u001b[43m    \u001b[49m\u001b[43mwhere\u001b[49m\u001b[38;5;241;43m=\u001b[39;49m\u001b[43mwhere\u001b[49m\u001b[43m,\u001b[49m\n\u001b[1;32m    162\u001b[0m \u001b[43m    \u001b[49m\u001b[43mwhere_document\u001b[49m\u001b[38;5;241;43m=\u001b[39;49m\u001b[43mwhere_document\u001b[49m\u001b[43m,\u001b[49m\n\u001b[1;32m    163\u001b[0m \u001b[43m    \u001b[49m\u001b[38;5;241;43m*\u001b[39;49m\u001b[38;5;241;43m*\u001b[39;49m\u001b[43mkwargs\u001b[49m\u001b[43m,\u001b[49m\n\u001b[1;32m    164\u001b[0m \u001b[43m\u001b[49m\u001b[43m)\u001b[49m\n",
      "\u001b[0;31mTypeError\u001b[0m: query() got an unexpected keyword argument 'score_threshold'"
     ]
    }
   ],
   "source": [
    "retriever_with_score.get_relevant_documents(\"소화기 설치 조건\")"
   ]
  },
  {
   "cell_type": "code",
   "execution_count": 27,
   "metadata": {},
   "outputs": [
    {
     "name": "stdout",
     "output_type": "stream",
     "text": [
      "Score: 0\n",
      "Content: 편리성을 고려하여 7킬로그램 이하로 할 것 . 소화기는 사람이 출입할 수 있는 출입구 환기구, 작업구를 포함한다 부근에 5개 이상 설치 할 것 . 소화기는 바닥면으로부터 .5미터 이하의 높이에 설치할 것 . 소화기의 상부에 소화기라고 표시한 조명식 또는 반사식의 표지판을 부착하여 사용자가 쉽게 알 수\n",
      "--------------------------------------------------------------------------------\n",
      "Score: 0\n",
      "Content: . 소화기란 소화기구 및 자동소화장치의 화재안전성능기준 NF PC101  제3조제2호에 서 정의하는 소화기를 말한다. . 간이소화장치란 건설현장에서 화재발생 시 신속한 화재 진압이 가능하도록 물을 방수하 는 형태의 소화장치를 말한다. . 비상경보장치란 발신기, 경종, 표시등 및 시각경보장치가 결합된 형태의 것으로서\n",
      "--------------------------------------------------------------------------------\n",
      "Score: 0\n",
      "Content: 시까지 작업지점으로부터  미 터 이내의 쉽게 보이는 장소에 능력단위 3단위 이상인 소화기 2개 이상과 대형소화기 1개 이상을 추가 배치해야 한다. . 소화기라고 표시한 축광식 표지를 소화기 설치장소 보기 쉬운 곳에 부착하여야 한다. 제6조간이소화장치의 성능 및 설치기준 간이소화장치의 성능 및 설치기준은\n",
      "--------------------------------------------------------------------------------\n",
      "Score: 0\n",
      "Content: 사용 및 운반의 편리성을 고려하여 7킬로그램 이하로 할 것 . 소화기는 사람이 출입할 수 있는 출입구 환기구, 작업구를 포함한다 부근에 5개 이상 설치 할 것 . 소화기는 바닥면으로부터 .5미터 이하의 높이에 설치할 것 . 소화기의 상부에 소화기라고 표시한 조명식 또는 반사식의 표지판을 부착하여 사용자가 쉽게 알 수 있도록 할 것  지하구 내 발전실변전실송전실변압기실배전반실통신기기실전산기기실기 타 이와 유사한 시설이 있는 장소 중 바닥면적이 300제곱미터 미만인 곳에는 유효설치 방호체 적 이내의 가스분말고체에어로졸캐비닛형 자동소화장치를 설치해야 한다.  제어반 또는 분전반마다 가스분말고체에어로졸 자동소화장치 또는 유효설치 방호체적 이내의 소공간용 소화용구를 설치해야 한다.  케이블접속부 절연유를 포함한 접속부에 한한다 마다가스분말고체에어로졸 자동소화 장치 또는 케이블 화재에 적응성이 있다고 인정된 자동소화장치를 설치하되 소화성능이 확보 될 수 있도록 방호공간을 구획하는 등 유효한 조치를 해야 한다. 제6조자동화재탐지설비  감지기는\n",
      "--------------------------------------------------------------------------------\n",
      "Score: 0\n",
      "Content: 건설현장의 화재안전성능기준 NF PC   제4조다른 화재안전성능기준과의 관계 건설현장의 임시소방시설 설치 및 관리와 관련하여 이 기준에서 정하지 않은 사항은 개별 화재안전성능기준을 따른다. 제5조소화기의 성능 및 설치기준 소화기의 성능 및 설치기준은 다음 각 호와 같다. . 소화기의 소화약제는 소화기구 및 자동소화장치의 화재안전성능기준 NF PC101  제 4조제1호에 따른 적응성이 있는 것을 설치해야 한다. . 각 층 계단실마다 계단실 출입구 부근에 능력단위 3단위 이상인 소화기 2개 이상을 설치하 고, 영 제18조제1항에 해당하는 작업을 하는 경우 작업종료 시까지 작업지점으로부터  미 터 이내의 쉽게 보이는 장소에 능력단위 3단위 이상인 소화기 2개 이상과 대형소화기 1개 이상을 추가 배치해야 한다. . 소화기라고 표시한 축광식 표지를 소화기 설치장소 보기 쉬운 곳에 부착하여야 한다. 제6조간이소화장치의 성능 및 설치기준 간이소화장치의 성능 및 설치기준은 다음 각 호와 같 다. . 20분\n",
      "--------------------------------------------------------------------------------\n",
      "Score: 0\n",
      "Content: 소화기구 및 자동소화장치의 화재안전성능기준 N... 바. 작동에 지장이 없도록 견고하게 고정할 것 사. 구획된 장소의 방호체적 이상을 방호할 수 있는 소화성능이 있을 것 . 가스, 분말, 고체에어로졸 자동소화장치는 다음 각 목의 기준에 따라 설치할 것 가. 소화약제 방출구는 형식승인 받은\n",
      "--------------------------------------------------------------------------------\n",
      "Score: 0\n",
      "Content: 소화기구 및 자동소화장치의 화재안전성능기준 N... . 능력단위가 2단위 이상이 되도록 소화기를 설치해야 할 특정소방대상물 또는 그 부분에 있 어서는 간이소화용구의 능력단위가 전체 능력단위의 2분의 1을 초과하지 않게 할 것 . 소화기구 자동확산소화기를 제외한다 는 거주자 등이 손쉽게 사용할 수 있는\n",
      "--------------------------------------------------------------------------------\n",
      "Score: 0\n",
      "Content: 소화기구 및 자동소화장치의 화재안전성능기준 N... 바. 작동에 지장이 없도록 견고하게 고정할 것 사. 구획된 장소의 방호체적 이상을 방호할 수 있는 소화성능이 있을 것 . 가스, 분말, 고체에어로졸 자동소화장치는 다음 각 목의 기준에 따라 설치할 것 가. 소화약제 방출구는 형식승인 받은 유효설치범위 내에 설치할 것 나. 자동소화장치는 방호구역 내에 형식승인 된 1개의 제품을 설치할 것. 이 경우 연동방식 으로서 하나의 형식으로 형식승인을 받은 경우에는 1개의 제품으로 본다. 다. 감지부는 형식승인된 유효설치범위 내에 설치해야 하며 설치장소의 평상시 최고주위온 도에 따라 적합한 표시온도의 것으로 설치할 것 라. 다목에도 불구하고 화재감지기를 감지부로 사용하는 경우에는 제3호 나목부터 라목까지 의 설치방법에 따를 것  이산화탄소 또는 할로겐화합물을 방출하는 소화기구 자동확산소화기를 제외한다 는 지하 층이나 무창층 또는 밀폐된 거실로서 그 바닥면적이 20제곱미터 미만의 장소에는 설치할 수 없다. 다만,\n",
      "--------------------------------------------------------------------------------\n",
      "Score: 0\n",
      "Content: 있는 고체액체 및 기체 의 물질을 말한다. . 소화기란 소화약제를 압력에 따라 방사하는 기구로서 사람이 수동으로 조작하여 소화하 는 다음 각 목의 것을 말한다. 가. 소형소화기란 능력단위가 1단위 이상이고 대형소화기의 능력단위 미만인 소화기를 말 한다. 나. 대형소화기란 화재 시 사람이 운반할 수\n",
      "--------------------------------------------------------------------------------\n",
      "Score: 0\n",
      "Content: 소화기구 및 자동소화장치의 화재안전성능기준 N... . 능력단위가 2단위 이상이 되도록 소화기를 설치해야 할 특정소방대상물 또는 그 부분에 있 어서는 간이소화용구의 능력단위가 전체 능력단위의 2분의 1을 초과하지 않게 할 것 . 소화기구 자동확산소화기를 제외한다 는 거주자 등이 손쉽게 사용할 수 있는 장소에 바닥 으로부터 높이 .5미터 이하의 곳에 비치하고, 소화기구의 종류를 표시한 표지를 보기 쉬운 곳에 부착할 것. 다만, 소화기 및 투척용소화용구의 표지는 축광표지의 성능인증 및 제품 검사의 기술기준에 적합한 축광식표지로 설치하고, 주차장의 경우 표지를 바닥으로부터 .5미터 이상의 높이에 설치할 것 . 자동확산소화기는 다음 각 목의 기준에 따라 설치할 것 가. 방호대상물에 소화약제가 유효하게 방사될 수 있도록 설치할 것 나. 작동에 지장이 없도록 견고하게 고정할 것  자동소화장치는 다음 각 호의 기준에 따라 설치해야 한다. . 주거용 주방자동소화장치는 다음 각 목의 기준에 따라 설치할 것\n",
      "--------------------------------------------------------------------------------\n"
     ]
    }
   ],
   "source": [
    "retriever_with_score = client.as_retriever(\n",
    "    search_type=\"similarity\",\n",
    "    search_kwargs={\"k\": 10}  # 임계값 필터링 전에 충분한 결과를 가져오기 위해 k를 증가시킵니다\n",
    ")\n",
    "\n",
    "query = \"소화기 설치 조건\"\n",
    "docs = retriever_with_score.get_relevant_documents(query)\n",
    "\n",
    "# 결과를 후처리하여 임계값을 적용합니다\n",
    "threshold = 0\n",
    "filtered_docs = [doc for doc in docs if doc.metadata.get('score', 0) >= threshold]\n",
    "\n",
    "for doc in filtered_docs:\n",
    "    print(f\"Score: {doc.metadata.get('score', 0)}\")\n",
    "    print(f\"Content: {doc.page_content}\")\n",
    "    print(\"-\" * 80)"
   ]
  },
  {
   "cell_type": "code",
   "execution_count": 28,
   "metadata": {},
   "outputs": [
    {
     "name": "stdout",
     "output_type": "stream",
     "text": [
      "검색 결과:\n",
      "Score: -94.04268900129463\n",
      "Content: 편리성을 고려하여 7킬로그램 이하로 할 것 . 소화기는 사람이 출입할 수 있는 출입구 환기구, 작업구를 포함한다 부근에 5개 이상 설치 할 것 . 소화기는 바닥면으로부터 .5미터 ...\n",
      "--------------------------------------------------\n",
      "Score: -94.68485322089728\n",
      "Content: . 소화기란 소화기구 및 자동소화장치의 화재안전성능기준 NF PC101  제3조제2호에 서 정의하는 소화기를 말한다. . 간이소화장치란 건설현장에서 화재발생 시 신속한 화재 진압이...\n",
      "--------------------------------------------------\n",
      "Score: -95.19160804560414\n",
      "Content: 시까지 작업지점으로부터  미 터 이내의 쉽게 보이는 장소에 능력단위 3단위 이상인 소화기 2개 이상과 대형소화기 1개 이상을 추가 배치해야 한다. . 소화기라고 표시한 축광식 표지...\n",
      "--------------------------------------------------\n",
      "Score: -98.08723275691695\n",
      "Content: 사용 및 운반의 편리성을 고려하여 7킬로그램 이하로 할 것 . 소화기는 사람이 출입할 수 있는 출입구 환기구, 작업구를 포함한다 부근에 5개 이상 설치 할 것 . 소화기는 바닥면으...\n",
      "--------------------------------------------------\n",
      "Score: -98.65587668832677\n",
      "Content: 건설현장의 화재안전성능기준 NF PC   제4조다른 화재안전성능기준과의 관계 건설현장의 임시소방시설 설치 및 관리와 관련하여 이 기준에서 정하지 않은 사항은 개별 화재안전성능기준을...\n",
      "--------------------------------------------------\n"
     ]
    }
   ],
   "source": [
    "query = \"소화기 설치 조건\"\n",
    "docs_and_scores = client.similarity_search_with_relevance_scores(query, k=5)\n",
    "\n",
    "print(\"검색 결과:\")\n",
    "for doc, score in docs_and_scores:\n",
    "    print(f\"Score: {score}\")\n",
    "    print(f\"Content: {doc.page_content[:100]}...\")  # 내용의 일부만 출력\n",
    "    print(\"-\" * 50)"
   ]
  },
  {
   "cell_type": "code",
   "execution_count": 29,
   "metadata": {},
   "outputs": [
    {
     "name": "stdout",
     "output_type": "stream",
     "text": [
      "검색 결과 및 점수:\n",
      "Score: -94.04268900129463\n",
      "Content: 편리성을 고려하여 7킬로그램 이하로 할 것 . 소화기는 사람이 출입할 수 있는 출입구 환기구, 작업구를 포함한다 부근에 5개 이상 설치 할 것 . 소화기는 바닥면으로부터 .5미터 ...\n",
      "--------------------------------------------------\n",
      "Score: -94.68485322089728\n",
      "Content: . 소화기란 소화기구 및 자동소화장치의 화재안전성능기준 NF PC101  제3조제2호에 서 정의하는 소화기를 말한다. . 간이소화장치란 건설현장에서 화재발생 시 신속한 화재 진압이...\n",
      "--------------------------------------------------\n",
      "Score: -95.19160804560414\n",
      "Content: 시까지 작업지점으로부터  미 터 이내의 쉽게 보이는 장소에 능력단위 3단위 이상인 소화기 2개 이상과 대형소화기 1개 이상을 추가 배치해야 한다. . 소화기라고 표시한 축광식 표지...\n",
      "--------------------------------------------------\n",
      "Score: -98.08723275691695\n",
      "Content: 사용 및 운반의 편리성을 고려하여 7킬로그램 이하로 할 것 . 소화기는 사람이 출입할 수 있는 출입구 환기구, 작업구를 포함한다 부근에 5개 이상 설치 할 것 . 소화기는 바닥면으...\n",
      "--------------------------------------------------\n",
      "Score: -98.65587668832677\n",
      "Content: 건설현장의 화재안전성능기준 NF PC   제4조다른 화재안전성능기준과의 관계 건설현장의 임시소방시설 설치 및 관리와 관련하여 이 기준에서 정하지 않은 사항은 개별 화재안전성능기준을...\n",
      "--------------------------------------------------\n",
      "Score: -98.88497212114132\n",
      "Content: 소화기구 및 자동소화장치의 화재안전성능기준 N... 바. 작동에 지장이 없도록 견고하게 고정할 것 사. 구획된 장소의 방호체적 이상을 방호할 수 있는 소화성능이 있을 것 . 가스,...\n",
      "--------------------------------------------------\n",
      "Score: -99.55907353667159\n",
      "Content: 소화기구 및 자동소화장치의 화재안전성능기준 N... . 능력단위가 2단위 이상이 되도록 소화기를 설치해야 할 특정소방대상물 또는 그 부분에 있 어서는 간이소화용구의 능력단위가 전체...\n",
      "--------------------------------------------------\n",
      "Score: -100.75415046077109\n",
      "Content: 소화기구 및 자동소화장치의 화재안전성능기준 N... 바. 작동에 지장이 없도록 견고하게 고정할 것 사. 구획된 장소의 방호체적 이상을 방호할 수 있는 소화성능이 있을 것 . 가스,...\n",
      "--------------------------------------------------\n",
      "Score: -101.44109149223172\n",
      "Content: 있는 고체액체 및 기체 의 물질을 말한다. . 소화기란 소화약제를 압력에 따라 방사하는 기구로서 사람이 수동으로 조작하여 소화하 는 다음 각 목의 것을 말한다. 가. 소형소화기란 ...\n",
      "--------------------------------------------------\n",
      "Score: -101.62180638905322\n",
      "Content: 소화기구 및 자동소화장치의 화재안전성능기준 N... . 능력단위가 2단위 이상이 되도록 소화기를 설치해야 할 특정소방대상물 또는 그 부분에 있 어서는 간이소화용구의 능력단위가 전체...\n",
      "--------------------------------------------------\n",
      "최소 점수: -101.62180638905322\n",
      "최대 점수: -94.04268900129463\n",
      "평균 점수: -98.29233537129087\n"
     ]
    }
   ],
   "source": [
    "query = \"소화기 설치 조건\"\n",
    "docs_and_scores = client.similarity_search_with_relevance_scores(query, k=10)\n",
    "\n",
    "print(\"검색 결과 및 점수:\")\n",
    "for doc, score in docs_and_scores:\n",
    "    print(f\"Score: {score}\")\n",
    "    print(f\"Content: {doc.page_content[:100]}...\")\n",
    "    print(\"-\" * 50)\n",
    "\n",
    "# 점수 통계 분석\n",
    "scores = [score for _, score in docs_and_scores]\n",
    "print(f\"최소 점수: {min(scores)}\")\n",
    "print(f\"최대 점수: {max(scores)}\")\n",
    "print(f\"평균 점수: {sum(scores) / len(scores)}\")"
   ]
  },
  {
   "cell_type": "code",
   "execution_count": 31,
   "metadata": {},
   "outputs": [
    {
     "name": "stdout",
     "output_type": "stream",
     "text": [
      "정규화된 검색 결과 및 점수:\n",
      "Normalized Score: 1.0\n",
      "Content: 편리성을 고려하여 7킬로그램 이하로 할 것 . 소화기는 사람이 출입할 수 있는 출입구 환기구, 작업구를 포함한다 부근에 5개 이상 설치 할 것 . 소화기는 바닥면으로부터 .5미터 ...\n",
      "--------------------------------------------------\n",
      "Normalized Score: 0.9152718995169754\n",
      "Content: . 소화기란 소화기구 및 자동소화장치의 화재안전성능기준 NF PC101  제3조제2호에 서 정의하는 소화기를 말한다. . 간이소화장치란 건설현장에서 화재발생 시 신속한 화재 진압이...\n",
      "--------------------------------------------------\n",
      "Normalized Score: 0.8484099156235282\n",
      "Content: 시까지 작업지점으로부터  미 터 이내의 쉽게 보이는 장소에 능력단위 3단위 이상인 소화기 2개 이상과 대형소화기 1개 이상을 추가 배치해야 한다. . 소화기라고 표시한 축광식 표지...\n",
      "--------------------------------------------------\n",
      "Normalized Score: 0.4663568924061184\n",
      "Content: 사용 및 운반의 편리성을 고려하여 7킬로그램 이하로 할 것 . 소화기는 사람이 출입할 수 있는 출입구 환기구, 작업구를 포함한다 부근에 5개 이상 설치 할 것 . 소화기는 바닥면으...\n",
      "--------------------------------------------------\n",
      "Normalized Score: 0.39132916789451905\n",
      "Content: 건설현장의 화재안전성능기준 NF PC   제4조다른 화재안전성능기준과의 관계 건설현장의 임시소방시설 설치 및 관리와 관련하여 이 기준에서 정하지 않은 사항은 개별 화재안전성능기준을...\n",
      "--------------------------------------------------\n",
      "Normalized Score: 0.3611019763768669\n",
      "Content: 소화기구 및 자동소화장치의 화재안전성능기준 N... 바. 작동에 지장이 없도록 견고하게 고정할 것 사. 구획된 장소의 방호체적 이상을 방호할 수 있는 소화성능이 있을 것 . 가스,...\n",
      "--------------------------------------------------\n",
      "Normalized Score: 0.27216003484960566\n",
      "Content: 소화기구 및 자동소화장치의 화재안전성능기준 N... . 능력단위가 2단위 이상이 되도록 소화기를 설치해야 할 특정소방대상물 또는 그 부분에 있 어서는 간이소화용구의 능력단위가 전체...\n",
      "--------------------------------------------------\n",
      "Normalized Score: 0.11447981128825471\n",
      "Content: 소화기구 및 자동소화장치의 화재안전성능기준 N... 바. 작동에 지장이 없도록 견고하게 고정할 것 사. 구획된 장소의 방호체적 이상을 방호할 수 있는 소화성능이 있을 것 . 가스,...\n",
      "--------------------------------------------------\n",
      "Normalized Score: 0.023843791773614776\n",
      "Content: 있는 고체액체 및 기체 의 물질을 말한다. . 소화기란 소화약제를 압력에 따라 방사하는 기구로서 사람이 수동으로 조작하여 소화하 는 다음 각 목의 것을 말한다. 가. 소형소화기란 ...\n",
      "--------------------------------------------------\n",
      "Normalized Score: 0.0\n",
      "Content: 소화기구 및 자동소화장치의 화재안전성능기준 N... . 능력단위가 2단위 이상이 되도록 소화기를 설치해야 할 특정소방대상물 또는 그 부분에 있 어서는 간이소화용구의 능력단위가 전체...\n",
      "--------------------------------------------------\n"
     ]
    }
   ],
   "source": [
    "def normalize_scores(docs_and_scores):\n",
    "    scores = [score for _, score in docs_and_scores]\n",
    "    min_score = min(scores)\n",
    "    max_score = max(scores)\n",
    "    \n",
    "    if min_score == max_score:\n",
    "        return [(doc, 1.0) for doc, _ in docs_and_scores]\n",
    "    \n",
    "    normalized = []\n",
    "    for doc, score in docs_and_scores:\n",
    "        normalized_score = (score - min_score) / (max_score - min_score)\n",
    "        normalized.append((doc, normalized_score))\n",
    "    \n",
    "    return normalized\n",
    "\n",
    "normalized_docs_and_scores = normalize_scores(docs_and_scores)\n",
    "\n",
    "print(\"정규화된 검색 결과 및 점수:\")\n",
    "for doc, score in normalized_docs_and_scores:\n",
    "    print(f\"Normalized Score: {score}\")\n",
    "    print(f\"Content: {doc.page_content[:100]}...\")\n",
    "    print(\"-\" * 50)"
   ]
  },
  {
   "cell_type": "code",
   "execution_count": 21,
   "metadata": {},
   "outputs": [
    {
     "name": "stdout",
     "output_type": "stream",
     "text": [
      "임베딩 벡터의 길이: 768\n",
      "임베딩 벡터의 일부: [-0.5610249638557434, -0.6634182929992676, -0.7814193367958069, -0.43886685371398926, -0.4771650731563568]...\n"
     ]
    }
   ],
   "source": [
    "# Embeddings 클래스 정의\n",
    "class MyEmbeddings(Embeddings):\n",
    "    def __init__(self, model_name=\"bespin-global/klue-sroberta-base-continue-learning-by-mnr\"):\n",
    "        self.model = SentenceTransformer(model_name, device=device)\n",
    "\n",
    "    def embed_documents(self, texts: List[str]) -> List[List[float]]:\n",
    "        embeddings = self.model.encode(texts, convert_to_tensor=True, device=device)\n",
    "        return embeddings.cpu().tolist()\n",
    "\n",
    "    def embed_query(self, text: str) -> List[float]:\n",
    "        return self.embed_documents([text])[0]\n",
    "\n",
    "\n",
    "embeddings = MyEmbeddings()\n",
    "test_text = \"테스트 문장입니다.\"\n",
    "embedding_vector = embeddings.embed_query(test_text)\n",
    "\n",
    "print(f\"임베딩 벡터의 길이: {len(embedding_vector)}\")\n",
    "print(f\"임베딩 벡터의 일부: {embedding_vector[:5]}...\")"
   ]
  },
  {
   "cell_type": "code",
   "execution_count": 32,
   "metadata": {},
   "outputs": [
    {
     "name": "stdout",
     "output_type": "stream",
     "text": [
      "기본 유사도 검색 결과:\n",
      "Content: 편리성을 고려하여 7킬로그램 이하로 할 것 . 소화기는 사람이 출입할 수 있는 출입구 환기구, 작업구를 포함한다 부근에 5개 이상 설치 할 것 . 소화기는 바닥면으로부터 .5미터 ...\n",
      "--------------------------------------------------\n",
      "Content: . 소화기란 소화기구 및 자동소화장치의 화재안전성능기준 NF PC101  제3조제2호에 서 정의하는 소화기를 말한다. . 간이소화장치란 건설현장에서 화재발생 시 신속한 화재 진압이...\n",
      "--------------------------------------------------\n",
      "Content: 시까지 작업지점으로부터  미 터 이내의 쉽게 보이는 장소에 능력단위 3단위 이상인 소화기 2개 이상과 대형소화기 1개 이상을 추가 배치해야 한다. . 소화기라고 표시한 축광식 표지...\n",
      "--------------------------------------------------\n",
      "Content: 사용 및 운반의 편리성을 고려하여 7킬로그램 이하로 할 것 . 소화기는 사람이 출입할 수 있는 출입구 환기구, 작업구를 포함한다 부근에 5개 이상 설치 할 것 . 소화기는 바닥면으...\n",
      "--------------------------------------------------\n",
      "Content: 건설현장의 화재안전성능기준 NF PC   제4조다른 화재안전성능기준과의 관계 건설현장의 임시소방시설 설치 및 관리와 관련하여 이 기준에서 정하지 않은 사항은 개별 화재안전성능기준을...\n",
      "--------------------------------------------------\n"
     ]
    }
   ],
   "source": [
    "docs = client.similarity_search(query, k=5)\n",
    "\n",
    "print(\"기본 유사도 검색 결과:\")\n",
    "for doc in docs:\n",
    "    print(f\"Content: {doc.page_content[:100]}...\")\n",
    "    print(\"-\" * 50)"
   ]
  },
  {
   "cell_type": "code",
   "execution_count": 35,
   "metadata": {},
   "outputs": [
    {
     "data": {
      "text/plain": [
       "[Document(metadata={'author': '', 'creationDate': \"D:20240821042234+09'00'\", 'creator': '', 'file_path': 'file/최신 소방 관계 법령.pdf', 'format': 'PDF 1.4', 'keywords': '', 'modDate': \"D:20240821042234+09'00'\", 'page': 925, 'producer': 'iText 2.1.7 by 1T3XT', 'source': 'file/최신 소방 관계 법령.pdf', 'subject': '', 'title': '', 'total_pages': 2337, 'trapped': ''}, page_content='편리성을 고려하여 7킬로그램 이하로 할 것 . 소화기는 사람이 출입할 수 있는 출입구 환기구, 작업구를 포함한다 부근에 5개 이상 설치 할 것 . 소화기는 바닥면으로부터 .5미터 이하의 높이에 설치할 것 . 소화기의 상부에 소화기라고 표시한 조명식 또는 반사식의 표지판을 부착하여 사용자가 쉽게 알 수'),\n",
       " Document(metadata={'author': '', 'creationDate': \"D:20240821042234+09'00'\", 'creator': '', 'file_path': 'file/최신 소방 관계 법령.pdf', 'format': 'PDF 1.4', 'keywords': '', 'modDate': \"D:20240821042234+09'00'\", 'page': 780, 'producer': 'iText 2.1.7 by 1T3XT', 'source': 'file/최신 소방 관계 법령.pdf', 'subject': '', 'title': '', 'total_pages': 2337, 'trapped': ''}, page_content='보행로를 말한다. 이하 같다 으로부터 .5미터 이하의 높이에 설치할 것 . 소화기구함의 상부에 소화기라고 조명식 또는 반사식의 표지판을 부착하여 사용자가 쉽 게 인지할 수 있도록 할 것 제6조옥내소화전설비 옥내소화전설비는 다음 각 호의 기준에 따라 설치해야 한다. . 소화전함과 방수구는 주행차로 우측'),\n",
       " Document(metadata={'author': '', 'creationDate': \"D:20240821042234+09'00'\", 'creator': '', 'file_path': 'file/최신 소방 관계 법령.pdf', 'format': 'PDF 1.4', 'keywords': '', 'modDate': \"D:20240821042234+09'00'\", 'page': 897, 'producer': 'iText 2.1.7 by 1T3XT', 'source': 'file/최신 소방 관계 법령.pdf', 'subject': '', 'title': '', 'total_pages': 2337, 'trapped': ''}, page_content='. 소화기란 소화기구 및 자동소화장치의 화재안전성능기준 NF PC101  제3조제2호에 서 정의하는 소화기를 말한다. . 간이소화장치란 건설현장에서 화재발생 시 신속한 화재 진압이 가능하도록 물을 방수하 는 형태의 소화장치를 말한다. . 비상경보장치란 발신기, 경종, 표시등 및 시각경보장치가 결합된 형태의 것으로서'),\n",
       " Document(metadata={'author': '', 'creationDate': \"D:20240821042234+09'00'\", 'creator': '', 'file_path': 'file/최신 소방 관계 법령.pdf', 'format': 'PDF 1.4', 'keywords': '', 'modDate': \"D:20240821042234+09'00'\", 'page': 898, 'producer': 'iText 2.1.7 by 1T3XT', 'source': 'file/최신 소방 관계 법령.pdf', 'subject': '', 'title': '', 'total_pages': 2337, 'trapped': ''}, page_content='시까지 작업지점으로부터  미 터 이내의 쉽게 보이는 장소에 능력단위 3단위 이상인 소화기 2개 이상과 대형소화기 1개 이상을 추가 배치해야 한다. . 소화기라고 표시한 축광식 표지를 소화기 설치장소 보기 쉬운 곳에 부착하여야 한다. 제6조간이소화장치의 성능 및 설치기준 간이소화장치의 성능 및 설치기준은'),\n",
       " Document(metadata={'author': '', 'creationDate': \"D:20240821042234+09'00'\", 'creator': '', 'file_path': 'file/최신 소방 관계 법령.pdf', 'format': 'PDF 1.4', 'keywords': '', 'modDate': \"D:20240821042234+09'00'\", 'page': 156, 'producer': 'iText 2.1.7 by 1T3XT', 'source': 'file/최신 소방 관계 법령.pdf', 'subject': '', 'title': '', 'total_pages': 2337, 'trapped': ''}, page_content='각 호 외의 부분에서  소화기 등 대통령령으로 정하 는 소방시설 이란 소화기 및 단독경보형 감지기를 말한다.')]"
      ]
     },
     "execution_count": 35,
     "metadata": {},
     "output_type": "execute_result"
    }
   ],
   "source": [
    "retriever.get_relevant_documents(\"소화기 설치 기준\")"
   ]
  },
  {
   "cell_type": "code",
   "execution_count": 32,
   "metadata": {},
   "outputs": [
    {
     "name": "stderr",
     "output_type": "stream",
     "text": [
      "No relevant docs were retrieved using the relevance score threshold 1e-07\n"
     ]
    }
   ],
   "source": [
    "query = \"소화기\"\n",
    "results = retriever.get_relevant_documents(query)\n",
    "\n",
    "for doc in results:\n",
    "    print(f\"Content: {doc.page_content}\")\n",
    "    print(f\"Score: {doc.metadata['score']}\")\n",
    "    print(\"-\" * 50)"
   ]
  },
  {
   "cell_type": "code",
   "execution_count": null,
   "metadata": {},
   "outputs": [],
   "source": []
  },
  {
   "cell_type": "code",
   "execution_count": null,
   "metadata": {},
   "outputs": [],
   "source": []
  },
  {
   "cell_type": "code",
   "execution_count": null,
   "metadata": {},
   "outputs": [],
   "source": []
  },
  {
   "cell_type": "code",
   "execution_count": null,
   "metadata": {},
   "outputs": [],
   "source": [
    "from transformers import AutoModel, AutoTokenizer\n",
    "\n",
    "# MPS(Apple Silicon GPU)가 사용 가능한지 확인\n",
    "device = torch.device(\"mps\") if torch.backends.mps.is_available() else torch.device(\"cpu\")\n",
    "print(f\"Using device: {device}\")\n",
    "\n",
    "# 토크나이저 초기화\n",
    "tokenizer = AutoTokenizer.from_pretrained('bespin-global/klue-sroberta-base-continue-learning-by-mnr')\n",
    "# tokenizer = PreTrainedTokenizerFast.from_pretrained(\"EbanLee/kobart-summary-v3\")\n",
    "\n",
    "# 텍스트 분할기\n",
    "splitter = RecursiveCharacterTextSplitter(\n",
    "    chunk_size=500, \n",
    "    chunk_overlap=50,\n",
    "    separators=[\"\\n\\n\", \"\\n\", \"(?<=\\. )\", \" \", \"\"],\n",
    "    length_function=lambda text: len(tokenizer.encode(text)),\n",
    ")\n",
    "\n",
    "# Embeddings 클래스 정의\n",
    "class MyEmbeddings(Embeddings):\n",
    "    def __init__(self, model_name=\"bespin-global/klue-sroberta-base-continue-learning-by-mnr\", device=device):\n",
    "        self.model = SentenceTransformer(model_name, device=device)\n",
    "\n",
    "    def embed_documents(self, texts: List[str]) -> List[List[float]]:\n",
    "        embeddings = self.model.encode(texts, convert_to_tensor=True).tolist()\n",
    "        return embeddings\n",
    "\n",
    "    def embed_query(self, text: str) -> List[float]:\n",
    "        return self.embed_documents([text])[0]\n",
    "# 임베딩 모델 설정\n",
    "embedding_model = MyEmbeddings()\n",
    "vectorstore = Chroma(embedding_function=embedding_model)\n",
    "\n",
    "file_name = \"최신 소방 관계 법령.pdf\"\n",
    "\n",
    "# PDF 파일 로더로 파일 읽기\n",
    "loader = PyMuPDFLoader('file/' + file_name)\n",
    "document = loader.load()\n",
    "\n",
    "# 텍스트 분할\n",
    "docs_split = splitter.split_documents(document)\n",
    "\n",
    "# 분할된 문서를 벡터 저장소에 추가\n",
    "vectorstore.add_documents(docs_split)\n",
    "\n",
    "print(\"All documents processed and Chroma Vectorstore created successfully.\")"
   ]
  },
  {
   "cell_type": "code",
   "execution_count": 12,
   "metadata": {},
   "outputs": [],
   "source": [
    "retriever = vectorstore.as_retriever(search_kwargs={'k': 3})"
   ]
  },
  {
   "cell_type": "code",
   "execution_count": null,
   "metadata": {},
   "outputs": [],
   "source": [
    "retriever.get_relevant_documents(\"소방법에서 소화기란 어떤것인가요?\")"
   ]
  },
  {
   "cell_type": "code",
   "execution_count": null,
   "metadata": {},
   "outputs": [],
   "source": [
    "# MPS(Apple Silicon GPU)가 사용 가능한지 확인\n",
    "device = torch.device(\"mps\") if torch.backends.mps.is_available() else torch.device(\"cpu\")\n",
    "print(f\"Using device: {device}\")\n",
    "\n",
    "# PDF 파일이 있는 디렉토리\n",
    "pdf_dir = \"file/현행법령/\"\n",
    "\n",
    "# 벡터 저장소 경로\n",
    "vectorstore_path = 'file/law_vectorstore_test'\n",
    "\n",
    "# 기존 Chroma 벡터 저장소 삭제 (처음부터 새로 저장하기 위해)\n",
    "if os.path.exists(vectorstore_path):\n",
    "    print(\"Removing existing Chroma vectorstore...\")\n",
    "    shutil.rmtree(vectorstore_path)\n",
    "\n",
    "# 새로 저장소 디렉토리 생성\n",
    "os.makedirs(vectorstore_path, exist_ok=True)\n",
    "\n",
    "# 토크나이저 초기화\n",
    "tokenizer = AutoTokenizer.from_pretrained('sentence-transformers/paraphrase-multilingual-MiniLM-L12-v2')\n",
    "\n",
    "# 텍스트 분할기\n",
    "splitter = RecursiveCharacterTextSplitter(\n",
    "    chunk_size=256, \n",
    "    chunk_overlap=20,\n",
    "    separators=[\"\\n\\n\", \"\\n\", \"(?<=\\. )\", \" \", \"\"],\n",
    "    length_function=lambda text: len(tokenizer.encode(text)),\n",
    ")\n",
    "\n",
    "\n",
    "# 새로 Chroma 벡터 저장소 생성\n",
    "print(\"Creating new Chroma vectorstore...\")\n",
    "vectorstore = Chroma(persist_directory=vectorstore_path, embedding_function=embedding_model)\n",
    "\n",
    "file_name = \"도로교통법(법률)(제19745호)(20241025).pdf\"\n",
    "\n",
    "pdf_path = pdf_dir + file_name\n",
    "\n",
    "# PDF 파일 로더로 파일 읽기\n",
    "loader = PyMuPDFLoader(pdf_path)\n",
    "document = loader.load()\n",
    "\n",
    "# 텍스트 분할\n",
    "docs_split = splitter.split_documents(document)\n",
    "\n",
    "# 분할된 문서를 벡터 저장소에 추가\n",
    "vectorstore.add_documents(docs_split)\n",
    "\n",
    "# 벡터 저장소 업데이트\n",
    "vectorstore.persist()\n",
    "\n",
    "print(\"All documents processed and Chroma Vectorstore created successfully.\")"
   ]
  },
  {
   "cell_type": "code",
   "execution_count": null,
   "metadata": {},
   "outputs": [],
   "source": []
  },
  {
   "cell_type": "code",
   "execution_count": null,
   "metadata": {},
   "outputs": [],
   "source": []
  },
  {
   "cell_type": "code",
   "execution_count": null,
   "metadata": {},
   "outputs": [],
   "source": [
    "import torch\n",
    "from langchain.text_splitter import RecursiveCharacterTextSplitter\n",
    "from langchain.document_loaders import PyMuPDFLoader\n",
    "from langchain.embeddings import HuggingFaceEmbeddings\n",
    "from langchain_core.embeddings import Embeddings\n",
    "from langchain.vectorstores import Chroma\n",
    "from sentence_transformers import SentenceTransformer\n",
    "from typing import List\n",
    "from transformers import AutoTokenizer\n",
    "\n",
    "# MPS(Apple Silicon GPU)가 사용 가능한지 확인\n",
    "device = torch.device(\"mps\") if torch.backends.mps.is_available() else torch.device(\"cpu\")\n",
    "print(f\"Using device: {device}\")\n",
    "\n",
    "# PDF 파일이 있는 디렉토리\n",
    "pdf_dir = \"file/현행법령/\"\n",
    "file_name = \"도로교통법(법률)(제19745호)(20241025).pdf\"\n",
    "pdf_path = pdf_dir + file_name\n",
    "\n",
    "# 토크나이저 초기화\n",
    "tokenizer = AutoTokenizer.from_pretrained('sentence-transformers/paraphrase-multilingual-MiniLM-L12-v2')\n",
    "\n",
    "# 텍스트 분할기\n",
    "splitter = RecursiveCharacterTextSplitter(\n",
    "    chunk_size=256, \n",
    "    chunk_overlap=20,\n",
    "    separators=[\"\\n\\n\", \"\\n\", \"(?<=\\. )\", \" \", \"\"],\n",
    "    length_function=lambda text: len(tokenizer.encode(text)),\n",
    ")\n",
    "\n",
    "# Embeddings 클래스 정의\n",
    "class MyEmbeddings(Embeddings):\n",
    "    def __init__(self, model_name=\"sentence-transformers/paraphrase-multilingual-MiniLM-L12-v2\"):\n",
    "        self.model = SentenceTransformer(model_name, device=device)\n",
    "\n",
    "    def embed_documents(self, texts: List[str]) -> List[List[float]]:\n",
    "        embeddings = self.model.encode(texts, convert_to_tensor=True, device=device)\n",
    "        return embeddings.cpu().tolist()\n",
    "\n",
    "    def embed_query(self, text: str) -> List[float]:\n",
    "        return self.embed_documents([text])[0]\n",
    "\n",
    "# 임베딩 모델 설정\n",
    "embedding_model = MyEmbeddings()\n",
    "vectorstore = Chroma(embedding_function=embedding_model)\n",
    "\n",
    "# PDF 파일 로더로 파일 읽기\n",
    "loader = PyMuPDFLoader(pdf_path)\n",
    "document = loader.load()\n",
    "\n",
    "# 텍스트 분할\n",
    "docs_split = splitter.split_documents(document)\n",
    "\n",
    "# 분할된 문서를 벡터 저장소에 추가\n",
    "vectorstore.add_documents(docs_split)\n",
    "\n",
    "print(\"All documents processed and in-memory Chroma Vectorstore created successfully.\")\n",
    "\n",
    "# 예시 쿼리로 테스트\n",
    "query = \"\"\n",
    "results = vectorstore.similarity_search(query, k=3)\n",
    "\n",
    "print(\"\\nResults from the query:\")\n",
    "for doc in results:\n",
    "    print(doc.page_content[:100] + \"...\")"
   ]
  },
  {
   "cell_type": "code",
   "execution_count": 5,
   "metadata": {},
   "outputs": [],
   "source": [
    "retriever = vectorstore.as_retriever(k_wargs={'k' : 5})\n",
    "result = vectorstore.similarity_search(query, k = 5)"
   ]
  },
  {
   "cell_type": "code",
   "execution_count": null,
   "metadata": {},
   "outputs": [],
   "source": [
    "retriever.get_relevant_documents(\"음주 운전\")[0].page_content"
   ]
  },
  {
   "cell_type": "code",
   "execution_count": null,
   "metadata": {},
   "outputs": [],
   "source": []
  },
  {
   "cell_type": "code",
   "execution_count": null,
   "metadata": {},
   "outputs": [],
   "source": []
  },
  {
   "cell_type": "code",
   "execution_count": null,
   "metadata": {},
   "outputs": [],
   "source": []
  },
  {
   "cell_type": "code",
   "execution_count": null,
   "metadata": {},
   "outputs": [],
   "source": []
  }
 ],
 "metadata": {
  "kernelspec": {
   "display_name": "dl",
   "language": "python",
   "name": "python3"
  },
  "language_info": {
   "codemirror_mode": {
    "name": "ipython",
    "version": 3
   },
   "file_extension": ".py",
   "mimetype": "text/x-python",
   "name": "python",
   "nbconvert_exporter": "python",
   "pygments_lexer": "ipython3",
   "version": "3.9.19"
  }
 },
 "nbformat": 4,
 "nbformat_minor": 2
}
