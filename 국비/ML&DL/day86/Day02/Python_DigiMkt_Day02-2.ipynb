{
 "cells": [
  {
   "cell_type": "markdown",
   "id": "07cbc861",
   "metadata": {},
   "source": [
    "# 파이썬 활용 디지털마케팅 데이터분석 및 기획"
   ]
  },
  {
   "cell_type": "markdown",
   "id": "ccac7c59",
   "metadata": {},
   "source": [
    "# Today's mission\n",
    "\n",
    "- 데이터 분석을 위한 판다스 리뷰  \n",
    "  (데이터프레임 생성, 인덱스, 필터, 행 삭제/추가, GroupBy, NA, concat 등)\n",
    "- 판다스 날짜와 시간 다루기  \n",
    "  (날짜와 시간, 날짜 변환, 시간대 다루기, 특성 나누기, 차이 계산 등)"
   ]
  },
  {
   "cell_type": "markdown",
   "id": "c36accff",
   "metadata": {},
   "source": [
    "]"
   ]
  },
  {
   "cell_type": "markdown",
   "id": "b8df74e6",
   "metadata": {},
   "source": [
    "## Day02-2A 판다스 날짜와 시간 다루기"
   ]
  },
  {
   "cell_type": "markdown",
   "id": "dae11f15",
   "metadata": {},
   "source": [
    "### 문자열을 날짜로 변환하기"
   ]
  },
  {
   "cell_type": "code",
   "execution_count": null,
   "id": "14d97e11",
   "metadata": {},
   "outputs": [],
   "source": [
    "# 라이브러리를 임포트합니다.\n",
    "import numpy as np\n",
    "import pandas as pd"
   ]
  },
  {
   "cell_type": "code",
   "execution_count": null,
   "id": "76485879",
   "metadata": {},
   "outputs": [],
   "source": [
    "# 문자열을 만듭니다.\n",
    "date_strings = np.array(['03-04-2005 11:35 PM',\n",
    "                         '23-05-2010 12:01 AM',\n",
    "                         '04-09-2009 09:09 PM'])"
   ]
  },
  {
   "cell_type": "code",
   "execution_count": null,
   "id": "dc7674e7",
   "metadata": {},
   "outputs": [],
   "source": [
    "# Timestamp 객체로 바꿉니다.\n",
    "[pd.to_datetime(date, format='%d-%m-%Y %I:%M %p') for date in date_strings]"
   ]
  },
  {
   "cell_type": "code",
   "execution_count": null,
   "id": "52bf355b",
   "metadata": {},
   "outputs": [],
   "source": [
    "# datetime으로 바꿉니다.\n",
    "[pd.to_datetime(date, format=\"%d-%m-%Y %I:%M %p\", errors=\"ignore\")\n",
    "for date in date_strings]"
   ]
  },
  {
   "cell_type": "markdown",
   "id": "88e256db",
   "metadata": {},
   "source": [
    "**참고**"
   ]
  },
  {
   "cell_type": "code",
   "execution_count": null,
   "id": "e073d04f",
   "metadata": {},
   "outputs": [],
   "source": [
    "date_strings"
   ]
  },
  {
   "cell_type": "code",
   "execution_count": null,
   "id": "93bff682",
   "metadata": {},
   "outputs": [],
   "source": [
    "pd.to_datetime(date_strings)"
   ]
  },
  {
   "cell_type": "markdown",
   "id": "68ad1d18",
   "metadata": {},
   "source": [
    "### 시간대 다루기"
   ]
  },
  {
   "cell_type": "code",
   "execution_count": null,
   "id": "30071557",
   "metadata": {},
   "outputs": [],
   "source": [
    "# 라이브러리를 임포트합니다.\n",
    "import pandas as pd"
   ]
  },
  {
   "cell_type": "code",
   "execution_count": null,
   "id": "3618d770",
   "metadata": {},
   "outputs": [],
   "source": [
    "# datetime을 만듭니다.\n",
    "pd.Timestamp('2017-05-01 06:00:00', tz='Europe/London')"
   ]
  },
  {
   "cell_type": "code",
   "execution_count": null,
   "id": "28b6e1e3",
   "metadata": {},
   "outputs": [],
   "source": [
    "# datetime을 만듭니다. \n",
    "date = pd.Timestamp('2017-05-01 06:00:00')"
   ]
  },
  {
   "cell_type": "code",
   "execution_count": null,
   "id": "a6118b56",
   "metadata": {},
   "outputs": [],
   "source": [
    "# 시간대를 지정합니다.\n",
    "date_in_london = date.tz_localize('Europe/London')"
   ]
  },
  {
   "cell_type": "code",
   "execution_count": null,
   "id": "8a5a857b",
   "metadata": {},
   "outputs": [],
   "source": [
    "# datetime을 확인합니다.\n",
    "date_in_london"
   ]
  },
  {
   "cell_type": "code",
   "execution_count": null,
   "id": "3b3e962c",
   "metadata": {},
   "outputs": [],
   "source": [
    "# 시간대를 바꿉니다.\n",
    "date_in_london.tz_convert('Africa/Abidjan')"
   ]
  },
  {
   "cell_type": "code",
   "execution_count": null,
   "id": "d9f304e5",
   "metadata": {},
   "outputs": [],
   "source": [
    "# 세 개의 날짜를 만듭니다.\"M\"은 \"월별 말일\" \n",
    "dates = pd.Series(pd.date_range('2/2/2002', periods=3, freq='M'))"
   ]
  },
  {
   "cell_type": "code",
   "execution_count": null,
   "id": "756b18be",
   "metadata": {},
   "outputs": [],
   "source": [
    "#pd.date_range('2/2/2002', periods=3, freq='M')"
   ]
  },
  {
   "cell_type": "code",
   "execution_count": null,
   "id": "eedae0de",
   "metadata": {},
   "outputs": [],
   "source": [
    "dates"
   ]
  },
  {
   "cell_type": "code",
   "execution_count": null,
   "id": "4e251075",
   "metadata": {},
   "outputs": [],
   "source": [
    "# 시간대를 지정합니다.\n",
    "dates.dt.tz_localize('Africa/Abidjan')"
   ]
  },
  {
   "cell_type": "code",
   "execution_count": null,
   "id": "babfe0ab",
   "metadata": {},
   "outputs": [],
   "source": [
    "# 라이브러리를 임포트합니다.\n",
    "from pytz import all_timezones"
   ]
  },
  {
   "cell_type": "code",
   "execution_count": null,
   "id": "215676a8",
   "metadata": {},
   "outputs": [],
   "source": [
    "# 두 개의 시간대를 확인합니다.\n",
    "all_timezones[0:2]"
   ]
  },
  {
   "cell_type": "markdown",
   "id": "7eb9d99d",
   "metadata": {},
   "source": [
    "**참고**"
   ]
  },
  {
   "cell_type": "code",
   "execution_count": null,
   "id": "d1bf03be",
   "metadata": {},
   "outputs": [],
   "source": [
    "dates.dt.tz_localize('dateutil/Asia/Seoul')"
   ]
  },
  {
   "cell_type": "code",
   "execution_count": null,
   "id": "92b703fe",
   "metadata": {},
   "outputs": [],
   "source": [
    "import pytz"
   ]
  },
  {
   "cell_type": "code",
   "execution_count": null,
   "id": "15c06135",
   "metadata": {},
   "outputs": [],
   "source": [
    "tz = pytz.timezone('Asia/Seoul')\n",
    "dates.dt.tz_localize(tz)"
   ]
  },
  {
   "cell_type": "markdown",
   "id": "d34e5227",
   "metadata": {},
   "source": [
    "### 날짜와 시간 선택"
   ]
  },
  {
   "cell_type": "code",
   "execution_count": null,
   "id": "65d51ed9",
   "metadata": {},
   "outputs": [],
   "source": [
    "# 라이브러리를 임포트합니다.\n",
    "import pandas as pd"
   ]
  },
  {
   "cell_type": "code",
   "execution_count": null,
   "id": "46323f7b",
   "metadata": {},
   "outputs": [],
   "source": [
    "# 데이터프레임을 만듭니다.\n",
    "dataframe = pd.DataFrame()"
   ]
  },
  {
   "cell_type": "code",
   "execution_count": null,
   "id": "0fe9fcdd",
   "metadata": {},
   "outputs": [],
   "source": [
    "# datetime을 만듭니다.\n",
    "dataframe['date'] = pd.date_range('1/1/2001', periods=100000, freq='H')"
   ]
  },
  {
   "cell_type": "code",
   "execution_count": null,
   "id": "e4c17737",
   "metadata": {},
   "outputs": [],
   "source": [
    "# 두 datetime 사이의 샘플을 선택합니다.\n",
    "dataframe[(dataframe['date'] > '2002-1-1 01:00:00') &\n",
    "          (dataframe['date'] <= '2002-1-1 04:00:00')]"
   ]
  },
  {
   "cell_type": "code",
   "execution_count": null,
   "id": "d493c5b7",
   "metadata": {},
   "outputs": [],
   "source": [
    "# 인덱스를 설정합니다.\n",
    "dataframe = dataframe.set_index(dataframe['date'])"
   ]
  },
  {
   "cell_type": "code",
   "execution_count": null,
   "id": "eaad2874",
   "metadata": {},
   "outputs": [],
   "source": [
    "# 두 datetime 사이 샘플을 선택합니다.\n",
    "dataframe.loc['2002-1-1 01:00:00':'2002-1-1 04:00:00']"
   ]
  },
  {
   "cell_type": "markdown",
   "id": "2a00554c",
   "metadata": {},
   "source": [
    "### 날짜 데이터를 여러 특성으로 나누기"
   ]
  },
  {
   "cell_type": "code",
   "execution_count": null,
   "id": "ac10b784",
   "metadata": {},
   "outputs": [],
   "source": [
    "# 라이브러리를 임포트합니다.\n",
    "import pandas as pd"
   ]
  },
  {
   "cell_type": "code",
   "execution_count": null,
   "id": "eb1ab493",
   "metadata": {},
   "outputs": [],
   "source": [
    "# 데이터프레임을 만듭니다.\n",
    "dataframe = pd.DataFrame()"
   ]
  },
  {
   "cell_type": "code",
   "execution_count": null,
   "id": "45cb422d",
   "metadata": {},
   "outputs": [],
   "source": [
    "# 다섯 개의 날짜를 만듭니다.\n",
    "dataframe['date'] = pd.date_range('1/1/2001', periods=150, freq='W')"
   ]
  },
  {
   "cell_type": "code",
   "execution_count": null,
   "id": "cf7bd76b",
   "metadata": {},
   "outputs": [],
   "source": [
    "# 년, 월, 일, 시, 분에 대한 특성을 만듭니다.\n",
    "dataframe['year'] = dataframe['date'].dt.year\n",
    "dataframe['month'] = dataframe['date'].dt.month\n",
    "dataframe['day'] = dataframe['date'].dt.day\n",
    "dataframe['hour'] = dataframe['date'].dt.hour\n",
    "dataframe['minute'] = dataframe['date'].dt.minute"
   ]
  },
  {
   "cell_type": "code",
   "execution_count": null,
   "id": "7c14dfc1",
   "metadata": {},
   "outputs": [],
   "source": [
    "# 세 개의 행을 확인합니다.\n",
    "dataframe.head(3)"
   ]
  },
  {
   "cell_type": "markdown",
   "id": "530986b6",
   "metadata": {},
   "source": [
    "### 날짜 간의 차이를 계산하기"
   ]
  },
  {
   "cell_type": "code",
   "execution_count": null,
   "id": "00b225e0",
   "metadata": {},
   "outputs": [],
   "source": [
    "# 라이브러리를 임포트합니다.\n",
    "import pandas as pd"
   ]
  },
  {
   "cell_type": "code",
   "execution_count": null,
   "id": "fec9e442",
   "metadata": {},
   "outputs": [],
   "source": [
    "# 데이터프레임을 만듭니다.\n",
    "dataframe = pd.DataFrame()"
   ]
  },
  {
   "cell_type": "code",
   "execution_count": null,
   "id": "6ccd0448",
   "metadata": {},
   "outputs": [],
   "source": [
    "# 두 datetime 특성을 만듭니다.\n",
    "dataframe['Arrived'] = [pd.Timestamp('01-01-2017'), pd.Timestamp('01-04-2017')]\n",
    "dataframe['Left'] = [pd.Timestamp('01-01-2017'), pd.Timestamp('01-06-2017')]"
   ]
  },
  {
   "cell_type": "code",
   "execution_count": null,
   "id": "44c5e00b",
   "metadata": {},
   "outputs": [],
   "source": [
    "# 특성 사이의 차이를 계산합니다.\n",
    "dataframe['Left'] - dataframe['Arrived']"
   ]
  },
  {
   "cell_type": "code",
   "execution_count": null,
   "id": "28e7eb74",
   "metadata": {},
   "outputs": [],
   "source": [
    "# 특성 간의 기간을 계산합니다.\n",
    "pd.Series(delta.days for delta in (dataframe['Left'] - dataframe['Arrived']))"
   ]
  },
  {
   "cell_type": "markdown",
   "id": "2f39b001",
   "metadata": {},
   "source": [
    "### 요일을 인코딩하기"
   ]
  },
  {
   "cell_type": "code",
   "execution_count": null,
   "id": "8b8cb55a",
   "metadata": {},
   "outputs": [],
   "source": [
    "# 라이브러리를 임포트합니다.\n",
    "import pandas as pd"
   ]
  },
  {
   "cell_type": "code",
   "execution_count": null,
   "id": "43c6de3a",
   "metadata": {},
   "outputs": [],
   "source": [
    "# 시리즈 객체를 만듭니다.\n",
    "dates = pd.Series(pd.date_range(\"2/2/2002\", periods=3, freq=\"M\"))"
   ]
  },
  {
   "cell_type": "code",
   "execution_count": null,
   "id": "4c4c06aa",
   "metadata": {},
   "outputs": [],
   "source": [
    "# 요일을 확인합니다.\n",
    "dates.dt.day_name()"
   ]
  },
  {
   "cell_type": "code",
   "execution_count": null,
   "id": "6f91ecce",
   "metadata": {},
   "outputs": [],
   "source": [
    "# 요일을 확인합니다.\n",
    "dates.dt.weekday"
   ]
  },
  {
   "cell_type": "markdown",
   "id": "8d56bafc",
   "metadata": {},
   "source": [
    "### 시차 특성 만들기"
   ]
  },
  {
   "cell_type": "code",
   "execution_count": null,
   "id": "054dfc28",
   "metadata": {},
   "outputs": [],
   "source": [
    "# 라이브러리를 임포트합니다.\n",
    "import pandas as pd"
   ]
  },
  {
   "cell_type": "code",
   "execution_count": null,
   "id": "71b86e91",
   "metadata": {},
   "outputs": [],
   "source": [
    "# 데이터프레임을 만듭니다.\n",
    "dataframe = pd.DataFrame()"
   ]
  },
  {
   "cell_type": "code",
   "execution_count": null,
   "id": "6808882e",
   "metadata": {},
   "outputs": [],
   "source": [
    "# 날짜를 만듭니다.\n",
    "dataframe[\"dates\"] = pd.date_range(\"1/1/2001\", periods=5, freq=\"D\")\n",
    "dataframe[\"stock_price\"] = [1.1,2.2,3.3,4.4,5.5]"
   ]
  },
  {
   "cell_type": "code",
   "execution_count": null,
   "id": "c856dc1b",
   "metadata": {},
   "outputs": [],
   "source": [
    "# 한 행 뒤의 값을 가져옵니다.\n",
    "dataframe[\"previous_days_stock_price\"] = dataframe[\"stock_price\"].shift(1)"
   ]
  },
  {
   "cell_type": "code",
   "execution_count": null,
   "id": "8150a40a",
   "metadata": {},
   "outputs": [],
   "source": [
    "# 데이터프레임을 확인합니다.\n",
    "dataframe"
   ]
  },
  {
   "cell_type": "markdown",
   "id": "14cd1e52",
   "metadata": {},
   "source": [
    "### 이동 시간 윈도 사용하기"
   ]
  },
  {
   "cell_type": "code",
   "execution_count": null,
   "id": "87a9f078",
   "metadata": {},
   "outputs": [],
   "source": [
    "# 라이브러리를 임포트합니다.\n",
    "import pandas as pd"
   ]
  },
  {
   "cell_type": "code",
   "execution_count": null,
   "id": "09378d08",
   "metadata": {},
   "outputs": [],
   "source": [
    "# datetime을 만듭니다.\n",
    "time_index = pd.date_range(\"01/01/2010\", periods=5, freq=\"M\")"
   ]
  },
  {
   "cell_type": "code",
   "execution_count": null,
   "id": "dcfad293",
   "metadata": {},
   "outputs": [],
   "source": [
    "# 데이터프레임을 만들고 인덱스를 설정합니다.\n",
    "dataframe = pd.DataFrame(index=time_index)"
   ]
  },
  {
   "cell_type": "code",
   "execution_count": null,
   "id": "2ef12de1",
   "metadata": {},
   "outputs": [],
   "source": [
    "# 특성을 만듭니다.\n",
    "dataframe[\"Stock_Price\"] = [1,2,3,4,5]"
   ]
  },
  {
   "cell_type": "code",
   "execution_count": null,
   "id": "5a302ced",
   "metadata": {},
   "outputs": [],
   "source": [
    "# 이동 평균을 계산합니다.\n",
    "dataframe.rolling(window=2).mean()"
   ]
  },
  {
   "cell_type": "markdown",
   "id": "4c7851fb",
   "metadata": {},
   "source": [
    "**참고**"
   ]
  },
  {
   "cell_type": "code",
   "execution_count": null,
   "id": "b6554871",
   "metadata": {},
   "outputs": [],
   "source": [
    "dataframe.ewm(alpha=0.5).mean()"
   ]
  },
  {
   "cell_type": "markdown",
   "id": "04389379",
   "metadata": {},
   "source": [
    "### 시계열 데이터에서 누락된 값 다루기"
   ]
  },
  {
   "cell_type": "code",
   "execution_count": null,
   "id": "c0d41c04",
   "metadata": {},
   "outputs": [],
   "source": [
    "# 라이브러리를 임포트합니다.\n",
    "import pandas as pd\n",
    "import numpy as np"
   ]
  },
  {
   "cell_type": "code",
   "execution_count": null,
   "id": "ef339328",
   "metadata": {},
   "outputs": [],
   "source": [
    "# 날짜를 만듭니다.\n",
    "time_index = pd.date_range(\"01/01/2010\", periods=5, freq=\"M\")"
   ]
  },
  {
   "cell_type": "code",
   "execution_count": null,
   "id": "9742cf22",
   "metadata": {},
   "outputs": [],
   "source": [
    "# 데이터프레임을 만들고 인덱스를 지정합니다.\n",
    "dataframe = pd.DataFrame(index=time_index)"
   ]
  },
  {
   "cell_type": "code",
   "execution_count": null,
   "id": "179e327b",
   "metadata": {},
   "outputs": [],
   "source": [
    "# 누락된 값이 있는 특성을 만듭니다.\n",
    "dataframe[\"Sales\"] = [1.0,2.0,np.nan,np.nan,5.0]"
   ]
  },
  {
   "cell_type": "code",
   "execution_count": null,
   "id": "2c2d035f",
   "metadata": {},
   "outputs": [],
   "source": [
    "dataframe"
   ]
  },
  {
   "cell_type": "code",
   "execution_count": null,
   "id": "2c556ca5",
   "metadata": {},
   "outputs": [],
   "source": [
    "# 누락된 값을 보간합니다.\n",
    "dataframe.interpolate()"
   ]
  },
  {
   "cell_type": "code",
   "execution_count": null,
   "id": "164a11b8",
   "metadata": {},
   "outputs": [],
   "source": [
    "# 앞쪽으로 채우기(Forward-fill)\n",
    "dataframe.ffill()"
   ]
  },
  {
   "cell_type": "code",
   "execution_count": null,
   "id": "dcaca918",
   "metadata": {},
   "outputs": [],
   "source": [
    "# 뒤쪽으로 채우기(Back-fill)\n",
    "dataframe.bfill()"
   ]
  },
  {
   "cell_type": "code",
   "execution_count": null,
   "id": "a65dbe27",
   "metadata": {},
   "outputs": [],
   "source": [
    "# 누락된 값을 보간하기\n",
    "dataframe.interpolate(method=\"quadratic\")"
   ]
  },
  {
   "cell_type": "code",
   "execution_count": null,
   "id": "228a7587",
   "metadata": {},
   "outputs": [],
   "source": [
    "# 누락된 값을 보간하기\n",
    "# 연속적으로 결측값을 보간하는 개수를 'limit=1'을 사용해서 제한해보겠습니다\n",
    "# limit_direction='backward' 로 설정해주면 보간해주는 방향이 밑에서 위로 올라가면서 해주게 됩니다.\n",
    "# 아무런 설정을 안해주면 default 로 limit_direction='forward' 설정됨.  limit_direction='both' 도 있음\n",
    "dataframe.interpolate(limit=1, limit_direction=\"forward\")"
   ]
  },
  {
   "cell_type": "code",
   "execution_count": null,
   "id": "c7937814",
   "metadata": {},
   "outputs": [],
   "source": []
  }
 ],
 "metadata": {
  "kernelspec": {
   "display_name": "Python 3 (ipykernel)",
   "language": "python",
   "name": "python3"
  },
  "language_info": {
   "codemirror_mode": {
    "name": "ipython",
    "version": 3
   },
   "file_extension": ".py",
   "mimetype": "text/x-python",
   "name": "python",
   "nbconvert_exporter": "python",
   "pygments_lexer": "ipython3",
   "version": "3.11.5"
  },
  "toc": {
   "base_numbering": 1,
   "nav_menu": {},
   "number_sections": true,
   "sideBar": true,
   "skip_h1_title": true,
   "title_cell": "Table of Contents",
   "title_sidebar": "Contents",
   "toc_cell": false,
   "toc_position": {
    "height": "calc(100% - 180px)",
    "left": "10px",
    "top": "150px",
    "width": "236.667px"
   },
   "toc_section_display": true,
   "toc_window_display": true
  }
 },
 "nbformat": 4,
 "nbformat_minor": 5
}
