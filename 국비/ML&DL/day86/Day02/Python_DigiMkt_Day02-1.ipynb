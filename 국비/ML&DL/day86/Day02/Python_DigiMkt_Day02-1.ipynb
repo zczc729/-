{
 "cells": [
  {
   "cell_type": "markdown",
   "id": "07cbc861",
   "metadata": {},
   "source": [
    "# 파이썬 활용 디지털마케팅 데이터분석 및 기획"
   ]
  },
  {
   "cell_type": "markdown",
   "id": "ccac7c59",
   "metadata": {},
   "source": [
    "# Today's mission\n",
    "\n",
    "- 데이터 분석을 위한 판다스 리뷰  \n",
    "  (데이터프레임 생성, 인덱스, 필터, 행 삭제/추가, GroupBy, NA, concat 등)\n",
    "- 판다스 날짜와 시간 다루기  \n",
    "  (날짜와 시간, 날짜 변환, 시간대 다루기, 특성 나누기, 차이 계산 등)"
   ]
  },
  {
   "cell_type": "markdown",
   "id": "c36accff",
   "metadata": {},
   "source": [
    "]"
   ]
  },
  {
   "cell_type": "markdown",
   "id": "9f617258",
   "metadata": {},
   "source": [
    "## Day02-1A 데이터 분석을 위한 판다스 리뷰"
   ]
  },
  {
   "cell_type": "markdown",
   "id": "3a1a2ae7",
   "metadata": {},
   "source": [
    "### 판다스(Pandas)란?\n",
    "\n",
    "  - 참고 : [10 minutes to pandas](https://pandas.pydata.org/pandas-docs/stable/user_guide/10min.html) (따라해 볼 것을 추천 : 1권 읽는 효과 )\n",
    "\n",
    "[판다스(Pandas)](https://pandas.pydata.org)는 파이썬에서 데이터분석을 위해 사용하는 패키지(Package) 중 하나  \n",
    "( \"파이썬으로 엑셀과 같은 파일을 다루기에 최적화된 도구\" )\n",
    "\n",
    "*판다스 장점 :*\n",
    "\n",
    "  1. 대용량 데이터를 효율적으로 다룰 수 있다. \n",
    "  - 엑셀은 데이터의 용량이 100MB만 넘어가면 정상적으로 작동하지 않는데, 판다스는 최소 1GB, 많으면 100GB가 넘는 데이터도 빠른 속도로 처리\n",
    "  \n",
    "  2. 복잡한 기능을 구현할 때는 엑셀보다 더 쉽습니다. \n",
    "  - 엑셀은 복잡한 기능을 엑셀 전용 함수를 사용하는데, 판다스는 파이썬을 기반으로 동작하기 때문에 엑셀보다 더 쉽다\n",
    "  \n",
    "  3. 다른 시스템과 연동하기 쉽습니다. \n",
    "  - 엑셀은 분석 결과를 데이터베이스에 집어넣거나 웹 페이지에 띄우는 일을 하기 어렵지만, 판다스는 플라스크([Flask](http://flask.pocoo.org/), 웹 프레임워크)나 SQL알케미([SQL Alchemy](https://www.sqlalchemy.org/), 데이터베이스)를 통해 다른 시스템과 연동하기 편함\n",
    "\n",
    "*판다스의 기본적인 룰 몇 가지만 숙지하면, 적은 문법 만으로도 굉장히 다양하고 창의적인 방식으로 엑셀(또는 CSV) 파일을 다룰 수 있다.*"
   ]
  },
  {
   "cell_type": "markdown",
   "id": "2079ddb7",
   "metadata": {},
   "source": [
    "]"
   ]
  },
  {
   "cell_type": "markdown",
   "id": "cfb95f6d",
   "metadata": {},
   "source": [
    "### 판다스로 데이터 처음 불러오기\n",
    "\n",
    "데이터 분석 및 가공에 사용되는 파이썬 라이브러리입니다"
   ]
  },
  {
   "cell_type": "code",
   "execution_count": null,
   "id": "fbd85910",
   "metadata": {},
   "outputs": [],
   "source": [
    "import pandas as pd"
   ]
  },
  {
   "cell_type": "code",
   "execution_count": null,
   "id": "697efd2e",
   "metadata": {},
   "outputs": [],
   "source": [
    " pd.read_csv('data/friend_list.csv')"
   ]
  },
  {
   "cell_type": "code",
   "execution_count": null,
   "id": "66a30ec4",
   "metadata": {},
   "outputs": [],
   "source": [
    "data_frame = pd.read_csv('data/friend_list.csv')"
   ]
  },
  {
   "cell_type": "code",
   "execution_count": null,
   "id": "e58c8f70",
   "metadata": {},
   "outputs": [],
   "source": [
    "data_frame"
   ]
  },
  {
   "cell_type": "markdown",
   "id": "90cd2047",
   "metadata": {},
   "source": [
    "### 데이터프레임은 무엇인가요?\n",
    "가로축과 세로축이 있는 엑셀과 유사한 데이터구조입니다. 가로축은 로우(행), 세로축은 컬럼(열)이라고 합니다."
   ]
  },
  {
   "cell_type": "code",
   "execution_count": null,
   "id": "957ede07",
   "metadata": {},
   "outputs": [],
   "source": [
    "# 데이터프레임이 가지고 있는 함수의 예제입니다.\n",
    "data_frame.head()"
   ]
  },
  {
   "cell_type": "markdown",
   "id": "64083aaf",
   "metadata": {},
   "source": [
    "### 시리즈는 무엇인가요?\n",
    "데이터프레임의 컬럼(열)은 모두 시리즈입니다. 위의 예제는 3개의 시리즈로 구성된 데이터프레임입니다."
   ]
  },
  {
   "cell_type": "code",
   "execution_count": null,
   "id": "6d0101b7",
   "metadata": {},
   "outputs": [],
   "source": [
    "data_frame.job"
   ]
  },
  {
   "cell_type": "code",
   "execution_count": null,
   "id": "bb4a2427",
   "metadata": {},
   "outputs": [],
   "source": [
    "type(data_frame.job)"
   ]
  },
  {
   "cell_type": "code",
   "execution_count": null,
   "id": "f01eb887",
   "metadata": {},
   "outputs": [],
   "source": [
    "data_frame.job.str.upper()"
   ]
  },
  {
   "cell_type": "code",
   "execution_count": null,
   "id": "9b6c0443",
   "metadata": {},
   "outputs": [],
   "source": [
    "# 시리즈의 함수 예제입니다.\n",
    "data_frame.job = data_frame.job.str.upper()"
   ]
  },
  {
   "cell_type": "code",
   "execution_count": null,
   "id": "0d87ae57",
   "metadata": {},
   "outputs": [],
   "source": [
    "data_frame.head()"
   ]
  },
  {
   "cell_type": "markdown",
   "id": "8d366a8b",
   "metadata": {},
   "source": [
    "시리즈는 단순히 파이썬 리스트를 간직한 오브젝트입니다.  \n",
    "리스트를 파라미터로 주면 바로 시리즈가 생성됩니다.  \n",
    "시리즈는 데이터 가공 및 분석이 파이썬 리스트보다 훨씬 쉽습니다."
   ]
  },
  {
   "cell_type": "code",
   "execution_count": null,
   "id": "976fc5ad",
   "metadata": {},
   "outputs": [],
   "source": [
    "s1 = pd.core.series.Series(['one', 'two', 'three'])\n",
    "s2 = pd.core.series.Series([1, 2, 3])"
   ]
  },
  {
   "cell_type": "code",
   "execution_count": null,
   "id": "ab9bb962",
   "metadata": {},
   "outputs": [],
   "source": [
    "s1"
   ]
  },
  {
   "cell_type": "code",
   "execution_count": null,
   "id": "0ee56a95",
   "metadata": {},
   "outputs": [],
   "source": [
    "s2"
   ]
  },
  {
   "cell_type": "code",
   "execution_count": null,
   "id": "a33c1d50",
   "metadata": {},
   "outputs": [],
   "source": [
    "pd.DataFrame(data=dict(word=s1, num=s2))"
   ]
  },
  {
   "cell_type": "markdown",
   "id": "2e606200",
   "metadata": {},
   "source": [
    "### 왜 판다스를 쓰나요?\n",
    "\n",
    "엑셀과 상당히 유사합니다, 데이터의 수정/가공 및 분석이 용이합니다.    \n",
    "데이터 가공을 위한 수많은 함수를 지원합니다.  \n",
    "Numpy 기반으로 데이터 처리가 상당히 빠릅니다.  "
   ]
  },
  {
   "cell_type": "markdown",
   "id": "669196b6",
   "metadata": {},
   "source": [
    "### 파일을 데이터프레임으로 불러오기\n",
    "데이터프레임 (dataframe)은 2차원 자료구조입니다. 로우와 컬럼으로 엑셀 형식과 유사합니다.  \n",
    "기본적으로 csv 포맷을 지원하지만, 구분자로 컬럼이 구분되어 있는 데이터는 모두 지원합니다.  \n",
    "read_csv 함수로 파일을 데이터프레임으로 호출할 수 있습니다."
   ]
  },
  {
   "cell_type": "code",
   "execution_count": null,
   "id": "840e26e4",
   "metadata": {},
   "outputs": [],
   "source": [
    "df = pd.read_csv('data/friend_list.csv')"
   ]
  },
  {
   "cell_type": "code",
   "execution_count": null,
   "id": "a33e8e97",
   "metadata": {},
   "outputs": [],
   "source": [
    "df"
   ]
  },
  {
   "cell_type": "markdown",
   "id": "fb506dc8",
   "metadata": {},
   "source": [
    "아래는 csv 파일이 아닌 파일을 호출하는 예제입니다.  \n",
    "파일명은 txt이지만, 쉼표로 컬럼이 구분되어 있는 파일입니다."
   ]
  },
  {
   "cell_type": "code",
   "execution_count": null,
   "id": "e8188ddf",
   "metadata": {},
   "outputs": [],
   "source": [
    "df = pd.read_csv('data/friend_list.txt')"
   ]
  },
  {
   "cell_type": "code",
   "execution_count": null,
   "id": "31e0bb3b",
   "metadata": {},
   "outputs": [],
   "source": [
    "df.head()"
   ]
  },
  {
   "cell_type": "markdown",
   "id": "2236c4b2",
   "metadata": {},
   "source": [
    "만약 파일의 컬럼들이 쉼표로 구분되어 있지 않을 경우라도, delimiter 파라미터에 구분자를 지정해줘서  \n",
    "컬럼을 제대로 나줘줄 수 있습니다. 아래는 탭으로 컬럼이 구분된 경우의 예제입니다."
   ]
  },
  {
   "cell_type": "code",
   "execution_count": null,
   "id": "b6110e30",
   "metadata": {},
   "outputs": [],
   "source": [
    "df = pd.read_csv('data/friend_list_tab.txt', delimiter = \"\\t\")"
   ]
  },
  {
   "cell_type": "code",
   "execution_count": null,
   "id": "c73d2e52",
   "metadata": {},
   "outputs": [],
   "source": [
    "df.head()"
   ]
  },
  {
   "cell_type": "markdown",
   "id": "3a6bbc5f",
   "metadata": {},
   "source": [
    "만약 파일에 데이터 헤더가 없을 경우, header = None으로 지정해줘서,  \n",
    "첫번째 데이터가 데이터 헤더로 들어가는 것을 방지해줘야합니다."
   ]
  },
  {
   "cell_type": "code",
   "execution_count": null,
   "id": "4c392010",
   "metadata": {},
   "outputs": [],
   "source": [
    "pd.read_csv('data/friend_list_no_head.csv')"
   ]
  },
  {
   "cell_type": "code",
   "execution_count": null,
   "id": "4b2f4187",
   "metadata": {},
   "outputs": [],
   "source": [
    "df = pd.read_csv('data/friend_list_no_head.csv', header = None)"
   ]
  },
  {
   "cell_type": "code",
   "execution_count": null,
   "id": "a2450e49",
   "metadata": {},
   "outputs": [],
   "source": [
    "df.head()"
   ]
  },
  {
   "cell_type": "markdown",
   "id": "57cc24d7",
   "metadata": {},
   "source": [
    "헤더가 없는 데이터를 데이터프레임으로 호출했을 경우,  \n",
    "아래와 같이 데이터프레임 생성 후에, 컬럼 헤더를 지정해주실 수 있습니다."
   ]
  },
  {
   "cell_type": "code",
   "execution_count": null,
   "id": "e04cc086",
   "metadata": {},
   "outputs": [],
   "source": [
    "df.columns = ['name', 'age', 'job']"
   ]
  },
  {
   "cell_type": "code",
   "execution_count": null,
   "id": "b95ea4ab",
   "metadata": {},
   "outputs": [],
   "source": [
    "df.head()"
   ]
  },
  {
   "cell_type": "markdown",
   "id": "9b480200",
   "metadata": {},
   "source": [
    "또한, 파일을 데이터프레임으로 호출하는 동시에, 헤더를 아래와 같이 지정해주실 수도 있습니다."
   ]
  },
  {
   "cell_type": "code",
   "execution_count": null,
   "id": "1de766aa",
   "metadata": {},
   "outputs": [],
   "source": [
    "df = pd.read_csv('data/friend_list_no_head.csv', header = None, names=['name', 'age', 'job'])"
   ]
  },
  {
   "cell_type": "code",
   "execution_count": null,
   "id": "6dd461fc",
   "metadata": {},
   "outputs": [],
   "source": [
    "df.head()"
   ]
  },
  {
   "cell_type": "code",
   "execution_count": null,
   "id": "6f4dd6cc",
   "metadata": {},
   "outputs": [],
   "source": []
  },
  {
   "cell_type": "markdown",
   "id": "4204b5cb",
   "metadata": {},
   "source": [
    "## Day02-1B 판다스 실습 - 데이터프레임"
   ]
  },
  {
   "cell_type": "markdown",
   "id": "3597a059",
   "metadata": {},
   "source": [
    "### 딕셔너리로 데이터프레임 생성하기\n",
    "파이썬의 기본 자료구조로 데이터프레임 생성이 가능합니다.  \n",
    "아래의 예제는 딕셔너리로 데이터프레임을 생성하는 예제입니다."
   ]
  },
  {
   "cell_type": "code",
   "execution_count": null,
   "id": "d6feb8e6",
   "metadata": {},
   "outputs": [],
   "source": [
    "friend_dict_list = [{'name': 'Jone', 'age': 20, 'job': 'student'},\n",
    "         {'name': 'Jenny', 'age': 30, 'job': 'developer'},\n",
    "         {'name': 'Nate', 'age': 30, 'job': 'teacher'}]"
   ]
  },
  {
   "cell_type": "code",
   "execution_count": null,
   "id": "e2fa45c2",
   "metadata": {},
   "outputs": [],
   "source": [
    "df = pd.DataFrame(friend_dict_list)"
   ]
  },
  {
   "cell_type": "code",
   "execution_count": null,
   "id": "71d31e5a",
   "metadata": {},
   "outputs": [],
   "source": [
    "df.head()"
   ]
  },
  {
   "cell_type": "markdown",
   "id": "1fe763bf",
   "metadata": {},
   "source": [
    "데이터프레임 생성 시, 컬럼의 순서가 뒤바뀔 수 있습니다.  \n",
    "아래와 같이 컬럼을 원하시는 순서로 지정하실 수 있습니다."
   ]
  },
  {
   "cell_type": "code",
   "execution_count": null,
   "id": "5330ace1",
   "metadata": {},
   "outputs": [],
   "source": [
    "df = df[['name', 'age', 'job']]"
   ]
  },
  {
   "cell_type": "code",
   "execution_count": null,
   "id": "0a032c3d",
   "metadata": {},
   "outputs": [],
   "source": [
    "df.head()"
   ]
  },
  {
   "cell_type": "markdown",
   "id": "9e044c3c",
   "metadata": {},
   "source": [
    "### OrderedDict로 데이터프레임 생성하기\n",
    "\n",
    "OrderedDict 자료구조로 데이터프레임을 생성하면, 컬럼의 순서가 뒤바뀌지 않습니다.\n",
    "\n",
    "참고 : https://www.daleseo.com/python-collections-ordered-dict/"
   ]
  },
  {
   "cell_type": "code",
   "execution_count": null,
   "id": "7218ae1a",
   "metadata": {},
   "outputs": [],
   "source": [
    "from collections import OrderedDict"
   ]
  },
  {
   "cell_type": "code",
   "execution_count": null,
   "id": "b914670a",
   "metadata": {},
   "outputs": [],
   "source": [
    "friend_ordered_dict = OrderedDict([ ('name', ['John', 'Jenny', 'Nate']),\n",
    "          ('age', [20, 30, 30]),\n",
    "          ('job', ['student', 'developer', 'teacher']) ] )"
   ]
  },
  {
   "cell_type": "code",
   "execution_count": null,
   "id": "7b023688",
   "metadata": {},
   "outputs": [],
   "source": [
    "df = pd.DataFrame.from_dict(friend_ordered_dict)"
   ]
  },
  {
   "cell_type": "code",
   "execution_count": null,
   "id": "b484f129",
   "metadata": {},
   "outputs": [],
   "source": [
    "df.head()"
   ]
  },
  {
   "cell_type": "markdown",
   "id": "514ed549",
   "metadata": {
    "collapsed": true
   },
   "source": [
    "### list로 데이터프레임 생성하기\n",
    "리스트로 데이터프레임을 생성하는 예제입니다."
   ]
  },
  {
   "cell_type": "code",
   "execution_count": null,
   "id": "a9fa22ae",
   "metadata": {},
   "outputs": [],
   "source": [
    "friend_list = [ ['John', 20, 'student'],['Jenny', 30, 'developer'],['Nate', 30, 'teacher'] ]\n",
    "column_name = ['name', 'age', 'job']"
   ]
  },
  {
   "cell_type": "code",
   "execution_count": null,
   "id": "45cb7279",
   "metadata": {},
   "outputs": [],
   "source": [
    "df = pd.DataFrame.from_records(friend_list, columns=column_name)"
   ]
  },
  {
   "cell_type": "code",
   "execution_count": null,
   "id": "aaa2cf9d",
   "metadata": {},
   "outputs": [],
   "source": [
    "df.head()"
   ]
  },
  {
   "cell_type": "code",
   "execution_count": null,
   "id": "fb12ffbf",
   "metadata": {},
   "outputs": [],
   "source": [
    "friend_list = [ \n",
    "                ['name',['John', 'Jenny', 'Nate']],\n",
    "                ['age',[20,30,30]],\n",
    "                ['job',['student', 'developer', 'teacher']] \n",
    "              ]"
   ]
  },
  {
   "cell_type": "code",
   "execution_count": null,
   "id": "8cc90f91",
   "metadata": {},
   "outputs": [],
   "source": [
    "df = pd.DataFrame.from_dict(dict(friend_list))"
   ]
  },
  {
   "cell_type": "code",
   "execution_count": null,
   "id": "5817edc7",
   "metadata": {},
   "outputs": [],
   "source": [
    "friend_list"
   ]
  },
  {
   "cell_type": "code",
   "execution_count": null,
   "id": "42db7e2f",
   "metadata": {},
   "outputs": [],
   "source": [
    "df.head()"
   ]
  },
  {
   "cell_type": "markdown",
   "id": "408ce7b3",
   "metadata": {},
   "source": [
    "### 파일로 데이터프레임을 저장하기"
   ]
  },
  {
   "cell_type": "markdown",
   "id": "638daadc",
   "metadata": {},
   "source": [
    "아래는 데이터프레임을 헤더와 함께 저장하는 예제입니다."
   ]
  },
  {
   "cell_type": "code",
   "execution_count": null,
   "id": "46aa8f73",
   "metadata": {},
   "outputs": [],
   "source": [
    "friend_list = [ \n",
    "                ['name',['John', 'Jenny', 'nate']],\n",
    "                ['age',[20,30,30]],\n",
    "                ['job',['student', 'developer', 'teacher']] \n",
    "              ]"
   ]
  },
  {
   "cell_type": "code",
   "execution_count": null,
   "id": "6cde88b6",
   "metadata": {},
   "outputs": [],
   "source": [
    "type(friend_list)"
   ]
  },
  {
   "cell_type": "code",
   "execution_count": null,
   "id": "273185e8",
   "metadata": {},
   "outputs": [],
   "source": [
    "dict(friend_list)"
   ]
  },
  {
   "cell_type": "code",
   "execution_count": null,
   "id": "6c1009d8",
   "metadata": {},
   "outputs": [],
   "source": [
    "df = pd.DataFrame.from_dict(dict(friend_list))"
   ]
  },
  {
   "cell_type": "code",
   "execution_count": null,
   "id": "6d889c23",
   "metadata": {},
   "outputs": [],
   "source": [
    "df.head()"
   ]
  },
  {
   "cell_type": "markdown",
   "id": "3a4f410c",
   "metadata": {},
   "source": [
    "to_csv 함수를 사용하여 파일로 저장하실 수 있습니다."
   ]
  },
  {
   "cell_type": "code",
   "execution_count": null,
   "id": "edc9c6c7",
   "metadata": {},
   "outputs": [],
   "source": [
    "df.to_csv('data/friend_list_from_df.csv')"
   ]
  },
  {
   "cell_type": "markdown",
   "id": "03fb279b",
   "metadata": {},
   "source": [
    "아래는 헤더가 없는 데이터프레임의 예제입니다."
   ]
  },
  {
   "cell_type": "code",
   "execution_count": null,
   "id": "c0237a18",
   "metadata": {},
   "outputs": [],
   "source": [
    "friend_list = [ ['John', 20, 'student'],['Jenny', 30, 'developer'],['Nate', 30, 'teacher'] ]"
   ]
  },
  {
   "cell_type": "code",
   "execution_count": null,
   "id": "e71de6bf",
   "metadata": {},
   "outputs": [],
   "source": [
    "df = pd.DataFrame.from_records(friend_list)"
   ]
  },
  {
   "cell_type": "code",
   "execution_count": null,
   "id": "869fc90b",
   "metadata": {},
   "outputs": [],
   "source": [
    "df.head()"
   ]
  },
  {
   "cell_type": "markdown",
   "id": "d79fe060",
   "metadata": {},
   "source": [
    "to_csv 함수로 파일로 저장하실 수 있습니다."
   ]
  },
  {
   "cell_type": "code",
   "execution_count": null,
   "id": "d3361d71",
   "metadata": {},
   "outputs": [],
   "source": [
    "df.to_csv('data/friend_list_from_df.csv')"
   ]
  },
  {
   "cell_type": "markdown",
   "id": "f222d023",
   "metadata": {},
   "source": [
    "사실 파일의 확장자명은 원하시는대로 주셔도 무방합니다."
   ]
  },
  {
   "cell_type": "code",
   "execution_count": null,
   "id": "dd288f42",
   "metadata": {},
   "outputs": [],
   "source": [
    "df.to_csv('data/friend_list_from_df.txt')"
   ]
  },
  {
   "cell_type": "markdown",
   "id": "b01b9520",
   "metadata": {},
   "source": [
    "기본적으로, 헤더와 인덱스값은 주시지 않아도, 기본적으로 True로 설정되어 있습니다."
   ]
  },
  {
   "cell_type": "code",
   "execution_count": null,
   "id": "7b6a3e72",
   "metadata": {},
   "outputs": [],
   "source": [
    "df.to_csv('data/friend_list_from_df.csv', header = True, index = True)"
   ]
  },
  {
   "cell_type": "markdown",
   "id": "ff12da82",
   "metadata": {},
   "source": [
    "**header = False** 는 컬럼 이름을 파일에 저장하지 않겠다라는 의미입니다.  \n",
    "예제에서 0,1,2가 헤더에 저장되지 않습니다.   \n",
    "\n",
    "**index = False** 는 로우 인덱스를 파일에 저장하지 않겠다라는 의미입니다.  \n",
    "예제에서 0,1,2가 로우 인덱스에 저장되지 않습니다."
   ]
  },
  {
   "cell_type": "code",
   "execution_count": null,
   "id": "a921ff10",
   "metadata": {},
   "outputs": [],
   "source": [
    "df.to_csv('data/friend_list_from_df.csv', header = False, index = False)"
   ]
  },
  {
   "cell_type": "markdown",
   "id": "76ee830c",
   "metadata": {},
   "source": [
    "헤더 정보를 원하실 경우, header 키워드로 컬럼 이름을 파일에 저장하실 수 있습니다."
   ]
  },
  {
   "cell_type": "code",
   "execution_count": null,
   "id": "359957bc",
   "metadata": {},
   "outputs": [],
   "source": [
    "df.to_csv('data/friend_list_from_df.csv', header = ['name', 'age', 'job'])"
   ]
  },
  {
   "cell_type": "markdown",
   "id": "3a13156f",
   "metadata": {},
   "source": [
    "아래는 **None** 값이 있는 데이터프레임의 예제입니다."
   ]
  },
  {
   "cell_type": "code",
   "execution_count": null,
   "id": "5cd4b208",
   "metadata": {},
   "outputs": [],
   "source": [
    "friend_list = [ \n",
    "                ['name',['John', None, 'nate']],\n",
    "                ['age',[20,None,30]],\n",
    "                ['job',['student', 'developer', 'teacher']] \n",
    "              ]"
   ]
  },
  {
   "cell_type": "code",
   "execution_count": null,
   "id": "188c74e0",
   "metadata": {},
   "outputs": [],
   "source": [
    "df = pd.DataFrame.from_dict(dict(friend_list))"
   ]
  },
  {
   "cell_type": "code",
   "execution_count": null,
   "id": "2c30ced3",
   "metadata": {},
   "outputs": [],
   "source": [
    "df.head()"
   ]
  },
  {
   "cell_type": "code",
   "execution_count": null,
   "id": "1eef93ba",
   "metadata": {},
   "outputs": [],
   "source": [
    "df.to_csv('data/friend_list_from_df.csv')"
   ]
  },
  {
   "cell_type": "markdown",
   "id": "22e98e46",
   "metadata": {},
   "source": [
    "**na_rep** 을 사용하시면 **None** 을 원하시는 값으로 쉽게 변경하실 수 있습니다."
   ]
  },
  {
   "cell_type": "code",
   "execution_count": null,
   "id": "8eaaeea8",
   "metadata": {},
   "outputs": [],
   "source": [
    "df.to_csv('data/friend_list_from_df.csv', na_rep = '-')"
   ]
  },
  {
   "cell_type": "markdown",
   "id": "a048de01",
   "metadata": {},
   "source": [
    "### 로우 선택하기"
   ]
  },
  {
   "cell_type": "markdown",
   "id": "a409764d",
   "metadata": {},
   "source": [
    "- 인덱스로 로우 선택하기"
   ]
  },
  {
   "cell_type": "code",
   "execution_count": null,
   "id": "15b548f8",
   "metadata": {},
   "outputs": [],
   "source": [
    "friend_list = [ \n",
    "                ['name',['John', 'Jenny', 'Nate']],\n",
    "                ['age',[20,30,30]],\n",
    "                ['job',['student', 'developer', 'teacher']] \n",
    "              ]"
   ]
  },
  {
   "cell_type": "code",
   "execution_count": null,
   "id": "dfff1b54",
   "metadata": {},
   "outputs": [],
   "source": [
    "df = pd.DataFrame(dict(friend_list))"
   ]
  },
  {
   "cell_type": "code",
   "execution_count": null,
   "id": "f2ad2ef0",
   "metadata": {},
   "outputs": [],
   "source": [
    "df.head()"
   ]
  },
  {
   "cell_type": "markdown",
   "id": "5f827722",
   "metadata": {},
   "source": [
    "아래는 로우 인덱스를 사용하여 로우1부터 3까지 순차적으로 선택하는 예제입니다."
   ]
  },
  {
   "cell_type": "code",
   "execution_count": null,
   "id": "305cfa0d",
   "metadata": {},
   "outputs": [],
   "source": [
    "df[1:3]"
   ]
  },
  {
   "cell_type": "markdown",
   "id": "15ac9283",
   "metadata": {},
   "source": [
    "아래는 순차적이지 않은 로우를 선택하는 예제입니다."
   ]
  },
  {
   "cell_type": "code",
   "execution_count": null,
   "id": "482a82de",
   "metadata": {},
   "outputs": [],
   "source": [
    "df.loc[[0,2]]"
   ]
  },
  {
   "cell_type": "code",
   "execution_count": null,
   "id": "2e1afda2",
   "metadata": {},
   "outputs": [],
   "source": [
    "df.head()"
   ]
  },
  {
   "cell_type": "markdown",
   "id": "31fdbe41",
   "metadata": {},
   "source": [
    "- 컬럼값에 따른 로우 선택하기\n",
    "마치 데이터베이스에 쿼리를 전달하듯, 특정한 컬럼값을 충족하는 로우만 선택하실 수 있습니다."
   ]
  },
  {
   "cell_type": "code",
   "execution_count": null,
   "id": "e10ef1b3",
   "metadata": {},
   "outputs": [],
   "source": [
    "df"
   ]
  },
  {
   "cell_type": "code",
   "execution_count": null,
   "id": "97854557",
   "metadata": {},
   "outputs": [],
   "source": [
    "df_filtered = df[df.age > 25]"
   ]
  },
  {
   "cell_type": "code",
   "execution_count": null,
   "id": "075d5c68",
   "metadata": {},
   "outputs": [],
   "source": [
    "df_filtered"
   ]
  },
  {
   "cell_type": "code",
   "execution_count": null,
   "id": "98a22fab",
   "metadata": {},
   "outputs": [],
   "source": [
    "df_filtered = df.query('age>25')"
   ]
  },
  {
   "cell_type": "code",
   "execution_count": null,
   "id": "866c589e",
   "metadata": {},
   "outputs": [],
   "source": [
    "df_filtered"
   ]
  },
  {
   "cell_type": "code",
   "execution_count": null,
   "id": "3b091890",
   "metadata": {},
   "outputs": [],
   "source": [
    "df_filtered = df[(df.age >25) & (df.name == 'Nate')]"
   ]
  },
  {
   "cell_type": "code",
   "execution_count": null,
   "id": "1f6d86e1",
   "metadata": {},
   "outputs": [],
   "source": [
    "df_filtered"
   ]
  },
  {
   "cell_type": "code",
   "execution_count": null,
   "id": "dc0ad11e",
   "metadata": {},
   "outputs": [],
   "source": [
    "df"
   ]
  },
  {
   "cell_type": "markdown",
   "id": "666c31a2",
   "metadata": {},
   "source": [
    "### 컬럼 필터하기"
   ]
  },
  {
   "cell_type": "markdown",
   "id": "35db9992",
   "metadata": {},
   "source": [
    "- 인덱스로 필터하기"
   ]
  },
  {
   "cell_type": "code",
   "execution_count": null,
   "id": "622762b3",
   "metadata": {},
   "outputs": [],
   "source": [
    "friend_list = [ ['John', 20, 'student'],['Jenny', 30, 'developer'],['Nate', 30, 'teacher'] ]"
   ]
  },
  {
   "cell_type": "code",
   "execution_count": null,
   "id": "a9f45a53",
   "metadata": {},
   "outputs": [],
   "source": [
    "df = pd.DataFrame.from_records(friend_list)\n",
    "df"
   ]
  },
  {
   "cell_type": "markdown",
   "id": "7d5d9b99",
   "metadata": {},
   "source": [
    "모든 로우를 보여주되, 컬럼은 0부터 1까지만 출력하는 예제입니다."
   ]
  },
  {
   "cell_type": "code",
   "execution_count": null,
   "id": "a5f2f0d8",
   "metadata": {},
   "outputs": [],
   "source": [
    "df.iloc[:, 0:2]"
   ]
  },
  {
   "cell_type": "markdown",
   "id": "39a8a114",
   "metadata": {},
   "source": [
    "모든 로우를 보여주되, 컬럼 0와 2만 출력하는 예제입니다."
   ]
  },
  {
   "cell_type": "code",
   "execution_count": null,
   "id": "b8ddadef",
   "metadata": {},
   "outputs": [],
   "source": [
    "df.iloc[:,[0,2]]"
   ]
  },
  {
   "cell_type": "code",
   "execution_count": null,
   "id": "3673efe6",
   "metadata": {},
   "outputs": [],
   "source": [
    "df"
   ]
  },
  {
   "cell_type": "markdown",
   "id": "107386e5",
   "metadata": {},
   "source": [
    "- 컬럼 이름으로 필터하기"
   ]
  },
  {
   "cell_type": "code",
   "execution_count": null,
   "id": "0743770a",
   "metadata": {},
   "outputs": [],
   "source": [
    "# you can create column header for no header data at once\n",
    "df = pd.read_csv('data/friend_list_no_head.csv', header = None, names=['name', 'age', 'job'])\n",
    "df"
   ]
  },
  {
   "cell_type": "code",
   "execution_count": null,
   "id": "bd2b46bc",
   "metadata": {},
   "outputs": [],
   "source": [
    "df_filtered = df[['name', 'age']]\n",
    "df_filtered"
   ]
  },
  {
   "cell_type": "code",
   "execution_count": null,
   "id": "60683710",
   "metadata": {},
   "outputs": [],
   "source": [
    "df.filter(items=['age', 'job'])"
   ]
  },
  {
   "cell_type": "code",
   "execution_count": null,
   "id": "8855a16b",
   "metadata": {},
   "outputs": [],
   "source": [
    "df"
   ]
  },
  {
   "cell_type": "markdown",
   "id": "b79fe95a",
   "metadata": {},
   "source": [
    "원하는 글자를 가진 로우를 보여줍니다."
   ]
  },
  {
   "cell_type": "code",
   "execution_count": null,
   "id": "bb72f32f",
   "metadata": {},
   "outputs": [],
   "source": [
    "# select columns containing 'a'\n",
    "df.filter(like='a',axis=1)"
   ]
  },
  {
   "cell_type": "markdown",
   "id": "6b3fb87e",
   "metadata": {},
   "source": [
    "정규식으로 필터도 가능합니다."
   ]
  },
  {
   "cell_type": "code",
   "execution_count": null,
   "id": "ee3f30f7",
   "metadata": {},
   "outputs": [],
   "source": [
    "# select columns using regex\n",
    "df.filter(regex='b$',axis=1)"
   ]
  },
  {
   "cell_type": "markdown",
   "id": "d5de9d15",
   "metadata": {},
   "source": [
    "## Day02-1B 판다스 실습 - 데이터프레임 (2)"
   ]
  },
  {
   "cell_type": "markdown",
   "id": "071511d1",
   "metadata": {},
   "source": [
    "### 로우 드롭하기"
   ]
  },
  {
   "cell_type": "markdown",
   "id": "5d06c848",
   "metadata": {},
   "source": [
    "로우 인덱스로 로우를 드롭할 수 있습니다."
   ]
  },
  {
   "cell_type": "code",
   "execution_count": null,
   "id": "3d596c4c",
   "metadata": {},
   "outputs": [],
   "source": [
    "friend_dict_list = [{'age': 20, 'job': 'student'},\n",
    "         {'age': 30, 'job': 'developer'},\n",
    "         {'age': 30, 'job': 'teacher'}]"
   ]
  },
  {
   "cell_type": "code",
   "execution_count": null,
   "id": "5dde6e57",
   "metadata": {},
   "outputs": [],
   "source": [
    "df = pd.DataFrame(friend_dict_list, index = ['John', 'Jenny', 'Nate'])"
   ]
  },
  {
   "cell_type": "code",
   "execution_count": null,
   "id": "3402b1c2",
   "metadata": {},
   "outputs": [],
   "source": [
    "df.head()"
   ]
  },
  {
   "cell_type": "markdown",
   "id": "6e6fa403",
   "metadata": {},
   "source": [
    "드롭된 결과는 데이터프레임에 저장되지 않습니다. 저장하고 싶으실 경우, 결과를 데이터프레임에 따로 저장하셔야 합니다."
   ]
  },
  {
   "cell_type": "code",
   "execution_count": null,
   "id": "77dbaa8e",
   "metadata": {},
   "outputs": [],
   "source": [
    "df.drop(['John', 'Nate'])"
   ]
  },
  {
   "cell_type": "code",
   "execution_count": null,
   "id": "031f18ee",
   "metadata": {},
   "outputs": [],
   "source": [
    "df"
   ]
  },
  {
   "cell_type": "markdown",
   "id": "cdad9c63",
   "metadata": {},
   "source": [
    "드롭된 결과를 데이터프레임에 저장하는 예제입니다."
   ]
  },
  {
   "cell_type": "code",
   "execution_count": null,
   "id": "4498e1a2",
   "metadata": {},
   "outputs": [],
   "source": [
    "df = df.drop(['John', 'Nate'])"
   ]
  },
  {
   "cell_type": "code",
   "execution_count": null,
   "id": "a8014139",
   "metadata": {},
   "outputs": [],
   "source": [
    "df"
   ]
  },
  {
   "cell_type": "markdown",
   "id": "b2397eef",
   "metadata": {},
   "source": [
    "- 드롭된 결과를 바로 데이터프레임에 저장하는 방법\n",
    "inplace 키워드를 사용하시면, 따로 저장할 필요없이, 드롭된 결과가 데이터프레임에 반영됩니다."
   ]
  },
  {
   "cell_type": "code",
   "execution_count": null,
   "id": "cf7d9823",
   "metadata": {},
   "outputs": [],
   "source": [
    "friend_dict_list = [{'age': 20, 'job': 'student'},\n",
    "         {'age': 30, 'job': 'developer'},\n",
    "         {'age': 30, 'job': 'teacher'}]"
   ]
  },
  {
   "cell_type": "code",
   "execution_count": null,
   "id": "230f47b8",
   "metadata": {},
   "outputs": [],
   "source": [
    "df = pd.DataFrame(friend_dict_list, index = ['John', 'Jenny', 'Nate'])"
   ]
  },
  {
   "cell_type": "code",
   "execution_count": null,
   "id": "4ca34210",
   "metadata": {},
   "outputs": [],
   "source": [
    "df.drop(['John', 'Nate'], inplace = True)"
   ]
  },
  {
   "cell_type": "code",
   "execution_count": null,
   "id": "9033d02b",
   "metadata": {},
   "outputs": [],
   "source": [
    "df"
   ]
  },
  {
   "cell_type": "markdown",
   "id": "a633d0d0",
   "metadata": {},
   "source": [
    "- 로우 인덱스로 드롭하기"
   ]
  },
  {
   "cell_type": "code",
   "execution_count": null,
   "id": "eefab0ea",
   "metadata": {},
   "outputs": [],
   "source": [
    "friend_dict_list = [{'name': 'Jone', 'age': 20, 'job': 'student'},\n",
    "         {'name': 'Jenny', 'age': 30, 'job': 'developer'},\n",
    "         {'name': 'Nate', 'age': 30, 'job': 'teacher'}]"
   ]
  },
  {
   "cell_type": "code",
   "execution_count": null,
   "id": "ddb7cba2",
   "metadata": {},
   "outputs": [],
   "source": [
    "df = pd.DataFrame(friend_dict_list)"
   ]
  },
  {
   "cell_type": "code",
   "execution_count": null,
   "id": "88ea2f83",
   "metadata": {},
   "outputs": [],
   "source": [
    "df"
   ]
  },
  {
   "cell_type": "markdown",
   "id": "2034bf5f",
   "metadata": {},
   "source": [
    "로우 인덱스로 드롭하는 예제입니다."
   ]
  },
  {
   "cell_type": "code",
   "execution_count": null,
   "id": "77bab6ad",
   "metadata": {},
   "outputs": [],
   "source": [
    "df = df.drop(df.index[[0,2]])"
   ]
  },
  {
   "cell_type": "code",
   "execution_count": null,
   "id": "99090931",
   "metadata": {},
   "outputs": [],
   "source": [
    "df"
   ]
  },
  {
   "cell_type": "markdown",
   "id": "04ee4572",
   "metadata": {},
   "source": [
    "- 컬럼값으로 로우 드롭하기"
   ]
  },
  {
   "cell_type": "code",
   "execution_count": null,
   "id": "2f3043a5",
   "metadata": {},
   "outputs": [],
   "source": [
    "friend_dict_list = [{'name': 'Jone', 'age': 20, 'job': 'student'},\n",
    "         {'name': 'Jenny', 'age': 30, 'job': 'developer'},\n",
    "         {'name': 'Nate', 'age': 30, 'job': 'teacher'}]"
   ]
  },
  {
   "cell_type": "code",
   "execution_count": null,
   "id": "870b307a",
   "metadata": {},
   "outputs": [],
   "source": [
    "df = pd.DataFrame(friend_dict_list)\n",
    "df"
   ]
  },
  {
   "cell_type": "code",
   "execution_count": null,
   "id": "7cf09fb7",
   "metadata": {},
   "outputs": [],
   "source": [
    "df = df[df.age != 30]"
   ]
  },
  {
   "cell_type": "code",
   "execution_count": null,
   "id": "b9f7a33d",
   "metadata": {},
   "outputs": [],
   "source": [
    "df"
   ]
  },
  {
   "cell_type": "markdown",
   "id": "fa582944",
   "metadata": {},
   "source": [
    "### 컬럼 드롭하기"
   ]
  },
  {
   "cell_type": "code",
   "execution_count": null,
   "id": "d07576f3",
   "metadata": {},
   "outputs": [],
   "source": [
    "friend_dict_list = [{'name': 'Jone', 'age': 20, 'job': 'student'},\n",
    "         {'name': 'Jenny', 'age': 30, 'job': 'developer'},\n",
    "         {'name': 'Nate', 'age': 30, 'job': 'teacher'}]"
   ]
  },
  {
   "cell_type": "code",
   "execution_count": null,
   "id": "1342e4bf",
   "metadata": {},
   "outputs": [],
   "source": [
    "df = pd.DataFrame(friend_dict_list)\n",
    "df"
   ]
  },
  {
   "cell_type": "code",
   "execution_count": null,
   "id": "3cf55efb",
   "metadata": {},
   "outputs": [],
   "source": [
    "df = df.drop('age', axis=1)"
   ]
  },
  {
   "cell_type": "code",
   "execution_count": null,
   "id": "e5586c61",
   "metadata": {},
   "outputs": [],
   "source": [
    "df"
   ]
  },
  {
   "cell_type": "markdown",
   "id": "bc2c8657",
   "metadata": {
    "collapsed": true
   },
   "source": [
    "### 컬럼 추가 또는 변경하기"
   ]
  },
  {
   "cell_type": "code",
   "execution_count": null,
   "id": "71cbca84",
   "metadata": {},
   "outputs": [],
   "source": [
    "friend_dict_list = [{'name': 'Jone', 'age': 15, 'job': 'student'},\n",
    "         {'name': 'Jenny', 'age': 30, 'job': 'developer'},\n",
    "         {'name': 'Nate', 'age': 30, 'job': 'teacher'}]"
   ]
  },
  {
   "cell_type": "code",
   "execution_count": null,
   "id": "23aa3330",
   "metadata": {},
   "outputs": [],
   "source": [
    "df = pd.DataFrame(friend_dict_list, columns = ['name', 'age', 'job'])\n",
    "df"
   ]
  },
  {
   "cell_type": "markdown",
   "id": "7a1984b9",
   "metadata": {},
   "source": [
    "아래와 같은 방법으로 새로운 컬럼을 기본값과 함께 추가하실 수 있습니다."
   ]
  },
  {
   "cell_type": "code",
   "execution_count": null,
   "id": "edc2e344",
   "metadata": {},
   "outputs": [],
   "source": [
    "df['salary'] = 0"
   ]
  },
  {
   "cell_type": "code",
   "execution_count": null,
   "id": "4b7ed0b7",
   "metadata": {},
   "outputs": [],
   "source": [
    "df"
   ]
  },
  {
   "cell_type": "markdown",
   "id": "49a62be8",
   "metadata": {},
   "source": [
    "기존 컬럼값을 가지고 새로운 컬럼을 생성하는 예제입니다."
   ]
  },
  {
   "cell_type": "code",
   "execution_count": null,
   "id": "d97f9623",
   "metadata": {},
   "outputs": [],
   "source": [
    "friend_dict_list = [{'name': 'Jone', 'age': 15, 'job': 'student'},\n",
    "         {'name': 'Jenny', 'age': 30, 'job': 'developer'},\n",
    "         {'name': 'Nate', 'age': 30, 'job': 'teacher'}]"
   ]
  },
  {
   "cell_type": "code",
   "execution_count": null,
   "id": "bb5a5523",
   "metadata": {},
   "outputs": [],
   "source": [
    "df = pd.DataFrame(friend_dict_list, columns = ['name', 'age', 'job'])\n",
    "df"
   ]
  },
  {
   "cell_type": "markdown",
   "id": "e881ad00",
   "metadata": {},
   "source": [
    "넘파이를 사용하셔서, 한줄에 새로운 컬럼값을 생성하실 수도 있습니다."
   ]
  },
  {
   "cell_type": "code",
   "execution_count": null,
   "id": "c5114f36",
   "metadata": {},
   "outputs": [],
   "source": [
    "import numpy as np"
   ]
  },
  {
   "cell_type": "code",
   "execution_count": null,
   "id": "756302ae",
   "metadata": {},
   "outputs": [],
   "source": [
    "df['salary'] = np.where(df['job'] != 'student' , 'yes', 'no')"
   ]
  },
  {
   "cell_type": "code",
   "execution_count": null,
   "id": "4c72b365",
   "metadata": {},
   "outputs": [],
   "source": [
    "df"
   ]
  },
  {
   "cell_type": "code",
   "execution_count": null,
   "id": "1109f699",
   "metadata": {},
   "outputs": [],
   "source": [
    "friend_dict_list = [{'name': 'John', 'midterm': 95, 'final': 85},\n",
    "         {'name': 'Jenny', 'midterm': 85, 'final': 80},\n",
    "         {'name': 'Nate', 'midterm': 10, 'final': 30}]"
   ]
  },
  {
   "cell_type": "code",
   "execution_count": null,
   "id": "eb11954b",
   "metadata": {},
   "outputs": [],
   "source": [
    "df = pd.DataFrame(friend_dict_list, columns = ['name', 'midterm', 'final'])\n",
    "df"
   ]
  },
  {
   "cell_type": "markdown",
   "id": "3bafc6dd",
   "metadata": {},
   "source": [
    "아래는 기존에 있는 두 컬럼값을 더해서 새로운 컬럼을 만드는 예제입니다."
   ]
  },
  {
   "cell_type": "code",
   "execution_count": null,
   "id": "095015a6",
   "metadata": {},
   "outputs": [],
   "source": [
    "df['total'] = df['midterm'] + df['final']"
   ]
  },
  {
   "cell_type": "code",
   "execution_count": null,
   "id": "da794533",
   "metadata": {},
   "outputs": [],
   "source": [
    "df"
   ]
  },
  {
   "cell_type": "markdown",
   "id": "b14c9763",
   "metadata": {},
   "source": [
    "기존의 컬럼을 사용하여 새로운 컬럼을 만드는 예제입니다."
   ]
  },
  {
   "cell_type": "code",
   "execution_count": null,
   "id": "a41e1faf",
   "metadata": {},
   "outputs": [],
   "source": [
    "df['average'] = df['total'] / 2"
   ]
  },
  {
   "cell_type": "code",
   "execution_count": null,
   "id": "c858613a",
   "metadata": {},
   "outputs": [],
   "source": [
    "df"
   ]
  },
  {
   "cell_type": "markdown",
   "id": "5a987db2",
   "metadata": {},
   "source": [
    "아래와 같이, 리스트에 조건별 값을 담아서, 새로운 컬럼으로 추가시킬 수 있습니다."
   ]
  },
  {
   "cell_type": "code",
   "execution_count": null,
   "id": "74e545f6",
   "metadata": {},
   "outputs": [],
   "source": [
    "grades = []"
   ]
  },
  {
   "cell_type": "code",
   "execution_count": null,
   "id": "cf1ad470",
   "metadata": {},
   "outputs": [],
   "source": [
    "for row in df['average']:\n",
    "    if row >= 90:\n",
    "        grades.append('A')\n",
    "    elif row >= 80:\n",
    "        grades.append('B')\n",
    "    elif row >= 70:\n",
    "        grades.append('C')\n",
    "    else:\n",
    "        grades.append('F')"
   ]
  },
  {
   "cell_type": "code",
   "execution_count": null,
   "id": "c976acf2",
   "metadata": {},
   "outputs": [],
   "source": [
    "df['grade'] = grades"
   ]
  },
  {
   "cell_type": "code",
   "execution_count": null,
   "id": "dee8c322",
   "metadata": {},
   "outputs": [],
   "source": [
    "df"
   ]
  },
  {
   "cell_type": "markdown",
   "id": "c1df46be",
   "metadata": {},
   "source": [
    "apply 함수 사용 예제입니다.  \n",
    "apply를 사용하시면, 깔끔하게 컬럼의 값을 변경하는 코드를 구현하실 수 있습니다."
   ]
  },
  {
   "cell_type": "code",
   "execution_count": null,
   "id": "2431e236",
   "metadata": {},
   "outputs": [],
   "source": [
    "def pass_or_fail(row):\n",
    "    print(row)\n",
    "    if row != \"F\":\n",
    "        return 'Pass'\n",
    "    else:\n",
    "        return 'Fail'"
   ]
  },
  {
   "cell_type": "code",
   "execution_count": null,
   "id": "c007a1f1",
   "metadata": {},
   "outputs": [],
   "source": [
    "df.grade = df.grade.apply(pass_or_fail)"
   ]
  },
  {
   "cell_type": "code",
   "execution_count": null,
   "id": "cca6a8ef",
   "metadata": {},
   "outputs": [],
   "source": [
    "df"
   ]
  },
  {
   "cell_type": "markdown",
   "id": "6916cd70",
   "metadata": {},
   "source": [
    "apply를 사용해서 연월일의 정보에서 연도만 빼보는 예제입니다."
   ]
  },
  {
   "cell_type": "code",
   "execution_count": null,
   "id": "8bf25ba5",
   "metadata": {},
   "outputs": [],
   "source": [
    "date_list = [{'yyyy-mm-dd': '2000-06-27'},\n",
    "         {'yyyy-mm-dd': '2002-09-24'},\n",
    "         {'yyyy-mm-dd': '2005-12-20'}]"
   ]
  },
  {
   "cell_type": "code",
   "execution_count": null,
   "id": "4a2532d9",
   "metadata": {},
   "outputs": [],
   "source": [
    "df = pd.DataFrame(date_list, columns = ['yyyy-mm-dd'])\n",
    "df"
   ]
  },
  {
   "cell_type": "code",
   "execution_count": null,
   "id": "a4246dc0",
   "metadata": {},
   "outputs": [],
   "source": [
    "def extract_year(row):\n",
    "    return row.split('-')[0]"
   ]
  },
  {
   "cell_type": "code",
   "execution_count": null,
   "id": "6f877825",
   "metadata": {},
   "outputs": [],
   "source": [
    "df['year'] = df['yyyy-mm-dd'].apply(extract_year)"
   ]
  },
  {
   "cell_type": "code",
   "execution_count": null,
   "id": "19ae79a8",
   "metadata": {},
   "outputs": [],
   "source": [
    "df"
   ]
  },
  {
   "cell_type": "markdown",
   "id": "e83593ca",
   "metadata": {},
   "source": [
    "### apply 함수에 파라미터 전달하기\n",
    "키워드 파라미터를 사용하시면, apply가 적용된 함수에 파라미터를 전달하실 수 있습니다."
   ]
  },
  {
   "cell_type": "code",
   "execution_count": null,
   "id": "278a92c7",
   "metadata": {},
   "outputs": [],
   "source": [
    "def extract_year(year, current_year):\n",
    "    return current_year - int(year)"
   ]
  },
  {
   "cell_type": "code",
   "execution_count": null,
   "id": "955f14a8",
   "metadata": {},
   "outputs": [],
   "source": [
    "df['age'] = df['year'].apply(extract_year, current_year=2018)\n",
    "df"
   ]
  },
  {
   "cell_type": "markdown",
   "id": "5695b1aa",
   "metadata": {},
   "source": [
    "### apply 함수에 한 개 이상의 파라미터 전달하기\n",
    "키워드 파라미터를 추가해주시면, 원하시는만큼의 파라미터를 함수에 전달 가능합니다."
   ]
  },
  {
   "cell_type": "code",
   "execution_count": null,
   "id": "a63f2fc3",
   "metadata": {},
   "outputs": [],
   "source": [
    "def get_introduce(age, prefix, suffix):\n",
    "    return prefix + str(age) + suffix"
   ]
  },
  {
   "cell_type": "code",
   "execution_count": null,
   "id": "00a2e497",
   "metadata": {},
   "outputs": [],
   "source": [
    "df['introduce'] = df['age'].apply(get_introduce, prefix=\"I am \", suffix=\" years old\")\n",
    "df"
   ]
  },
  {
   "cell_type": "markdown",
   "id": "b0c2cb31",
   "metadata": {},
   "source": [
    "### apply 함수에 여러개의 컬럼을 동시에 전달하기\n",
    "axis=1이라는 키워드 파라미터를 apply 함수에 전달해주면, 모든 컬럼을 지정된 함수에서 사용 가능합니다."
   ]
  },
  {
   "cell_type": "code",
   "execution_count": null,
   "id": "94770d61",
   "metadata": {},
   "outputs": [],
   "source": [
    "def get_introduce2(row):\n",
    "    return \"I was born in \"+str(row.year)+\" my age is \"+str(row.age)"
   ]
  },
  {
   "cell_type": "code",
   "execution_count": null,
   "id": "e73922b3",
   "metadata": {},
   "outputs": [],
   "source": [
    "df.introduce = df.apply(get_introduce2, axis=1)"
   ]
  },
  {
   "cell_type": "code",
   "execution_count": null,
   "id": "b00a2232",
   "metadata": {},
   "outputs": [],
   "source": [
    "df"
   ]
  },
  {
   "cell_type": "markdown",
   "id": "6ce9dfde",
   "metadata": {},
   "source": [
    "### Map 함수로 컬럼 추가 및 변경하기\n",
    "파라미터로 함수를 전달하면 apply 함수와 동일하게 컬럼값을 추가 및 변경할 수 있습니다."
   ]
  },
  {
   "cell_type": "code",
   "execution_count": null,
   "id": "94863021",
   "metadata": {},
   "outputs": [],
   "source": [
    "def extract_year(row):\n",
    "    return row.split('-')[0]"
   ]
  },
  {
   "cell_type": "code",
   "execution_count": null,
   "id": "0caad7af",
   "metadata": {},
   "outputs": [],
   "source": [
    "date_list = [{'yyyy-mm-dd': '2000-06-27'},\n",
    "         {'yyyy-mm-dd': '2002-09-24'},\n",
    "         {'yyyy-mm-dd': '2005-12-20'}]"
   ]
  },
  {
   "cell_type": "code",
   "execution_count": null,
   "id": "0c3499f0",
   "metadata": {},
   "outputs": [],
   "source": [
    "df = pd.DataFrame(date_list, columns = ['yyyy-mm-dd'])\n",
    "df"
   ]
  },
  {
   "cell_type": "code",
   "execution_count": null,
   "id": "f3423894",
   "metadata": {},
   "outputs": [],
   "source": [
    "df['year'] = df['yyyy-mm-dd'].map(extract_year)\n",
    "df"
   ]
  },
  {
   "cell_type": "markdown",
   "id": "5453d521",
   "metadata": {},
   "source": [
    "파라미터로 딕셔너리를 전달하면 컬럼값을 쉽게 원하는 값으로 변경 가능합니다.  \n",
    "기존의 컬럼값은 딕셔너리의 key로 사용되고, 해당되는 value의 값으로 컬럼값이 변경됩니다."
   ]
  },
  {
   "cell_type": "code",
   "execution_count": null,
   "id": "776d4a2c",
   "metadata": {},
   "outputs": [],
   "source": [
    "job_list = [{'age': 20, 'job': 'student'},\n",
    "         {'age': 30, 'job': 'developer'},\n",
    "         {'age': 30, 'job': 'teacher'}]\n",
    "df = pd.DataFrame(job_list)\n",
    "df"
   ]
  },
  {
   "cell_type": "code",
   "execution_count": null,
   "id": "4ce8a802",
   "metadata": {},
   "outputs": [],
   "source": [
    "df.job = df.job.map({\"student\":1,\"developer\":2,\"teacher\":3})\n",
    "df"
   ]
  },
  {
   "cell_type": "markdown",
   "id": "96271b44",
   "metadata": {},
   "source": [
    "### Applymap\n",
    "데이터프레임 전체의 각각의 값을 한번에 변경시키실 때 사용하시면 좋습니다."
   ]
  },
  {
   "cell_type": "code",
   "execution_count": null,
   "id": "63f0f147",
   "metadata": {},
   "outputs": [],
   "source": [
    "x_y = [{'x': 5.5, 'y': -5.6},\n",
    "         {'x': -5.2, 'y': 5.5},\n",
    "         {'x': -1.6, 'y': -4.5}]"
   ]
  },
  {
   "cell_type": "code",
   "execution_count": null,
   "id": "e3fbf78e",
   "metadata": {},
   "outputs": [],
   "source": [
    "df = pd.DataFrame(x_y)\n",
    "df"
   ]
  },
  {
   "cell_type": "code",
   "execution_count": null,
   "id": "6ce79dfa",
   "metadata": {},
   "outputs": [],
   "source": [
    "df = df.applymap(np.around)\n",
    "df"
   ]
  },
  {
   "cell_type": "markdown",
   "id": "a53285cd",
   "metadata": {},
   "source": [
    "### 데이터프레임에 로우 추가하기"
   ]
  },
  {
   "cell_type": "code",
   "execution_count": null,
   "id": "1b300a39",
   "metadata": {},
   "outputs": [],
   "source": [
    "friend_dict_list = [{'name': 'John', 'midterm': 95, 'final': 85},\n",
    "         {'name': 'Jenny', 'midterm': 85, 'final': 80},\n",
    "         {'name': 'Nate', 'midterm': 10, 'final': 30}]"
   ]
  },
  {
   "cell_type": "code",
   "execution_count": null,
   "id": "f5b09f83",
   "metadata": {},
   "outputs": [],
   "source": [
    "df = pd.DataFrame(friend_dict_list, columns = ['name', 'midterm', 'final'])\n",
    "df"
   ]
  },
  {
   "cell_type": "code",
   "execution_count": null,
   "id": "03869750",
   "metadata": {},
   "outputs": [],
   "source": [
    "df2 = pd.DataFrame([['Ben',50,50]], columns = ['name', 'midterm', 'final'])"
   ]
  },
  {
   "cell_type": "code",
   "execution_count": null,
   "id": "fdacd475",
   "metadata": {},
   "outputs": [],
   "source": [
    "df2.head()"
   ]
  },
  {
   "cell_type": "code",
   "execution_count": null,
   "id": "54d19e92",
   "metadata": {},
   "outputs": [],
   "source": [
    "df.append(df2, ignore_index=True)"
   ]
  },
  {
   "cell_type": "code",
   "execution_count": null,
   "id": "6488965d",
   "metadata": {},
   "outputs": [],
   "source": [
    "### 향후 사용 방법\n",
    "pd.concat([df, df2])"
   ]
  },
  {
   "cell_type": "markdown",
   "id": "d7375ce8",
   "metadata": {},
   "source": [
    "## Day02-1B 판다스 실습 - 데이터프레임 (3)"
   ]
  },
  {
   "cell_type": "markdown",
   "id": "01740e9e",
   "metadata": {},
   "source": [
    "### Group by\n",
    "데이터에서 정보를 취하기 위해서 그룹별로 묶는 방법에 대해 알아보겠습니다."
   ]
  },
  {
   "cell_type": "code",
   "execution_count": null,
   "id": "dcfabf0f",
   "metadata": {},
   "outputs": [],
   "source": [
    "student_list = [{'name': 'John', 'major': \"Computer Science\", 'sex': \"male\"},\n",
    "                {'name': 'Nate', 'major': \"Computer Science\", 'sex': \"male\"},\n",
    "                {'name': 'Abraham', 'major': \"Physics\", 'sex': \"male\"},\n",
    "                {'name': 'Brian', 'major': \"Psychology\", 'sex': \"male\"},\n",
    "                {'name': 'Janny', 'major': \"Economics\", 'sex': \"female\"},\n",
    "                {'name': 'Yuna', 'major': \"Economics\", 'sex': \"female\"},\n",
    "                {'name': 'Jeniffer', 'major': \"Computer Science\", 'sex': \"female\"},\n",
    "                {'name': 'Edward', 'major': \"Computer Science\", 'sex': \"male\"},\n",
    "                {'name': 'Zara', 'major': \"Psychology\", 'sex': \"female\"},\n",
    "                {'name': 'Wendy', 'major': \"Economics\", 'sex': \"female\"},\n",
    "                {'name': 'Sera', 'major': \"Psychology\", 'sex': \"female\"}\n",
    "         ]"
   ]
  },
  {
   "cell_type": "code",
   "execution_count": null,
   "id": "456028c0",
   "metadata": {},
   "outputs": [],
   "source": [
    "df = pd.DataFrame(student_list, columns = ['name', 'major', 'sex'])\n",
    "df"
   ]
  },
  {
   "cell_type": "code",
   "execution_count": null,
   "id": "7dddcd7b",
   "metadata": {},
   "outputs": [],
   "source": [
    "groupby_major = df.groupby('major')"
   ]
  },
  {
   "cell_type": "code",
   "execution_count": null,
   "id": "b776f054",
   "metadata": {},
   "outputs": [],
   "source": [
    "groupby_major.groups"
   ]
  },
  {
   "cell_type": "code",
   "execution_count": null,
   "id": "8cf74370",
   "metadata": {},
   "outputs": [],
   "source": [
    "df.groupby(['major','sex']).groups"
   ]
  },
  {
   "cell_type": "markdown",
   "id": "7f57aa81",
   "metadata": {},
   "source": [
    "here we can see, computer science has mostly man, while economic has mostly woman students"
   ]
  },
  {
   "cell_type": "code",
   "execution_count": null,
   "id": "ae4f19eb",
   "metadata": {},
   "outputs": [],
   "source": [
    "for name, group in groupby_major:\n",
    "    print(name + \": \" + str(len(group)))\n",
    "    print(group)\n",
    "    print()"
   ]
  },
  {
   "cell_type": "markdown",
   "id": "c6005fa7",
   "metadata": {},
   "source": [
    "그룹 객체를 다시 데이터프레임으로 생성하는 예제입니다."
   ]
  },
  {
   "cell_type": "code",
   "execution_count": null,
   "id": "054e5cd1",
   "metadata": {},
   "outputs": [],
   "source": [
    "df_major_cnt = pd.DataFrame({'count' : groupby_major.size()}).reset_index()\n",
    "df_major_cnt"
   ]
  },
  {
   "cell_type": "code",
   "execution_count": null,
   "id": "20ffe566",
   "metadata": {},
   "outputs": [],
   "source": [
    "groupby_sex = df.groupby('sex')"
   ]
  },
  {
   "cell_type": "code",
   "execution_count": null,
   "id": "3fdd29a0",
   "metadata": {},
   "outputs": [],
   "source": [
    "groupby_sex"
   ]
  },
  {
   "cell_type": "markdown",
   "id": "126ffb76",
   "metadata": {},
   "source": [
    "아래의 출력을 통해, 이 학교의 남녀 성비가 균등하다는 정보를 알 수 있습니다."
   ]
  },
  {
   "cell_type": "code",
   "execution_count": null,
   "id": "3c7735f1",
   "metadata": {},
   "outputs": [],
   "source": [
    "for name, group in groupby_sex:\n",
    "    print(name + \": \" + str(len(group)))\n",
    "    print(group)\n",
    "    print()"
   ]
  },
  {
   "cell_type": "code",
   "execution_count": null,
   "id": "b73b74e9",
   "metadata": {},
   "outputs": [],
   "source": [
    "df_sex_cnt = pd.DataFrame({'count' : groupby_sex.size()}).reset_index()\n",
    "df_sex_cnt"
   ]
  },
  {
   "cell_type": "markdown",
   "id": "76614eff",
   "metadata": {},
   "source": [
    "### 중복 데이터 드롭하기\n",
    "중복된 데이터 드롭하는 방법에 대해 알아보겠습니다."
   ]
  },
  {
   "cell_type": "code",
   "execution_count": null,
   "id": "3d3e3622",
   "metadata": {},
   "outputs": [],
   "source": [
    "student_list = [{'name': 'John', 'major': \"Computer Science\", 'sex': \"male\"},\n",
    "                {'name': 'Nate', 'major': \"Computer Science\", 'sex': \"male\"},\n",
    "                {'name': 'Abraham', 'major': \"Physics\", 'sex': \"male\"},\n",
    "                {'name': 'Brian', 'major': \"Psychology\", 'sex': \"male\"},\n",
    "                {'name': 'Janny', 'major': \"Economics\", 'sex': \"female\"},\n",
    "                {'name': 'Yuna', 'major': \"Economics\", 'sex': \"female\"},\n",
    "                {'name': 'Jeniffer', 'major': \"Computer Science\", 'sex': \"female\"},\n",
    "                {'name': 'Edward', 'major': \"Computer Science\", 'sex': \"male\"},\n",
    "                {'name': 'Zara', 'major': \"Psychology\", 'sex': \"female\"},\n",
    "                {'name': 'Wendy', 'major': \"Economics\", 'sex': \"female\"},\n",
    "                {'name': 'Sera', 'major': \"Psychology\", 'sex': \"female\"},\n",
    "                {'name': 'John', 'major': \"Computer Science\", 'sex': \"male\"},\n",
    "         ]"
   ]
  },
  {
   "cell_type": "code",
   "execution_count": null,
   "id": "1cef3d13",
   "metadata": {},
   "outputs": [],
   "source": [
    "df = pd.DataFrame(student_list, columns = ['name', 'major', 'sex'])\n",
    "df"
   ]
  },
  {
   "cell_type": "markdown",
   "id": "b816f770",
   "metadata": {},
   "source": [
    "### 중복된 데이터 확인 하기"
   ]
  },
  {
   "cell_type": "code",
   "execution_count": null,
   "id": "d6003034",
   "metadata": {},
   "outputs": [],
   "source": [
    "df.duplicated()"
   ]
  },
  {
   "cell_type": "markdown",
   "id": "6997edfc",
   "metadata": {},
   "source": [
    "drop_duplicates 함수로 중복 데이터를 삭제하는 예제입니다."
   ]
  },
  {
   "cell_type": "code",
   "execution_count": null,
   "id": "ebf09200",
   "metadata": {},
   "outputs": [],
   "source": [
    "df = df.drop_duplicates()"
   ]
  },
  {
   "cell_type": "code",
   "execution_count": null,
   "id": "7f0a3100",
   "metadata": {},
   "outputs": [],
   "source": [
    "df"
   ]
  },
  {
   "cell_type": "code",
   "execution_count": null,
   "id": "997bebcc",
   "metadata": {},
   "outputs": [],
   "source": [
    "student_list = [{'name': 'John', 'major': \"Computer Science\", 'sex': \"male\"},\n",
    "                {'name': 'Nate', 'major': \"Computer Science\", 'sex': \"male\"},\n",
    "                {'name': 'Abraham', 'major': \"Physics\", 'sex': \"male\"},\n",
    "                {'name': 'Brian', 'major': \"Psychology\", 'sex': \"male\"},\n",
    "                {'name': 'Janny', 'major': \"Economics\", 'sex': \"female\"},\n",
    "                {'name': 'Yuna', 'major': \"Economics\", 'sex': \"female\"},\n",
    "                {'name': 'Jeniffer', 'major': \"Computer Science\", 'sex': \"female\"},\n",
    "                {'name': 'Edward', 'major': \"Computer Science\", 'sex': \"male\"},\n",
    "                {'name': 'Zara', 'major': \"Psychology\", 'sex': \"female\"},\n",
    "                {'name': 'Wendy', 'major': \"Economics\", 'sex': \"female\"},\n",
    "                {'name': 'Nate', 'major': None, 'sex': \"male\"},\n",
    "                {'name': 'John', 'major': \"Computer Science\", 'sex': None},\n",
    "         ]"
   ]
  },
  {
   "cell_type": "code",
   "execution_count": null,
   "id": "661d9cc3",
   "metadata": {},
   "outputs": [],
   "source": [
    "df = pd.DataFrame(student_list, columns = ['name', 'major', 'sex'])\n",
    "df"
   ]
  },
  {
   "cell_type": "markdown",
   "id": "114d7551",
   "metadata": {},
   "source": [
    "name 컬럼이 똑같을 경우, 중복된 데이터라고 표시하라는 예제입니다."
   ]
  },
  {
   "cell_type": "code",
   "execution_count": null,
   "id": "4486b443",
   "metadata": {},
   "outputs": [],
   "source": [
    "df.duplicated(['name'])"
   ]
  },
  {
   "cell_type": "markdown",
   "id": "0a74113b",
   "metadata": {},
   "source": [
    "keep 값을 first 또는 last라고 값을 줘서 중복된 값 중, 어느값을 살릴 지 결정하실 수 있습니다.  \n",
    "기본적으로 first로 설정되어 있습니다."
   ]
  },
  {
   "cell_type": "code",
   "execution_count": null,
   "id": "f162df1d",
   "metadata": {},
   "outputs": [],
   "source": [
    "df.drop_duplicates(['name'], keep='last')"
   ]
  },
  {
   "cell_type": "code",
   "execution_count": null,
   "id": "0ce3d6f0",
   "metadata": {},
   "outputs": [],
   "source": [
    "df"
   ]
  },
  {
   "cell_type": "markdown",
   "id": "0da5e907",
   "metadata": {},
   "source": [
    "### None 처리 하기"
   ]
  },
  {
   "cell_type": "code",
   "execution_count": null,
   "id": "92a02ba2",
   "metadata": {},
   "outputs": [],
   "source": [
    "school_id_list = [{'name': 'John', 'job': \"teacher\", 'age': 40},\n",
    "                {'name': 'Nate', 'job': \"teacher\", 'age': 35},\n",
    "                {'name': 'Yuna', 'job': \"teacher\", 'age': 37},\n",
    "                {'name': 'Abraham', 'job': \"student\", 'age': 10},\n",
    "                {'name': 'Brian', 'job': \"student\", 'age': 12},\n",
    "                {'name': 'Janny', 'job': \"student\", 'age': 11},\n",
    "                {'name': 'Nate', 'job': \"teacher\", 'age': None},\n",
    "                {'name': 'John', 'job': \"student\", 'age': None}\n",
    "         ]"
   ]
  },
  {
   "cell_type": "code",
   "execution_count": null,
   "id": "d1cdb02a",
   "metadata": {},
   "outputs": [],
   "source": [
    "df = pd.DataFrame(school_id_list, columns = ['name', 'job', 'age'])\n",
    "df"
   ]
  },
  {
   "cell_type": "markdown",
   "id": "3a26104d",
   "metadata": {},
   "source": [
    "### Null 또는 NaN 확인하기"
   ]
  },
  {
   "cell_type": "code",
   "execution_count": null,
   "id": "5b39dab7",
   "metadata": {},
   "outputs": [],
   "source": [
    "df.info()"
   ]
  },
  {
   "cell_type": "code",
   "execution_count": null,
   "id": "ed287984",
   "metadata": {},
   "outputs": [],
   "source": [
    "df.isna()"
   ]
  },
  {
   "cell_type": "code",
   "execution_count": null,
   "id": "f0bde3ae",
   "metadata": {},
   "outputs": [],
   "source": [
    "df.isnull()"
   ]
  },
  {
   "cell_type": "markdown",
   "id": "f4c88fdb",
   "metadata": {},
   "source": [
    "### Null 또는 NaN 값 변경하기"
   ]
  },
  {
   "cell_type": "markdown",
   "id": "24152f92",
   "metadata": {},
   "source": [
    "아래는 Null을 0으로 설정하는 예제입니다."
   ]
  },
  {
   "cell_type": "code",
   "execution_count": null,
   "id": "09e464ef",
   "metadata": {},
   "outputs": [],
   "source": [
    "tmp = df.copy()\n",
    "tmp[\"age\"] = tmp[\"age\"].fillna(0)\n",
    "tmp"
   ]
  },
  {
   "cell_type": "markdown",
   "id": "621f68c2",
   "metadata": {},
   "source": [
    "0으로 설정하기 보다는 선생님의 중간 나이, 학생의 중간 나이로, 각각의 직업군에 맞게 Null값을 변경해줍니다."
   ]
  },
  {
   "cell_type": "code",
   "execution_count": null,
   "id": "447d5cbd",
   "metadata": {},
   "outputs": [],
   "source": [
    "# fill missing age with median age for each group (teacher, student)\n",
    "df[\"age\"].fillna(df.groupby(\"job\")[\"age\"].transform(\"median\"), inplace=True)"
   ]
  },
  {
   "cell_type": "code",
   "execution_count": null,
   "id": "e77c4ee7",
   "metadata": {},
   "outputs": [],
   "source": [
    "df"
   ]
  },
  {
   "cell_type": "markdown",
   "id": "906e7869",
   "metadata": {},
   "source": [
    "### Unique\n",
    "컬럼에 여러 값이 있을 때, 중복 없이 어떤 값들이 있는 지 확인하는 방법입니다."
   ]
  },
  {
   "cell_type": "code",
   "execution_count": null,
   "id": "2d8b4056",
   "metadata": {},
   "outputs": [],
   "source": [
    "job_list = [{'name': 'John', 'job': \"teacher\"},\n",
    "                {'name': 'Nate', 'job': \"teacher\"},\n",
    "                {'name': 'Fred', 'job': \"teacher\"},\n",
    "                {'name': 'Abraham', 'job': \"student\"},\n",
    "                {'name': 'Brian', 'job': \"student\"},\n",
    "                {'name': 'Janny', 'job': \"developer\"},\n",
    "                {'name': 'Nate', 'job': \"teacher\"},\n",
    "                {'name': 'Obrian', 'job': \"dentist\"},\n",
    "                {'name': 'Yuna', 'job': \"teacher\"},\n",
    "                {'name': 'Rob', 'job': \"lawyer\"},\n",
    "                {'name': 'Brian', 'job': \"student\"},\n",
    "                {'name': 'Matt', 'job': \"student\"},\n",
    "                {'name': 'Wendy', 'job': \"banker\"},\n",
    "                {'name': 'Edward', 'job': \"teacher\"},\n",
    "                {'name': 'Ian', 'job': \"teacher\"},\n",
    "                {'name': 'Chris', 'job': \"banker\"},\n",
    "                {'name': 'Philip', 'job': \"lawyer\"},\n",
    "                {'name': 'Janny', 'job': \"basketball player\"},\n",
    "                {'name': 'Gwen', 'job': \"teacher\"},\n",
    "                {'name': 'Jessy', 'job': \"student\"}\n",
    "         ]"
   ]
  },
  {
   "cell_type": "code",
   "execution_count": null,
   "id": "79a5126f",
   "metadata": {},
   "outputs": [],
   "source": [
    "df = pd.DataFrame(job_list, columns = ['name', 'job'])"
   ]
  },
  {
   "cell_type": "markdown",
   "id": "c9579618",
   "metadata": {},
   "source": [
    "컬럼(시리즈)의 unique() 함수를 사용하여, 중복 없이, 컬럼에 있는 모든 값들을 출력할 수 있습니다."
   ]
  },
  {
   "cell_type": "code",
   "execution_count": null,
   "id": "59e0406d",
   "metadata": {},
   "outputs": [],
   "source": [
    "print( df.job.unique() )"
   ]
  },
  {
   "cell_type": "markdown",
   "id": "dbeffb74",
   "metadata": {},
   "source": [
    "각 유니크한 값별로 몇개의 데이터가 속하는 지 value_counts() 함수로 확인할 수 있습니다."
   ]
  },
  {
   "cell_type": "code",
   "execution_count": null,
   "id": "e140fd40",
   "metadata": {},
   "outputs": [],
   "source": [
    "df.job.value_counts()"
   ]
  },
  {
   "cell_type": "markdown",
   "id": "247a10c2",
   "metadata": {},
   "source": [
    "### 두개의 데이터프레임 합치기"
   ]
  },
  {
   "cell_type": "code",
   "execution_count": null,
   "id": "31ca2718",
   "metadata": {},
   "outputs": [],
   "source": [
    "l1 = [{'name': 'John', 'job': \"teacher\"},\n",
    "      {'name': 'Nate', 'job': \"student\"},\n",
    "      {'name': 'Fred', 'job': \"developer\"}]"
   ]
  },
  {
   "cell_type": "code",
   "execution_count": null,
   "id": "1199a0e0",
   "metadata": {},
   "outputs": [],
   "source": [
    "l2 = [{'name': 'Ed', 'job': \"dentist\"},\n",
    "      {'name': 'Jack', 'job': \"farmer\"},\n",
    "      {'name': 'Ted', 'job': \"designer\"}]\n",
    "         "
   ]
  },
  {
   "cell_type": "code",
   "execution_count": null,
   "id": "da29dbf5",
   "metadata": {},
   "outputs": [],
   "source": [
    "df1 = pd.DataFrame(l1, columns = ['name', 'job'])\n",
    "df2 = pd.DataFrame(l2, columns = ['name', 'job'])"
   ]
  },
  {
   "cell_type": "markdown",
   "id": "a42d0579",
   "metadata": {},
   "source": [
    "### pd.concat\n",
    "두번째 데이터프레임을 첫번째 데이터프레임의 새로운 로우(행)로 합칩니다."
   ]
  },
  {
   "cell_type": "code",
   "execution_count": null,
   "id": "11122bc2",
   "metadata": {},
   "outputs": [],
   "source": [
    "frames = [df1, df2]\n",
    "result = pd.concat(frames, ignore_index=True)"
   ]
  },
  {
   "cell_type": "code",
   "execution_count": null,
   "id": "a1ff68ac",
   "metadata": {},
   "outputs": [],
   "source": [
    "result"
   ]
  },
  {
   "cell_type": "markdown",
   "id": "78d64a60",
   "metadata": {},
   "source": [
    "### df.append\n",
    "두번째 데이터프레임을 첫번째 데이터프레임의 새로운 로우(행)로 합칩니다."
   ]
  },
  {
   "cell_type": "code",
   "execution_count": null,
   "id": "518526b2",
   "metadata": {},
   "outputs": [],
   "source": [
    "l1 = [{'name': 'John', 'job': \"teacher\"},\n",
    "      {'name': 'Nate', 'job': \"student\"},\n",
    "      {'name': 'Fred', 'job': \"developer\"}]\n",
    "\n",
    "l2 = [{'name': 'Ed', 'job': \"dentist\"},\n",
    "      {'name': 'Jack', 'job': \"farmer\"},\n",
    "      {'name': 'Ted', 'job': \"designer\"}]\n",
    "         "
   ]
  },
  {
   "cell_type": "code",
   "execution_count": null,
   "id": "3260333d",
   "metadata": {},
   "outputs": [],
   "source": [
    "df1 = pd.DataFrame(l1, columns = ['name', 'job'])\n",
    "df2 = pd.DataFrame(l2, columns = ['name', 'job'])"
   ]
  },
  {
   "cell_type": "code",
   "execution_count": null,
   "id": "771a32ae",
   "metadata": {},
   "outputs": [],
   "source": [
    "result = df1.append(df2, ignore_index=True)"
   ]
  },
  {
   "cell_type": "code",
   "execution_count": null,
   "id": "3c3d9a66",
   "metadata": {},
   "outputs": [],
   "source": [
    "# DataFrame 합치기 (append 사용)\n",
    "result = pd.concat([df1, df2], ignore_index=True)"
   ]
  },
  {
   "cell_type": "code",
   "execution_count": null,
   "id": "45a791cb",
   "metadata": {},
   "outputs": [],
   "source": [
    "result"
   ]
  },
  {
   "cell_type": "markdown",
   "id": "3c6057b7",
   "metadata": {},
   "source": [
    "### 두개의 리스트를 묶어서 데이터프레임으로 생성하기"
   ]
  },
  {
   "cell_type": "code",
   "execution_count": null,
   "id": "f900fbf7",
   "metadata": {},
   "outputs": [],
   "source": [
    "label = [1,2,3,4,5]\n",
    "prediction = [1,2,2,5,5]"
   ]
  },
  {
   "cell_type": "code",
   "execution_count": null,
   "id": "6efbd58e",
   "metadata": {},
   "outputs": [],
   "source": [
    "comparison = pd.DataFrame(\n",
    "    {'label': label,\n",
    "     'prediction': prediction\n",
    "    })"
   ]
  },
  {
   "cell_type": "code",
   "execution_count": null,
   "id": "35671fa9",
   "metadata": {},
   "outputs": [],
   "source": [
    "comparison"
   ]
  },
  {
   "cell_type": "code",
   "execution_count": null,
   "id": "c7937814",
   "metadata": {},
   "outputs": [],
   "source": []
  },
  {
   "cell_type": "code",
   "execution_count": null,
   "id": "cfb8505b",
   "metadata": {},
   "outputs": [],
   "source": []
  }
 ],
 "metadata": {
  "kernelspec": {
   "display_name": "Python 3 (ipykernel)",
   "language": "python",
   "name": "python3"
  },
  "language_info": {
   "codemirror_mode": {
    "name": "ipython",
    "version": 3
   },
   "file_extension": ".py",
   "mimetype": "text/x-python",
   "name": "python",
   "nbconvert_exporter": "python",
   "pygments_lexer": "ipython3",
   "version": "3.11.5"
  },
  "toc": {
   "base_numbering": 1,
   "nav_menu": {},
   "number_sections": true,
   "sideBar": true,
   "skip_h1_title": true,
   "title_cell": "Table of Contents",
   "title_sidebar": "Contents",
   "toc_cell": false,
   "toc_position": {
    "height": "calc(100% - 180px)",
    "left": "10px",
    "top": "150px",
    "width": "185.448px"
   },
   "toc_section_display": true,
   "toc_window_display": true
  }
 },
 "nbformat": 4,
 "nbformat_minor": 5
}
