{
 "cells": [
  {
   "cell_type": "markdown",
   "metadata": {},
   "source": [
    "# 파이썬 활용 디지털마케팅 데이터분석 및 기획"
   ]
  },
  {
   "cell_type": "markdown",
   "metadata": {},
   "source": [
    "# Today's mission\n",
    "\n",
    "- 오리엔테이션(워밍업, 과정소개 등)\n",
    "- 실습 프로젝트 및 경진대회 소개(계획, 팀구성, 발표 등)\n",
    "- 파이썬/아나콘다 설치 및 쥬피터 노트북 개발환경 설정\n",
    "- 디지털마케팅을 위한 데이터 분석 개요\n",
    "- 디지털마케팅을 위한 데이터 분석 프로세스"
   ]
  },
  {
   "cell_type": "markdown",
   "metadata": {},
   "source": [
    "]"
   ]
  },
  {
   "cell_type": "markdown",
   "metadata": {},
   "source": [
    "## Day01-1A 오리엔테이션"
   ]
  },
  {
   "cell_type": "markdown",
   "metadata": {},
   "source": [
    "]"
   ]
  },
  {
   "cell_type": "markdown",
   "metadata": {},
   "source": [
    "### 워밍업\n",
    "\n",
    "- [파이썬 Python ?](https://wikidocs.net/6)\n",
    "\n",
    "\n",
    "- [데이터 분석?](https://miro.medium.com/max/1986/1*jd_xgOzAFw7rBklREtgOTQ.png)\n",
    "\n",
    "\n",
    "- [데이터분석가 커리어](https://project-notwork.tistory.com/m/13)"
   ]
  },
  {
   "cell_type": "markdown",
   "metadata": {},
   "source": [
    "]"
   ]
  },
  {
   "cell_type": "markdown",
   "metadata": {},
   "source": [
    "### 과정소개\n",
    "\n",
    "- 대상 : 기존 빅데이터 분석과정 수강생을 대상으로 실무형 분석사례 경험을 통해 고급 분석가로 성장하기 위해 필요한 현업 적응력을 높일 수 있도록 과정을 진행합니다\n",
    "\n",
    "\n",
    "\n",
    "- 구성 : 수학적, 통계적 지식 크게 필요치 않으며, 프로그래밍 언어보다 디지털마케팅 분석 다양한 분야 경험할 수 있도록 계획\n",
    "\n",
    "\n",
    "- 주요 커리큘럼 :\n",
    "\n",
    "    1) 디지털마케팅을 위한 데이터 분석 개요\n",
    "    \n",
    "    2) 고객 Funnel 분석\n",
    "    \n",
    "    3) 예측 모델링\n",
    "    \n",
    "    4) 신규 지표 개발\n",
    "    \n",
    "    등 ...\n",
    "    "
   ]
  },
  {
   "cell_type": "markdown",
   "metadata": {},
   "source": [
    "]"
   ]
  },
  {
   "cell_type": "markdown",
   "metadata": {},
   "source": [
    "### Ice breaking\n",
    "\n",
    "- 이름 :\n",
    "- 소개 :\n",
    "- 수강 목적(희망 목표) : 결석없이 끝까지! :-)"
   ]
  },
  {
   "cell_type": "markdown",
   "metadata": {},
   "source": [
    "]"
   ]
  },
  {
   "cell_type": "markdown",
   "metadata": {},
   "source": [
    "### 실습 프로젝트 및 경진대회 소개(계획, 팀구성, 발표 등)"
   ]
  },
  {
   "cell_type": "markdown",
   "metadata": {},
   "source": [
    "- 마지막 수업시간 실습 프로젝트 발표 필수 진행 : 강의 보다 실습형 과정\n",
    "- 프로젝트 기획도 하나의 데이터 분석의 스킬  \n",
    "  : 웹 리서치, 경진대회 등 참고 데이터 및 주제 조사\n",
    "- 참고 : [데이콘](https://dacon.io/), [kaggle](https://www.kaggle.com/datasets) 외 다양한 데이터거래소, 기업 등 경진대회\n",
    "- 2주차까지 팀구성 및 계획 수립 후 2주간 분석 실습을 통해 마지막 수업시간 발표 진행\n",
    "- 팀 구성은 수강생 인원에 따라 3~4명으로 구성 : 자발적 구성 또는 강사에게 요청\n",
    "- 주제와 사용 데이터에는 제한이 없으며 중간 과정에 필요한 사항에 대해서는 강사에게 요청\n",
    "- 발표는 데이터 수집/분석/시각화/결과를 쥬피터 노트북으로 시연 또는 PPT로 핵심 결과만 요약 가능"
   ]
  },
  {
   "cell_type": "markdown",
   "metadata": {},
   "source": [
    "]"
   ]
  },
  {
   "cell_type": "code",
   "execution_count": null,
   "metadata": {},
   "outputs": [],
   "source": []
  },
  {
   "cell_type": "markdown",
   "metadata": {},
   "source": [
    "## Day01-1B 파이썬 설치"
   ]
  },
  {
   "cell_type": "markdown",
   "metadata": {},
   "source": [
    "]"
   ]
  },
  {
   "cell_type": "markdown",
   "metadata": {},
   "source": [
    "### 파이썬/아나콘다 설치 및 쥬피터 노트북 개발환경 설정\n",
    "\n",
    "- 파이썬 Python 설치 (IDE : Jupyter Notebook) -"
   ]
  },
  {
   "cell_type": "markdown",
   "metadata": {},
   "source": [
    "1) anaconda 사이트 접속 ( https://www.anaconda.com/distribution/ )\n",
    "   \n",
    "  - 현재 다운로드 가능한 버전 보다 이전 2021-11 버전 설치 권장\n",
    "  - 홈페이지 하단 ADDITIONAL INSTALLERS에서 archive 선택후 Anaconda3-2021.11-Windows-x86_64.exe 설치 \n",
    "\n",
    "2) 설치 참조 자료 : [아나콘다 설치와 주피터](http://www.openwith.net/wp-content/uploads/2018/01/%EC%95%84%EB%82%98%EC%BD%98%EB%8B%A4%EC%99%80-%EC%A3%BC%ED%94%BC%ED%84%B0.pdf)\n",
    "\n",
    "3) 파이썬 자습서 (공식 번역 문서) :\n",
    "https://docs.python.org/ko/3/tutorial/index.html"
   ]
  },
  {
   "cell_type": "markdown",
   "metadata": {},
   "source": [
    "]"
   ]
  },
  {
   "cell_type": "markdown",
   "metadata": {},
   "source": [
    "###  쥬피터 노트북 사용법"
   ]
  },
  {
   "cell_type": "markdown",
   "metadata": {},
   "source": [
    "**Jupyter notebook 특징**\n",
    "- 1) 주피터 노트북은 파이썬 코드를 웹 브라우저에서 실행할 수 있도록 해주는 대화식(Interactive) 환경\n",
    "- 2) 코드 작성 뿐만 아니라 메모까지 쉽게 작성 ( 주피터 노트북 만으로 분석 리포트 작성 )\n",
    "- 3) 파이썬 뿐만 아니라 R, Java, C 등 수많은 언어를 사용할 수 있음\n",
    "\n",
    "\n",
    "\n",
    "**단축키는 위의 메뉴창에 `Help -> Keyboard Shortcuts`에서 확인할 수 있고, 코드 작성을 위한 필수적인 주요 단축키는 다음과 같음.**\n",
    "\n",
    "\n",
    "*블록 선택 모드 (왼쪽의 표시가 \"파란색\" )에 작동하는 단축키들*\n",
    "- `m` : 블록을 Markdown 블록으로 변환합니다. Markdown 모드는 메모를 작성하기에 적합합니다.\n",
    "- `y` : 블록을 Code 블록으로 변환합니다.\n",
    "- `a` : 현재 선택되어 있는 블록의 위에 새로운 블록을 추가합니다. (Above)\n",
    "- `b` : 현재 선택되어 있는 블록의 아래에 새로운 블록을 추가합니다. (Below)\n",
    "- `dd` : 현재 선택되어 있는 블록을 지웁니다. (Delete)\n",
    "\n",
    "*작성 모드 (왼쪽의 표시가 \"초록색\" )에 작동하는 단축키들*\n",
    "- `Shift + Enter` : 현재 선택한 블록의 코드를 실행합니다. \n",
    "- `Alt + Enter` : 코드 실행후 셀 추가\n",
    "- `Shift + Tab` : 툴팁 도움말\n",
    "- `Ctrl + Shift + - ` : 셀 나누기\n",
    "- `Shift + M` : 셀 합치기\n",
    "- `Ctrl + /` : comment\n",
    "\n",
    "\n",
    "**기본 작업 폴더 설정 :\n",
    "- 작업폴더(새 폴더로 생성)에 대한 심볼릭 링크 설정\n",
    "\n",
    "mklink /d \"C:\\Users\\유저명\\링크명\" \"D:\\작업폴더\""
   ]
  },
  {
   "cell_type": "code",
   "execution_count": null,
   "metadata": {},
   "outputs": [],
   "source": []
  },
  {
   "cell_type": "markdown",
   "metadata": {},
   "source": [
    "### Colab 소개\n",
    "\n",
    "> **특징**\n",
    "- 1) Google에서 제공하는 인터넷 기반 Python 실습환경 (별도 개인PC 에 설치 필요없음)\n",
    "- 2) 64비트 플랫폼 제공, Jupyter notebook 형식의 개발환경 사용\n",
    "\n",
    "> **접속경로** \n",
    "- https://colab.research.google.com/\n",
    "\n",
    ">  **참고자료**\n",
    "- [Google Colaboratory 시작하기 (TensorFlow 코딩하기)](https://youtu.be/inN8seMm7UI)"
   ]
  },
  {
   "cell_type": "code",
   "execution_count": 1,
   "metadata": {},
   "outputs": [
    {
     "name": "stdout",
     "output_type": "stream",
     "text": [
      "hello\n"
     ]
    }
   ],
   "source": [
    "print(\"hello\")"
   ]
  },
  {
   "cell_type": "markdown",
   "metadata": {},
   "source": [
    "]"
   ]
  },
  {
   "cell_type": "code",
   "execution_count": null,
   "metadata": {},
   "outputs": [],
   "source": []
  },
  {
   "cell_type": "markdown",
   "metadata": {},
   "source": [
    "## Day01-1C 디지털마케팅을 위한 파이썬 (1)"
   ]
  },
  {
   "cell_type": "code",
   "execution_count": null,
   "metadata": {},
   "outputs": [],
   "source": []
  },
  {
   "cell_type": "markdown",
   "metadata": {},
   "source": [
    "### 디지털마케팅을 위한 파이썬 기초 리뷰\n",
    "\n",
    "  - 참고 : [점프 투 파이썬](https://wikidocs.net/book/1)"
   ]
  },
  {
   "cell_type": "markdown",
   "metadata": {},
   "source": [
    "### 사칙연산"
   ]
  },
  {
   "cell_type": "code",
   "execution_count": 1,
   "metadata": {},
   "outputs": [
    {
     "data": {
      "text/plain": [
       "12"
      ]
     },
     "execution_count": 1,
     "metadata": {},
     "output_type": "execute_result"
    }
   ],
   "source": [
    "1 + 11"
   ]
  },
  {
   "cell_type": "code",
   "execution_count": 2,
   "metadata": {},
   "outputs": [
    {
     "data": {
      "text/plain": [
       "-12"
      ]
     },
     "execution_count": 2,
     "metadata": {},
     "output_type": "execute_result"
    }
   ],
   "source": [
    "7 - 19"
   ]
  },
  {
   "cell_type": "code",
   "execution_count": 3,
   "metadata": {},
   "outputs": [
    {
     "data": {
      "text/plain": [
       "15"
      ]
     },
     "execution_count": 3,
     "metadata": {},
     "output_type": "execute_result"
    }
   ],
   "source": [
    "3 * 5"
   ]
  },
  {
   "cell_type": "code",
   "execution_count": 4,
   "metadata": {},
   "outputs": [
    {
     "data": {
      "text/plain": [
       "0.7142857142857143"
      ]
     },
     "execution_count": 4,
     "metadata": {},
     "output_type": "execute_result"
    }
   ],
   "source": [
    "5 / 7 "
   ]
  },
  {
   "cell_type": "code",
   "execution_count": 5,
   "metadata": {},
   "outputs": [
    {
     "name": "stdout",
     "output_type": "stream",
     "text": [
      "8\n"
     ]
    }
   ],
   "source": [
    "print(2 ** 3)     # 2의 세제곱"
   ]
  },
  {
   "cell_type": "code",
   "execution_count": 6,
   "metadata": {},
   "outputs": [
    {
     "name": "stdout",
     "output_type": "stream",
     "text": [
      "1\n"
     ]
    }
   ],
   "source": [
    "print(8 % 7)      # 8에서 7을 나눈 나머지 (%) "
   ]
  },
  {
   "cell_type": "code",
   "execution_count": 7,
   "metadata": {},
   "outputs": [
    {
     "name": "stdout",
     "output_type": "stream",
     "text": [
      "1\n"
     ]
    }
   ],
   "source": [
    "print(8 // 7)     # 8에서 7을 나눈 몫 (//)"
   ]
  },
  {
   "cell_type": "markdown",
   "metadata": {},
   "source": [
    "### 등호 / 부등호 연산자"
   ]
  },
  {
   "cell_type": "code",
   "execution_count": 8,
   "metadata": {},
   "outputs": [
    {
     "data": {
      "text/plain": [
       "True"
      ]
     },
     "execution_count": 8,
     "metadata": {},
     "output_type": "execute_result"
    }
   ],
   "source": [
    "# 1에서 2를 더한 결과는 3이므로, 참(True)이 나옵니다.\n",
    "1 + 2 == 3"
   ]
  },
  {
   "cell_type": "code",
   "execution_count": 9,
   "metadata": {},
   "outputs": [
    {
     "data": {
      "text/plain": [
       "False"
      ]
     },
     "execution_count": 9,
     "metadata": {},
     "output_type": "execute_result"
    }
   ],
   "source": [
    "# 1에서 2를 더한 결과는 4가 아니기 때문에, 거짓(False)이 나옵니다.\n",
    "1 + 2 == 4"
   ]
  },
  {
   "cell_type": "code",
   "execution_count": 10,
   "metadata": {},
   "outputs": [
    {
     "data": {
      "text/plain": [
       "True"
      ]
     },
     "execution_count": 10,
     "metadata": {},
     "output_type": "execute_result"
    }
   ],
   "source": [
    "# 1 + 2는 3이며, 이는 4가 아닙니다. 그러므로 != 연산을 하면 참(True)이 나옵니다.\n",
    "1 + 2 != 4"
   ]
  },
  {
   "cell_type": "code",
   "execution_count": 11,
   "metadata": {},
   "outputs": [
    {
     "data": {
      "text/plain": [
       "True"
      ]
     },
     "execution_count": 11,
     "metadata": {},
     "output_type": "execute_result"
    }
   ],
   "source": [
    "# 1 + 2는 3이며, 이는 4보다 작습니다. 그러므로 < 연산을 하면 결과는 참(True)이 나옵니다.\n",
    "1 + 2 < 4"
   ]
  },
  {
   "cell_type": "code",
   "execution_count": 12,
   "metadata": {},
   "outputs": [
    {
     "data": {
      "text/plain": [
       "False"
      ]
     },
     "execution_count": 12,
     "metadata": {},
     "output_type": "execute_result"
    }
   ],
   "source": [
    "# 정 반대 연산자(>)를 사용하면 결과는 자연스럽게 거짓(False)이 나온다는 것을 알 수 있습니다.\n",
    "1 + 2 > 4"
   ]
  },
  {
   "cell_type": "code",
   "execution_count": 13,
   "metadata": {},
   "outputs": [
    {
     "data": {
      "text/plain": [
       "True"
      ]
     },
     "execution_count": 13,
     "metadata": {},
     "output_type": "execute_result"
    }
   ],
   "source": [
    "# 하지만 미만(<) 연산자가 아닌 이하(<=) 연산자를 사용하면 결과가 달라집니다.\n",
    "# 1 + 2는 3이며, 이는 3보다 작거나 같기 때문에 결과는 참(True)이 나옵니다.\n",
    "1 + 2 <= 3"
   ]
  },
  {
   "cell_type": "code",
   "execution_count": 14,
   "metadata": {},
   "outputs": [
    {
     "data": {
      "text/plain": [
       "True"
      ]
     },
     "execution_count": 14,
     "metadata": {},
     "output_type": "execute_result"
    }
   ],
   "source": [
    "# 10을 2로 나눈 나머지는 0이므로 참(True)이 나옵니다.\n",
    "# 즉, 이 코드는 짝수와 홀수를 구분하는 용도로 쓰입니다.\n",
    "10 % 2 == 0"
   ]
  },
  {
   "cell_type": "code",
   "execution_count": 15,
   "metadata": {},
   "outputs": [
    {
     "data": {
      "text/plain": [
       "False"
      ]
     },
     "execution_count": 15,
     "metadata": {},
     "output_type": "execute_result"
    }
   ],
   "source": [
    "# 반면, 11을 2로 나눈 나머지는 0이 아니므로 거짓(False)이 나옵니다.\n",
    "11 % 2 == 0"
   ]
  },
  {
   "cell_type": "code",
   "execution_count": 16,
   "metadata": {},
   "outputs": [
    {
     "data": {
      "text/plain": [
       "True"
      ]
     },
     "execution_count": 16,
     "metadata": {},
     "output_type": "execute_result"
    }
   ],
   "source": [
    "12 % 2 == 0 "
   ]
  },
  {
   "cell_type": "code",
   "execution_count": 17,
   "metadata": {},
   "outputs": [
    {
     "data": {
      "text/plain": [
       "True"
      ]
     },
     "execution_count": 17,
     "metadata": {},
     "output_type": "execute_result"
    }
   ],
   "source": [
    "12 % 3 == 0"
   ]
  },
  {
   "cell_type": "code",
   "execution_count": 18,
   "metadata": {},
   "outputs": [
    {
     "data": {
      "text/plain": [
       "True"
      ]
     },
     "execution_count": 18,
     "metadata": {},
     "output_type": "execute_result"
    }
   ],
   "source": [
    "# 12를 2로 나눈 나머지는 0이고, 마찬가지로 3으로 나눈 나머지도 0입니다.\n",
    "# 그러므로 결과는 참(True)이 나옵니다.\n",
    "12 % 2 == 0 and 12 % 3 == 0"
   ]
  },
  {
   "cell_type": "code",
   "execution_count": 19,
   "metadata": {},
   "outputs": [
    {
     "data": {
      "text/plain": [
       "True"
      ]
     },
     "execution_count": 19,
     "metadata": {},
     "output_type": "execute_result"
    }
   ],
   "source": [
    "(14 % 2 == 0) "
   ]
  },
  {
   "cell_type": "code",
   "execution_count": 20,
   "metadata": {},
   "outputs": [
    {
     "data": {
      "text/plain": [
       "False"
      ]
     },
     "execution_count": 20,
     "metadata": {},
     "output_type": "execute_result"
    }
   ],
   "source": [
    "(14 % 3 == 0)"
   ]
  },
  {
   "cell_type": "code",
   "execution_count": 21,
   "metadata": {},
   "outputs": [
    {
     "data": {
      "text/plain": [
       "False"
      ]
     },
     "execution_count": 21,
     "metadata": {},
     "output_type": "execute_result"
    }
   ],
   "source": [
    "# 14는 2로 나눈 나머지가 0이지만, 3으로 나눈 나머지는 0이 아닙니다.\n",
    "# 그러므로 결과는 거짓(False)이 나옵니다.\n",
    "(14 % 2 == 0) and (14 % 3 == 0)"
   ]
  },
  {
   "cell_type": "code",
   "execution_count": 22,
   "metadata": {},
   "outputs": [
    {
     "data": {
      "text/plain": [
       "True"
      ]
     },
     "execution_count": 22,
     "metadata": {},
     "output_type": "execute_result"
    }
   ],
   "source": [
    "# 반면 or 조건은 둘 중 하나만 참이여도 참이 되기 때문에,\n",
    "# 아래의 코드는 결과적으로 참(True)이 출력됩니다.\n",
    "14 % 2 == 0 or 14 % 3 == 0"
   ]
  },
  {
   "cell_type": "code",
   "execution_count": 23,
   "metadata": {},
   "outputs": [
    {
     "data": {
      "text/plain": [
       "False"
      ]
     },
     "execution_count": 23,
     "metadata": {},
     "output_type": "execute_result"
    }
   ],
   "source": [
    "11 + 22 != 33"
   ]
  },
  {
   "cell_type": "code",
   "execution_count": 24,
   "metadata": {},
   "outputs": [
    {
     "data": {
      "text/plain": [
       "False"
      ]
     },
     "execution_count": 24,
     "metadata": {},
     "output_type": "execute_result"
    }
   ],
   "source": [
    "11 + 22 == 44"
   ]
  },
  {
   "cell_type": "code",
   "execution_count": 25,
   "metadata": {},
   "outputs": [
    {
     "data": {
      "text/plain": [
       "True"
      ]
     },
     "execution_count": 25,
     "metadata": {},
     "output_type": "execute_result"
    }
   ],
   "source": [
    "11 + 22 != 44"
   ]
  },
  {
   "cell_type": "code",
   "execution_count": 26,
   "metadata": {},
   "outputs": [
    {
     "data": {
      "text/plain": [
       "True"
      ]
     },
     "execution_count": 26,
     "metadata": {},
     "output_type": "execute_result"
    }
   ],
   "source": [
    "11 + 22 < 44"
   ]
  },
  {
   "cell_type": "code",
   "execution_count": 27,
   "metadata": {},
   "outputs": [
    {
     "data": {
      "text/plain": [
       "False"
      ]
     },
     "execution_count": 27,
     "metadata": {},
     "output_type": "execute_result"
    }
   ],
   "source": [
    "11 + 22 > 44"
   ]
  },
  {
   "cell_type": "code",
   "execution_count": 28,
   "metadata": {},
   "outputs": [
    {
     "data": {
      "text/plain": [
       "False"
      ]
     },
     "execution_count": 28,
     "metadata": {},
     "output_type": "execute_result"
    }
   ],
   "source": [
    "11 + 22 < 33"
   ]
  },
  {
   "cell_type": "code",
   "execution_count": 29,
   "metadata": {},
   "outputs": [
    {
     "data": {
      "text/plain": [
       "True"
      ]
     },
     "execution_count": 29,
     "metadata": {},
     "output_type": "execute_result"
    }
   ],
   "source": [
    "11 + 22 <= 33"
   ]
  },
  {
   "cell_type": "code",
   "execution_count": 30,
   "metadata": {},
   "outputs": [
    {
     "data": {
      "text/plain": [
       "False"
      ]
     },
     "execution_count": 30,
     "metadata": {},
     "output_type": "execute_result"
    }
   ],
   "source": [
    "11 + 22 > 33"
   ]
  },
  {
   "cell_type": "code",
   "execution_count": 31,
   "metadata": {},
   "outputs": [
    {
     "data": {
      "text/plain": [
       "True"
      ]
     },
     "execution_count": 31,
     "metadata": {},
     "output_type": "execute_result"
    }
   ],
   "source": [
    "11 + 22 >= 33"
   ]
  },
  {
   "cell_type": "code",
   "execution_count": 32,
   "metadata": {},
   "outputs": [
    {
     "data": {
      "text/plain": [
       "True"
      ]
     },
     "execution_count": 32,
     "metadata": {},
     "output_type": "execute_result"
    }
   ],
   "source": [
    "10 % 2 == 0"
   ]
  },
  {
   "cell_type": "code",
   "execution_count": 33,
   "metadata": {},
   "outputs": [
    {
     "data": {
      "text/plain": [
       "False"
      ]
     },
     "execution_count": 33,
     "metadata": {},
     "output_type": "execute_result"
    }
   ],
   "source": [
    "11 % 2 == 0"
   ]
  },
  {
   "cell_type": "code",
   "execution_count": 34,
   "metadata": {},
   "outputs": [
    {
     "data": {
      "text/plain": [
       "True"
      ]
     },
     "execution_count": 34,
     "metadata": {},
     "output_type": "execute_result"
    }
   ],
   "source": [
    "12 % 2 == 0 and 12 % 3 == 0"
   ]
  },
  {
   "cell_type": "code",
   "execution_count": 35,
   "metadata": {},
   "outputs": [
    {
     "data": {
      "text/plain": [
       "False"
      ]
     },
     "execution_count": 35,
     "metadata": {},
     "output_type": "execute_result"
    }
   ],
   "source": [
    "(14 % 2 == 0) and (14 % 3 == 0)"
   ]
  },
  {
   "cell_type": "code",
   "execution_count": 36,
   "metadata": {},
   "outputs": [
    {
     "data": {
      "text/plain": [
       "True"
      ]
     },
     "execution_count": 36,
     "metadata": {},
     "output_type": "execute_result"
    }
   ],
   "source": [
    "14 % 2 == 0 or 14 % 3 == 0"
   ]
  },
  {
   "cell_type": "markdown",
   "metadata": {},
   "source": [
    "### 변수 Variables"
   ]
  },
  {
   "cell_type": "code",
   "execution_count": 37,
   "metadata": {},
   "outputs": [],
   "source": [
    "# a 변수에 3을 할당 합니다.\n",
    "a = 3"
   ]
  },
  {
   "cell_type": "code",
   "execution_count": 38,
   "metadata": {},
   "outputs": [],
   "source": [
    "# b 변수에 5를 할당 합니다.\n",
    "b = 5"
   ]
  },
  {
   "cell_type": "code",
   "execution_count": 39,
   "metadata": {},
   "outputs": [
    {
     "data": {
      "text/plain": [
       "8"
      ]
     },
     "execution_count": 39,
     "metadata": {},
     "output_type": "execute_result"
    }
   ],
   "source": [
    "# 변수 a의 값 3과 변수 b의 값 5가 더해져 결과는 8이 나옵니다.\n",
    "a + b"
   ]
  },
  {
   "cell_type": "code",
   "execution_count": 40,
   "metadata": {},
   "outputs": [
    {
     "data": {
      "text/plain": [
       "16"
      ]
     },
     "execution_count": 40,
     "metadata": {},
     "output_type": "execute_result"
    }
   ],
   "source": [
    "# a에는 3이 b에는 13이 할당 됩니다.\n",
    "a = 3\n",
    "b = 13\n",
    "# 변수 a의 값 3과 변수 b의 값 13가 더해져 결과는 16이 나옵니다.\n",
    "# 위의 코드와 동일한데도 결과는 다른 값이 출력됩니다. 이는 변수에 다른 값을 할당했기 때문입니다.\n",
    "a + b"
   ]
  },
  {
   "cell_type": "code",
   "execution_count": 41,
   "metadata": {},
   "outputs": [],
   "source": [
    "# a라는 변수에 3을 할당합니다.\n",
    "a = 3\n",
    "# a라는 변수를 활용하여 덧셈 연산을 한 뒤 뒤 다시 a에 할당할 수 있습니다.\n",
    "a = a + 1"
   ]
  },
  {
   "cell_type": "code",
   "execution_count": 42,
   "metadata": {},
   "outputs": [
    {
     "name": "stdout",
     "output_type": "stream",
     "text": [
      "4\n"
     ]
    }
   ],
   "source": [
    "# 참고사항 : 쥬피터 노트북은 가장 마지막의 연산값만 출력합니다.\n",
    "# 중간값 출력을 원한다면 print()를 활용하면 됩니다.\n",
    "# a의 값은 4이므로 4가 출력됩니다.\n",
    "print(a)"
   ]
  },
  {
   "cell_type": "code",
   "execution_count": 43,
   "metadata": {},
   "outputs": [
    {
     "data": {
      "text/plain": [
       "6"
      ]
     },
     "execution_count": 43,
     "metadata": {},
     "output_type": "execute_result"
    }
   ],
   "source": [
    "# 같은 방식으로 a에 새로운 값을 할당해보겠습니다.\n",
    "# 이번에는 a가 4이므로 여기에 2를 더하면 6이 되며, 이 값을 a에 다시 할당할 수 있습니다.\n",
    "a = a + 2\n",
    "a"
   ]
  },
  {
   "cell_type": "code",
   "execution_count": 44,
   "metadata": {},
   "outputs": [
    {
     "data": {
      "text/plain": [
       "121"
      ]
     },
     "execution_count": 44,
     "metadata": {},
     "output_type": "execute_result"
    }
   ],
   "source": [
    "# 영문, 숫자+영문, 예약어\n",
    "a = 55\n",
    "b = 66\n",
    "\n",
    "a + b"
   ]
  },
  {
   "cell_type": "code",
   "execution_count": 45,
   "metadata": {},
   "outputs": [
    {
     "data": {
      "text/plain": [
       "77"
      ]
     },
     "execution_count": 45,
     "metadata": {},
     "output_type": "execute_result"
    }
   ],
   "source": [
    "a = 33\n",
    "b = 44\n",
    "\n",
    "a + b"
   ]
  },
  {
   "cell_type": "code",
   "execution_count": 46,
   "metadata": {},
   "outputs": [
    {
     "name": "stdout",
     "output_type": "stream",
     "text": [
      "44\n"
     ]
    }
   ],
   "source": [
    "a = 33\n",
    "a = a + 11\n",
    "\n",
    "print(a)"
   ]
  },
  {
   "cell_type": "code",
   "execution_count": 48,
   "metadata": {},
   "outputs": [],
   "source": [
    "#and = a + 22\n",
    "#print(and)"
   ]
  },
  {
   "cell_type": "markdown",
   "metadata": {},
   "source": [
    "]"
   ]
  },
  {
   "cell_type": "markdown",
   "metadata": {},
   "source": [
    "### Boolean \n",
    "\n",
    "- 불(bool)은 참(True)과 거짓(False)만을 나타내는 개념\n",
    "- True 는 1, False 는 0 과 같은 의미로 볼 수 있음"
   ]
  },
  {
   "cell_type": "code",
   "execution_count": 49,
   "metadata": {},
   "outputs": [
    {
     "data": {
      "text/plain": [
       "True"
      ]
     },
     "execution_count": 49,
     "metadata": {},
     "output_type": "execute_result"
    }
   ],
   "source": [
    "# 파이썬에서는 True 라는 텍스트로 참을 표현할 수 있습니다.\n",
    "True"
   ]
  },
  {
   "cell_type": "code",
   "execution_count": 50,
   "metadata": {},
   "outputs": [
    {
     "data": {
      "text/plain": [
       "False"
      ]
     },
     "execution_count": 50,
     "metadata": {},
     "output_type": "execute_result"
    }
   ],
   "source": [
    "# 정 반대로 거짓은 False로 표현합니다.\n",
    "False"
   ]
  },
  {
   "cell_type": "code",
   "execution_count": 51,
   "metadata": {},
   "outputs": [
    {
     "data": {
      "text/plain": [
       "True"
      ]
     },
     "execution_count": 51,
     "metadata": {},
     "output_type": "execute_result"
    }
   ],
   "source": [
    "# True와 1은 동일합니다. 반대로 True == 0을 하면 False가 나올 것입니다.\n",
    "True == 1"
   ]
  },
  {
   "cell_type": "code",
   "execution_count": 52,
   "metadata": {},
   "outputs": [
    {
     "data": {
      "text/plain": [
       "True"
      ]
     },
     "execution_count": 52,
     "metadata": {},
     "output_type": "execute_result"
    }
   ],
   "source": [
    "# False와 0은 동일합니다. 반대로 False == 1을 하면 False가 나올 것입니다.\n",
    "False == 0"
   ]
  },
  {
   "cell_type": "code",
   "execution_count": 54,
   "metadata": {},
   "outputs": [
    {
     "data": {
      "text/plain": [
       "False"
      ]
     },
     "execution_count": 54,
     "metadata": {},
     "output_type": "execute_result"
    }
   ],
   "source": [
    "# True와 \"True\"는 동일하지 않기 때문에 비교하면 False가 나옵니다.\n",
    "True == \"True\""
   ]
  },
  {
   "cell_type": "code",
   "execution_count": 55,
   "metadata": {},
   "outputs": [
    {
     "data": {
      "text/plain": [
       "False"
      ]
     },
     "execution_count": 55,
     "metadata": {},
     "output_type": "execute_result"
    }
   ],
   "source": [
    "# 비슷하게 False \"False\"는 동일하지 않기 때문에 False라고 나옵니다.\n",
    "False == \"False\""
   ]
  },
  {
   "cell_type": "code",
   "execution_count": 56,
   "metadata": {},
   "outputs": [
    {
     "data": {
      "text/plain": [
       "'False'"
      ]
     },
     "execution_count": 56,
     "metadata": {},
     "output_type": "execute_result"
    }
   ],
   "source": [
    "\"False\""
   ]
  },
  {
   "cell_type": "code",
   "execution_count": 57,
   "metadata": {},
   "outputs": [
    {
     "data": {
      "text/plain": [
       "True"
      ]
     },
     "execution_count": 57,
     "metadata": {},
     "output_type": "execute_result"
    }
   ],
   "source": [
    "1 + 2 != 4"
   ]
  },
  {
   "cell_type": "markdown",
   "metadata": {},
   "source": [
    "###  문자열 (1)"
   ]
  },
  {
   "cell_type": "code",
   "execution_count": 57,
   "metadata": {},
   "outputs": [],
   "source": [
    "# 가령 정수형(1)과 문자열(\"2\")를 더할 경우 에러가 납니다.\n",
    "# 왜냐하면 정수형과 문자열을 덧셈을 할 수 없기 때문입니다.\n",
    "#1 + \"2\""
   ]
  },
  {
   "cell_type": "code",
   "execution_count": 58,
   "metadata": {},
   "outputs": [
    {
     "data": {
      "text/plain": [
       "3"
      ]
     },
     "execution_count": 58,
     "metadata": {},
     "output_type": "execute_result"
    }
   ],
   "source": [
    "# 가령 위 에러는 이렇게 수정할 수 있습니다.\n",
    "1 + 2"
   ]
  },
  {
   "cell_type": "code",
   "execution_count": 59,
   "metadata": {},
   "outputs": [
    {
     "data": {
      "text/plain": [
       "'12'"
      ]
     },
     "execution_count": 59,
     "metadata": {},
     "output_type": "execute_result"
    }
   ],
   "source": [
    "# 또는 이렇게도 수정할 수 있습니다.\n",
    "# (파이썬에서는 문자열끼리 덧셈(+)을 하면 두 문자열을 앞뒤로 붙입니다)\n",
    "\"1\" + \"2\""
   ]
  },
  {
   "cell_type": "markdown",
   "metadata": {},
   "source": [
    "#### 문자열 포맷팅(formatting)"
   ]
  },
  {
   "cell_type": "code",
   "execution_count": 60,
   "metadata": {},
   "outputs": [],
   "source": [
    "# 먼저 apple와 days라는 두 개의 변수를 할당합니다.\n",
    "apple = 3\n",
    "days = 5"
   ]
  },
  {
   "cell_type": "code",
   "execution_count": 61,
   "metadata": {},
   "outputs": [
    {
     "data": {
      "text/plain": [
       "'I ate 3 apple for 5 days'"
      ]
     },
     "execution_count": 61,
     "metadata": {},
     "output_type": "execute_result"
    }
   ],
   "source": [
    "# 파이썬의 format이라는 기능을 사용합니다.\n",
    "# .format() 안에 두 개의 변수(apple, days)를 순서대로 넣고,\n",
    "# 이 순서를 중괄호를 활용해 {0}, {1} 로 문자열 안에 적습니다.\n",
    "# 단 프로그래밍 언어에서 모든 숫자의 시작은 0부터 시작한다는 것에 유의합니다.\n",
    "\"I ate {0} apple for {1} days\".format(apple, days)"
   ]
  },
  {
   "cell_type": "code",
   "execution_count": 62,
   "metadata": {},
   "outputs": [
    {
     "data": {
      "text/plain": [
       "'I ate 3 bananas for 5 days.'"
      ]
     },
     "execution_count": 62,
     "metadata": {},
     "output_type": "execute_result"
    }
   ],
   "source": [
    "# 새로운 버전의 파이썬(3.6+)은\n",
    "# 아래와 같이 더 간결한 방식으로 포메팅을 할 수 있습니다.\n",
    "f\"I ate {apple} bananas for {days} days.\""
   ]
  },
  {
   "cell_type": "code",
   "execution_count": 63,
   "metadata": {},
   "outputs": [],
   "source": [
    "# 두 개의 소수점 값을 변수에 할당합니다.\n",
    "float_a = 0.987654321\n",
    "float_b = 0.123456789"
   ]
  },
  {
   "cell_type": "code",
   "execution_count": 64,
   "metadata": {},
   "outputs": [
    {
     "data": {
      "text/plain": [
       "'[Accuracy] Model A = 0.988 Model B = 0.12346'"
      ]
     },
     "execution_count": 64,
     "metadata": {},
     "output_type": "execute_result"
    }
   ],
   "source": [
    "# float_a 라는 변수에 할당한 값은 소수점 세 자리까지(0:.3)\n",
    "# float_b 에 할당한 값은 소수점 다섯 자리까지(1:.5) 출력합니다.\n",
    "\"[Accuracy] Model A = {0:.3} Model B = {1:.5}\".format(float_a, float_b)"
   ]
  },
  {
   "cell_type": "code",
   "execution_count": 65,
   "metadata": {},
   "outputs": [
    {
     "data": {
      "text/plain": [
       "'[Accuracy] Model A = 0.98765 Model B = 0.123'"
      ]
     },
     "execution_count": 65,
     "metadata": {},
     "output_type": "execute_result"
    }
   ],
   "source": [
    "# 당연하지만 신버전 포메팅을 사용해서 자릿수를 줄여서 출력할 수도 있습니다.\n",
    "f\"[Accuracy] Model A = {float_a:.5f} Model B = {float_b:.3f}\""
   ]
  },
  {
   "cell_type": "code",
   "execution_count": 66,
   "metadata": {},
   "outputs": [
    {
     "data": {
      "text/plain": [
       "\"Henry's job\""
      ]
     },
     "execution_count": 66,
     "metadata": {},
     "output_type": "execute_result"
    }
   ],
   "source": [
    "\"Henry's job\""
   ]
  },
  {
   "cell_type": "markdown",
   "metadata": {},
   "source": [
    "### 문자열 (2)"
   ]
  },
  {
   "cell_type": "code",
   "execution_count": 67,
   "metadata": {},
   "outputs": [
    {
     "data": {
      "text/plain": [
       "'Hello, World!'"
      ]
     },
     "execution_count": 67,
     "metadata": {},
     "output_type": "execute_result"
    }
   ],
   "source": [
    "message = \"Hello, World!\"\n",
    "message"
   ]
  },
  {
   "cell_type": "code",
   "execution_count": 69,
   "metadata": {},
   "outputs": [
    {
     "name": "stdout",
     "output_type": "stream",
     "text": [
      "H\n",
      "o\n",
      "----\n",
      "!\n",
      "d\n"
     ]
    }
   ],
   "source": [
    "# 문자열의 n 번째 알파벳을 출력할 수 있습니다. 이를 인덱싱(Indexing)이라고 합니다.\n",
    "# 앞서 말씀 드린대로, 모든 프로그래밍 언어는 0부터 숫자를 셉니다.\n",
    "print(message[0])\n",
    "print(message[4])\n",
    "\n",
    "print(\"----\")\n",
    "\n",
    "# 뒤에서부터 문자를 출력할 때는 -1부터 시작합니다.\n",
    "print(message[-1])\n",
    "print(message[-2])"
   ]
  },
  {
   "cell_type": "code",
   "execution_count": 70,
   "metadata": {},
   "outputs": [
    {
     "name": "stdout",
     "output_type": "stream",
     "text": [
      "Hell\n",
      "Hell\n"
     ]
    },
    {
     "data": {
      "text/plain": [
       "'o, World!'"
      ]
     },
     "execution_count": 70,
     "metadata": {},
     "output_type": "execute_result"
    }
   ],
   "source": [
    "# 문자열의 특정 부분만 출력할 수 있습니다. 이를 슬라이싱(slicing)이라고 합니다.\n",
    "# 0:4는 0 번째부터 4번째의 바로 앞인 3 번째까지 출력합니다.\n",
    "print(message[0:4])\n",
    "\n",
    "# 위 코드에서는 0을 생략할 수 있습니다.\n",
    "print(message[:4])\n",
    "\n",
    "# 비슷한 원리로 끝나는 부분도 생략 가능합니다.\n",
    "# 이 경우는 문자열의 맨 마지막까지 슬라이싱합니다.\n",
    "message[4:]"
   ]
  },
  {
   "cell_type": "code",
   "execution_count": 71,
   "metadata": {},
   "outputs": [
    {
     "data": {
      "text/plain": [
       "True"
      ]
     },
     "execution_count": 71,
     "metadata": {},
     "output_type": "execute_result"
    }
   ],
   "source": [
    "\"Hell\" in message"
   ]
  },
  {
   "cell_type": "code",
   "execution_count": 72,
   "metadata": {},
   "outputs": [
    {
     "name": "stdout",
     "output_type": "stream",
     "text": [
      "True\n"
     ]
    }
   ],
   "source": [
    "# in 을 통해 문자열 안에 특정 문자 내지는 문자열이 있는지 확인 할 수 있습니다.\n",
    "# Hello World에는 H가 있기 때문에 참(True)이 나옵니다.\n",
    "print(\"H\" in message)"
   ]
  },
  {
   "cell_type": "code",
   "execution_count": 73,
   "metadata": {},
   "outputs": [
    {
     "name": "stdout",
     "output_type": "stream",
     "text": [
      "False\n"
     ]
    }
   ],
   "source": [
    "# 하지만 Hello World에는 A가 없기 때문에 참(True)이 나옵니다.\n",
    "print(\"A\" in message)"
   ]
  },
  {
   "cell_type": "code",
   "execution_count": 74,
   "metadata": {},
   "outputs": [
    {
     "name": "stdout",
     "output_type": "stream",
     "text": [
      "False\n"
     ]
    }
   ],
   "source": [
    "# 파이썬은 대소문자를 구분합니다.\n",
    "# 그러므로 \"H\"는 참(True)이 나오지만 \"h\"는 거짓(False)이 나옵니다.\n",
    "print(\"h\" in message)"
   ]
  },
  {
   "cell_type": "code",
   "execution_count": 75,
   "metadata": {},
   "outputs": [
    {
     "name": "stdout",
     "output_type": "stream",
     "text": [
      "True\n"
     ]
    }
   ],
   "source": [
    "# 알파벳 뿐만 아니라 문장도 in 연산자를 사용할 수 있습니다.\n",
    "print(\"Hell\" in message)"
   ]
  },
  {
   "cell_type": "code",
   "execution_count": 76,
   "metadata": {},
   "outputs": [
    {
     "data": {
      "text/plain": [
       "'HELLO, WORLD!'"
      ]
     },
     "execution_count": 76,
     "metadata": {},
     "output_type": "execute_result"
    }
   ],
   "source": [
    "# upper() 메소드는 모든 문자를 대문자로 변환해주는 함수입니다.\n",
    "message.upper()"
   ]
  },
  {
   "cell_type": "code",
   "execution_count": 77,
   "metadata": {},
   "outputs": [
    {
     "data": {
      "text/plain": [
       "'hello, world!'"
      ]
     },
     "execution_count": 77,
     "metadata": {},
     "output_type": "execute_result"
    }
   ],
   "source": [
    "# lower() 메소드는 모든 문자를 소문자로 변환해주는 함수입니다.\n",
    "message.lower()"
   ]
  },
  {
   "cell_type": "code",
   "execution_count": 78,
   "metadata": {},
   "outputs": [
    {
     "data": {
      "text/plain": [
       "2"
      ]
     },
     "execution_count": 78,
     "metadata": {},
     "output_type": "execute_result"
    }
   ],
   "source": [
    "# count() 메소드는 문자열 내에 특정 문자열/알파벳이 몇 개 있는지 세줍니다.\n",
    "# 아래 코드는 \"Hello World\"에서 \"o\"라는 알파벳이 몇 개 있는지를 세줍니다.\n",
    "message.count(\"o\")"
   ]
  },
  {
   "cell_type": "code",
   "execution_count": 79,
   "metadata": {},
   "outputs": [
    {
     "data": {
      "text/plain": [
       "'Jello, World!'"
      ]
     },
     "execution_count": 79,
     "metadata": {},
     "output_type": "execute_result"
    }
   ],
   "source": [
    "# replace() 메소드는 문자열의 특정 부분을 교체할 수 있습니다.\n",
    "# 다음 코드는 \"Hello World\"에서 H를 J로 교체합니다.\n",
    "message.replace(\"H\", \"J\")"
   ]
  },
  {
   "cell_type": "code",
   "execution_count": 80,
   "metadata": {},
   "outputs": [
    {
     "data": {
      "text/plain": [
       "['Hello,', 'World!']"
      ]
     },
     "execution_count": 80,
     "metadata": {},
     "output_type": "execute_result"
    }
   ],
   "source": [
    "# split() 메소드는 문자열을 쪼개서 리스트를 만들 수 있습니다.\n",
    "# split() 안에 특정 문자열을 지정하면 (ex: \" \") 해당 문자열을 기준으로 쪼갭니다.\n",
    "message.split(\" \")"
   ]
  },
  {
   "cell_type": "code",
   "execution_count": 81,
   "metadata": {
    "scrolled": true
   },
   "outputs": [
    {
     "data": {
      "text/plain": [
       "'Hello, World!'"
      ]
     },
     "execution_count": 81,
     "metadata": {},
     "output_type": "execute_result"
    }
   ],
   "source": [
    "# strip() 메소드는 문자열 좌우에 있는 공백을 제거해줍니다.\n",
    "# 결과적으로 \"   Hello World!  \" 문자열이 \"Hello World!\"로 바뀝니다.\n",
    "\"   Hello, World!  \".strip()"
   ]
  },
  {
   "cell_type": "code",
   "execution_count": 82,
   "metadata": {},
   "outputs": [
    {
     "name": "stdout",
     "output_type": "stream",
     "text": [
      "hello, world!\n"
     ]
    }
   ],
   "source": [
    "print(message.lower())"
   ]
  },
  {
   "cell_type": "code",
   "execution_count": 83,
   "metadata": {},
   "outputs": [
    {
     "name": "stdout",
     "output_type": "stream",
     "text": [
      "HELLO, WORLD!\n"
     ]
    }
   ],
   "source": [
    "print(message.upper())"
   ]
  },
  {
   "cell_type": "code",
   "execution_count": 84,
   "metadata": {},
   "outputs": [
    {
     "name": "stdout",
     "output_type": "stream",
     "text": [
      "0\n"
     ]
    }
   ],
   "source": [
    "print(message.count(\"h\"))"
   ]
  },
  {
   "cell_type": "code",
   "execution_count": 85,
   "metadata": {},
   "outputs": [
    {
     "name": "stdout",
     "output_type": "stream",
     "text": [
      "Jello, World!\n"
     ]
    }
   ],
   "source": [
    "print(message.replace(\"H\", \"J\"))"
   ]
  },
  {
   "cell_type": "code",
   "execution_count": 86,
   "metadata": {},
   "outputs": [],
   "source": [
    "message_split = message.split(\" \")"
   ]
  },
  {
   "cell_type": "code",
   "execution_count": 87,
   "metadata": {},
   "outputs": [
    {
     "name": "stdout",
     "output_type": "stream",
     "text": [
      "Hello, World! ['Hello,', 'World!']\n"
     ]
    }
   ],
   "source": [
    "print(message, message_split)"
   ]
  },
  {
   "cell_type": "markdown",
   "metadata": {},
   "source": [
    "### 리스트 List\n",
    "\n",
    "- Python 에서 List 는 다른 개발언어에서 Array(배열) 기능과 유사\n",
    "- 여러 개의 값(숫자, 문자 등) 을 1개로 묶어서 변수에 할당하는 역할"
   ]
  },
  {
   "cell_type": "code",
   "execution_count": 88,
   "metadata": {},
   "outputs": [
    {
     "data": {
      "text/plain": [
       "[1, 3, 5, 7, 9]"
      ]
     },
     "execution_count": 88,
     "metadata": {},
     "output_type": "execute_result"
    }
   ],
   "source": [
    "# 리스트를 만들 때는 대괄호([])를 사용합니다.\n",
    "odd = [1, 3, 5, 7, 9]\n",
    "odd"
   ]
  },
  {
   "cell_type": "code",
   "execution_count": 89,
   "metadata": {},
   "outputs": [
    {
     "name": "stdout",
     "output_type": "stream",
     "text": [
      "1\n",
      "3\n",
      "----\n",
      "9\n",
      "7\n"
     ]
    }
   ],
   "source": [
    "# 문자열과 마찬가지로, 인덱싱을 통해 리스트의 n 번째 값을 출력할 수 있습니다.\n",
    "print(odd[0])\n",
    "print(odd[1])\n",
    "\n",
    "print(\"----\")\n",
    "\n",
    "# 뒤에서부터 값을 가져오는 것도 동일합니다.\n",
    "print(odd[-1])\n",
    "print(odd[-2])"
   ]
  },
  {
   "cell_type": "code",
   "execution_count": 90,
   "metadata": {},
   "outputs": [
    {
     "data": {
      "text/plain": [
       "[1, 3, 5, 7]"
      ]
     },
     "execution_count": 90,
     "metadata": {},
     "output_type": "execute_result"
    }
   ],
   "source": [
    "# 슬라이싱도 동일하게 사용할 수 있습니다.\n",
    "# 아래의 코드는 리스트에서 0번째 값과 4번째 바로 앞에 있는 값(=3번째 값)을 가져옵니다.\n",
    "odd[0:4]"
   ]
  },
  {
   "cell_type": "code",
   "execution_count": 91,
   "metadata": {},
   "outputs": [
    {
     "data": {
      "text/plain": [
       "[1, 3, 5, 7]"
      ]
     },
     "execution_count": 91,
     "metadata": {},
     "output_type": "execute_result"
    }
   ],
   "source": [
    "# 위 코드에서는 0을 생략할 수 있습니다.\n",
    "odd[:4]"
   ]
  },
  {
   "cell_type": "code",
   "execution_count": 92,
   "metadata": {},
   "outputs": [
    {
     "data": {
      "text/plain": [
       "[7, 9]"
      ]
     },
     "execution_count": 92,
     "metadata": {},
     "output_type": "execute_result"
    }
   ],
   "source": [
    "# 비슷한 원리로 끝나는 부분도 생략 가능합니다.\n",
    "# 이 경우는 자연스럽게 문자열의 맨 마지막까지 슬라이싱합니다.\n",
    "odd[3:]"
   ]
  },
  {
   "cell_type": "code",
   "execution_count": 93,
   "metadata": {},
   "outputs": [
    {
     "name": "stdout",
     "output_type": "stream",
     "text": [
      "True\n",
      "False\n",
      "True\n"
     ]
    }
   ],
   "source": [
    "# 문자열과 마찬가지로 리스트에 특정값이 포함되어 있는지 확인할 수 있습니다.\n",
    "# 아래의 코드는 odd라는 리스트에 1이 들어가 있는지 확인합니다.\n",
    "print(1 in odd)\n",
    "\n",
    "# odd는 홀수이기 때문에 2는 들어가 있지 않습니다.\n",
    "print(2 in odd)\n",
    "\n",
    "# 하지만 3은 들어가 있는 것을 확인할 수 있습니다.\n",
    "print(3 in odd)"
   ]
  },
  {
   "cell_type": "code",
   "execution_count": 94,
   "metadata": {},
   "outputs": [
    {
     "data": {
      "text/plain": [
       "[1, 3, 5, 7, 9]"
      ]
     },
     "execution_count": 94,
     "metadata": {},
     "output_type": "execute_result"
    }
   ],
   "source": [
    "odd"
   ]
  },
  {
   "cell_type": "code",
   "execution_count": 95,
   "metadata": {},
   "outputs": [
    {
     "data": {
      "text/plain": [
       "[1, 3, 5, 7, 9, 11]"
      ]
     },
     "execution_count": 95,
     "metadata": {},
     "output_type": "execute_result"
    }
   ],
   "source": [
    "# .append() 라는 메소드를 이용하면 리스트에 값을 추가할 수 있습니다.\n",
    "# 다음의 코드는 odd라는 리스트에 11이라는 값을 추가합니다.\n",
    "odd.append(11)\n",
    "odd"
   ]
  },
  {
   "cell_type": "code",
   "execution_count": 96,
   "metadata": {},
   "outputs": [
    {
     "data": {
      "text/plain": [
       "[1, 3, 5, 7, 9]"
      ]
     },
     "execution_count": 96,
     "metadata": {},
     "output_type": "execute_result"
    }
   ],
   "source": [
    "# 정 반대의 기능을 담당하는 것은 .pop()입니다.\n",
    "# 이 기능을 사용하면 리스트의 마지막 값을 제거합니다.\n",
    "odd.pop()\n",
    "odd"
   ]
  },
  {
   "cell_type": "code",
   "execution_count": 97,
   "metadata": {},
   "outputs": [
    {
     "data": {
      "text/plain": [
       "[1, 3, 5, 9]"
      ]
     },
     "execution_count": 97,
     "metadata": {},
     "output_type": "execute_result"
    }
   ],
   "source": [
    "# 마지막이 아닌 특정 위치에 있는 값을 지우고 싶다면 del을 사용합니다.\n",
    "# 아래 코드는 odd 리스트에 있는 3번째 값(7)을 제거합니다.\n",
    "del odd[3]\n",
    "odd"
   ]
  },
  {
   "cell_type": "code",
   "execution_count": 98,
   "metadata": {},
   "outputs": [
    {
     "data": {
      "text/plain": [
       "[1, 5, 9]"
      ]
     },
     "execution_count": 98,
     "metadata": {},
     "output_type": "execute_result"
    }
   ],
   "source": [
    "# 만일 특정한 값을 지우고 싶다면 .remove() 라는 메소드를 사용합니다.\n",
    "# 아래 코드는 리스트에서 값이 3인 숫자만을 제거합니다.\n",
    "odd.remove(3)\n",
    "odd"
   ]
  },
  {
   "cell_type": "code",
   "execution_count": 99,
   "metadata": {},
   "outputs": [
    {
     "data": {
      "text/plain": [
       "[3, 1, 5, 9]"
      ]
     },
     "execution_count": 99,
     "metadata": {},
     "output_type": "execute_result"
    }
   ],
   "source": [
    "# 만일 맨 뒤가 아닌 특정 위치에 값을 넣고 싶다면 .insert()를 사용합니다.\n",
    "# 아래의 코드는 odd라는 리스트의 0번째에 3이라는 숫자를 집어넣습니다.\n",
    "odd.insert(0, 3)\n",
    "odd"
   ]
  },
  {
   "cell_type": "code",
   "execution_count": 100,
   "metadata": {},
   "outputs": [
    {
     "data": {
      "text/plain": [
       "[1, 3, 5, 9]"
      ]
     },
     "execution_count": 100,
     "metadata": {},
     "output_type": "execute_result"
    }
   ],
   "source": [
    "# .sort()는 리스트에 있는 값을 정렬합니다.\n",
    "# 숫자는 작은 순으로, 알파벳은 빠른 순으로('a' - 'z') 정렬합니다.\n",
    "odd.sort()#reverse=True)\n",
    "odd"
   ]
  },
  {
   "cell_type": "code",
   "execution_count": 101,
   "metadata": {},
   "outputs": [
    {
     "data": {
      "text/plain": [
       "[1, 3, 5, 9, 13, 15, 17, 19]"
      ]
     },
     "execution_count": 101,
     "metadata": {},
     "output_type": "execute_result"
    }
   ],
   "source": [
    "# 리스트에서는 덧셈(+)을 사용해서 리스트와 리스트를 합쳐줄 수 있습니다.\n",
    "# 아래의 코드는 odd라는 리스트와 [13, 15, 17, 19] 라는 리스트를 앞뒤로 붙여줍니다.\n",
    "odd = odd + [13, 15, 17, 19]\n",
    "odd"
   ]
  },
  {
   "cell_type": "code",
   "execution_count": 102,
   "metadata": {},
   "outputs": [
    {
     "data": {
      "text/plain": [
       "[1, 3, 5, -1, 13, -1, 17, 19]"
      ]
     },
     "execution_count": 102,
     "metadata": {},
     "output_type": "execute_result"
    }
   ],
   "source": [
    "# 리스트의 인덱싱을 활용하면 특정한 위치에 있는 값을 바꿔줄 수 있습니다.\n",
    "# 아래의 코드는 odd라는 리스트의 3번째와 5번째에 있는 값을 -1로 변경해줍니다.\n",
    "odd[3] = -1\n",
    "odd[5] = -1\n",
    "odd"
   ]
  },
  {
   "cell_type": "markdown",
   "metadata": {},
   "source": [
    "#### List : Call by reference"
   ]
  },
  {
   "cell_type": "code",
   "execution_count": 103,
   "metadata": {
    "colab": {},
    "colab_type": "code",
    "id": "RhNFv_yoCTvH",
    "outputId": "334a38b7-a21e-455e-9714-ed3bc8801f38"
   },
   "outputs": [
    {
     "name": "stdout",
     "output_type": "stream",
     "text": [
      "[100, 2, 3, 4, 5]\n",
      "[100, 2, 3, 4, 5]\n"
     ]
    }
   ],
   "source": [
    "a = [1,2,3,4,5]\n",
    "\n",
    "b = a\n",
    "b[0] = 100\n",
    "\n",
    "print(a)\n",
    "print(b)"
   ]
  },
  {
   "cell_type": "code",
   "execution_count": 104,
   "metadata": {
    "colab": {},
    "colab_type": "code",
    "id": "n2twtYkyCTvJ",
    "outputId": "4124ca2a-269f-4438-ad94-333e110e338b",
    "scrolled": true
   },
   "outputs": [
    {
     "name": "stdout",
     "output_type": "stream",
     "text": [
      "1817417338432\n",
      "1817417338432\n"
     ]
    }
   ],
   "source": [
    "print(id(a))   # id() 변수가 저장된 메모리 주소값을 알려주는 함수\n",
    "print(id(b))   # b = a 과정에서 값이 복사 Assign 되는 것이 아니고, \n",
    "               # 주소값이 전달된 것으로 확인가능"
   ]
  },
  {
   "cell_type": "code",
   "execution_count": 105,
   "metadata": {
    "colab": {},
    "colab_type": "code",
    "id": "wbJFZFn_CTvL",
    "outputId": "9c0ebcde-b91d-4596-a9a3-ba5ae5b2c107"
   },
   "outputs": [
    {
     "name": "stdout",
     "output_type": "stream",
     "text": [
      "[1, 2, 3, 4, 5]\n",
      "[100, 2, 3, 4, 5]\n"
     ]
    }
   ],
   "source": [
    "a = [1,2,3,4,5]\n",
    "\n",
    "b = a.copy()\n",
    "b[0] = 100\n",
    "\n",
    "print(a)\n",
    "print(b)"
   ]
  },
  {
   "cell_type": "code",
   "execution_count": 107,
   "metadata": {
    "colab": {},
    "colab_type": "code",
    "id": "98HK_jEXCTvO",
    "outputId": "f515ee9d-9ecd-466b-9d15-0fa6f783f7e5"
   },
   "outputs": [
    {
     "name": "stdout",
     "output_type": "stream",
     "text": [
      "300\n",
      "200\n"
     ]
    }
   ],
   "source": [
    "# List(이외 dict, set 형도 동일함) 형이 아닐 경우는 \n",
    "# Call by reference 발생하지 않음 (Call by Value)\n",
    "a = 200\n",
    "b = a\n",
    "\n",
    "a = 300\n",
    "print(a)\n",
    "print(b)      "
   ]
  },
  {
   "cell_type": "code",
   "execution_count": 108,
   "metadata": {},
   "outputs": [
    {
     "data": {
      "text/plain": [
       "()"
      ]
     },
     "execution_count": 108,
     "metadata": {},
     "output_type": "execute_result"
    }
   ],
   "source": [
    "[]\n",
    "{}\n",
    "()"
   ]
  },
  {
   "cell_type": "markdown",
   "metadata": {},
   "source": [
    "## Day01-1C 디지털마케팅을 위한 파이썬 (2)"
   ]
  },
  {
   "cell_type": "markdown",
   "metadata": {},
   "source": [
    "### 딕셔너리(사전형) Dictionary\n",
    "\n",
    "- 딕셔너리는 리스트와 유사\n",
    "- 리스트와의 차이점은, \n",
    "  - 1) 리스트는 여러 값(Value)을 순차적으로 담아서 가져오지만, \n",
    "  - 2) 딕셔너리는 키(Key)를 지정해주면 키에 해당하는 값(Value)을 가져옴"
   ]
  },
  {
   "cell_type": "code",
   "execution_count": 109,
   "metadata": {},
   "outputs": [
    {
     "data": {
      "text/plain": [
       "{'apple': '사과', 'cherry': '체리', 'orange': '오렌지'}"
      ]
     },
     "execution_count": 109,
     "metadata": {},
     "output_type": "execute_result"
    }
   ],
   "source": [
    "# 이 딕셔너리는 키(Key)와 값(Value)으로 이루어짐\n",
    "voca = {\"apple\":\"사과\", \"cherry\":\"체리\", \"orange\":\"오렌지\"}\n",
    "voca"
   ]
  },
  {
   "cell_type": "code",
   "execution_count": 110,
   "metadata": {},
   "outputs": [
    {
     "name": "stdout",
     "output_type": "stream",
     "text": [
      "사과\n"
     ]
    }
   ],
   "source": [
    "print(voca['apple'])"
   ]
  },
  {
   "cell_type": "code",
   "execution_count": 111,
   "metadata": {},
   "outputs": [],
   "source": [
    "voca[\"pipeapple\"] = \"파인애플\""
   ]
  },
  {
   "cell_type": "code",
   "execution_count": 112,
   "metadata": {},
   "outputs": [
    {
     "data": {
      "text/plain": [
       "{'apple': '사과', 'cherry': '체리', 'orange': '오렌지', 'pipeapple': '파인애플'}"
      ]
     },
     "execution_count": 112,
     "metadata": {},
     "output_type": "execute_result"
    }
   ],
   "source": [
    "voca"
   ]
  },
  {
   "cell_type": "code",
   "execution_count": 113,
   "metadata": {},
   "outputs": [
    {
     "data": {
      "text/plain": [
       "{'apple': '사과', 'orange': '오렌지', 'pipeapple': '파인애플'}"
      ]
     },
     "execution_count": 113,
     "metadata": {},
     "output_type": "execute_result"
    }
   ],
   "source": [
    "# 특정 값을 제거하고 싶다면 del 을 사용\n",
    "del voca[\"cherry\"]\n",
    "voca"
   ]
  },
  {
   "cell_type": "code",
   "execution_count": 114,
   "metadata": {},
   "outputs": [
    {
     "data": {
      "text/plain": [
       "dict_keys(['apple', 'orange', 'pipeapple'])"
      ]
     },
     "execution_count": 114,
     "metadata": {},
     "output_type": "execute_result"
    }
   ],
   "source": [
    "# .keys()는 딕셔너리의 키(Key)들의 리스트를 가져옴\n",
    "voca.keys()"
   ]
  },
  {
   "cell_type": "code",
   "execution_count": 115,
   "metadata": {},
   "outputs": [
    {
     "data": {
      "text/plain": [
       "dict_values(['사과', '오렌지', '파인애플'])"
      ]
     },
     "execution_count": 115,
     "metadata": {},
     "output_type": "execute_result"
    }
   ],
   "source": [
    "# .values()는 딕셔너리의 값(Value)들의 리스트를 가져옴\n",
    "voca.values()"
   ]
  },
  {
   "cell_type": "code",
   "execution_count": 116,
   "metadata": {},
   "outputs": [
    {
     "name": "stdout",
     "output_type": "stream",
     "text": [
      "True\n",
      "False\n"
     ]
    }
   ],
   "source": [
    "# in 연산자 검색 가능\n",
    "print('apple' in voca)\n",
    "print('dish' in voca)"
   ]
  },
  {
   "cell_type": "markdown",
   "metadata": {},
   "source": [
    "### 제어문 :  if ~ elif ~ else condition\n",
    "\n",
    "참고 : https://velog.io/@yejin20/Python"
   ]
  },
  {
   "cell_type": "code",
   "execution_count": 117,
   "metadata": {},
   "outputs": [],
   "source": [
    "age = 30"
   ]
  },
  {
   "cell_type": "code",
   "execution_count": 119,
   "metadata": {},
   "outputs": [
    {
     "name": "stdout",
     "output_type": "stream",
     "text": [
      "일반인\n"
     ]
    }
   ],
   "source": [
    "if age < 19:\n",
    "    print(\"학생\")\n",
    "else:\n",
    "    print(\"일반인\")"
   ]
  },
  {
   "cell_type": "code",
   "execution_count": 120,
   "metadata": {},
   "outputs": [],
   "source": [
    "age = 5"
   ]
  },
  {
   "cell_type": "code",
   "execution_count": 121,
   "metadata": {},
   "outputs": [
    {
     "name": "stdout",
     "output_type": "stream",
     "text": [
      "어린학생\n"
     ]
    }
   ],
   "source": [
    "if age < 10:\n",
    "    print(\"어린학생\")\n",
    "#if ~ elif 는 위에서부터 차례대로 검사하는데, \n",
    "#위에서 참이 나오면 참인 명령만 실행하고 끝남.\n",
    "#elif 도 else와 마찬가지로 앞에 if 가 있어야 사용할 수 있음.\n",
    "#elif 는 else와 다르게 여러개 사용할 수 있음.\n",
    "elif age < 19:\n",
    "    print(\"학생\")\n",
    "else:\n",
    "    print(\"일반인\")"
   ]
  },
  {
   "cell_type": "code",
   "execution_count": 122,
   "metadata": {},
   "outputs": [
    {
     "data": {
      "text/plain": [
       "[1, 3, 5, 7, 9]"
      ]
     },
     "execution_count": 122,
     "metadata": {},
     "output_type": "execute_result"
    }
   ],
   "source": [
    "odd = [1,3,5,7,9]\n",
    "odd"
   ]
  },
  {
   "cell_type": "code",
   "execution_count": 123,
   "metadata": {},
   "outputs": [
    {
     "name": "stdout",
     "output_type": "stream",
     "text": [
      "3 exist\n"
     ]
    }
   ],
   "source": [
    "if not 3 in odd:\n",
    "    print(\"3 not exist\")\n",
    "else:\n",
    "    print(\"3 exist\")"
   ]
  },
  {
   "cell_type": "markdown",
   "metadata": {},
   "source": [
    "### 반복문 for loop"
   ]
  },
  {
   "cell_type": "code",
   "execution_count": 124,
   "metadata": {},
   "outputs": [
    {
     "data": {
      "text/plain": [
       "['apple', 'banana', 'cherry', 'pineapple']"
      ]
     },
     "execution_count": 124,
     "metadata": {},
     "output_type": "execute_result"
    }
   ],
   "source": [
    "basket = [\"apple\", \"banana\", \"cherry\", \"pineapple\"]\n",
    "basket"
   ]
  },
  {
   "cell_type": "code",
   "execution_count": 125,
   "metadata": {},
   "outputs": [
    {
     "name": "stdout",
     "output_type": "stream",
     "text": [
      "apple\n"
     ]
    }
   ],
   "source": [
    "product = basket[0]\n",
    "print(product)"
   ]
  },
  {
   "cell_type": "code",
   "execution_count": 126,
   "metadata": {},
   "outputs": [
    {
     "name": "stdout",
     "output_type": "stream",
     "text": [
      "apple\n",
      "banana\n",
      "cherry\n",
      "pineapple\n"
     ]
    }
   ],
   "source": [
    "for i in basket:\n",
    "    print(i)"
   ]
  },
  {
   "cell_type": "code",
   "execution_count": 127,
   "metadata": {},
   "outputs": [
    {
     "name": "stdout",
     "output_type": "stream",
     "text": [
      "1\n",
      "3\n",
      "5\n",
      "7\n",
      "9\n"
     ]
    }
   ],
   "source": [
    "# range의 경우 마지막 숫자는 제외 \n",
    "for i in range(1,10+1,2):\n",
    "    print(i)"
   ]
  },
  {
   "cell_type": "code",
   "execution_count": 129,
   "metadata": {},
   "outputs": [
    {
     "name": "stdout",
     "output_type": "stream",
     "text": [
      "1\n",
      "3\n",
      "4\n",
      "5\n",
      "6\n",
      "7\n",
      "8\n"
     ]
    }
   ],
   "source": [
    "for i in range(1,10):\n",
    "    if i == 2:\n",
    "        continue\n",
    "    elif i == 8:\n",
    "        print(i)\n",
    "        break\n",
    "    else:\n",
    "        print(i)"
   ]
  },
  {
   "cell_type": "markdown",
   "metadata": {},
   "source": [
    "### 함수 Function"
   ]
  },
  {
   "cell_type": "code",
   "execution_count": 130,
   "metadata": {},
   "outputs": [],
   "source": [
    "### 함수1\n",
    "def multiply(a, b):\n",
    "    # a 변수의 값과 b변수의 값을 곱한 뒤, c 변수에 저장\n",
    "    c = a * b\n",
    "    # c 변수 값을 반환 \n",
    "    return c"
   ]
  },
  {
   "cell_type": "code",
   "execution_count": 131,
   "metadata": {},
   "outputs": [
    {
     "data": {
      "text/plain": [
       "6"
      ]
     },
     "execution_count": 131,
     "metadata": {},
     "output_type": "execute_result"
    }
   ],
   "source": [
    "multiply(2, 3)"
   ]
  },
  {
   "cell_type": "code",
   "execution_count": 127,
   "metadata": {},
   "outputs": [],
   "source": [
    "#??multiply"
   ]
  },
  {
   "cell_type": "code",
   "execution_count": 132,
   "metadata": {},
   "outputs": [
    {
     "data": {
      "text/plain": [
       "12"
      ]
     },
     "execution_count": 132,
     "metadata": {},
     "output_type": "execute_result"
    }
   ],
   "source": [
    "multiply(3, 4)"
   ]
  },
  {
   "cell_type": "code",
   "execution_count": 133,
   "metadata": {},
   "outputs": [],
   "source": [
    "### 함수2\n",
    "def self_introduce(name, job = 'Engineer'):\n",
    "    print(f'My name is {name}, and I am a {job}.')"
   ]
  },
  {
   "cell_type": "code",
   "execution_count": 134,
   "metadata": {},
   "outputs": [
    {
     "name": "stdout",
     "output_type": "stream",
     "text": [
      "My name is MegaPerson, and I am a Engineer.\n"
     ]
    }
   ],
   "source": [
    "self_introduce('MegaPerson')"
   ]
  },
  {
   "cell_type": "code",
   "execution_count": 135,
   "metadata": {},
   "outputs": [
    {
     "name": "stdout",
     "output_type": "stream",
     "text": [
      "My name is ITperson, and I am a Teacher.\n"
     ]
    }
   ],
   "source": [
    "self_introduce('ITperson', 'Teacher')"
   ]
  },
  {
   "cell_type": "markdown",
   "metadata": {},
   "source": [
    "### Formatiing "
   ]
  },
  {
   "cell_type": "code",
   "execution_count": 136,
   "metadata": {
    "colab": {},
    "colab_type": "code",
    "id": "Z_lLKx4PCTt6",
    "outputId": "29e0adf2-7355-415e-a0c4-ea564e82498b"
   },
   "outputs": [
    {
     "data": {
      "text/plain": [
       "\"Today's date is 2022-01-19 and 수요일, right?\""
      ]
     },
     "execution_count": 136,
     "metadata": {},
     "output_type": "execute_result"
    }
   ],
   "source": [
    "info_date = '2022-01-19'\n",
    "info_day = '수요일'\n",
    "\n",
    "# 파이썬의 format이라는 기능을 사용합니다.\n",
    "# .format() 안에 두 개의 변수(bananas, days)를 순서대로 넣고,\n",
    "# 이 순서를 중괄호를 활용해 {0}, {1} 로 문자열 안에 적습니다.\n",
    "# 단 프로그래밍 언어에서 모든 숫자의 시작은 0부터 시작한다는 것에 유의합니다.\n",
    "\"Today's date is {0} and {1}, right?\".format(info_date, info_day)"
   ]
  },
  {
   "cell_type": "code",
   "execution_count": 137,
   "metadata": {
    "colab": {},
    "colab_type": "code",
    "id": "mKPS7CbTCTt8",
    "outputId": "91329404-d7cb-4ef5-db52-5e00e21ded93"
   },
   "outputs": [
    {
     "data": {
      "text/plain": [
       "\"Today's date is 2022-01-19 and 수요일, right?\""
      ]
     },
     "execution_count": 137,
     "metadata": {},
     "output_type": "execute_result"
    }
   ],
   "source": [
    "f\"Today's date is {info_date} and {info_day}, right?\""
   ]
  },
  {
   "cell_type": "markdown",
   "metadata": {},
   "source": [
    "### 전역변수/지역변수"
   ]
  },
  {
   "cell_type": "code",
   "execution_count": 138,
   "metadata": {},
   "outputs": [
    {
     "name": "stdout",
     "output_type": "stream",
     "text": [
      "5\n"
     ]
    }
   ],
   "source": [
    "var1 = 10\n",
    "\n",
    "def test(a):\n",
    "    # var1에 test함수의 인자로 입력받은 a를 할당\n",
    "    var1 = a\n",
    "    print(var1)\n",
    "    \n",
    "# test 함수에 5의 값을 넣고 실행\n",
    "test(5)"
   ]
  },
  {
   "cell_type": "code",
   "execution_count": 139,
   "metadata": {},
   "outputs": [
    {
     "data": {
      "text/plain": [
       "10"
      ]
     },
     "execution_count": 139,
     "metadata": {},
     "output_type": "execute_result"
    }
   ],
   "source": [
    "var1"
   ]
  },
  {
   "cell_type": "code",
   "execution_count": null,
   "metadata": {},
   "outputs": [],
   "source": []
  }
 ],
 "metadata": {
  "kernelspec": {
   "display_name": "Python 3 (ipykernel)",
   "language": "python",
   "name": "python3"
  },
  "language_info": {
   "codemirror_mode": {
    "name": "ipython",
    "version": 3
   },
   "file_extension": ".py",
   "mimetype": "text/x-python",
   "name": "python",
   "nbconvert_exporter": "python",
   "pygments_lexer": "ipython3",
   "version": "3.9.12"
  },
  "toc": {
   "base_numbering": 1,
   "nav_menu": {},
   "number_sections": true,
   "sideBar": true,
   "skip_h1_title": true,
   "title_cell": "Table of Contents",
   "title_sidebar": "Contents",
   "toc_cell": false,
   "toc_position": {
    "height": "calc(100% - 180px)",
    "left": "10px",
    "top": "150px",
    "width": "197.208px"
   },
   "toc_section_display": true,
   "toc_window_display": true
  }
 },
 "nbformat": 4,
 "nbformat_minor": 4
}
