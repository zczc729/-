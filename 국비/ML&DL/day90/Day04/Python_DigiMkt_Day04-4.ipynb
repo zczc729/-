{
 "cells": [
  {
   "cell_type": "markdown",
   "id": "07cbc861",
   "metadata": {},
   "source": [
    "# 파이썬 활용 디지털마케팅 데이터분석 및 기획"
   ]
  },
  {
   "cell_type": "markdown",
   "id": "ccac7c59",
   "metadata": {},
   "source": [
    "# Today's mission\n",
    "\n",
    "- 예측 모델링 개요  \n",
    "- 문제 정의 및 가설 설정  \n",
    "  (가설 및 목적, 예상 결과)\n",
    "- 분석 프레임  \n",
    "  (모델링 프로세스, 로직 트리)\n",
    "- 데이터 불러오기  \n",
    "  (파일 읽기, 컬럼 정보, 색인)\n",
    "- 데이터 전처리 및 분석  \n",
    "  (결측치 처리, 이상치 처리, 분포 변환, 단위 변환, 전처리 실습)\n",
    "- 모델 생성 및 모델 평가  \n",
    "  (모델 구축 프로세스, Cross Validation, Grid Search, 평가 메트릭)\n",
    "- 모델 성능 개선 및 결과 토론  \n",
    "  (변수 스케일링 및 분포 변환, Feasure Selection, Model Selection)"
   ]
  },
  {
   "cell_type": "markdown",
   "id": "c36accff",
   "metadata": {},
   "source": [
    "]"
   ]
  },
  {
   "cell_type": "markdown",
   "id": "b8df74e6",
   "metadata": {},
   "source": [
    "## Day04-4A  예측 모델링 (실습) - 모델 생성 및 모델 평가"
   ]
  },
  {
   "cell_type": "markdown",
   "id": "e801f103",
   "metadata": {},
   "source": [
    "### 모델 구축 프로세스\n",
    "\n",
    "- 모델 생성 및 모델 평가  \n",
    "  (모델 구축 프로세스, Cross Validation, Grid Search, 평가 메트릭)\n",
    "- 모델 성능 개선 및 결과 토론  \n",
    "  (변수 스케일링 및 분포 변환, Feasure Selection, Model Selection)"
   ]
  },
  {
   "cell_type": "code",
   "execution_count": 2,
   "id": "8cf0282b",
   "metadata": {
    "ExecuteTime": {
     "end_time": "2023-04-13T03:53:20.534818Z",
     "start_time": "2023-04-13T03:53:17.101971Z"
    }
   },
   "outputs": [],
   "source": [
    "%matplotlib inline\n",
    "import pandas as pd\n",
    "import numpy as np\n",
    "import matplotlib.pyplot as plt\n",
    "import seaborn as sns\n",
    "pd.options.display.max_rows = 5\n",
    "np.set_printoptions(precision=3)\n",
    "\n",
    "import warnings\n",
    "warnings.filterwarnings('ignore')\n",
    "plt.style.use('seaborn-v0_8-paper')"
   ]
  },
  {
   "cell_type": "markdown",
   "id": "d35380a0",
   "metadata": {},
   "source": [
    "**목차**\n",
    "1. Read the dataset (after extracting)\n",
    "2. Preprocessing\n",
    "3. EDA\n",
    "4. Modeling\n",
    "5. Evaluation"
   ]
  },
  {
   "cell_type": "markdown",
   "id": "915fdf4d",
   "metadata": {},
   "source": [
    "### 파일 읽기"
   ]
  },
  {
   "cell_type": "code",
   "execution_count": 3,
   "id": "36d562a2",
   "metadata": {
    "ExecuteTime": {
     "end_time": "2023-04-13T03:53:20.804077Z",
     "start_time": "2023-04-13T03:53:20.537790Z"
    }
   },
   "outputs": [
    {
     "data": {
      "text/html": [
       "<div>\n",
       "<style scoped>\n",
       "    .dataframe tbody tr th:only-of-type {\n",
       "        vertical-align: middle;\n",
       "    }\n",
       "\n",
       "    .dataframe tbody tr th {\n",
       "        vertical-align: top;\n",
       "    }\n",
       "\n",
       "    .dataframe thead th {\n",
       "        text-align: right;\n",
       "    }\n",
       "</style>\n",
       "<table border=\"1\" class=\"dataframe\">\n",
       "  <thead>\n",
       "    <tr style=\"text-align: right;\">\n",
       "      <th></th>\n",
       "      <th>viewCount</th>\n",
       "      <th>editCount</th>\n",
       "      <th>shareCount</th>\n",
       "      <th>searchCount</th>\n",
       "      <th>add</th>\n",
       "      <th>move</th>\n",
       "      <th>rename</th>\n",
       "      <th>adddir</th>\n",
       "      <th>visdays</th>\n",
       "      <th>saveCount</th>\n",
       "      <th>traffic</th>\n",
       "      <th>group</th>\n",
       "    </tr>\n",
       "    <tr>\n",
       "      <th>iduser</th>\n",
       "      <th></th>\n",
       "      <th></th>\n",
       "      <th></th>\n",
       "      <th></th>\n",
       "      <th></th>\n",
       "      <th></th>\n",
       "      <th></th>\n",
       "      <th></th>\n",
       "      <th></th>\n",
       "      <th></th>\n",
       "      <th></th>\n",
       "      <th></th>\n",
       "    </tr>\n",
       "  </thead>\n",
       "  <tbody>\n",
       "    <tr>\n",
       "      <th>10100018739106</th>\n",
       "      <td>12.0</td>\n",
       "      <td>0.0</td>\n",
       "      <td>0.0</td>\n",
       "      <td>0.0</td>\n",
       "      <td>0.0</td>\n",
       "      <td>0.0</td>\n",
       "      <td>0.0</td>\n",
       "      <td>0.0</td>\n",
       "      <td>6.0</td>\n",
       "      <td>0.0</td>\n",
       "      <td>3504812.0</td>\n",
       "      <td>0</td>\n",
       "    </tr>\n",
       "    <tr>\n",
       "      <th>10100037810674</th>\n",
       "      <td>23.0</td>\n",
       "      <td>0.0</td>\n",
       "      <td>0.0</td>\n",
       "      <td>1.0</td>\n",
       "      <td>13.0</td>\n",
       "      <td>0.0</td>\n",
       "      <td>0.0</td>\n",
       "      <td>0.0</td>\n",
       "      <td>8.0</td>\n",
       "      <td>0.0</td>\n",
       "      <td>17123098.0</td>\n",
       "      <td>0</td>\n",
       "    </tr>\n",
       "    <tr>\n",
       "      <th>...</th>\n",
       "      <td>...</td>\n",
       "      <td>...</td>\n",
       "      <td>...</td>\n",
       "      <td>...</td>\n",
       "      <td>...</td>\n",
       "      <td>...</td>\n",
       "      <td>...</td>\n",
       "      <td>...</td>\n",
       "      <td>...</td>\n",
       "      <td>...</td>\n",
       "      <td>...</td>\n",
       "      <td>...</td>\n",
       "    </tr>\n",
       "    <tr>\n",
       "      <th>10100022150627</th>\n",
       "      <td>18.0</td>\n",
       "      <td>0.0</td>\n",
       "      <td>0.0</td>\n",
       "      <td>0.0</td>\n",
       "      <td>20.0</td>\n",
       "      <td>0.0</td>\n",
       "      <td>0.0</td>\n",
       "      <td>0.0</td>\n",
       "      <td>9.0</td>\n",
       "      <td>0.0</td>\n",
       "      <td>53352144.0</td>\n",
       "      <td>0</td>\n",
       "    </tr>\n",
       "    <tr>\n",
       "      <th>10100021804275</th>\n",
       "      <td>3.0</td>\n",
       "      <td>0.0</td>\n",
       "      <td>0.0</td>\n",
       "      <td>0.0</td>\n",
       "      <td>0.0</td>\n",
       "      <td>0.0</td>\n",
       "      <td>0.0</td>\n",
       "      <td>0.0</td>\n",
       "      <td>3.0</td>\n",
       "      <td>0.0</td>\n",
       "      <td>95232.0</td>\n",
       "      <td>0</td>\n",
       "    </tr>\n",
       "  </tbody>\n",
       "</table>\n",
       "<p>154089 rows × 12 columns</p>\n",
       "</div>"
      ],
      "text/plain": [
       "                viewCount  editCount  shareCount  searchCount   add  move  \\\n",
       "iduser                                                                      \n",
       "10100018739106       12.0        0.0         0.0          0.0   0.0   0.0   \n",
       "10100037810674       23.0        0.0         0.0          1.0  13.0   0.0   \n",
       "...                   ...        ...         ...          ...   ...   ...   \n",
       "10100022150627       18.0        0.0         0.0          0.0  20.0   0.0   \n",
       "10100021804275        3.0        0.0         0.0          0.0   0.0   0.0   \n",
       "\n",
       "                rename  adddir  visdays  saveCount     traffic  group  \n",
       "iduser                                                                 \n",
       "10100018739106     0.0     0.0      6.0        0.0   3504812.0      0  \n",
       "10100037810674     0.0     0.0      8.0        0.0  17123098.0      0  \n",
       "...                ...     ...      ...        ...         ...    ...  \n",
       "10100022150627     0.0     0.0      9.0        0.0  53352144.0      0  \n",
       "10100021804275     0.0     0.0      3.0        0.0     95232.0      0  \n",
       "\n",
       "[154089 rows x 12 columns]"
      ]
     },
     "execution_count": 3,
     "metadata": {},
     "output_type": "execute_result"
    }
   ],
   "source": [
    "df5 = pd.read_csv(\"data/testset3.csv\", index_col=0)\n",
    "df5"
   ]
  },
  {
   "cell_type": "markdown",
   "id": "af762b9d",
   "metadata": {},
   "source": [
    "### 분류 모델 종류\n",
    " - **Logistic Regression**\n",
    "     - Logistic regression fits a logistic model to data and makes predictions about the probability of an event (between 0 and \n",
    " - **Naive Bayes**\n",
    "    - Naive Bayes uses Bayes Theorem to model the conditional relationship of each attribute to the class variable\n",
    " - **k-Nearest Neighbor**\n",
    "    - The k-Nearest Neighbor (kNN) method makes predictions by locating similar cases to a given data instance (using a similarity function) and returning the average or majority of the most similar data instances. The kNN algorithm can be used for classification or regression.\n",
    " - **Trees-based model**\n",
    "    - Classification and Regression Trees (CART) are constructed from a dataset by making splits that best separate the data for the classes or predictions being made. The CART algorithm can be used for classification or regression\n",
    " - **Random Forest**\n",
    "    - Random Forest is a machine learning algorithm used for classification, regression, and feature selection. It's an ensemble technique, meaning it combines the output of one weaker technique in order to get a stronger result. The weaker technique in this case is a decision tree. Decision trees work by splitting the and re-splitting the data by features. If a decision tree is split along good features, it can give a decent predictive output    \n",
    " - **SVM (Support Vector Machines)**\n",
    "    - Support Vector Machines (SVM) are a method that uses points in a transformed problem space that best separate classes into two groups. Classification for multiple classes is supported by a one-vs-all method. SVM also supports regression by modeling the function with a minimum amount of allowable error"
   ]
  },
  {
   "cell_type": "markdown",
   "id": "abe026ed",
   "metadata": {},
   "source": [
    "### Cross Validation\n",
    "- 모델 구축 후 성능 검증을 위해 전체 Dataset을 Train, Validation과 Test로 나눈다. \n",
    "- Testset은 최적화된 파라메터로 구축된 최종 모델의 성능을 파악하기 위해 단 1회만 사용한다. \n",
    "- 최적화 파라메터는 Scikit-learn에서 제공하는 grid_serach를 이용해 구한다.\n",
    "- Dataset을 나눌 때 test_size 옵션으로 Train, Test의 비율을 설정할 수 있고, random_state로 seed 값을 지정할 수 있다.\n",
    "- 데이터 샘플이 너무 많다면, 연상 비용이 크게 증가할 수 있어 샘플링이 필요하다.\n",
    "\n",
    "```python\n",
    "# 샘플링 예시 코드 / frac에는 샘플링셋의 비율을 입력, Replace는 비복원으로 지정(False)\n",
    "df_sampled = df.sample(frac=.1, replace=False) \n",
    "```\n"
   ]
  },
  {
   "cell_type": "code",
   "execution_count": 4,
   "id": "7121d5d2",
   "metadata": {
    "ExecuteTime": {
     "end_time": "2023-04-13T03:53:21.043438Z",
     "start_time": "2023-04-13T03:53:20.806072Z"
    }
   },
   "outputs": [],
   "source": [
    "from sklearn.model_selection import train_test_split\n",
    "from sklearn.preprocessing import MinMaxScaler\n",
    "from sklearn.preprocessing import StandardScaler"
   ]
  },
  {
   "cell_type": "code",
   "execution_count": 5,
   "id": "87edcece",
   "metadata": {
    "ExecuteTime": {
     "end_time": "2023-04-13T03:53:21.107267Z",
     "start_time": "2023-04-13T03:53:21.046442Z"
    }
   },
   "outputs": [],
   "source": [
    "# set ind vars and target var\n",
    "X = df5.drop('group', axis=1)\n",
    "y = df5.group\n",
    "\n",
    "# split train, test\n",
    "X_train, X_test, y_train, y_test = train_test_split(X, y, random_state=42)"
   ]
  },
  {
   "cell_type": "code",
   "execution_count": 6,
   "id": "3b3610b6",
   "metadata": {
    "ExecuteTime": {
     "end_time": "2023-04-13T03:53:21.154141Z",
     "start_time": "2023-04-13T03:53:21.109262Z"
    }
   },
   "outputs": [],
   "source": [
    "# Scaling\n",
    "scaler = MinMaxScaler()\n",
    "\n",
    "# fit_transform\n",
    "X_train_scaled = scaler.fit_transform(X_train)\n",
    "X_test_scaled = scaler.fit_transform(X_test)"
   ]
  },
  {
   "cell_type": "code",
   "execution_count": 7,
   "id": "6b39ee1b",
   "metadata": {
    "ExecuteTime": {
     "end_time": "2023-04-13T03:53:21.186055Z",
     "start_time": "2023-04-13T03:53:21.157135Z"
    }
   },
   "outputs": [
    {
     "name": "stdout",
     "output_type": "stream",
     "text": [
      "[1. 1. 1. 1. 1. 1. 1. 1. 1. 1. 1.]\n",
      "[1. 1. 1. 1. 1. 1. 1. 1. 1. 1. 1.]\n",
      " \n",
      "[0. 0. 0. 0. 0. 0. 0. 0. 0. 0. 0.]\n",
      "[0. 0. 0. 0. 0. 0. 0. 0. 0. 0. 0.]\n"
     ]
    }
   ],
   "source": [
    "# max\n",
    "print(X_train_scaled.max(axis=0))\n",
    "print(X_test_scaled.max(axis=0))\n",
    "print(' ')\n",
    "# min\n",
    "print(X_train_scaled.min(axis=0))\n",
    "print(X_test_scaled.min(axis=0))"
   ]
  },
  {
   "cell_type": "code",
   "execution_count": 8,
   "id": "2d2df3e4",
   "metadata": {
    "ExecuteTime": {
     "end_time": "2023-04-13T03:53:21.202013Z",
     "start_time": "2023-04-13T03:53:21.188051Z"
    }
   },
   "outputs": [
    {
     "name": "stdout",
     "output_type": "stream",
     "text": [
      "(115566, 11)\n",
      "(115566,)\n",
      "(38523, 11)\n",
      "(38523,)\n"
     ]
    }
   ],
   "source": [
    "print(X_train_scaled.shape)\n",
    "print(y_train.shape)\n",
    "print(X_test_scaled.shape)\n",
    "print(y_test.shape)"
   ]
  },
  {
   "cell_type": "markdown",
   "id": "1d2aef6d",
   "metadata": {},
   "source": [
    "## Day04-4B 예측 모델링 (실습) - 모델 파라메터 설정\n",
    "- 기본 모델: **Logistic Regression** \n",
    "    - http://scikit-learn.org/stable/modules/generated/sklearn.linear_model.LogisticRegression.html\n",
    "- 주요 파라메터 (C)\n",
    "    - C 값 (기본값 = 1)\n",
    "    - C 값이 작으면 Penalty 강해짐 (단순 모델)\n",
    "    - C 값이 크면 Penalty 약해짐 (정규화 없어짐)\n",
    "    - 보통 로그스케일로 지정(10배씩) = 0.01, 0.1, 1, 10\n",
    "- penalty\n",
    "    - L2: Ridge, 일반적으로 사용 (default)\n",
    "    - L1: LASSO, 변수가 많아서 줄여야할 때 사용, 모델의 단순화 및 해석에 용이"
   ]
  },
  {
   "cell_type": "code",
   "execution_count": 9,
   "id": "889d5a81",
   "metadata": {
    "ExecuteTime": {
     "end_time": "2023-04-13T03:53:37.044675Z",
     "start_time": "2023-04-13T03:53:21.204009Z"
    }
   },
   "outputs": [
    {
     "data": {
      "text/html": [
       "<style>#sk-container-id-1 {\n",
       "  /* Definition of color scheme common for light and dark mode */\n",
       "  --sklearn-color-text: black;\n",
       "  --sklearn-color-line: gray;\n",
       "  /* Definition of color scheme for unfitted estimators */\n",
       "  --sklearn-color-unfitted-level-0: #fff5e6;\n",
       "  --sklearn-color-unfitted-level-1: #f6e4d2;\n",
       "  --sklearn-color-unfitted-level-2: #ffe0b3;\n",
       "  --sklearn-color-unfitted-level-3: chocolate;\n",
       "  /* Definition of color scheme for fitted estimators */\n",
       "  --sklearn-color-fitted-level-0: #f0f8ff;\n",
       "  --sklearn-color-fitted-level-1: #d4ebff;\n",
       "  --sklearn-color-fitted-level-2: #b3dbfd;\n",
       "  --sklearn-color-fitted-level-3: cornflowerblue;\n",
       "\n",
       "  /* Specific color for light theme */\n",
       "  --sklearn-color-text-on-default-background: var(--sg-text-color, var(--theme-code-foreground, var(--jp-content-font-color1, black)));\n",
       "  --sklearn-color-background: var(--sg-background-color, var(--theme-background, var(--jp-layout-color0, white)));\n",
       "  --sklearn-color-border-box: var(--sg-text-color, var(--theme-code-foreground, var(--jp-content-font-color1, black)));\n",
       "  --sklearn-color-icon: #696969;\n",
       "\n",
       "  @media (prefers-color-scheme: dark) {\n",
       "    /* Redefinition of color scheme for dark theme */\n",
       "    --sklearn-color-text-on-default-background: var(--sg-text-color, var(--theme-code-foreground, var(--jp-content-font-color1, white)));\n",
       "    --sklearn-color-background: var(--sg-background-color, var(--theme-background, var(--jp-layout-color0, #111)));\n",
       "    --sklearn-color-border-box: var(--sg-text-color, var(--theme-code-foreground, var(--jp-content-font-color1, white)));\n",
       "    --sklearn-color-icon: #878787;\n",
       "  }\n",
       "}\n",
       "\n",
       "#sk-container-id-1 {\n",
       "  color: var(--sklearn-color-text);\n",
       "}\n",
       "\n",
       "#sk-container-id-1 pre {\n",
       "  padding: 0;\n",
       "}\n",
       "\n",
       "#sk-container-id-1 input.sk-hidden--visually {\n",
       "  border: 0;\n",
       "  clip: rect(1px 1px 1px 1px);\n",
       "  clip: rect(1px, 1px, 1px, 1px);\n",
       "  height: 1px;\n",
       "  margin: -1px;\n",
       "  overflow: hidden;\n",
       "  padding: 0;\n",
       "  position: absolute;\n",
       "  width: 1px;\n",
       "}\n",
       "\n",
       "#sk-container-id-1 div.sk-dashed-wrapped {\n",
       "  border: 1px dashed var(--sklearn-color-line);\n",
       "  margin: 0 0.4em 0.5em 0.4em;\n",
       "  box-sizing: border-box;\n",
       "  padding-bottom: 0.4em;\n",
       "  background-color: var(--sklearn-color-background);\n",
       "}\n",
       "\n",
       "#sk-container-id-1 div.sk-container {\n",
       "  /* jupyter's `normalize.less` sets `[hidden] { display: none; }`\n",
       "     but bootstrap.min.css set `[hidden] { display: none !important; }`\n",
       "     so we also need the `!important` here to be able to override the\n",
       "     default hidden behavior on the sphinx rendered scikit-learn.org.\n",
       "     See: https://github.com/scikit-learn/scikit-learn/issues/21755 */\n",
       "  display: inline-block !important;\n",
       "  position: relative;\n",
       "}\n",
       "\n",
       "#sk-container-id-1 div.sk-text-repr-fallback {\n",
       "  display: none;\n",
       "}\n",
       "\n",
       "div.sk-parallel-item,\n",
       "div.sk-serial,\n",
       "div.sk-item {\n",
       "  /* draw centered vertical line to link estimators */\n",
       "  background-image: linear-gradient(var(--sklearn-color-text-on-default-background), var(--sklearn-color-text-on-default-background));\n",
       "  background-size: 2px 100%;\n",
       "  background-repeat: no-repeat;\n",
       "  background-position: center center;\n",
       "}\n",
       "\n",
       "/* Parallel-specific style estimator block */\n",
       "\n",
       "#sk-container-id-1 div.sk-parallel-item::after {\n",
       "  content: \"\";\n",
       "  width: 100%;\n",
       "  border-bottom: 2px solid var(--sklearn-color-text-on-default-background);\n",
       "  flex-grow: 1;\n",
       "}\n",
       "\n",
       "#sk-container-id-1 div.sk-parallel {\n",
       "  display: flex;\n",
       "  align-items: stretch;\n",
       "  justify-content: center;\n",
       "  background-color: var(--sklearn-color-background);\n",
       "  position: relative;\n",
       "}\n",
       "\n",
       "#sk-container-id-1 div.sk-parallel-item {\n",
       "  display: flex;\n",
       "  flex-direction: column;\n",
       "}\n",
       "\n",
       "#sk-container-id-1 div.sk-parallel-item:first-child::after {\n",
       "  align-self: flex-end;\n",
       "  width: 50%;\n",
       "}\n",
       "\n",
       "#sk-container-id-1 div.sk-parallel-item:last-child::after {\n",
       "  align-self: flex-start;\n",
       "  width: 50%;\n",
       "}\n",
       "\n",
       "#sk-container-id-1 div.sk-parallel-item:only-child::after {\n",
       "  width: 0;\n",
       "}\n",
       "\n",
       "/* Serial-specific style estimator block */\n",
       "\n",
       "#sk-container-id-1 div.sk-serial {\n",
       "  display: flex;\n",
       "  flex-direction: column;\n",
       "  align-items: center;\n",
       "  background-color: var(--sklearn-color-background);\n",
       "  padding-right: 1em;\n",
       "  padding-left: 1em;\n",
       "}\n",
       "\n",
       "\n",
       "/* Toggleable style: style used for estimator/Pipeline/ColumnTransformer box that is\n",
       "clickable and can be expanded/collapsed.\n",
       "- Pipeline and ColumnTransformer use this feature and define the default style\n",
       "- Estimators will overwrite some part of the style using the `sk-estimator` class\n",
       "*/\n",
       "\n",
       "/* Pipeline and ColumnTransformer style (default) */\n",
       "\n",
       "#sk-container-id-1 div.sk-toggleable {\n",
       "  /* Default theme specific background. It is overwritten whether we have a\n",
       "  specific estimator or a Pipeline/ColumnTransformer */\n",
       "  background-color: var(--sklearn-color-background);\n",
       "}\n",
       "\n",
       "/* Toggleable label */\n",
       "#sk-container-id-1 label.sk-toggleable__label {\n",
       "  cursor: pointer;\n",
       "  display: block;\n",
       "  width: 100%;\n",
       "  margin-bottom: 0;\n",
       "  padding: 0.5em;\n",
       "  box-sizing: border-box;\n",
       "  text-align: center;\n",
       "}\n",
       "\n",
       "#sk-container-id-1 label.sk-toggleable__label-arrow:before {\n",
       "  /* Arrow on the left of the label */\n",
       "  content: \"▸\";\n",
       "  float: left;\n",
       "  margin-right: 0.25em;\n",
       "  color: var(--sklearn-color-icon);\n",
       "}\n",
       "\n",
       "#sk-container-id-1 label.sk-toggleable__label-arrow:hover:before {\n",
       "  color: var(--sklearn-color-text);\n",
       "}\n",
       "\n",
       "/* Toggleable content - dropdown */\n",
       "\n",
       "#sk-container-id-1 div.sk-toggleable__content {\n",
       "  max-height: 0;\n",
       "  max-width: 0;\n",
       "  overflow: hidden;\n",
       "  text-align: left;\n",
       "  /* unfitted */\n",
       "  background-color: var(--sklearn-color-unfitted-level-0);\n",
       "}\n",
       "\n",
       "#sk-container-id-1 div.sk-toggleable__content.fitted {\n",
       "  /* fitted */\n",
       "  background-color: var(--sklearn-color-fitted-level-0);\n",
       "}\n",
       "\n",
       "#sk-container-id-1 div.sk-toggleable__content pre {\n",
       "  margin: 0.2em;\n",
       "  border-radius: 0.25em;\n",
       "  color: var(--sklearn-color-text);\n",
       "  /* unfitted */\n",
       "  background-color: var(--sklearn-color-unfitted-level-0);\n",
       "}\n",
       "\n",
       "#sk-container-id-1 div.sk-toggleable__content.fitted pre {\n",
       "  /* unfitted */\n",
       "  background-color: var(--sklearn-color-fitted-level-0);\n",
       "}\n",
       "\n",
       "#sk-container-id-1 input.sk-toggleable__control:checked~div.sk-toggleable__content {\n",
       "  /* Expand drop-down */\n",
       "  max-height: 200px;\n",
       "  max-width: 100%;\n",
       "  overflow: auto;\n",
       "}\n",
       "\n",
       "#sk-container-id-1 input.sk-toggleable__control:checked~label.sk-toggleable__label-arrow:before {\n",
       "  content: \"▾\";\n",
       "}\n",
       "\n",
       "/* Pipeline/ColumnTransformer-specific style */\n",
       "\n",
       "#sk-container-id-1 div.sk-label input.sk-toggleable__control:checked~label.sk-toggleable__label {\n",
       "  color: var(--sklearn-color-text);\n",
       "  background-color: var(--sklearn-color-unfitted-level-2);\n",
       "}\n",
       "\n",
       "#sk-container-id-1 div.sk-label.fitted input.sk-toggleable__control:checked~label.sk-toggleable__label {\n",
       "  background-color: var(--sklearn-color-fitted-level-2);\n",
       "}\n",
       "\n",
       "/* Estimator-specific style */\n",
       "\n",
       "/* Colorize estimator box */\n",
       "#sk-container-id-1 div.sk-estimator input.sk-toggleable__control:checked~label.sk-toggleable__label {\n",
       "  /* unfitted */\n",
       "  background-color: var(--sklearn-color-unfitted-level-2);\n",
       "}\n",
       "\n",
       "#sk-container-id-1 div.sk-estimator.fitted input.sk-toggleable__control:checked~label.sk-toggleable__label {\n",
       "  /* fitted */\n",
       "  background-color: var(--sklearn-color-fitted-level-2);\n",
       "}\n",
       "\n",
       "#sk-container-id-1 div.sk-label label.sk-toggleable__label,\n",
       "#sk-container-id-1 div.sk-label label {\n",
       "  /* The background is the default theme color */\n",
       "  color: var(--sklearn-color-text-on-default-background);\n",
       "}\n",
       "\n",
       "/* On hover, darken the color of the background */\n",
       "#sk-container-id-1 div.sk-label:hover label.sk-toggleable__label {\n",
       "  color: var(--sklearn-color-text);\n",
       "  background-color: var(--sklearn-color-unfitted-level-2);\n",
       "}\n",
       "\n",
       "/* Label box, darken color on hover, fitted */\n",
       "#sk-container-id-1 div.sk-label.fitted:hover label.sk-toggleable__label.fitted {\n",
       "  color: var(--sklearn-color-text);\n",
       "  background-color: var(--sklearn-color-fitted-level-2);\n",
       "}\n",
       "\n",
       "/* Estimator label */\n",
       "\n",
       "#sk-container-id-1 div.sk-label label {\n",
       "  font-family: monospace;\n",
       "  font-weight: bold;\n",
       "  display: inline-block;\n",
       "  line-height: 1.2em;\n",
       "}\n",
       "\n",
       "#sk-container-id-1 div.sk-label-container {\n",
       "  text-align: center;\n",
       "}\n",
       "\n",
       "/* Estimator-specific */\n",
       "#sk-container-id-1 div.sk-estimator {\n",
       "  font-family: monospace;\n",
       "  border: 1px dotted var(--sklearn-color-border-box);\n",
       "  border-radius: 0.25em;\n",
       "  box-sizing: border-box;\n",
       "  margin-bottom: 0.5em;\n",
       "  /* unfitted */\n",
       "  background-color: var(--sklearn-color-unfitted-level-0);\n",
       "}\n",
       "\n",
       "#sk-container-id-1 div.sk-estimator.fitted {\n",
       "  /* fitted */\n",
       "  background-color: var(--sklearn-color-fitted-level-0);\n",
       "}\n",
       "\n",
       "/* on hover */\n",
       "#sk-container-id-1 div.sk-estimator:hover {\n",
       "  /* unfitted */\n",
       "  background-color: var(--sklearn-color-unfitted-level-2);\n",
       "}\n",
       "\n",
       "#sk-container-id-1 div.sk-estimator.fitted:hover {\n",
       "  /* fitted */\n",
       "  background-color: var(--sklearn-color-fitted-level-2);\n",
       "}\n",
       "\n",
       "/* Specification for estimator info (e.g. \"i\" and \"?\") */\n",
       "\n",
       "/* Common style for \"i\" and \"?\" */\n",
       "\n",
       ".sk-estimator-doc-link,\n",
       "a:link.sk-estimator-doc-link,\n",
       "a:visited.sk-estimator-doc-link {\n",
       "  float: right;\n",
       "  font-size: smaller;\n",
       "  line-height: 1em;\n",
       "  font-family: monospace;\n",
       "  background-color: var(--sklearn-color-background);\n",
       "  border-radius: 1em;\n",
       "  height: 1em;\n",
       "  width: 1em;\n",
       "  text-decoration: none !important;\n",
       "  margin-left: 1ex;\n",
       "  /* unfitted */\n",
       "  border: var(--sklearn-color-unfitted-level-1) 1pt solid;\n",
       "  color: var(--sklearn-color-unfitted-level-1);\n",
       "}\n",
       "\n",
       ".sk-estimator-doc-link.fitted,\n",
       "a:link.sk-estimator-doc-link.fitted,\n",
       "a:visited.sk-estimator-doc-link.fitted {\n",
       "  /* fitted */\n",
       "  border: var(--sklearn-color-fitted-level-1) 1pt solid;\n",
       "  color: var(--sklearn-color-fitted-level-1);\n",
       "}\n",
       "\n",
       "/* On hover */\n",
       "div.sk-estimator:hover .sk-estimator-doc-link:hover,\n",
       ".sk-estimator-doc-link:hover,\n",
       "div.sk-label-container:hover .sk-estimator-doc-link:hover,\n",
       ".sk-estimator-doc-link:hover {\n",
       "  /* unfitted */\n",
       "  background-color: var(--sklearn-color-unfitted-level-3);\n",
       "  color: var(--sklearn-color-background);\n",
       "  text-decoration: none;\n",
       "}\n",
       "\n",
       "div.sk-estimator.fitted:hover .sk-estimator-doc-link.fitted:hover,\n",
       ".sk-estimator-doc-link.fitted:hover,\n",
       "div.sk-label-container:hover .sk-estimator-doc-link.fitted:hover,\n",
       ".sk-estimator-doc-link.fitted:hover {\n",
       "  /* fitted */\n",
       "  background-color: var(--sklearn-color-fitted-level-3);\n",
       "  color: var(--sklearn-color-background);\n",
       "  text-decoration: none;\n",
       "}\n",
       "\n",
       "/* Span, style for the box shown on hovering the info icon */\n",
       ".sk-estimator-doc-link span {\n",
       "  display: none;\n",
       "  z-index: 9999;\n",
       "  position: relative;\n",
       "  font-weight: normal;\n",
       "  right: .2ex;\n",
       "  padding: .5ex;\n",
       "  margin: .5ex;\n",
       "  width: min-content;\n",
       "  min-width: 20ex;\n",
       "  max-width: 50ex;\n",
       "  color: var(--sklearn-color-text);\n",
       "  box-shadow: 2pt 2pt 4pt #999;\n",
       "  /* unfitted */\n",
       "  background: var(--sklearn-color-unfitted-level-0);\n",
       "  border: .5pt solid var(--sklearn-color-unfitted-level-3);\n",
       "}\n",
       "\n",
       ".sk-estimator-doc-link.fitted span {\n",
       "  /* fitted */\n",
       "  background: var(--sklearn-color-fitted-level-0);\n",
       "  border: var(--sklearn-color-fitted-level-3);\n",
       "}\n",
       "\n",
       ".sk-estimator-doc-link:hover span {\n",
       "  display: block;\n",
       "}\n",
       "\n",
       "/* \"?\"-specific style due to the `<a>` HTML tag */\n",
       "\n",
       "#sk-container-id-1 a.estimator_doc_link {\n",
       "  float: right;\n",
       "  font-size: 1rem;\n",
       "  line-height: 1em;\n",
       "  font-family: monospace;\n",
       "  background-color: var(--sklearn-color-background);\n",
       "  border-radius: 1rem;\n",
       "  height: 1rem;\n",
       "  width: 1rem;\n",
       "  text-decoration: none;\n",
       "  /* unfitted */\n",
       "  color: var(--sklearn-color-unfitted-level-1);\n",
       "  border: var(--sklearn-color-unfitted-level-1) 1pt solid;\n",
       "}\n",
       "\n",
       "#sk-container-id-1 a.estimator_doc_link.fitted {\n",
       "  /* fitted */\n",
       "  border: var(--sklearn-color-fitted-level-1) 1pt solid;\n",
       "  color: var(--sklearn-color-fitted-level-1);\n",
       "}\n",
       "\n",
       "/* On hover */\n",
       "#sk-container-id-1 a.estimator_doc_link:hover {\n",
       "  /* unfitted */\n",
       "  background-color: var(--sklearn-color-unfitted-level-3);\n",
       "  color: var(--sklearn-color-background);\n",
       "  text-decoration: none;\n",
       "}\n",
       "\n",
       "#sk-container-id-1 a.estimator_doc_link.fitted:hover {\n",
       "  /* fitted */\n",
       "  background-color: var(--sklearn-color-fitted-level-3);\n",
       "}\n",
       "</style><div id=\"sk-container-id-1\" class=\"sk-top-container\"><div class=\"sk-text-repr-fallback\"><pre>GridSearchCV(cv=5, estimator=LogisticRegression(),\n",
       "             param_grid={&#x27;C&#x27;: [0.001, 0.01, 0.1, 1, 10, 100],\n",
       "                         &#x27;penalty&#x27;: [&#x27;l1&#x27;, &#x27;l2&#x27;]})</pre><b>In a Jupyter environment, please rerun this cell to show the HTML representation or trust the notebook. <br />On GitHub, the HTML representation is unable to render, please try loading this page with nbviewer.org.</b></div><div class=\"sk-container\" hidden><div class=\"sk-item sk-dashed-wrapped\"><div class=\"sk-label-container\"><div class=\"sk-label fitted sk-toggleable\"><input class=\"sk-toggleable__control sk-hidden--visually\" id=\"sk-estimator-id-1\" type=\"checkbox\" ><label for=\"sk-estimator-id-1\" class=\"sk-toggleable__label fitted sk-toggleable__label-arrow fitted\">&nbsp;&nbsp;GridSearchCV<a class=\"sk-estimator-doc-link fitted\" rel=\"noreferrer\" target=\"_blank\" href=\"https://scikit-learn.org/1.5/modules/generated/sklearn.model_selection.GridSearchCV.html\">?<span>Documentation for GridSearchCV</span></a><span class=\"sk-estimator-doc-link fitted\">i<span>Fitted</span></span></label><div class=\"sk-toggleable__content fitted\"><pre>GridSearchCV(cv=5, estimator=LogisticRegression(),\n",
       "             param_grid={&#x27;C&#x27;: [0.001, 0.01, 0.1, 1, 10, 100],\n",
       "                         &#x27;penalty&#x27;: [&#x27;l1&#x27;, &#x27;l2&#x27;]})</pre></div> </div></div><div class=\"sk-parallel\"><div class=\"sk-parallel-item\"><div class=\"sk-item\"><div class=\"sk-label-container\"><div class=\"sk-label fitted sk-toggleable\"><input class=\"sk-toggleable__control sk-hidden--visually\" id=\"sk-estimator-id-2\" type=\"checkbox\" ><label for=\"sk-estimator-id-2\" class=\"sk-toggleable__label fitted sk-toggleable__label-arrow fitted\">best_estimator_: LogisticRegression</label><div class=\"sk-toggleable__content fitted\"><pre>LogisticRegression(C=0.001)</pre></div> </div></div><div class=\"sk-serial\"><div class=\"sk-item\"><div class=\"sk-estimator fitted sk-toggleable\"><input class=\"sk-toggleable__control sk-hidden--visually\" id=\"sk-estimator-id-3\" type=\"checkbox\" ><label for=\"sk-estimator-id-3\" class=\"sk-toggleable__label fitted sk-toggleable__label-arrow fitted\">&nbsp;LogisticRegression<a class=\"sk-estimator-doc-link fitted\" rel=\"noreferrer\" target=\"_blank\" href=\"https://scikit-learn.org/1.5/modules/generated/sklearn.linear_model.LogisticRegression.html\">?<span>Documentation for LogisticRegression</span></a></label><div class=\"sk-toggleable__content fitted\"><pre>LogisticRegression(C=0.001)</pre></div> </div></div></div></div></div></div></div></div></div>"
      ],
      "text/plain": [
       "GridSearchCV(cv=5, estimator=LogisticRegression(),\n",
       "             param_grid={'C': [0.001, 0.01, 0.1, 1, 10, 100],\n",
       "                         'penalty': ['l1', 'l2']})"
      ]
     },
     "execution_count": 9,
     "metadata": {},
     "output_type": "execute_result"
    }
   ],
   "source": [
    "from sklearn.linear_model import LogisticRegression\n",
    "from sklearn.model_selection import GridSearchCV\n",
    "\n",
    "# set params\n",
    "param_grid = {'C': [0.001, 0.01, 0.1, 1, 10, 100],\n",
    "              'penalty': ['l1', 'l2']}\n",
    "\n",
    "# grid search\n",
    "grid_search = GridSearchCV(LogisticRegression(), param_grid, cv=5)\n",
    "\n",
    "# fit\n",
    "grid_search.fit(X_train_scaled, y_train)"
   ]
  },
  {
   "cell_type": "markdown",
   "id": "5758f7c4",
   "metadata": {},
   "source": [
    "**How the grid_search module works:**\n",
    "```python\n",
    "\n",
    "from sklearn.linear_model import LogisticRegression\n",
    "from sklearn.model_selection import cross_val_score\n",
    "\n",
    "# SET default\n",
    "best_score = 0\n",
    "\n",
    "# iterataion\n",
    "for r in ['l1', 'l2']:\n",
    "    for C in [0.001, 0.01, 0.1, 1, 10, 100]:\n",
    "        lm = LogisticRegression(penalty = r, C=C)\n",
    "        scores = cross_val_score(lm, X_train, y_train, cv=5)\n",
    "        score = np.mean(scores)\n",
    "        if score > best_score:\n",
    "            best_score = score\n",
    "            best_parameters = {'C': C, 'penalty': r}\n",
    "            \n",
    "```            "
   ]
  },
  {
   "cell_type": "code",
   "execution_count": 10,
   "id": "6c50e992",
   "metadata": {
    "ExecuteTime": {
     "end_time": "2023-04-13T03:53:37.060633Z",
     "start_time": "2023-04-13T03:53:37.046670Z"
    }
   },
   "outputs": [
    {
     "name": "stdout",
     "output_type": "stream",
     "text": [
      "{'C': 0.001, 'penalty': 'l2'}\n",
      "0.9661578667898866\n",
      "LogisticRegression(C=0.001)\n"
     ]
    }
   ],
   "source": [
    "print(grid_search.best_params_)\n",
    "print(grid_search.best_score_)\n",
    "print(grid_search.best_estimator_)"
   ]
  },
  {
   "cell_type": "code",
   "execution_count": 11,
   "id": "572e0198",
   "metadata": {
    "ExecuteTime": {
     "end_time": "2023-04-13T03:53:37.092547Z",
     "start_time": "2023-04-13T03:53:37.064623Z"
    }
   },
   "outputs": [
    {
     "data": {
      "text/plain": [
       "0.9687978610180931"
      ]
     },
     "execution_count": 11,
     "metadata": {},
     "output_type": "execute_result"
    }
   ],
   "source": [
    "grid_search.score(X_test_scaled, y_test) # accuracy"
   ]
  },
  {
   "cell_type": "code",
   "execution_count": 12,
   "id": "8ded98b0",
   "metadata": {
    "ExecuteTime": {
     "end_time": "2023-04-13T03:53:37.108507Z",
     "start_time": "2023-04-13T03:53:37.095540Z"
    }
   },
   "outputs": [
    {
     "data": {
      "text/plain": [
       "array([0, 0, 0, ..., 0, 0, 0])"
      ]
     },
     "execution_count": 12,
     "metadata": {},
     "output_type": "execute_result"
    }
   ],
   "source": [
    "grid_search.predict(X_test_scaled)"
   ]
  },
  {
   "cell_type": "code",
   "execution_count": 13,
   "id": "a2adc7af",
   "metadata": {
    "ExecuteTime": {
     "end_time": "2023-04-13T03:53:37.124462Z",
     "start_time": "2023-04-13T03:53:37.110500Z"
    }
   },
   "outputs": [
    {
     "name": "stdout",
     "output_type": "stream",
     "text": [
      "38523\n",
      "38523\n"
     ]
    }
   ],
   "source": [
    "print(len(grid_search.predict(X_test_scaled)))\n",
    "print(len(y_test))"
   ]
  },
  {
   "cell_type": "markdown",
   "id": "6c807bd5",
   "metadata": {},
   "source": [
    "### 1차 모델 평가 (about the first model)"
   ]
  },
  {
   "cell_type": "code",
   "execution_count": 14,
   "id": "b5ce9356",
   "metadata": {
    "ExecuteTime": {
     "end_time": "2023-04-13T03:53:37.140420Z",
     "start_time": "2023-04-13T03:53:37.127454Z"
    }
   },
   "outputs": [
    {
     "name": "stdout",
     "output_type": "stream",
     "text": [
      "when grid searching:  0.9661578667898866\n",
      "at the trainset:,  0.9687978610180931\n"
     ]
    }
   ],
   "source": [
    "print('when grid searching: ', grid_search.best_score_)\n",
    "print('at the trainset:, ', grid_search.score(X_test_scaled, y_test))"
   ]
  },
  {
   "cell_type": "code",
   "execution_count": 15,
   "id": "c46b0d69",
   "metadata": {
    "ExecuteTime": {
     "end_time": "2023-04-13T03:53:37.156377Z",
     "start_time": "2023-04-13T03:53:37.143412Z"
    }
   },
   "outputs": [
    {
     "data": {
      "text/plain": [
       "group\n",
       "0    37321\n",
       "1     1202\n",
       "Name: count, dtype: int64"
      ]
     },
     "execution_count": 15,
     "metadata": {},
     "output_type": "execute_result"
    }
   ],
   "source": [
    "# 실제 테스트셋의 label 분포\n",
    "y_test.value_counts()"
   ]
  },
  {
   "cell_type": "code",
   "execution_count": 16,
   "id": "ef1b6f28",
   "metadata": {
    "ExecuteTime": {
     "end_time": "2023-04-13T03:53:37.188292Z",
     "start_time": "2023-04-13T03:53:37.159369Z"
    }
   },
   "outputs": [
    {
     "data": {
      "text/plain": [
       "0    38523\n",
       "Name: count, dtype: int64"
      ]
     },
     "execution_count": 16,
     "metadata": {},
     "output_type": "execute_result"
    }
   ],
   "source": [
    "# 모델 예측 결과\n",
    "pd.Series(grid_search.predict(X_test_scaled)).value_counts()"
   ]
  },
  {
   "cell_type": "code",
   "execution_count": 17,
   "id": "e73054d8",
   "metadata": {
    "ExecuteTime": {
     "end_time": "2023-04-13T03:53:37.220207Z",
     "start_time": "2023-04-13T03:53:37.191286Z"
    }
   },
   "outputs": [
    {
     "name": "stdout",
     "output_type": "stream",
     "text": [
      "[[34216  1173]\n",
      " [ 3105    29]]\n"
     ]
    }
   ],
   "source": [
    "from sklearn.metrics import confusion_matrix\n",
    "\n",
    "print(confusion_matrix(grid_search.predict(X_test), y_test))"
   ]
  },
  {
   "cell_type": "code",
   "execution_count": 18,
   "id": "69ab1026",
   "metadata": {
    "ExecuteTime": {
     "end_time": "2023-04-13T03:53:37.313961Z",
     "start_time": "2023-04-13T03:53:37.223198Z"
    }
   },
   "outputs": [
    {
     "name": "stdout",
     "output_type": "stream",
     "text": [
      "              precision    recall  f1-score   support\n",
      "\n",
      "           0       0.92      0.97      0.94     35389\n",
      "           1       0.02      0.01      0.01      3134\n",
      "\n",
      "    accuracy                           0.89     38523\n",
      "   macro avg       0.47      0.49      0.48     38523\n",
      "weighted avg       0.84      0.89      0.87     38523\n",
      "\n"
     ]
    }
   ],
   "source": [
    "from sklearn.metrics import classification_report\n",
    "\n",
    "print(classification_report(grid_search.predict(X_test), y_test))"
   ]
  },
  {
   "cell_type": "code",
   "execution_count": 19,
   "id": "300bc884",
   "metadata": {
    "ExecuteTime": {
     "end_time": "2023-04-13T03:53:37.645070Z",
     "start_time": "2023-04-13T03:53:37.316947Z"
    }
   },
   "outputs": [
    {
     "data": {
      "text/plain": [
       "Text(0.5, 0, 'False Positive Rate')"
      ]
     },
     "execution_count": 19,
     "metadata": {},
     "output_type": "execute_result"
    },
    {
     "data": {
      "image/png": "[encoded data removed]",
      "text/plain": [
       "<Figure size 600x400 with 1 Axes>"
      ]
     },
     "metadata": {},
     "output_type": "display_data"
    }
   ],
   "source": [
    "# ROC plot\n",
    "from sklearn.metrics import roc_curve, auc\n",
    "\n",
    "false_positive_rate, true_positive_rate, thresholds = roc_curve(y_test, grid_search.predict(X_test))\n",
    "roc_auc = auc(false_positive_rate, true_positive_rate)\n",
    "\n",
    "fig = plt.figure(figsize=(6,4))\n",
    "plt.title('Receiver Operating Characteristic')\n",
    "plt.plot(false_positive_rate, true_positive_rate, 'b', label='AUC = %0.2f'% roc_auc)\n",
    "plt.legend(loc='lower right')\n",
    "plt.plot([0,1],[0,1],'r--')\n",
    "plt.xlim([-0.1,1.2])\n",
    "plt.ylim([-0.1,1.2])\n",
    "plt.ylabel('True Positive Rate')\n",
    "plt.xlabel('False Positive Rate')"
   ]
  },
  {
   "cell_type": "markdown",
   "id": "cb2842e2",
   "metadata": {},
   "source": [
    "### Upsampling & Downsampling for imbalanced data\n",
    "1. Collect More Data (if possible)\n",
    "2. Resampling the Dataset\n",
    "    - oversampling\n",
    "        - no information loss, perform better than undersampling\n",
    "        - overfitting issues (because of duplicates)\n",
    "    - undersampling\n",
    "        - help improve run time and storage problems\n",
    "        - information loss, biased dataset\n",
    "3. Generate Synthetic Samples"
   ]
  },
  {
   "cell_type": "code",
   "execution_count": 20,
   "id": "b844fd06",
   "metadata": {
    "ExecuteTime": {
     "end_time": "2023-04-13T03:53:37.661028Z",
     "start_time": "2023-04-13T03:53:37.647066Z"
    }
   },
   "outputs": [
    {
     "data": {
      "text/plain": [
       "group\n",
       "0    148976\n",
       "1      5113\n",
       "Name: count, dtype: int64"
      ]
     },
     "execution_count": 20,
     "metadata": {},
     "output_type": "execute_result"
    }
   ],
   "source": [
    "# orginal dataset\n",
    "df5.group.value_counts()"
   ]
  },
  {
   "cell_type": "code",
   "execution_count": 21,
   "id": "7b9bc859",
   "metadata": {
    "ExecuteTime": {
     "end_time": "2023-04-13T03:53:37.675989Z",
     "start_time": "2023-04-13T03:53:37.663023Z"
    }
   },
   "outputs": [
    {
     "data": {
      "text/plain": [
       "group\n",
       "0    0.966818\n",
       "1    0.033182\n",
       "Name: count, dtype: float64"
      ]
     },
     "execution_count": 21,
     "metadata": {},
     "output_type": "execute_result"
    }
   ],
   "source": [
    "df5.group.value_counts().transform(lambda x: x / x.sum())"
   ]
  },
  {
   "cell_type": "code",
   "execution_count": 22,
   "id": "ee35e283",
   "metadata": {
    "ExecuteTime": {
     "end_time": "2023-04-13T03:53:37.691946Z",
     "start_time": "2023-04-13T03:53:37.678981Z"
    }
   },
   "outputs": [],
   "source": [
    "def oversampling(df):    \n",
    "\n",
    "    df_pay_only = df.query(\"group == 1\")\n",
    "    df_pay_only_over = pd.concat([df_pay_only, df_pay_only, df_pay_only], axis=0) \n",
    "    df_over = pd.concat([df, df_pay_only_over], axis=0)\n",
    "\n",
    "    return df_over"
   ]
  },
  {
   "cell_type": "code",
   "execution_count": 23,
   "id": "7ac26049",
   "metadata": {
    "ExecuteTime": {
     "start_time": "2023-04-13T03:53:17.199Z"
    }
   },
   "outputs": [],
   "source": [
    "df5_over = oversampling(df5)"
   ]
  },
  {
   "cell_type": "code",
   "execution_count": 24,
   "id": "31541875",
   "metadata": {
    "ExecuteTime": {
     "start_time": "2023-04-13T03:53:17.204Z"
    }
   },
   "outputs": [
    {
     "data": {
      "text/plain": [
       "group\n",
       "0    0.879288\n",
       "1    0.120712\n",
       "Name: count, dtype: float64"
      ]
     },
     "execution_count": 24,
     "metadata": {},
     "output_type": "execute_result"
    }
   ],
   "source": [
    "df5_over.group.value_counts().transform(lambda x: x / x.sum())"
   ]
  },
  {
   "cell_type": "code",
   "execution_count": 25,
   "id": "725ca7d0",
   "metadata": {
    "ExecuteTime": {
     "start_time": "2023-04-13T03:53:17.208Z"
    }
   },
   "outputs": [],
   "source": [
    "X = df5_over.drop(\"group\", axis=1)\n",
    "y = df5_over.group\n",
    "\n",
    "X_train, X_test, y_train, y_test = train_test_split(X, y, random_state=42)\n",
    "\n",
    "# Scaling\n",
    "scaler = MinMaxScaler()\n",
    "X_train_scaled = scaler.fit_transform(X_train)\n",
    "X_test_scaled = scaler.fit_transform(X_test)"
   ]
  },
  {
   "cell_type": "code",
   "execution_count": 26,
   "id": "cf128171",
   "metadata": {
    "ExecuteTime": {
     "start_time": "2023-04-13T03:53:17.213Z"
    }
   },
   "outputs": [
    {
     "name": "stdout",
     "output_type": "stream",
     "text": [
      "(127071, 11)\n",
      "(127071,)\n",
      "(42357, 11)\n",
      "(42357,)\n"
     ]
    }
   ],
   "source": [
    "print(X_train_scaled.shape)\n",
    "print(y_train.shape)\n",
    "print(X_test_scaled.shape)\n",
    "print(y_test.shape)"
   ]
  },
  {
   "cell_type": "code",
   "execution_count": 27,
   "id": "8c01dff8",
   "metadata": {
    "ExecuteTime": {
     "start_time": "2023-04-13T03:53:17.218Z"
    }
   },
   "outputs": [
    {
     "data": {
      "text/html": [
       "<style>#sk-container-id-2 {\n",
       "  /* Definition of color scheme common for light and dark mode */\n",
       "  --sklearn-color-text: black;\n",
       "  --sklearn-color-line: gray;\n",
       "  /* Definition of color scheme for unfitted estimators */\n",
       "  --sklearn-color-unfitted-level-0: #fff5e6;\n",
       "  --sklearn-color-unfitted-level-1: #f6e4d2;\n",
       "  --sklearn-color-unfitted-level-2: #ffe0b3;\n",
       "  --sklearn-color-unfitted-level-3: chocolate;\n",
       "  /* Definition of color scheme for fitted estimators */\n",
       "  --sklearn-color-fitted-level-0: #f0f8ff;\n",
       "  --sklearn-color-fitted-level-1: #d4ebff;\n",
       "  --sklearn-color-fitted-level-2: #b3dbfd;\n",
       "  --sklearn-color-fitted-level-3: cornflowerblue;\n",
       "\n",
       "  /* Specific color for light theme */\n",
       "  --sklearn-color-text-on-default-background: var(--sg-text-color, var(--theme-code-foreground, var(--jp-content-font-color1, black)));\n",
       "  --sklearn-color-background: var(--sg-background-color, var(--theme-background, var(--jp-layout-color0, white)));\n",
       "  --sklearn-color-border-box: var(--sg-text-color, var(--theme-code-foreground, var(--jp-content-font-color1, black)));\n",
       "  --sklearn-color-icon: #696969;\n",
       "\n",
       "  @media (prefers-color-scheme: dark) {\n",
       "    /* Redefinition of color scheme for dark theme */\n",
       "    --sklearn-color-text-on-default-background: var(--sg-text-color, var(--theme-code-foreground, var(--jp-content-font-color1, white)));\n",
       "    --sklearn-color-background: var(--sg-background-color, var(--theme-background, var(--jp-layout-color0, #111)));\n",
       "    --sklearn-color-border-box: var(--sg-text-color, var(--theme-code-foreground, var(--jp-content-font-color1, white)));\n",
       "    --sklearn-color-icon: #878787;\n",
       "  }\n",
       "}\n",
       "\n",
       "#sk-container-id-2 {\n",
       "  color: var(--sklearn-color-text);\n",
       "}\n",
       "\n",
       "#sk-container-id-2 pre {\n",
       "  padding: 0;\n",
       "}\n",
       "\n",
       "#sk-container-id-2 input.sk-hidden--visually {\n",
       "  border: 0;\n",
       "  clip: rect(1px 1px 1px 1px);\n",
       "  clip: rect(1px, 1px, 1px, 1px);\n",
       "  height: 1px;\n",
       "  margin: -1px;\n",
       "  overflow: hidden;\n",
       "  padding: 0;\n",
       "  position: absolute;\n",
       "  width: 1px;\n",
       "}\n",
       "\n",
       "#sk-container-id-2 div.sk-dashed-wrapped {\n",
       "  border: 1px dashed var(--sklearn-color-line);\n",
       "  margin: 0 0.4em 0.5em 0.4em;\n",
       "  box-sizing: border-box;\n",
       "  padding-bottom: 0.4em;\n",
       "  background-color: var(--sklearn-color-background);\n",
       "}\n",
       "\n",
       "#sk-container-id-2 div.sk-container {\n",
       "  /* jupyter's `normalize.less` sets `[hidden] { display: none; }`\n",
       "     but bootstrap.min.css set `[hidden] { display: none !important; }`\n",
       "     so we also need the `!important` here to be able to override the\n",
       "     default hidden behavior on the sphinx rendered scikit-learn.org.\n",
       "     See: https://github.com/scikit-learn/scikit-learn/issues/21755 */\n",
       "  display: inline-block !important;\n",
       "  position: relative;\n",
       "}\n",
       "\n",
       "#sk-container-id-2 div.sk-text-repr-fallback {\n",
       "  display: none;\n",
       "}\n",
       "\n",
       "div.sk-parallel-item,\n",
       "div.sk-serial,\n",
       "div.sk-item {\n",
       "  /* draw centered vertical line to link estimators */\n",
       "  background-image: linear-gradient(var(--sklearn-color-text-on-default-background), var(--sklearn-color-text-on-default-background));\n",
       "  background-size: 2px 100%;\n",
       "  background-repeat: no-repeat;\n",
       "  background-position: center center;\n",
       "}\n",
       "\n",
       "/* Parallel-specific style estimator block */\n",
       "\n",
       "#sk-container-id-2 div.sk-parallel-item::after {\n",
       "  content: \"\";\n",
       "  width: 100%;\n",
       "  border-bottom: 2px solid var(--sklearn-color-text-on-default-background);\n",
       "  flex-grow: 1;\n",
       "}\n",
       "\n",
       "#sk-container-id-2 div.sk-parallel {\n",
       "  display: flex;\n",
       "  align-items: stretch;\n",
       "  justify-content: center;\n",
       "  background-color: var(--sklearn-color-background);\n",
       "  position: relative;\n",
       "}\n",
       "\n",
       "#sk-container-id-2 div.sk-parallel-item {\n",
       "  display: flex;\n",
       "  flex-direction: column;\n",
       "}\n",
       "\n",
       "#sk-container-id-2 div.sk-parallel-item:first-child::after {\n",
       "  align-self: flex-end;\n",
       "  width: 50%;\n",
       "}\n",
       "\n",
       "#sk-container-id-2 div.sk-parallel-item:last-child::after {\n",
       "  align-self: flex-start;\n",
       "  width: 50%;\n",
       "}\n",
       "\n",
       "#sk-container-id-2 div.sk-parallel-item:only-child::after {\n",
       "  width: 0;\n",
       "}\n",
       "\n",
       "/* Serial-specific style estimator block */\n",
       "\n",
       "#sk-container-id-2 div.sk-serial {\n",
       "  display: flex;\n",
       "  flex-direction: column;\n",
       "  align-items: center;\n",
       "  background-color: var(--sklearn-color-background);\n",
       "  padding-right: 1em;\n",
       "  padding-left: 1em;\n",
       "}\n",
       "\n",
       "\n",
       "/* Toggleable style: style used for estimator/Pipeline/ColumnTransformer box that is\n",
       "clickable and can be expanded/collapsed.\n",
       "- Pipeline and ColumnTransformer use this feature and define the default style\n",
       "- Estimators will overwrite some part of the style using the `sk-estimator` class\n",
       "*/\n",
       "\n",
       "/* Pipeline and ColumnTransformer style (default) */\n",
       "\n",
       "#sk-container-id-2 div.sk-toggleable {\n",
       "  /* Default theme specific background. It is overwritten whether we have a\n",
       "  specific estimator or a Pipeline/ColumnTransformer */\n",
       "  background-color: var(--sklearn-color-background);\n",
       "}\n",
       "\n",
       "/* Toggleable label */\n",
       "#sk-container-id-2 label.sk-toggleable__label {\n",
       "  cursor: pointer;\n",
       "  display: block;\n",
       "  width: 100%;\n",
       "  margin-bottom: 0;\n",
       "  padding: 0.5em;\n",
       "  box-sizing: border-box;\n",
       "  text-align: center;\n",
       "}\n",
       "\n",
       "#sk-container-id-2 label.sk-toggleable__label-arrow:before {\n",
       "  /* Arrow on the left of the label */\n",
       "  content: \"▸\";\n",
       "  float: left;\n",
       "  margin-right: 0.25em;\n",
       "  color: var(--sklearn-color-icon);\n",
       "}\n",
       "\n",
       "#sk-container-id-2 label.sk-toggleable__label-arrow:hover:before {\n",
       "  color: var(--sklearn-color-text);\n",
       "}\n",
       "\n",
       "/* Toggleable content - dropdown */\n",
       "\n",
       "#sk-container-id-2 div.sk-toggleable__content {\n",
       "  max-height: 0;\n",
       "  max-width: 0;\n",
       "  overflow: hidden;\n",
       "  text-align: left;\n",
       "  /* unfitted */\n",
       "  background-color: var(--sklearn-color-unfitted-level-0);\n",
       "}\n",
       "\n",
       "#sk-container-id-2 div.sk-toggleable__content.fitted {\n",
       "  /* fitted */\n",
       "  background-color: var(--sklearn-color-fitted-level-0);\n",
       "}\n",
       "\n",
       "#sk-container-id-2 div.sk-toggleable__content pre {\n",
       "  margin: 0.2em;\n",
       "  border-radius: 0.25em;\n",
       "  color: var(--sklearn-color-text);\n",
       "  /* unfitted */\n",
       "  background-color: var(--sklearn-color-unfitted-level-0);\n",
       "}\n",
       "\n",
       "#sk-container-id-2 div.sk-toggleable__content.fitted pre {\n",
       "  /* unfitted */\n",
       "  background-color: var(--sklearn-color-fitted-level-0);\n",
       "}\n",
       "\n",
       "#sk-container-id-2 input.sk-toggleable__control:checked~div.sk-toggleable__content {\n",
       "  /* Expand drop-down */\n",
       "  max-height: 200px;\n",
       "  max-width: 100%;\n",
       "  overflow: auto;\n",
       "}\n",
       "\n",
       "#sk-container-id-2 input.sk-toggleable__control:checked~label.sk-toggleable__label-arrow:before {\n",
       "  content: \"▾\";\n",
       "}\n",
       "\n",
       "/* Pipeline/ColumnTransformer-specific style */\n",
       "\n",
       "#sk-container-id-2 div.sk-label input.sk-toggleable__control:checked~label.sk-toggleable__label {\n",
       "  color: var(--sklearn-color-text);\n",
       "  background-color: var(--sklearn-color-unfitted-level-2);\n",
       "}\n",
       "\n",
       "#sk-container-id-2 div.sk-label.fitted input.sk-toggleable__control:checked~label.sk-toggleable__label {\n",
       "  background-color: var(--sklearn-color-fitted-level-2);\n",
       "}\n",
       "\n",
       "/* Estimator-specific style */\n",
       "\n",
       "/* Colorize estimator box */\n",
       "#sk-container-id-2 div.sk-estimator input.sk-toggleable__control:checked~label.sk-toggleable__label {\n",
       "  /* unfitted */\n",
       "  background-color: var(--sklearn-color-unfitted-level-2);\n",
       "}\n",
       "\n",
       "#sk-container-id-2 div.sk-estimator.fitted input.sk-toggleable__control:checked~label.sk-toggleable__label {\n",
       "  /* fitted */\n",
       "  background-color: var(--sklearn-color-fitted-level-2);\n",
       "}\n",
       "\n",
       "#sk-container-id-2 div.sk-label label.sk-toggleable__label,\n",
       "#sk-container-id-2 div.sk-label label {\n",
       "  /* The background is the default theme color */\n",
       "  color: var(--sklearn-color-text-on-default-background);\n",
       "}\n",
       "\n",
       "/* On hover, darken the color of the background */\n",
       "#sk-container-id-2 div.sk-label:hover label.sk-toggleable__label {\n",
       "  color: var(--sklearn-color-text);\n",
       "  background-color: var(--sklearn-color-unfitted-level-2);\n",
       "}\n",
       "\n",
       "/* Label box, darken color on hover, fitted */\n",
       "#sk-container-id-2 div.sk-label.fitted:hover label.sk-toggleable__label.fitted {\n",
       "  color: var(--sklearn-color-text);\n",
       "  background-color: var(--sklearn-color-fitted-level-2);\n",
       "}\n",
       "\n",
       "/* Estimator label */\n",
       "\n",
       "#sk-container-id-2 div.sk-label label {\n",
       "  font-family: monospace;\n",
       "  font-weight: bold;\n",
       "  display: inline-block;\n",
       "  line-height: 1.2em;\n",
       "}\n",
       "\n",
       "#sk-container-id-2 div.sk-label-container {\n",
       "  text-align: center;\n",
       "}\n",
       "\n",
       "/* Estimator-specific */\n",
       "#sk-container-id-2 div.sk-estimator {\n",
       "  font-family: monospace;\n",
       "  border: 1px dotted var(--sklearn-color-border-box);\n",
       "  border-radius: 0.25em;\n",
       "  box-sizing: border-box;\n",
       "  margin-bottom: 0.5em;\n",
       "  /* unfitted */\n",
       "  background-color: var(--sklearn-color-unfitted-level-0);\n",
       "}\n",
       "\n",
       "#sk-container-id-2 div.sk-estimator.fitted {\n",
       "  /* fitted */\n",
       "  background-color: var(--sklearn-color-fitted-level-0);\n",
       "}\n",
       "\n",
       "/* on hover */\n",
       "#sk-container-id-2 div.sk-estimator:hover {\n",
       "  /* unfitted */\n",
       "  background-color: var(--sklearn-color-unfitted-level-2);\n",
       "}\n",
       "\n",
       "#sk-container-id-2 div.sk-estimator.fitted:hover {\n",
       "  /* fitted */\n",
       "  background-color: var(--sklearn-color-fitted-level-2);\n",
       "}\n",
       "\n",
       "/* Specification for estimator info (e.g. \"i\" and \"?\") */\n",
       "\n",
       "/* Common style for \"i\" and \"?\" */\n",
       "\n",
       ".sk-estimator-doc-link,\n",
       "a:link.sk-estimator-doc-link,\n",
       "a:visited.sk-estimator-doc-link {\n",
       "  float: right;\n",
       "  font-size: smaller;\n",
       "  line-height: 1em;\n",
       "  font-family: monospace;\n",
       "  background-color: var(--sklearn-color-background);\n",
       "  border-radius: 1em;\n",
       "  height: 1em;\n",
       "  width: 1em;\n",
       "  text-decoration: none !important;\n",
       "  margin-left: 1ex;\n",
       "  /* unfitted */\n",
       "  border: var(--sklearn-color-unfitted-level-1) 1pt solid;\n",
       "  color: var(--sklearn-color-unfitted-level-1);\n",
       "}\n",
       "\n",
       ".sk-estimator-doc-link.fitted,\n",
       "a:link.sk-estimator-doc-link.fitted,\n",
       "a:visited.sk-estimator-doc-link.fitted {\n",
       "  /* fitted */\n",
       "  border: var(--sklearn-color-fitted-level-1) 1pt solid;\n",
       "  color: var(--sklearn-color-fitted-level-1);\n",
       "}\n",
       "\n",
       "/* On hover */\n",
       "div.sk-estimator:hover .sk-estimator-doc-link:hover,\n",
       ".sk-estimator-doc-link:hover,\n",
       "div.sk-label-container:hover .sk-estimator-doc-link:hover,\n",
       ".sk-estimator-doc-link:hover {\n",
       "  /* unfitted */\n",
       "  background-color: var(--sklearn-color-unfitted-level-3);\n",
       "  color: var(--sklearn-color-background);\n",
       "  text-decoration: none;\n",
       "}\n",
       "\n",
       "div.sk-estimator.fitted:hover .sk-estimator-doc-link.fitted:hover,\n",
       ".sk-estimator-doc-link.fitted:hover,\n",
       "div.sk-label-container:hover .sk-estimator-doc-link.fitted:hover,\n",
       ".sk-estimator-doc-link.fitted:hover {\n",
       "  /* fitted */\n",
       "  background-color: var(--sklearn-color-fitted-level-3);\n",
       "  color: var(--sklearn-color-background);\n",
       "  text-decoration: none;\n",
       "}\n",
       "\n",
       "/* Span, style for the box shown on hovering the info icon */\n",
       ".sk-estimator-doc-link span {\n",
       "  display: none;\n",
       "  z-index: 9999;\n",
       "  position: relative;\n",
       "  font-weight: normal;\n",
       "  right: .2ex;\n",
       "  padding: .5ex;\n",
       "  margin: .5ex;\n",
       "  width: min-content;\n",
       "  min-width: 20ex;\n",
       "  max-width: 50ex;\n",
       "  color: var(--sklearn-color-text);\n",
       "  box-shadow: 2pt 2pt 4pt #999;\n",
       "  /* unfitted */\n",
       "  background: var(--sklearn-color-unfitted-level-0);\n",
       "  border: .5pt solid var(--sklearn-color-unfitted-level-3);\n",
       "}\n",
       "\n",
       ".sk-estimator-doc-link.fitted span {\n",
       "  /* fitted */\n",
       "  background: var(--sklearn-color-fitted-level-0);\n",
       "  border: var(--sklearn-color-fitted-level-3);\n",
       "}\n",
       "\n",
       ".sk-estimator-doc-link:hover span {\n",
       "  display: block;\n",
       "}\n",
       "\n",
       "/* \"?\"-specific style due to the `<a>` HTML tag */\n",
       "\n",
       "#sk-container-id-2 a.estimator_doc_link {\n",
       "  float: right;\n",
       "  font-size: 1rem;\n",
       "  line-height: 1em;\n",
       "  font-family: monospace;\n",
       "  background-color: var(--sklearn-color-background);\n",
       "  border-radius: 1rem;\n",
       "  height: 1rem;\n",
       "  width: 1rem;\n",
       "  text-decoration: none;\n",
       "  /* unfitted */\n",
       "  color: var(--sklearn-color-unfitted-level-1);\n",
       "  border: var(--sklearn-color-unfitted-level-1) 1pt solid;\n",
       "}\n",
       "\n",
       "#sk-container-id-2 a.estimator_doc_link.fitted {\n",
       "  /* fitted */\n",
       "  border: var(--sklearn-color-fitted-level-1) 1pt solid;\n",
       "  color: var(--sklearn-color-fitted-level-1);\n",
       "}\n",
       "\n",
       "/* On hover */\n",
       "#sk-container-id-2 a.estimator_doc_link:hover {\n",
       "  /* unfitted */\n",
       "  background-color: var(--sklearn-color-unfitted-level-3);\n",
       "  color: var(--sklearn-color-background);\n",
       "  text-decoration: none;\n",
       "}\n",
       "\n",
       "#sk-container-id-2 a.estimator_doc_link.fitted:hover {\n",
       "  /* fitted */\n",
       "  background-color: var(--sklearn-color-fitted-level-3);\n",
       "}\n",
       "</style><div id=\"sk-container-id-2\" class=\"sk-top-container\"><div class=\"sk-text-repr-fallback\"><pre>GridSearchCV(cv=5, estimator=LogisticRegression(),\n",
       "             param_grid={&#x27;C&#x27;: [0.001, 0.01, 0.1, 1, 10, 100],\n",
       "                         &#x27;penalty&#x27;: [&#x27;l1&#x27;, &#x27;l2&#x27;]})</pre><b>In a Jupyter environment, please rerun this cell to show the HTML representation or trust the notebook. <br />On GitHub, the HTML representation is unable to render, please try loading this page with nbviewer.org.</b></div><div class=\"sk-container\" hidden><div class=\"sk-item sk-dashed-wrapped\"><div class=\"sk-label-container\"><div class=\"sk-label fitted sk-toggleable\"><input class=\"sk-toggleable__control sk-hidden--visually\" id=\"sk-estimator-id-4\" type=\"checkbox\" ><label for=\"sk-estimator-id-4\" class=\"sk-toggleable__label fitted sk-toggleable__label-arrow fitted\">&nbsp;&nbsp;GridSearchCV<a class=\"sk-estimator-doc-link fitted\" rel=\"noreferrer\" target=\"_blank\" href=\"https://scikit-learn.org/1.5/modules/generated/sklearn.model_selection.GridSearchCV.html\">?<span>Documentation for GridSearchCV</span></a><span class=\"sk-estimator-doc-link fitted\">i<span>Fitted</span></span></label><div class=\"sk-toggleable__content fitted\"><pre>GridSearchCV(cv=5, estimator=LogisticRegression(),\n",
       "             param_grid={&#x27;C&#x27;: [0.001, 0.01, 0.1, 1, 10, 100],\n",
       "                         &#x27;penalty&#x27;: [&#x27;l1&#x27;, &#x27;l2&#x27;]})</pre></div> </div></div><div class=\"sk-parallel\"><div class=\"sk-parallel-item\"><div class=\"sk-item\"><div class=\"sk-label-container\"><div class=\"sk-label fitted sk-toggleable\"><input class=\"sk-toggleable__control sk-hidden--visually\" id=\"sk-estimator-id-5\" type=\"checkbox\" ><label for=\"sk-estimator-id-5\" class=\"sk-toggleable__label fitted sk-toggleable__label-arrow fitted\">best_estimator_: LogisticRegression</label><div class=\"sk-toggleable__content fitted\"><pre>LogisticRegression(C=10)</pre></div> </div></div><div class=\"sk-serial\"><div class=\"sk-item\"><div class=\"sk-estimator fitted sk-toggleable\"><input class=\"sk-toggleable__control sk-hidden--visually\" id=\"sk-estimator-id-6\" type=\"checkbox\" ><label for=\"sk-estimator-id-6\" class=\"sk-toggleable__label fitted sk-toggleable__label-arrow fitted\">&nbsp;LogisticRegression<a class=\"sk-estimator-doc-link fitted\" rel=\"noreferrer\" target=\"_blank\" href=\"https://scikit-learn.org/1.5/modules/generated/sklearn.linear_model.LogisticRegression.html\">?<span>Documentation for LogisticRegression</span></a></label><div class=\"sk-toggleable__content fitted\"><pre>LogisticRegression(C=10)</pre></div> </div></div></div></div></div></div></div></div></div>"
      ],
      "text/plain": [
       "GridSearchCV(cv=5, estimator=LogisticRegression(),\n",
       "             param_grid={'C': [0.001, 0.01, 0.1, 1, 10, 100],\n",
       "                         'penalty': ['l1', 'l2']})"
      ]
     },
     "execution_count": 27,
     "metadata": {},
     "output_type": "execute_result"
    }
   ],
   "source": [
    "from sklearn.linear_model import LogisticRegression\n",
    "from sklearn.model_selection import GridSearchCV\n",
    "\n",
    "# set params\n",
    "param_grid = {'C': [0.001, 0.01, 0.1, 1, 10, 100],\n",
    "              'penalty': ['l1', 'l2']}\n",
    "\n",
    "# grid search\n",
    "grid_search = GridSearchCV(LogisticRegression(), param_grid, cv=5)\n",
    "\n",
    "# fit\n",
    "grid_search.fit(X_train_scaled, y_train)"
   ]
  },
  {
   "cell_type": "code",
   "execution_count": 28,
   "id": "fca16fac",
   "metadata": {
    "ExecuteTime": {
     "start_time": "2023-04-13T03:53:17.222Z"
    }
   },
   "outputs": [
    {
     "name": "stdout",
     "output_type": "stream",
     "text": [
      "{'C': 10, 'penalty': 'l2'}\n",
      "0.9192262764078368\n",
      "LogisticRegression(C=10)\n"
     ]
    }
   ],
   "source": [
    "print(grid_search.best_params_)\n",
    "print(grid_search.best_score_)\n",
    "print(grid_search.best_estimator_)"
   ]
  },
  {
   "cell_type": "code",
   "execution_count": 29,
   "id": "36f0b0c6",
   "metadata": {
    "ExecuteTime": {
     "start_time": "2023-04-13T03:53:17.225Z"
    }
   },
   "outputs": [
    {
     "name": "stdout",
     "output_type": "stream",
     "text": [
      "0.9205090067757395\n"
     ]
    }
   ],
   "source": [
    "print(grid_search.score(X_test_scaled, y_test))"
   ]
  },
  {
   "cell_type": "code",
   "execution_count": 30,
   "id": "d5b91178",
   "metadata": {
    "ExecuteTime": {
     "start_time": "2023-04-13T03:53:17.228Z"
    }
   },
   "outputs": [
    {
     "name": "stdout",
     "output_type": "stream",
     "text": [
      "[[36467  2556]\n",
      " [  811  2523]]\n"
     ]
    }
   ],
   "source": [
    "from sklearn.metrics import confusion_matrix\n",
    "\n",
    "print(confusion_matrix(grid_search.predict(X_test_scaled), y_test))"
   ]
  },
  {
   "cell_type": "code",
   "execution_count": 31,
   "id": "b6943171",
   "metadata": {
    "ExecuteTime": {
     "start_time": "2023-04-13T03:53:17.233Z"
    }
   },
   "outputs": [
    {
     "name": "stdout",
     "output_type": "stream",
     "text": [
      "              precision    recall  f1-score   support\n",
      "\n",
      "           0       0.98      0.93      0.96     39023\n",
      "           1       0.50      0.76      0.60      3334\n",
      "\n",
      "    accuracy                           0.92     42357\n",
      "   macro avg       0.74      0.85      0.78     42357\n",
      "weighted avg       0.94      0.92      0.93     42357\n",
      "\n"
     ]
    }
   ],
   "source": [
    "from sklearn.metrics import classification_report\n",
    "\n",
    "print(classification_report(grid_search.predict(X_test_scaled), y_test))"
   ]
  },
  {
   "cell_type": "code",
   "execution_count": 32,
   "id": "9a9dbc90",
   "metadata": {
    "ExecuteTime": {
     "start_time": "2023-04-13T03:53:17.239Z"
    }
   },
   "outputs": [
    {
     "data": {
      "text/plain": [
       "Text(0.5, 0, 'False Positive Rate')"
      ]
     },
     "execution_count": 32,
     "metadata": {},
     "output_type": "execute_result"
    },
    {
     "data": {
      "image/png": "[encoded data removed]",
      "text/plain": [
       "<Figure size 600x400 with 1 Axes>"
      ]
     },
     "metadata": {},
     "output_type": "display_data"
    }
   ],
   "source": [
    "# ROC plot\n",
    "from sklearn.metrics import roc_curve, auc\n",
    "\n",
    "false_positive_rate, true_positive_rate, thresholds = roc_curve(y_test, grid_search.predict(X_test_scaled))\n",
    "roc_auc = auc(false_positive_rate, true_positive_rate)\n",
    "\n",
    "fig = plt.figure(figsize=(6,4))\n",
    "plt.title('Receiver Operating Characteristic')\n",
    "plt.plot(false_positive_rate, true_positive_rate, 'b', label='AUC = %0.2f'% roc_auc)\n",
    "plt.legend(loc='lower right')\n",
    "plt.plot([0,1],[0,1],'r--')\n",
    "plt.xlim([-0.1,1.2])\n",
    "plt.ylim([-0.1,1.2])\n",
    "plt.ylabel('True Positive Rate')\n",
    "plt.xlabel('False Positive Rate')"
   ]
  },
  {
   "cell_type": "markdown",
   "id": "a8e0a627",
   "metadata": {
    "collapsed": true
   },
   "source": [
    "### The model performance of the first application\n",
    "- process\n",
    "    - oversampling\n",
    "    - dataset split\n",
    "    - minmax scale\n",
    "    - logistic regression, grid search, k-fold(5)\n",
    "    - evaluation\n",
    "    - Baseline score: **Precision: 0.5, Recall: 0.76, AUC: 0.74**\n",
    "- How to improve\n",
    "    - **There seems no overfitting issues**\n",
    "        - how to avoid overfitting: collect more data\n",
    "            - regularization\n",
    "            - feature deduction\n",
    "            - collect more samples\n",
    "    - **Feature Engineering**\n",
    "        - Other Scaling and Transformation\n",
    "        - Feature selection or creation\n",
    "            - Polynomial / Interactions\n",
    "            - new features\n",
    "        - Transformation\n",
    "            - log, exp, sqrt (if not tree-based model)\n",
    "            - Numeric to Categorical\n",
    "    - **Model, Parameter Tuning**\n",
    "        - KNN\n",
    "        - NB\n",
    "        - SVM\n",
    "        - RF\n",
    "        - NN .. any classification models\n"
   ]
  },
  {
   "cell_type": "markdown",
   "id": "720f38a5",
   "metadata": {},
   "source": [
    "### How to Improve\n",
    "- scale\n",
    "- distribution transformation\n",
    "- apply other models"
   ]
  },
  {
   "cell_type": "markdown",
   "id": "b7e4ee70",
   "metadata": {},
   "source": [
    "### Change Scale to z-score & pipeline"
   ]
  },
  {
   "cell_type": "code",
   "execution_count": 33,
   "id": "b08fb454",
   "metadata": {
    "ExecuteTime": {
     "start_time": "2023-04-13T03:53:17.245Z"
    }
   },
   "outputs": [
    {
     "data": {
      "text/html": [
       "<div>\n",
       "<style scoped>\n",
       "    .dataframe tbody tr th:only-of-type {\n",
       "        vertical-align: middle;\n",
       "    }\n",
       "\n",
       "    .dataframe tbody tr th {\n",
       "        vertical-align: top;\n",
       "    }\n",
       "\n",
       "    .dataframe thead th {\n",
       "        text-align: right;\n",
       "    }\n",
       "</style>\n",
       "<table border=\"1\" class=\"dataframe\">\n",
       "  <thead>\n",
       "    <tr style=\"text-align: right;\">\n",
       "      <th></th>\n",
       "      <th>viewCount</th>\n",
       "      <th>editCount</th>\n",
       "      <th>shareCount</th>\n",
       "      <th>searchCount</th>\n",
       "      <th>add</th>\n",
       "      <th>move</th>\n",
       "      <th>rename</th>\n",
       "      <th>adddir</th>\n",
       "      <th>visdays</th>\n",
       "      <th>saveCount</th>\n",
       "      <th>traffic</th>\n",
       "      <th>group</th>\n",
       "    </tr>\n",
       "    <tr>\n",
       "      <th>iduser</th>\n",
       "      <th></th>\n",
       "      <th></th>\n",
       "      <th></th>\n",
       "      <th></th>\n",
       "      <th></th>\n",
       "      <th></th>\n",
       "      <th></th>\n",
       "      <th></th>\n",
       "      <th></th>\n",
       "      <th></th>\n",
       "      <th></th>\n",
       "      <th></th>\n",
       "    </tr>\n",
       "  </thead>\n",
       "  <tbody>\n",
       "    <tr>\n",
       "      <th>10100018739106</th>\n",
       "      <td>12.0</td>\n",
       "      <td>0.0</td>\n",
       "      <td>0.0</td>\n",
       "      <td>0.0</td>\n",
       "      <td>0.0</td>\n",
       "      <td>0.0</td>\n",
       "      <td>0.0</td>\n",
       "      <td>0.0</td>\n",
       "      <td>6.0</td>\n",
       "      <td>0.0</td>\n",
       "      <td>3504812.0</td>\n",
       "      <td>0</td>\n",
       "    </tr>\n",
       "    <tr>\n",
       "      <th>10100037810674</th>\n",
       "      <td>23.0</td>\n",
       "      <td>0.0</td>\n",
       "      <td>0.0</td>\n",
       "      <td>1.0</td>\n",
       "      <td>13.0</td>\n",
       "      <td>0.0</td>\n",
       "      <td>0.0</td>\n",
       "      <td>0.0</td>\n",
       "      <td>8.0</td>\n",
       "      <td>0.0</td>\n",
       "      <td>17123098.0</td>\n",
       "      <td>0</td>\n",
       "    </tr>\n",
       "    <tr>\n",
       "      <th>10100036273719</th>\n",
       "      <td>4.0</td>\n",
       "      <td>0.0</td>\n",
       "      <td>0.0</td>\n",
       "      <td>0.0</td>\n",
       "      <td>0.0</td>\n",
       "      <td>0.0</td>\n",
       "      <td>0.0</td>\n",
       "      <td>0.0</td>\n",
       "      <td>4.0</td>\n",
       "      <td>0.0</td>\n",
       "      <td>2234363.0</td>\n",
       "      <td>0</td>\n",
       "    </tr>\n",
       "    <tr>\n",
       "      <th>10100027752244</th>\n",
       "      <td>6.0</td>\n",
       "      <td>0.0</td>\n",
       "      <td>1.0</td>\n",
       "      <td>0.0</td>\n",
       "      <td>0.0</td>\n",
       "      <td>0.0</td>\n",
       "      <td>0.0</td>\n",
       "      <td>0.0</td>\n",
       "      <td>5.0</td>\n",
       "      <td>2.0</td>\n",
       "      <td>812475.0</td>\n",
       "      <td>0</td>\n",
       "    </tr>\n",
       "    <tr>\n",
       "      <th>10100006151000</th>\n",
       "      <td>33.0</td>\n",
       "      <td>0.0</td>\n",
       "      <td>0.0</td>\n",
       "      <td>0.0</td>\n",
       "      <td>16.0</td>\n",
       "      <td>0.0</td>\n",
       "      <td>0.0</td>\n",
       "      <td>0.0</td>\n",
       "      <td>18.0</td>\n",
       "      <td>0.0</td>\n",
       "      <td>4307703.0</td>\n",
       "      <td>0</td>\n",
       "    </tr>\n",
       "  </tbody>\n",
       "</table>\n",
       "</div>"
      ],
      "text/plain": [
       "                viewCount  editCount  shareCount  searchCount   add  move  \\\n",
       "iduser                                                                      \n",
       "10100018739106       12.0        0.0         0.0          0.0   0.0   0.0   \n",
       "10100037810674       23.0        0.0         0.0          1.0  13.0   0.0   \n",
       "10100036273719        4.0        0.0         0.0          0.0   0.0   0.0   \n",
       "10100027752244        6.0        0.0         1.0          0.0   0.0   0.0   \n",
       "10100006151000       33.0        0.0         0.0          0.0  16.0   0.0   \n",
       "\n",
       "                rename  adddir  visdays  saveCount     traffic  group  \n",
       "iduser                                                                 \n",
       "10100018739106     0.0     0.0      6.0        0.0   3504812.0      0  \n",
       "10100037810674     0.0     0.0      8.0        0.0  17123098.0      0  \n",
       "10100036273719     0.0     0.0      4.0        0.0   2234363.0      0  \n",
       "10100027752244     0.0     0.0      5.0        2.0    812475.0      0  \n",
       "10100006151000     0.0     0.0     18.0        0.0   4307703.0      0  "
      ]
     },
     "execution_count": 33,
     "metadata": {},
     "output_type": "execute_result"
    }
   ],
   "source": [
    "df5_over.head() # after removes outliers"
   ]
  },
  {
   "cell_type": "code",
   "execution_count": 34,
   "id": "5e807a75",
   "metadata": {
    "ExecuteTime": {
     "start_time": "2023-04-13T03:53:17.255Z"
    }
   },
   "outputs": [
    {
     "data": {
      "text/html": [
       "<div>\n",
       "<style scoped>\n",
       "    .dataframe tbody tr th:only-of-type {\n",
       "        vertical-align: middle;\n",
       "    }\n",
       "\n",
       "    .dataframe tbody tr th {\n",
       "        vertical-align: top;\n",
       "    }\n",
       "\n",
       "    .dataframe thead th {\n",
       "        text-align: right;\n",
       "    }\n",
       "</style>\n",
       "<table border=\"1\" class=\"dataframe\">\n",
       "  <thead>\n",
       "    <tr style=\"text-align: right;\">\n",
       "      <th></th>\n",
       "      <th>viewCount</th>\n",
       "      <th>editCount</th>\n",
       "      <th>shareCount</th>\n",
       "      <th>searchCount</th>\n",
       "      <th>add</th>\n",
       "      <th>move</th>\n",
       "      <th>rename</th>\n",
       "      <th>adddir</th>\n",
       "      <th>visdays</th>\n",
       "      <th>saveCount</th>\n",
       "      <th>traffic</th>\n",
       "    </tr>\n",
       "    <tr>\n",
       "      <th>iduser</th>\n",
       "      <th></th>\n",
       "      <th></th>\n",
       "      <th></th>\n",
       "      <th></th>\n",
       "      <th></th>\n",
       "      <th></th>\n",
       "      <th></th>\n",
       "      <th></th>\n",
       "      <th></th>\n",
       "      <th></th>\n",
       "      <th></th>\n",
       "    </tr>\n",
       "  </thead>\n",
       "  <tbody>\n",
       "    <tr>\n",
       "      <th>10100008873531</th>\n",
       "      <td>17.0</td>\n",
       "      <td>0.0</td>\n",
       "      <td>0.0</td>\n",
       "      <td>5.0</td>\n",
       "      <td>0.0</td>\n",
       "      <td>0.0</td>\n",
       "      <td>0.0</td>\n",
       "      <td>0.0</td>\n",
       "      <td>15.0</td>\n",
       "      <td>0.0</td>\n",
       "      <td>57282542.0</td>\n",
       "    </tr>\n",
       "    <tr>\n",
       "      <th>10100002534050</th>\n",
       "      <td>28.0</td>\n",
       "      <td>0.0</td>\n",
       "      <td>0.0</td>\n",
       "      <td>16.0</td>\n",
       "      <td>0.0</td>\n",
       "      <td>0.0</td>\n",
       "      <td>0.0</td>\n",
       "      <td>0.0</td>\n",
       "      <td>14.0</td>\n",
       "      <td>0.0</td>\n",
       "      <td>24223450.0</td>\n",
       "    </tr>\n",
       "    <tr>\n",
       "      <th>10100036517560</th>\n",
       "      <td>36.0</td>\n",
       "      <td>0.0</td>\n",
       "      <td>0.0</td>\n",
       "      <td>0.0</td>\n",
       "      <td>80.0</td>\n",
       "      <td>0.0</td>\n",
       "      <td>0.0</td>\n",
       "      <td>0.0</td>\n",
       "      <td>10.0</td>\n",
       "      <td>2.0</td>\n",
       "      <td>45424551.0</td>\n",
       "    </tr>\n",
       "    <tr>\n",
       "      <th>10100013746186</th>\n",
       "      <td>4.0</td>\n",
       "      <td>0.0</td>\n",
       "      <td>0.0</td>\n",
       "      <td>0.0</td>\n",
       "      <td>0.0</td>\n",
       "      <td>0.0</td>\n",
       "      <td>0.0</td>\n",
       "      <td>0.0</td>\n",
       "      <td>5.0</td>\n",
       "      <td>1.0</td>\n",
       "      <td>50312.0</td>\n",
       "    </tr>\n",
       "    <tr>\n",
       "      <th>10100000598189</th>\n",
       "      <td>8.0</td>\n",
       "      <td>0.0</td>\n",
       "      <td>0.0</td>\n",
       "      <td>0.0</td>\n",
       "      <td>0.0</td>\n",
       "      <td>0.0</td>\n",
       "      <td>0.0</td>\n",
       "      <td>0.0</td>\n",
       "      <td>9.0</td>\n",
       "      <td>0.0</td>\n",
       "      <td>0.0</td>\n",
       "    </tr>\n",
       "  </tbody>\n",
       "</table>\n",
       "</div>"
      ],
      "text/plain": [
       "                viewCount  editCount  shareCount  searchCount   add  move  \\\n",
       "iduser                                                                      \n",
       "10100008873531       17.0        0.0         0.0          5.0   0.0   0.0   \n",
       "10100002534050       28.0        0.0         0.0         16.0   0.0   0.0   \n",
       "10100036517560       36.0        0.0         0.0          0.0  80.0   0.0   \n",
       "10100013746186        4.0        0.0         0.0          0.0   0.0   0.0   \n",
       "10100000598189        8.0        0.0         0.0          0.0   0.0   0.0   \n",
       "\n",
       "                rename  adddir  visdays  saveCount     traffic  \n",
       "iduser                                                          \n",
       "10100008873531     0.0     0.0     15.0        0.0  57282542.0  \n",
       "10100002534050     0.0     0.0     14.0        0.0  24223450.0  \n",
       "10100036517560     0.0     0.0     10.0        2.0  45424551.0  \n",
       "10100013746186     0.0     0.0      5.0        1.0     50312.0  \n",
       "10100000598189     0.0     0.0      9.0        0.0         0.0  "
      ]
     },
     "execution_count": 34,
     "metadata": {},
     "output_type": "execute_result"
    }
   ],
   "source": [
    "X_train.head()"
   ]
  },
  {
   "cell_type": "code",
   "execution_count": 35,
   "id": "041b73db",
   "metadata": {
    "ExecuteTime": {
     "start_time": "2023-04-13T03:53:17.262Z"
    }
   },
   "outputs": [
    {
     "data": {
      "text/plain": [
       "iduser\n",
       "10100008873531    1\n",
       "10100002534050    1\n",
       "10100036517560    0\n",
       "10100013746186    0\n",
       "10100000598189    0\n",
       "Name: group, dtype: int64"
      ]
     },
     "execution_count": 35,
     "metadata": {},
     "output_type": "execute_result"
    }
   ],
   "source": [
    "y_train.head()"
   ]
  },
  {
   "cell_type": "code",
   "execution_count": 36,
   "id": "bdd3be92",
   "metadata": {
    "ExecuteTime": {
     "start_time": "2023-04-13T03:53:17.269Z"
    }
   },
   "outputs": [],
   "source": [
    "from sklearn.pipeline import Pipeline\n",
    "\n",
    "def pipeline_logit(X_train, y_train):\n",
    "\n",
    "    scaler = StandardScaler()\n",
    "    logit_model = LogisticRegression()\n",
    "\n",
    "    pipe = Pipeline([('scaler', scaler), ('model', logit_model)])\n",
    "\n",
    "    param_grid = [{'model__C': [0.001, 0.01, 0.1, 1, 10, 100],\n",
    "                  'model__penalty': ['l1', 'l2']}]\n",
    "\n",
    "    grid_search = GridSearchCV(pipe, param_grid, cv=5)\n",
    "    grid_search.fit(X_train, y_train)\n",
    "    \n",
    "    return grid_search"
   ]
  },
  {
   "cell_type": "code",
   "execution_count": 37,
   "id": "753071d4",
   "metadata": {
    "ExecuteTime": {
     "start_time": "2023-04-13T03:53:17.272Z"
    }
   },
   "outputs": [],
   "source": [
    "grid_search = pipeline_logit(X_train, y_train)"
   ]
  },
  {
   "cell_type": "code",
   "execution_count": 38,
   "id": "009a2f52",
   "metadata": {
    "ExecuteTime": {
     "start_time": "2023-04-13T03:53:17.277Z"
    }
   },
   "outputs": [
    {
     "name": "stdout",
     "output_type": "stream",
     "text": [
      "best score:  0.9193836674932641\n",
      "best score:  {'model__C': 1, 'model__penalty': 'l2'}\n"
     ]
    }
   ],
   "source": [
    "print(\"best score: \", grid_search.best_score_)\n",
    "print(\"best score: \", grid_search.best_params_)"
   ]
  },
  {
   "cell_type": "code",
   "execution_count": 39,
   "id": "d458b833",
   "metadata": {
    "ExecuteTime": {
     "start_time": "2023-04-13T03:53:17.283Z"
    }
   },
   "outputs": [
    {
     "name": "stdout",
     "output_type": "stream",
     "text": [
      "              precision    recall  f1-score   support\n",
      "\n",
      "           0       0.98      0.94      0.96     39002\n",
      "           1       0.50      0.76      0.60      3355\n",
      "\n",
      "    accuracy                           0.92     42357\n",
      "   macro avg       0.74      0.85      0.78     42357\n",
      "weighted avg       0.94      0.92      0.93     42357\n",
      "\n"
     ]
    }
   ],
   "source": [
    "print(classification_report(grid_search.predict(X_test), y_test))"
   ]
  },
  {
   "cell_type": "code",
   "execution_count": 40,
   "id": "20648c5c",
   "metadata": {
    "ExecuteTime": {
     "start_time": "2023-04-13T03:53:17.291Z"
    }
   },
   "outputs": [
    {
     "name": "stdout",
     "output_type": "stream",
     "text": [
      "0.7396771284111806\n"
     ]
    }
   ],
   "source": [
    "fpr, tpr, thresholds = roc_curve(y_test, grid_search.predict(X_test))\n",
    "roc_auc = auc(fpr, tpr)\n",
    "\n",
    "print(roc_auc)"
   ]
  },
  {
   "cell_type": "markdown",
   "id": "7f21f820",
   "metadata": {},
   "source": [
    "### Transfrom Distribution"
   ]
  },
  {
   "cell_type": "code",
   "execution_count": 41,
   "id": "35fcb385",
   "metadata": {
    "ExecuteTime": {
     "start_time": "2023-04-13T03:53:17.296Z"
    }
   },
   "outputs": [
    {
     "data": {
      "text/html": [
       "<div>\n",
       "<style scoped>\n",
       "    .dataframe tbody tr th:only-of-type {\n",
       "        vertical-align: middle;\n",
       "    }\n",
       "\n",
       "    .dataframe tbody tr th {\n",
       "        vertical-align: top;\n",
       "    }\n",
       "\n",
       "    .dataframe thead th {\n",
       "        text-align: right;\n",
       "    }\n",
       "</style>\n",
       "<table border=\"1\" class=\"dataframe\">\n",
       "  <thead>\n",
       "    <tr style=\"text-align: right;\">\n",
       "      <th></th>\n",
       "      <th>viewCount</th>\n",
       "      <th>editCount</th>\n",
       "      <th>shareCount</th>\n",
       "      <th>searchCount</th>\n",
       "      <th>add</th>\n",
       "      <th>move</th>\n",
       "      <th>rename</th>\n",
       "      <th>adddir</th>\n",
       "      <th>visdays</th>\n",
       "      <th>saveCount</th>\n",
       "      <th>traffic</th>\n",
       "      <th>group</th>\n",
       "    </tr>\n",
       "  </thead>\n",
       "  <tbody>\n",
       "    <tr>\n",
       "      <th>count</th>\n",
       "      <td>169428.000000</td>\n",
       "      <td>169428.000000</td>\n",
       "      <td>169428.000000</td>\n",
       "      <td>169428.000000</td>\n",
       "      <td>169428.00000</td>\n",
       "      <td>169428.000000</td>\n",
       "      <td>169428.00000</td>\n",
       "      <td>169428.000000</td>\n",
       "      <td>169428.000000</td>\n",
       "      <td>169428.000000</td>\n",
       "      <td>1.694280e+05</td>\n",
       "      <td>169428.000000</td>\n",
       "    </tr>\n",
       "    <tr>\n",
       "      <th>mean</th>\n",
       "      <td>20.564157</td>\n",
       "      <td>0.851306</td>\n",
       "      <td>0.038506</td>\n",
       "      <td>0.612962</td>\n",
       "      <td>8.43484</td>\n",
       "      <td>0.007744</td>\n",
       "      <td>0.02535</td>\n",
       "      <td>0.078458</td>\n",
       "      <td>10.205238</td>\n",
       "      <td>1.455061</td>\n",
       "      <td>1.675352e+07</td>\n",
       "      <td>0.120712</td>\n",
       "    </tr>\n",
       "    <tr>\n",
       "      <th>...</th>\n",
       "      <td>...</td>\n",
       "      <td>...</td>\n",
       "      <td>...</td>\n",
       "      <td>...</td>\n",
       "      <td>...</td>\n",
       "      <td>...</td>\n",
       "      <td>...</td>\n",
       "      <td>...</td>\n",
       "      <td>...</td>\n",
       "      <td>...</td>\n",
       "      <td>...</td>\n",
       "      <td>...</td>\n",
       "    </tr>\n",
       "    <tr>\n",
       "      <th>75%</th>\n",
       "      <td>27.000000</td>\n",
       "      <td>0.000000</td>\n",
       "      <td>0.000000</td>\n",
       "      <td>0.000000</td>\n",
       "      <td>13.00000</td>\n",
       "      <td>0.000000</td>\n",
       "      <td>0.00000</td>\n",
       "      <td>0.000000</td>\n",
       "      <td>14.000000</td>\n",
       "      <td>0.000000</td>\n",
       "      <td>1.621829e+07</td>\n",
       "      <td>0.000000</td>\n",
       "    </tr>\n",
       "    <tr>\n",
       "      <th>max</th>\n",
       "      <td>135.000000</td>\n",
       "      <td>60.000000</td>\n",
       "      <td>1.000000</td>\n",
       "      <td>27.000000</td>\n",
       "      <td>336.00000</td>\n",
       "      <td>2.000000</td>\n",
       "      <td>115.00000</td>\n",
       "      <td>6.000000</td>\n",
       "      <td>30.000000</td>\n",
       "      <td>52.000000</td>\n",
       "      <td>4.263385e+08</td>\n",
       "      <td>1.000000</td>\n",
       "    </tr>\n",
       "  </tbody>\n",
       "</table>\n",
       "<p>8 rows × 12 columns</p>\n",
       "</div>"
      ],
      "text/plain": [
       "           viewCount      editCount     shareCount    searchCount  \\\n",
       "count  169428.000000  169428.000000  169428.000000  169428.000000   \n",
       "mean       20.564157       0.851306       0.038506       0.612962   \n",
       "...              ...            ...            ...            ...   \n",
       "75%        27.000000       0.000000       0.000000       0.000000   \n",
       "max       135.000000      60.000000       1.000000      27.000000   \n",
       "\n",
       "                add           move        rename         adddir  \\\n",
       "count  169428.00000  169428.000000  169428.00000  169428.000000   \n",
       "mean        8.43484       0.007744       0.02535       0.078458   \n",
       "...             ...            ...           ...            ...   \n",
       "75%        13.00000       0.000000       0.00000       0.000000   \n",
       "max       336.00000       2.000000     115.00000       6.000000   \n",
       "\n",
       "             visdays      saveCount       traffic          group  \n",
       "count  169428.000000  169428.000000  1.694280e+05  169428.000000  \n",
       "mean       10.205238       1.455061  1.675352e+07       0.120712  \n",
       "...              ...            ...           ...            ...  \n",
       "75%        14.000000       0.000000  1.621829e+07       0.000000  \n",
       "max        30.000000      52.000000  4.263385e+08       1.000000  \n",
       "\n",
       "[8 rows x 12 columns]"
      ]
     },
     "execution_count": 41,
     "metadata": {},
     "output_type": "execute_result"
    }
   ],
   "source": [
    "df5_over.describe()"
   ]
  },
  {
   "cell_type": "code",
   "execution_count": 42,
   "id": "d3bdac9d",
   "metadata": {
    "ExecuteTime": {
     "start_time": "2023-04-13T03:53:17.303Z"
    }
   },
   "outputs": [
    {
     "data": {
      "image/png": "[encoded data removed]",
      "text/plain": [
       "<Figure size 1800x1400 with 12 Axes>"
      ]
     },
     "metadata": {},
     "output_type": "display_data"
    }
   ],
   "source": [
    "df5_over.hist(bins=15, color='darkblue', figsize=(18,14), grid=False);"
   ]
  },
  {
   "cell_type": "code",
   "execution_count": 43,
   "id": "22a09bea",
   "metadata": {
    "ExecuteTime": {
     "start_time": "2023-04-13T03:53:17.306Z"
    }
   },
   "outputs": [],
   "source": [
    "df5_over_log = df5_over.loc[:,:'traffic'].apply(lambda x: np.log(x + 1)).join(df5_over['group'])"
   ]
  },
  {
   "cell_type": "code",
   "execution_count": 44,
   "id": "089e5e06",
   "metadata": {
    "ExecuteTime": {
     "start_time": "2023-04-13T03:53:17.312Z"
    }
   },
   "outputs": [
    {
     "data": {
      "text/html": [
       "<div>\n",
       "<style scoped>\n",
       "    .dataframe tbody tr th:only-of-type {\n",
       "        vertical-align: middle;\n",
       "    }\n",
       "\n",
       "    .dataframe tbody tr th {\n",
       "        vertical-align: top;\n",
       "    }\n",
       "\n",
       "    .dataframe thead th {\n",
       "        text-align: right;\n",
       "    }\n",
       "</style>\n",
       "<table border=\"1\" class=\"dataframe\">\n",
       "  <thead>\n",
       "    <tr style=\"text-align: right;\">\n",
       "      <th></th>\n",
       "      <th>viewCount</th>\n",
       "      <th>editCount</th>\n",
       "      <th>shareCount</th>\n",
       "      <th>searchCount</th>\n",
       "      <th>add</th>\n",
       "      <th>move</th>\n",
       "      <th>rename</th>\n",
       "      <th>adddir</th>\n",
       "      <th>visdays</th>\n",
       "      <th>saveCount</th>\n",
       "      <th>traffic</th>\n",
       "      <th>group</th>\n",
       "    </tr>\n",
       "  </thead>\n",
       "  <tbody>\n",
       "    <tr>\n",
       "      <th>count</th>\n",
       "      <td>230784.000000</td>\n",
       "      <td>230784.000000</td>\n",
       "      <td>230784.000000</td>\n",
       "      <td>230784.000000</td>\n",
       "      <td>230784.000000</td>\n",
       "      <td>230784.000000</td>\n",
       "      <td>230784.000000</td>\n",
       "      <td>230784.000000</td>\n",
       "      <td>230784.000000</td>\n",
       "      <td>230784.000000</td>\n",
       "      <td>230784.000000</td>\n",
       "      <td>230784.000000</td>\n",
       "    </tr>\n",
       "    <tr>\n",
       "      <th>mean</th>\n",
       "      <td>2.649576</td>\n",
       "      <td>0.332377</td>\n",
       "      <td>0.035921</td>\n",
       "      <td>0.360784</td>\n",
       "      <td>1.052926</td>\n",
       "      <td>0.007913</td>\n",
       "      <td>0.017363</td>\n",
       "      <td>0.054398</td>\n",
       "      <td>2.394406</td>\n",
       "      <td>0.543058</td>\n",
       "      <td>13.968064</td>\n",
       "      <td>0.354479</td>\n",
       "    </tr>\n",
       "    <tr>\n",
       "      <th>...</th>\n",
       "      <td>...</td>\n",
       "      <td>...</td>\n",
       "      <td>...</td>\n",
       "      <td>...</td>\n",
       "      <td>...</td>\n",
       "      <td>...</td>\n",
       "      <td>...</td>\n",
       "      <td>...</td>\n",
       "      <td>...</td>\n",
       "      <td>...</td>\n",
       "      <td>...</td>\n",
       "      <td>...</td>\n",
       "    </tr>\n",
       "    <tr>\n",
       "      <th>75%</th>\n",
       "      <td>3.332205</td>\n",
       "      <td>0.000000</td>\n",
       "      <td>0.000000</td>\n",
       "      <td>0.000000</td>\n",
       "      <td>2.639057</td>\n",
       "      <td>0.000000</td>\n",
       "      <td>0.000000</td>\n",
       "      <td>0.000000</td>\n",
       "      <td>2.944439</td>\n",
       "      <td>0.693147</td>\n",
       "      <td>16.605978</td>\n",
       "      <td>1.000000</td>\n",
       "    </tr>\n",
       "    <tr>\n",
       "      <th>max</th>\n",
       "      <td>4.912655</td>\n",
       "      <td>4.110874</td>\n",
       "      <td>0.693147</td>\n",
       "      <td>3.332205</td>\n",
       "      <td>5.820083</td>\n",
       "      <td>1.098612</td>\n",
       "      <td>4.753590</td>\n",
       "      <td>1.945910</td>\n",
       "      <td>3.433987</td>\n",
       "      <td>3.970292</td>\n",
       "      <td>19.870744</td>\n",
       "      <td>1.000000</td>\n",
       "    </tr>\n",
       "  </tbody>\n",
       "</table>\n",
       "<p>8 rows × 12 columns</p>\n",
       "</div>"
      ],
      "text/plain": [
       "           viewCount      editCount     shareCount    searchCount  \\\n",
       "count  230784.000000  230784.000000  230784.000000  230784.000000   \n",
       "mean        2.649576       0.332377       0.035921       0.360784   \n",
       "...              ...            ...            ...            ...   \n",
       "75%         3.332205       0.000000       0.000000       0.000000   \n",
       "max         4.912655       4.110874       0.693147       3.332205   \n",
       "\n",
       "                 add           move         rename         adddir  \\\n",
       "count  230784.000000  230784.000000  230784.000000  230784.000000   \n",
       "mean        1.052926       0.007913       0.017363       0.054398   \n",
       "...              ...            ...            ...            ...   \n",
       "75%         2.639057       0.000000       0.000000       0.000000   \n",
       "max         5.820083       1.098612       4.753590       1.945910   \n",
       "\n",
       "             visdays      saveCount        traffic          group  \n",
       "count  230784.000000  230784.000000  230784.000000  230784.000000  \n",
       "mean        2.394406       0.543058      13.968064       0.354479  \n",
       "...              ...            ...            ...            ...  \n",
       "75%         2.944439       0.693147      16.605978       1.000000  \n",
       "max         3.433987       3.970292      19.870744       1.000000  \n",
       "\n",
       "[8 rows x 12 columns]"
      ]
     },
     "execution_count": 44,
     "metadata": {},
     "output_type": "execute_result"
    }
   ],
   "source": [
    "df5_over_log.describe()"
   ]
  },
  {
   "cell_type": "code",
   "execution_count": 45,
   "id": "756f3de5",
   "metadata": {
    "ExecuteTime": {
     "start_time": "2023-04-13T03:53:17.319Z"
    }
   },
   "outputs": [
    {
     "data": {
      "image/png": "[encoded data removed]",
      "text/plain": [
       "<Figure size 1800x1400 with 12 Axes>"
      ]
     },
     "metadata": {},
     "output_type": "display_data"
    }
   ],
   "source": [
    "df5_over_log.hist(bins=15, color='brown', figsize=(18,14), grid=False);"
   ]
  },
  {
   "cell_type": "code",
   "execution_count": 46,
   "id": "26387fe3",
   "metadata": {
    "ExecuteTime": {
     "start_time": "2023-04-13T03:53:17.323Z"
    }
   },
   "outputs": [],
   "source": [
    "X = df5_over_log.drop(\"group\", axis=1)\n",
    "y = df5_over_log.group\n",
    "\n",
    "X_train, X_test, y_train, y_test = train_test_split(X, y, random_state=42)"
   ]
  },
  {
   "cell_type": "code",
   "execution_count": 47,
   "id": "afa09179",
   "metadata": {
    "ExecuteTime": {
     "start_time": "2023-04-13T03:53:17.328Z"
    }
   },
   "outputs": [],
   "source": [
    "grid_search = pipeline_logit(X_train, y_train)"
   ]
  },
  {
   "cell_type": "code",
   "execution_count": 48,
   "id": "2c30208c",
   "metadata": {
    "ExecuteTime": {
     "start_time": "2023-04-13T03:53:17.332Z"
    }
   },
   "outputs": [],
   "source": [
    "def evaluation(grid, X_test, y_test):\n",
    "    \n",
    "    print(classification_report(grid.predict(X_test), y_test))\n",
    "\n",
    "    print(\"best score: \", grid.best_score_)\n",
    "    print(\"best params: \", grid.best_params_)\n",
    "\n",
    "    fpr, tpr, thresholds = roc_curve(y_test, grid.predict(X_test))\n",
    "    roc_auc = auc(fpr, tpr)\n",
    "    \n",
    "    return roc_auc"
   ]
  },
  {
   "cell_type": "code",
   "execution_count": 49,
   "id": "55e2d8ad",
   "metadata": {
    "ExecuteTime": {
     "start_time": "2023-04-13T03:53:17.338Z"
    }
   },
   "outputs": [
    {
     "name": "stdout",
     "output_type": "stream",
     "text": [
      "              precision    recall  f1-score   support\n",
      "\n",
      "           0       0.95      0.88      0.91     39709\n",
      "           1       0.77      0.89      0.83     17987\n",
      "\n",
      "    accuracy                           0.88     57696\n",
      "   macro avg       0.86      0.89      0.87     57696\n",
      "weighted avg       0.89      0.88      0.89     57696\n",
      "\n",
      "best score:  0.8849486878485056\n",
      "best params:  {'model__C': 1, 'model__penalty': 'l2'}\n"
     ]
    },
    {
     "data": {
      "text/plain": [
       "0.8604390457887563"
      ]
     },
     "execution_count": 49,
     "metadata": {},
     "output_type": "execute_result"
    }
   ],
   "source": [
    "evaluation(grid_search, X_test, y_test)"
   ]
  },
  {
   "cell_type": "code",
   "execution_count": 50,
   "id": "3d999d47",
   "metadata": {
    "ExecuteTime": {
     "start_time": "2023-04-13T03:53:17.343Z"
    }
   },
   "outputs": [
    {
     "data": {
      "text/plain": [
       "Text(0.5, 0, 'False Positive Rate')"
      ]
     },
     "execution_count": 50,
     "metadata": {},
     "output_type": "execute_result"
    },
    {
     "data": {
      "image/png": "[encoded data removed]",
      "text/plain": [
       "<Figure size 600x400 with 1 Axes>"
      ]
     },
     "metadata": {},
     "output_type": "display_data"
    }
   ],
   "source": [
    "# ROC plot\n",
    "false_positive_rate, true_positive_rate, thresholds = roc_curve(y_test, grid_search.predict(X_test))\n",
    "roc_auc = auc(false_positive_rate, true_positive_rate)\n",
    "\n",
    "fig = plt.figure(figsize=(6,4))\n",
    "plt.title('Receiver Operating Characteristic')\n",
    "plt.plot(false_positive_rate, true_positive_rate, 'b', label='AUC = %0.2f'% roc_auc)\n",
    "plt.legend(loc='lower right')\n",
    "plt.plot([0,1],[0,1],'r--')\n",
    "plt.xlim([-0.1,1.2])\n",
    "plt.ylim([-0.1,1.2])\n",
    "plt.ylabel('True Positive Rate')\n",
    "plt.xlabel('False Positive Rate')"
   ]
  },
  {
   "cell_type": "markdown",
   "id": "a3439740",
   "metadata": {},
   "source": [
    "- The current score: **Precision: 0.77, Recall: 0.88, AUC: 0.86**"
   ]
  },
  {
   "cell_type": "markdown",
   "id": "549cd07f",
   "metadata": {},
   "source": [
    "### [Feature Selection](https://machinelearningmastery.com/feature-selection-machine-learning-python/)\n",
    " - Efficiency\n",
    " - [Multicollinearity](https://ko.wikipedia.org/wiki/%EB%8B%A4%EC%A4%91%EA%B3%B5%EC%84%A0%EC%84%B1)\n",
    " - How to select\n",
    "    - Univariate Selection: T-test, ANOVA, Coefficient \n",
    "    - Feature Importance (Tree-based model)\n",
    "    - RFE"
   ]
  },
  {
   "cell_type": "code",
   "execution_count": 51,
   "id": "d15bcb21",
   "metadata": {
    "ExecuteTime": {
     "start_time": "2023-04-13T03:53:17.347Z"
    }
   },
   "outputs": [
    {
     "name": "stdout",
     "output_type": "stream",
     "text": [
      "11\n",
      "11\n"
     ]
    }
   ],
   "source": [
    "print(len(X_train.columns))\n",
    "print(len(X_test.columns))"
   ]
  },
  {
   "cell_type": "markdown",
   "id": "322970f4",
   "metadata": {},
   "source": [
    "### Univariate Selection\n",
    "- [F value](http://scikit-learn.org/stable/modules/classes.html#module-sklearn.feature_selection)\n",
    "- http://scikit-learn.org/stable/modules/generated/sklearn.feature_selection.SelectKBest.html#sklearn.feature_selection.SelectKBest\n",
    "- 그룹내 분산이 작고, 그룹간 분산이 클 경우 F value가 커짐 (F value가 크다는 의미는 그룹간 통계적 차이가 크다는 것을 의미)"
   ]
  },
  {
   "cell_type": "code",
   "execution_count": 52,
   "id": "20766c2a",
   "metadata": {
    "ExecuteTime": {
     "start_time": "2023-04-13T03:53:17.353Z"
    }
   },
   "outputs": [],
   "source": [
    "from sklearn.feature_selection import SelectKBest, f_classif\n",
    "\n",
    "def pipeline_logit_kbest(X_train, y_train):\n",
    "\n",
    "    select = SelectKBest(score_func=f_classif) # if regression problem, score_func=f_regression\n",
    "\n",
    "    scaler = StandardScaler()\n",
    "    logit_model = LogisticRegression()\n",
    "\n",
    "    pipe = Pipeline([('scaler', scaler), ('feature_selection', select), ('model', logit_model)])\n",
    "\n",
    "    param_grid = [{'feature_selection__k': [3,5,7],\n",
    "                  'model__C': [0.001, 0.01, 0.1, 1, 10, 100],\n",
    "                  'model__penalty': ['l1', 'l2']\n",
    "                  }]\n",
    "\n",
    "    grid_search = GridSearchCV(pipe, param_grid, cv=5)\n",
    "    grid_search.fit(X_train, y_train)\n",
    "    \n",
    "    return grid_search"
   ]
  },
  {
   "cell_type": "code",
   "execution_count": 53,
   "id": "cf49599e",
   "metadata": {
    "ExecuteTime": {
     "start_time": "2023-04-13T03:53:17.356Z"
    }
   },
   "outputs": [],
   "source": [
    "grid_search_kbest = pipeline_logit_kbest(X_train, y_train)"
   ]
  },
  {
   "cell_type": "code",
   "execution_count": 54,
   "id": "6d1ed952",
   "metadata": {
    "ExecuteTime": {
     "start_time": "2023-04-13T03:53:17.360Z"
    },
    "scrolled": true
   },
   "outputs": [
    {
     "name": "stdout",
     "output_type": "stream",
     "text": [
      "              precision    recall  f1-score   support\n",
      "\n",
      "           0       0.93      0.84      0.88     41199\n",
      "           1       0.67      0.84      0.75     16497\n",
      "\n",
      "    accuracy                           0.84     57696\n",
      "   macro avg       0.80      0.84      0.81     57696\n",
      "weighted avg       0.86      0.84      0.84     57696\n",
      "\n",
      "best score:  0.8405204374945207\n",
      "best params:  {'feature_selection__k': 7, 'model__C': 0.1, 'model__penalty': 'l2'}\n"
     ]
    },
    {
     "data": {
      "text/plain": [
       "0.8004902877175912"
      ]
     },
     "execution_count": 54,
     "metadata": {},
     "output_type": "execute_result"
    }
   ],
   "source": [
    "evaluation(grid_search_kbest, X_test, y_test)"
   ]
  },
  {
   "cell_type": "code",
   "execution_count": 55,
   "id": "caa8aef3",
   "metadata": {
    "ExecuteTime": {
     "start_time": "2023-04-13T03:53:17.363Z"
    }
   },
   "outputs": [
    {
     "name": "stdout",
     "output_type": "stream",
     "text": [
      "['editCount', 'shareCount', 'searchCount', 'rename', 'visdays', 'saveCount', 'traffic']\n"
     ]
    }
   ],
   "source": [
    "mask = grid_search_kbest.best_estimator_.named_steps['feature_selection'].get_support()\n",
    "features_list = list(X_train.columns.values)\n",
    "\n",
    "selected_features = []\n",
    "for bool, features in zip(mask, features_list):\n",
    "    if bool:\n",
    "        selected_features.append(features)\n",
    "        \n",
    "print(selected_features)        "
   ]
  },
  {
   "cell_type": "markdown",
   "id": "2ae88bc1",
   "metadata": {},
   "source": [
    "### Feature Importance of ExtraTreesClassifier"
   ]
  },
  {
   "cell_type": "code",
   "execution_count": 56,
   "id": "c160c153",
   "metadata": {
    "ExecuteTime": {
     "start_time": "2023-04-13T03:53:17.367Z"
    }
   },
   "outputs": [],
   "source": [
    "from sklearn.ensemble import ExtraTreesClassifier\n",
    "\n",
    "def pipeline_tree_kbest(X_train, y_train):\n",
    "\n",
    "    select = SelectKBest() # if regression problem, score_func=f_regression\n",
    "\n",
    "#    scaler = StandardScaler()\n",
    "    extra_tree_model = ExtraTreesClassifier()\n",
    "\n",
    "    pipe = Pipeline([('feature_selection', select), ('model', extra_tree_model)])\n",
    "\n",
    "    param_grid = [{'feature_selection__k': [5,7],\n",
    "                   'model__max_depth': [4, 6], # max_depth: The maximum depth of the tree.\n",
    "                   'model__n_estimators': [10, 50], # n_estimators: The number of trees in the forest.\n",
    "                   'model__min_samples_split': [50, 100]}]\n",
    "\n",
    "    grid_search = GridSearchCV(pipe, param_grid, cv=3)\n",
    "    grid_search.fit(X_train, y_train)\n",
    "    \n",
    "    return grid_search"
   ]
  },
  {
   "cell_type": "code",
   "execution_count": 57,
   "id": "f60ce95b",
   "metadata": {
    "ExecuteTime": {
     "start_time": "2023-04-13T03:53:17.372Z"
    }
   },
   "outputs": [],
   "source": [
    "grid_search_tree = pipeline_tree_kbest(X_train, y_train)"
   ]
  },
  {
   "cell_type": "code",
   "execution_count": 58,
   "id": "2313804c",
   "metadata": {
    "ExecuteTime": {
     "start_time": "2023-04-13T03:53:17.377Z"
    }
   },
   "outputs": [
    {
     "name": "stdout",
     "output_type": "stream",
     "text": [
      "              precision    recall  f1-score   support\n",
      "\n",
      "           0       0.93      0.84      0.88     41106\n",
      "           1       0.68      0.84      0.75     16590\n",
      "\n",
      "    accuracy                           0.84     57696\n",
      "   macro avg       0.80      0.84      0.82     57696\n",
      "weighted avg       0.86      0.84      0.84     57696\n",
      "\n",
      "best score:  0.8458009798484009\n",
      "best params:  {'feature_selection__k': 5, 'model__max_depth': 6, 'model__min_samples_split': 50, 'model__n_estimators': 50}\n"
     ]
    },
    {
     "data": {
      "text/plain": [
       "0.803906690405086"
      ]
     },
     "execution_count": 58,
     "metadata": {},
     "output_type": "execute_result"
    }
   ],
   "source": [
    "evaluation(grid_search_tree, X_test, y_test)"
   ]
  },
  {
   "cell_type": "code",
   "execution_count": 59,
   "id": "07e17cd6",
   "metadata": {
    "ExecuteTime": {
     "start_time": "2023-04-13T03:53:17.381Z"
    }
   },
   "outputs": [
    {
     "data": {
      "image/png": "[encoded data removed]",
      "text/plain": [
       "<Figure size 640x440 with 1 Axes>"
      ]
     },
     "metadata": {},
     "output_type": "display_data"
    }
   ],
   "source": [
    "mask = grid_search_tree.best_estimator_.named_steps['feature_selection'].get_support()\n",
    "feature_importance = grid_search_tree.best_estimator_.named_steps['model'].feature_importances_\n",
    "\n",
    "features_list = list(X_train.columns.values)\n",
    "\n",
    "selected_features = []\n",
    "for bool, features in zip(mask, features_list):\n",
    "    if bool:\n",
    "        selected_features.append(features)\n",
    "\n",
    "# create a df        \n",
    "feature_importance_pd = pd.DataFrame(list(zip(selected_features, feature_importance)),\\\n",
    "                                    columns=['features', 'importance'])\\\n",
    "                          .set_index(\"features\").sort_values(\"importance\")\n",
    "\n",
    "# visiual\n",
    "feature_importance_pd.plot(kind='barh', color='darkblue')\n",
    "\n",
    "plt.title(\"Feature Importance\")\n",
    "plt.grid(color='lightgrey', alpha=0.5, linestyle='--')\n",
    "plt.tight_layout()"
   ]
  },
  {
   "cell_type": "markdown",
   "id": "8ac76258",
   "metadata": {},
   "source": [
    "**Q)  RFE (recursive feature elimination)**\n",
    "- Backward 방식중 하나로 모든 변수를 다 포함시키고 반복해서 학습을 하면서 중요하지 않은 변수를 하나씩 제거하는 방식\n",
    "    - [API DOC](http://scikit-learn.org/stable/modules/generated/sklearn.feature_selection.RFE.html#sklearn.feature_selection.RFE)\n",
    "- 위 방식을 이용해서 원하는 모델을 이용해 Feature Selection(elimination)을 해보세요. "
   ]
  },
  {
   "cell_type": "code",
   "execution_count": 60,
   "id": "da989441",
   "metadata": {
    "ExecuteTime": {
     "start_time": "2023-04-13T03:53:17.389Z"
    }
   },
   "outputs": [
    {
     "name": "stdout",
     "output_type": "stream",
     "text": [
      "['viewCount', 'editCount', 'shareCount', 'searchCount', 'add', 'move', 'rename', 'adddir', 'visdays', 'saveCount', 'traffic']\n",
      "[False False False False False False False False  True False False]\n",
      "[ 5  8  4  2 10  3  7  9  1  6 11]\n"
     ]
    }
   ],
   "source": [
    "## RFE (Recursive Feature Elimination)\n",
    "# short ver.\n",
    "from sklearn.svm import LinearSVC\n",
    "from sklearn.feature_selection import RFE\n",
    "\n",
    "svm = LinearSVC()\n",
    "rfe = RFE(svm, n_features_to_select=1)\n",
    "rfe = rfe.fit(X_train, y_train)\n",
    "\n",
    "print(X.columns.tolist())\n",
    "print(rfe.support_)\n",
    "print(rfe.ranking_)"
   ]
  },
  {
   "cell_type": "code",
   "execution_count": 61,
   "id": "4fd3ebbd",
   "metadata": {
    "ExecuteTime": {
     "start_time": "2023-04-13T03:53:17.393Z"
    }
   },
   "outputs": [],
   "source": [
    "# pipeline ver.\n",
    "def pipeline_lm_rfe(X_train, y_train):\n",
    "\n",
    "    scaler = StandardScaler()\n",
    "    lm = LogisticRegression()\n",
    "    select = RFE(lm, n_features_to_select=1) \n",
    "    \n",
    "    pipe = Pipeline([('feature_selection', select), ('scaler', scaler), ('model', lm)])\n",
    "\n",
    "    param_grid = [{'model__C': [0.01, 1], \n",
    "                  'model__penalty': ['l1', 'l2']\n",
    "                  }]\n",
    "\n",
    "    grid_search = GridSearchCV(pipe, param_grid, cv=2)\n",
    "    grid_search.fit(X_train, y_train)\n",
    "    \n",
    "    return grid_search"
   ]
  },
  {
   "cell_type": "code",
   "execution_count": 62,
   "id": "090604fd",
   "metadata": {
    "ExecuteTime": {
     "start_time": "2023-04-13T03:53:17.397Z"
    }
   },
   "outputs": [],
   "source": [
    "grid_search_rfe = pipeline_lm_rfe(X_train, y_train)"
   ]
  },
  {
   "cell_type": "code",
   "execution_count": 63,
   "id": "916fcaf7",
   "metadata": {
    "ExecuteTime": {
     "start_time": "2023-04-13T03:53:17.402Z"
    }
   },
   "outputs": [
    {
     "name": "stdout",
     "output_type": "stream",
     "text": [
      "              precision    recall  f1-score   support\n",
      "\n",
      "           0       0.85      0.80      0.83     39338\n",
      "           1       0.62      0.70      0.66     18358\n",
      "\n",
      "    accuracy                           0.77     57696\n",
      "   macro avg       0.74      0.75      0.74     57696\n",
      "weighted avg       0.78      0.77      0.77     57696\n",
      "\n",
      "best score:  0.7698165095211684\n",
      "best params:  {'model__C': 0.01, 'model__penalty': 'l2'}\n"
     ]
    },
    {
     "data": {
      "text/plain": [
       "0.7374034795383927"
      ]
     },
     "execution_count": 63,
     "metadata": {},
     "output_type": "execute_result"
    }
   ],
   "source": [
    "evaluation(grid_search_rfe, X_test, y_test)"
   ]
  },
  {
   "cell_type": "code",
   "execution_count": 64,
   "id": "561ac581",
   "metadata": {
    "ExecuteTime": {
     "start_time": "2023-04-13T03:53:17.407Z"
    }
   },
   "outputs": [
    {
     "name": "stdout",
     "output_type": "stream",
     "text": [
      "['viewCount', 'editCount', 'shareCount', 'searchCount', 'add', 'move', 'rename', 'adddir', 'visdays', 'saveCount', 'traffic']\n",
      "[False False False False False False False False  True False False]\n",
      "[ 6 10  4  2  9  3  5  8  1  7 11]\n"
     ]
    }
   ],
   "source": [
    "print(X_train.columns.tolist())\n",
    "print(grid_search_rfe.best_estimator_.named_steps['feature_selection'].support_)\n",
    "print(grid_search_rfe.best_estimator_.named_steps['feature_selection'].ranking_)"
   ]
  },
  {
   "cell_type": "markdown",
   "id": "8a79570e",
   "metadata": {},
   "source": [
    "**Q) Random Forest, SVM이나 NB, Neural Network 등 다른 모델도 파이프라인에 사용해보세요.**\n",
    "```python\n",
    "# KNN\n",
    "from sklearn.neighbors import KNeighborsClassifier\n",
    "\n",
    "params_grid = [{'n_neighbors': [3, 5, 10], # default: 5\n",
    "                'metric': ['euclidean', 'manhattan']\n",
    "                # cityblock’, ‘cosine’, ‘euclidean’, ‘l1’, ‘l2’, ‘manhattan’\n",
    "               }]\n",
    "\n",
    "# SVC\n",
    "from sklearn.svm import SVC\n",
    "\n",
    "params_grid = [{'C': [1, 10], # Penalty parameter C of the error term\n",
    "                'gamma': [1, 10] # Higher the value of gamma, will try to exact fit\n",
    "                'kernel': ['linear', 'rbf']\n",
    "               }]\n",
    "\n",
    "# neural_network\n",
    "from sklearn.neural_network import MLPClassifier\n",
    "\n",
    "params_grid = [{'solver': [1, 10],\n",
    "                'hidden_layer_sizes': [(5,2), (3,3)]\n",
    "               }]\n",
    "\n",
    "```"
   ]
  },
  {
   "cell_type": "code",
   "execution_count": 65,
   "id": "8e723cbd",
   "metadata": {
    "ExecuteTime": {
     "start_time": "2023-04-13T03:53:17.412Z"
    }
   },
   "outputs": [],
   "source": [
    "from sklearn.neural_network import MLPClassifier\n",
    "\n",
    "def pipeline_nn(X_train, y_train):\n",
    "\n",
    "    select = SelectKBest(score_func=f_classif) # if regression problem, score_func=f_regression\n",
    "    scaler = MinMaxScaler()\n",
    "    mlp = MLPClassifier()\n",
    "\n",
    "    pipe = Pipeline([('scaler', scaler), ('feature_selection', select), ('model', mlp)])\n",
    "\n",
    "    param_grid = [{'feature_selection__k': [5,7],\n",
    "                  'model__solver': ['sgd', 'adam'],\n",
    "                  'model__hidden_layer_sizes': [(5,2), (3,3)]\n",
    "                  }]\n",
    "\n",
    "    grid_search = GridSearchCV(pipe, param_grid, cv=2)\n",
    "    grid_search.fit(X_train, y_train)\n",
    "    \n",
    "    return grid_search"
   ]
  },
  {
   "cell_type": "code",
   "execution_count": 66,
   "id": "23bd0118",
   "metadata": {
    "ExecuteTime": {
     "start_time": "2023-04-13T03:53:17.418Z"
    }
   },
   "outputs": [],
   "source": [
    "grid_search_nn = pipeline_nn(X_train, y_train)"
   ]
  },
  {
   "cell_type": "code",
   "execution_count": 67,
   "id": "a6a15631",
   "metadata": {
    "ExecuteTime": {
     "start_time": "2023-04-13T03:53:17.424Z"
    }
   },
   "outputs": [
    {
     "name": "stdout",
     "output_type": "stream",
     "text": [
      "              precision    recall  f1-score   support\n",
      "\n",
      "           0       0.92      0.87      0.89     39219\n",
      "           1       0.75      0.84      0.79     18477\n",
      "\n",
      "    accuracy                           0.86     57696\n",
      "   macro avg       0.84      0.85      0.84     57696\n",
      "weighted avg       0.87      0.86      0.86     57696\n",
      "\n",
      "best score:  0.8623128119800333\n",
      "best params:  {'feature_selection__k': 7, 'model__hidden_layer_sizes': (5, 2), 'model__solver': 'adam'}\n"
     ]
    },
    {
     "data": {
      "text/plain": [
       "0.8360332747603343"
      ]
     },
     "execution_count": 67,
     "metadata": {},
     "output_type": "execute_result"
    }
   ],
   "source": [
    "evaluation(grid_search_nn, X_test, y_test)"
   ]
  },
  {
   "cell_type": "code",
   "execution_count": null,
   "id": "09c0e42b",
   "metadata": {},
   "outputs": [],
   "source": []
  }
 ],
 "metadata": {
  "kernelspec": {
   "display_name": "dl",
   "language": "python",
   "name": "python3"
  },
  "language_info": {
   "codemirror_mode": {
    "name": "ipython",
    "version": 3
   },
   "file_extension": ".py",
   "mimetype": "text/x-python",
   "name": "python",
   "nbconvert_exporter": "python",
   "pygments_lexer": "ipython3",
   "version": "3.9.19"
  },
  "toc": {
   "base_numbering": 1,
   "nav_menu": {},
   "number_sections": true,
   "sideBar": true,
   "skip_h1_title": true,
   "title_cell": "Table of Contents",
   "title_sidebar": "Contents",
   "toc_cell": false,
   "toc_position": {
    "height": "calc(100% - 180px)",
    "left": "10px",
    "top": "150px",
    "width": "197.219px"
   },
   "toc_section_display": true,
   "toc_window_display": true
  }
 },
 "nbformat": 4,
 "nbformat_minor": 5
}
