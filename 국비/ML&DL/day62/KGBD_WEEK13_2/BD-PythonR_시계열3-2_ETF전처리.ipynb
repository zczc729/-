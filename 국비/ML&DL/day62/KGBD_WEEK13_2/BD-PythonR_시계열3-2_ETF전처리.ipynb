{
 "cells": [
  {
   "cell_type": "markdown",
   "metadata": {},
   "source": [
    "# 입문자를 위한, 파이썬/R 데이터 분석  "
   ]
  },
  {
   "cell_type": "markdown",
   "metadata": {},
   "source": [
    "]"
   ]
  },
  {
   "cell_type": "markdown",
   "metadata": {},
   "source": [
    "## Today's mission\n",
    "\n",
    "- ETF(상장지수펀드) 목록 수집\n",
    "- <p style=\"font-weight:bold\">ETF 데이터 전처리</p>\n",
    "- ETF 분석과 시각화"
   ]
  },
  {
   "cell_type": "markdown",
   "metadata": {},
   "source": [
    "]"
   ]
  },
  {
   "cell_type": "markdown",
   "metadata": {
    "id": "t3V7lAmnBYko"
   },
   "source": [
    "## ETF 데이터 전처리\n",
    "\n",
    "* [ETF : 네이버 금융](https://finance.naver.com/sise/etf.nhn) 에서 수집한 데이터를 전처리 합니다.\n",
    "* keyword\n",
    "    * rename column\n",
    "    * .map(lambda x : x)\n",
    "    * text data\n",
    "        * str.contains()\n",
    "        * str.replace()\n",
    "        * str.split(\"구분자\", expand=True)\n",
    "        * str[:]\n",
    "\n",
    "### 데이터 로드와 요약"
   ]
  },
  {
   "cell_type": "code",
   "execution_count": 1,
   "metadata": {
    "id": "sUwAAMjsBYko"
   },
   "outputs": [],
   "source": [
    "# 데이터 분석을 위한 pandas, 수치계산을 위한 numpy라이브러리를 로드합니다.\n",
    "import pandas as pd\n",
    "import numpy as np"
   ]
  },
  {
   "cell_type": "code",
   "execution_count": 2,
   "metadata": {},
   "outputs": [
    {
     "data": {
      "text/plain": [
       "'data/etf_2024-08-23_raw.csv'"
      ]
     },
     "execution_count": 2,
     "metadata": {},
     "output_type": "execute_result"
    }
   ],
   "source": [
    "# 이전 실습에서 저장한 파일명을 file_name에 적어주세요.\n",
    "import datetime\n",
    "\n",
    "today = datetime.datetime.today()\n",
    "today = today.strftime(\"%Y-%m-%d\")\n",
    "today\n",
    "\n",
    "file_name = f\"data/etf_{today}_raw.csv\"\n",
    "file_name"
   ]
  },
  {
   "cell_type": "code",
   "execution_count": 3,
   "metadata": {
    "id": "cyivYjVFBYkp"
   },
   "outputs": [
    {
     "data": {
      "text/plain": [
       "(881, 12)"
      ]
     },
     "execution_count": 3,
     "metadata": {},
     "output_type": "execute_result"
    }
   ],
   "source": [
    "# 이전 수업에서 수집해서 저장해둔 csv 파일을 읽어옵니다.\n",
    "# itemcode 숫자 앞의 0 이 지워진다면 dtype={\"itemcode\": np.object} 로 타입을 지정해 주면 문자형태로 읽어옵니다.\n",
    "df = pd.read_csv(file_name, dtype={\"itemcode\":object})\n",
    "df.shape"
   ]
  },
  {
   "cell_type": "code",
   "execution_count": 4,
   "metadata": {
    "id": "VgCji4_wBYkp"
   },
   "outputs": [
    {
     "data": {
      "text/html": [
       "<div>\n",
       "<style scoped>\n",
       "    .dataframe tbody tr th:only-of-type {\n",
       "        vertical-align: middle;\n",
       "    }\n",
       "\n",
       "    .dataframe tbody tr th {\n",
       "        vertical-align: top;\n",
       "    }\n",
       "\n",
       "    .dataframe thead th {\n",
       "        text-align: right;\n",
       "    }\n",
       "</style>\n",
       "<table border=\"1\" class=\"dataframe\">\n",
       "  <thead>\n",
       "    <tr style=\"text-align: right;\">\n",
       "      <th></th>\n",
       "      <th>itemcode</th>\n",
       "      <th>etfTabCode</th>\n",
       "      <th>itemname</th>\n",
       "      <th>nowVal</th>\n",
       "      <th>risefall</th>\n",
       "      <th>changeVal</th>\n",
       "      <th>changeRate</th>\n",
       "      <th>nav</th>\n",
       "      <th>threeMonthEarnRate</th>\n",
       "      <th>quant</th>\n",
       "      <th>amonut</th>\n",
       "      <th>marketSum</th>\n",
       "    </tr>\n",
       "  </thead>\n",
       "  <tbody>\n",
       "    <tr>\n",
       "      <th>0</th>\n",
       "      <td>459580</td>\n",
       "      <td>6</td>\n",
       "      <td>KODEX CD금리액티브(합성)</td>\n",
       "      <td>1046085</td>\n",
       "      <td>2</td>\n",
       "      <td>230</td>\n",
       "      <td>0.02</td>\n",
       "      <td>1046089.0</td>\n",
       "      <td>0.8972</td>\n",
       "      <td>195638</td>\n",
       "      <td>204654</td>\n",
       "      <td>93402</td>\n",
       "    </tr>\n",
       "    <tr>\n",
       "      <th>1</th>\n",
       "      <td>069500</td>\n",
       "      <td>1</td>\n",
       "      <td>KODEX 200</td>\n",
       "      <td>36820</td>\n",
       "      <td>5</td>\n",
       "      <td>-115</td>\n",
       "      <td>-0.31</td>\n",
       "      <td>36885.0</td>\n",
       "      <td>-0.4931</td>\n",
       "      <td>1101467</td>\n",
       "      <td>40510</td>\n",
       "      <td>61140</td>\n",
       "    </tr>\n",
       "    <tr>\n",
       "      <th>2</th>\n",
       "      <td>357870</td>\n",
       "      <td>6</td>\n",
       "      <td>TIGER CD금리투자KIS(합성)</td>\n",
       "      <td>54825</td>\n",
       "      <td>3</td>\n",
       "      <td>0</td>\n",
       "      <td>0.00</td>\n",
       "      <td>54828.0</td>\n",
       "      <td>0.9110</td>\n",
       "      <td>25319</td>\n",
       "      <td>1388</td>\n",
       "      <td>61007</td>\n",
       "    </tr>\n",
       "    <tr>\n",
       "      <th>3</th>\n",
       "      <td>423160</td>\n",
       "      <td>6</td>\n",
       "      <td>KODEX KOFR금리액티브(합성)</td>\n",
       "      <td>107820</td>\n",
       "      <td>2</td>\n",
       "      <td>30</td>\n",
       "      <td>0.03</td>\n",
       "      <td>107779.0</td>\n",
       "      <td>0.8939</td>\n",
       "      <td>16807</td>\n",
       "      <td>1812</td>\n",
       "      <td>45037</td>\n",
       "    </tr>\n",
       "    <tr>\n",
       "      <th>4</th>\n",
       "      <td>360750</td>\n",
       "      <td>4</td>\n",
       "      <td>TIGER 미국S&amp;P500</td>\n",
       "      <td>18650</td>\n",
       "      <td>5</td>\n",
       "      <td>-35</td>\n",
       "      <td>-0.19</td>\n",
       "      <td>18599.0</td>\n",
       "      <td>3.6730</td>\n",
       "      <td>4820460</td>\n",
       "      <td>89909</td>\n",
       "      <td>43184</td>\n",
       "    </tr>\n",
       "  </tbody>\n",
       "</table>\n",
       "</div>"
      ],
      "text/plain": [
       "  itemcode  etfTabCode             itemname   nowVal  risefall  changeVal  \\\n",
       "0   459580           6    KODEX CD금리액티브(합성)  1046085         2        230   \n",
       "1   069500           1            KODEX 200    36820         5       -115   \n",
       "2   357870           6  TIGER CD금리투자KIS(합성)    54825         3          0   \n",
       "3   423160           6  KODEX KOFR금리액티브(합성)   107820         2         30   \n",
       "4   360750           4       TIGER 미국S&P500    18650         5        -35   \n",
       "\n",
       "   changeRate        nav  threeMonthEarnRate    quant  amonut  marketSum  \n",
       "0        0.02  1046089.0              0.8972   195638  204654      93402  \n",
       "1       -0.31    36885.0             -0.4931  1101467   40510      61140  \n",
       "2        0.00    54828.0              0.9110    25319    1388      61007  \n",
       "3        0.03   107779.0              0.8939    16807    1812      45037  \n",
       "4       -0.19    18599.0              3.6730  4820460   89909      43184  "
      ]
     },
     "execution_count": 4,
     "metadata": {},
     "output_type": "execute_result"
    }
   ],
   "source": [
    "# 인덱스 번호 상단 5개의 데이터를 가져옵니다.\n",
    "# 데이터를 잘 읽어왔는지 확인합니다.\n",
    "df.head()"
   ]
  },
  {
   "cell_type": "code",
   "execution_count": 5,
   "metadata": {
    "id": "sFWU55-NBYkp"
   },
   "outputs": [
    {
     "data": {
      "text/html": [
       "<div>\n",
       "<style scoped>\n",
       "    .dataframe tbody tr th:only-of-type {\n",
       "        vertical-align: middle;\n",
       "    }\n",
       "\n",
       "    .dataframe tbody tr th {\n",
       "        vertical-align: top;\n",
       "    }\n",
       "\n",
       "    .dataframe thead th {\n",
       "        text-align: right;\n",
       "    }\n",
       "</style>\n",
       "<table border=\"1\" class=\"dataframe\">\n",
       "  <thead>\n",
       "    <tr style=\"text-align: right;\">\n",
       "      <th></th>\n",
       "      <th>itemcode</th>\n",
       "      <th>etfTabCode</th>\n",
       "      <th>itemname</th>\n",
       "      <th>nowVal</th>\n",
       "      <th>risefall</th>\n",
       "      <th>changeVal</th>\n",
       "      <th>changeRate</th>\n",
       "      <th>nav</th>\n",
       "      <th>threeMonthEarnRate</th>\n",
       "      <th>quant</th>\n",
       "      <th>amonut</th>\n",
       "      <th>marketSum</th>\n",
       "    </tr>\n",
       "  </thead>\n",
       "  <tbody>\n",
       "    <tr>\n",
       "      <th>876</th>\n",
       "      <td>267450</td>\n",
       "      <td>6</td>\n",
       "      <td>RISE 미국장기국채선물인버스(H)</td>\n",
       "      <td>10160</td>\n",
       "      <td>3</td>\n",
       "      <td>0</td>\n",
       "      <td>0.00</td>\n",
       "      <td>10216.0</td>\n",
       "      <td>-5.6639</td>\n",
       "      <td>0</td>\n",
       "      <td>0</td>\n",
       "      <td>20</td>\n",
       "    </tr>\n",
       "    <tr>\n",
       "      <th>877</th>\n",
       "      <td>412560</td>\n",
       "      <td>2</td>\n",
       "      <td>TIGER BBIG레버리지</td>\n",
       "      <td>2190</td>\n",
       "      <td>5</td>\n",
       "      <td>-10</td>\n",
       "      <td>-0.45</td>\n",
       "      <td>2199.0</td>\n",
       "      <td>0.9174</td>\n",
       "      <td>1411</td>\n",
       "      <td>3</td>\n",
       "      <td>18</td>\n",
       "    </tr>\n",
       "    <tr>\n",
       "      <th>878</th>\n",
       "      <td>333980</td>\n",
       "      <td>2</td>\n",
       "      <td>PLUS KS퀄리티가중TR</td>\n",
       "      <td>15230</td>\n",
       "      <td>2</td>\n",
       "      <td>20</td>\n",
       "      <td>0.13</td>\n",
       "      <td>15266.0</td>\n",
       "      <td>0.3960</td>\n",
       "      <td>4</td>\n",
       "      <td>0</td>\n",
       "      <td>15</td>\n",
       "    </tr>\n",
       "    <tr>\n",
       "      <th>879</th>\n",
       "      <td>436180</td>\n",
       "      <td>2</td>\n",
       "      <td>PLUS K-유니콘투자기업액티브</td>\n",
       "      <td>9975</td>\n",
       "      <td>2</td>\n",
       "      <td>25</td>\n",
       "      <td>0.25</td>\n",
       "      <td>9987.0</td>\n",
       "      <td>-3.5853</td>\n",
       "      <td>1</td>\n",
       "      <td>0</td>\n",
       "      <td>10</td>\n",
       "    </tr>\n",
       "    <tr>\n",
       "      <th>880</th>\n",
       "      <td>402520</td>\n",
       "      <td>1</td>\n",
       "      <td>FOCUS 혁신기업액티브</td>\n",
       "      <td>8795</td>\n",
       "      <td>3</td>\n",
       "      <td>0</td>\n",
       "      <td>0.00</td>\n",
       "      <td>8840.0</td>\n",
       "      <td>-1.4014</td>\n",
       "      <td>0</td>\n",
       "      <td>0</td>\n",
       "      <td>9</td>\n",
       "    </tr>\n",
       "  </tbody>\n",
       "</table>\n",
       "</div>"
      ],
      "text/plain": [
       "    itemcode  etfTabCode             itemname  nowVal  risefall  changeVal  \\\n",
       "876   267450           6  RISE 미국장기국채선물인버스(H)   10160         3          0   \n",
       "877   412560           2       TIGER BBIG레버리지    2190         5        -10   \n",
       "878   333980           2       PLUS KS퀄리티가중TR   15230         2         20   \n",
       "879   436180           2    PLUS K-유니콘투자기업액티브    9975         2         25   \n",
       "880   402520           1        FOCUS 혁신기업액티브    8795         3          0   \n",
       "\n",
       "     changeRate      nav  threeMonthEarnRate  quant  amonut  marketSum  \n",
       "876        0.00  10216.0             -5.6639      0       0         20  \n",
       "877       -0.45   2199.0              0.9174   1411       3         18  \n",
       "878        0.13  15266.0              0.3960      4       0         15  \n",
       "879        0.25   9987.0             -3.5853      1       0         10  \n",
       "880        0.00   8840.0             -1.4014      0       0          9  "
      ]
     },
     "execution_count": 5,
     "metadata": {},
     "output_type": "execute_result"
    }
   ],
   "source": [
    "# 인덱스 하단의 5개 데이터를 가져옵니다.\n",
    "# 데이터를 잘 읽어왔는지 확인합니다.\n",
    "df.tail()"
   ]
  },
  {
   "cell_type": "code",
   "execution_count": 6,
   "metadata": {
    "id": "LxSJgh3rBYkq",
    "scrolled": true
   },
   "outputs": [
    {
     "name": "stdout",
     "output_type": "stream",
     "text": [
      "<class 'pandas.core.frame.DataFrame'>\n",
      "RangeIndex: 881 entries, 0 to 880\n",
      "Data columns (total 12 columns):\n",
      " #   Column              Non-Null Count  Dtype  \n",
      "---  ------              --------------  -----  \n",
      " 0   itemcode            881 non-null    object \n",
      " 1   etfTabCode          881 non-null    int64  \n",
      " 2   itemname            881 non-null    object \n",
      " 3   nowVal              881 non-null    int64  \n",
      " 4   risefall            881 non-null    int64  \n",
      " 5   changeVal           881 non-null    int64  \n",
      " 6   changeRate          881 non-null    float64\n",
      " 7   nav                 881 non-null    float64\n",
      " 8   threeMonthEarnRate  839 non-null    float64\n",
      " 9   quant               881 non-null    int64  \n",
      " 10  amonut              881 non-null    int64  \n",
      " 11  marketSum           881 non-null    int64  \n",
      "dtypes: float64(3), int64(7), object(2)\n",
      "memory usage: 82.7+ KB\n"
     ]
    }
   ],
   "source": [
    "# info를 통해서 각 column들의 데이터타입과 결측치, 메모리 사용량 등을 볼 수 있습니다.\n",
    "df.info()"
   ]
  },
  {
   "cell_type": "markdown",
   "metadata": {},
   "source": [
    "* 웹사이트의 ETF 정보와 비교하며 어떤 컬럼이 어떤 값인지 확인합니다. \n",
    "* https://finance.naver.com/sise/etf.nhn "
   ]
  },
  {
   "cell_type": "code",
   "execution_count": 7,
   "metadata": {
    "id": "cdS2JB71BYkq"
   },
   "outputs": [
    {
     "data": {
      "text/html": [
       "<div>\n",
       "<style scoped>\n",
       "    .dataframe tbody tr th:only-of-type {\n",
       "        vertical-align: middle;\n",
       "    }\n",
       "\n",
       "    .dataframe tbody tr th {\n",
       "        vertical-align: top;\n",
       "    }\n",
       "\n",
       "    .dataframe thead th {\n",
       "        text-align: right;\n",
       "    }\n",
       "</style>\n",
       "<table border=\"1\" class=\"dataframe\">\n",
       "  <thead>\n",
       "    <tr style=\"text-align: right;\">\n",
       "      <th></th>\n",
       "      <th>itemcode</th>\n",
       "      <th>etfTabCode</th>\n",
       "      <th>itemname</th>\n",
       "      <th>nowVal</th>\n",
       "      <th>risefall</th>\n",
       "      <th>changeVal</th>\n",
       "      <th>changeRate</th>\n",
       "      <th>nav</th>\n",
       "      <th>threeMonthEarnRate</th>\n",
       "      <th>quant</th>\n",
       "      <th>amonut</th>\n",
       "      <th>marketSum</th>\n",
       "    </tr>\n",
       "  </thead>\n",
       "  <tbody>\n",
       "    <tr>\n",
       "      <th>22</th>\n",
       "      <td>252670</td>\n",
       "      <td>3</td>\n",
       "      <td>KODEX 200선물인버스2X</td>\n",
       "      <td>1989</td>\n",
       "      <td>2</td>\n",
       "      <td>14</td>\n",
       "      <td>0.71</td>\n",
       "      <td>1991.0</td>\n",
       "      <td>-1.9852</td>\n",
       "      <td>70732449</td>\n",
       "      <td>141032</td>\n",
       "      <td>13054</td>\n",
       "    </tr>\n",
       "    <tr>\n",
       "      <th>99</th>\n",
       "      <td>251340</td>\n",
       "      <td>3</td>\n",
       "      <td>KODEX 코스닥150선물인버스</td>\n",
       "      <td>3695</td>\n",
       "      <td>2</td>\n",
       "      <td>15</td>\n",
       "      <td>0.41</td>\n",
       "      <td>3709.0</td>\n",
       "      <td>1.7980</td>\n",
       "      <td>12432953</td>\n",
       "      <td>46131</td>\n",
       "      <td>3248</td>\n",
       "    </tr>\n",
       "    <tr>\n",
       "      <th>56</th>\n",
       "      <td>114800</td>\n",
       "      <td>3</td>\n",
       "      <td>KODEX 인버스</td>\n",
       "      <td>4160</td>\n",
       "      <td>2</td>\n",
       "      <td>15</td>\n",
       "      <td>0.36</td>\n",
       "      <td>4161.0</td>\n",
       "      <td>0.2418</td>\n",
       "      <td>7432640</td>\n",
       "      <td>30963</td>\n",
       "      <td>5874</td>\n",
       "    </tr>\n",
       "    <tr>\n",
       "      <th>21</th>\n",
       "      <td>233740</td>\n",
       "      <td>3</td>\n",
       "      <td>KODEX 코스닥150레버리지</td>\n",
       "      <td>9125</td>\n",
       "      <td>5</td>\n",
       "      <td>-65</td>\n",
       "      <td>-0.71</td>\n",
       "      <td>9187.0</td>\n",
       "      <td>-12.1415</td>\n",
       "      <td>5627739</td>\n",
       "      <td>50934</td>\n",
       "      <td>13186</td>\n",
       "    </tr>\n",
       "    <tr>\n",
       "      <th>4</th>\n",
       "      <td>360750</td>\n",
       "      <td>4</td>\n",
       "      <td>TIGER 미국S&amp;P500</td>\n",
       "      <td>18650</td>\n",
       "      <td>5</td>\n",
       "      <td>-35</td>\n",
       "      <td>-0.19</td>\n",
       "      <td>18599.0</td>\n",
       "      <td>3.6730</td>\n",
       "      <td>4820460</td>\n",
       "      <td>89909</td>\n",
       "      <td>43184</td>\n",
       "    </tr>\n",
       "    <tr>\n",
       "      <th>11</th>\n",
       "      <td>122630</td>\n",
       "      <td>3</td>\n",
       "      <td>KODEX 레버리지</td>\n",
       "      <td>18745</td>\n",
       "      <td>5</td>\n",
       "      <td>-120</td>\n",
       "      <td>-0.64</td>\n",
       "      <td>18902.0</td>\n",
       "      <td>-4.1900</td>\n",
       "      <td>4098125</td>\n",
       "      <td>76627</td>\n",
       "      <td>21332</td>\n",
       "    </tr>\n",
       "    <tr>\n",
       "      <th>137</th>\n",
       "      <td>462330</td>\n",
       "      <td>2</td>\n",
       "      <td>KODEX 2차전지산업레버리지</td>\n",
       "      <td>2350</td>\n",
       "      <td>5</td>\n",
       "      <td>-65</td>\n",
       "      <td>-2.69</td>\n",
       "      <td>2363.0</td>\n",
       "      <td>-28.9706</td>\n",
       "      <td>1441541</td>\n",
       "      <td>3391</td>\n",
       "      <td>2200</td>\n",
       "    </tr>\n",
       "    <tr>\n",
       "      <th>283</th>\n",
       "      <td>252710</td>\n",
       "      <td>3</td>\n",
       "      <td>TIGER 200선물인버스2X</td>\n",
       "      <td>2110</td>\n",
       "      <td>2</td>\n",
       "      <td>20</td>\n",
       "      <td>0.96</td>\n",
       "      <td>2106.0</td>\n",
       "      <td>-2.3365</td>\n",
       "      <td>1331676</td>\n",
       "      <td>2812</td>\n",
       "      <td>724</td>\n",
       "    </tr>\n",
       "    <tr>\n",
       "      <th>1</th>\n",
       "      <td>069500</td>\n",
       "      <td>1</td>\n",
       "      <td>KODEX 200</td>\n",
       "      <td>36820</td>\n",
       "      <td>5</td>\n",
       "      <td>-115</td>\n",
       "      <td>-0.31</td>\n",
       "      <td>36885.0</td>\n",
       "      <td>-0.4931</td>\n",
       "      <td>1101467</td>\n",
       "      <td>40510</td>\n",
       "      <td>61140</td>\n",
       "    </tr>\n",
       "    <tr>\n",
       "      <th>15</th>\n",
       "      <td>379800</td>\n",
       "      <td>4</td>\n",
       "      <td>KODEX 미국S&amp;P500TR</td>\n",
       "      <td>17040</td>\n",
       "      <td>5</td>\n",
       "      <td>-35</td>\n",
       "      <td>-0.20</td>\n",
       "      <td>17000.0</td>\n",
       "      <td>3.6733</td>\n",
       "      <td>1098057</td>\n",
       "      <td>18717</td>\n",
       "      <td>16733</td>\n",
       "    </tr>\n",
       "  </tbody>\n",
       "</table>\n",
       "</div>"
      ],
      "text/plain": [
       "    itemcode  etfTabCode           itemname  nowVal  risefall  changeVal  \\\n",
       "22    252670           3   KODEX 200선물인버스2X    1989         2         14   \n",
       "99    251340           3  KODEX 코스닥150선물인버스    3695         2         15   \n",
       "56    114800           3          KODEX 인버스    4160         2         15   \n",
       "21    233740           3   KODEX 코스닥150레버리지    9125         5        -65   \n",
       "4     360750           4     TIGER 미국S&P500   18650         5        -35   \n",
       "11    122630           3         KODEX 레버리지   18745         5       -120   \n",
       "137   462330           2   KODEX 2차전지산업레버리지    2350         5        -65   \n",
       "283   252710           3   TIGER 200선물인버스2X    2110         2         20   \n",
       "1     069500           1          KODEX 200   36820         5       -115   \n",
       "15    379800           4   KODEX 미국S&P500TR   17040         5        -35   \n",
       "\n",
       "     changeRate      nav  threeMonthEarnRate     quant  amonut  marketSum  \n",
       "22         0.71   1991.0             -1.9852  70732449  141032      13054  \n",
       "99         0.41   3709.0              1.7980  12432953   46131       3248  \n",
       "56         0.36   4161.0              0.2418   7432640   30963       5874  \n",
       "21        -0.71   9187.0            -12.1415   5627739   50934      13186  \n",
       "4         -0.19  18599.0              3.6730   4820460   89909      43184  \n",
       "11        -0.64  18902.0             -4.1900   4098125   76627      21332  \n",
       "137       -2.69   2363.0            -28.9706   1441541    3391       2200  \n",
       "283        0.96   2106.0             -2.3365   1331676    2812        724  \n",
       "1         -0.31  36885.0             -0.4931   1101467   40510      61140  \n",
       "15        -0.20  17000.0              3.6733   1098057   18717      16733  "
      ]
     },
     "execution_count": 7,
     "metadata": {},
     "output_type": "execute_result"
    }
   ],
   "source": [
    "# https://finance.naver.com/sise/etf.nhn 에서 값을 비교해보면 quant는 거래량임을 알 수 있습니다.\n",
    "# 거래량(quant) 기준으로 내림차순으로 정렬하여 상위 10개의 데이터를 봅니다.\n",
    "df.sort_values(\"quant\", ascending=False).head(10)"
   ]
  },
  {
   "cell_type": "code",
   "execution_count": 8,
   "metadata": {
    "id": "_65UmaWzBYkq"
   },
   "outputs": [
    {
     "data": {
      "text/plain": [
       "etfTabCode\n",
       "4    269\n",
       "2    245\n",
       "6    158\n",
       "7     76\n",
       "1     75\n",
       "3     40\n",
       "5     18\n",
       "Name: count, dtype: int64"
      ]
     },
     "execution_count": 8,
     "metadata": {},
     "output_type": "execute_result"
    }
   ],
   "source": [
    "# etfTabCode column의 데이터 구성을 살펴봅니다.\n",
    "# 추후 알게되겠지만 etfTabCode는 해당 사이트에서 \n",
    "# 전체(0), 국내 시장지수(1), 국내 업종/테마(2), 국내 파생(3) ~\n",
    "# 해외 주식(4), 원자재(5), 채권(6), 기타(7)로 자료가 구분되어 있습니다.\n",
    "df[\"etfTabCode\"].value_counts()#.sort_index()"
   ]
  },
  {
   "cell_type": "code",
   "execution_count": 12,
   "metadata": {
    "id": "k61c2Hr1BYkq"
   },
   "outputs": [
    {
     "data": {
      "text/html": [
       "<div>\n",
       "<style scoped>\n",
       "    .dataframe tbody tr th:only-of-type {\n",
       "        vertical-align: middle;\n",
       "    }\n",
       "\n",
       "    .dataframe tbody tr th {\n",
       "        vertical-align: top;\n",
       "    }\n",
       "\n",
       "    .dataframe thead th {\n",
       "        text-align: right;\n",
       "    }\n",
       "</style>\n",
       "<table border=\"1\" class=\"dataframe\">\n",
       "  <thead>\n",
       "    <tr style=\"text-align: right;\">\n",
       "      <th></th>\n",
       "      <th>itemcode</th>\n",
       "      <th>etfTabCode</th>\n",
       "      <th>itemname</th>\n",
       "      <th>nowVal</th>\n",
       "      <th>risefall</th>\n",
       "      <th>changeVal</th>\n",
       "      <th>changeRate</th>\n",
       "      <th>nav</th>\n",
       "      <th>threeMonthEarnRate</th>\n",
       "      <th>quant</th>\n",
       "      <th>amonut</th>\n",
       "      <th>marketSum</th>\n",
       "    </tr>\n",
       "  </thead>\n",
       "  <tbody>\n",
       "    <tr>\n",
       "      <th>1</th>\n",
       "      <td>069500</td>\n",
       "      <td>1</td>\n",
       "      <td>KODEX 200</td>\n",
       "      <td>36820</td>\n",
       "      <td>5</td>\n",
       "      <td>-115</td>\n",
       "      <td>-0.31</td>\n",
       "      <td>36885.0</td>\n",
       "      <td>-0.4931</td>\n",
       "      <td>1101467</td>\n",
       "      <td>40510</td>\n",
       "      <td>61140</td>\n",
       "    </tr>\n",
       "    <tr>\n",
       "      <th>10</th>\n",
       "      <td>278530</td>\n",
       "      <td>1</td>\n",
       "      <td>KODEX 200TR</td>\n",
       "      <td>12855</td>\n",
       "      <td>5</td>\n",
       "      <td>-40</td>\n",
       "      <td>-0.31</td>\n",
       "      <td>12880.0</td>\n",
       "      <td>-0.5400</td>\n",
       "      <td>8870</td>\n",
       "      <td>113</td>\n",
       "      <td>22657</td>\n",
       "    </tr>\n",
       "    <tr>\n",
       "      <th>14</th>\n",
       "      <td>102110</td>\n",
       "      <td>1</td>\n",
       "      <td>TIGER 200</td>\n",
       "      <td>36880</td>\n",
       "      <td>5</td>\n",
       "      <td>-110</td>\n",
       "      <td>-0.30</td>\n",
       "      <td>36949.0</td>\n",
       "      <td>-0.5325</td>\n",
       "      <td>348733</td>\n",
       "      <td>12843</td>\n",
       "      <td>19712</td>\n",
       "    </tr>\n",
       "    <tr>\n",
       "      <th>25</th>\n",
       "      <td>148020</td>\n",
       "      <td>1</td>\n",
       "      <td>RISE 200</td>\n",
       "      <td>37075</td>\n",
       "      <td>5</td>\n",
       "      <td>-135</td>\n",
       "      <td>-0.36</td>\n",
       "      <td>37139.0</td>\n",
       "      <td>-0.4362</td>\n",
       "      <td>112656</td>\n",
       "      <td>4171</td>\n",
       "      <td>12494</td>\n",
       "    </tr>\n",
       "    <tr>\n",
       "      <th>27</th>\n",
       "      <td>310970</td>\n",
       "      <td>1</td>\n",
       "      <td>TIGER MSCI Korea TR</td>\n",
       "      <td>15755</td>\n",
       "      <td>5</td>\n",
       "      <td>-45</td>\n",
       "      <td>-0.28</td>\n",
       "      <td>15788.0</td>\n",
       "      <td>0.1902</td>\n",
       "      <td>12</td>\n",
       "      <td>0</td>\n",
       "      <td>12179</td>\n",
       "    </tr>\n",
       "    <tr>\n",
       "      <th>...</th>\n",
       "      <td>...</td>\n",
       "      <td>...</td>\n",
       "      <td>...</td>\n",
       "      <td>...</td>\n",
       "      <td>...</td>\n",
       "      <td>...</td>\n",
       "      <td>...</td>\n",
       "      <td>...</td>\n",
       "      <td>...</td>\n",
       "      <td>...</td>\n",
       "      <td>...</td>\n",
       "      <td>...</td>\n",
       "    </tr>\n",
       "    <tr>\n",
       "      <th>816</th>\n",
       "      <td>391670</td>\n",
       "      <td>1</td>\n",
       "      <td>HK 베스트일레븐액티브</td>\n",
       "      <td>9690</td>\n",
       "      <td>3</td>\n",
       "      <td>0</td>\n",
       "      <td>0.00</td>\n",
       "      <td>9743.0</td>\n",
       "      <td>0.3625</td>\n",
       "      <td>0</td>\n",
       "      <td>0</td>\n",
       "      <td>48</td>\n",
       "    </tr>\n",
       "    <tr>\n",
       "      <th>818</th>\n",
       "      <td>433250</td>\n",
       "      <td>1</td>\n",
       "      <td>UNICORN R&amp;D 액티브</td>\n",
       "      <td>11990</td>\n",
       "      <td>5</td>\n",
       "      <td>-50</td>\n",
       "      <td>-0.42</td>\n",
       "      <td>11994.0</td>\n",
       "      <td>0.0831</td>\n",
       "      <td>13</td>\n",
       "      <td>0</td>\n",
       "      <td>48</td>\n",
       "    </tr>\n",
       "    <tr>\n",
       "      <th>824</th>\n",
       "      <td>391680</td>\n",
       "      <td>1</td>\n",
       "      <td>HK 하이볼액티브</td>\n",
       "      <td>8165</td>\n",
       "      <td>3</td>\n",
       "      <td>0</td>\n",
       "      <td>0.00</td>\n",
       "      <td>8179.0</td>\n",
       "      <td>-2.8555</td>\n",
       "      <td>0</td>\n",
       "      <td>0</td>\n",
       "      <td>45</td>\n",
       "    </tr>\n",
       "    <tr>\n",
       "      <th>837</th>\n",
       "      <td>301400</td>\n",
       "      <td>1</td>\n",
       "      <td>PLUS 코스닥150</td>\n",
       "      <td>13030</td>\n",
       "      <td>5</td>\n",
       "      <td>-30</td>\n",
       "      <td>-0.23</td>\n",
       "      <td>13081.0</td>\n",
       "      <td>-4.4973</td>\n",
       "      <td>19</td>\n",
       "      <td>0</td>\n",
       "      <td>39</td>\n",
       "    </tr>\n",
       "    <tr>\n",
       "      <th>880</th>\n",
       "      <td>402520</td>\n",
       "      <td>1</td>\n",
       "      <td>FOCUS 혁신기업액티브</td>\n",
       "      <td>8795</td>\n",
       "      <td>3</td>\n",
       "      <td>0</td>\n",
       "      <td>0.00</td>\n",
       "      <td>8840.0</td>\n",
       "      <td>-1.4014</td>\n",
       "      <td>0</td>\n",
       "      <td>0</td>\n",
       "      <td>9</td>\n",
       "    </tr>\n",
       "  </tbody>\n",
       "</table>\n",
       "<p>75 rows × 12 columns</p>\n",
       "</div>"
      ],
      "text/plain": [
       "    itemcode  etfTabCode             itemname  nowVal  risefall  changeVal  \\\n",
       "1     069500           1            KODEX 200   36820         5       -115   \n",
       "10    278530           1          KODEX 200TR   12855         5        -40   \n",
       "14    102110           1            TIGER 200   36880         5       -110   \n",
       "25    148020           1             RISE 200   37075         5       -135   \n",
       "27    310970           1  TIGER MSCI Korea TR   15755         5        -45   \n",
       "..       ...         ...                  ...     ...       ...        ...   \n",
       "816   391670           1         HK 베스트일레븐액티브    9690         3          0   \n",
       "818   433250           1      UNICORN R&D 액티브   11990         5        -50   \n",
       "824   391680           1            HK 하이볼액티브    8165         3          0   \n",
       "837   301400           1          PLUS 코스닥150   13030         5        -30   \n",
       "880   402520           1        FOCUS 혁신기업액티브    8795         3          0   \n",
       "\n",
       "     changeRate      nav  threeMonthEarnRate    quant  amonut  marketSum  \n",
       "1         -0.31  36885.0             -0.4931  1101467   40510      61140  \n",
       "10        -0.31  12880.0             -0.5400     8870     113      22657  \n",
       "14        -0.30  36949.0             -0.5325   348733   12843      19712  \n",
       "25        -0.36  37139.0             -0.4362   112656    4171      12494  \n",
       "27        -0.28  15788.0              0.1902       12       0      12179  \n",
       "..          ...      ...                 ...      ...     ...        ...  \n",
       "816        0.00   9743.0              0.3625        0       0         48  \n",
       "818       -0.42  11994.0              0.0831       13       0         48  \n",
       "824        0.00   8179.0             -2.8555        0       0         45  \n",
       "837       -0.23  13081.0             -4.4973       19       0         39  \n",
       "880        0.00   8840.0             -1.4014        0       0          9  \n",
       "\n",
       "[75 rows x 12 columns]"
      ]
     },
     "execution_count": 12,
     "metadata": {},
     "output_type": "execute_result"
    }
   ],
   "source": [
    "# pandas 의 boolean Indexing을 사용해서\n",
    "# 국내 시장지수(etfTabCode == 1)의 데이터들만 확인하여 봅니다.\n",
    "# 조건문의 결과가 Index와  True, False 로 나오기 때문에 boolean Indexing 이라 부릅니다.\n",
    "df[df[\"etfTabCode\"] == 1]\n",
    "# df[df[\"etfTabCode\"] == 4].sort_values('quant', ascending=False)"
   ]
  },
  {
   "cell_type": "code",
   "execution_count": null,
   "metadata": {},
   "outputs": [],
   "source": []
  },
  {
   "cell_type": "markdown",
   "metadata": {
    "id": "SAp8CMEYNw8H"
   },
   "source": [
    "### 데이터 전처리\n",
    "### etfTabName 만들기"
   ]
  },
  {
   "cell_type": "code",
   "execution_count": 13,
   "metadata": {},
   "outputs": [
    {
     "name": "stdout",
     "output_type": "stream",
     "text": [
      "['전체', '국내 시장지수', '국내 업종/테마', '국내 파생', '해외 주식', '원자재', '채권', '기타']\n"
     ]
    }
   ],
   "source": [
    "print(\"\"\"전체\n",
    "국내 시장지수\n",
    "국내 업종/테마\n",
    "국내 파생\n",
    "해외 주식\n",
    "원자재\n",
    "채권\n",
    "기타\"\"\".split(\"\\n\"))"
   ]
  },
  {
   "cell_type": "code",
   "execution_count": 14,
   "metadata": {
    "id": "8YTSMwXgBYkq"
   },
   "outputs": [
    {
     "data": {
      "text/plain": [
       "'전체\\n국내 시장지수\\n국내 업종/테마\\n국내 파생\\n해외 주식\\n원자재\\n채권\\n기타'"
      ]
     },
     "execution_count": 14,
     "metadata": {},
     "output_type": "execute_result"
    }
   ],
   "source": [
    "# etf name을 구분하기 위한 list를 만듭니다.\n",
    "# \"\"\" 를 이용해 \\n을 포함하는 string을 만들고 split으로 나누어서 list를 간편히 만들수 있습니다.\n",
    "etfcode = \"\"\"전체\n",
    "국내 시장지수\n",
    "국내 업종/테마\n",
    "국내 파생\n",
    "해외 주식\n",
    "원자재\n",
    "채권\n",
    "기타\"\"\"\n",
    "etfcode"
   ]
  },
  {
   "cell_type": "code",
   "execution_count": 15,
   "metadata": {
    "id": "H7AFA9ftBYkq"
   },
   "outputs": [
    {
     "data": {
      "text/plain": [
       "['전체', '국내 시장지수', '국내 업종/테마', '국내 파생', '해외 주식', '원자재', '채권', '기타']"
      ]
     },
     "execution_count": 15,
     "metadata": {},
     "output_type": "execute_result"
    }
   ],
   "source": [
    "# split으로 나누어 list형 데이터를 만듭니다.\n",
    "etf_tab_name = etfcode.split(\"\\n\")\n",
    "etf_tab_name"
   ]
  },
  {
   "cell_type": "code",
   "execution_count": 16,
   "metadata": {},
   "outputs": [],
   "source": [
    "def find_etf_tab_name(no):\n",
    "    return etf_tab_name[no]"
   ]
  },
  {
   "cell_type": "code",
   "execution_count": 17,
   "metadata": {},
   "outputs": [
    {
     "data": {
      "text/plain": [
       "'국내 업종/테마'"
      ]
     },
     "execution_count": 17,
     "metadata": {},
     "output_type": "execute_result"
    }
   ],
   "source": [
    "find_etf_tab_name(2)"
   ]
  },
  {
   "cell_type": "code",
   "execution_count": 18,
   "metadata": {},
   "outputs": [
    {
     "data": {
      "text/plain": [
       "0            채권\n",
       "1       국내 시장지수\n",
       "2            채권\n",
       "3            채권\n",
       "4         해외 주식\n",
       "         ...   \n",
       "876          채권\n",
       "877    국내 업종/테마\n",
       "878    국내 업종/테마\n",
       "879    국내 업종/테마\n",
       "880     국내 시장지수\n",
       "Name: etfTabCode, Length: 881, dtype: object"
      ]
     },
     "execution_count": 18,
     "metadata": {},
     "output_type": "execute_result"
    }
   ],
   "source": [
    "df[\"etfTabCode\"].map(lambda x : etf_tab_name[x])"
   ]
  },
  {
   "cell_type": "code",
   "execution_count": 19,
   "metadata": {
    "id": "LrmLD2j0BYkq"
   },
   "outputs": [],
   "source": [
    "# etfTabName 이름이 직관적이지 않기 때문에 한글로 변경해 줍니다.\n",
    "# map과 lambda 함수를 이용하여 etfTabCode column들의 각 cell의 내용에 따라\n",
    "# etf_tab_name list의 원소값에 따라 이름을 만들어 주고 etfTabName 이라는 새로운 컬럼을 생성합니다.\n",
    "# 즉 etfTabCode 숫자 -> list의 원소 인덱스로 한글 이름을 매핑해 줍니다. -> etfTabName에 한글로 저장\n",
    "df[\"etfTabName\"] = df[\"etfTabCode\"].map(lambda x : etf_tab_name[x])"
   ]
  },
  {
   "cell_type": "code",
   "execution_count": 20,
   "metadata": {
    "id": "ked6jOdgBYkq"
   },
   "outputs": [
    {
     "data": {
      "text/html": [
       "<div>\n",
       "<style scoped>\n",
       "    .dataframe tbody tr th:only-of-type {\n",
       "        vertical-align: middle;\n",
       "    }\n",
       "\n",
       "    .dataframe tbody tr th {\n",
       "        vertical-align: top;\n",
       "    }\n",
       "\n",
       "    .dataframe thead th {\n",
       "        text-align: right;\n",
       "    }\n",
       "</style>\n",
       "<table border=\"1\" class=\"dataframe\">\n",
       "  <thead>\n",
       "    <tr style=\"text-align: right;\">\n",
       "      <th></th>\n",
       "      <th>itemcode</th>\n",
       "      <th>etfTabCode</th>\n",
       "      <th>itemname</th>\n",
       "      <th>etfTabName</th>\n",
       "    </tr>\n",
       "  </thead>\n",
       "  <tbody>\n",
       "    <tr>\n",
       "      <th>1</th>\n",
       "      <td>069500</td>\n",
       "      <td>1</td>\n",
       "      <td>KODEX 200</td>\n",
       "      <td>국내 시장지수</td>\n",
       "    </tr>\n",
       "    <tr>\n",
       "      <th>10</th>\n",
       "      <td>278530</td>\n",
       "      <td>1</td>\n",
       "      <td>KODEX 200TR</td>\n",
       "      <td>국내 시장지수</td>\n",
       "    </tr>\n",
       "    <tr>\n",
       "      <th>14</th>\n",
       "      <td>102110</td>\n",
       "      <td>1</td>\n",
       "      <td>TIGER 200</td>\n",
       "      <td>국내 시장지수</td>\n",
       "    </tr>\n",
       "    <tr>\n",
       "      <th>25</th>\n",
       "      <td>148020</td>\n",
       "      <td>1</td>\n",
       "      <td>RISE 200</td>\n",
       "      <td>국내 시장지수</td>\n",
       "    </tr>\n",
       "    <tr>\n",
       "      <th>27</th>\n",
       "      <td>310970</td>\n",
       "      <td>1</td>\n",
       "      <td>TIGER MSCI Korea TR</td>\n",
       "      <td>국내 시장지수</td>\n",
       "    </tr>\n",
       "    <tr>\n",
       "      <th>...</th>\n",
       "      <td>...</td>\n",
       "      <td>...</td>\n",
       "      <td>...</td>\n",
       "      <td>...</td>\n",
       "    </tr>\n",
       "    <tr>\n",
       "      <th>816</th>\n",
       "      <td>391670</td>\n",
       "      <td>1</td>\n",
       "      <td>HK 베스트일레븐액티브</td>\n",
       "      <td>국내 시장지수</td>\n",
       "    </tr>\n",
       "    <tr>\n",
       "      <th>818</th>\n",
       "      <td>433250</td>\n",
       "      <td>1</td>\n",
       "      <td>UNICORN R&amp;D 액티브</td>\n",
       "      <td>국내 시장지수</td>\n",
       "    </tr>\n",
       "    <tr>\n",
       "      <th>824</th>\n",
       "      <td>391680</td>\n",
       "      <td>1</td>\n",
       "      <td>HK 하이볼액티브</td>\n",
       "      <td>국내 시장지수</td>\n",
       "    </tr>\n",
       "    <tr>\n",
       "      <th>837</th>\n",
       "      <td>301400</td>\n",
       "      <td>1</td>\n",
       "      <td>PLUS 코스닥150</td>\n",
       "      <td>국내 시장지수</td>\n",
       "    </tr>\n",
       "    <tr>\n",
       "      <th>880</th>\n",
       "      <td>402520</td>\n",
       "      <td>1</td>\n",
       "      <td>FOCUS 혁신기업액티브</td>\n",
       "      <td>국내 시장지수</td>\n",
       "    </tr>\n",
       "  </tbody>\n",
       "</table>\n",
       "<p>75 rows × 4 columns</p>\n",
       "</div>"
      ],
      "text/plain": [
       "    itemcode  etfTabCode             itemname etfTabName\n",
       "1     069500           1            KODEX 200    국내 시장지수\n",
       "10    278530           1          KODEX 200TR    국내 시장지수\n",
       "14    102110           1            TIGER 200    국내 시장지수\n",
       "25    148020           1             RISE 200    국내 시장지수\n",
       "27    310970           1  TIGER MSCI Korea TR    국내 시장지수\n",
       "..       ...         ...                  ...        ...\n",
       "816   391670           1         HK 베스트일레븐액티브    국내 시장지수\n",
       "818   433250           1      UNICORN R&D 액티브    국내 시장지수\n",
       "824   391680           1            HK 하이볼액티브    국내 시장지수\n",
       "837   301400           1          PLUS 코스닥150    국내 시장지수\n",
       "880   402520           1        FOCUS 혁신기업액티브    국내 시장지수\n",
       "\n",
       "[75 rows x 4 columns]"
      ]
     },
     "execution_count": 20,
     "metadata": {},
     "output_type": "execute_result"
    }
   ],
   "source": [
    "# etfTabName column이 제대로 만들어졌는지 확인합니다.\n",
    "df.loc[df[\"etfTabCode\"] == 1, [\"itemcode\", \"etfTabCode\", \"itemname\", \"etfTabName\"]]#.head()"
   ]
  },
  {
   "cell_type": "markdown",
   "metadata": {},
   "source": [
    "* map : \n",
    "    * Series에서만 사용가능\n",
    "    * [Essential basic functionality — pandas documentation](https://pandas.pydata.org/docs/user_guide/basics.html?#applying-elementwise-functions)\n",
    "\n",
    "* apply :\n",
    "    * Series와 DataFrame 둘 다 사용가능\n",
    "    * [Essential basic functionality — pandas documentation](https://pandas.pydata.org/docs/user_guide/basics.html?#row-or-column-wise-function-application)\n",
    "    \n",
    "참고 : http://www.leejungmin.org/post/2018/04/21/pandas_apply_and_map/"
   ]
  },
  {
   "cell_type": "markdown",
   "metadata": {},
   "source": [
    "### 컬럼명 변경하기"
   ]
  },
  {
   "cell_type": "code",
   "execution_count": 21,
   "metadata": {},
   "outputs": [
    {
     "data": {
      "text/plain": [
       "'종목명\\n현재가\\n전일비\\n등락률\\nNAV\\n3개월수익률\\n거래량\\n거래대금(백만)\\n시가총액(억)'"
      ]
     },
     "execution_count": 21,
     "metadata": {},
     "output_type": "execute_result"
    }
   ],
   "source": [
    "\"\"\"종목명\n",
    "현재가\n",
    "전일비\n",
    "등락률\n",
    "NAV\n",
    "3개월수익률\n",
    "거래량\n",
    "거래대금(백만)\n",
    "시가총액(억)\"\"\""
   ]
  },
  {
   "cell_type": "code",
   "execution_count": 22,
   "metadata": {},
   "outputs": [
    {
     "data": {
      "text/plain": [
       "Index(['itemcode', 'etfTabCode', 'itemname', 'nowVal', 'risefall', 'changeVal',\n",
       "       'changeRate', 'nav', 'threeMonthEarnRate', 'quant', 'amonut',\n",
       "       'marketSum', 'etfTabName'],\n",
       "      dtype='object')"
      ]
     },
     "execution_count": 22,
     "metadata": {},
     "output_type": "execute_result"
    }
   ],
   "source": [
    "df.columns"
   ]
  },
  {
   "cell_type": "code",
   "execution_count": 23,
   "metadata": {
    "id": "hmI_1aqBBYkq"
   },
   "outputs": [
    {
     "data": {
      "text/plain": [
       "['itemcode',\n",
       " 'etfTabCode',\n",
       " 'itemname',\n",
       " 'nowVal',\n",
       " 'risefall',\n",
       " 'changeVal',\n",
       " 'changeRate',\n",
       " 'nav',\n",
       " 'threeMonthEarnRate',\n",
       " 'quant',\n",
       " 'amonut',\n",
       " 'marketSum',\n",
       " 'etfTabName']"
      ]
     },
     "execution_count": 23,
     "metadata": {},
     "output_type": "execute_result"
    }
   ],
   "source": [
    "# DataFrame df의 column 이름을 list로 만들어서 cols 라는 변수에 담습니다.\n",
    "cols = df.columns.tolist()\n",
    "cols"
   ]
  },
  {
   "cell_type": "code",
   "execution_count": 24,
   "metadata": {
    "id": "1TF4kMp1BYkq"
   },
   "outputs": [
    {
     "data": {
      "text/plain": [
       "['종목코드',\n",
       " '탭코드',\n",
       " '종목명',\n",
       " '현재가',\n",
       " '등락구분',\n",
       " '전일비',\n",
       " '등락률',\n",
       " '순자산가치(NAV)',\n",
       " '3개월수익률',\n",
       " '거래량',\n",
       " '거래대금(백만)',\n",
       " '시가총액(억)',\n",
       " '유형']"
      ]
     },
     "execution_count": 24,
     "metadata": {},
     "output_type": "execute_result"
    }
   ],
   "source": [
    "# 영어로 되어있는 column 이름을 한글로 바꾸기 위한 list를 만듭니다.\n",
    "# 빠진 column이 있는지 리스트와 길이를 확인합니다.\n",
    "col_name = \"\"\"종목코드\n",
    "탭코드\n",
    "종목명\n",
    "현재가\n",
    "등락구분\n",
    "전일비\n",
    "등락률\n",
    "순자산가치(NAV)\n",
    "3개월수익률\n",
    "거래량\n",
    "거래대금(백만)\n",
    "시가총액(억)\n",
    "유형\"\"\"\n",
    "col_name = col_name.split(\"\\n\")\n",
    "col_name"
   ]
  },
  {
   "cell_type": "markdown",
   "metadata": {},
   "source": [
    "- 참고 : [zip() 함수](https://ooyoung.tistory.com/60)"
   ]
  },
  {
   "cell_type": "code",
   "execution_count": 25,
   "metadata": {},
   "outputs": [
    {
     "data": {
      "text/plain": [
       "<zip at 0x10d73e580>"
      ]
     },
     "execution_count": 25,
     "metadata": {},
     "output_type": "execute_result"
    }
   ],
   "source": [
    "zip(cols, col_name)"
   ]
  },
  {
   "cell_type": "code",
   "execution_count": 26,
   "metadata": {
    "id": "3N22l3f6BYkr"
   },
   "outputs": [
    {
     "data": {
      "text/plain": [
       "{'itemcode': '종목코드',\n",
       " 'etfTabCode': '탭코드',\n",
       " 'itemname': '종목명',\n",
       " 'nowVal': '현재가',\n",
       " 'risefall': '등락구분',\n",
       " 'changeVal': '전일비',\n",
       " 'changeRate': '등락률',\n",
       " 'nav': '순자산가치(NAV)',\n",
       " 'threeMonthEarnRate': '3개월수익률',\n",
       " 'quant': '거래량',\n",
       " 'amonut': '거래대금(백만)',\n",
       " 'marketSum': '시가총액(억)',\n",
       " 'etfTabName': '유형'}"
      ]
     },
     "execution_count": 26,
     "metadata": {},
     "output_type": "execute_result"
    }
   ],
   "source": [
    "# 컬럼 영문명과 한글명을 딕셔너리 형태로 만들어 비교해 볼 수도 있습니다.\n",
    "# 하지만 좀 더 간단하게 여기에서는 리스트 값을 그대로 컬럼에 넣어주는 방법을 사용할거에요.\n",
    "# 딕셔너리로 키-값 쌍을 만들어 컬럼의 키와 값이 잘 매치되었는지 확인해 봅니다.\n",
    "dict(zip(cols, col_name))"
   ]
  },
  {
   "cell_type": "code",
   "execution_count": 27,
   "metadata": {
    "id": "ieQ9S3L-BYkr"
   },
   "outputs": [
    {
     "data": {
      "text/html": [
       "<div>\n",
       "<style scoped>\n",
       "    .dataframe tbody tr th:only-of-type {\n",
       "        vertical-align: middle;\n",
       "    }\n",
       "\n",
       "    .dataframe tbody tr th {\n",
       "        vertical-align: top;\n",
       "    }\n",
       "\n",
       "    .dataframe thead th {\n",
       "        text-align: right;\n",
       "    }\n",
       "</style>\n",
       "<table border=\"1\" class=\"dataframe\">\n",
       "  <thead>\n",
       "    <tr style=\"text-align: right;\">\n",
       "      <th></th>\n",
       "      <th>종목코드</th>\n",
       "      <th>탭코드</th>\n",
       "      <th>종목명</th>\n",
       "      <th>현재가</th>\n",
       "      <th>등락구분</th>\n",
       "      <th>전일비</th>\n",
       "      <th>등락률</th>\n",
       "      <th>순자산가치(NAV)</th>\n",
       "      <th>3개월수익률</th>\n",
       "      <th>거래량</th>\n",
       "      <th>거래대금(백만)</th>\n",
       "      <th>시가총액(억)</th>\n",
       "      <th>유형</th>\n",
       "    </tr>\n",
       "  </thead>\n",
       "  <tbody>\n",
       "    <tr>\n",
       "      <th>0</th>\n",
       "      <td>459580</td>\n",
       "      <td>6</td>\n",
       "      <td>KODEX CD금리액티브(합성)</td>\n",
       "      <td>1046085</td>\n",
       "      <td>2</td>\n",
       "      <td>230</td>\n",
       "      <td>0.02</td>\n",
       "      <td>1046089.0</td>\n",
       "      <td>0.8972</td>\n",
       "      <td>195638</td>\n",
       "      <td>204654</td>\n",
       "      <td>93402</td>\n",
       "      <td>채권</td>\n",
       "    </tr>\n",
       "    <tr>\n",
       "      <th>1</th>\n",
       "      <td>069500</td>\n",
       "      <td>1</td>\n",
       "      <td>KODEX 200</td>\n",
       "      <td>36820</td>\n",
       "      <td>5</td>\n",
       "      <td>-115</td>\n",
       "      <td>-0.31</td>\n",
       "      <td>36885.0</td>\n",
       "      <td>-0.4931</td>\n",
       "      <td>1101467</td>\n",
       "      <td>40510</td>\n",
       "      <td>61140</td>\n",
       "      <td>국내 시장지수</td>\n",
       "    </tr>\n",
       "    <tr>\n",
       "      <th>2</th>\n",
       "      <td>357870</td>\n",
       "      <td>6</td>\n",
       "      <td>TIGER CD금리투자KIS(합성)</td>\n",
       "      <td>54825</td>\n",
       "      <td>3</td>\n",
       "      <td>0</td>\n",
       "      <td>0.00</td>\n",
       "      <td>54828.0</td>\n",
       "      <td>0.9110</td>\n",
       "      <td>25319</td>\n",
       "      <td>1388</td>\n",
       "      <td>61007</td>\n",
       "      <td>채권</td>\n",
       "    </tr>\n",
       "    <tr>\n",
       "      <th>3</th>\n",
       "      <td>423160</td>\n",
       "      <td>6</td>\n",
       "      <td>KODEX KOFR금리액티브(합성)</td>\n",
       "      <td>107820</td>\n",
       "      <td>2</td>\n",
       "      <td>30</td>\n",
       "      <td>0.03</td>\n",
       "      <td>107779.0</td>\n",
       "      <td>0.8939</td>\n",
       "      <td>16807</td>\n",
       "      <td>1812</td>\n",
       "      <td>45037</td>\n",
       "      <td>채권</td>\n",
       "    </tr>\n",
       "    <tr>\n",
       "      <th>4</th>\n",
       "      <td>360750</td>\n",
       "      <td>4</td>\n",
       "      <td>TIGER 미국S&amp;P500</td>\n",
       "      <td>18650</td>\n",
       "      <td>5</td>\n",
       "      <td>-35</td>\n",
       "      <td>-0.19</td>\n",
       "      <td>18599.0</td>\n",
       "      <td>3.6730</td>\n",
       "      <td>4820460</td>\n",
       "      <td>89909</td>\n",
       "      <td>43184</td>\n",
       "      <td>해외 주식</td>\n",
       "    </tr>\n",
       "  </tbody>\n",
       "</table>\n",
       "</div>"
      ],
      "text/plain": [
       "     종목코드  탭코드                  종목명      현재가  등락구분  전일비   등락률  순자산가치(NAV)  \\\n",
       "0  459580    6    KODEX CD금리액티브(합성)  1046085     2  230  0.02   1046089.0   \n",
       "1  069500    1            KODEX 200    36820     5 -115 -0.31     36885.0   \n",
       "2  357870    6  TIGER CD금리투자KIS(합성)    54825     3    0  0.00     54828.0   \n",
       "3  423160    6  KODEX KOFR금리액티브(합성)   107820     2   30  0.03    107779.0   \n",
       "4  360750    4       TIGER 미국S&P500    18650     5  -35 -0.19     18599.0   \n",
       "\n",
       "   3개월수익률      거래량  거래대금(백만)  시가총액(억)       유형  \n",
       "0  0.8972   195638    204654    93402       채권  \n",
       "1 -0.4931  1101467     40510    61140  국내 시장지수  \n",
       "2  0.9110    25319      1388    61007       채권  \n",
       "3  0.8939    16807      1812    45037       채권  \n",
       "4  3.6730  4820460     89909    43184    해외 주식  "
      ]
     },
     "execution_count": 27,
     "metadata": {},
     "output_type": "execute_result"
    }
   ],
   "source": [
    "# 기존의 데이터프레임 컬럼명에 위에서 만든 컬럼명을 할당연산자로 대입해 주면 컬럼명이 변경됩니다.\n",
    "# 컬럼 변경 후 한글로 컬럼명이 잘 변경되었는지 확인해 봅니다.\n",
    "df.columns = col_name\n",
    "df.head()"
   ]
  },
  {
   "cell_type": "code",
   "execution_count": null,
   "metadata": {},
   "outputs": [],
   "source": []
  },
  {
   "cell_type": "markdown",
   "metadata": {},
   "source": [
    "### 파생변수 만들기\n",
    "* 브랜드, 인버스, 레버리지, 환헤지H 변수 만들기\n",
    "* [Working with text data — pandas documentation](https://pandas.pydata.org/docs/user_guide/text.html)"
   ]
  },
  {
   "cell_type": "code",
   "execution_count": 28,
   "metadata": {},
   "outputs": [
    {
     "name": "stdout",
     "output_type": "stream",
     "text": [
      "\u001b[0;31mSignature:\u001b[0m \u001b[0mstr\u001b[0m\u001b[0;34m.\u001b[0m\u001b[0msplit\u001b[0m\u001b[0;34m(\u001b[0m\u001b[0mself\u001b[0m\u001b[0;34m,\u001b[0m \u001b[0;34m/\u001b[0m\u001b[0;34m,\u001b[0m \u001b[0msep\u001b[0m\u001b[0;34m=\u001b[0m\u001b[0;32mNone\u001b[0m\u001b[0;34m,\u001b[0m \u001b[0mmaxsplit\u001b[0m\u001b[0;34m=\u001b[0m\u001b[0;34m-\u001b[0m\u001b[0;36m1\u001b[0m\u001b[0;34m)\u001b[0m\u001b[0;34m\u001b[0m\u001b[0;34m\u001b[0m\u001b[0m\n",
      "\u001b[0;31mDocstring:\u001b[0m\n",
      "Return a list of the words in the string, using sep as the delimiter string.\n",
      "\n",
      "sep\n",
      "  The delimiter according which to split the string.\n",
      "  None (the default value) means split according to any whitespace,\n",
      "  and discard empty strings from the result.\n",
      "maxsplit\n",
      "  Maximum number of splits to do.\n",
      "  -1 (the default value) means no limit.\n",
      "\u001b[0;31mType:\u001b[0m      method_descriptor"
     ]
    }
   ],
   "source": [
    "str.split?"
   ]
  },
  {
   "cell_type": "code",
   "execution_count": 29,
   "metadata": {},
   "outputs": [
    {
     "data": {
      "text/plain": [
       "['KODEX', '200']"
      ]
     },
     "execution_count": 29,
     "metadata": {},
     "output_type": "execute_result"
    }
   ],
   "source": [
    "\"KODEX 200\".split()#[0]"
   ]
  },
  {
   "cell_type": "code",
   "execution_count": 30,
   "metadata": {},
   "outputs": [
    {
     "data": {
      "text/plain": [
       "'200'"
      ]
     },
     "execution_count": 30,
     "metadata": {},
     "output_type": "execute_result"
    }
   ],
   "source": [
    "\"KODEX 200\".split()[1]"
   ]
  },
  {
   "cell_type": "code",
   "execution_count": 31,
   "metadata": {},
   "outputs": [
    {
     "data": {
      "text/plain": [
       "0      KODEX\n",
       "1      KODEX\n",
       "2      TIGER\n",
       "3      KODEX\n",
       "4      TIGER\n",
       "       ...  \n",
       "876     RISE\n",
       "877    TIGER\n",
       "878     PLUS\n",
       "879     PLUS\n",
       "880    FOCUS\n",
       "Name: 0, Length: 881, dtype: object"
      ]
     },
     "execution_count": 31,
     "metadata": {},
     "output_type": "execute_result"
    }
   ],
   "source": [
    "df[\"종목명\"].str.split(\" \", expand=True)[0]"
   ]
  },
  {
   "cell_type": "code",
   "execution_count": 32,
   "metadata": {},
   "outputs": [
    {
     "data": {
      "text/html": [
       "<div>\n",
       "<style scoped>\n",
       "    .dataframe tbody tr th:only-of-type {\n",
       "        vertical-align: middle;\n",
       "    }\n",
       "\n",
       "    .dataframe tbody tr th {\n",
       "        vertical-align: top;\n",
       "    }\n",
       "\n",
       "    .dataframe thead th {\n",
       "        text-align: right;\n",
       "    }\n",
       "</style>\n",
       "<table border=\"1\" class=\"dataframe\">\n",
       "  <thead>\n",
       "    <tr style=\"text-align: right;\">\n",
       "      <th></th>\n",
       "      <th>0</th>\n",
       "      <th>1</th>\n",
       "      <th>2</th>\n",
       "      <th>3</th>\n",
       "    </tr>\n",
       "  </thead>\n",
       "  <tbody>\n",
       "    <tr>\n",
       "      <th>0</th>\n",
       "      <td>KODEX</td>\n",
       "      <td>CD금리액티브(합성)</td>\n",
       "      <td>None</td>\n",
       "      <td>None</td>\n",
       "    </tr>\n",
       "    <tr>\n",
       "      <th>1</th>\n",
       "      <td>KODEX</td>\n",
       "      <td>200</td>\n",
       "      <td>None</td>\n",
       "      <td>None</td>\n",
       "    </tr>\n",
       "    <tr>\n",
       "      <th>2</th>\n",
       "      <td>TIGER</td>\n",
       "      <td>CD금리투자KIS(합성)</td>\n",
       "      <td>None</td>\n",
       "      <td>None</td>\n",
       "    </tr>\n",
       "    <tr>\n",
       "      <th>3</th>\n",
       "      <td>KODEX</td>\n",
       "      <td>KOFR금리액티브(합성)</td>\n",
       "      <td>None</td>\n",
       "      <td>None</td>\n",
       "    </tr>\n",
       "    <tr>\n",
       "      <th>4</th>\n",
       "      <td>TIGER</td>\n",
       "      <td>미국S&amp;P500</td>\n",
       "      <td>None</td>\n",
       "      <td>None</td>\n",
       "    </tr>\n",
       "    <tr>\n",
       "      <th>...</th>\n",
       "      <td>...</td>\n",
       "      <td>...</td>\n",
       "      <td>...</td>\n",
       "      <td>...</td>\n",
       "    </tr>\n",
       "    <tr>\n",
       "      <th>876</th>\n",
       "      <td>RISE</td>\n",
       "      <td>미국장기국채선물인버스(H)</td>\n",
       "      <td>None</td>\n",
       "      <td>None</td>\n",
       "    </tr>\n",
       "    <tr>\n",
       "      <th>877</th>\n",
       "      <td>TIGER</td>\n",
       "      <td>BBIG레버리지</td>\n",
       "      <td>None</td>\n",
       "      <td>None</td>\n",
       "    </tr>\n",
       "    <tr>\n",
       "      <th>878</th>\n",
       "      <td>PLUS</td>\n",
       "      <td>KS퀄리티가중TR</td>\n",
       "      <td>None</td>\n",
       "      <td>None</td>\n",
       "    </tr>\n",
       "    <tr>\n",
       "      <th>879</th>\n",
       "      <td>PLUS</td>\n",
       "      <td>K-유니콘투자기업액티브</td>\n",
       "      <td>None</td>\n",
       "      <td>None</td>\n",
       "    </tr>\n",
       "    <tr>\n",
       "      <th>880</th>\n",
       "      <td>FOCUS</td>\n",
       "      <td>혁신기업액티브</td>\n",
       "      <td>None</td>\n",
       "      <td>None</td>\n",
       "    </tr>\n",
       "  </tbody>\n",
       "</table>\n",
       "<p>881 rows × 4 columns</p>\n",
       "</div>"
      ],
      "text/plain": [
       "         0               1     2     3\n",
       "0    KODEX     CD금리액티브(합성)  None  None\n",
       "1    KODEX             200  None  None\n",
       "2    TIGER   CD금리투자KIS(합성)  None  None\n",
       "3    KODEX   KOFR금리액티브(합성)  None  None\n",
       "4    TIGER        미국S&P500  None  None\n",
       "..     ...             ...   ...   ...\n",
       "876   RISE  미국장기국채선물인버스(H)  None  None\n",
       "877  TIGER        BBIG레버리지  None  None\n",
       "878   PLUS       KS퀄리티가중TR  None  None\n",
       "879   PLUS    K-유니콘투자기업액티브  None  None\n",
       "880  FOCUS         혁신기업액티브  None  None\n",
       "\n",
       "[881 rows x 4 columns]"
      ]
     },
     "execution_count": 32,
     "metadata": {},
     "output_type": "execute_result"
    }
   ],
   "source": [
    "df[\"종목명\"].str.split(expand=True)"
   ]
  },
  {
   "cell_type": "code",
   "execution_count": 33,
   "metadata": {
    "id": "F-8P7v-3BYkr",
    "scrolled": true
   },
   "outputs": [
    {
     "data": {
      "text/html": [
       "<div>\n",
       "<style scoped>\n",
       "    .dataframe tbody tr th:only-of-type {\n",
       "        vertical-align: middle;\n",
       "    }\n",
       "\n",
       "    .dataframe tbody tr th {\n",
       "        vertical-align: top;\n",
       "    }\n",
       "\n",
       "    .dataframe thead th {\n",
       "        text-align: right;\n",
       "    }\n",
       "</style>\n",
       "<table border=\"1\" class=\"dataframe\">\n",
       "  <thead>\n",
       "    <tr style=\"text-align: right;\">\n",
       "      <th></th>\n",
       "      <th>브랜드</th>\n",
       "      <th>종목명</th>\n",
       "    </tr>\n",
       "  </thead>\n",
       "  <tbody>\n",
       "    <tr>\n",
       "      <th>0</th>\n",
       "      <td>KODEX</td>\n",
       "      <td>KODEX CD금리액티브(합성)</td>\n",
       "    </tr>\n",
       "    <tr>\n",
       "      <th>1</th>\n",
       "      <td>KODEX</td>\n",
       "      <td>KODEX 200</td>\n",
       "    </tr>\n",
       "    <tr>\n",
       "      <th>2</th>\n",
       "      <td>TIGER</td>\n",
       "      <td>TIGER CD금리투자KIS(합성)</td>\n",
       "    </tr>\n",
       "    <tr>\n",
       "      <th>3</th>\n",
       "      <td>KODEX</td>\n",
       "      <td>KODEX KOFR금리액티브(합성)</td>\n",
       "    </tr>\n",
       "    <tr>\n",
       "      <th>4</th>\n",
       "      <td>TIGER</td>\n",
       "      <td>TIGER 미국S&amp;P500</td>\n",
       "    </tr>\n",
       "  </tbody>\n",
       "</table>\n",
       "</div>"
      ],
      "text/plain": [
       "     브랜드                  종목명\n",
       "0  KODEX    KODEX CD금리액티브(합성)\n",
       "1  KODEX            KODEX 200\n",
       "2  TIGER  TIGER CD금리투자KIS(합성)\n",
       "3  KODEX  KODEX KOFR금리액티브(합성)\n",
       "4  TIGER       TIGER 미국S&P500"
      ]
     },
     "execution_count": 33,
     "metadata": {},
     "output_type": "execute_result"
    }
   ],
   "source": [
    "# 종목명 column의 데이터를 space(\" \")를 이용해 나누고 제일 앞부분[0]을 새로운 column을 만들어 저장하고 확인합니다.\n",
    "# expand = True 옵션을 사용하면 문자열을 나눈 값을 인덱스 순서대로 가져와서 사용할 수 있습니다.\n",
    "# df[\"브랜드\"]\n",
    "df[\"브랜드\"] = df[\"종목명\"].str.split(\" \", expand=True)[0]\n",
    "df[[\"브랜드\", \"종목명\"]].head()"
   ]
  },
  {
   "cell_type": "markdown",
   "metadata": {
    "id": "d0YQdJoABYkr"
   },
   "source": [
    "* 종목명 column의 내용중이 '인버스'라는 단어가 있으면 새로운 column '인버스'에 True 값이 들어가게 됩니다.\n",
    "* contains는 bool type을 반환하기 때문에 새로운 column에는 True나 False가 들어가게 됩니다.\n",
    "* 마찬가지로 '레버리지'와 '환헤지H'에 대해서도 동일하게 만들어 줍니다. \n",
    "* H라는 단어가 종목명에 들어갈 수도 있기 때문에 H뒤에 닫는 소괄호\")\"까지 확인합니다.\n",
    "* 소괄호는 정규표현식에서 의미를 가지는 문자이기 때문에 문자 그대로 읽어오기 위해서는 \"\\\"로 전처리가 필요합니다."
   ]
  },
  {
   "cell_type": "code",
   "execution_count": 34,
   "metadata": {},
   "outputs": [
    {
     "data": {
      "text/plain": [
       "0      False\n",
       "1      False\n",
       "2      False\n",
       "3      False\n",
       "4      False\n",
       "       ...  \n",
       "876     True\n",
       "877    False\n",
       "878    False\n",
       "879    False\n",
       "880    False\n",
       "Name: 종목명, Length: 881, dtype: bool"
      ]
     },
     "execution_count": 34,
     "metadata": {},
     "output_type": "execute_result"
    }
   ],
   "source": [
    "df[\"종목명\"].str.contains(\"인버스\")"
   ]
  },
  {
   "cell_type": "code",
   "execution_count": 35,
   "metadata": {
    "id": "d0YQdJoABYkr"
   },
   "outputs": [
    {
     "data": {
      "text/plain": [
       "인버스\n",
       "False    95.005675\n",
       "True      4.994325\n",
       "Name: proportion, dtype: float64"
      ]
     },
     "execution_count": 35,
     "metadata": {},
     "output_type": "execute_result"
    }
   ],
   "source": [
    "# 인버스ETF는 지수가 하락하면 오히려 수익률이 오르도록 설계된 상품입니다.\n",
    "df[\"인버스\"] = df[\"종목명\"].str.contains(\"인버스\")\n",
    "df[\"인버스\"].value_counts(normalize=True) * 100"
   ]
  },
  {
   "cell_type": "markdown",
   "metadata": {},
   "source": [
    "레버리지(leverage)는 타인의 자본을 지렛대처럼 이용하여 자기 자본의 이익률을 높이는 것이다.\n",
    "\n",
    "* 출처 : [레버리지](https://ko.wikipedia.org/wiki/%EC%83%81%EC%9E%A5%EC%A7%80%EC%88%98_%ED%8E%80%EB%93%9C#%EB%A0%88%EB%B2%84%EB%A6%AC%EC%A7%80_ETF)"
   ]
  },
  {
   "cell_type": "code",
   "execution_count": 36,
   "metadata": {
    "id": "d0YQdJoABYkr"
   },
   "outputs": [
    {
     "data": {
      "text/plain": [
       "레버리지\n",
       "False    94.551646\n",
       "True      5.448354\n",
       "Name: proportion, dtype: float64"
      ]
     },
     "execution_count": 36,
     "metadata": {},
     "output_type": "execute_result"
    }
   ],
   "source": [
    "df[\"레버리지\"] = df[\"종목명\"].str.contains(\"레버리지\")\n",
    "df[\"레버리지\"].value_counts(normalize=True) * 100"
   ]
  },
  {
   "cell_type": "markdown",
   "metadata": {},
   "source": [
    "헤지(hedge)란 환율, 금리 또는 다른 자산에 대한 투자등을 통해 보유하고 있는 위험자산의 가격변동을 제거하는 것을 말한다. 즉, 확정되지 않은 자산을 확정된 자산으로 편입하는 과정이라 할 수 있으며, 주로 선물 옵션과 같은 파생상품을 이용한다. 이를 통해 체계적 위험을 제거할 수 있다.\n",
    "\n",
    "부(wealth)를 결정하는 변수값의 변화와 관계없이 항상 일정한 부를 유지하게 하는 헤지를 완전헤지라고 하고, 그렇지 못한 것을 불완전헤지라고 한다.\n",
    "* 출처 : [환헤지](https://m.post.naver.com/viewer/postView.nhn?volumeNo=30732948&memberNo=32787516)"
   ]
  },
  {
   "cell_type": "code",
   "execution_count": 37,
   "metadata": {
    "id": "d0YQdJoABYkr"
   },
   "outputs": [
    {
     "data": {
      "text/plain": [
       "환헤지H\n",
       "False    89.330306\n",
       "True     10.669694\n",
       "Name: proportion, dtype: float64"
      ]
     },
     "execution_count": 37,
     "metadata": {},
     "output_type": "execute_result"
    }
   ],
   "source": [
    "# (H)의 의미는 환율변동 위험을 막기 위해 Hedge를 한다는 뜻이다.\n",
    "df[\"환헤지H\"] = df[\"종목명\"].str.endswith(\"H)\")\n",
    "df[\"환헤지H\"].value_counts(normalize=True) * 100"
   ]
  },
  {
   "cell_type": "code",
   "execution_count": 38,
   "metadata": {
    "id": "d0YQdJoABYkr"
   },
   "outputs": [
    {
     "data": {
      "text/html": [
       "<div>\n",
       "<style scoped>\n",
       "    .dataframe tbody tr th:only-of-type {\n",
       "        vertical-align: middle;\n",
       "    }\n",
       "\n",
       "    .dataframe tbody tr th {\n",
       "        vertical-align: top;\n",
       "    }\n",
       "\n",
       "    .dataframe thead th {\n",
       "        text-align: right;\n",
       "    }\n",
       "</style>\n",
       "<table border=\"1\" class=\"dataframe\">\n",
       "  <thead>\n",
       "    <tr style=\"text-align: right;\">\n",
       "      <th></th>\n",
       "      <th>종목명</th>\n",
       "      <th>환헤지H</th>\n",
       "    </tr>\n",
       "  </thead>\n",
       "  <tbody>\n",
       "    <tr>\n",
       "      <th>18</th>\n",
       "      <td>ACE 미국30년국채액티브(H)</td>\n",
       "      <td>True</td>\n",
       "    </tr>\n",
       "    <tr>\n",
       "      <th>43</th>\n",
       "      <td>TIGER 미국30년국채프리미엄액티브(H)</td>\n",
       "      <td>True</td>\n",
       "    </tr>\n",
       "    <tr>\n",
       "      <th>60</th>\n",
       "      <td>KODEX 미국빅테크10(H)</td>\n",
       "      <td>True</td>\n",
       "    </tr>\n",
       "    <tr>\n",
       "      <th>62</th>\n",
       "      <td>TIGER 미국30년국채스트립액티브(합성 H)</td>\n",
       "      <td>True</td>\n",
       "    </tr>\n",
       "    <tr>\n",
       "      <th>97</th>\n",
       "      <td>RISE 미국30년국채엔화노출(합성 H)</td>\n",
       "      <td>True</td>\n",
       "    </tr>\n",
       "  </tbody>\n",
       "</table>\n",
       "</div>"
      ],
      "text/plain": [
       "                          종목명  환헤지H\n",
       "18          ACE 미국30년국채액티브(H)  True\n",
       "43    TIGER 미국30년국채프리미엄액티브(H)  True\n",
       "60           KODEX 미국빅테크10(H)  True\n",
       "62  TIGER 미국30년국채스트립액티브(합성 H)  True\n",
       "97     RISE 미국30년국채엔화노출(합성 H)  True"
      ]
     },
     "execution_count": 38,
     "metadata": {},
     "output_type": "execute_result"
    }
   ],
   "source": [
    "df.loc[df[\"환헤지H\"] == True, [\"종목명\", \"환헤지H\"]].head()"
   ]
  },
  {
   "cell_type": "markdown",
   "metadata": {},
   "source": [
    "### 전처리가 잘 되었는지 확인하기"
   ]
  },
  {
   "cell_type": "code",
   "execution_count": 39,
   "metadata": {},
   "outputs": [
    {
     "data": {
      "text/plain": [
       "등락구분\n",
       "5    490\n",
       "2    302\n",
       "3     89\n",
       "Name: count, dtype: int64"
      ]
     },
     "execution_count": 39,
     "metadata": {},
     "output_type": "execute_result"
    }
   ],
   "source": [
    "# 등락구분에 있는 값의 빈도수를 세어봅니다.\n",
    "# 5 : -, 2 : +, 3 : 0\n",
    "df[\"등락구분\"].value_counts()"
   ]
  },
  {
   "cell_type": "code",
   "execution_count": 40,
   "metadata": {
    "id": "MCaYBOfYBYkr"
   },
   "outputs": [
    {
     "name": "stdout",
     "output_type": "stream",
     "text": [
      "<class 'pandas.core.frame.DataFrame'>\n",
      "RangeIndex: 881 entries, 0 to 880\n",
      "Data columns (total 17 columns):\n",
      " #   Column      Non-Null Count  Dtype  \n",
      "---  ------      --------------  -----  \n",
      " 0   종목코드        881 non-null    object \n",
      " 1   탭코드         881 non-null    int64  \n",
      " 2   종목명         881 non-null    object \n",
      " 3   현재가         881 non-null    int64  \n",
      " 4   등락구분        881 non-null    int64  \n",
      " 5   전일비         881 non-null    int64  \n",
      " 6   등락률         881 non-null    float64\n",
      " 7   순자산가치(NAV)  881 non-null    float64\n",
      " 8   3개월수익률      839 non-null    float64\n",
      " 9   거래량         881 non-null    int64  \n",
      " 10  거래대금(백만)    881 non-null    int64  \n",
      " 11  시가총액(억)     881 non-null    int64  \n",
      " 12  유형          881 non-null    object \n",
      " 13  브랜드         881 non-null    object \n",
      " 14  인버스         881 non-null    bool   \n",
      " 15  레버리지        881 non-null    bool   \n",
      " 16  환헤지H        881 non-null    bool   \n",
      "dtypes: bool(3), float64(3), int64(7), object(4)\n",
      "memory usage: 99.1+ KB\n"
     ]
    }
   ],
   "source": [
    "# 전체적으로 데이터 전처리가 끝났다면 info를 통해 데이터 요약정보 보기\n",
    "df.info()"
   ]
  },
  {
   "cell_type": "code",
   "execution_count": 41,
   "metadata": {},
   "outputs": [
    {
     "data": {
      "text/html": [
       "<div>\n",
       "<style scoped>\n",
       "    .dataframe tbody tr th:only-of-type {\n",
       "        vertical-align: middle;\n",
       "    }\n",
       "\n",
       "    .dataframe tbody tr th {\n",
       "        vertical-align: top;\n",
       "    }\n",
       "\n",
       "    .dataframe thead th {\n",
       "        text-align: right;\n",
       "    }\n",
       "</style>\n",
       "<table border=\"1\" class=\"dataframe\">\n",
       "  <thead>\n",
       "    <tr style=\"text-align: right;\">\n",
       "      <th></th>\n",
       "      <th>종목코드</th>\n",
       "      <th>탭코드</th>\n",
       "      <th>종목명</th>\n",
       "      <th>현재가</th>\n",
       "      <th>등락구분</th>\n",
       "      <th>전일비</th>\n",
       "      <th>등락률</th>\n",
       "      <th>순자산가치(NAV)</th>\n",
       "      <th>3개월수익률</th>\n",
       "      <th>거래량</th>\n",
       "      <th>거래대금(백만)</th>\n",
       "      <th>시가총액(억)</th>\n",
       "      <th>유형</th>\n",
       "      <th>브랜드</th>\n",
       "      <th>인버스</th>\n",
       "      <th>레버리지</th>\n",
       "      <th>환헤지H</th>\n",
       "    </tr>\n",
       "  </thead>\n",
       "  <tbody>\n",
       "    <tr>\n",
       "      <th>0</th>\n",
       "      <td>459580</td>\n",
       "      <td>6</td>\n",
       "      <td>KODEX CD금리액티브(합성)</td>\n",
       "      <td>1046085</td>\n",
       "      <td>2</td>\n",
       "      <td>230</td>\n",
       "      <td>0.02</td>\n",
       "      <td>1046089.0</td>\n",
       "      <td>0.8972</td>\n",
       "      <td>195638</td>\n",
       "      <td>204654</td>\n",
       "      <td>93402</td>\n",
       "      <td>채권</td>\n",
       "      <td>KODEX</td>\n",
       "      <td>False</td>\n",
       "      <td>False</td>\n",
       "      <td>False</td>\n",
       "    </tr>\n",
       "    <tr>\n",
       "      <th>1</th>\n",
       "      <td>069500</td>\n",
       "      <td>1</td>\n",
       "      <td>KODEX 200</td>\n",
       "      <td>36820</td>\n",
       "      <td>5</td>\n",
       "      <td>-115</td>\n",
       "      <td>-0.31</td>\n",
       "      <td>36885.0</td>\n",
       "      <td>-0.4931</td>\n",
       "      <td>1101467</td>\n",
       "      <td>40510</td>\n",
       "      <td>61140</td>\n",
       "      <td>국내 시장지수</td>\n",
       "      <td>KODEX</td>\n",
       "      <td>False</td>\n",
       "      <td>False</td>\n",
       "      <td>False</td>\n",
       "    </tr>\n",
       "    <tr>\n",
       "      <th>2</th>\n",
       "      <td>357870</td>\n",
       "      <td>6</td>\n",
       "      <td>TIGER CD금리투자KIS(합성)</td>\n",
       "      <td>54825</td>\n",
       "      <td>3</td>\n",
       "      <td>0</td>\n",
       "      <td>0.00</td>\n",
       "      <td>54828.0</td>\n",
       "      <td>0.9110</td>\n",
       "      <td>25319</td>\n",
       "      <td>1388</td>\n",
       "      <td>61007</td>\n",
       "      <td>채권</td>\n",
       "      <td>TIGER</td>\n",
       "      <td>False</td>\n",
       "      <td>False</td>\n",
       "      <td>False</td>\n",
       "    </tr>\n",
       "    <tr>\n",
       "      <th>3</th>\n",
       "      <td>423160</td>\n",
       "      <td>6</td>\n",
       "      <td>KODEX KOFR금리액티브(합성)</td>\n",
       "      <td>107820</td>\n",
       "      <td>2</td>\n",
       "      <td>30</td>\n",
       "      <td>0.03</td>\n",
       "      <td>107779.0</td>\n",
       "      <td>0.8939</td>\n",
       "      <td>16807</td>\n",
       "      <td>1812</td>\n",
       "      <td>45037</td>\n",
       "      <td>채권</td>\n",
       "      <td>KODEX</td>\n",
       "      <td>False</td>\n",
       "      <td>False</td>\n",
       "      <td>False</td>\n",
       "    </tr>\n",
       "    <tr>\n",
       "      <th>4</th>\n",
       "      <td>360750</td>\n",
       "      <td>4</td>\n",
       "      <td>TIGER 미국S&amp;P500</td>\n",
       "      <td>18650</td>\n",
       "      <td>5</td>\n",
       "      <td>-35</td>\n",
       "      <td>-0.19</td>\n",
       "      <td>18599.0</td>\n",
       "      <td>3.6730</td>\n",
       "      <td>4820460</td>\n",
       "      <td>89909</td>\n",
       "      <td>43184</td>\n",
       "      <td>해외 주식</td>\n",
       "      <td>TIGER</td>\n",
       "      <td>False</td>\n",
       "      <td>False</td>\n",
       "      <td>False</td>\n",
       "    </tr>\n",
       "    <tr>\n",
       "      <th>...</th>\n",
       "      <td>...</td>\n",
       "      <td>...</td>\n",
       "      <td>...</td>\n",
       "      <td>...</td>\n",
       "      <td>...</td>\n",
       "      <td>...</td>\n",
       "      <td>...</td>\n",
       "      <td>...</td>\n",
       "      <td>...</td>\n",
       "      <td>...</td>\n",
       "      <td>...</td>\n",
       "      <td>...</td>\n",
       "      <td>...</td>\n",
       "      <td>...</td>\n",
       "      <td>...</td>\n",
       "      <td>...</td>\n",
       "      <td>...</td>\n",
       "    </tr>\n",
       "    <tr>\n",
       "      <th>876</th>\n",
       "      <td>267450</td>\n",
       "      <td>6</td>\n",
       "      <td>RISE 미국장기국채선물인버스(H)</td>\n",
       "      <td>10160</td>\n",
       "      <td>3</td>\n",
       "      <td>0</td>\n",
       "      <td>0.00</td>\n",
       "      <td>10216.0</td>\n",
       "      <td>-5.6639</td>\n",
       "      <td>0</td>\n",
       "      <td>0</td>\n",
       "      <td>20</td>\n",
       "      <td>채권</td>\n",
       "      <td>RISE</td>\n",
       "      <td>True</td>\n",
       "      <td>False</td>\n",
       "      <td>True</td>\n",
       "    </tr>\n",
       "    <tr>\n",
       "      <th>877</th>\n",
       "      <td>412560</td>\n",
       "      <td>2</td>\n",
       "      <td>TIGER BBIG레버리지</td>\n",
       "      <td>2190</td>\n",
       "      <td>5</td>\n",
       "      <td>-10</td>\n",
       "      <td>-0.45</td>\n",
       "      <td>2199.0</td>\n",
       "      <td>0.9174</td>\n",
       "      <td>1411</td>\n",
       "      <td>3</td>\n",
       "      <td>18</td>\n",
       "      <td>국내 업종/테마</td>\n",
       "      <td>TIGER</td>\n",
       "      <td>False</td>\n",
       "      <td>True</td>\n",
       "      <td>False</td>\n",
       "    </tr>\n",
       "    <tr>\n",
       "      <th>878</th>\n",
       "      <td>333980</td>\n",
       "      <td>2</td>\n",
       "      <td>PLUS KS퀄리티가중TR</td>\n",
       "      <td>15230</td>\n",
       "      <td>2</td>\n",
       "      <td>20</td>\n",
       "      <td>0.13</td>\n",
       "      <td>15266.0</td>\n",
       "      <td>0.3960</td>\n",
       "      <td>4</td>\n",
       "      <td>0</td>\n",
       "      <td>15</td>\n",
       "      <td>국내 업종/테마</td>\n",
       "      <td>PLUS</td>\n",
       "      <td>False</td>\n",
       "      <td>False</td>\n",
       "      <td>False</td>\n",
       "    </tr>\n",
       "    <tr>\n",
       "      <th>879</th>\n",
       "      <td>436180</td>\n",
       "      <td>2</td>\n",
       "      <td>PLUS K-유니콘투자기업액티브</td>\n",
       "      <td>9975</td>\n",
       "      <td>2</td>\n",
       "      <td>25</td>\n",
       "      <td>0.25</td>\n",
       "      <td>9987.0</td>\n",
       "      <td>-3.5853</td>\n",
       "      <td>1</td>\n",
       "      <td>0</td>\n",
       "      <td>10</td>\n",
       "      <td>국내 업종/테마</td>\n",
       "      <td>PLUS</td>\n",
       "      <td>False</td>\n",
       "      <td>False</td>\n",
       "      <td>False</td>\n",
       "    </tr>\n",
       "    <tr>\n",
       "      <th>880</th>\n",
       "      <td>402520</td>\n",
       "      <td>1</td>\n",
       "      <td>FOCUS 혁신기업액티브</td>\n",
       "      <td>8795</td>\n",
       "      <td>3</td>\n",
       "      <td>0</td>\n",
       "      <td>0.00</td>\n",
       "      <td>8840.0</td>\n",
       "      <td>-1.4014</td>\n",
       "      <td>0</td>\n",
       "      <td>0</td>\n",
       "      <td>9</td>\n",
       "      <td>국내 시장지수</td>\n",
       "      <td>FOCUS</td>\n",
       "      <td>False</td>\n",
       "      <td>False</td>\n",
       "      <td>False</td>\n",
       "    </tr>\n",
       "  </tbody>\n",
       "</table>\n",
       "<p>881 rows × 17 columns</p>\n",
       "</div>"
      ],
      "text/plain": [
       "       종목코드  탭코드                  종목명      현재가  등락구분  전일비   등락률  순자산가치(NAV)  \\\n",
       "0    459580    6    KODEX CD금리액티브(합성)  1046085     2  230  0.02   1046089.0   \n",
       "1    069500    1            KODEX 200    36820     5 -115 -0.31     36885.0   \n",
       "2    357870    6  TIGER CD금리투자KIS(합성)    54825     3    0  0.00     54828.0   \n",
       "3    423160    6  KODEX KOFR금리액티브(합성)   107820     2   30  0.03    107779.0   \n",
       "4    360750    4       TIGER 미국S&P500    18650     5  -35 -0.19     18599.0   \n",
       "..      ...  ...                  ...      ...   ...  ...   ...         ...   \n",
       "876  267450    6  RISE 미국장기국채선물인버스(H)    10160     3    0  0.00     10216.0   \n",
       "877  412560    2       TIGER BBIG레버리지     2190     5  -10 -0.45      2199.0   \n",
       "878  333980    2       PLUS KS퀄리티가중TR    15230     2   20  0.13     15266.0   \n",
       "879  436180    2    PLUS K-유니콘투자기업액티브     9975     2   25  0.25      9987.0   \n",
       "880  402520    1        FOCUS 혁신기업액티브     8795     3    0  0.00      8840.0   \n",
       "\n",
       "     3개월수익률      거래량  거래대금(백만)  시가총액(억)        유형    브랜드    인버스   레버리지   환헤지H  \n",
       "0    0.8972   195638    204654    93402        채권  KODEX  False  False  False  \n",
       "1   -0.4931  1101467     40510    61140   국내 시장지수  KODEX  False  False  False  \n",
       "2    0.9110    25319      1388    61007        채권  TIGER  False  False  False  \n",
       "3    0.8939    16807      1812    45037        채권  KODEX  False  False  False  \n",
       "4    3.6730  4820460     89909    43184     해외 주식  TIGER  False  False  False  \n",
       "..      ...      ...       ...      ...       ...    ...    ...    ...    ...  \n",
       "876 -5.6639        0         0       20        채권   RISE   True  False   True  \n",
       "877  0.9174     1411         3       18  국내 업종/테마  TIGER  False   True  False  \n",
       "878  0.3960        4         0       15  국내 업종/테마   PLUS  False  False  False  \n",
       "879 -3.5853        1         0       10  국내 업종/테마   PLUS  False  False  False  \n",
       "880 -1.4014        0         0        9   국내 시장지수  FOCUS  False  False  False  \n",
       "\n",
       "[881 rows x 17 columns]"
      ]
     },
     "execution_count": 41,
     "metadata": {},
     "output_type": "execute_result"
    }
   ],
   "source": [
    "df"
   ]
  },
  {
   "cell_type": "markdown",
   "metadata": {},
   "source": [
    "### 파일로 저장하기"
   ]
  },
  {
   "cell_type": "code",
   "execution_count": 42,
   "metadata": {},
   "outputs": [
    {
     "data": {
      "text/plain": [
       "'data/etf_2024-08-23.csv'"
      ]
     },
     "execution_count": 42,
     "metadata": {},
     "output_type": "execute_result"
    }
   ],
   "source": [
    "# 기존에 불러왔던 파일명에서 _raw를 제거하고 새로운 파일명으로 저장합니다.\n",
    "save_file_name = file_name.replace(\"_raw\", \"\")\n",
    "save_file_name"
   ]
  },
  {
   "cell_type": "code",
   "execution_count": 43,
   "metadata": {
    "id": "WTKYc0eBBYkt"
   },
   "outputs": [],
   "source": [
    "# pandas의 to_csv로 파일을 저장합니다.\n",
    "# index=False로 인덱스값은 저장하지 않습니다.\n",
    "df.to_csv(save_file_name, index=False)"
   ]
  },
  {
   "cell_type": "code",
   "execution_count": 44,
   "metadata": {},
   "outputs": [
    {
     "data": {
      "text/html": [
       "<div>\n",
       "<style scoped>\n",
       "    .dataframe tbody tr th:only-of-type {\n",
       "        vertical-align: middle;\n",
       "    }\n",
       "\n",
       "    .dataframe tbody tr th {\n",
       "        vertical-align: top;\n",
       "    }\n",
       "\n",
       "    .dataframe thead th {\n",
       "        text-align: right;\n",
       "    }\n",
       "</style>\n",
       "<table border=\"1\" class=\"dataframe\">\n",
       "  <thead>\n",
       "    <tr style=\"text-align: right;\">\n",
       "      <th></th>\n",
       "      <th>종목코드</th>\n",
       "      <th>탭코드</th>\n",
       "      <th>종목명</th>\n",
       "      <th>현재가</th>\n",
       "      <th>등락구분</th>\n",
       "      <th>전일비</th>\n",
       "      <th>등락률</th>\n",
       "      <th>순자산가치(NAV)</th>\n",
       "      <th>3개월수익률</th>\n",
       "      <th>거래량</th>\n",
       "      <th>거래대금(백만)</th>\n",
       "      <th>시가총액(억)</th>\n",
       "      <th>유형</th>\n",
       "      <th>브랜드</th>\n",
       "      <th>인버스</th>\n",
       "      <th>레버리지</th>\n",
       "      <th>환헤지H</th>\n",
       "    </tr>\n",
       "  </thead>\n",
       "  <tbody>\n",
       "    <tr>\n",
       "      <th>0</th>\n",
       "      <td>459580</td>\n",
       "      <td>6</td>\n",
       "      <td>KODEX CD금리액티브(합성)</td>\n",
       "      <td>1046085</td>\n",
       "      <td>2</td>\n",
       "      <td>230</td>\n",
       "      <td>0.02</td>\n",
       "      <td>1046089.0</td>\n",
       "      <td>0.8972</td>\n",
       "      <td>195638</td>\n",
       "      <td>204654</td>\n",
       "      <td>93402</td>\n",
       "      <td>채권</td>\n",
       "      <td>KODEX</td>\n",
       "      <td>False</td>\n",
       "      <td>False</td>\n",
       "      <td>False</td>\n",
       "    </tr>\n",
       "    <tr>\n",
       "      <th>1</th>\n",
       "      <td>069500</td>\n",
       "      <td>1</td>\n",
       "      <td>KODEX 200</td>\n",
       "      <td>36820</td>\n",
       "      <td>5</td>\n",
       "      <td>-115</td>\n",
       "      <td>-0.31</td>\n",
       "      <td>36885.0</td>\n",
       "      <td>-0.4931</td>\n",
       "      <td>1101467</td>\n",
       "      <td>40510</td>\n",
       "      <td>61140</td>\n",
       "      <td>국내 시장지수</td>\n",
       "      <td>KODEX</td>\n",
       "      <td>False</td>\n",
       "      <td>False</td>\n",
       "      <td>False</td>\n",
       "    </tr>\n",
       "    <tr>\n",
       "      <th>2</th>\n",
       "      <td>357870</td>\n",
       "      <td>6</td>\n",
       "      <td>TIGER CD금리투자KIS(합성)</td>\n",
       "      <td>54825</td>\n",
       "      <td>3</td>\n",
       "      <td>0</td>\n",
       "      <td>0.00</td>\n",
       "      <td>54828.0</td>\n",
       "      <td>0.9110</td>\n",
       "      <td>25319</td>\n",
       "      <td>1388</td>\n",
       "      <td>61007</td>\n",
       "      <td>채권</td>\n",
       "      <td>TIGER</td>\n",
       "      <td>False</td>\n",
       "      <td>False</td>\n",
       "      <td>False</td>\n",
       "    </tr>\n",
       "    <tr>\n",
       "      <th>3</th>\n",
       "      <td>423160</td>\n",
       "      <td>6</td>\n",
       "      <td>KODEX KOFR금리액티브(합성)</td>\n",
       "      <td>107820</td>\n",
       "      <td>2</td>\n",
       "      <td>30</td>\n",
       "      <td>0.03</td>\n",
       "      <td>107779.0</td>\n",
       "      <td>0.8939</td>\n",
       "      <td>16807</td>\n",
       "      <td>1812</td>\n",
       "      <td>45037</td>\n",
       "      <td>채권</td>\n",
       "      <td>KODEX</td>\n",
       "      <td>False</td>\n",
       "      <td>False</td>\n",
       "      <td>False</td>\n",
       "    </tr>\n",
       "    <tr>\n",
       "      <th>4</th>\n",
       "      <td>360750</td>\n",
       "      <td>4</td>\n",
       "      <td>TIGER 미국S&amp;P500</td>\n",
       "      <td>18650</td>\n",
       "      <td>5</td>\n",
       "      <td>-35</td>\n",
       "      <td>-0.19</td>\n",
       "      <td>18599.0</td>\n",
       "      <td>3.6730</td>\n",
       "      <td>4820460</td>\n",
       "      <td>89909</td>\n",
       "      <td>43184</td>\n",
       "      <td>해외 주식</td>\n",
       "      <td>TIGER</td>\n",
       "      <td>False</td>\n",
       "      <td>False</td>\n",
       "      <td>False</td>\n",
       "    </tr>\n",
       "    <tr>\n",
       "      <th>...</th>\n",
       "      <td>...</td>\n",
       "      <td>...</td>\n",
       "      <td>...</td>\n",
       "      <td>...</td>\n",
       "      <td>...</td>\n",
       "      <td>...</td>\n",
       "      <td>...</td>\n",
       "      <td>...</td>\n",
       "      <td>...</td>\n",
       "      <td>...</td>\n",
       "      <td>...</td>\n",
       "      <td>...</td>\n",
       "      <td>...</td>\n",
       "      <td>...</td>\n",
       "      <td>...</td>\n",
       "      <td>...</td>\n",
       "      <td>...</td>\n",
       "    </tr>\n",
       "    <tr>\n",
       "      <th>876</th>\n",
       "      <td>267450</td>\n",
       "      <td>6</td>\n",
       "      <td>RISE 미국장기국채선물인버스(H)</td>\n",
       "      <td>10160</td>\n",
       "      <td>3</td>\n",
       "      <td>0</td>\n",
       "      <td>0.00</td>\n",
       "      <td>10216.0</td>\n",
       "      <td>-5.6639</td>\n",
       "      <td>0</td>\n",
       "      <td>0</td>\n",
       "      <td>20</td>\n",
       "      <td>채권</td>\n",
       "      <td>RISE</td>\n",
       "      <td>True</td>\n",
       "      <td>False</td>\n",
       "      <td>True</td>\n",
       "    </tr>\n",
       "    <tr>\n",
       "      <th>877</th>\n",
       "      <td>412560</td>\n",
       "      <td>2</td>\n",
       "      <td>TIGER BBIG레버리지</td>\n",
       "      <td>2190</td>\n",
       "      <td>5</td>\n",
       "      <td>-10</td>\n",
       "      <td>-0.45</td>\n",
       "      <td>2199.0</td>\n",
       "      <td>0.9174</td>\n",
       "      <td>1411</td>\n",
       "      <td>3</td>\n",
       "      <td>18</td>\n",
       "      <td>국내 업종/테마</td>\n",
       "      <td>TIGER</td>\n",
       "      <td>False</td>\n",
       "      <td>True</td>\n",
       "      <td>False</td>\n",
       "    </tr>\n",
       "    <tr>\n",
       "      <th>878</th>\n",
       "      <td>333980</td>\n",
       "      <td>2</td>\n",
       "      <td>PLUS KS퀄리티가중TR</td>\n",
       "      <td>15230</td>\n",
       "      <td>2</td>\n",
       "      <td>20</td>\n",
       "      <td>0.13</td>\n",
       "      <td>15266.0</td>\n",
       "      <td>0.3960</td>\n",
       "      <td>4</td>\n",
       "      <td>0</td>\n",
       "      <td>15</td>\n",
       "      <td>국내 업종/테마</td>\n",
       "      <td>PLUS</td>\n",
       "      <td>False</td>\n",
       "      <td>False</td>\n",
       "      <td>False</td>\n",
       "    </tr>\n",
       "    <tr>\n",
       "      <th>879</th>\n",
       "      <td>436180</td>\n",
       "      <td>2</td>\n",
       "      <td>PLUS K-유니콘투자기업액티브</td>\n",
       "      <td>9975</td>\n",
       "      <td>2</td>\n",
       "      <td>25</td>\n",
       "      <td>0.25</td>\n",
       "      <td>9987.0</td>\n",
       "      <td>-3.5853</td>\n",
       "      <td>1</td>\n",
       "      <td>0</td>\n",
       "      <td>10</td>\n",
       "      <td>국내 업종/테마</td>\n",
       "      <td>PLUS</td>\n",
       "      <td>False</td>\n",
       "      <td>False</td>\n",
       "      <td>False</td>\n",
       "    </tr>\n",
       "    <tr>\n",
       "      <th>880</th>\n",
       "      <td>402520</td>\n",
       "      <td>1</td>\n",
       "      <td>FOCUS 혁신기업액티브</td>\n",
       "      <td>8795</td>\n",
       "      <td>3</td>\n",
       "      <td>0</td>\n",
       "      <td>0.00</td>\n",
       "      <td>8840.0</td>\n",
       "      <td>-1.4014</td>\n",
       "      <td>0</td>\n",
       "      <td>0</td>\n",
       "      <td>9</td>\n",
       "      <td>국내 시장지수</td>\n",
       "      <td>FOCUS</td>\n",
       "      <td>False</td>\n",
       "      <td>False</td>\n",
       "      <td>False</td>\n",
       "    </tr>\n",
       "  </tbody>\n",
       "</table>\n",
       "<p>881 rows × 17 columns</p>\n",
       "</div>"
      ],
      "text/plain": [
       "       종목코드  탭코드                  종목명      현재가  등락구분  전일비   등락률  순자산가치(NAV)  \\\n",
       "0    459580    6    KODEX CD금리액티브(합성)  1046085     2  230  0.02   1046089.0   \n",
       "1    069500    1            KODEX 200    36820     5 -115 -0.31     36885.0   \n",
       "2    357870    6  TIGER CD금리투자KIS(합성)    54825     3    0  0.00     54828.0   \n",
       "3    423160    6  KODEX KOFR금리액티브(합성)   107820     2   30  0.03    107779.0   \n",
       "4    360750    4       TIGER 미국S&P500    18650     5  -35 -0.19     18599.0   \n",
       "..      ...  ...                  ...      ...   ...  ...   ...         ...   \n",
       "876  267450    6  RISE 미국장기국채선물인버스(H)    10160     3    0  0.00     10216.0   \n",
       "877  412560    2       TIGER BBIG레버리지     2190     5  -10 -0.45      2199.0   \n",
       "878  333980    2       PLUS KS퀄리티가중TR    15230     2   20  0.13     15266.0   \n",
       "879  436180    2    PLUS K-유니콘투자기업액티브     9975     2   25  0.25      9987.0   \n",
       "880  402520    1        FOCUS 혁신기업액티브     8795     3    0  0.00      8840.0   \n",
       "\n",
       "     3개월수익률      거래량  거래대금(백만)  시가총액(억)        유형    브랜드    인버스   레버리지   환헤지H  \n",
       "0    0.8972   195638    204654    93402        채권  KODEX  False  False  False  \n",
       "1   -0.4931  1101467     40510    61140   국내 시장지수  KODEX  False  False  False  \n",
       "2    0.9110    25319      1388    61007        채권  TIGER  False  False  False  \n",
       "3    0.8939    16807      1812    45037        채권  KODEX  False  False  False  \n",
       "4    3.6730  4820460     89909    43184     해외 주식  TIGER  False  False  False  \n",
       "..      ...      ...       ...      ...       ...    ...    ...    ...    ...  \n",
       "876 -5.6639        0         0       20        채권   RISE   True  False   True  \n",
       "877  0.9174     1411         3       18  국내 업종/테마  TIGER  False   True  False  \n",
       "878  0.3960        4         0       15  국내 업종/테마   PLUS  False  False  False  \n",
       "879 -3.5853        1         0       10  국내 업종/테마   PLUS  False  False  False  \n",
       "880 -1.4014        0         0        9   국내 시장지수  FOCUS  False  False  False  \n",
       "\n",
       "[881 rows x 17 columns]"
      ]
     },
     "execution_count": 44,
     "metadata": {},
     "output_type": "execute_result"
    }
   ],
   "source": [
    "# 저장한 파일을 읽어와서 제대로 저장되었는지 확인합니다.\n",
    "# 또, 종목코드는 그냥 읽어오면 숫자 맨 앞의 0이 생략될 수 있으니 object 타입으로 불러옵니다.\n",
    "pd.read_csv(save_file_name, dtype={\"종목코드\": object})"
   ]
  },
  {
   "cell_type": "code",
   "execution_count": null,
   "metadata": {},
   "outputs": [],
   "source": []
  }
 ],
 "metadata": {
  "colab": {
   "collapsed_sections": [],
   "name": "8. naver-etf-eda.ipynb",
   "provenance": [],
   "toc_visible": true
  },
  "kernelspec": {
   "display_name": "Python 3 (ipykernel)",
   "language": "python",
   "name": "python3"
  },
  "language_info": {
   "codemirror_mode": {
    "name": "ipython",
    "version": 3
   },
   "file_extension": ".py",
   "mimetype": "text/x-python",
   "name": "python",
   "nbconvert_exporter": "python",
   "pygments_lexer": "ipython3",
   "version": "3.9.19"
  },
  "toc": {
   "base_numbering": 1,
   "nav_menu": {},
   "number_sections": true,
   "sideBar": true,
   "skip_h1_title": false,
   "title_cell": "Table of Contents",
   "title_sidebar": "Contents",
   "toc_cell": false,
   "toc_position": {
    "height": "calc(100% - 180px)",
    "left": "10px",
    "top": "150px",
    "width": "202px"
   },
   "toc_section_display": true,
   "toc_window_display": true
  },
  "varInspector": {
   "cols": {
    "lenName": 16,
    "lenType": 16,
    "lenVar": 40
   },
   "kernels_config": {
    "python": {
     "delete_cmd_postfix": "",
     "delete_cmd_prefix": "del ",
     "library": "var_list.py",
     "varRefreshCmd": "print(var_dic_list())"
    },
    "r": {
     "delete_cmd_postfix": ") ",
     "delete_cmd_prefix": "rm(",
     "library": "var_list.r",
     "varRefreshCmd": "cat(var_dic_list()) "
    }
   },
   "types_to_exclude": [
    "module",
    "function",
    "builtin_function_or_method",
    "instance",
    "_Feature"
   ],
   "window_display": false
  }
 },
 "nbformat": 4,
 "nbformat_minor": 4
}
