{
 "cells": [
  {
   "cell_type": "code",
   "execution_count": 22,
   "metadata": {},
   "outputs": [],
   "source": [
    "from langchain_core.messages import ChatMessage, HumanMessage, AIMessage, SystemMessage\n",
    "from langchain_core.embeddings import Embeddings\n",
    "from langchain_core.prompts import ChatPromptTemplate, MessagesPlaceholder\n",
    "from langchain_core.output_parsers import StrOutputParser\n",
    "from langchain_core.runnables import RunnablePassthrough\n",
    "\n",
    "from langchain_community.document_loaders import TextLoader, PyPDFLoader, PyMuPDFLoader\n",
    "from langchain_community.vectorstores import FAISS\n",
    "from langchain_community.vectorstores.utils import DistanceStrategy\n",
    "\n",
    "from langchain_openai import ChatOpenAI\n",
    "\n",
    "from langchain.text_splitter import RecursiveCharacterTextSplitter\n",
    "\n",
    "from langserve.pydantic_v1 import BaseModel, Field\n",
    "from typing import List, Union\n",
    "\n",
    "from openai import OpenAI\n",
    "from typing import List\n",
    "\n",
    "import os\n",
    "import warnings\n",
    "warnings.filterwarnings(\"ignore\")"
   ]
  },
  {
   "cell_type": "code",
   "execution_count": 23,
   "metadata": {},
   "outputs": [],
   "source": [
    "# PyMuPDFLoader 을 이용해 PDF 파일 로드\n",
    "loader = PyMuPDFLoader(\"file/constitution.pdf\")\n",
    "pages = loader.load()"
   ]
  },
  {
   "cell_type": "code",
   "execution_count": 24,
   "metadata": {},
   "outputs": [],
   "source": [
    "text_splitter = RecursiveCharacterTextSplitter(\n",
    "    chunk_size=256,\n",
    "    chunk_overlap=20,\n",
    "    separators=[\"\\n\\n\", \"\\n\", \"(?<=\\. )\", \" \", \"\"], \n",
    "    length_function=len,\n",
    ")\n",
    "docs = text_splitter.split_documents(pages)"
   ]
  },
  {
   "cell_type": "code",
   "execution_count": 25,
   "metadata": {},
   "outputs": [],
   "source": [
    "from openai import OpenAI\n",
    "\n",
    "class MyEmbeddings(Embeddings):\n",
    "    def __init__(self, base_url, api_key=\"lm-studio\"):\n",
    "        self.client = OpenAI(base_url=base_url, api_key=api_key)\n",
    "\n",
    "    def embed_documents(self, texts: List[str], model=\"nomic-ai/nomic-embed-text-v1.5-GGUF\") -> List[List[float]]:\n",
    "        texts = list(map(lambda text:text.replace(\"\\n\", \" \"), texts))\n",
    "        datas = self.client.embeddings.create(input=texts, model=model).data\n",
    "        return list(map(lambda data:data.embedding, datas))\n",
    "        \n",
    "    def embed_query(self, text: str) -> List[float]:\n",
    "        return self.embed_documents([text])[0]\n",
    "\n",
    "RAG_PROMPT_TEMPLATE = \"You always answer into Korean. You are an assistant for question-answering tasks. Use the following pieces of retrieved context to answer the question. If you don't know the answer, just say that you don't know. Use all the sentences and keep the answer concise in bullet.\\nQuestion: {question} \\nContext: {context} \\nAnswer:\"\n",
    "\n",
    "SYS_PROMPT_TEMPLATE = \"당신은 ** 에이전트입니다. 가능한 한 도움이 될 수 있도록 사실적인 정보만을 제공하도록 설계되었습니다. 친절하게 응대하지만 지나치게 수다스럽지는 않습니다. 아래에 제공된 컨텍스트 정보를 바탕으로, 사전 지식 없이 질문에 답하십시오.\""
   ]
  },
  {
   "cell_type": "code",
   "execution_count": 40,
   "metadata": {},
   "outputs": [],
   "source": [
    "from langchain_openai import ChatOpenAI\n",
    "from langchain_core.output_parsers import StrOutputParser\n",
    "\n",
    "# 언어 모델\n",
    "llm = ChatOpenAI(\n",
    "    base_url=\"http://localhost:1234/v1\",\n",
    "    api_key=\"lm-studio\",\n",
    "    model=\"teddylee777/EEVE-Korean-Instruct-10.8B-v1.0-gguf\",\n",
    "    temperature=0.5,\n",
    ")\n",
    "\n",
    "# 임베딩 모델\n",
    "emb = MyEmbeddings(base_url=\"http://localhost:1234/v1\")\n",
    "\n",
    "# RAG 체인\n",
    "rag_prompt = ChatPromptTemplate.from_messages([\n",
    "    (\"system\", \"You always answer into Korean.\"),\n",
    "    (\"user\", RAG_PROMPT_TEMPLATE),\n",
    "])\n",
    "rag_chain = rag_prompt | llm | StrOutputParser()"
   ]
  },
  {
   "cell_type": "code",
   "execution_count": 27,
   "metadata": {},
   "outputs": [],
   "source": [
    "vectorstore = FAISS.from_documents(docs, embedding=emb, distance_strategy=DistanceStrategy.COSINE)\n",
    "retriever = vectorstore.as_retriever(search_kwargs={'k':3})"
   ]
  },
  {
   "cell_type": "code",
   "execution_count": 41,
   "metadata": {},
   "outputs": [],
   "source": [
    "format_docs = lambda docs:\"\\n\\n\".join(doc.page_content for doc in docs)\n",
    "chain = (\n",
    "    {\"context\": retriever | format_docs, \"question\": RunnablePassthrough()}\n",
    "    | rag_chain\n",
    ")"
   ]
  },
  {
   "cell_type": "code",
   "execution_count": 46,
   "metadata": {},
   "outputs": [
    {
     "name": "stdout",
     "output_type": "stream",
     "text": [
      "1. 직업 강요는 개인의 자유와 권리를 침해하는 것으로, 헌법에 명시된 인권 및 기본권리 규정에 위배됩니다.\n",
      "2. 특히 제32조 ①항은 모든 국민이 근로의 의무를 진다고 규정하고 있으며, 국가는 법률로 그 내용을 정해야 한다고 명시하고 있습니다. 이 조항을 통해 강제 노동이나 직업 강요를 금지하고 있음을 알 수 있습니다.\n",
      "3. 또한, 제10조에 따르면 모든 국민은 인간으로서의 존엄과 가치를 가지며 행복을 추구할 권리를 가집니다. 직업 강요는 이러한 권리 침해로 볼 수 있으며 헌법 위반입니다.\n",
      "4. 마지막으로, 제37조 ②항은 법률이 국민의 자유와 권리의 본질적인 내용을 침해해서는 안 된다고 명시하고 있습니다. 직업 강요 또한 개인의 자유와 권리를 침해하는 것으로 이 조항에도 위배됩니다.\n"
     ]
    }
   ],
   "source": [
    "chain_input = \"내가 직업을 강요받았어. 이건 헌법 어디에 위배 되는 거야?\"\n",
    "\n",
    "# 응답을 한 번에 받아오기\n",
    "msg = chain.invoke(chain_input)\n",
    "\n",
    "# 결과 출력\n",
    "print(msg)"
   ]
  },
  {
   "cell_type": "code",
   "execution_count": null,
   "metadata": {},
   "outputs": [],
   "source": []
  },
  {
   "cell_type": "code",
   "execution_count": null,
   "metadata": {},
   "outputs": [],
   "source": []
  },
  {
   "cell_type": "code",
   "execution_count": null,
   "metadata": {},
   "outputs": [],
   "source": []
  },
  {
   "cell_type": "code",
   "execution_count": null,
   "metadata": {},
   "outputs": [],
   "source": []
  },
  {
   "cell_type": "code",
   "execution_count": null,
   "metadata": {},
   "outputs": [],
   "source": []
  },
  {
   "cell_type": "code",
   "execution_count": null,
   "metadata": {},
   "outputs": [],
   "source": []
  },
  {
   "cell_type": "code",
   "execution_count": null,
   "metadata": {},
   "outputs": [],
   "source": []
  },
  {
   "cell_type": "code",
   "execution_count": null,
   "metadata": {},
   "outputs": [],
   "source": []
  },
  {
   "cell_type": "code",
   "execution_count": null,
   "metadata": {},
   "outputs": [],
   "source": []
  },
  {
   "cell_type": "code",
   "execution_count": null,
   "metadata": {},
   "outputs": [],
   "source": []
  },
  {
   "cell_type": "code",
   "execution_count": null,
   "metadata": {},
   "outputs": [],
   "source": []
  },
  {
   "cell_type": "code",
   "execution_count": null,
   "metadata": {},
   "outputs": [],
   "source": []
  },
  {
   "cell_type": "code",
   "execution_count": null,
   "metadata": {},
   "outputs": [],
   "source": []
  }
 ],
 "metadata": {
  "kernelspec": {
   "display_name": "dl",
   "language": "python",
   "name": "python3"
  },
  "language_info": {
   "codemirror_mode": {
    "name": "ipython",
    "version": 3
   },
   "file_extension": ".py",
   "mimetype": "text/x-python",
   "name": "python",
   "nbconvert_exporter": "python",
   "pygments_lexer": "ipython3",
   "version": "3.9.19"
  }
 },
 "nbformat": 4,
 "nbformat_minor": 2
}
