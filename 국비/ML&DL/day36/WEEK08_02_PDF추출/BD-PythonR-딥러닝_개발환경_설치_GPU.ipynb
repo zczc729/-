{
 "cells": [
  {
   "cell_type": "markdown",
   "id": "9010ac1e",
   "metadata": {},
   "source": [
    "## Windows에서 GPU 지원 TensorFlow 설치하기(CUDA)"
   ]
  },
  {
   "cell_type": "markdown",
   "id": "0428f35b",
   "metadata": {},
   "source": [
    "- [TensorFlow 설치 절차](https://velog.io/@hsedmr/TensorFlow-%EC%84%A4%EC%B9%98-%EC%A0%88%EC%B0%A8)\n",
    "- 주의: TensorFlow 2.10 은 기본 Windows에서 GPU를 지원하는 마지막 TensorFlow 릴리스였습니다."
   ]
  },
  {
   "cell_type": "markdown",
   "id": "42ebf947",
   "metadata": {},
   "source": [
    "#### - 권장설치 버전 : 윈도우 기준 [py39_gpu210]\n",
    "- 텐서플로우-2.10.0\n",
    "- 파이썬-3.9   (3.7-3.10)\n",
    "- CUDA-11.2\n",
    "- cuDNN-8.1.0\n",
    "\n",
    "#### - 코랩 버전 :  우분투 기준\n",
    "- 텐서플로우-2.15.0\n",
    "- 파이썬-3.10.12 (3.9-3.11)   (numpy 1.25.2) (pandas 2.0.3) (matplotlib 3.7.1)\n",
    "- CUDA-12.2\n",
    "- cuDNN-8.9.0\n",
    "\n",
    "#### - Do It 딥러닝 버전 :  윈도우 기준 [doitdl] CPU버전\n",
    "- TensorFlow-2.13.0 (2.0rc1/rc2/2.0/2.1/2.2/2.3/2.4/2.5/2.6)\n",
    "- 파이썬-3.8 (3.6-3.9) numpy 1.16/1.18/1.19, scikit-learn 0.21/0.22/0.23/0.24, \n",
    "- CUDA-11.2\n",
    "- cuDNN-8.1.0\n",
    "\n",
    "#### - NLP 버전 :  윈도우 기준 [nlpdl]\n",
    "- TensorFlow-2.0.0  (keras 2.3.1)  (Gensim 3.8.1)  (sklearn 0.21.3)\n",
    "- 파이썬(3.5-3.7) (numpy 1.16.5) (matplotlib 2.2.3) (nltk 3.4.5) (konlpy 0.5.1) (pandas 0.25.1)\n",
    "- CUDA-10.0 \n",
    "- cuDNN-7.4.0"
   ]
  },
  {
   "cell_type": "code",
   "execution_count": null,
   "id": "35908788",
   "metadata": {},
   "outputs": [],
   "source": []
  },
  {
   "cell_type": "markdown",
   "id": "f13aa66b",
   "metadata": {},
   "source": [
    "### Step.1 아나콘다 가상환경"
   ]
  },
  {
   "cell_type": "markdown",
   "id": "a739bd7d",
   "metadata": {},
   "source": [
    "- conda create --name py39_gpu210 python=3.9\n",
    "- conda create --name nlpdl python=3.7\n",
    "- conda activate py39_gpu210\n",
    "- 가상환경 확인 : conda env list\n",
    "- 가상환경 삭제 : conda env remove -n 가상환경이름"
   ]
  },
  {
   "cell_type": "code",
   "execution_count": 1,
   "id": "49217606",
   "metadata": {},
   "outputs": [
    {
     "data": {
      "text/plain": [
       "'3.9.12 (main, Jun  1 2022, 06:34:44) \\n[Clang 12.0.0 ]'"
      ]
     },
     "execution_count": 1,
     "metadata": {},
     "output_type": "execute_result"
    }
   ],
   "source": [
    "import sys\n",
    "sys.version \n",
    "# 결과값 '3.9.13 (main, Aug 25 2022, 18:24:45) \\n[Clang 12.0.0 ]'"
   ]
  },
  {
   "cell_type": "code",
   "execution_count": 2,
   "id": "e0dc28ae",
   "metadata": {},
   "outputs": [
    {
     "name": "stdout",
     "output_type": "stream",
     "text": [
      "1.23.4\n"
     ]
    }
   ],
   "source": [
    "import numpy as np\n",
    "print(np.__version__)\n",
    "# 1.21.6"
   ]
  },
  {
   "cell_type": "code",
   "execution_count": 6,
   "id": "a4cafda5",
   "metadata": {},
   "outputs": [],
   "source": [
    "import matplotlib as plt"
   ]
  },
  {
   "cell_type": "markdown",
   "id": "93012cdf",
   "metadata": {},
   "source": [
    "### Step.2 GPU 설정 : CUDA  및 CUdnn 설치"
   ]
  },
  {
   "cell_type": "markdown",
   "id": "1d244d26",
   "metadata": {},
   "source": [
    "- conda install -c conda-forge cudatoolkit=11.2 cudnn=8.1.0\n",
    "- conda install -c conda-forge cudatoolkit=10.0 cudnn=7.4.0\n",
    "- CUDA 설치 확인 :  nvcc --version"
   ]
  },
  {
   "cell_type": "code",
   "execution_count": 3,
   "id": "7a126e9d",
   "metadata": {},
   "outputs": [
    {
     "name": "stdout",
     "output_type": "stream",
     "text": [
      "zsh:1: command not found: nvcc\n"
     ]
    }
   ],
   "source": [
    "!nvcc --version"
   ]
  },
  {
   "cell_type": "code",
   "execution_count": null,
   "id": "662d5f5e",
   "metadata": {},
   "outputs": [],
   "source": []
  },
  {
   "cell_type": "markdown",
   "id": "1a464649",
   "metadata": {},
   "source": [
    "### Step.3  TensorFlow 설치"
   ]
  },
  {
   "cell_type": "markdown",
   "id": "5dcebe93",
   "metadata": {},
   "source": [
    "- pip install --upgrade pip\n",
    "- Anything above 2.10 is not supported on the GPU on Windows Native\n",
    "- pip install \"tensorflow<2.11\"\n",
    "- pip install tensorflow==2.5.0\n",
    "################### with CUDA\n",
    "- conda install tensorflow==2.0.0\n",
    "- conda install tensorflow-gpu==2.0.0"
   ]
  },
  {
   "cell_type": "code",
   "execution_count": 1,
   "id": "752f9359",
   "metadata": {},
   "outputs": [
    {
     "name": "stderr",
     "output_type": "stream",
     "text": [
      "/Users/shinminseog/opt/anaconda3/lib/python3.9/site-packages/scipy/__init__.py:146: UserWarning: A NumPy version >=1.16.5 and <1.23.0 is required for this version of SciPy (detected version 1.23.4\n",
      "  warnings.warn(f\"A NumPy version >={np_minversion} and <{np_maxversion}\"\n"
     ]
    },
    {
     "data": {
      "text/plain": [
       "'2.9.0'"
      ]
     },
     "execution_count": 1,
     "metadata": {},
     "output_type": "execute_result"
    }
   ],
   "source": [
    "import tensorflow as tf\n",
    "tf.__version__"
   ]
  },
  {
   "cell_type": "code",
   "execution_count": 3,
   "id": "8dea0da2",
   "metadata": {},
   "outputs": [
    {
     "name": "stdout",
     "output_type": "stream",
     "text": [
      "GPU 사용 개수: 1\n",
      "GPU 사용 가능\n",
      "Tensor(\"Add_1:0\", dtype=float32)\n",
      "Device mapping:\n",
      "/job:localhost/replica:0/task:0/device:GPU:0 -> device: 0, name: METAL, pci bus id: <undefined>\n",
      "\n",
      "random_uniform/RandomUniform: (RandomUniform): /job:localhost/replica:0/task:0/device:GPU:0\n",
      "random_uniform/sub: (Sub): /job:localhost/replica:0/task:0/device:GPU:0\n",
      "random_uniform/mul: (Mul): /job:localhost/replica:0/task:0/device:GPU:0\n",
      "random_uniform: (AddV2): /job:localhost/replica:0/task:0/device:GPU:0\n",
      "Weight: (VariableV2): /job:localhost/replica:0/task:0/device:CPU:0\n",
      "Weight/Assign: (Assign): /job:localhost/replica:0/task:0/device:CPU:0\n",
      "Weight/read: (Identity): /job:localhost/replica:0/task:0/device:CPU:0\n",
      "random_uniform_1/RandomUniform: (RandomUniform): /job:localhost/replica:0/task:0/device:GPU:0\n",
      "random_uniform_1/sub: (Sub): /job:localhost/replica:0/task:0/device:GPU:0\n",
      "random_uniform_1/mul: (Mul): /job:localhost/replica:0/task:0/device:GPU:0\n",
      "random_uniform_1: (AddV2): /job:localhost/replica:0/task:0/device:GPU:0\n",
      "Bias: (VariableV2): /job:localhost/replica:0/task:0/device:CPU:0\n",
      "Bias/Assign: (Assign): /job:localhost/replica:0/task:0/device:CPU:0\n",
      "Bias/read: (Identity): /job:localhost/replica:0/task:0/device:CPU:0\n",
      "Mul: (Mul): /job:localhost/replica:0/task:0/device:GPU:0\n",
      "Add: (AddV2): /job:localhost/replica:0/task:0/device:GPU:0\n",
      "sub: (Sub): /job:localhost/replica:0/task:0/device:GPU:0\n",
      "Square: (Square): /job:localhost/replica:0/task:0/device:GPU:0\n",
      "Rank: (Rank): /job:localhost/replica:0/task:0/device:GPU:0\n",
      "range: (Range): /job:localhost/replica:0/task:0/device:GPU:0\n",
      "Mean: (Mean): /job:localhost/replica:0/task:0/device:GPU:0\n",
      "gradients/grad_ys_0: (Fill): /job:localhost/replica:0/task:0/device:GPU:0\n",
      "gradients/Mean_grad/Shape: (Shape): /job:localhost/replica:0/task:0/device:GPU:0\n",
      "gradients/Mean_grad/Size: (Size): /job:localhost/replica:0/task:0/device:GPU:0\n",
      "gradients/Mean_grad/add: (AddV2): /job:localhost/replica:0/task:0/device:GPU:0\n",
      "gradients/Mean_grad/mod: (FloorMod): /job:localhost/replica:0/task:0/device:GPU:0\n",
      "gradients/Mean_grad/Shape_1: (Shape): /job:localhost/replica:0/task:0/device:GPU:0\n",
      "gradients/Mean_grad/range: (Range): /job:localhost/replica:0/task:0/device:GPU:0\n",
      "gradients/Mean_grad/ones: (Fill): /job:localhost/replica:0/task:0/device:GPU:0\n",
      "gradients/Mean_grad/DynamicStitch: (DynamicStitch): /job:localhost/replica:0/task:0/device:GPU:0\n",
      "gradients/Mean_grad/Reshape: (Reshape): /job:localhost/replica:0/task:0/device:GPU:0\n",
      "gradients/Mean_grad/BroadcastTo: (BroadcastTo): /job:localhost/replica:0/task:0/device:GPU:0\n",
      "gradients/Mean_grad/Shape_2: (Shape): /job:localhost/replica:0/task:0/device:GPU:0\n",
      "gradients/Mean_grad/Prod: (Prod): /job:localhost/replica:0/task:0/device:GPU:0\n",
      "gradients/Mean_grad/Prod_1: (Prod): /job:localhost/replica:0/task:0/device:GPU:0\n",
      "gradients/Mean_grad/Maximum: (Maximum): /job:localhost/replica:0/task:0/device:GPU:0\n",
      "gradients/Mean_grad/floordiv: (FloorDiv): /job:localhost/replica:0/task:0/device:GPU:0\n",
      "gradients/Mean_grad/Cast: (Cast): /job:localhost/replica:0/task:0/device:GPU:0\n",
      "gradients/Mean_grad/truediv: (RealDiv): /job:localhost/replica:0/task:0/device:GPU:0\n",
      "gradients/Square_grad/Mul: (Mul): /job:localhost/replica:0/task:0/device:GPU:0\n",
      "gradients/Square_grad/Mul_1: (Mul): /job:localhost/replica:0/task:0/device:GPU:0\n",
      "gradients/sub_grad/Shape: (Shape): /job:localhost/replica:0/task:0/device:GPU:0\n",
      "gradients/sub_grad/Shape_1: (Shape): /job:localhost/replica:0/task:0/device:GPU:0\n",
      "gradients/sub_grad/BroadcastGradientArgs: (BroadcastGradientArgs): /job:localhost/replica:0/task:0/device:GPU:0\n",
      "gradients/sub_grad/Sum: (Sum): /job:localhost/replica:0/task:0/device:GPU:0\n",
      "gradients/sub_grad/Reshape: (Reshape): /job:localhost/replica:0/task:0/device:GPU:0\n",
      "gradients/sub_grad/Neg: (Neg): /job:localhost/replica:0/task:0/device:GPU:0\n",
      "gradients/sub_grad/Sum_1: (Sum): /job:localhost/replica:0/task:0/device:GPU:0\n",
      "gradients/sub_grad/Reshape_1: (Reshape): /job:localhost/replica:0/task:0/device:GPU:0\n",
      "gradients/sub_grad/tuple/group_deps: (NoOp): /job:localhost/replica:0/task:0/device:GPU:0\n",
      "gradients/sub_grad/tuple/control_dependency: (Identity): /job:localhost/replica:0/task:0/device:GPU:0\n",
      "gradients/sub_grad/tuple/control_dependency_1: (Identity): /job:localhost/replica:0/task:0/device:GPU:0\n",
      "gradients/Add_grad/Shape: (Shape): /job:localhost/replica:0/task:0/device:GPU:0\n",
      "gradients/Add_grad/Shape_1: (Shape): /job:localhost/replica:0/task:0/device:CPU:0\n",
      "gradients/Add_grad/BroadcastGradientArgs: (BroadcastGradientArgs): /job:localhost/replica:0/task:0/device:GPU:0\n",
      "gradients/Add_grad/Sum: (Sum): /job:localhost/replica:0/task:0/device:GPU:0\n",
      "gradients/Add_grad/Reshape: (Reshape): /job:localhost/replica:0/task:0/device:GPU:0\n",
      "gradients/Add_grad/Sum_1: (Sum): /job:localhost/replica:0/task:0/device:GPU:0\n",
      "gradients/Add_grad/Reshape_1: (Reshape): /job:localhost/replica:0/task:0/device:GPU:0\n",
      "gradients/Add_grad/tuple/group_deps: (NoOp): /job:localhost/replica:0/task:0/device:GPU:0\n",
      "gradients/Add_grad/tuple/control_dependency: (Identity): /job:localhost/replica:0/task:0/device:GPU:0\n",
      "gradients/Add_grad/tuple/control_dependency_1: (Identity): /job:localhost/replica:0/task:0/device:GPU:0\n",
      "gradients/Mul_grad/Shape: (Shape): /job:localhost/replica:0/task:0/device:CPU:0\n",
      "gradients/Mul_grad/Shape_1: (Shape): /job:localhost/replica:0/task:0/device:GPU:0\n",
      "gradients/Mul_grad/BroadcastGradientArgs: (BroadcastGradientArgs): /job:localhost/replica:0/task:0/device:GPU:0\n",
      "gradients/Mul_grad/Mul: (Mul): /job:localhost/replica:0/task:0/device:GPU:0\n",
      "gradients/Mul_grad/Sum: (Sum): /job:localhost/replica:0/task:0/device:GPU:0\n",
      "gradients/Mul_grad/Reshape: (Reshape): /job:localhost/replica:0/task:0/device:GPU:0\n",
      "gradients/Mul_grad/Mul_1: (Mul): /job:localhost/replica:0/task:0/device:GPU:0\n",
      "gradients/Mul_grad/Sum_1: (Sum): /job:localhost/replica:0/task:0/device:GPU:0\n",
      "gradients/Mul_grad/Reshape_1: (Reshape): /job:localhost/replica:0/task:0/device:GPU:0\n",
      "gradients/Mul_grad/tuple/group_deps: (NoOp): /job:localhost/replica:0/task:0/device:GPU:0\n",
      "gradients/Mul_grad/tuple/control_dependency: (Identity): /job:localhost/replica:0/task:0/device:GPU:0\n",
      "gradients/Mul_grad/tuple/control_dependency_1: (Identity): /job:localhost/replica:0/task:0/device:GPU:0\n",
      "GradientDescent/update_Weight/ApplyGradientDescent: (ApplyGradientDescent): /job:localhost/replica:0/task:0/device:CPU:0\n",
      "GradientDescent/update_Bias/ApplyGradientDescent: (ApplyGradientDescent): /job:localhost/replica:0/task:0/device:CPU:0\n",
      "GradientDescent: (NoOp): /job:localhost/replica:0/task:0/device:GPU:0\n",
      "init: (NoOp): /job:localhost/replica:0/task:0/device:GPU:0\n",
      "random_uniform_2/RandomUniform: (RandomUniform): /job:localhost/replica:0/task:0/device:GPU:0\n",
      "random_uniform_2/sub: (Sub): /job:localhost/replica:0/task:0/device:GPU:0\n",
      "random_uniform_2/mul: (Mul): /job:localhost/replica:0/task:0/device:GPU:0\n",
      "random_uniform_2: (AddV2): /job:localhost/replica:0/task:0/device:GPU:0\n",
      "Weight_1: (VariableV2): /job:localhost/replica:0/task:0/device:CPU:0\n",
      "Weight_1/Assign: (Assign): /job:localhost/replica:0/task:0/device:CPU:0\n",
      "Weight_1/read: (Identity): /job:localhost/replica:0/task:0/device:CPU:0\n",
      "random_uniform_3/RandomUniform: (RandomUniform): /job:localhost/replica:0/task:0/device:GPU:0\n",
      "random_uniform_3/sub: (Sub): /job:localhost/replica:0/task:0/device:GPU:0\n",
      "random_uniform_3/mul: (Mul): /job:localhost/replica:0/task:0/device:GPU:0\n",
      "random_uniform_3: (AddV2): /job:localhost/replica:0/task:0/device:GPU:0\n",
      "Bias_1: (VariableV2): /job:localhost/replica:0/task:0/device:CPU:0\n",
      "Bias_1/Assign: (Assign): /job:localhost/replica:0/task:0/device:CPU:0\n",
      "Bias_1/read: (Identity): /job:localhost/replica:0/task:0/device:CPU:0\n",
      "Mul_1: (Mul): /job:localhost/replica:0/task:0/device:GPU:0\n",
      "Add_1: (AddV2): /job:localhost/replica:0/task:0/device:GPU:0\n",
      "sub_1: (Sub): /job:localhost/replica:0/task:0/device:GPU:0\n",
      "Square_1: (Square): /job:localhost/replica:0/task:0/device:GPU:0\n",
      "Rank_1: (Rank): /job:localhost/replica:0/task:0/device:GPU:0\n",
      "range_1: (Range): /job:localhost/replica:0/task:0/device:GPU:0\n",
      "Mean_1: (Mean): /job:localhost/replica:0/task:0/device:GPU:0\n",
      "gradients_1/grad_ys_0: (Fill): /job:localhost/replica:0/task:0/device:GPU:0\n",
      "gradients_1/Mean_1_grad/Shape: (Shape): /job:localhost/replica:0/task:0/device:GPU:0\n",
      "gradients_1/Mean_1_grad/Size: (Size): /job:localhost/replica:0/task:0/device:GPU:0\n",
      "gradients_1/Mean_1_grad/add: (AddV2): /job:localhost/replica:0/task:0/device:GPU:0\n",
      "gradients_1/Mean_1_grad/mod: (FloorMod): /job:localhost/replica:0/task:0/device:GPU:0\n",
      "gradients_1/Mean_1_grad/Shape_1: (Shape): /job:localhost/replica:0/task:0/device:GPU:0\n",
      "gradients_1/Mean_1_grad/range: (Range): /job:localhost/replica:0/task:0/device:GPU:0\n",
      "gradients_1/Mean_1_grad/ones: (Fill): /job:localhost/replica:0/task:0/device:GPU:0\n",
      "gradients_1/Mean_1_grad/DynamicStitch: (DynamicStitch): /job:localhost/replica:0/task:0/device:GPU:0\n",
      "gradients_1/Mean_1_grad/Reshape: (Reshape): /job:localhost/replica:0/task:0/device:GPU:0\n",
      "gradients_1/Mean_1_grad/BroadcastTo: (BroadcastTo): /job:localhost/replica:0/task:0/device:GPU:0\n",
      "gradients_1/Mean_1_grad/Shape_2: (Shape): /job:localhost/replica:0/task:0/device:GPU:0\n",
      "gradients_1/Mean_1_grad/Prod: (Prod): /job:localhost/replica:0/task:0/device:GPU:0\n",
      "gradients_1/Mean_1_grad/Prod_1: (Prod): /job:localhost/replica:0/task:0/device:GPU:0\n",
      "gradients_1/Mean_1_grad/Maximum: (Maximum): /job:localhost/replica:0/task:0/device:GPU:0\n",
      "gradients_1/Mean_1_grad/floordiv: (FloorDiv): /job:localhost/replica:0/task:0/device:GPU:0\n",
      "gradients_1/Mean_1_grad/Cast: (Cast): /job:localhost/replica:0/task:0/device:GPU:0\n",
      "gradients_1/Mean_1_grad/truediv: (RealDiv): /job:localhost/replica:0/task:0/device:GPU:0\n",
      "gradients_1/Square_1_grad/Mul: (Mul): /job:localhost/replica:0/task:0/device:GPU:0\n",
      "gradients_1/Square_1_grad/Mul_1: (Mul): /job:localhost/replica:0/task:0/device:GPU:0\n",
      "gradients_1/sub_1_grad/Shape: (Shape): /job:localhost/replica:0/task:0/device:GPU:0\n",
      "gradients_1/sub_1_grad/Shape_1: (Shape): /job:localhost/replica:0/task:0/device:GPU:0\n",
      "gradients_1/sub_1_grad/BroadcastGradientArgs: (BroadcastGradientArgs): /job:localhost/replica:0/task:0/device:GPU:0\n",
      "gradients_1/sub_1_grad/Sum: (Sum): /job:localhost/replica:0/task:0/device:GPU:0\n",
      "gradients_1/sub_1_grad/Reshape: (Reshape): /job:localhost/replica:0/task:0/device:GPU:0\n",
      "gradients_1/sub_1_grad/Neg: (Neg): /job:localhost/replica:0/task:0/device:GPU:0\n",
      "gradients_1/sub_1_grad/Sum_1: (Sum): /job:localhost/replica:0/task:0/device:GPU:0\n",
      "gradients_1/sub_1_grad/Reshape_1: (Reshape): /job:localhost/replica:0/task:0/device:GPU:0\n",
      "gradients_1/sub_1_grad/tuple/group_deps: (NoOp): /job:localhost/replica:0/task:0/device:GPU:0\n",
      "gradients_1/sub_1_grad/tuple/control_dependency: (Identity): /job:localhost/replica:0/task:0/device:GPU:0\n",
      "gradients_1/sub_1_grad/tuple/control_dependency_1: (Identity): /job:localhost/replica:0/task:0/device:GPU:0\n",
      "gradients_1/Add_1_grad/Shape: (Shape): /job:localhost/replica:0/task:0/device:GPU:0\n",
      "gradients_1/Add_1_grad/Shape_1: (Shape): /job:localhost/replica:0/task:0/device:CPU:0\n",
      "gradients_1/Add_1_grad/BroadcastGradientArgs: (BroadcastGradientArgs): /job:localhost/replica:0/task:0/device:GPU:0\n",
      "gradients_1/Add_1_grad/Sum: (Sum): /job:localhost/replica:0/task:0/device:GPU:0\n",
      "gradients_1/Add_1_grad/Reshape: (Reshape): /job:localhost/replica:0/task:0/device:GPU:0\n",
      "gradients_1/Add_1_grad/Sum_1: (Sum): /job:localhost/replica:0/task:0/device:GPU:0\n",
      "gradients_1/Add_1_grad/Reshape_1: (Reshape): /job:localhost/replica:0/task:0/device:GPU:0\n",
      "gradients_1/Add_1_grad/tuple/group_deps: (NoOp): /job:localhost/replica:0/task:0/device:GPU:0\n",
      "gradients_1/Add_1_grad/tuple/control_dependency: (Identity): /job:localhost/replica:0/task:0/device:GPU:0\n",
      "gradients_1/Add_1_grad/tuple/control_dependency_1: (Identity): /job:localhost/replica:0/task:0/device:GPU:0\n",
      "gradients_1/Mul_1_grad/Shape: (Shape): /job:localhost/replica:0/task:0/device:CPU:0\n",
      "gradients_1/Mul_1_grad/Shape_1: (Shape): /job:localhost/replica:0/task:0/device:GPU:0\n",
      "gradients_1/Mul_1_grad/BroadcastGradientArgs: (BroadcastGradientArgs): /job:localhost/replica:0/task:0/device:GPU:0\n",
      "gradients_1/Mul_1_grad/Mul: (Mul): /job:localhost/replica:0/task:0/device:GPU:0\n",
      "gradients_1/Mul_1_grad/Sum: (Sum): /job:localhost/replica:0/task:0/device:GPU:0\n",
      "gradients_1/Mul_1_grad/Reshape: (Reshape): /job:localhost/replica:0/task:0/device:GPU:0\n",
      "gradients_1/Mul_1_grad/Mul_1: (Mul): /job:localhost/replica:0/task:0/device:GPU:0\n",
      "gradients_1/Mul_1_grad/Sum_1: (Sum): /job:localhost/replica:0/task:0/device:GPU:0\n",
      "gradients_1/Mul_1_grad/Reshape_1: (Reshape): /job:localhost/replica:0/task:0/device:GPU:0\n",
      "gradients_1/Mul_1_grad/tuple/group_deps: (NoOp): /job:localhost/replica:0/task:0/device:GPU:0\n",
      "gradients_1/Mul_1_grad/tuple/control_dependency: (Identity): /job:localhost/replica:0/task:0/device:GPU:0\n",
      "gradients_1/Mul_1_grad/tuple/control_dependency_1: (Identity): /job:localhost/replica:0/task:0/device:GPU:0\n",
      "GradientDescent_1/update_Weight_1/ApplyGradientDescent: (ApplyGradientDescent): /job:localhost/replica:0/task:0/device:CPU:0\n",
      "GradientDescent_1/update_Bias_1/ApplyGradientDescent: (ApplyGradientDescent): /job:localhost/replica:0/task:0/device:CPU:0\n",
      "GradientDescent_1: (NoOp): /job:localhost/replica:0/task:0/device:GPU:0\n",
      "init_1: (NoOp): /job:localhost/replica:0/task:0/device:GPU:0\n",
      "random_uniform/shape: (Const): /job:localhost/replica:0/task:0/device:GPU:0\n",
      "random_uniform/min: (Const): /job:localhost/replica:0/task:0/device:GPU:0\n",
      "random_uniform/max: (Const): /job:localhost/replica:0/task:0/device:GPU:0\n",
      "random_uniform_1/shape: (Const): /job:localhost/replica:0/task:0/device:GPU:0\n",
      "random_uniform_1/min: (Const): /job:localhost/replica:0/task:0/device:GPU:0\n",
      "random_uniform_1/max: (Const): /job:localhost/replica:0/task:0/device:GPU:0\n",
      "X: (Placeholder): /job:localhost/replica:0/task:0/device:GPU:0\n",
      "Y: (Placeholder): /job:localhost/replica:0/task:0/device:GPU:0\n",
      "range/start: (Const): /job:localhost/replica:0/task:0/device:GPU:0\n",
      "range/delta: (Const): /job:localhost/replica:0/task:0/device:GPU:0\n",
      "gradients/Shape: (Const): /job:localhost/replica:0/task:0/device:GPU:0\n",
      "gradients/grad_ys_0/Const: (Const): /job:localhost/replica:0/task:0/device:GPU:0\n",
      "gradients/Mean_grad/range/start: (Const): /job:localhost/replica:0/task:0/device:GPU:0\n",
      "gradients/Mean_grad/range/delta: (Const): /job:localhost/replica:0/task:0/device:GPU:0\n",
      "gradients/Mean_grad/ones/Const: (Const): /job:localhost/replica:0/task:0/device:GPU:0\n",
      "gradients/Mean_grad/Shape_3: (Const): /job:localhost/replica:0/task:0/device:GPU:0\n",
      "gradients/Mean_grad/Const: (Const): /job:localhost/replica:0/task:0/device:GPU:0\n",
      "gradients/Mean_grad/Const_1: (Const): /job:localhost/replica:0/task:0/device:GPU:0\n",
      "gradients/Mean_grad/Maximum/y: (Const): /job:localhost/replica:0/task:0/device:GPU:0\n",
      "gradients/Square_grad/Const: (Const): /job:localhost/replica:0/task:0/device:GPU:0\n",
      "GradientDescent/learning_rate: (Const): /job:localhost/replica:0/task:0/device:CPU:0\n",
      "random_uniform_2/shape: (Const): /job:localhost/replica:0/task:0/device:GPU:0\n",
      "random_uniform_2/min: (Const): /job:localhost/replica:0/task:0/device:GPU:0\n",
      "random_uniform_2/max: (Const): /job:localhost/replica:0/task:0/device:GPU:0\n",
      "random_uniform_3/shape: (Const): /job:localhost/replica:0/task:0/device:GPU:0\n",
      "random_uniform_3/min: (Const): /job:localhost/replica:0/task:0/device:GPU:0\n",
      "random_uniform_3/max: (Const): /job:localhost/replica:0/task:0/device:GPU:0\n",
      "X_1: (Placeholder): /job:localhost/replica:0/task:0/device:GPU:0\n",
      "Y_1: (Placeholder): /job:localhost/replica:0/task:0/device:GPU:0\n",
      "range_1/start: (Const): /job:localhost/replica:0/task:0/device:GPU:0\n",
      "range_1/delta: (Const): /job:localhost/replica:0/task:0/device:GPU:0\n",
      "gradients_1/Shape: (Const): /job:localhost/replica:0/task:0/device:GPU:0\n",
      "gradients_1/grad_ys_0/Const: (Const): /job:localhost/replica:0/task:0/device:GPU:0\n",
      "gradients_1/Mean_1_grad/range/start: (Const): /job:localhost/replica:0/task:0/device:GPU:0\n",
      "gradients_1/Mean_1_grad/range/delta: (Const): /job:localhost/replica:0/task:0/device:GPU:0\n",
      "gradients_1/Mean_1_grad/ones/Const: (Const): /job:localhost/replica:0/task:0/device:GPU:0\n",
      "gradients_1/Mean_1_grad/Shape_3: (Const): /job:localhost/replica:0/task:0/device:GPU:0\n",
      "gradients_1/Mean_1_grad/Const: (Const): /job:localhost/replica:0/task:0/device:GPU:0\n",
      "gradients_1/Mean_1_grad/Const_1: (Const): /job:localhost/replica:0/task:0/device:GPU:0\n",
      "gradients_1/Mean_1_grad/Maximum/y: (Const): /job:localhost/replica:0/task:0/device:GPU:0\n",
      "gradients_1/Square_1_grad/Const: (Const): /job:localhost/replica:0/task:0/device:GPU:0\n",
      "GradientDescent_1/learning_rate: (Const): /job:localhost/replica:0/task:0/device:CPU:0\n",
      "[-0.61987233] [0.6476176]\n",
      "Step:  0   Cost:  7548.025   W:  [15.954722]   b:  [51.604782]\n",
      "Step:  1000   Cost:  0.0038810612   W:  [181.20103]   b:  [30.370945]\n",
      "Step:  2000   Cost:  6.966584e-08   W:  [181.81557]   b:  [30.182617]\n",
      "Step:  3000   Cost:  1.5902334e-08   W:  [181.81691]   b:  [30.182203]\n",
      "Step:  4000   Cost:  1.5902334e-08   W:  [181.81691]   b:  [30.182203]\n",
      "Step:  5000   Cost:  1.5902334e-08   W:  [181.81691]   b:  [30.182203]\n",
      "Step:  6000   Cost:  1.5902334e-08   W:  [181.81691]   b:  [30.182203]\n",
      "Step:  7000   Cost:  1.5902334e-08   W:  [181.81691]   b:  [30.182203]\n",
      "Step:  8000   Cost:  1.5902334e-08   W:  [181.81691]   b:  [30.182203]\n",
      "Step:  9000   Cost:  1.5902334e-08   W:  [181.81691]   b:  [30.182203]\n",
      "X: 20, Y: [68.00012]\n",
      "X: 30, Y: [86.]\n",
      "X: 40, Y: [103.99987]\n",
      "X: 50, Y: [121.99974]\n",
      "X: 60, Y: [139.9996]\n"
     ]
    }
   ],
   "source": [
    "import tensorflow.compat.v1 as tf\n",
    "tf.disable_v2_behavior()\n",
    "import numpy as np\n",
    "import os\n",
    "\n",
    "os.environ['TF_CPP_MIN_LOG_LEVEL'] = '2'\n",
    "tf.debugging.set_log_device_placement(True)\n",
    "\n",
    "def x_norm(x): \n",
    "    x = np.array(x)\n",
    "    x = x / 100 * 0.99 + 0.01\n",
    "    return x\n",
    "\n",
    "x = [12.0, 28.0, 36.5, 42.0, 29.8]\n",
    "x = x_norm(x)\n",
    "\n",
    "y = [53.6, 82.4, 97.7, 107.6, 85.64]\n",
    "\n",
    "# Check if TensorFlow is using GPU\n",
    "gpus = tf.config.experimental.list_physical_devices('GPU')\n",
    "print('GPU 사용 개수:', len(gpus))\n",
    "if gpus:\n",
    "    print('GPU 사용 가능')\n",
    "else:\n",
    "    print('GPU 사용 불가능')\n",
    "\n",
    "# random_uniform -> random.uniform\n",
    "W = tf.Variable(tf.random.uniform([1], -1.0, 1.0), name=\"Weight\")\n",
    "b = tf.Variable(tf.random.uniform([1], -1.0, 1.0), name=\"Bias\")\n",
    "\n",
    "X = tf.placeholder(tf.float32, name=\"X\")\n",
    "Y = tf.placeholder(tf.float32, name=\"Y\")\n",
    "\n",
    "hypothesis = tf.add(tf.multiply(W, X), b)\n",
    "print(hypothesis)\n",
    "\n",
    "optimizer = tf.train.GradientDescentOptimizer(learning_rate=0.3)\n",
    "cost = tf.reduce_mean(tf.square(Y - hypothesis))\n",
    "train_op = optimizer.minimize(cost)\n",
    "\n",
    "with tf.Session() as sess:\n",
    "    sess.run(tf.global_variables_initializer())\n",
    "    \n",
    "    print(sess.run(W), sess.run(b))\n",
    "    \n",
    "    for step in range(10000):\n",
    "        _, cost_val = sess.run([train_op, cost], feed_dict={X: x, Y: y})\n",
    "        \n",
    "        if step % 1000 == 0:\n",
    "            print(\"Step: \", step, \"  Cost: \", cost_val, \"  W: \", sess.run(W), \"  b: \", sess.run(b))\n",
    "        \n",
    "    print(\"X: 20, Y:\", sess.run(hypothesis, feed_dict={X: x_norm(20)}))\n",
    "    print(\"X: 30, Y:\", sess.run(hypothesis, feed_dict={X: x_norm(30)}))\n",
    "    print(\"X: 40, Y:\", sess.run(hypothesis, feed_dict={X: x_norm(40)}))\n",
    "    print(\"X: 50, Y:\", sess.run(hypothesis, feed_dict={X: x_norm(50)}))\n",
    "    print(\"X: 60, Y:\", sess.run(hypothesis, feed_dict={X: x_norm(60)}))\n"
   ]
  },
  {
   "cell_type": "markdown",
   "id": "3d78dd4e",
   "metadata": {},
   "source": [
    "### Step.4  TensorFlow 설치확인"
   ]
  },
  {
   "cell_type": "markdown",
   "id": "19de3d7d",
   "metadata": {},
   "source": [
    "- CPU 설정 확인 : python -c \"import tensorflow as tf; print(tf.reduce_sum(tf.random.normal([1000, 1000])))\"\n",
    "\n",
    "- GPU 설정 확인 : python -c \"import tensorflow as tf; print(tf.config.list_physical_devices('GPU'))\""
   ]
  },
  {
   "cell_type": "code",
   "execution_count": 14,
   "id": "87261883",
   "metadata": {},
   "outputs": [
    {
     "name": "stdout",
     "output_type": "stream",
     "text": [
      "tf.Tensor(-1363.5104, shape=(), dtype=float32)\n"
     ]
    }
   ],
   "source": [
    "# CPU 설정 확인\n",
    "import tensorflow as tf; print(tf.reduce_sum(tf.random.normal([1000, 1000])))"
   ]
  },
  {
   "cell_type": "code",
   "execution_count": 15,
   "id": "20b8fe28",
   "metadata": {},
   "outputs": [
    {
     "name": "stdout",
     "output_type": "stream",
     "text": [
      "[PhysicalDevice(name='/physical_device:GPU:0', device_type='GPU')]\n"
     ]
    }
   ],
   "source": [
    "# GPU 설정 확인\n",
    "import tensorflow as tf; print(tf.config.list_physical_devices('GPU'))"
   ]
  },
  {
   "cell_type": "code",
   "execution_count": 16,
   "id": "a8950211",
   "metadata": {},
   "outputs": [
    {
     "name": "stdout",
     "output_type": "stream",
     "text": [
      "Downloading data from https://storage.googleapis.com/tensorflow/tf-keras-datasets/mnist.npz\n",
      "11490434/11490434 [==============================] - 1s 0us/step\n",
      "Epoch 1/5\n"
     ]
    },
    {
     "name": "stderr",
     "output_type": "stream",
     "text": [
      "2024-07-16 10:42:48.962016: W tensorflow/core/platform/profile_utils/cpu_utils.cc:128] Failed to get CPU frequency: 0 Hz\n",
      "2024-07-16 10:42:49.162307: I tensorflow/core/grappler/optimizers/custom_graph_optimizer_registry.cc:113] Plugin optimizer for device_type GPU is enabled.\n"
     ]
    },
    {
     "name": "stdout",
     "output_type": "stream",
     "text": [
      "1875/1875 [==============================] - 11s 5ms/step - loss: 0.2896 - accuracy: 0.9152\n",
      "Epoch 2/5\n",
      "1875/1875 [==============================] - 8s 4ms/step - loss: 0.1350 - accuracy: 0.9611\n",
      "Epoch 3/5\n",
      "1875/1875 [==============================] - 9s 5ms/step - loss: 0.0992 - accuracy: 0.9703\n",
      "Epoch 4/5\n",
      "1875/1875 [==============================] - 8s 5ms/step - loss: 0.0796 - accuracy: 0.9750\n",
      "Epoch 5/5\n",
      "1875/1875 [==============================] - 9s 5ms/step - loss: 0.0674 - accuracy: 0.9791\n"
     ]
    },
    {
     "name": "stderr",
     "output_type": "stream",
     "text": [
      "2024-07-16 10:43:34.362353: I tensorflow/core/grappler/optimizers/custom_graph_optimizer_registry.cc:113] Plugin optimizer for device_type GPU is enabled.\n"
     ]
    },
    {
     "name": "stdout",
     "output_type": "stream",
     "text": [
      "313/313 - 1s - loss: 0.0702 - accuracy: 0.9798 - 1s/epoch - 4ms/step\n"
     ]
    },
    {
     "data": {
      "text/plain": [
       "[0.07016460597515106, 0.9797999858856201]"
      ]
     },
     "execution_count": 16,
     "metadata": {},
     "output_type": "execute_result"
    }
   ],
   "source": [
    "\n",
    "import tensorflow as tf\n",
    "\n",
    "mnist = tf.keras.datasets.mnist\n",
    "\n",
    "(x_train, y_train), (x_test, y_test) = mnist.load_data()\n",
    "x_train, x_test = x_train / 255.0, x_test / 255.0\n",
    "\n",
    "\n",
    "model = tf.keras.models.Sequential([\n",
    "  tf.keras.layers.Flatten(input_shape=(28, 28)),\n",
    "  tf.keras.layers.Dense(128, activation='relu'),\n",
    "  tf.keras.layers.Dropout(0.2),\n",
    "  tf.keras.layers.Dense(10, activation='softmax')\n",
    "])\n",
    "\n",
    "model.compile(optimizer='adam',\n",
    "          loss='sparse_categorical_crossentropy',\n",
    "          metrics=['accuracy'])\n",
    "\n",
    "\n",
    "model.fit(x_train, y_train, epochs=5)\n",
    "\n",
    "model.evaluate(x_test,  y_test, verbose=2)"
   ]
  },
  {
   "cell_type": "markdown",
   "id": "cce86fb3",
   "metadata": {},
   "source": [
    "### Step.5  Jupyter Notebook에 커널 추가"
   ]
  },
  {
   "cell_type": "markdown",
   "id": "f34b860c",
   "metadata": {},
   "source": [
    "- pip install ipykernel\n",
    "\n",
    "- python -m ipykernel install --user --name py39_gpu210 --display-name \"py39_gpu210\"\n",
    "\n",
    "- 커널 목록 확인 :  jupyter kernelspec list\n",
    "- 커널 삭제하기  :  jupyter kernelspec uninstall venv"
   ]
  },
  {
   "cell_type": "code",
   "execution_count": null,
   "id": "d0c5a6ce",
   "metadata": {},
   "outputs": [],
   "source": []
  },
  {
   "cell_type": "code",
   "execution_count": null,
   "id": "ef323edd",
   "metadata": {},
   "outputs": [],
   "source": []
  }
 ],
 "metadata": {
  "kernelspec": {
   "display_name": "base",
   "language": "python",
   "name": "python3"
  },
  "language_info": {
   "codemirror_mode": {
    "name": "ipython",
    "version": 3
   },
   "file_extension": ".py",
   "mimetype": "text/x-python",
   "name": "python",
   "nbconvert_exporter": "python",
   "pygments_lexer": "ipython3",
   "version": "3.9.12"
  }
 },
 "nbformat": 4,
 "nbformat_minor": 5
}
