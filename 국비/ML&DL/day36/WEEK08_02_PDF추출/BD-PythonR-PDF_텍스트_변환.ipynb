{
 "cells": [
  {
   "cell_type": "markdown",
   "metadata": {},
   "source": [
    "# 입문자를 위한, 파이썬/R 데이터 분석     "
   ]
  },
  {
   "cell_type": "code",
   "execution_count": null,
   "metadata": {},
   "outputs": [],
   "source": []
  },
  {
   "cell_type": "markdown",
   "metadata": {},
   "source": [
    "## Today's mission\n",
    "\n",
    "- 텍스트 데이터 변환\n",
    "  - PDF 파일 텍스트 읽기\n",
    "  - PDF 파일 텍스트(.txt) 파일 저장"
   ]
  },
  {
   "cell_type": "code",
   "execution_count": null,
   "metadata": {},
   "outputs": [],
   "source": []
  },
  {
   "cell_type": "markdown",
   "metadata": {},
   "source": [
    "## 텍스트 데이터 변환\n",
    "- 예제 PDF 파일 출처: [국토교통부, 제주 제2공항 기본계획(안) 공개, 제주도와 협의 착수](https://www.molit.go.kr/USR/NEWS/m_72/dtl.jsp?lcmspage=1&id=95088010)"
   ]
  },
  {
   "cell_type": "markdown",
   "metadata": {},
   "source": [
    "### 예제 (1) PDF 파일 텍스트 읽기"
   ]
  },
  {
   "cell_type": "code",
   "execution_count": null,
   "metadata": {},
   "outputs": [],
   "source": [
    "PDF_FILE_PATH = \"./data/sample.pdf\""
   ]
  },
  {
   "cell_type": "markdown",
   "metadata": {},
   "source": [
    "### (1-1) PyMuPDF\n",
    "[GitHub - PyMuPDF](https://github.com/pymupdf/PyMuPDF)     \n",
    "[Docs-PyMuPDF](https://pymupdf.readthedocs.io/en/latest/)"
   ]
  },
  {
   "cell_type": "code",
   "execution_count": null,
   "metadata": {},
   "outputs": [],
   "source": [
    "#설치\n",
    "# !pip install PyMuPDF"
   ]
  },
  {
   "cell_type": "code",
   "execution_count": null,
   "metadata": {},
   "outputs": [],
   "source": [
    "import fitz\n",
    "path = PDF_FILE_PATH\n",
    "doc = fitz.open(path)\n",
    "text = \"\"\n",
    "for page in doc:\n",
    "    sub = page.get_text()\n",
    "    text += sub\n",
    "print(text)"
   ]
  },
  {
   "cell_type": "code",
   "execution_count": null,
   "metadata": {},
   "outputs": [],
   "source": []
  },
  {
   "cell_type": "markdown",
   "metadata": {},
   "source": [
    "### (1-2) PyPDF2\n",
    "[GitHub - PyPDF2](https://github.com/py-pdf/pypdf)   \n",
    "[Docs - PyPDF2](https://pypdf2.readthedocs.io/en/3.0.0/)"
   ]
  },
  {
   "cell_type": "code",
   "execution_count": null,
   "metadata": {},
   "outputs": [],
   "source": [
    "#설치\n",
    "# !pip install PyPDF2"
   ]
  },
  {
   "cell_type": "code",
   "execution_count": null,
   "metadata": {},
   "outputs": [],
   "source": [
    "from PyPDF2 import PdfReader\n",
    "reader = PdfReader(PDF_FILE_PATH)\n",
    "pages = reader.pages\n",
    "text = \"\"\n",
    "for page in pages:\n",
    "    sub = page.extract_text()\n",
    "    text += sub\n",
    "print(text)"
   ]
  },
  {
   "cell_type": "code",
   "execution_count": null,
   "metadata": {},
   "outputs": [],
   "source": []
  },
  {
   "cell_type": "markdown",
   "metadata": {},
   "source": [
    "### (1-4) pdfminer.six\n",
    "[GitHub-pdfminer.six](https://github.com/pdfminer/pdfminer.six)     \n",
    "[Docs-pdfminer.six](https://pdfminersix.readthedocs.io/en/latest/)"
   ]
  },
  {
   "cell_type": "code",
   "execution_count": null,
   "metadata": {},
   "outputs": [],
   "source": [
    "#설치\n",
    "# !pip install pdfminer.six"
   ]
  },
  {
   "cell_type": "code",
   "execution_count": null,
   "metadata": {},
   "outputs": [],
   "source": [
    "from pdfminer.high_level import extract_text\n",
    "text = extract_text(PDF_FILE_PATH)\n",
    "print(text)"
   ]
  },
  {
   "cell_type": "code",
   "execution_count": null,
   "metadata": {},
   "outputs": [],
   "source": []
  },
  {
   "cell_type": "markdown",
   "metadata": {},
   "source": [
    "### (1-5) pdfminer.six\n",
    "[GitHub-pdfplumber](https://github.com/jsvine/pdfplumber)"
   ]
  },
  {
   "cell_type": "code",
   "execution_count": null,
   "metadata": {},
   "outputs": [],
   "source": [
    "#설치\n",
    "# !pip install pdfplumber"
   ]
  },
  {
   "cell_type": "code",
   "execution_count": null,
   "metadata": {},
   "outputs": [],
   "source": [
    "import pdfplumber\n",
    "pdf = pdfplumber.open(PDF_FILE_PATH)\n",
    "pages = pdf.pages\n",
    "text = \"\"\n",
    "for page in pages:\n",
    "    sub = page.extract_text()\n",
    "    text += sub\n",
    "print(text)"
   ]
  },
  {
   "cell_type": "code",
   "execution_count": null,
   "metadata": {},
   "outputs": [],
   "source": []
  },
  {
   "cell_type": "markdown",
   "metadata": {},
   "source": [
    "### (1-6) tabula\n",
    "[GitHub-tabula](https://github.com/chezou/tabula-py)      \n",
    "[Docs-tabula](https://tabula-py.readthedocs.io/en/latest/?badge=latest)"
   ]
  },
  {
   "cell_type": "code",
   "execution_count": null,
   "metadata": {},
   "outputs": [],
   "source": [
    "#설치\n",
    "# !pip install tabula-py\n",
    "#!pip install numpy==1.26.4"
   ]
  },
  {
   "cell_type": "code",
   "execution_count": null,
   "metadata": {},
   "outputs": [],
   "source": [
    "import tabula\n",
    "dfs = tabula.read_pdf(PDF_FILE_PATH, pages=\"all\", encoding='CP949')\n",
    "len(dfs)"
   ]
  },
  {
   "cell_type": "code",
   "execution_count": null,
   "metadata": {},
   "outputs": [],
   "source": [
    "dfs[0]"
   ]
  },
  {
   "cell_type": "markdown",
   "metadata": {},
   "source": [
    "### (1-7) camelot\n",
    "[Docs-camelot](https://camelot-py.readthedocs.io/en/master/user/advanced.html#visual-debugging)"
   ]
  },
  {
   "cell_type": "code",
   "execution_count": null,
   "metadata": {},
   "outputs": [],
   "source": [
    "# !pip install camelot-py"
   ]
  },
  {
   "cell_type": "code",
   "execution_count": null,
   "metadata": {},
   "outputs": [],
   "source": [
    "# !pip install opencv-python"
   ]
  },
  {
   "cell_type": "code",
   "execution_count": null,
   "metadata": {},
   "outputs": [],
   "source": [
    "# !pip install ghostscript"
   ]
  },
  {
   "cell_type": "code",
   "execution_count": null,
   "metadata": {},
   "outputs": [],
   "source": [
    "# https://ghostscript.com/releases/gsdnld.html\n",
    "# import ctypes\n",
    "# from ctypes.util import find_library\n",
    "# print(find_library(\"\".join((\"gsdll\", str(ctypes.sizeof(ctypes.c_voidp) * 8), \".dll\"))))"
   ]
  },
  {
   "cell_type": "code",
   "execution_count": 1,
   "metadata": {},
   "outputs": [
    {
     "name": "stdout",
     "output_type": "stream",
     "text": [
      "/Users/shinminseog/opt/anaconda3/bin/../lib/libgs.dylib\n"
     ]
    }
   ],
   "source": [
    "from ctypes.util import find_library\n",
    "print(find_library(\"gs\"))"
   ]
  },
  {
   "cell_type": "code",
   "execution_count": 2,
   "metadata": {},
   "outputs": [],
   "source": [
    "import camelot"
   ]
  },
  {
   "cell_type": "code",
   "execution_count": 3,
   "metadata": {},
   "outputs": [],
   "source": [
    "tables = camelot.read_pdf('pdf/copy_text.pdf', process_background=True)"
   ]
  },
  {
   "cell_type": "code",
   "execution_count": 4,
   "metadata": {},
   "outputs": [
    {
     "data": {
      "text/html": [
       "<div>\n",
       "<style scoped>\n",
       "    .dataframe tbody tr th:only-of-type {\n",
       "        vertical-align: middle;\n",
       "    }\n",
       "\n",
       "    .dataframe tbody tr th {\n",
       "        vertical-align: top;\n",
       "    }\n",
       "\n",
       "    .dataframe thead th {\n",
       "        text-align: right;\n",
       "    }\n",
       "</style>\n",
       "<table border=\"1\" class=\"dataframe\">\n",
       "  <thead>\n",
       "    <tr style=\"text-align: right;\">\n",
       "      <th></th>\n",
       "      <th>0</th>\n",
       "      <th>1</th>\n",
       "      <th>2</th>\n",
       "      <th>3</th>\n",
       "      <th>4</th>\n",
       "      <th>5</th>\n",
       "      <th>6</th>\n",
       "      <th>7</th>\n",
       "    </tr>\n",
       "  </thead>\n",
       "  <tbody>\n",
       "    <tr>\n",
       "      <th>0</th>\n",
       "      <td>Sl. \\nName of \\nName of \\nDisease/ Illness \\nN...</td>\n",
       "      <td></td>\n",
       "      <td></td>\n",
       "      <td></td>\n",
       "      <td>0\\n   \\n   \\n19 \\n0 \\n31/12/13 \\n03/01/14 \\n11...</td>\n",
       "      <td></td>\n",
       "      <td></td>\n",
       "      <td></td>\n",
       "    </tr>\n",
       "    <tr>\n",
       "      <th>1</th>\n",
       "      <td></td>\n",
       "      <td>Kerala</td>\n",
       "      <td>Kollam</td>\n",
       "      <td>i.  Food \\nPoisoning</td>\n",
       "      <td></td>\n",
       "      <td>Under \\ncontrol</td>\n",
       "      <td>Cases reported from Ward no III, Kottakupuram,...</td>\n",
       "      <td></td>\n",
       "    </tr>\n",
       "    <tr>\n",
       "      <th>2</th>\n",
       "      <td></td>\n",
       "      <td>Maharashtra</td>\n",
       "      <td>Beed</td>\n",
       "      <td>i\\ni.  Dengue &amp; \\nChikungun\\nya</td>\n",
       "      <td></td>\n",
       "      <td>Under \\ncontrol</td>\n",
       "      <td>Cases  of  fever reported from Village Golharw...</td>\n",
       "      <td></td>\n",
       "    </tr>\n",
       "    <tr>\n",
       "      <th>3</th>\n",
       "      <td></td>\n",
       "      <td>Odisha</td>\n",
       "      <td>Kalahandi</td>\n",
       "      <td>iii. Food \\nPoisoning</td>\n",
       "      <td></td>\n",
       "      <td>Under \\ncontrol</td>\n",
       "      <td>Cases \\nof \\nloose  motion \\nand \\nvomiting \\n...</td>\n",
       "      <td></td>\n",
       "    </tr>\n",
       "    <tr>\n",
       "      <th>4</th>\n",
       "      <td></td>\n",
       "      <td>West Bengal</td>\n",
       "      <td>West \\nMedinipur</td>\n",
       "      <td>iv. Acute \\nDiarrhoeal \\nDisease</td>\n",
       "      <td></td>\n",
       "      <td>Under \\ncontrol</td>\n",
       "      <td>Outbreak  of  diarrhoea \\nreported \\nfrom  Vil...</td>\n",
       "      <td></td>\n",
       "    </tr>\n",
       "    <tr>\n",
       "      <th>5</th>\n",
       "      <td></td>\n",
       "      <td></td>\n",
       "      <td>Birbhum</td>\n",
       "      <td>v.  Food \\nPoisoning</td>\n",
       "      <td></td>\n",
       "      <td>Under \\ncontrol</td>\n",
       "      <td>An  outbreak  of  food  poisoning  reported  f...</td>\n",
       "      <td></td>\n",
       "    </tr>\n",
       "    <tr>\n",
       "      <th>6</th>\n",
       "      <td></td>\n",
       "      <td></td>\n",
       "      <td>Howrah</td>\n",
       "      <td>vi. Viral \\nHepatitis A \\n&amp;E</td>\n",
       "      <td></td>\n",
       "      <td>Under \\nsurveillance</td>\n",
       "      <td>Outbreak  of \\njaundice  reported  from  urban...</td>\n",
       "      <td></td>\n",
       "    </tr>\n",
       "    <tr>\n",
       "      <th>7</th>\n",
       "      <td></td>\n",
       "      <td></td>\n",
       "      <td></td>\n",
       "      <td></td>\n",
       "      <td></td>\n",
       "      <td></td>\n",
       "      <td></td>\n",
       "      <td></td>\n",
       "    </tr>\n",
       "  </tbody>\n",
       "</table>\n",
       "</div>"
      ],
      "text/plain": [
       "                                                   0            1  \\\n",
       "0  Sl. \\nName of \\nName of \\nDisease/ Illness \\nN...                \n",
       "1                                                          Kerala   \n",
       "2                                                     Maharashtra   \n",
       "3                                                          Odisha   \n",
       "4                                                     West Bengal   \n",
       "5                                                                   \n",
       "6                                                                   \n",
       "7                                                                   \n",
       "\n",
       "                  2                                 3  \\\n",
       "0                                                       \n",
       "1            Kollam              i.  Food \\nPoisoning   \n",
       "2              Beed   i\\ni.  Dengue & \\nChikungun\\nya   \n",
       "3         Kalahandi             iii. Food \\nPoisoning   \n",
       "4  West \\nMedinipur  iv. Acute \\nDiarrhoeal \\nDisease   \n",
       "5           Birbhum              v.  Food \\nPoisoning   \n",
       "6            Howrah      vi. Viral \\nHepatitis A \\n&E   \n",
       "7                                                       \n",
       "\n",
       "                                                   4                     5  \\\n",
       "0  0\\n   \\n   \\n19 \\n0 \\n31/12/13 \\n03/01/14 \\n11...                         \n",
       "1                                                          Under \\ncontrol   \n",
       "2                                                          Under \\ncontrol   \n",
       "3                                                          Under \\ncontrol   \n",
       "4                                                          Under \\ncontrol   \n",
       "5                                                          Under \\ncontrol   \n",
       "6                                                     Under \\nsurveillance   \n",
       "7                                                                            \n",
       "\n",
       "                                                   6 7  \n",
       "0                                                       \n",
       "1  Cases reported from Ward no III, Kottakupuram,...    \n",
       "2  Cases  of  fever reported from Village Golharw...    \n",
       "3  Cases \\nof \\nloose  motion \\nand \\nvomiting \\n...    \n",
       "4  Outbreak  of  diarrhoea \\nreported \\nfrom  Vil...    \n",
       "5  An  outbreak  of  food  poisoning  reported  f...    \n",
       "6  Outbreak  of \\njaundice  reported  from  urban...    \n",
       "7                                                       "
      ]
     },
     "execution_count": 4,
     "metadata": {},
     "output_type": "execute_result"
    }
   ],
   "source": [
    "tables[0].df"
   ]
  },
  {
   "cell_type": "code",
   "execution_count": 5,
   "metadata": {},
   "outputs": [
    {
     "name": "stderr",
     "output_type": "stream",
     "text": [
      "/var/folders/2w/p0zgpvps62gb8jlzgy_v7zgh0000gn/T/ipykernel_21143/2994349711.py:1: UserWarning: Matplotlib is currently using module://matplotlib_inline.backend_inline, which is a non-GUI backend, so cannot show the figure.\n",
      "  camelot.plot(tables[0], kind='joint').show()\n"
     ]
    },
    {
     "data": {
      "image/png": "[encoded data removed]",
      "text/plain": [
       "<Figure size 432x288 with 1 Axes>"
      ]
     },
     "metadata": {
      "needs_background": "light"
     },
     "output_type": "display_data"
    }
   ],
   "source": [
    "camelot.plot(tables[0], kind='joint').show()"
   ]
  },
  {
   "cell_type": "code",
   "execution_count": null,
   "metadata": {},
   "outputs": [],
   "source": []
  },
  {
   "cell_type": "markdown",
   "metadata": {},
   "source": [
    "### 예제 (2) PDF 파일 텍스트(.txt) 파일 저장"
   ]
  },
  {
   "cell_type": "markdown",
   "metadata": {},
   "source": [
    "### (2-1) PDF 그대로 저장"
   ]
  },
  {
   "cell_type": "code",
   "execution_count": null,
   "metadata": {},
   "outputs": [],
   "source": [
    "import fitz\n",
    "import os\n",
    "path = PDF_FILE_PATH\n",
    "doc = fitz.open(path)\n",
    "text = \"\"\n",
    "for page in doc:\n",
    "    sub = page.get_text()\n",
    "    text += sub\n",
    "print(text[:100])"
   ]
  },
  {
   "cell_type": "code",
   "execution_count": null,
   "metadata": {},
   "outputs": [],
   "source": [
    "PDF_FILE_PATH"
   ]
  },
  {
   "cell_type": "code",
   "execution_count": null,
   "metadata": {},
   "outputs": [],
   "source": [
    "def save_pdf_text_as_txt(pdf_path):\n",
    "    # PDF 파일 열기\n",
    "    doc = fitz.open(pdf_path)\n",
    "    # 새로운 파일명 생성\n",
    "    txt_path = os.path.splitext(pdf_path)[0] + \".txt\"\n",
    "\n",
    "    with open(txt_path, 'w', encoding='utf-8') as file:\n",
    "        # 각 페이지의 텍스트를 파일에 추가\n",
    "        for page in doc:\n",
    "            text = page.get_text()\n",
    "            file.write(text)\n",
    "\n",
    "    return txt_path"
   ]
  },
  {
   "cell_type": "code",
   "execution_count": null,
   "metadata": {},
   "outputs": [],
   "source": [
    "PDF_FILE_PATH"
   ]
  },
  {
   "cell_type": "code",
   "execution_count": null,
   "metadata": {},
   "outputs": [],
   "source": [
    "# 함수 호출하여 PDF와 동일한 이름의 텍스트 파일로 저장\n",
    "save_pdf_text_as_txt(PDF_FILE_PATH)"
   ]
  },
  {
   "cell_type": "code",
   "execution_count": null,
   "metadata": {},
   "outputs": [],
   "source": []
  },
  {
   "cell_type": "markdown",
   "metadata": {},
   "source": [
    "### (2-2) PDF에 페이지 정보 추가 저장"
   ]
  },
  {
   "cell_type": "code",
   "execution_count": null,
   "metadata": {},
   "outputs": [],
   "source": [
    "import fitz\n",
    "import os"
   ]
  },
  {
   "cell_type": "code",
   "execution_count": null,
   "metadata": {},
   "outputs": [],
   "source": [
    "def save_pdf_text_with_page_number(pdf_path):\n",
    "    # PDF 파일 열기\n",
    "    doc = fitz.open(pdf_path)\n",
    "    # 새로운 파일명 생성\n",
    "    txt_path = os.path.splitext(pdf_path)[0] + \"_with_page_number.txt\"\n",
    "\n",
    "    with open(txt_path, 'w', encoding='utf-8') as file:\n",
    "        # 각 페이지의 텍스트와 페이지 번호를 파일에 추가\n",
    "        for page_num in range(doc.page_count):\n",
    "            page = doc.load_page(page_num)\n",
    "            text = page.get_text()\n",
    "            # 페이지 번호와 함께 텍스트를 파일에 씀\n",
    "            file.write(text)\n",
    "            file.write(f\"==================== Page {page_num + 1} 페이지 ====================\\n\\n\")\n",
    "            file.write(\"\\n\\n\")\n",
    "\n",
    "    return txt_path"
   ]
  },
  {
   "cell_type": "code",
   "execution_count": null,
   "metadata": {},
   "outputs": [],
   "source": [
    "PDF_FILE_PATH"
   ]
  },
  {
   "cell_type": "code",
   "execution_count": null,
   "metadata": {},
   "outputs": [],
   "source": [
    "# 함수 호출하여 텍스트와 페이지 번호가 추가된 텍스트 파일 생성\n",
    "save_pdf_text_with_page_number(PDF_FILE_PATH)"
   ]
  },
  {
   "cell_type": "code",
   "execution_count": null,
   "metadata": {},
   "outputs": [],
   "source": []
  },
  {
   "cell_type": "markdown",
   "metadata": {},
   "source": [
    "- (추가실습) : AG 리더보드 공개-금융, 공공, 의료, 법률, 커머스 한국어 RAG 성능 평가\n",
    "\n",
    "- [RAG-Evaluation-Dataset-KO](https://huggingface.co/datasets/allganize/RAG-Evaluation-Dataset-KO?ref=blog-ko.allganize.ai)"
   ]
  },
  {
   "cell_type": "code",
   "execution_count": null,
   "metadata": {},
   "outputs": [],
   "source": []
  }
 ],
 "metadata": {
  "kernelspec": {
   "display_name": "Python 3 (ipykernel)",
   "language": "python",
   "name": "python3"
  },
  "language_info": {
   "codemirror_mode": {
    "name": "ipython",
    "version": 3
   },
   "file_extension": ".py",
   "mimetype": "text/x-python",
   "name": "python",
   "nbconvert_exporter": "python",
   "pygments_lexer": "ipython3",
   "version": "3.9.12"
  },
  "toc": {
   "base_numbering": 1,
   "nav_menu": {},
   "number_sections": true,
   "sideBar": true,
   "skip_h1_title": false,
   "title_cell": "Table of Contents",
   "title_sidebar": "Contents",
   "toc_cell": false,
   "toc_position": {
    "height": "calc(100% - 180px)",
    "left": "10px",
    "top": "150px",
    "width": "245.062px"
   },
   "toc_section_display": true,
   "toc_window_display": true
  }
 },
 "nbformat": 4,
 "nbformat_minor": 4
}
