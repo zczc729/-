{
 "cells": [
  {
   "cell_type": "code",
   "execution_count": null,
   "id": "dc30c492",
   "metadata": {},
   "outputs": [],
   "source": []
  },
  {
   "cell_type": "markdown",
   "id": "e58d880c",
   "metadata": {},
   "source": [
    "# [KR] 파이썬 웹어플리케이션 맛보기 (feat. Streamlit)\n",
    "\n",
    "- 참고 : https://wonyoungseo.medium.com/kr-%ED%8C%8C%EC%9D%B4%EC%8D%AC-%EC%9B%B9%EC%96%B4%ED%94%8C%EB%A6%AC%EC%BC%80%EC%9D%B4%EC%85%98-%EB%A7%9B%EB%B3%B4%EA%B8%B0-feat-streamlit-846937a7438d"
   ]
  },
  {
   "cell_type": "markdown",
   "id": "428260a6",
   "metadata": {},
   "source": [
    "- Streamlit 공식 문서 : https://streamlit.io/"
   ]
  },
  {
   "cell_type": "code",
   "execution_count": null,
   "id": "caf05fbe",
   "metadata": {},
   "outputs": [],
   "source": []
  },
  {
   "cell_type": "markdown",
   "id": "58ac1a8b",
   "metadata": {},
   "source": [
    "## 설치"
   ]
  },
  {
   "cell_type": "code",
   "execution_count": 114,
   "id": "de4a08a4",
   "metadata": {},
   "outputs": [],
   "source": [
    "# !pip install streamlit"
   ]
  },
  {
   "cell_type": "code",
   "execution_count": 46,
   "id": "96c64326",
   "metadata": {},
   "outputs": [],
   "source": [
    "### 쥬피터 노트북 오류발생시\n",
    "# !pip install --upgrade jupyter"
   ]
  },
  {
   "cell_type": "code",
   "execution_count": null,
   "id": "ba6e3a33",
   "metadata": {},
   "outputs": [],
   "source": [
    "### ModuleNotFoundError: No module named ‘altair.vegalite.v4’오류 발생시\n",
    "#pip install \"altair<5\""
   ]
  },
  {
   "cell_type": "markdown",
   "id": "882c8116",
   "metadata": {},
   "source": [
    "## 실행 (.py 기반으로 잘 안됨)"
   ]
  },
  {
   "cell_type": "code",
   "execution_count": 48,
   "id": "b9c14939",
   "metadata": {},
   "outputs": [],
   "source": [
    "import streamlit as st"
   ]
  },
  {
   "cell_type": "code",
   "execution_count": 49,
   "id": "cbf278c0",
   "metadata": {},
   "outputs": [],
   "source": [
    "import os\n",
    "\n",
    "if 'STREAMLIT_SERVER_RUNNING' not in os.environ:\n",
    "    os.environ['STREAMLIT_SERVER_RUNNING'] = '1'\n",
    "    \n",
    "    ## Title\n",
    "    st.title('Streamlit Tutorial')\n",
    "    ## Header/Subheader\n",
    "    st.header('This is header')\n",
    "    st.subheader('This is subheader')\n",
    "    ## Text\n",
    "    st.text(\"Hello Streamlit! 이 글은 튜토리얼 입니다.\")\n",
    "    \n",
    "else:\n",
    "    st.warning('Streamlit server is already running.')"
   ]
  },
  {
   "cell_type": "code",
   "execution_count": null,
   "id": "73faae00",
   "metadata": {},
   "outputs": [],
   "source": []
  },
  {
   "cell_type": "markdown",
   "id": "824abd34",
   "metadata": {},
   "source": [
    "## Jupyter 노트북에서 Streamlit 앱 개발\n",
    "\n",
    "- 참고 : https://github.com/ddobrinskiy/streamlit-jupyter"
   ]
  },
  {
   "cell_type": "code",
   "execution_count": 6,
   "id": "14a7ff3a",
   "metadata": {},
   "outputs": [],
   "source": [
    "# !pip install streamlit_jupyter"
   ]
  },
  {
   "cell_type": "code",
   "execution_count": 50,
   "id": "45efa05c",
   "metadata": {},
   "outputs": [],
   "source": [
    "import streamlit as st\n",
    "\n",
    "from streamlit_jupyter import StreamlitPatcher, tqdm"
   ]
  },
  {
   "cell_type": "code",
   "execution_count": 52,
   "id": "73a22821",
   "metadata": {},
   "outputs": [],
   "source": [
    "# StreamlitPatcher().jupyter()  # register streamlit with jupyter-compatible wrappers"
   ]
  },
  {
   "cell_type": "code",
   "execution_count": null,
   "id": "d195170a",
   "metadata": {},
   "outputs": [],
   "source": []
  },
  {
   "cell_type": "markdown",
   "id": "4ffcd891",
   "metadata": {},
   "source": [
    "## Streamlit 맛보기 실습"
   ]
  },
  {
   "cell_type": "markdown",
   "id": "2a0924eb",
   "metadata": {},
   "source": [
    "**텍스트 출력**  \n",
    "**Title, Header & Subheader**\n",
    "- Header와 Subheader를 다음과 같이 달 수 있다. 다만 Header의 경우 subheader 레벨까지만 가능하다. Title, Header, Subheader이 각각 Header, Subheader, Subsubheader인 것으로 인식하면 될 것 같다"
   ]
  },
  {
   "cell_type": "code",
   "execution_count": 53,
   "id": "72558bdc",
   "metadata": {},
   "outputs": [
    {
     "data": {
      "text/markdown": [
       "# Streamlit Tutorial"
      ],
      "text/plain": [
       "<IPython.core.display.Markdown object>"
      ]
     },
     "metadata": {},
     "output_type": "display_data"
    }
   ],
   "source": [
    "## Title\n",
    "st.title('Streamlit Tutorial')"
   ]
  },
  {
   "cell_type": "code",
   "execution_count": 54,
   "id": "796abdad",
   "metadata": {},
   "outputs": [
    {
     "data": {
      "text/markdown": [
       "## This is header"
      ],
      "text/plain": [
       "<IPython.core.display.Markdown object>"
      ]
     },
     "metadata": {},
     "output_type": "display_data"
    },
    {
     "data": {
      "text/markdown": [
       "### This is subheader"
      ],
      "text/plain": [
       "<IPython.core.display.Markdown object>"
      ]
     },
     "metadata": {},
     "output_type": "display_data"
    }
   ],
   "source": [
    "## Header/Subheader\n",
    "st.header('This is header')\n",
    "st.subheader('This is subheader')"
   ]
  },
  {
   "cell_type": "code",
   "execution_count": 55,
   "id": "771e21c2",
   "metadata": {},
   "outputs": [
    {
     "data": {
      "text/plain": [
       "DeltaGenerator()"
      ]
     },
     "execution_count": 55,
     "metadata": {},
     "output_type": "execute_result"
    }
   ],
   "source": [
    "## Text\n",
    "st.text(\"Hello Streamlit! 이 글은 튜토리얼 입니다.\")"
   ]
  },
  {
   "cell_type": "code",
   "execution_count": 56,
   "id": "31ab0587",
   "metadata": {},
   "outputs": [
    {
     "data": {
      "text/markdown": [
       "* * *"
      ],
      "text/plain": [
       "<IPython.core.display.Markdown object>"
      ]
     },
     "metadata": {},
     "output_type": "display_data"
    }
   ],
   "source": [
    "st.markdown(\"* * *\")"
   ]
  },
  {
   "cell_type": "markdown",
   "id": "8ae3f7d7",
   "metadata": {},
   "source": [
    "**Markdown**  \n",
    "- Streamlit도 Dash 와 마찬가지로 Markdown을 지원한다."
   ]
  },
  {
   "cell_type": "code",
   "execution_count": 57,
   "id": "06aeb753",
   "metadata": {},
   "outputs": [
    {
     "data": {
      "text/markdown": [
       "# This is a Markdown title"
      ],
      "text/plain": [
       "<IPython.core.display.Markdown object>"
      ]
     },
     "metadata": {},
     "output_type": "display_data"
    },
    {
     "data": {
      "text/markdown": [
       "## This is a Markdown header"
      ],
      "text/plain": [
       "<IPython.core.display.Markdown object>"
      ]
     },
     "metadata": {},
     "output_type": "display_data"
    },
    {
     "data": {
      "text/markdown": [
       "### This is a Markdown subheader"
      ],
      "text/plain": [
       "<IPython.core.display.Markdown object>"
      ]
     },
     "metadata": {},
     "output_type": "display_data"
    },
    {
     "data": {
      "text/markdown": [
       "- item 1\n",
       "   - item 1.1\n",
       "   - item 1.2\n",
       "- item 2\n",
       "- item 3"
      ],
      "text/plain": [
       "<IPython.core.display.Markdown object>"
      ]
     },
     "metadata": {},
     "output_type": "display_data"
    },
    {
     "data": {
      "text/markdown": [
       "1. item 1\n",
       "   1. item 1.1\n",
       "   2. item 1.2\n",
       "2. item 2\n",
       "3. item 3"
      ],
      "text/plain": [
       "<IPython.core.display.Markdown object>"
      ]
     },
     "metadata": {},
     "output_type": "display_data"
    }
   ],
   "source": [
    "## Markdown syntax\n",
    "st.markdown(\"# This is a Markdown title\")\n",
    "st.markdown(\"## This is a Markdown header\")\n",
    "st.markdown(\"### This is a Markdown subheader\")\n",
    "st.markdown(\"- item 1\\n\"\n",
    "            \"   - item 1.1\\n\"\n",
    "            \"   - item 1.2\\n\"\n",
    "            \"- item 2\\n\"\n",
    "            \"- item 3\")\n",
    "st.markdown(\"1. item 1\\n\"\n",
    "            \"   1. item 1.1\\n\"\n",
    "            \"   2. item 1.2\\n\"\n",
    "            \"2. item 2\\n\"\n",
    "            \"3. item 3\")"
   ]
  },
  {
   "cell_type": "code",
   "execution_count": 58,
   "id": "2f04b5f1",
   "metadata": {},
   "outputs": [
    {
     "data": {
      "text/markdown": [
       "* * *"
      ],
      "text/plain": [
       "<IPython.core.display.Markdown object>"
      ]
     },
     "metadata": {},
     "output_type": "display_data"
    }
   ],
   "source": [
    "st.markdown(\"* * *\")"
   ]
  },
  {
   "cell_type": "markdown",
   "id": "f0fa7aa4",
   "metadata": {},
   "source": [
    "**Latex**\n",
    "- Latex의 경우 백슬래시 \\ 를 빈번히 사용되기 때문에, 일반 string 대신 raw string을 붙여주는 편이 좋다."
   ]
  },
  {
   "cell_type": "code",
   "execution_count": 59,
   "id": "fc889623",
   "metadata": {},
   "outputs": [
    {
     "data": {
      "text/plain": [
       "DeltaGenerator()"
      ]
     },
     "execution_count": 59,
     "metadata": {},
     "output_type": "execute_result"
    }
   ],
   "source": [
    "## Latex\n",
    "st.latex(r\"Y = \\alpha + \\beta X_i\")"
   ]
  },
  {
   "cell_type": "code",
   "execution_count": 60,
   "id": "b2c56508",
   "metadata": {},
   "outputs": [
    {
     "data": {
      "text/markdown": [
       "회귀분석에서 잔차식은 다음과 같습니다 $e_i = y_i - \\hat{y}_i$"
      ],
      "text/plain": [
       "<IPython.core.display.Markdown object>"
      ]
     },
     "metadata": {},
     "output_type": "display_data"
    }
   ],
   "source": [
    "## Latex-inline\n",
    "st.markdown(r\"회귀분석에서 잔차식은 다음과 같습니다 $e_i = y_i - \\hat{y}_i$\")"
   ]
  },
  {
   "cell_type": "code",
   "execution_count": 61,
   "id": "15f83999",
   "metadata": {},
   "outputs": [
    {
     "data": {
      "text/markdown": [
       "* * *"
      ],
      "text/plain": [
       "<IPython.core.display.Markdown object>"
      ]
     },
     "metadata": {},
     "output_type": "display_data"
    }
   ],
   "source": [
    "st.markdown(\"* * *\")"
   ]
  },
  {
   "cell_type": "markdown",
   "id": "a64c947a",
   "metadata": {},
   "source": [
    "**메세지와 에러메세지, 예외처리 메세지**  \n",
    "- 기본적으로 포맷된 메세지 박스 기능을 제공한다."
   ]
  },
  {
   "cell_type": "code",
   "execution_count": 62,
   "id": "e4d79193",
   "metadata": {},
   "outputs": [
    {
     "data": {
      "text/plain": [
       "DeltaGenerator()"
      ]
     },
     "execution_count": 62,
     "metadata": {},
     "output_type": "execute_result"
    }
   ],
   "source": [
    "## Error/Colorful Text\n",
    "st.success(\"Successful\")\n",
    "st.info(\"Information!\")\n",
    "st.warning(\"This is a warning\")\n",
    "st.error(\"This is an error!\")\n",
    "st.exception(\"NameError('Error name is not defined')\")"
   ]
  },
  {
   "cell_type": "code",
   "execution_count": 63,
   "id": "569b7e6c",
   "metadata": {},
   "outputs": [
    {
     "data": {
      "text/markdown": [
       "* * *"
      ],
      "text/plain": [
       "<IPython.core.display.Markdown object>"
      ]
     },
     "metadata": {},
     "output_type": "display_data"
    }
   ],
   "source": [
    "st.markdown(\"* * *\")"
   ]
  },
  {
   "cell_type": "markdown",
   "id": "4a809b27",
   "metadata": {},
   "source": [
    "**데이터프레임과 테이블 출력**\n",
    "\n",
    "데이터를 출력하는 방법에는 3가지 방법이 있다.\n",
    "\n",
    "- st.table: 입력 테이블 전체를 리턴한다.\n",
    "- st.dataframe: 적절히 10개의 행을 기준으로 스크롤을 통해 데이터를 관찰 할 수 있고 각 열마다 정렬도 가능하다. 각 테이블의 우측 상단의 확대 버튼을 통해 테이블을 더 크게 볼 수 있고,\n",
    "- st.write:st.datafrmae과 똑같은 결과를 리턴한다."
   ]
  },
  {
   "cell_type": "code",
   "execution_count": 64,
   "id": "17a3182f",
   "metadata": {},
   "outputs": [],
   "source": [
    "## Load data\n",
    "import pandas as pd\n",
    "from sklearn.datasets import load_iris\n",
    "iris = load_iris()\n",
    "iris_df = pd.DataFrame(iris.data, columns=iris.feature_names)\n",
    "iris_df['target'] = iris['target']\n",
    "iris_df['target'] = iris_df['target'].apply(lambda x: 'setosa' if x == 0 else ('versicolor' if x == 1 else 'virginica'))"
   ]
  },
  {
   "cell_type": "code",
   "execution_count": 65,
   "id": "d8cde34d",
   "metadata": {},
   "outputs": [
    {
     "data": {
      "text/plain": [
       "DeltaGenerator()"
      ]
     },
     "execution_count": 65,
     "metadata": {},
     "output_type": "execute_result"
    }
   ],
   "source": [
    "## Return table/dataframe\n",
    "# table\n",
    "st.table(iris_df.head())"
   ]
  },
  {
   "cell_type": "code",
   "execution_count": 66,
   "id": "80f8514b",
   "metadata": {},
   "outputs": [
    {
     "data": {
      "text/html": [
       "<div>\n",
       "<style scoped>\n",
       "    .dataframe tbody tr th:only-of-type {\n",
       "        vertical-align: middle;\n",
       "    }\n",
       "\n",
       "    .dataframe tbody tr th {\n",
       "        vertical-align: top;\n",
       "    }\n",
       "\n",
       "    .dataframe thead th {\n",
       "        text-align: right;\n",
       "    }\n",
       "</style>\n",
       "<table border=\"1\" class=\"dataframe\">\n",
       "  <thead>\n",
       "    <tr style=\"text-align: right;\">\n",
       "      <th></th>\n",
       "      <th>sepal length (cm)</th>\n",
       "      <th>sepal width (cm)</th>\n",
       "      <th>petal length (cm)</th>\n",
       "      <th>petal width (cm)</th>\n",
       "      <th>target</th>\n",
       "    </tr>\n",
       "  </thead>\n",
       "  <tbody>\n",
       "    <tr>\n",
       "      <th>0</th>\n",
       "      <td>5.1</td>\n",
       "      <td>3.5</td>\n",
       "      <td>1.4</td>\n",
       "      <td>0.2</td>\n",
       "      <td>setosa</td>\n",
       "    </tr>\n",
       "    <tr>\n",
       "      <th>1</th>\n",
       "      <td>4.9</td>\n",
       "      <td>3.0</td>\n",
       "      <td>1.4</td>\n",
       "      <td>0.2</td>\n",
       "      <td>setosa</td>\n",
       "    </tr>\n",
       "    <tr>\n",
       "      <th>2</th>\n",
       "      <td>4.7</td>\n",
       "      <td>3.2</td>\n",
       "      <td>1.3</td>\n",
       "      <td>0.2</td>\n",
       "      <td>setosa</td>\n",
       "    </tr>\n",
       "    <tr>\n",
       "      <th>3</th>\n",
       "      <td>4.6</td>\n",
       "      <td>3.1</td>\n",
       "      <td>1.5</td>\n",
       "      <td>0.2</td>\n",
       "      <td>setosa</td>\n",
       "    </tr>\n",
       "    <tr>\n",
       "      <th>4</th>\n",
       "      <td>5.0</td>\n",
       "      <td>3.6</td>\n",
       "      <td>1.4</td>\n",
       "      <td>0.2</td>\n",
       "      <td>setosa</td>\n",
       "    </tr>\n",
       "    <tr>\n",
       "      <th>...</th>\n",
       "      <td>...</td>\n",
       "      <td>...</td>\n",
       "      <td>...</td>\n",
       "      <td>...</td>\n",
       "      <td>...</td>\n",
       "    </tr>\n",
       "    <tr>\n",
       "      <th>145</th>\n",
       "      <td>6.7</td>\n",
       "      <td>3.0</td>\n",
       "      <td>5.2</td>\n",
       "      <td>2.3</td>\n",
       "      <td>virginica</td>\n",
       "    </tr>\n",
       "    <tr>\n",
       "      <th>146</th>\n",
       "      <td>6.3</td>\n",
       "      <td>2.5</td>\n",
       "      <td>5.0</td>\n",
       "      <td>1.9</td>\n",
       "      <td>virginica</td>\n",
       "    </tr>\n",
       "    <tr>\n",
       "      <th>147</th>\n",
       "      <td>6.5</td>\n",
       "      <td>3.0</td>\n",
       "      <td>5.2</td>\n",
       "      <td>2.0</td>\n",
       "      <td>virginica</td>\n",
       "    </tr>\n",
       "    <tr>\n",
       "      <th>148</th>\n",
       "      <td>6.2</td>\n",
       "      <td>3.4</td>\n",
       "      <td>5.4</td>\n",
       "      <td>2.3</td>\n",
       "      <td>virginica</td>\n",
       "    </tr>\n",
       "    <tr>\n",
       "      <th>149</th>\n",
       "      <td>5.9</td>\n",
       "      <td>3.0</td>\n",
       "      <td>5.1</td>\n",
       "      <td>1.8</td>\n",
       "      <td>virginica</td>\n",
       "    </tr>\n",
       "  </tbody>\n",
       "</table>\n",
       "<p>150 rows × 5 columns</p>\n",
       "</div>"
      ],
      "text/plain": [
       "     sepal length (cm)  sepal width (cm)  petal length (cm)  petal width (cm)  \\\n",
       "0                  5.1               3.5                1.4               0.2   \n",
       "1                  4.9               3.0                1.4               0.2   \n",
       "2                  4.7               3.2                1.3               0.2   \n",
       "3                  4.6               3.1                1.5               0.2   \n",
       "4                  5.0               3.6                1.4               0.2   \n",
       "..                 ...               ...                ...               ...   \n",
       "145                6.7               3.0                5.2               2.3   \n",
       "146                6.3               2.5                5.0               1.9   \n",
       "147                6.5               3.0                5.2               2.0   \n",
       "148                6.2               3.4                5.4               2.3   \n",
       "149                5.9               3.0                5.1               1.8   \n",
       "\n",
       "        target  \n",
       "0       setosa  \n",
       "1       setosa  \n",
       "2       setosa  \n",
       "3       setosa  \n",
       "4       setosa  \n",
       "..         ...  \n",
       "145  virginica  \n",
       "146  virginica  \n",
       "147  virginica  \n",
       "148  virginica  \n",
       "149  virginica  \n",
       "\n",
       "[150 rows x 5 columns]"
      ]
     },
     "metadata": {},
     "output_type": "display_data"
    },
    {
     "data": {
      "text/html": [
       "<div>\n",
       "<style scoped>\n",
       "    .dataframe tbody tr th:only-of-type {\n",
       "        vertical-align: middle;\n",
       "    }\n",
       "\n",
       "    .dataframe tbody tr th {\n",
       "        vertical-align: top;\n",
       "    }\n",
       "\n",
       "    .dataframe thead th {\n",
       "        text-align: right;\n",
       "    }\n",
       "</style>\n",
       "<table border=\"1\" class=\"dataframe\">\n",
       "  <thead>\n",
       "    <tr style=\"text-align: right;\">\n",
       "      <th></th>\n",
       "      <th>sepal length (cm)</th>\n",
       "      <th>sepal width (cm)</th>\n",
       "      <th>petal length (cm)</th>\n",
       "      <th>petal width (cm)</th>\n",
       "      <th>target</th>\n",
       "    </tr>\n",
       "  </thead>\n",
       "  <tbody>\n",
       "    <tr>\n",
       "      <th>0</th>\n",
       "      <td>5.1</td>\n",
       "      <td>3.5</td>\n",
       "      <td>1.4</td>\n",
       "      <td>0.2</td>\n",
       "      <td>setosa</td>\n",
       "    </tr>\n",
       "    <tr>\n",
       "      <th>1</th>\n",
       "      <td>4.9</td>\n",
       "      <td>3.0</td>\n",
       "      <td>1.4</td>\n",
       "      <td>0.2</td>\n",
       "      <td>setosa</td>\n",
       "    </tr>\n",
       "    <tr>\n",
       "      <th>2</th>\n",
       "      <td>4.7</td>\n",
       "      <td>3.2</td>\n",
       "      <td>1.3</td>\n",
       "      <td>0.2</td>\n",
       "      <td>setosa</td>\n",
       "    </tr>\n",
       "    <tr>\n",
       "      <th>3</th>\n",
       "      <td>4.6</td>\n",
       "      <td>3.1</td>\n",
       "      <td>1.5</td>\n",
       "      <td>0.2</td>\n",
       "      <td>setosa</td>\n",
       "    </tr>\n",
       "    <tr>\n",
       "      <th>4</th>\n",
       "      <td>5.0</td>\n",
       "      <td>3.6</td>\n",
       "      <td>1.4</td>\n",
       "      <td>0.2</td>\n",
       "      <td>setosa</td>\n",
       "    </tr>\n",
       "    <tr>\n",
       "      <th>...</th>\n",
       "      <td>...</td>\n",
       "      <td>...</td>\n",
       "      <td>...</td>\n",
       "      <td>...</td>\n",
       "      <td>...</td>\n",
       "    </tr>\n",
       "    <tr>\n",
       "      <th>145</th>\n",
       "      <td>6.7</td>\n",
       "      <td>3.0</td>\n",
       "      <td>5.2</td>\n",
       "      <td>2.3</td>\n",
       "      <td>virginica</td>\n",
       "    </tr>\n",
       "    <tr>\n",
       "      <th>146</th>\n",
       "      <td>6.3</td>\n",
       "      <td>2.5</td>\n",
       "      <td>5.0</td>\n",
       "      <td>1.9</td>\n",
       "      <td>virginica</td>\n",
       "    </tr>\n",
       "    <tr>\n",
       "      <th>147</th>\n",
       "      <td>6.5</td>\n",
       "      <td>3.0</td>\n",
       "      <td>5.2</td>\n",
       "      <td>2.0</td>\n",
       "      <td>virginica</td>\n",
       "    </tr>\n",
       "    <tr>\n",
       "      <th>148</th>\n",
       "      <td>6.2</td>\n",
       "      <td>3.4</td>\n",
       "      <td>5.4</td>\n",
       "      <td>2.3</td>\n",
       "      <td>virginica</td>\n",
       "    </tr>\n",
       "    <tr>\n",
       "      <th>149</th>\n",
       "      <td>5.9</td>\n",
       "      <td>3.0</td>\n",
       "      <td>5.1</td>\n",
       "      <td>1.8</td>\n",
       "      <td>virginica</td>\n",
       "    </tr>\n",
       "  </tbody>\n",
       "</table>\n",
       "<p>150 rows × 5 columns</p>\n",
       "</div>"
      ],
      "text/plain": [
       "     sepal length (cm)  sepal width (cm)  petal length (cm)  petal width (cm)  \\\n",
       "0                  5.1               3.5                1.4               0.2   \n",
       "1                  4.9               3.0                1.4               0.2   \n",
       "2                  4.7               3.2                1.3               0.2   \n",
       "3                  4.6               3.1                1.5               0.2   \n",
       "4                  5.0               3.6                1.4               0.2   \n",
       "..                 ...               ...                ...               ...   \n",
       "145                6.7               3.0                5.2               2.3   \n",
       "146                6.3               2.5                5.0               1.9   \n",
       "147                6.5               3.0                5.2               2.0   \n",
       "148                6.2               3.4                5.4               2.3   \n",
       "149                5.9               3.0                5.1               1.8   \n",
       "\n",
       "        target  \n",
       "0       setosa  \n",
       "1       setosa  \n",
       "2       setosa  \n",
       "3       setosa  \n",
       "4       setosa  \n",
       "..         ...  \n",
       "145  virginica  \n",
       "146  virginica  \n",
       "147  virginica  \n",
       "148  virginica  \n",
       "149  virginica  \n",
       "\n",
       "[150 rows x 5 columns]"
      ]
     },
     "metadata": {},
     "output_type": "display_data"
    }
   ],
   "source": [
    "# dataframe\n",
    "st.dataframe(iris_df)\n",
    "st.write(iris_df)"
   ]
  },
  {
   "cell_type": "code",
   "execution_count": 67,
   "id": "73519026",
   "metadata": {},
   "outputs": [
    {
     "data": {
      "text/markdown": [
       "* * *"
      ],
      "text/plain": [
       "<IPython.core.display.Markdown object>"
      ]
     },
     "metadata": {},
     "output_type": "display_data"
    }
   ],
   "source": [
    "st.markdown(\"* * *\")"
   ]
  },
  {
   "cell_type": "markdown",
   "id": "d34b7510",
   "metadata": {},
   "source": [
    "**이미지, 오디오, 비디오 파일 출력**\n",
    "\n",
    "이미지, 영상, 오디오 파일을 열어서 재생할 수 있다.\n",
    "\n",
    "- st.image : 파이썬 이미지 라이브러리와 함께 쓸 수 있다.\n",
    "- st.video : 파일의 포맷을 지정해야 하며, 디폴트로는 video/mp4가 설정되어 있다.start_time 변수를 통해 재생시작점을 조절할 수 있다.\n",
    "- st.audio : 파일 포맷은 audio/wav 가 디폴트로 설정되어 있다.마찬가지로 start_time 변수를 통해 재생시작점을 조절할 수 있다."
   ]
  },
  {
   "cell_type": "code",
   "execution_count": 68,
   "id": "b60e8b69",
   "metadata": {},
   "outputs": [
    {
     "data": {
      "text/plain": [
       "DeltaGenerator()"
      ]
     },
     "execution_count": 68,
     "metadata": {},
     "output_type": "execute_result"
    }
   ],
   "source": [
    "##Show image\n",
    "from PIL import Image\n",
    "img = Image.open(\"files/example_cat.jpeg\")\n",
    "st.image(img, width=400, caption=\"Image example: Cat\")"
   ]
  },
  {
   "cell_type": "code",
   "execution_count": 69,
   "id": "9fe55e7b",
   "metadata": {},
   "outputs": [
    {
     "data": {
      "text/plain": [
       "DeltaGenerator()"
      ]
     },
     "execution_count": 69,
     "metadata": {},
     "output_type": "execute_result"
    }
   ],
   "source": [
    "## Show videos\n",
    "vid_file = open(\"files/example_vid_cat.mp4\", \"rb\").read()\n",
    "st.video(vid_file, start_time=2)"
   ]
  },
  {
   "cell_type": "code",
   "execution_count": 70,
   "id": "13ef3234",
   "metadata": {},
   "outputs": [
    {
     "data": {
      "text/plain": [
       "DeltaGenerator()"
      ]
     },
     "execution_count": 70,
     "metadata": {},
     "output_type": "execute_result"
    }
   ],
   "source": [
    "## Play audio file.\n",
    "audio_file = open(\"files/loop_w_bass.mp3\", \"rb\").read()\n",
    "st.audio(audio_file, format='audio/mp3', start_time=10)"
   ]
  },
  {
   "cell_type": "code",
   "execution_count": 71,
   "id": "324f3388",
   "metadata": {},
   "outputs": [
    {
     "data": {
      "text/markdown": [
       "* * *"
      ],
      "text/plain": [
       "<IPython.core.display.Markdown object>"
      ]
     },
     "metadata": {},
     "output_type": "display_data"
    }
   ],
   "source": [
    "st.markdown(\"* * *\")"
   ]
  },
  {
   "cell_type": "markdown",
   "id": "e32873b9",
   "metadata": {},
   "source": [
    "**위젯**\n",
    "\n",
    "st.checkbox - 체크박스"
   ]
  },
  {
   "cell_type": "code",
   "execution_count": 72,
   "id": "b04caed2",
   "metadata": {},
   "outputs": [],
   "source": [
    "## Widget\n",
    "## Checkbox\n",
    "if st.checkbox(\"Show/Hide\"):\n",
    "    st.text(\"체크박스가 선택되었습니다.\")"
   ]
  },
  {
   "cell_type": "code",
   "execution_count": 73,
   "id": "12d93c2d",
   "metadata": {},
   "outputs": [
    {
     "data": {
      "text/markdown": [
       "* * *"
      ],
      "text/plain": [
       "<IPython.core.display.Markdown object>"
      ]
     },
     "metadata": {},
     "output_type": "display_data"
    }
   ],
   "source": [
    "st.markdown(\"* * *\")"
   ]
  },
  {
   "cell_type": "markdown",
   "id": "45a49484",
   "metadata": {},
   "source": [
    "st.radio - 라디오버튼"
   ]
  },
  {
   "cell_type": "code",
   "execution_count": 74,
   "id": "5fb99edc",
   "metadata": {},
   "outputs": [],
   "source": [
    "## Radio button\n",
    "status = st.radio(\"Select status.\", (\"Active\", \"Inactive\"))\n",
    "if status == \"Active\":\n",
    "    st.success(\"활성화 되었습니다.\")\n",
    "else:\n",
    "    st.warning(\"비활성화 되었습니다.\")"
   ]
  },
  {
   "cell_type": "code",
   "execution_count": 75,
   "id": "558733b7",
   "metadata": {},
   "outputs": [
    {
     "data": {
      "text/markdown": [
       "* * *"
      ],
      "text/plain": [
       "<IPython.core.display.Markdown object>"
      ]
     },
     "metadata": {},
     "output_type": "display_data"
    }
   ],
   "source": [
    "st.markdown(\"* * *\")"
   ]
  },
  {
   "cell_type": "markdown",
   "id": "b4251070",
   "metadata": {},
   "source": [
    "st.selectbox - 드랍다운 선택"
   ]
  },
  {
   "cell_type": "code",
   "execution_count": 76,
   "id": "a940a9c4",
   "metadata": {},
   "outputs": [
    {
     "data": {
      "text/markdown": [
       "당신의 직군은 "
      ],
      "text/plain": [
       "<IPython.core.display.Markdown object>"
      ]
     },
     "metadata": {},
     "output_type": "display_data"
    },
    {
     "data": {
      "text/markdown": [
       "Backend Developer"
      ],
      "text/plain": [
       "<IPython.core.display.Markdown object>"
      ]
     },
     "metadata": {},
     "output_type": "display_data"
    },
    {
     "data": {
      "text/markdown": [
       " 입니다."
      ],
      "text/plain": [
       "<IPython.core.display.Markdown object>"
      ]
     },
     "metadata": {},
     "output_type": "display_data"
    }
   ],
   "source": [
    "# Select Box (ex)\n",
    "occupation = st.selectbox(\"직군을 선택하세요.\",\n",
    "                          [\"Backend Developer\",\n",
    "                           \"Frontend Developer\",\n",
    "                           \"ML Engineer\",\n",
    "                           \"Data Engineer\",\n",
    "                           \"Database Administrator\",\n",
    "                           \"Data Scientist\",\n",
    "                           \"Data Analyst\",\n",
    "                           \"Security Engineer\"])\n",
    "st.write(\"당신의 직군은 \", occupation, \" 입니다.\")"
   ]
  },
  {
   "cell_type": "code",
   "execution_count": 77,
   "id": "8c137c02",
   "metadata": {},
   "outputs": [
    {
     "data": {
      "text/markdown": [
       "* * *"
      ],
      "text/plain": [
       "<IPython.core.display.Markdown object>"
      ]
     },
     "metadata": {},
     "output_type": "display_data"
    }
   ],
   "source": [
    "st.markdown(\"* * *\")"
   ]
  },
  {
   "cell_type": "markdown",
   "id": "ad196264",
   "metadata": {},
   "source": [
    "st.multiselect - 드랍다운 다중 선택"
   ]
  },
  {
   "cell_type": "code",
   "execution_count": 78,
   "id": "44b06e17",
   "metadata": {},
   "outputs": [
    {
     "data": {
      "text/plain": [
       "0"
      ]
     },
     "metadata": {},
     "output_type": "display_data"
    },
    {
     "data": {
      "text/markdown": [
       "가지를 선택했습니다."
      ],
      "text/plain": [
       "<IPython.core.display.Markdown object>"
      ]
     },
     "metadata": {},
     "output_type": "display_data"
    }
   ],
   "source": [
    "## MultiSelect\n",
    "location = st.multiselect(\"선호하는 유투브 채널을 선택하세요.\",\n",
    "                          (\"운동\", \"IT기기\", \"브이로그\",\n",
    "                           \"먹방\", \"반려동물\", \"맛집 리뷰\"))\n",
    "st.write(len(location), \"가지를 선택했습니다.\")"
   ]
  },
  {
   "cell_type": "code",
   "execution_count": 79,
   "id": "53cefaae",
   "metadata": {
    "scrolled": true
   },
   "outputs": [
    {
     "data": {
      "text/markdown": [
       "* * *"
      ],
      "text/plain": [
       "<IPython.core.display.Markdown object>"
      ]
     },
     "metadata": {},
     "output_type": "display_data"
    }
   ],
   "source": [
    "st.markdown(\"* * *\")"
   ]
  },
  {
   "cell_type": "markdown",
   "id": "814f0342",
   "metadata": {},
   "source": [
    "st.slider - 슬라이더"
   ]
  },
  {
   "cell_type": "code",
   "execution_count": 80,
   "id": "882c24e7",
   "metadata": {},
   "outputs": [],
   "source": [
    "## Slider\n",
    "level = st.slider(\"레벨을 선택하세요.\", 1, 5)"
   ]
  },
  {
   "cell_type": "markdown",
   "id": "22b6a749",
   "metadata": {},
   "source": [
    "st.button - 버튼"
   ]
  },
  {
   "cell_type": "code",
   "execution_count": 81,
   "id": "71180cc6",
   "metadata": {},
   "outputs": [],
   "source": [
    "## Buttons\n",
    "if st.button(\"About\"):\n",
    "    st.text(\"Streamlit을 이용한 튜토리얼입니다.\")"
   ]
  },
  {
   "cell_type": "code",
   "execution_count": 82,
   "id": "3375e79b",
   "metadata": {},
   "outputs": [
    {
     "data": {
      "text/markdown": [
       "* * *"
      ],
      "text/plain": [
       "<IPython.core.display.Markdown object>"
      ]
     },
     "metadata": {},
     "output_type": "display_data"
    }
   ],
   "source": [
    "st.markdown(\"* * *\")"
   ]
  },
  {
   "cell_type": "markdown",
   "id": "b9566f56",
   "metadata": {},
   "source": [
    "텍스트 입력"
   ]
  },
  {
   "cell_type": "code",
   "execution_count": 83,
   "id": "623b1a5a",
   "metadata": {},
   "outputs": [],
   "source": [
    "# Text Input\n",
    "first_name = st.text_input(\"이름을 입력하세요.\", \"Type Here ...\")\n",
    "if st.button(\"Submit\", key='first_name'):\n",
    "    result = first_name.title()\n",
    "    st.success(result)"
   ]
  },
  {
   "cell_type": "code",
   "execution_count": 84,
   "id": "03dfcc68",
   "metadata": {},
   "outputs": [],
   "source": [
    "# Text Area\n",
    "message = st.text_area(\"메세지를 입력하세요.\", \"Type Here ...\")\n",
    "if st.button(\"Submit\", key='message'):\n",
    "    result = message.title()\n",
    "    st.success(result)"
   ]
  },
  {
   "cell_type": "code",
   "execution_count": 85,
   "id": "6acf486e",
   "metadata": {},
   "outputs": [
    {
     "data": {
      "text/markdown": [
       "* * *"
      ],
      "text/plain": [
       "<IPython.core.display.Markdown object>"
      ]
     },
     "metadata": {},
     "output_type": "display_data"
    }
   ],
   "source": [
    "st.markdown(\"* * *\")"
   ]
  },
  {
   "cell_type": "markdown",
   "id": "61186d60",
   "metadata": {},
   "source": [
    "날짜와 시간 입력"
   ]
  },
  {
   "cell_type": "code",
   "execution_count": 86,
   "id": "87a17288",
   "metadata": {},
   "outputs": [],
   "source": [
    "## Date Input\n",
    "import datetime\n",
    "today = st.date_input(\"날짜를 선택하세요.\", datetime.datetime.now())\n",
    "the_time = st.time_input(\"시간을 입력하세요.\", datetime.time())"
   ]
  },
  {
   "cell_type": "code",
   "execution_count": 90,
   "id": "91a5a596",
   "metadata": {},
   "outputs": [
    {
     "data": {
      "text/markdown": [
       "* * *"
      ],
      "text/plain": [
       "<IPython.core.display.Markdown object>"
      ]
     },
     "metadata": {},
     "output_type": "display_data"
    }
   ],
   "source": [
    "st.markdown(\"* * *\")"
   ]
  },
  {
   "cell_type": "code",
   "execution_count": 91,
   "id": "1af7b727",
   "metadata": {},
   "outputs": [
    {
     "data": {
      "text/markdown": [
       "### Display one-line code"
      ],
      "text/plain": [
       "<IPython.core.display.Markdown object>"
      ]
     },
     "metadata": {},
     "output_type": "display_data"
    },
    {
     "data": {
      "text/plain": [
       "DeltaGenerator()"
      ]
     },
     "execution_count": 91,
     "metadata": {},
     "output_type": "execute_result"
    }
   ],
   "source": [
    "# Display Raw Code - one line\n",
    "st.subheader(\"Display one-line code\")\n",
    "st.code(\"import numpy as np\")"
   ]
  },
  {
   "cell_type": "markdown",
   "id": "8e416128",
   "metadata": {},
   "source": [
    "코드와 JSON 출력\n",
    "\n",
    "with st.echo(): 이하의 코드는 코드블럭으로 출력된다."
   ]
  },
  {
   "cell_type": "code",
   "execution_count": 92,
   "id": "434c941d",
   "metadata": {},
   "outputs": [
    {
     "data": {
      "text/markdown": [
       "### Display code snippet"
      ],
      "text/plain": [
       "<IPython.core.display.Markdown object>"
      ]
     },
     "metadata": {},
     "output_type": "display_data"
    },
    {
     "ename": "RuntimeError",
     "evalue": "generator didn't yield",
     "output_type": "error",
     "traceback": [
      "\u001b[0;31m---------------------------------------------------------------------------\u001b[0m",
      "\u001b[0;31mRuntimeError\u001b[0m                              Traceback (most recent call last)",
      "Cell \u001b[0;32mIn[92], line 3\u001b[0m\n\u001b[1;32m      1\u001b[0m \u001b[38;5;66;03m# Display Raw Code - snippet\u001b[39;00m\n\u001b[1;32m      2\u001b[0m st\u001b[38;5;241m.\u001b[39msubheader(\u001b[38;5;124m\"\u001b[39m\u001b[38;5;124mDisplay code snippet\u001b[39m\u001b[38;5;124m\"\u001b[39m)\n\u001b[0;32m----> 3\u001b[0m \u001b[38;5;28;01mwith\u001b[39;00m st\u001b[38;5;241m.\u001b[39mecho():\n\u001b[1;32m      4\u001b[0m     \u001b[38;5;66;03m# 여기서부터 아래의 코드를 출력합니다.\u001b[39;00m\n\u001b[1;32m      5\u001b[0m     \u001b[38;5;28;01mimport\u001b[39;00m \u001b[38;5;21;01mpandas\u001b[39;00m \u001b[38;5;28;01mas\u001b[39;00m \u001b[38;5;21;01mpd\u001b[39;00m\n\u001b[1;32m      6\u001b[0m     df \u001b[38;5;241m=\u001b[39m pd\u001b[38;5;241m.\u001b[39mDataFrame()\n",
      "File \u001b[0;32m~/opt/anaconda3/envs/dl/lib/python3.9/contextlib.py:121\u001b[0m, in \u001b[0;36m_GeneratorContextManager.__enter__\u001b[0;34m(self)\u001b[0m\n\u001b[1;32m    119\u001b[0m     \u001b[38;5;28;01mreturn\u001b[39;00m \u001b[38;5;28mnext\u001b[39m(\u001b[38;5;28mself\u001b[39m\u001b[38;5;241m.\u001b[39mgen)\n\u001b[1;32m    120\u001b[0m \u001b[38;5;28;01mexcept\u001b[39;00m \u001b[38;5;167;01mStopIteration\u001b[39;00m:\n\u001b[0;32m--> 121\u001b[0m     \u001b[38;5;28;01mraise\u001b[39;00m \u001b[38;5;167;01mRuntimeError\u001b[39;00m(\u001b[38;5;124m\"\u001b[39m\u001b[38;5;124mgenerator didn\u001b[39m\u001b[38;5;124m'\u001b[39m\u001b[38;5;124mt yield\u001b[39m\u001b[38;5;124m\"\u001b[39m) \u001b[38;5;28;01mfrom\u001b[39;00m \u001b[38;5;28;01mNone\u001b[39;00m\n",
      "\u001b[0;31mRuntimeError\u001b[0m: generator didn't yield"
     ]
    }
   ],
   "source": [
    "# Display Raw Code - snippet\n",
    "st.subheader(\"Display code snippet\")\n",
    "with st.echo():\n",
    "    # 여기서부터 아래의 코드를 출력합니다.\n",
    "    import pandas as pd\n",
    "    df = pd.DataFrame()"
   ]
  },
  {
   "cell_type": "code",
   "execution_count": 93,
   "id": "9f4618cb",
   "metadata": {},
   "outputs": [
    {
     "data": {
      "text/markdown": [
       "### Display JSON"
      ],
      "text/plain": [
       "<IPython.core.display.Markdown object>"
      ]
     },
     "metadata": {},
     "output_type": "display_data"
    },
    {
     "data": {
      "text/plain": [
       "DeltaGenerator()"
      ]
     },
     "execution_count": 93,
     "metadata": {},
     "output_type": "execute_result"
    }
   ],
   "source": [
    "## Display JSON\n",
    "st.subheader(\"Display JSON\")\n",
    "st.json({'name' : '민수', 'gender':'male', 'Age': 29})"
   ]
  },
  {
   "cell_type": "code",
   "execution_count": 94,
   "id": "8bffb5fa",
   "metadata": {},
   "outputs": [
    {
     "data": {
      "text/markdown": [
       "* * *"
      ],
      "text/plain": [
       "<IPython.core.display.Markdown object>"
      ]
     },
     "metadata": {},
     "output_type": "display_data"
    }
   ],
   "source": [
    "st.markdown(\"* * *\")"
   ]
  },
  {
   "cell_type": "markdown",
   "id": "06d8d928",
   "metadata": {},
   "source": [
    "사이드바\n",
    "\n",
    "st.sidebar에서도 대부분의 위젯을 지원하므로, 다양하게 사이드바를 구성할 수 있다. (단, st.echo, st.spinner, st.write제외)"
   ]
  },
  {
   "cell_type": "code",
   "execution_count": 95,
   "id": "0e787eb4",
   "metadata": {},
   "outputs": [
    {
     "data": {
      "text/plain": [
       "'데이터'"
      ]
     },
     "execution_count": 95,
     "metadata": {},
     "output_type": "execute_result"
    }
   ],
   "source": [
    "## Sidebars\n",
    "st.sidebar.header(\"사이드바 메뉴\")\n",
    "st.sidebar.selectbox(\"메뉴를 선택하세요.\",\n",
    "                    [\"데이터\",\n",
    "                     \"EDA\",\n",
    "                     \"코드\"])"
   ]
  },
  {
   "cell_type": "markdown",
   "id": "6afb8d24",
   "metadata": {},
   "source": [
    "차트 그리기\n",
    "\n",
    "Streamlit은 자체 내장된 기본적인 차트 외 matplotlib, plot.ly, altair, vega_ilte, bokeh, deck_gl, pydeck, graph_viz 등 다양한 시각화 패키지를 지원한다.\n",
    "\n",
    "(Streamlit은 EDA 용도로 많이 사용되는 만큼, 시각화 부분은 따로 다룰 계획이다.)"
   ]
  },
  {
   "cell_type": "code",
   "execution_count": 96,
   "id": "b787569b",
   "metadata": {},
   "outputs": [
    {
     "data": {
      "text/markdown": [
       "### Matplotlib으로 차트 그리기"
      ],
      "text/plain": [
       "<IPython.core.display.Markdown object>"
      ]
     },
     "metadata": {},
     "output_type": "display_data"
    },
    {
     "name": "stderr",
     "output_type": "stream",
     "text": [
      "2024-08-26 10:13:40.317 \n",
      "Calling `st.pyplot()` without providing a figure argument has been deprecated\n",
      "and will be removed in a later version as it requires the use of Matplotlib's\n",
      "global figure object, which is not thread-safe.\n",
      "\n",
      "To future-proof this code, you should pass in a figure as shown below:\n",
      "\n",
      "```python\n",
      "fig, ax = plt.subplots()\n",
      "ax.scatter([1, 2, 3], [1, 2, 3])\n",
      "# other plotting actions...\n",
      "st.pyplot(fig)\n",
      "```\n",
      "\n",
      "If you have a specific use case that requires this functionality, please let us\n",
      "know via [issue on Github](https://github.com/streamlit/streamlit/issues).\n",
      "\n"
     ]
    },
    {
     "data": {
      "text/plain": [
       "DeltaGenerator()"
      ]
     },
     "execution_count": 96,
     "metadata": {},
     "output_type": "execute_result"
    }
   ],
   "source": [
    "## Plotting\n",
    "st.subheader(\"Matplotlib으로 차트 그리기\")\n",
    "iris_df[iris_df['target']=='virginica']['petal length (cm)'].hist()\n",
    "st.pyplot()"
   ]
  },
  {
   "cell_type": "code",
   "execution_count": null,
   "id": "9c5e1453",
   "metadata": {},
   "outputs": [],
   "source": []
  },
  {
   "cell_type": "markdown",
   "id": "bf4b88ec",
   "metadata": {},
   "source": [
    "## 또다른 Jupyter에서 Streamlit 코딩 방법"
   ]
  },
  {
   "cell_type": "code",
   "execution_count": 97,
   "id": "e62bd796",
   "metadata": {},
   "outputs": [],
   "source": [
    "#!pip install jupytertext"
   ]
  },
  {
   "cell_type": "code",
   "execution_count": 98,
   "id": "02ce50c8",
   "metadata": {},
   "outputs": [],
   "source": [
    "### 위에 설치 안되면\n",
    "#conda install jupytext -c conda-forge\n",
    "#python.exe -m pip install --upgrade pip"
   ]
  },
  {
   "attachments": {
    "image.png": {
     "image/png": "[encoded data removed]"
    }
   },
   "cell_type": "markdown",
   "id": "715223d1",
   "metadata": {},
   "source": [
    "![image.png](attachment:image.png)"
   ]
  },
  {
   "cell_type": "code",
   "execution_count": null,
   "id": "cd3b9220",
   "metadata": {},
   "outputs": [],
   "source": []
  }
 ],
 "metadata": {
  "kernelspec": {
   "display_name": "Python 3 (ipykernel)",
   "language": "python",
   "name": "python3"
  },
  "language_info": {
   "codemirror_mode": {
    "name": "ipython",
    "version": 3
   },
   "file_extension": ".py",
   "mimetype": "text/x-python",
   "name": "python",
   "nbconvert_exporter": "python",
   "pygments_lexer": "ipython3",
   "version": "3.9.19"
  },
  "toc": {
   "base_numbering": 1,
   "nav_menu": {},
   "number_sections": true,
   "sideBar": true,
   "skip_h1_title": false,
   "title_cell": "Table of Contents",
   "title_sidebar": "Contents",
   "toc_cell": false,
   "toc_position": {},
   "toc_section_display": true,
   "toc_window_display": false
  }
 },
 "nbformat": 4,
 "nbformat_minor": 5
}
