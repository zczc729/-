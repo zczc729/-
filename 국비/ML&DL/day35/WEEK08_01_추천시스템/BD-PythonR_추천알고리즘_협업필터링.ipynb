{
 "cells": [
  {
   "cell_type": "markdown",
   "metadata": {},
   "source": [
    "# 입문자를 위한, 파이썬/R 데이터 분석  "
   ]
  },
  {
   "cell_type": "markdown",
   "metadata": {},
   "source": [
    "]"
   ]
  },
  {
   "cell_type": "markdown",
   "metadata": {},
   "source": [
    "## Today's mission\n",
    "\n",
    "- 추천 알고리즘 소개\n",
    "- 예제: 협업 필터링 (Collaborative Filtering) 구현하기"
   ]
  },
  {
   "cell_type": "markdown",
   "metadata": {},
   "source": [
    "]"
   ]
  },
  {
   "cell_type": "markdown",
   "metadata": {},
   "source": [
    "## 추천 알고리즘 소개\n",
    "\n",
    "참고 : [추천 시스템, 추천 알고리즘 종류](https://velog.io/@jochedda/%EC%B6%94%EC%B2%9C-%EC%8B%9C%EC%8A%A4%ED%85%9C-%EC%B6%94%EC%B2%9C-%EC%95%8C%EA%B3%A0%EB%A6%AC%EC%A6%98-%EC%A2%85%EB%A5%98)"
   ]
  },
  {
   "cell_type": "markdown",
   "metadata": {},
   "source": [
    "## Collaborative Filtering (협업필터링)\n",
    "\n",
    ">  - 다른 상품(item; I)이나, 사용자(user; U) 정보를 이용하여 평점(rating; r) 을 데이터화로 분석하는 방법\n",
    ">  - 사용자가 선호하는 다른 상품을 추천하는 방법 : item-based 기법  ( 현실적으로 많이 사용 )\n",
    ">  - 다른 사용자가 선호하는 상품을 추천하는 방법 : user-based 기법\n",
    ">  - 유사도를 계산 (예: cosine similarity) : 1 에 가까울수록 유사, -1 이면 유사하지 않음\n",
    ">  - Pearson 상관계수, Cosine 유사도 모두 사용하고 나은 것을 선택, 활용이 일반적임; 유클리디안 유사도는 사용 안함"
   ]
  },
  {
   "cell_type": "markdown",
   "metadata": {},
   "source": [
    "### Package Import"
   ]
  },
  {
   "cell_type": "code",
   "execution_count": 1,
   "metadata": {},
   "outputs": [],
   "source": [
    "import numpy as np\n",
    "import pandas as pd"
   ]
  },
  {
   "cell_type": "markdown",
   "metadata": {},
   "source": [
    "### Load Dataset"
   ]
  },
  {
   "cell_type": "code",
   "execution_count": 2,
   "metadata": {},
   "outputs": [],
   "source": [
    "file = \"data/ratings.csv\"\n",
    "data = pd.read_csv(file)"
   ]
  },
  {
   "cell_type": "code",
   "execution_count": 6,
   "metadata": {},
   "outputs": [
    {
     "name": "stdout",
     "output_type": "stream",
     "text": [
      "<class 'pandas.core.frame.DataFrame'>\n",
      "RangeIndex: 23 entries, 0 to 22\n",
      "Data columns (total 3 columns):\n",
      " #   Column  Non-Null Count  Dtype  \n",
      "---  ------  --------------  -----  \n",
      " 0   사람      23 non-null     object \n",
      " 1   책       23 non-null     object \n",
      " 2   평점      23 non-null     float64\n",
      "dtypes: float64(1), object(2)\n",
      "memory usage: 680.0+ bytes\n"
     ]
    }
   ],
   "source": [
    "data.info()"
   ]
  },
  {
   "cell_type": "code",
   "execution_count": 5,
   "metadata": {},
   "outputs": [
    {
     "data": {
      "text/html": [
       "<div>\n",
       "<style scoped>\n",
       "    .dataframe tbody tr th:only-of-type {\n",
       "        vertical-align: middle;\n",
       "    }\n",
       "\n",
       "    .dataframe tbody tr th {\n",
       "        vertical-align: top;\n",
       "    }\n",
       "\n",
       "    .dataframe thead th {\n",
       "        text-align: right;\n",
       "    }\n",
       "</style>\n",
       "<table border=\"1\" class=\"dataframe\">\n",
       "  <thead>\n",
       "    <tr style=\"text-align: right;\">\n",
       "      <th></th>\n",
       "      <th>사람</th>\n",
       "      <th>책</th>\n",
       "      <th>평점</th>\n",
       "    </tr>\n",
       "  </thead>\n",
       "  <tbody>\n",
       "    <tr>\n",
       "      <th>0</th>\n",
       "      <td>민지</td>\n",
       "      <td>백설공주</td>\n",
       "      <td>5.0</td>\n",
       "    </tr>\n",
       "    <tr>\n",
       "      <th>1</th>\n",
       "      <td>민지</td>\n",
       "      <td>신데렐라</td>\n",
       "      <td>4.0</td>\n",
       "    </tr>\n",
       "    <tr>\n",
       "      <th>2</th>\n",
       "      <td>민지</td>\n",
       "      <td>어린왕자</td>\n",
       "      <td>1.0</td>\n",
       "    </tr>\n",
       "    <tr>\n",
       "      <th>3</th>\n",
       "      <td>민지</td>\n",
       "      <td>흥부전</td>\n",
       "      <td>3.0</td>\n",
       "    </tr>\n",
       "    <tr>\n",
       "      <th>4</th>\n",
       "      <td>현우</td>\n",
       "      <td>노인과바다</td>\n",
       "      <td>3.0</td>\n",
       "    </tr>\n",
       "  </tbody>\n",
       "</table>\n",
       "</div>"
      ],
      "text/plain": [
       "   사람      책   평점\n",
       "0  민지   백설공주  5.0\n",
       "1  민지   신데렐라  4.0\n",
       "2  민지   어린왕자  1.0\n",
       "3  민지    흥부전  3.0\n",
       "4  현우  노인과바다  3.0"
      ]
     },
     "execution_count": 5,
     "metadata": {},
     "output_type": "execute_result"
    }
   ],
   "source": [
    "data.head()#.info()"
   ]
  },
  {
   "cell_type": "code",
   "execution_count": 7,
   "metadata": {},
   "outputs": [
    {
     "data": {
      "text/plain": [
       "{'민수', '민지', '지민', '지연', '현우'}"
      ]
     },
     "execution_count": 7,
     "metadata": {},
     "output_type": "execute_result"
    }
   ],
   "source": [
    "set(data['사람'].to_list())"
   ]
  },
  {
   "cell_type": "code",
   "execution_count": 8,
   "metadata": {},
   "outputs": [
    {
     "data": {
      "text/plain": [
       "{'노인과바다', '백설공주', '신데렐라', '어린왕자', '콩쥐팥쥐', '흥부전'}"
      ]
     },
     "execution_count": 8,
     "metadata": {},
     "output_type": "execute_result"
    }
   ],
   "source": [
    "set(data['책'].to_list())"
   ]
  },
  {
   "cell_type": "code",
   "execution_count": 9,
   "metadata": {
    "scrolled": true
   },
   "outputs": [
    {
     "data": {
      "text/html": [
       "<div>\n",
       "<style scoped>\n",
       "    .dataframe tbody tr th:only-of-type {\n",
       "        vertical-align: middle;\n",
       "    }\n",
       "\n",
       "    .dataframe tbody tr th {\n",
       "        vertical-align: top;\n",
       "    }\n",
       "\n",
       "    .dataframe thead th {\n",
       "        text-align: right;\n",
       "    }\n",
       "</style>\n",
       "<table border=\"1\" class=\"dataframe\">\n",
       "  <thead>\n",
       "    <tr style=\"text-align: right;\">\n",
       "      <th>책</th>\n",
       "      <th>노인과바다</th>\n",
       "      <th>백설공주</th>\n",
       "      <th>신데렐라</th>\n",
       "      <th>어린왕자</th>\n",
       "      <th>콩쥐팥쥐</th>\n",
       "      <th>흥부전</th>\n",
       "    </tr>\n",
       "    <tr>\n",
       "      <th>사람</th>\n",
       "      <th></th>\n",
       "      <th></th>\n",
       "      <th></th>\n",
       "      <th></th>\n",
       "      <th></th>\n",
       "      <th></th>\n",
       "    </tr>\n",
       "  </thead>\n",
       "  <tbody>\n",
       "    <tr>\n",
       "      <th>민수</th>\n",
       "      <td>3.0</td>\n",
       "      <td>4.0</td>\n",
       "      <td>4.0</td>\n",
       "      <td>3.0</td>\n",
       "      <td>4.0</td>\n",
       "      <td>NaN</td>\n",
       "    </tr>\n",
       "    <tr>\n",
       "      <th>현우</th>\n",
       "      <td>3.0</td>\n",
       "      <td>NaN</td>\n",
       "      <td>2.0</td>\n",
       "      <td>NaN</td>\n",
       "      <td>1.0</td>\n",
       "      <td>2.0</td>\n",
       "    </tr>\n",
       "    <tr>\n",
       "      <th>지민</th>\n",
       "      <td>4.0</td>\n",
       "      <td>1.0</td>\n",
       "      <td>NaN</td>\n",
       "      <td>5.0</td>\n",
       "      <td>2.0</td>\n",
       "      <td>3.0</td>\n",
       "    </tr>\n",
       "    <tr>\n",
       "      <th>지연</th>\n",
       "      <td>5.0</td>\n",
       "      <td>NaN</td>\n",
       "      <td>3.0</td>\n",
       "      <td>4.0</td>\n",
       "      <td>3.0</td>\n",
       "      <td>3.0</td>\n",
       "    </tr>\n",
       "    <tr>\n",
       "      <th>민지</th>\n",
       "      <td>NaN</td>\n",
       "      <td>5.0</td>\n",
       "      <td>4.0</td>\n",
       "      <td>1.0</td>\n",
       "      <td>NaN</td>\n",
       "      <td>3.0</td>\n",
       "    </tr>\n",
       "  </tbody>\n",
       "</table>\n",
       "</div>"
      ],
      "text/plain": [
       "책   노인과바다  백설공주  신데렐라  어린왕자  콩쥐팥쥐  흥부전\n",
       "사람                                    \n",
       "민수    3.0   4.0   4.0   3.0   4.0  NaN\n",
       "현우    3.0   NaN   2.0   NaN   1.0  2.0\n",
       "지민    4.0   1.0   NaN   5.0   2.0  3.0\n",
       "지연    5.0   NaN   3.0   4.0   3.0  3.0\n",
       "민지    NaN   5.0   4.0   1.0   NaN  3.0"
      ]
     },
     "execution_count": 9,
     "metadata": {},
     "output_type": "execute_result"
    }
   ],
   "source": [
    "ratings = pd.pivot_table(data, index=\"사람\", columns=\"책\", values=\"평점\").sort_values(by='노인과바다', ascending=True)\n",
    "ratings"
   ]
  },
  {
   "cell_type": "markdown",
   "metadata": {},
   "source": [
    "### [Cosine similarity](https://ko.wikipedia.org/wiki/%EC%BD%94%EC%82%AC%EC%9D%B8_%EC%9C%A0%EC%82%AC%EB%8F%84)"
   ]
  },
  {
   "cell_type": "markdown",
   "metadata": {},
   "source": [
    "#### Test: Numpy remind"
   ]
  },
  {
   "cell_type": "code",
   "execution_count": 58,
   "metadata": {},
   "outputs": [
    {
     "data": {
      "text/plain": [
       "array([ 1., nan,  3.,  4.,  5.,  6.])"
      ]
     },
     "execution_count": 58,
     "metadata": {},
     "output_type": "execute_result"
    }
   ],
   "source": [
    "np.array([1,np.nan,3]+[4,5,6])"
   ]
  },
  {
   "cell_type": "code",
   "execution_count": 59,
   "metadata": {},
   "outputs": [],
   "source": [
    "u = np.array([1,np.nan,3])\n",
    "v = np.array([4,5,6])"
   ]
  },
  {
   "cell_type": "code",
   "execution_count": 60,
   "metadata": {},
   "outputs": [
    {
     "name": "stdout",
     "output_type": "stream",
     "text": [
      "[ 1. nan  3.] [4 5 6]\n"
     ]
    }
   ],
   "source": [
    "print( u, v )"
   ]
  },
  {
   "cell_type": "code",
   "execution_count": 61,
   "metadata": {},
   "outputs": [
    {
     "name": "stdout",
     "output_type": "stream",
     "text": [
      "[ 1. nan  3.] [4 5 6]\n",
      "[ 5. nan  9.]\n"
     ]
    }
   ],
   "source": [
    "print( u, v )\n",
    "print(u + v)"
   ]
  },
  {
   "cell_type": "code",
   "execution_count": 62,
   "metadata": {},
   "outputs": [
    {
     "name": "stdout",
     "output_type": "stream",
     "text": [
      "[ 1. nan  3.] [4 5 6]\n",
      "[-3. nan -3.]\n"
     ]
    }
   ],
   "source": [
    "print( u, v )\n",
    "print( u - v )"
   ]
  },
  {
   "cell_type": "code",
   "execution_count": 63,
   "metadata": {},
   "outputs": [
    {
     "name": "stdout",
     "output_type": "stream",
     "text": [
      "[ 1. nan  3.] [4 5 6]\n",
      "[ 4. nan 18.]\n"
     ]
    }
   ],
   "source": [
    "print( u, v )\n",
    "print( u * v )"
   ]
  },
  {
   "cell_type": "code",
   "execution_count": 64,
   "metadata": {},
   "outputs": [
    {
     "name": "stdout",
     "output_type": "stream",
     "text": [
      "[ 1. nan  3.]\n",
      "[ 1. nan  9.]\n"
     ]
    }
   ],
   "source": [
    "print( u,)\n",
    "print( u ** 2 )"
   ]
  },
  {
   "cell_type": "code",
   "execution_count": 65,
   "metadata": {},
   "outputs": [
    {
     "name": "stdout",
     "output_type": "stream",
     "text": [
      "[ 1. nan  3.]\n",
      "nan\n"
     ]
    }
   ],
   "source": [
    "print(u)\n",
    "print( (u ** 2).sum() )"
   ]
  },
  {
   "cell_type": "code",
   "execution_count": 66,
   "metadata": {},
   "outputs": [
    {
     "name": "stdout",
     "output_type": "stream",
     "text": [
      "[ 1. nan  3.]\n",
      "[False  True False]\n"
     ]
    }
   ],
   "source": [
    "print( u )\n",
    "print(np.isnan(u))"
   ]
  },
  {
   "cell_type": "code",
   "execution_count": 67,
   "metadata": {},
   "outputs": [
    {
     "name": "stdout",
     "output_type": "stream",
     "text": [
      "[ 1. nan  3.]\n",
      "[ True False  True]\n"
     ]
    }
   ],
   "source": [
    "print( u )\n",
    "print(np.isfinite(u))                       # not NaN(Not a Number) 찾기 -> 숫자만 골라내기"
   ]
  },
  {
   "cell_type": "code",
   "execution_count": 68,
   "metadata": {},
   "outputs": [
    {
     "name": "stdout",
     "output_type": "stream",
     "text": [
      "[4 5 6]\n",
      "[ True  True  True]\n"
     ]
    }
   ],
   "source": [
    "print( v )\n",
    "print(np.isfinite(v))"
   ]
  },
  {
   "cell_type": "code",
   "execution_count": 69,
   "metadata": {},
   "outputs": [
    {
     "name": "stdout",
     "output_type": "stream",
     "text": [
      "[ 1. nan  3.] [4 5 6]\n",
      "[ True False  True]\n"
     ]
    }
   ],
   "source": [
    "print( u, v )\n",
    "print(np.isfinite(u) & np.isfinite(v))      # Boolean(T/F) 값을 찾기"
   ]
  },
  {
   "cell_type": "code",
   "execution_count": 70,
   "metadata": {},
   "outputs": [
    {
     "name": "stdout",
     "output_type": "stream",
     "text": [
      "[ 1. nan  3.] [4 5 6]\n",
      "[4 6]\n"
     ]
    }
   ],
   "source": [
    "print( u, v )\n",
    "print(v[np.isfinite(u) & np.isfinite(v)])   # T/F 기준으로 데이터value 구하기"
   ]
  },
  {
   "cell_type": "markdown",
   "metadata": {},
   "source": [
    "#### 적용"
   ]
  },
  {
   "cell_type": "code",
   "execution_count": 99,
   "metadata": {},
   "outputs": [],
   "source": [
    "def get_cosine_similarity(u, v):\n",
    "    mask = np.isfinite(u) & np.isfinite(v)\n",
    "    \n",
    "    # print(\"NaN 걸러내기 이전 : \", u, v )   # NaN 걸러내기 이전\n",
    "    \n",
    "    u = u[mask]\n",
    "    v = v[mask]\n",
    "    \n",
    "    # print(\"NaN 걸러낸 이후 : \", u, v )   # NaN 걸러낸 이후\n",
    "    \n",
    "    uvdot = (u * v).sum()\n",
    "    # print(\"uvdot : \", uvdot)\n",
    "    \n",
    "    norm1 = (u ** 2).sum()\n",
    "    norm2 = (v ** 2).sum()\n",
    "    # print(\"norm1 : \", norm1)\n",
    "    # print(\"norm2 : \", norm2)\n",
    "    \n",
    "    score = uvdot / np.sqrt(norm1 * norm2)\n",
    "\n",
    "    # plot_vectors(u, v, 'test')\n",
    "    \n",
    "    return score"
   ]
  },
  {
   "cell_type": "code",
   "execution_count": 93,
   "metadata": {},
   "outputs": [],
   "source": [
    "def get_cosine_similarity_v2(u, v):\n",
    "    mask = np.isfinite(u) & np.isfinite(v)\n",
    "    \n",
    "    u = u[mask]\n",
    "    v = v[mask]\n",
    "    \n",
    "    uvdot = (u * v).sum()\n",
    "\n",
    "    \n",
    "    norm1 = (u ** 2).sum()\n",
    "    norm2 = (v ** 2).sum()\n",
    "    \n",
    "    score = uvdot / np.sqrt(norm1 * norm2)\n",
    "\n",
    "    plot_vectors(u, v, 'test')\n",
    "    \n",
    "    return score"
   ]
  },
  {
   "cell_type": "code",
   "execution_count": 49,
   "metadata": {},
   "outputs": [
    {
     "data": {
      "text/plain": [
       "22.360679774997898"
      ]
     },
     "execution_count": 49,
     "metadata": {},
     "output_type": "execute_result"
    }
   ],
   "source": [
    "np.sqrt(25 * 20)"
   ]
  },
  {
   "cell_type": "code",
   "execution_count": 50,
   "metadata": {},
   "outputs": [
    {
     "data": {
      "text/plain": [
       "500"
      ]
     },
     "execution_count": 50,
     "metadata": {},
     "output_type": "execute_result"
    }
   ],
   "source": [
    "25 * 20"
   ]
  },
  {
   "cell_type": "code",
   "execution_count": 52,
   "metadata": {},
   "outputs": [
    {
     "data": {
      "text/plain": [
       "0.8944271909999159"
      ]
     },
     "execution_count": 52,
     "metadata": {},
     "output_type": "execute_result"
    }
   ],
   "source": [
    "20 / np.sqrt(500)"
   ]
  },
  {
   "cell_type": "code",
   "execution_count": 72,
   "metadata": {},
   "outputs": [],
   "source": [
    "u = np.array([np.nan, 4, 3])\n",
    "v = np.array([3, 2, 4])"
   ]
  },
  {
   "cell_type": "code",
   "execution_count": 73,
   "metadata": {},
   "outputs": [
    {
     "name": "stdout",
     "output_type": "stream",
     "text": [
      "[nan  4.  3.] [3 2 4]\n"
     ]
    }
   ],
   "source": [
    "print(u, v)"
   ]
  },
  {
   "cell_type": "code",
   "execution_count": 76,
   "metadata": {},
   "outputs": [
    {
     "name": "stdout",
     "output_type": "stream",
     "text": [
      "NaN 걸러내기 이전 :  [nan  4.  3.] [3 2 4]\n",
      "NaN 걸러낸 이후 :  [4. 3.] [2 4]\n",
      "uvdot :  20.0\n",
      "norm1 :  25.0\n",
      "norm2 :  20\n"
     ]
    },
    {
     "data": {
      "image/png": "[encoded data removed]",
      "text/plain": [
       "<Figure size 576x576 with 1 Axes>"
      ]
     },
     "metadata": {
      "needs_background": "light"
     },
     "output_type": "display_data"
    },
    {
     "data": {
      "text/plain": [
       "0.8944271909999159"
      ]
     },
     "execution_count": 76,
     "metadata": {},
     "output_type": "execute_result"
    }
   ],
   "source": [
    "get_cosine_similarity(u, v)"
   ]
  },
  {
   "cell_type": "code",
   "execution_count": 77,
   "metadata": {},
   "outputs": [
    {
     "data": {
      "text/html": [
       "<div>\n",
       "<style scoped>\n",
       "    .dataframe tbody tr th:only-of-type {\n",
       "        vertical-align: middle;\n",
       "    }\n",
       "\n",
       "    .dataframe tbody tr th {\n",
       "        vertical-align: top;\n",
       "    }\n",
       "\n",
       "    .dataframe thead th {\n",
       "        text-align: right;\n",
       "    }\n",
       "</style>\n",
       "<table border=\"1\" class=\"dataframe\">\n",
       "  <thead>\n",
       "    <tr style=\"text-align: right;\">\n",
       "      <th>책</th>\n",
       "      <th>노인과바다</th>\n",
       "      <th>백설공주</th>\n",
       "      <th>신데렐라</th>\n",
       "      <th>어린왕자</th>\n",
       "      <th>콩쥐팥쥐</th>\n",
       "      <th>흥부전</th>\n",
       "    </tr>\n",
       "    <tr>\n",
       "      <th>사람</th>\n",
       "      <th></th>\n",
       "      <th></th>\n",
       "      <th></th>\n",
       "      <th></th>\n",
       "      <th></th>\n",
       "      <th></th>\n",
       "    </tr>\n",
       "  </thead>\n",
       "  <tbody>\n",
       "    <tr>\n",
       "      <th>민수</th>\n",
       "      <td>3.0</td>\n",
       "      <td>4.0</td>\n",
       "      <td>4.0</td>\n",
       "      <td>3.0</td>\n",
       "      <td>4.0</td>\n",
       "      <td>NaN</td>\n",
       "    </tr>\n",
       "    <tr>\n",
       "      <th>현우</th>\n",
       "      <td>3.0</td>\n",
       "      <td>NaN</td>\n",
       "      <td>2.0</td>\n",
       "      <td>NaN</td>\n",
       "      <td>1.0</td>\n",
       "      <td>2.0</td>\n",
       "    </tr>\n",
       "    <tr>\n",
       "      <th>지민</th>\n",
       "      <td>4.0</td>\n",
       "      <td>1.0</td>\n",
       "      <td>NaN</td>\n",
       "      <td>5.0</td>\n",
       "      <td>2.0</td>\n",
       "      <td>3.0</td>\n",
       "    </tr>\n",
       "    <tr>\n",
       "      <th>지연</th>\n",
       "      <td>5.0</td>\n",
       "      <td>NaN</td>\n",
       "      <td>3.0</td>\n",
       "      <td>4.0</td>\n",
       "      <td>3.0</td>\n",
       "      <td>3.0</td>\n",
       "    </tr>\n",
       "    <tr>\n",
       "      <th>민지</th>\n",
       "      <td>NaN</td>\n",
       "      <td>5.0</td>\n",
       "      <td>4.0</td>\n",
       "      <td>1.0</td>\n",
       "      <td>NaN</td>\n",
       "      <td>3.0</td>\n",
       "    </tr>\n",
       "  </tbody>\n",
       "</table>\n",
       "</div>"
      ],
      "text/plain": [
       "책   노인과바다  백설공주  신데렐라  어린왕자  콩쥐팥쥐  흥부전\n",
       "사람                                    \n",
       "민수    3.0   4.0   4.0   3.0   4.0  NaN\n",
       "현우    3.0   NaN   2.0   NaN   1.0  2.0\n",
       "지민    4.0   1.0   NaN   5.0   2.0  3.0\n",
       "지연    5.0   NaN   3.0   4.0   3.0  3.0\n",
       "민지    NaN   5.0   4.0   1.0   NaN  3.0"
      ]
     },
     "execution_count": 77,
     "metadata": {},
     "output_type": "execute_result"
    }
   ],
   "source": [
    "ratings"
   ]
  },
  {
   "cell_type": "code",
   "execution_count": 78,
   "metadata": {},
   "outputs": [
    {
     "data": {
      "text/plain": [
       "(책\n",
       " 노인과바다    3.0\n",
       " 백설공주     4.0\n",
       " 신데렐라     4.0\n",
       " 어린왕자     3.0\n",
       " 콩쥐팥쥐     4.0\n",
       " 흥부전      NaN\n",
       " Name: 민수, dtype: float64,\n",
       " 책\n",
       " 노인과바다    NaN\n",
       " 백설공주     5.0\n",
       " 신데렐라     4.0\n",
       " 어린왕자     1.0\n",
       " 콩쥐팥쥐     NaN\n",
       " 흥부전      3.0\n",
       " Name: 민지, dtype: float64)"
      ]
     },
     "execution_count": 78,
     "metadata": {},
     "output_type": "execute_result"
    }
   ],
   "source": [
    "u = ratings.loc[\"민수\"]\n",
    "v = ratings.loc[\"민지\"]\n",
    "u, v"
   ]
  },
  {
   "cell_type": "code",
   "execution_count": 79,
   "metadata": {},
   "outputs": [
    {
     "name": "stdout",
     "output_type": "stream",
     "text": [
      "NaN 걸러내기 이전 :  책\n",
      "노인과바다    3.0\n",
      "백설공주     4.0\n",
      "신데렐라     4.0\n",
      "어린왕자     3.0\n",
      "콩쥐팥쥐     4.0\n",
      "흥부전      NaN\n",
      "Name: 민수, dtype: float64 책\n",
      "노인과바다    NaN\n",
      "백설공주     5.0\n",
      "신데렐라     4.0\n",
      "어린왕자     1.0\n",
      "콩쥐팥쥐     NaN\n",
      "흥부전      3.0\n",
      "Name: 민지, dtype: float64\n",
      "NaN 걸러낸 이후 :  책\n",
      "백설공주    4.0\n",
      "신데렐라    4.0\n",
      "어린왕자    3.0\n",
      "Name: 민수, dtype: float64 책\n",
      "백설공주    5.0\n",
      "신데렐라    4.0\n",
      "어린왕자    1.0\n",
      "Name: 민지, dtype: float64\n",
      "uvdot :  39.0\n",
      "norm1 :  41.0\n",
      "norm2 :  42.0\n"
     ]
    },
    {
     "data": {
      "image/png": "[encoded data removed]",
      "text/plain": [
       "<Figure size 576x576 with 1 Axes>"
      ]
     },
     "metadata": {
      "needs_background": "light"
     },
     "output_type": "display_data"
    },
    {
     "data": {
      "text/plain": [
       "0.9398272507881658"
      ]
     },
     "execution_count": 79,
     "metadata": {},
     "output_type": "execute_result"
    }
   ],
   "source": [
    "get_cosine_similarity(u, v)"
   ]
  },
  {
   "cell_type": "code",
   "execution_count": 56,
   "metadata": {},
   "outputs": [
    {
     "data": {
      "image/png": "[encoded data removed]",
      "text/plain": [
       "<Figure size 576x576 with 1 Axes>"
      ]
     },
     "metadata": {
      "needs_background": "light"
     },
     "output_type": "display_data"
    }
   ],
   "source": [
    "import numpy as np\n",
    "import matplotlib.pyplot as plt\n",
    "\n",
    "# 두 벡터 정의\n",
    "u = np.array([1, 2])\n",
    "v = np.array([2, 1])\n",
    "\n",
    "# 두 벡터의 내적과 크기 계산\n",
    "uvdot = np.dot(u, v)\n",
    "norm_u = np.linalg.norm(u)\n",
    "norm_v = np.linalg.norm(v)\n",
    "\n",
    "# 코사인 유사도 계산\n",
    "cosine_similarity = uvdot / (norm_u * norm_v)\n",
    "\n",
    "# 두 벡터 사이의 각도 계산 (라디안)\n",
    "angle = np.arccos(cosine_similarity)\n",
    "\n",
    "# 그래프 그리기\n",
    "plt.figure(figsize=(8, 8))\n",
    "plt.quiver(0, 0, u[0], u[1], angles='xy', scale_units='xy', scale=1, color='r', label='u')\n",
    "plt.quiver(0, 0, v[0], v[1], angles='xy', scale_units='xy', scale=1, color='b', label='v')\n",
    "\n",
    "# 벡터의 끝점을 원으로 표시\n",
    "plt.scatter(u[0], u[1], color='r')\n",
    "plt.scatter(v[0], v[1], color='b')\n",
    "\n",
    "# 벡터의 끝점을 이어주는 선을 그리기\n",
    "plt.plot([u[0], 0, v[0]], [u[1], 0, v[1]], linestyle='--', color='gray')\n",
    "\n",
    "# 각도 표시\n",
    "plt.text(0.5, 0.5, f\"θ = {np.degrees(angle):.2f}°\", fontsize=12, color='k')\n",
    "\n",
    "# 축 설정\n",
    "plt.xlim(-1, 3)\n",
    "plt.ylim(-1, 3)\n",
    "plt.axhline(0, color='gray', lw=0.5)\n",
    "plt.axvline(0, color='gray', lw=0.5)\n",
    "plt.grid()\n",
    "plt.legend()\n",
    "plt.title(f'Cosine Similarity: {cosine_similarity:.2f}')\n",
    "plt.gca().set_aspect('equal', adjustable='box')\n",
    "\n",
    "# 그래프 표시\n",
    "plt.show()"
   ]
  },
  {
   "cell_type": "code",
   "execution_count": 57,
   "metadata": {},
   "outputs": [
    {
     "name": "stderr",
     "output_type": "stream",
     "text": [
      "/Users/shinminseog/opt/anaconda3/lib/python3.9/site-packages/IPython/core/pylabtools.py:151: UserWarning: Glyph 50976 (\\N{HANGUL SYLLABLE YU}) missing from current font.\n",
      "  fig.canvas.print_figure(bytes_io, **kw)\n",
      "/Users/shinminseog/opt/anaconda3/lib/python3.9/site-packages/IPython/core/pylabtools.py:151: UserWarning: Glyph 49324 (\\N{HANGUL SYLLABLE SA}) missing from current font.\n",
      "  fig.canvas.print_figure(bytes_io, **kw)\n",
      "/Users/shinminseog/opt/anaconda3/lib/python3.9/site-packages/IPython/core/pylabtools.py:151: UserWarning: Glyph 54620 (\\N{HANGUL SYLLABLE HAN}) missing from current font.\n",
      "  fig.canvas.print_figure(bytes_io, **kw)\n",
      "/Users/shinminseog/opt/anaconda3/lib/python3.9/site-packages/IPython/core/pylabtools.py:151: UserWarning: Glyph 48169 (\\N{HANGUL SYLLABLE BANG}) missing from current font.\n",
      "  fig.canvas.print_figure(bytes_io, **kw)\n",
      "/Users/shinminseog/opt/anaconda3/lib/python3.9/site-packages/IPython/core/pylabtools.py:151: UserWarning: Glyph 54693 (\\N{HANGUL SYLLABLE HYANG}) missing from current font.\n",
      "  fig.canvas.print_figure(bytes_io, **kw)\n",
      "/Users/shinminseog/opt/anaconda3/lib/python3.9/site-packages/IPython/core/pylabtools.py:151: UserWarning: Glyph 51012 (\\N{HANGUL SYLLABLE EUL}) missing from current font.\n",
      "  fig.canvas.print_figure(bytes_io, **kw)\n",
      "/Users/shinminseog/opt/anaconda3/lib/python3.9/site-packages/IPython/core/pylabtools.py:151: UserWarning: Glyph 44032 (\\N{HANGUL SYLLABLE GA}) missing from current font.\n",
      "  fig.canvas.print_figure(bytes_io, **kw)\n",
      "/Users/shinminseog/opt/anaconda3/lib/python3.9/site-packages/IPython/core/pylabtools.py:151: UserWarning: Glyph 51652 (\\N{HANGUL SYLLABLE JIN}) missing from current font.\n",
      "  fig.canvas.print_figure(bytes_io, **kw)\n",
      "/Users/shinminseog/opt/anaconda3/lib/python3.9/site-packages/IPython/core/pylabtools.py:151: UserWarning: Glyph 46160 (\\N{HANGUL SYLLABLE DU}) missing from current font.\n",
      "  fig.canvas.print_figure(bytes_io, **kw)\n",
      "/Users/shinminseog/opt/anaconda3/lib/python3.9/site-packages/IPython/core/pylabtools.py:151: UserWarning: Glyph 48289 (\\N{HANGUL SYLLABLE BEG}) missing from current font.\n",
      "  fig.canvas.print_figure(bytes_io, **kw)\n",
      "/Users/shinminseog/opt/anaconda3/lib/python3.9/site-packages/IPython/core/pylabtools.py:151: UserWarning: Glyph 53552 (\\N{HANGUL SYLLABLE TEO}) missing from current font.\n",
      "  fig.canvas.print_figure(bytes_io, **kw)\n"
     ]
    },
    {
     "data": {
      "image/png": "[encoded data removed]",
      "text/plain": [
       "<Figure size 576x576 with 1 Axes>"
      ]
     },
     "metadata": {
      "needs_background": "light"
     },
     "output_type": "display_data"
    },
    {
     "name": "stderr",
     "output_type": "stream",
     "text": [
      "/Users/shinminseog/opt/anaconda3/lib/python3.9/site-packages/IPython/core/pylabtools.py:151: UserWarning: Glyph 54616 (\\N{HANGUL SYLLABLE HA}) missing from current font.\n",
      "  fig.canvas.print_figure(bytes_io, **kw)\n",
      "/Users/shinminseog/opt/anaconda3/lib/python3.9/site-packages/IPython/core/pylabtools.py:151: UserWarning: Glyph 51648 (\\N{HANGUL SYLLABLE JI}) missing from current font.\n",
      "  fig.canvas.print_figure(bytes_io, **kw)\n",
      "/Users/shinminseog/opt/anaconda3/lib/python3.9/site-packages/IPython/core/pylabtools.py:151: UserWarning: Glyph 50506 (\\N{HANGUL SYLLABLE ANH}) missing from current font.\n",
      "  fig.canvas.print_figure(bytes_io, **kw)\n",
      "/Users/shinminseog/opt/anaconda3/lib/python3.9/site-packages/IPython/core/pylabtools.py:151: UserWarning: Glyph 51008 (\\N{HANGUL SYLLABLE EUN}) missing from current font.\n",
      "  fig.canvas.print_figure(bytes_io, **kw)\n"
     ]
    },
    {
     "data": {
      "image/png": "[encoded data removed]",
      "text/plain": [
       "<Figure size 576x576 with 1 Axes>"
      ]
     },
     "metadata": {
      "needs_background": "light"
     },
     "output_type": "display_data"
    }
   ],
   "source": [
    "import numpy as np\n",
    "import matplotlib.pyplot as plt\n",
    "\n",
    "def plot_vectors(u, v, title):\n",
    "    # 두 벡터의 내적과 크기 계산\n",
    "    uvdot = np.dot(u, v)\n",
    "    norm_u = np.linalg.norm(u)\n",
    "    norm_v = np.linalg.norm(v)\n",
    "\n",
    "    # 코사인 유사도 계산\n",
    "    cosine_similarity = uvdot / (norm_u * norm_v)\n",
    "\n",
    "    # 두 벡터 사이의 각도 계산 (라디안)\n",
    "    angle = np.arccos(cosine_similarity)\n",
    "\n",
    "    # 그래프 그리기\n",
    "    plt.figure(figsize=(8, 8))\n",
    "    plt.quiver(0, 0, u[0], u[1], angles='xy', scale_units='xy', scale=1, color='r', label='u')\n",
    "    plt.quiver(0, 0, v[0], v[1], angles='xy', scale_units='xy', scale=1, color='b', label='v')\n",
    "\n",
    "    # 벡터의 끝점을 원으로 표시\n",
    "    plt.scatter(u[0], u[1], color='r')\n",
    "    plt.scatter(v[0], v[1], color='b')\n",
    "\n",
    "    # 벡터의 끝점을 이어주는 선을 그리기\n",
    "    plt.plot([u[0], 0, v[0]], [u[1], 0, v[1]], linestyle='--', color='gray')\n",
    "\n",
    "    # 각도 표시\n",
    "    plt.text(0.5, 0.5, f\"θ = {np.degrees(angle):.2f}°\", fontsize=12, color='k')\n",
    "\n",
    "    # 축 설정\n",
    "    plt.xlim(-1, 3)\n",
    "    plt.ylim(-1, 3)\n",
    "    plt.axhline(0, color='gray', lw=0.5)\n",
    "    plt.axvline(0, color='gray', lw=0.5)\n",
    "    plt.grid()\n",
    "    plt.legend()\n",
    "    plt.title(f'{title}\\nCosine Similarity: {cosine_similarity:.2f}')\n",
    "    plt.gca().set_aspect('equal', adjustable='box')\n",
    "\n",
    "    # 그래프 표시\n",
    "    plt.show()\n",
    "\n",
    "# 유사한 방향을 가진 두 벡터\n",
    "u_similar = np.array([1, 2])\n",
    "v_similar = np.array([2, 4])\n",
    "plot_vectors(u_similar, v_similar, '유사한 방향을 가진 두 벡터')\n",
    "\n",
    "# 유사하지 않은 방향을 가진 두 벡터\n",
    "u_different = np.array([1, 2])\n",
    "v_different = np.array([2, -1])\n",
    "plot_vectors(u_different, v_different, '유사하지 않은 방향을 가진 두 벡터')"
   ]
  },
  {
   "cell_type": "code",
   "execution_count": null,
   "metadata": {},
   "outputs": [],
   "source": []
  },
  {
   "cell_type": "markdown",
   "metadata": {},
   "source": [
    "### 전체 사용자 코사인 유사도 구하기 \n",
    "\n",
    "참고 : [Python 순열, 조합, product - itertools](https://velog.io/@davkim1030/Python-%EC%88%9C%EC%97%B4-%EC%A1%B0%ED%95%A9-product-itertools)"
   ]
  },
  {
   "cell_type": "code",
   "execution_count": 81,
   "metadata": {},
   "outputs": [],
   "source": [
    "from itertools import product"
   ]
  },
  {
   "cell_type": "code",
   "execution_count": 87,
   "metadata": {},
   "outputs": [
    {
     "data": {
      "text/plain": [
       "[('민수', '민수'),\n",
       " ('민수', '현우'),\n",
       " ('민수', '지민'),\n",
       " ('민수', '지연'),\n",
       " ('민수', '민지'),\n",
       " ('현우', '민수'),\n",
       " ('현우', '현우'),\n",
       " ('현우', '지민'),\n",
       " ('현우', '지연'),\n",
       " ('현우', '민지'),\n",
       " ('지민', '민수'),\n",
       " ('지민', '현우'),\n",
       " ('지민', '지민'),\n",
       " ('지민', '지연'),\n",
       " ('지민', '민지'),\n",
       " ('지연', '민수'),\n",
       " ('지연', '현우'),\n",
       " ('지연', '지민'),\n",
       " ('지연', '지연'),\n",
       " ('지연', '민지'),\n",
       " ('민지', '민수'),\n",
       " ('민지', '현우'),\n",
       " ('민지', '지민'),\n",
       " ('민지', '지연'),\n",
       " ('민지', '민지')]"
      ]
     },
     "execution_count": 87,
     "metadata": {},
     "output_type": "execute_result"
    }
   ],
   "source": [
    "list(product(ratings.index, repeat=2))"
   ]
  },
  {
   "cell_type": "code",
   "execution_count": 83,
   "metadata": {},
   "outputs": [
    {
     "name": "stdout",
     "output_type": "stream",
     "text": [
      "25\n"
     ]
    }
   ],
   "source": [
    "print(len(list(product(ratings.index, repeat=2))))"
   ]
  },
  {
   "cell_type": "code",
   "execution_count": 84,
   "metadata": {},
   "outputs": [
    {
     "data": {
      "text/plain": [
       "[('민수', '민수'),\n",
       " ('민수', '현우'),\n",
       " ('민수', '지민'),\n",
       " ('민수', '지연'),\n",
       " ('민수', '민지'),\n",
       " ('현우', '민수'),\n",
       " ('현우', '현우'),\n",
       " ('현우', '지민'),\n",
       " ('현우', '지연'),\n",
       " ('현우', '민지'),\n",
       " ('지민', '민수'),\n",
       " ('지민', '현우'),\n",
       " ('지민', '지민'),\n",
       " ('지민', '지연'),\n",
       " ('지민', '민지'),\n",
       " ('지연', '민수'),\n",
       " ('지연', '현우'),\n",
       " ('지연', '지민'),\n",
       " ('지연', '지연'),\n",
       " ('지연', '민지'),\n",
       " ('민지', '민수'),\n",
       " ('민지', '현우'),\n",
       " ('민지', '지민'),\n",
       " ('민지', '지연'),\n",
       " ('민지', '민지')]"
      ]
     },
     "execution_count": 84,
     "metadata": {},
     "output_type": "execute_result"
    }
   ],
   "source": [
    "list(product(ratings.index, repeat=2))"
   ]
  },
  {
   "cell_type": "code",
   "execution_count": 89,
   "metadata": {},
   "outputs": [
    {
     "data": {
      "text/plain": [
       "[('민수', '민수'),\n",
       " ('민수', '현우'),\n",
       " ('민수', '지민'),\n",
       " ('민수', '지연'),\n",
       " ('민수', '민지'),\n",
       " ('현우', '민수'),\n",
       " ('현우', '현우'),\n",
       " ('현우', '지민'),\n",
       " ('현우', '지연'),\n",
       " ('현우', '민지'),\n",
       " ('지민', '민수'),\n",
       " ('지민', '현우'),\n",
       " ('지민', '지민'),\n",
       " ('지민', '지연'),\n",
       " ('지민', '민지'),\n",
       " ('지연', '민수'),\n",
       " ('지연', '현우'),\n",
       " ('지연', '지민'),\n",
       " ('지연', '지연'),\n",
       " ('지연', '민지'),\n",
       " ('민지', '민수'),\n",
       " ('민지', '현우'),\n",
       " ('민지', '지민'),\n",
       " ('민지', '지연'),\n",
       " ('민지', '민지')]"
      ]
     },
     "execution_count": 89,
     "metadata": {},
     "output_type": "execute_result"
    }
   ],
   "source": [
    "ratings.index\n",
    "list(product(ratings.index, repeat=2))"
   ]
  },
  {
   "cell_type": "code",
   "execution_count": 90,
   "metadata": {},
   "outputs": [
    {
     "data": {
      "text/html": [
       "<div>\n",
       "<style scoped>\n",
       "    .dataframe tbody tr th:only-of-type {\n",
       "        vertical-align: middle;\n",
       "    }\n",
       "\n",
       "    .dataframe tbody tr th {\n",
       "        vertical-align: top;\n",
       "    }\n",
       "\n",
       "    .dataframe thead th {\n",
       "        text-align: right;\n",
       "    }\n",
       "</style>\n",
       "<table border=\"1\" class=\"dataframe\">\n",
       "  <thead>\n",
       "    <tr style=\"text-align: right;\">\n",
       "      <th>책</th>\n",
       "      <th>노인과바다</th>\n",
       "      <th>백설공주</th>\n",
       "      <th>신데렐라</th>\n",
       "      <th>어린왕자</th>\n",
       "      <th>콩쥐팥쥐</th>\n",
       "      <th>흥부전</th>\n",
       "    </tr>\n",
       "    <tr>\n",
       "      <th>사람</th>\n",
       "      <th></th>\n",
       "      <th></th>\n",
       "      <th></th>\n",
       "      <th></th>\n",
       "      <th></th>\n",
       "      <th></th>\n",
       "    </tr>\n",
       "  </thead>\n",
       "  <tbody>\n",
       "    <tr>\n",
       "      <th>민수</th>\n",
       "      <td>3.0</td>\n",
       "      <td>4.0</td>\n",
       "      <td>4.0</td>\n",
       "      <td>3.0</td>\n",
       "      <td>4.0</td>\n",
       "      <td>NaN</td>\n",
       "    </tr>\n",
       "    <tr>\n",
       "      <th>현우</th>\n",
       "      <td>3.0</td>\n",
       "      <td>NaN</td>\n",
       "      <td>2.0</td>\n",
       "      <td>NaN</td>\n",
       "      <td>1.0</td>\n",
       "      <td>2.0</td>\n",
       "    </tr>\n",
       "    <tr>\n",
       "      <th>지민</th>\n",
       "      <td>4.0</td>\n",
       "      <td>1.0</td>\n",
       "      <td>NaN</td>\n",
       "      <td>5.0</td>\n",
       "      <td>2.0</td>\n",
       "      <td>3.0</td>\n",
       "    </tr>\n",
       "    <tr>\n",
       "      <th>지연</th>\n",
       "      <td>5.0</td>\n",
       "      <td>NaN</td>\n",
       "      <td>3.0</td>\n",
       "      <td>4.0</td>\n",
       "      <td>3.0</td>\n",
       "      <td>3.0</td>\n",
       "    </tr>\n",
       "    <tr>\n",
       "      <th>민지</th>\n",
       "      <td>NaN</td>\n",
       "      <td>5.0</td>\n",
       "      <td>4.0</td>\n",
       "      <td>1.0</td>\n",
       "      <td>NaN</td>\n",
       "      <td>3.0</td>\n",
       "    </tr>\n",
       "  </tbody>\n",
       "</table>\n",
       "</div>"
      ],
      "text/plain": [
       "책   노인과바다  백설공주  신데렐라  어린왕자  콩쥐팥쥐  흥부전\n",
       "사람                                    \n",
       "민수    3.0   4.0   4.0   3.0   4.0  NaN\n",
       "현우    3.0   NaN   2.0   NaN   1.0  2.0\n",
       "지민    4.0   1.0   NaN   5.0   2.0  3.0\n",
       "지연    5.0   NaN   3.0   4.0   3.0  3.0\n",
       "민지    NaN   5.0   4.0   1.0   NaN  3.0"
      ]
     },
     "execution_count": 90,
     "metadata": {},
     "output_type": "execute_result"
    }
   ],
   "source": [
    "ratings"
   ]
  },
  {
   "cell_type": "code",
   "execution_count": 117,
   "metadata": {},
   "outputs": [],
   "source": [
    "from itertools import product\n",
    "\n",
    "def get_cosine_similarity_table(ratings):\n",
    "    index_combinations = list(product(ratings.index, repeat=2))\n",
    "    \n",
    "    similarity_list = []\n",
    "    \n",
    "    for uname, vname in index_combinations:\n",
    "        u = ratings.loc[uname]\n",
    "        v = ratings.loc[vname]\n",
    "        \n",
    "        score = get_cosine_similarity(u, v)\n",
    "        \n",
    "        similarity = {\n",
    "            'u': uname,\n",
    "            'v': vname,\n",
    "            'score': score\n",
    "        }\n",
    "        \n",
    "        similarity_list.append(similarity)\n",
    "        \n",
    "    similarity_list = pd.DataFrame(similarity_list)\n",
    "    \n",
    "    similarity_table = pd.pivot_table(similarity_list, index='u', columns='v', values='score')\n",
    "    \n",
    "    return similarity_table"
   ]
  },
  {
   "cell_type": "code",
   "execution_count": 118,
   "metadata": {},
   "outputs": [],
   "source": [
    "similarity_table = get_cosine_similarity_table(ratings)"
   ]
  },
  {
   "cell_type": "code",
   "execution_count": 120,
   "metadata": {},
   "outputs": [
    {
     "data": {
      "text/html": [
       "<div>\n",
       "<style scoped>\n",
       "    .dataframe tbody tr th:only-of-type {\n",
       "        vertical-align: middle;\n",
       "    }\n",
       "\n",
       "    .dataframe tbody tr th {\n",
       "        vertical-align: top;\n",
       "    }\n",
       "\n",
       "    .dataframe thead th {\n",
       "        text-align: right;\n",
       "    }\n",
       "</style>\n",
       "<table border=\"1\" class=\"dataframe\">\n",
       "  <thead>\n",
       "    <tr style=\"text-align: right;\">\n",
       "      <th>v</th>\n",
       "      <th>민수</th>\n",
       "      <th>민지</th>\n",
       "      <th>지민</th>\n",
       "      <th>지연</th>\n",
       "      <th>현우</th>\n",
       "    </tr>\n",
       "    <tr>\n",
       "      <th>u</th>\n",
       "      <th></th>\n",
       "      <th></th>\n",
       "      <th></th>\n",
       "      <th></th>\n",
       "      <th></th>\n",
       "    </tr>\n",
       "  </thead>\n",
       "  <tbody>\n",
       "    <tr>\n",
       "      <th>민수</th>\n",
       "      <td>1.000000</td>\n",
       "      <td>0.939827</td>\n",
       "      <td>0.813206</td>\n",
       "      <td>0.938986</td>\n",
       "      <td>0.876523</td>\n",
       "    </tr>\n",
       "    <tr>\n",
       "      <th>민지</th>\n",
       "      <td>0.939827</td>\n",
       "      <td>1.000000</td>\n",
       "      <td>0.542857</td>\n",
       "      <td>0.840841</td>\n",
       "      <td>0.989949</td>\n",
       "    </tr>\n",
       "    <tr>\n",
       "      <th>지민</th>\n",
       "      <td>0.813206</td>\n",
       "      <td>0.542857</td>\n",
       "      <td>1.000000</td>\n",
       "      <td>0.974406</td>\n",
       "      <td>0.992583</td>\n",
       "    </tr>\n",
       "    <tr>\n",
       "      <th>지연</th>\n",
       "      <td>0.938986</td>\n",
       "      <td>0.840841</td>\n",
       "      <td>0.974406</td>\n",
       "      <td>1.000000</td>\n",
       "      <td>0.980581</td>\n",
       "    </tr>\n",
       "    <tr>\n",
       "      <th>현우</th>\n",
       "      <td>0.876523</td>\n",
       "      <td>0.989949</td>\n",
       "      <td>0.992583</td>\n",
       "      <td>0.980581</td>\n",
       "      <td>1.000000</td>\n",
       "    </tr>\n",
       "  </tbody>\n",
       "</table>\n",
       "</div>"
      ],
      "text/plain": [
       "v         민수        민지        지민        지연        현우\n",
       "u                                                   \n",
       "민수  1.000000  0.939827  0.813206  0.938986  0.876523\n",
       "민지  0.939827  1.000000  0.542857  0.840841  0.989949\n",
       "지민  0.813206  0.542857  1.000000  0.974406  0.992583\n",
       "지연  0.938986  0.840841  0.974406  1.000000  0.980581\n",
       "현우  0.876523  0.989949  0.992583  0.980581  1.000000"
      ]
     },
     "execution_count": 120,
     "metadata": {},
     "output_type": "execute_result"
    }
   ],
   "source": [
    "similarity_table"
   ]
  },
  {
   "cell_type": "code",
   "execution_count": null,
   "metadata": {},
   "outputs": [],
   "source": []
  },
  {
   "cell_type": "markdown",
   "metadata": {},
   "source": [
    "### 평점 예측하기 \n",
    "\n",
    " - 본인에 대한 것은 제외하도록 개선해야 함"
   ]
  },
  {
   "cell_type": "code",
   "execution_count": 132,
   "metadata": {},
   "outputs": [
    {
     "data": {
      "text/html": [
       "<div>\n",
       "<style scoped>\n",
       "    .dataframe tbody tr th:only-of-type {\n",
       "        vertical-align: middle;\n",
       "    }\n",
       "\n",
       "    .dataframe tbody tr th {\n",
       "        vertical-align: top;\n",
       "    }\n",
       "\n",
       "    .dataframe thead th {\n",
       "        text-align: right;\n",
       "    }\n",
       "</style>\n",
       "<table border=\"1\" class=\"dataframe\">\n",
       "  <thead>\n",
       "    <tr style=\"text-align: right;\">\n",
       "      <th>책</th>\n",
       "      <th>노인과바다</th>\n",
       "      <th>백설공주</th>\n",
       "      <th>신데렐라</th>\n",
       "      <th>어린왕자</th>\n",
       "      <th>콩쥐팥쥐</th>\n",
       "      <th>흥부전</th>\n",
       "    </tr>\n",
       "    <tr>\n",
       "      <th>사람</th>\n",
       "      <th></th>\n",
       "      <th></th>\n",
       "      <th></th>\n",
       "      <th></th>\n",
       "      <th></th>\n",
       "      <th></th>\n",
       "    </tr>\n",
       "  </thead>\n",
       "  <tbody>\n",
       "    <tr>\n",
       "      <th>민수</th>\n",
       "      <td>3.0</td>\n",
       "      <td>4.0</td>\n",
       "      <td>4.0</td>\n",
       "      <td>3.0</td>\n",
       "      <td>4.0</td>\n",
       "      <td>NaN</td>\n",
       "    </tr>\n",
       "    <tr>\n",
       "      <th>현우</th>\n",
       "      <td>3.0</td>\n",
       "      <td>NaN</td>\n",
       "      <td>2.0</td>\n",
       "      <td>NaN</td>\n",
       "      <td>1.0</td>\n",
       "      <td>2.0</td>\n",
       "    </tr>\n",
       "    <tr>\n",
       "      <th>지민</th>\n",
       "      <td>4.0</td>\n",
       "      <td>1.0</td>\n",
       "      <td>NaN</td>\n",
       "      <td>5.0</td>\n",
       "      <td>2.0</td>\n",
       "      <td>3.0</td>\n",
       "    </tr>\n",
       "    <tr>\n",
       "      <th>지연</th>\n",
       "      <td>5.0</td>\n",
       "      <td>NaN</td>\n",
       "      <td>3.0</td>\n",
       "      <td>4.0</td>\n",
       "      <td>3.0</td>\n",
       "      <td>3.0</td>\n",
       "    </tr>\n",
       "    <tr>\n",
       "      <th>민지</th>\n",
       "      <td>NaN</td>\n",
       "      <td>5.0</td>\n",
       "      <td>4.0</td>\n",
       "      <td>1.0</td>\n",
       "      <td>NaN</td>\n",
       "      <td>3.0</td>\n",
       "    </tr>\n",
       "  </tbody>\n",
       "</table>\n",
       "</div>"
      ],
      "text/plain": [
       "책   노인과바다  백설공주  신데렐라  어린왕자  콩쥐팥쥐  흥부전\n",
       "사람                                    \n",
       "민수    3.0   4.0   4.0   3.0   4.0  NaN\n",
       "현우    3.0   NaN   2.0   NaN   1.0  2.0\n",
       "지민    4.0   1.0   NaN   5.0   2.0  3.0\n",
       "지연    5.0   NaN   3.0   4.0   3.0  3.0\n",
       "민지    NaN   5.0   4.0   1.0   NaN  3.0"
      ]
     },
     "execution_count": 132,
     "metadata": {},
     "output_type": "execute_result"
    }
   ],
   "source": [
    "ratings"
   ]
  },
  {
   "cell_type": "code",
   "execution_count": 133,
   "metadata": {},
   "outputs": [],
   "source": [
    "user_name = \"민지\"\n",
    "book_name = \"노인과바다\""
   ]
  },
  {
   "cell_type": "code",
   "execution_count": 137,
   "metadata": {},
   "outputs": [
    {
     "data": {
      "text/plain": [
       "사람\n",
       "민수    3.0\n",
       "현우    3.0\n",
       "지민    4.0\n",
       "지연    5.0\n",
       "Name: 노인과바다, dtype: float64"
      ]
     },
     "execution_count": 137,
     "metadata": {},
     "output_type": "execute_result"
    }
   ],
   "source": [
    "ratings[book_name].drop(index = user_name)"
   ]
  },
  {
   "cell_type": "code",
   "execution_count": 138,
   "metadata": {},
   "outputs": [
    {
     "data": {
      "text/plain": [
       "사람\n",
       "민수    3.0\n",
       "지민    4.0\n",
       "지연    5.0\n",
       "현우    3.0\n",
       "Name: 노인과바다, dtype: float64"
      ]
     },
     "execution_count": 138,
     "metadata": {},
     "output_type": "execute_result"
    }
   ],
   "source": [
    "ratings[book_name].drop(index = user_name).sort_index()  # 자신의 것은 제외시킴"
   ]
  },
  {
   "cell_type": "code",
   "execution_count": 142,
   "metadata": {},
   "outputs": [
    {
     "data": {
      "text/plain": [
       "u\n",
       "민수    0.939827\n",
       "지민    0.542857\n",
       "지연    0.840841\n",
       "현우    0.989949\n",
       "Name: 민지, dtype: float64"
      ]
     },
     "execution_count": 142,
     "metadata": {},
     "output_type": "execute_result"
    }
   ],
   "source": [
    "similarity_table[user_name].drop(index = user_name).sort_index()"
   ]
  },
  {
   "cell_type": "code",
   "execution_count": 143,
   "metadata": {},
   "outputs": [],
   "source": [
    "neighbors_ratings = ratings[book_name].drop(index = user_name).sort_index()  # 자신의 것은 제외시킴\n",
    "neighbors_similarity = similarity_table[user_name].drop(index = user_name).sort_index()"
   ]
  },
  {
   "attachments": {
    "image.png": {
     "image/png": "[encoded data removed]"
    }
   },
   "cell_type": "markdown",
   "metadata": {},
   "source": [
    "#### neighbors_ratings\n",
    "![image.png](attachment:image.png)"
   ]
  },
  {
   "cell_type": "code",
   "execution_count": 144,
   "metadata": {},
   "outputs": [
    {
     "data": {
      "text/plain": [
       "u\n",
       "민수    0.939827\n",
       "지민    0.542857\n",
       "지연    0.840841\n",
       "현우    0.989949\n",
       "Name: 민지, dtype: float64"
      ]
     },
     "execution_count": 144,
     "metadata": {},
     "output_type": "execute_result"
    }
   ],
   "source": [
    "neighbors_similarity"
   ]
  },
  {
   "cell_type": "code",
   "execution_count": 145,
   "metadata": {},
   "outputs": [
    {
     "data": {
      "text/plain": [
       "사람\n",
       "민수    3.0\n",
       "지민    4.0\n",
       "지연    5.0\n",
       "현우    3.0\n",
       "Name: 노인과바다, dtype: float64"
      ]
     },
     "execution_count": 145,
     "metadata": {},
     "output_type": "execute_result"
    }
   ],
   "source": [
    "neighbors_ratings"
   ]
  },
  {
   "cell_type": "code",
   "execution_count": 146,
   "metadata": {},
   "outputs": [
    {
     "data": {
      "text/plain": [
       "12.16496376725352"
      ]
     },
     "execution_count": 146,
     "metadata": {},
     "output_type": "execute_result"
    }
   ],
   "source": [
    "#분자\n",
    "nominator = (neighbors_similarity * neighbors_ratings).sum()\n",
    "nominator"
   ]
  },
  {
   "cell_type": "code",
   "execution_count": 147,
   "metadata": {},
   "outputs": [
    {
     "data": {
      "text/plain": [
       "3.3134748798018654"
      ]
     },
     "execution_count": 147,
     "metadata": {},
     "output_type": "execute_result"
    }
   ],
   "source": [
    "#분모\n",
    "denominator = neighbors_similarity.sum()\n",
    "denominator"
   ]
  },
  {
   "attachments": {
    "image.png": {
     "image/png": "[encoded data removed]"
    }
   },
   "cell_type": "markdown",
   "metadata": {},
   "source": [
    "![image.png](attachment:image.png)"
   ]
  },
  {
   "cell_type": "code",
   "execution_count": 150,
   "metadata": {},
   "outputs": [],
   "source": [
    "def predict_rating_test(user_name, book_name):\n",
    "    neighbors_ratings = ratings[book_name].drop(index = user_name).sort_index()  # 자신의 것은 제외시킴\n",
    "    neighbors_similarity = similarity_table[user_name].drop(index = user_name).sort_index()\n",
    "\n",
    "    nominator = (neighbors_similarity * neighbors_ratings).sum()\n",
    "    denominator = np.sqrt(((neighbors_similarity ** 2).sum()) * ((neighbors_ratings ** 2).sum()))\n",
    "\n",
    "    score = nominator / denominator\n",
    "    \n",
    "    return score"
   ]
  },
  {
   "cell_type": "code",
   "execution_count": 175,
   "metadata": {},
   "outputs": [],
   "source": [
    "def predict_rating(user_name, book_name):\n",
    "    neighbors_ratings = ratings[book_name].drop(index = user_name).sort_index()  # 자신의 것은 제외시킴\n",
    "    # print(neighbors_ratings)\n",
    "    neighbors_similarity = similarity_table[user_name].drop(index = user_name).sort_index()\n",
    "    # print(neighbors_similarity)\n",
    "\n",
    "    nominator = (neighbors_similarity * neighbors_ratings).sum()\n",
    "    # print(nominator)\n",
    "    denominator = neighbors_similarity.sum()\n",
    "    # print(denominator)\n",
    "    \n",
    "    score = nominator / denominator\n",
    "    \n",
    "    return score"
   ]
  },
  {
   "cell_type": "code",
   "execution_count": 174,
   "metadata": {},
   "outputs": [
    {
     "name": "stdout",
     "output_type": "stream",
     "text": [
      "사람\n",
      "민수    3.0\n",
      "지민    4.0\n",
      "지연    5.0\n",
      "현우    3.0\n",
      "Name: 노인과바다, dtype: float64\n",
      "u\n",
      "민수    0.939827\n",
      "지민    0.542857\n",
      "지연    0.840841\n",
      "현우    0.989949\n",
      "Name: 민지, dtype: float64\n",
      "12.16496376725352\n",
      "3.3134748798018654\n"
     ]
    },
    {
     "data": {
      "text/plain": [
       "3.671361398092429"
      ]
     },
     "execution_count": 174,
     "metadata": {},
     "output_type": "execute_result"
    }
   ],
   "source": [
    "predict_rating(\"민지\", \"노인과바다\")"
   ]
  },
  {
   "cell_type": "code",
   "execution_count": 153,
   "metadata": {},
   "outputs": [
    {
     "data": {
      "text/plain": [
       "2.4607597343308854"
      ]
     },
     "execution_count": 153,
     "metadata": {},
     "output_type": "execute_result"
    }
   ],
   "source": [
    "predict_rating(\"현우\", \"백설공주\")"
   ]
  },
  {
   "cell_type": "code",
   "execution_count": 151,
   "metadata": {},
   "outputs": [
    {
     "data": {
      "text/plain": [
       "0.9356723825644702"
      ]
     },
     "execution_count": 151,
     "metadata": {},
     "output_type": "execute_result"
    }
   ],
   "source": [
    "predict_rating_test(\"민지\", \"노인과바다\")"
   ]
  },
  {
   "cell_type": "markdown",
   "metadata": {},
   "source": [
    "### 평점 테이블"
   ]
  },
  {
   "cell_type": "code",
   "execution_count": 154,
   "metadata": {},
   "outputs": [
    {
     "data": {
      "text/plain": [
       "Index(['민수', '현우', '지민', '지연', '민지'], dtype='object', name='사람')"
      ]
     },
     "execution_count": 154,
     "metadata": {},
     "output_type": "execute_result"
    }
   ],
   "source": [
    "ratings.index"
   ]
  },
  {
   "cell_type": "code",
   "execution_count": 155,
   "metadata": {},
   "outputs": [
    {
     "data": {
      "text/plain": [
       "Index(['노인과바다', '백설공주', '신데렐라', '어린왕자', '콩쥐팥쥐', '흥부전'], dtype='object', name='책')"
      ]
     },
     "execution_count": 155,
     "metadata": {},
     "output_type": "execute_result"
    }
   ],
   "source": [
    "ratings.columns"
   ]
  },
  {
   "cell_type": "code",
   "execution_count": 156,
   "metadata": {},
   "outputs": [
    {
     "name": "stdout",
     "output_type": "stream",
     "text": [
      "30\n"
     ]
    }
   ],
   "source": [
    "print(len(list(product(ratings.index, ratings.columns))))"
   ]
  },
  {
   "cell_type": "code",
   "execution_count": 157,
   "metadata": {},
   "outputs": [
    {
     "data": {
      "text/plain": [
       "[('민수', '노인과바다'),\n",
       " ('민수', '백설공주'),\n",
       " ('민수', '신데렐라'),\n",
       " ('민수', '어린왕자'),\n",
       " ('민수', '콩쥐팥쥐'),\n",
       " ('민수', '흥부전'),\n",
       " ('현우', '노인과바다'),\n",
       " ('현우', '백설공주'),\n",
       " ('현우', '신데렐라'),\n",
       " ('현우', '어린왕자'),\n",
       " ('현우', '콩쥐팥쥐'),\n",
       " ('현우', '흥부전'),\n",
       " ('지민', '노인과바다'),\n",
       " ('지민', '백설공주'),\n",
       " ('지민', '신데렐라'),\n",
       " ('지민', '어린왕자'),\n",
       " ('지민', '콩쥐팥쥐'),\n",
       " ('지민', '흥부전'),\n",
       " ('지연', '노인과바다'),\n",
       " ('지연', '백설공주'),\n",
       " ('지연', '신데렐라'),\n",
       " ('지연', '어린왕자'),\n",
       " ('지연', '콩쥐팥쥐'),\n",
       " ('지연', '흥부전'),\n",
       " ('민지', '노인과바다'),\n",
       " ('민지', '백설공주'),\n",
       " ('민지', '신데렐라'),\n",
       " ('민지', '어린왕자'),\n",
       " ('민지', '콩쥐팥쥐'),\n",
       " ('민지', '흥부전')]"
      ]
     },
     "execution_count": 157,
     "metadata": {},
     "output_type": "execute_result"
    }
   ],
   "source": [
    "list(product(ratings.index, ratings.columns))"
   ]
  },
  {
   "cell_type": "code",
   "execution_count": 183,
   "metadata": {},
   "outputs": [],
   "source": [
    "def predict_rating_table(ratings):\n",
    "    user_book_combinations = list(product(ratings.index, ratings.columns))\n",
    "    \n",
    "    rating_list = []\n",
    "    \n",
    "    for user_name, book_name in user_book_combinations:\n",
    "        score = predict_rating(user_name, book_name)\n",
    "        \n",
    "        rating_predict = {\n",
    "            'user': user_name,\n",
    "            'book': book_name,\n",
    "            'score': score\n",
    "        }\n",
    "        \n",
    "        rating_list.append(rating_predict)\n",
    "        \n",
    "    rating_list = pd.DataFrame(rating_list)\n",
    "    \n",
    "    rating_table = pd.pivot_table(rating_list, index='user', columns='book', values='score')\n",
    "    rating_table = rating_table[ratings.isnull()]\n",
    "    \n",
    "    return rating_table"
   ]
  },
  {
   "cell_type": "code",
   "execution_count": 184,
   "metadata": {},
   "outputs": [
    {
     "data": {
      "text/html": [
       "<div>\n",
       "<style scoped>\n",
       "    .dataframe tbody tr th:only-of-type {\n",
       "        vertical-align: middle;\n",
       "    }\n",
       "\n",
       "    .dataframe tbody tr th {\n",
       "        vertical-align: top;\n",
       "    }\n",
       "\n",
       "    .dataframe thead th {\n",
       "        text-align: right;\n",
       "    }\n",
       "</style>\n",
       "<table border=\"1\" class=\"dataframe\">\n",
       "  <thead>\n",
       "    <tr style=\"text-align: right;\">\n",
       "      <th>책</th>\n",
       "      <th>노인과바다</th>\n",
       "      <th>백설공주</th>\n",
       "      <th>신데렐라</th>\n",
       "      <th>어린왕자</th>\n",
       "      <th>콩쥐팥쥐</th>\n",
       "      <th>흥부전</th>\n",
       "    </tr>\n",
       "    <tr>\n",
       "      <th>사람</th>\n",
       "      <th></th>\n",
       "      <th></th>\n",
       "      <th></th>\n",
       "      <th></th>\n",
       "      <th></th>\n",
       "      <th></th>\n",
       "    </tr>\n",
       "  </thead>\n",
       "  <tbody>\n",
       "    <tr>\n",
       "      <th>민수</th>\n",
       "      <td>3.0</td>\n",
       "      <td>4.0</td>\n",
       "      <td>4.0</td>\n",
       "      <td>3.0</td>\n",
       "      <td>4.0</td>\n",
       "      <td>NaN</td>\n",
       "    </tr>\n",
       "    <tr>\n",
       "      <th>민지</th>\n",
       "      <td>NaN</td>\n",
       "      <td>5.0</td>\n",
       "      <td>4.0</td>\n",
       "      <td>1.0</td>\n",
       "      <td>NaN</td>\n",
       "      <td>3.0</td>\n",
       "    </tr>\n",
       "    <tr>\n",
       "      <th>지민</th>\n",
       "      <td>4.0</td>\n",
       "      <td>1.0</td>\n",
       "      <td>NaN</td>\n",
       "      <td>5.0</td>\n",
       "      <td>2.0</td>\n",
       "      <td>3.0</td>\n",
       "    </tr>\n",
       "    <tr>\n",
       "      <th>지연</th>\n",
       "      <td>5.0</td>\n",
       "      <td>NaN</td>\n",
       "      <td>3.0</td>\n",
       "      <td>4.0</td>\n",
       "      <td>3.0</td>\n",
       "      <td>3.0</td>\n",
       "    </tr>\n",
       "    <tr>\n",
       "      <th>현우</th>\n",
       "      <td>3.0</td>\n",
       "      <td>NaN</td>\n",
       "      <td>2.0</td>\n",
       "      <td>NaN</td>\n",
       "      <td>1.0</td>\n",
       "      <td>2.0</td>\n",
       "    </tr>\n",
       "  </tbody>\n",
       "</table>\n",
       "</div>"
      ],
      "text/plain": [
       "책   노인과바다  백설공주  신데렐라  어린왕자  콩쥐팥쥐  흥부전\n",
       "사람                                    \n",
       "민수    3.0   4.0   4.0   3.0   4.0  NaN\n",
       "민지    NaN   5.0   4.0   1.0   NaN  3.0\n",
       "지민    4.0   1.0   NaN   5.0   2.0  3.0\n",
       "지연    5.0   NaN   3.0   4.0   3.0  3.0\n",
       "현우    3.0   NaN   2.0   NaN   1.0  2.0"
      ]
     },
     "execution_count": 184,
     "metadata": {},
     "output_type": "execute_result"
    }
   ],
   "source": [
    "ratings.sort_index()"
   ]
  },
  {
   "cell_type": "code",
   "execution_count": 185,
   "metadata": {},
   "outputs": [
    {
     "data": {
      "text/html": [
       "<div>\n",
       "<style scoped>\n",
       "    .dataframe tbody tr th:only-of-type {\n",
       "        vertical-align: middle;\n",
       "    }\n",
       "\n",
       "    .dataframe tbody tr th {\n",
       "        vertical-align: top;\n",
       "    }\n",
       "\n",
       "    .dataframe thead th {\n",
       "        text-align: right;\n",
       "    }\n",
       "</style>\n",
       "<table border=\"1\" class=\"dataframe\">\n",
       "  <thead>\n",
       "    <tr style=\"text-align: right;\">\n",
       "      <th>book</th>\n",
       "      <th>노인과바다</th>\n",
       "      <th>백설공주</th>\n",
       "      <th>신데렐라</th>\n",
       "      <th>어린왕자</th>\n",
       "      <th>콩쥐팥쥐</th>\n",
       "      <th>흥부전</th>\n",
       "    </tr>\n",
       "    <tr>\n",
       "      <th>user</th>\n",
       "      <th></th>\n",
       "      <th></th>\n",
       "      <th></th>\n",
       "      <th></th>\n",
       "      <th></th>\n",
       "      <th></th>\n",
       "    </tr>\n",
       "  </thead>\n",
       "  <tbody>\n",
       "    <tr>\n",
       "      <th>민수</th>\n",
       "      <td>NaN</td>\n",
       "      <td>NaN</td>\n",
       "      <td>NaN</td>\n",
       "      <td>NaN</td>\n",
       "      <td>NaN</td>\n",
       "      <td>2.754375</td>\n",
       "    </tr>\n",
       "    <tr>\n",
       "      <th>민지</th>\n",
       "      <td>3.671361</td>\n",
       "      <td>NaN</td>\n",
       "      <td>NaN</td>\n",
       "      <td>NaN</td>\n",
       "      <td>2.522275</td>\n",
       "      <td>NaN</td>\n",
       "    </tr>\n",
       "    <tr>\n",
       "      <th>지민</th>\n",
       "      <td>NaN</td>\n",
       "      <td>NaN</td>\n",
       "      <td>3.109381</td>\n",
       "      <td>NaN</td>\n",
       "      <td>NaN</td>\n",
       "      <td>NaN</td>\n",
       "    </tr>\n",
       "    <tr>\n",
       "      <th>지연</th>\n",
       "      <td>NaN</td>\n",
       "      <td>2.392236</td>\n",
       "      <td>NaN</td>\n",
       "      <td>NaN</td>\n",
       "      <td>NaN</td>\n",
       "      <td>NaN</td>\n",
       "    </tr>\n",
       "    <tr>\n",
       "      <th>현우</th>\n",
       "      <td>NaN</td>\n",
       "      <td>2.460760</td>\n",
       "      <td>NaN</td>\n",
       "      <td>3.256756</td>\n",
       "      <td>NaN</td>\n",
       "      <td>NaN</td>\n",
       "    </tr>\n",
       "  </tbody>\n",
       "</table>\n",
       "</div>"
      ],
      "text/plain": [
       "book     노인과바다      백설공주      신데렐라      어린왕자      콩쥐팥쥐       흥부전\n",
       "user                                                            \n",
       "민수         NaN       NaN       NaN       NaN       NaN  2.754375\n",
       "민지    3.671361       NaN       NaN       NaN  2.522275       NaN\n",
       "지민         NaN       NaN  3.109381       NaN       NaN       NaN\n",
       "지연         NaN  2.392236       NaN       NaN       NaN       NaN\n",
       "현우         NaN  2.460760       NaN  3.256756       NaN       NaN"
      ]
     },
     "execution_count": 185,
     "metadata": {},
     "output_type": "execute_result"
    }
   ],
   "source": [
    "rating_table = predict_rating_table(ratings)\n",
    "rating_table"
   ]
  },
  {
   "cell_type": "markdown",
   "metadata": {},
   "source": [
    "### 추천"
   ]
  },
  {
   "cell_type": "code",
   "execution_count": 186,
   "metadata": {},
   "outputs": [],
   "source": [
    "def predict_book(user_name, k):\n",
    "    prediction_list = rating_table.loc[user_name].sort_values(ascending=False)\n",
    "    prediction_list = prediction_list.head(k).index\n",
    "    \n",
    "    return prediction_list"
   ]
  },
  {
   "cell_type": "code",
   "execution_count": 187,
   "metadata": {},
   "outputs": [
    {
     "data": {
      "text/plain": [
       "Index(['노인과바다', '콩쥐팥쥐'], dtype='object', name='book')"
      ]
     },
     "execution_count": 187,
     "metadata": {},
     "output_type": "execute_result"
    }
   ],
   "source": [
    "predict_book(\"민지\", k = 2)"
   ]
  },
  {
   "cell_type": "code",
   "execution_count": 188,
   "metadata": {},
   "outputs": [],
   "source": [
    "def predict_user(book_name, k):\n",
    "    prediction_list = rating_table[book_name].sort_values(ascending = False)\n",
    "    prediction_list = prediction_list.head(k).index\n",
    "    \n",
    "    return prediction_list"
   ]
  },
  {
   "cell_type": "code",
   "execution_count": 165,
   "metadata": {},
   "outputs": [
    {
     "data": {
      "text/plain": [
       "Index(['현우', '지연'], dtype='object', name='user')"
      ]
     },
     "execution_count": 165,
     "metadata": {},
     "output_type": "execute_result"
    }
   ],
   "source": [
    "predict_user(\"백설공주\", k = 2)"
   ]
  },
  {
   "cell_type": "code",
   "execution_count": 166,
   "metadata": {},
   "outputs": [
    {
     "data": {
      "text/plain": [
       "user\n",
       "민수         NaN\n",
       "민지         NaN\n",
       "지민         NaN\n",
       "지연    2.392236\n",
       "현우    2.460760\n",
       "Name: 백설공주, dtype: float64"
      ]
     },
     "execution_count": 166,
     "metadata": {},
     "output_type": "execute_result"
    }
   ],
   "source": [
    "rating_table[\"백설공주\"]"
   ]
  },
  {
   "cell_type": "code",
   "execution_count": 167,
   "metadata": {},
   "outputs": [
    {
     "data": {
      "text/plain": [
       "book\n",
       "노인과바다    3.671361\n",
       "백설공주          NaN\n",
       "신데렐라          NaN\n",
       "어린왕자          NaN\n",
       "콩쥐팥쥐     2.522275\n",
       "흥부전           NaN\n",
       "Name: 민지, dtype: float64"
      ]
     },
     "execution_count": 167,
     "metadata": {},
     "output_type": "execute_result"
    }
   ],
   "source": [
    "rating_table.loc[\"민지\"]"
   ]
  },
  {
   "cell_type": "code",
   "execution_count": null,
   "metadata": {},
   "outputs": [],
   "source": []
  },
  {
   "cell_type": "markdown",
   "metadata": {},
   "source": [
    "## 전체 예제: 협업 필터링 (Collaborative Filtering) 구현하기\n",
    "\n",
    "이번에는 추천 시스템(Recommender System)에서 널리 사용되는 협업 필터링(이하 Collaborative Filtering)의 원리를 알아보고 이를 학습해봅니다. 추천 시스템은 사용자(이하 사용자)가 특정 물건이나 서비스(이하 상품)에 대한 선호 여부나 선호도를 예측하는 시스템을 의미합니다. 추천 시스템은 아마존과 같은 이커머스부터 페이스북과 같은 SNS, 유튜브, 넷플릭스 등과 같은 동영상 플랫폼까지 다양한 분야에서 두루 활용되고 있습니다.\n",
    "\n",
    "Collaborative Filtering에는 사용자에게 상품을 추천을 방법이 크게 두 가지가 있음:\n",
    "\n",
    "- 1) 사용자가 선호하는 상품과 유사한 다른 상품 을 추천(상품 기반)하거나 \n",
    "     - 상품 기반 방식은 이후 아마존(Amazon)이 제안한 기법. 상품 기반 기법이 더 많은 기업들에서 사용되고 있다고 알려져있음\n",
    "- 2) 사용자와 유사한 다른 사용자가 선호하는 상품을 추천(사용자 기반)합니다. \n",
    "     - 사용자 기반 기법이 먼저 등장한 전통적인 알고리즘\n",
    "\n",
    "사용자 기반 방식이 갖는 문제는 우선 **1. 계산 복잡성 문제**와 **2. 희소성 문제**가 대표적입니다. 아마존과 같이 거대 이커머스 회사들은 수백만 명의 사용자와 수백만 개의 상품을 관리해야하는데 사용자 기반 방식을 사용하는 경우 사용자가 추가될 때마다 나머지 모든 사용자와의 유사도를 연산해야한다는 문제점이 있습니다. \n",
    "\n",
    "상품 기반 방식을 사용하는 경우에 미리 구해 놓은 상품 간 유사도를 활용할 수 있기 때문에 이러한 문제점이 어느 정도 해결됩니다! 물론 사용자 기반 방식도 상품과 사용자가 계속 추가되므로 일정 기간마다 새롭게 유사도를 구해야하지만 사용자 기반 방식보다는 훨씬 계산 복잡성이 작습니다. 그리고 계산 복잡성 문제가 해결되는 대신 이 거대한 행렬을 저장할 공간이 따로 확보되어야한다는 점을 굳이 단점으로 뽑을 수 있습니다. \n",
    "\n",
    "데이터 희소성 문제는 협업 필터링 알고리즘의 본질적인 취약한 점이지만 사용자가 많은 상품을 평가한 경우는 보통 없어서 이런 경우 사용자간의 유사도를 연산하는 것 자체가 어렵기 때문에 보통 사용자 기반 방식이 더 취약합니다.\n",
    "\n",
    "\n",
    "상품 / 사용자 기반 기법은 전반적으로 다음과 같은 흐름으로 동작합니다.\n",
    "\n",
    "1. 우선 사용자 $u$가 내릴 상품 $i$에 대한 평점(rating)을 추정하고자 합니다. 상품 $i$ / 사용자 $u$와 나머지 모든 상품 / 사용자의 유사도를 연산합니다.\n",
    "2. 유사도가 높은 k개 상품 / 사용자를 선택합니다. 이를 이웃이라고 부르겠습니다.\n",
    "3. 상품 기반 혹은 사용자 기반 기법에 따라 아래 단계를 수행하며 평점을 예측합니다.\n",
    "    - 상품 기반 : 이웃 상품에 내린 사용자 $u$의 평점(rating)을 상품 $i$와의 유사도에 따라 가중 평균을 구합니다. \n",
    "    - 사용자 기반 : 이웃 사용자가 상품 $i$에 내린 평점(rating)을 사용자 $u$와의 유사도에 따라 가중 평균을 구합니다.\n",
    "4. 아직 평점(rating)이 없는 항목에 대해 모든 평점(rating)을 예측합니다. 평점(rating) 예측 값 상위 n개 상품을 추천합니다.\n",
    "\n",
    "이러한 머신러닝 알고리즘을 잘 이해하는 방법은, 알고리즘을 파이썬과 같은 프로그래밍 언어로 직접 구현해보는 것입니다. 이번에는 주어진 데이터와 문제를 Collaborative Filtering을 활용하여 파이썬으로 직접 구현해 보도록 합니다."
   ]
  },
  {
   "cell_type": "markdown",
   "metadata": {},
   "source": [
    "**다만 상품 / 사용자 기반 기법은 상품과 사용자중 어떠한 것을 기준으로 삼을지만 다르고 구현하는 방식은 완전히 대칭적으로 동일**하기 때문에 사용자 기반 방식을 기준으로 구현하도록 하겠습니다. 기본적으로 사용자 기반 기법이 동작하는 흐름을 풀어쓰면 다음과 같습니다.\n",
    "\n",
    "1. 우선 사용자 $u$가 내릴 상품 $i$에 대한 평점(rating)을 추정하고자 합니다. 사용자 $u$와 나머지 모든 사용자간의 유사도 구합니다.\n",
    "2. 유사도를 기준으로 사용자 $u$와 가장 유사한(가까운) k명의 사용자(이웃)을 구합니다.\n",
    "3. 이웃들이 상품 $i$에 내린 평점을 가까운 이웃일수록 더 큰 가중치를 주어서 평균을 구합니다. 즉, 가중평균을 구합니다.\n",
    "4. 아직 평점(rating)이 없는 항목에 대해 위의 과정으로 모든 평점(rating)을 예측합니다.\n",
    "5. 평점(rating) 예측 값 상위 n개 상품을 추천합니다."
   ]
  },
  {
   "cell_type": "markdown",
   "metadata": {},
   "source": [
    "## Configuration"
   ]
  },
  {
   "cell_type": "code",
   "execution_count": 189,
   "metadata": {},
   "outputs": [],
   "source": [
    "# 판다스 패키지를 Import\n",
    "import pandas as pd\n",
    "\n",
    "# 선형대수 패키지 넘파이 Import (수학 연산을 편라하게 하기 위한 용도로 사용)\n",
    "import numpy as np"
   ]
  },
  {
   "cell_type": "markdown",
   "metadata": {},
   "source": [
    "## Generate Dataset\n",
    "\n",
    "먼저 Collaborative Filtering 알고리즘 원리를 잘 이해할 수 있는 데이터셋을 생성해보겠습니다. 추천 시스템을 구현한다고 할 때 어떠한 정보를 활용해볼 수 있을까요?\n",
    "\n",
    "예를 들어 이커머스 서비스 추천 시스템을 구현해본다고 가정했을 때, 크게 두 가지 정보를 활용해볼 수 있습니다. \n",
    "\n",
    "1. 우선 사용자가 상품을 구매한 이후 남긴 평점 정보를 활용할 수 있습니다.\n",
    "2. 혹은 사용자가 상품 판매 페이지에 머무른 시간 혹은 해당 상품을 클릭했는지 등의 정보를 활용해볼 수도 있습니다. \n",
    "\n",
    "앞서 말한 경우와 같이 사용자가 상품에 내린 직접적인 평가 데이터를 명시적 정보 (이하 explicit ratings), 사용자 행동을 통해 추론한 상품에 대한 간접적인 평가 데이터를 암시적 정보 (이하 implicit ratings)라고 말합니다. \n",
    "\n",
    "explicit ratings는 사용자로부터 얻을 수 있는 가장 정확한 평점입니다. 하지만, 사용자가 평가를 내릴 때 충분한 시간을 할애하는 것은 아니기에 평점 간의 척도가 정확하지 않을 수 있고 평점 수가 충분하지 않다는 한계가 있습니다. 이에 비해 implicit ratings는 평점을 쉽게 많이 수집할 수 있다는 장점이 있지만, 해당 정보를 무조건 사용자가 상품에 내린 긍정적 평가라고 결론 내릴 수는 없다는 단점이 있습니다.\n",
    "\n",
    "이번에 다룰 데이터셋은 1) 사용자(User)가 2) 책이라는 상품(Item)에 남긴 3) 1에서 5점 척도의 평점(rating) 데이터입니다. 사용자가 아직 보지 않은 책에 대한 3) 평점을 Collaborative Filtering으로 예측해보겠습니다. 먼저 이를 위한 예시 데이터셋을 생성한 뒤, 이 데이터를 바탕으로 모델을 구현해보겠습니다."
   ]
  },
  {
   "cell_type": "code",
   "execution_count": 190,
   "metadata": {},
   "outputs": [
    {
     "name": "stdout",
     "output_type": "stream",
     "text": [
      "(23, 3)\n"
     ]
    },
    {
     "data": {
      "text/html": [
       "<div>\n",
       "<style scoped>\n",
       "    .dataframe tbody tr th:only-of-type {\n",
       "        vertical-align: middle;\n",
       "    }\n",
       "\n",
       "    .dataframe tbody tr th {\n",
       "        vertical-align: top;\n",
       "    }\n",
       "\n",
       "    .dataframe thead th {\n",
       "        text-align: right;\n",
       "    }\n",
       "</style>\n",
       "<table border=\"1\" class=\"dataframe\">\n",
       "  <thead>\n",
       "    <tr style=\"text-align: right;\">\n",
       "      <th></th>\n",
       "      <th>사람</th>\n",
       "      <th>책</th>\n",
       "      <th>평점</th>\n",
       "    </tr>\n",
       "  </thead>\n",
       "  <tbody>\n",
       "    <tr>\n",
       "      <th>0</th>\n",
       "      <td>민지</td>\n",
       "      <td>백설공주</td>\n",
       "      <td>5.0</td>\n",
       "    </tr>\n",
       "    <tr>\n",
       "      <th>1</th>\n",
       "      <td>민지</td>\n",
       "      <td>신데렐라</td>\n",
       "      <td>4.0</td>\n",
       "    </tr>\n",
       "    <tr>\n",
       "      <th>2</th>\n",
       "      <td>민지</td>\n",
       "      <td>어린왕자</td>\n",
       "      <td>1.0</td>\n",
       "    </tr>\n",
       "    <tr>\n",
       "      <th>3</th>\n",
       "      <td>민지</td>\n",
       "      <td>흥부전</td>\n",
       "      <td>3.0</td>\n",
       "    </tr>\n",
       "    <tr>\n",
       "      <th>4</th>\n",
       "      <td>현우</td>\n",
       "      <td>노인과바다</td>\n",
       "      <td>3.0</td>\n",
       "    </tr>\n",
       "    <tr>\n",
       "      <th>5</th>\n",
       "      <td>현우</td>\n",
       "      <td>신데렐라</td>\n",
       "      <td>2.0</td>\n",
       "    </tr>\n",
       "    <tr>\n",
       "      <th>6</th>\n",
       "      <td>현우</td>\n",
       "      <td>콩쥐팥쥐</td>\n",
       "      <td>1.0</td>\n",
       "    </tr>\n",
       "    <tr>\n",
       "      <th>7</th>\n",
       "      <td>현우</td>\n",
       "      <td>흥부전</td>\n",
       "      <td>2.0</td>\n",
       "    </tr>\n",
       "    <tr>\n",
       "      <th>8</th>\n",
       "      <td>민수</td>\n",
       "      <td>노인과바다</td>\n",
       "      <td>3.0</td>\n",
       "    </tr>\n",
       "    <tr>\n",
       "      <th>9</th>\n",
       "      <td>민수</td>\n",
       "      <td>백설공주</td>\n",
       "      <td>4.0</td>\n",
       "    </tr>\n",
       "    <tr>\n",
       "      <th>10</th>\n",
       "      <td>민수</td>\n",
       "      <td>신데렐라</td>\n",
       "      <td>4.0</td>\n",
       "    </tr>\n",
       "    <tr>\n",
       "      <th>11</th>\n",
       "      <td>민수</td>\n",
       "      <td>어린왕자</td>\n",
       "      <td>3.0</td>\n",
       "    </tr>\n",
       "    <tr>\n",
       "      <th>12</th>\n",
       "      <td>민수</td>\n",
       "      <td>콩쥐팥쥐</td>\n",
       "      <td>4.0</td>\n",
       "    </tr>\n",
       "    <tr>\n",
       "      <th>13</th>\n",
       "      <td>지민</td>\n",
       "      <td>노인과바다</td>\n",
       "      <td>4.0</td>\n",
       "    </tr>\n",
       "    <tr>\n",
       "      <th>14</th>\n",
       "      <td>지민</td>\n",
       "      <td>백설공주</td>\n",
       "      <td>1.0</td>\n",
       "    </tr>\n",
       "    <tr>\n",
       "      <th>15</th>\n",
       "      <td>지민</td>\n",
       "      <td>어린왕자</td>\n",
       "      <td>5.0</td>\n",
       "    </tr>\n",
       "    <tr>\n",
       "      <th>16</th>\n",
       "      <td>지민</td>\n",
       "      <td>콩쥐팥쥐</td>\n",
       "      <td>2.0</td>\n",
       "    </tr>\n",
       "    <tr>\n",
       "      <th>17</th>\n",
       "      <td>지민</td>\n",
       "      <td>흥부전</td>\n",
       "      <td>3.0</td>\n",
       "    </tr>\n",
       "    <tr>\n",
       "      <th>18</th>\n",
       "      <td>지연</td>\n",
       "      <td>노인과바다</td>\n",
       "      <td>5.0</td>\n",
       "    </tr>\n",
       "    <tr>\n",
       "      <th>19</th>\n",
       "      <td>지연</td>\n",
       "      <td>신데렐라</td>\n",
       "      <td>3.0</td>\n",
       "    </tr>\n",
       "    <tr>\n",
       "      <th>20</th>\n",
       "      <td>지연</td>\n",
       "      <td>어린왕자</td>\n",
       "      <td>4.0</td>\n",
       "    </tr>\n",
       "    <tr>\n",
       "      <th>21</th>\n",
       "      <td>지연</td>\n",
       "      <td>콩쥐팥쥐</td>\n",
       "      <td>3.0</td>\n",
       "    </tr>\n",
       "    <tr>\n",
       "      <th>22</th>\n",
       "      <td>지연</td>\n",
       "      <td>흥부전</td>\n",
       "      <td>3.0</td>\n",
       "    </tr>\n",
       "  </tbody>\n",
       "</table>\n",
       "</div>"
      ],
      "text/plain": [
       "    사람      책   평점\n",
       "0   민지   백설공주  5.0\n",
       "1   민지   신데렐라  4.0\n",
       "2   민지   어린왕자  1.0\n",
       "3   민지    흥부전  3.0\n",
       "4   현우  노인과바다  3.0\n",
       "5   현우   신데렐라  2.0\n",
       "6   현우   콩쥐팥쥐  1.0\n",
       "7   현우    흥부전  2.0\n",
       "8   민수  노인과바다  3.0\n",
       "9   민수   백설공주  4.0\n",
       "10  민수   신데렐라  4.0\n",
       "11  민수   어린왕자  3.0\n",
       "12  민수   콩쥐팥쥐  4.0\n",
       "13  지민  노인과바다  4.0\n",
       "14  지민   백설공주  1.0\n",
       "15  지민   어린왕자  5.0\n",
       "16  지민   콩쥐팥쥐  2.0\n",
       "17  지민    흥부전  3.0\n",
       "18  지연  노인과바다  5.0\n",
       "19  지연   신데렐라  3.0\n",
       "20  지연   어린왕자  4.0\n",
       "21  지연   콩쥐팥쥐  3.0\n",
       "22  지연    흥부전  3.0"
      ]
     },
     "execution_count": 190,
     "metadata": {},
     "output_type": "execute_result"
    }
   ],
   "source": [
    "# 간단한 데이터셋을 온라인에서 불러올 수 있습니다. 데이터를 불러올 url을 지정합니다.\n",
    "url = \"data/ratings.csv\"\n",
    "\n",
    "# pd.read_csv()로 url에서 데이터를 읽어온 후 data에 저장합니다.\n",
    "data = pd.read_csv(url)\n",
    "\n",
    "# data의 shape를 출력합니다.\n",
    "print(data.shape)\n",
    "# 데이터를 확인합니다.\n",
    "data"
   ]
  },
  {
   "cell_type": "markdown",
   "metadata": {},
   "source": [
    "협업필터링은 다음과 같은 형태의 데이터를 사용해야 합니다. 일반적으로 사용자는 `index`, 상품은 `column`으로 지정합니다. 값으로는 평점, 구매횟수 등이 올 수 있습니다."
   ]
  },
  {
   "cell_type": "markdown",
   "metadata": {},
   "source": [
    "<table>\n",
    "  <thead>\n",
    "    <tr style=\"text-align: right;\">\n",
    "      <th></th>\n",
    "      <th>노인과바다</th>\n",
    "      <th>백설공주</th>\n",
    "      <th>신데렐라</th>\n",
    "      <th>어린왕자</th>\n",
    "      <th>콩쥐팥쥐</th>\n",
    "      <th>흥부전</th>\n",
    "    </tr>\n",
    "  </thead>\n",
    "  <tbody>\n",
    "    <tr>\n",
    "      <th>민지</th>\n",
    "      <td>NaN</td>\n",
    "      <td>5</td>\n",
    "      <td>4</td>\n",
    "      <td>1</td>\n",
    "      <td>5</td>\n",
    "      <td>3</td>\n",
    "    </tr>\n",
    "    <tr>\n",
    "      <th>현우</th>\n",
    "      <td>3</td>\n",
    "      <td>NaN</td>\n",
    "      <td>2</td>\n",
    "      <td>3</td>\n",
    "      <td>1</td>\n",
    "      <td>2</td>\n",
    "    </tr>\n",
    "    <tr>\n",
    "      <th>민수</th>\n",
    "      <td>3</td>\n",
    "      <td>4</td>\n",
    "      <td>4</td>\n",
    "      <td>3</td>\n",
    "      <td>4</td>\n",
    "      <td>NaN</td>\n",
    "    </tr>\n",
    "    <tr>\n",
    "      <th>지민</th>\n",
    "      <td>4</td>\n",
    "      <td>1</td>\n",
    "      <td>1</td>\n",
    "      <td>5</td>\n",
    "      <td>2</td>\n",
    "      <td>3</td>\n",
    "    </tr>\n",
    "    <tr>\n",
    "      <th>지연</th>\n",
    "      <td>5</td>\n",
    "      <td>NaN</td>\n",
    "      <td>3</td>\n",
    "      <td>4</td>\n",
    "      <td>3</td>\n",
    "      <td>3</td>\n",
    "    </tr>\n",
    "  </tbody>\n",
    "</table>"
   ]
  },
  {
   "cell_type": "code",
   "execution_count": 191,
   "metadata": {},
   "outputs": [
    {
     "data": {
      "text/html": [
       "<div>\n",
       "<style scoped>\n",
       "    .dataframe tbody tr th:only-of-type {\n",
       "        vertical-align: middle;\n",
       "    }\n",
       "\n",
       "    .dataframe tbody tr th {\n",
       "        vertical-align: top;\n",
       "    }\n",
       "\n",
       "    .dataframe thead th {\n",
       "        text-align: right;\n",
       "    }\n",
       "</style>\n",
       "<table border=\"1\" class=\"dataframe\">\n",
       "  <thead>\n",
       "    <tr style=\"text-align: right;\">\n",
       "      <th>책</th>\n",
       "      <th>노인과바다</th>\n",
       "      <th>백설공주</th>\n",
       "      <th>신데렐라</th>\n",
       "      <th>어린왕자</th>\n",
       "      <th>콩쥐팥쥐</th>\n",
       "      <th>흥부전</th>\n",
       "    </tr>\n",
       "    <tr>\n",
       "      <th>사람</th>\n",
       "      <th></th>\n",
       "      <th></th>\n",
       "      <th></th>\n",
       "      <th></th>\n",
       "      <th></th>\n",
       "      <th></th>\n",
       "    </tr>\n",
       "  </thead>\n",
       "  <tbody>\n",
       "    <tr>\n",
       "      <th>민지</th>\n",
       "      <td>NaN</td>\n",
       "      <td>5.0</td>\n",
       "      <td>4.0</td>\n",
       "      <td>1.0</td>\n",
       "      <td>NaN</td>\n",
       "      <td>3.0</td>\n",
       "    </tr>\n",
       "    <tr>\n",
       "      <th>민수</th>\n",
       "      <td>3.0</td>\n",
       "      <td>4.0</td>\n",
       "      <td>4.0</td>\n",
       "      <td>3.0</td>\n",
       "      <td>4.0</td>\n",
       "      <td>NaN</td>\n",
       "    </tr>\n",
       "    <tr>\n",
       "      <th>지연</th>\n",
       "      <td>5.0</td>\n",
       "      <td>NaN</td>\n",
       "      <td>3.0</td>\n",
       "      <td>4.0</td>\n",
       "      <td>3.0</td>\n",
       "      <td>3.0</td>\n",
       "    </tr>\n",
       "    <tr>\n",
       "      <th>지민</th>\n",
       "      <td>4.0</td>\n",
       "      <td>1.0</td>\n",
       "      <td>NaN</td>\n",
       "      <td>5.0</td>\n",
       "      <td>2.0</td>\n",
       "      <td>3.0</td>\n",
       "    </tr>\n",
       "    <tr>\n",
       "      <th>현우</th>\n",
       "      <td>3.0</td>\n",
       "      <td>NaN</td>\n",
       "      <td>2.0</td>\n",
       "      <td>NaN</td>\n",
       "      <td>1.0</td>\n",
       "      <td>2.0</td>\n",
       "    </tr>\n",
       "  </tbody>\n",
       "</table>\n",
       "</div>"
      ],
      "text/plain": [
       "책   노인과바다  백설공주  신데렐라  어린왕자  콩쥐팥쥐  흥부전\n",
       "사람                                    \n",
       "민지    NaN   5.0   4.0   1.0   NaN  3.0\n",
       "민수    3.0   4.0   4.0   3.0   4.0  NaN\n",
       "지연    5.0   NaN   3.0   4.0   3.0  3.0\n",
       "지민    4.0   1.0   NaN   5.0   2.0  3.0\n",
       "현우    3.0   NaN   2.0   NaN   1.0  2.0"
      ]
     },
     "execution_count": 191,
     "metadata": {},
     "output_type": "execute_result"
    }
   ],
   "source": [
    "# 판다스의 pivot_table을 이용하여 협업필터링에 사용할 데이터를 만듭니다.\n",
    "ratings = data.pivot_table(index='사람', columns='책', values='평점').sort_values(by=['어린왕자'], ascending=True)\n",
    "\n",
    "# ratings를 확인합니다.\n",
    "ratings"
   ]
  },
  {
   "cell_type": "markdown",
   "metadata": {},
   "source": [
    "## Notation\n",
    "\n",
    "$r_{ui}$를 사용자 $u$가 상품 $i$에 내린 ratings, $I_{uv}$ 를 사용자 $u$와 사용자 $v$가 모두 평가한 상품 집합, $U_{ij}$를 상품 $i$와 상품 $j$를 모두 평가한 사용자 집합이라고 표기하겠습니다."
   ]
  },
  {
   "cell_type": "markdown",
   "metadata": {},
   "source": [
    "## Calculate Similarity \n",
    "\n",
    "#### 사용자 기반(User-based)  기법\n",
    "\n",
    "1. 사용자 \"민지\"와 나머지 모든 사용자의 유사도를 연산합니다. \"민지\"-\"현우\", \"민지\"-\"민수\", \"민지\"-\"지민\", \"민지\"-\"지연\"의 유사도를 연산합니다.\n",
    "\n",
    "<table>\n",
    "  <thead>\n",
    "    <tr style=\"text-align: right;\">\n",
    "      <th>사용자</th>\n",
    "      <th>유사도</th>\n",
    "    </tr>\n",
    "  </thead>\n",
    "  <tbody>\n",
    "    <tr>\n",
    "      <td>현우</td>\n",
    "      <td>0.7261</td>\n",
    "    </tr>\n",
    "    <tr>\n",
    "      <th>민수</th>\n",
    "      <td>0.9547</td>\n",
    "    </tr>\n",
    "    <tr>\n",
    "      <td>지민</td>\n",
    "      <td>0.5985</td>\n",
    "    </tr>\n",
    "    <tr>\n",
    "      <th>지연</th>\n",
    "      <td>0.8541</td>\n",
    "    </tr>\n",
    "  </tbody>\n",
    "</table>\n",
    "\n",
    "#### 상품 기반 (Item-based) 기법\n",
    "\n",
    "1. 상품 \"노인과바다\"와 나머지 모든 상품의 유사도를 연산합니다. \"노인과바다\"-\"백설공주\", \"노인과바다\"-\"신데렐라\", \"노인과바다\"-\"어린왕자\", \"노인과바다\"-\"콩쥐팥쥐\", \"노인과바다\"-\"흥부전\"의 유사도를 연산합니다.\n",
    "\n",
    "<table>\n",
    "  <thead>\n",
    "    <tr style=\"text-align: right;\">\n",
    "      <th>상품</th>\n",
    "      <th>유사도</th>\n",
    "    </tr>\n",
    "  </thead>\n",
    "  <tbody>\n",
    "    <tr>\n",
    "      <td>백설공주</td>\n",
    "      <td>0.7761</td>\n",
    "    </tr>\n",
    "    <tr>\n",
    "      <td>신데렐라</td>\n",
    "      <td>0.8794</td>\n",
    "    </tr>\n",
    "    <tr>\n",
    "      <th>어린왕자</th>\n",
    "      <td>0.9830</td>\n",
    "    </tr>\n",
    "    <tr>\n",
    "      <td>콩쥐팥쥐</td>\n",
    "      <td>0.9032</td>\n",
    "    </tr>\n",
    "    <tr>\n",
    "      <th>흥부전</th>\n",
    "      <td>0.9949</td>\n",
    "    </tr>\n",
    "  </tbody>\n",
    "</table>\n",
    "\n",
    "\n",
    "그렇다면 임의의 두 사용자 혹은 임의의 두 상품, 즉 두 값이 얼마나 유사한지를 어떻게 판단할 수 있을까요? 우리가 알고 있는 가장 대표적인 방법으로 두 데이터가 얼마나 가까운지를 유클리디안 거리(Euclidean Distance)를 활용하여 측정해볼 수도 있습니다. \n",
    "\n",
    "이 외에도 다양한 유사도 메트릭을 사용하여 유사한 정도를 파악하는 것이 가능합니다. 주로 유사도 측정을 위하여 피어슨 상관계수(Pearson Correlation Coefficient), 스피어만 순위 상관계수(Sprearman Rank Correlation Coefficient), 켄달의 타우(Kendall's Tau), 코사인 유사도(Cosine Similarity), 자카드 유사도(Jaccard Coefficient) 등을 활용합니다.\n",
    "\n",
    "여기서는 자주 쓰이는 피어슨 상관계수(Pearson Correlation Coefficient)에 대하여 더 자세하게 알아보고 이를 직접 구현해보겠습니다. "
   ]
  },
  {
   "cell_type": "markdown",
   "metadata": {},
   "source": [
    "### Pearson Correlation Coefficient\n",
    "\n",
    "피어슨 상관계수는 Collaborative Filtering에서 유사도 측정 메트릭으로 주로 사용되며, 두 벡터의 선형 상관관계를 확인하기 위해 사용됩니다. 식으로 표현하자면 아래와 같습니다.\n",
    "\n",
    "$$\n",
    "similarity(\\textbf x,\\textbf y)=r_{\\textbf x\\textbf y} = \\frac{\\sum (x_i-\\bar{x})(y_i-\\bar{y})}{\\sqrt{\\sum (x_i - \\bar x)^2}\\sqrt{\\sum (y_i - \\bar y)^2}}\n",
    "$$\n",
    "\n",
    "피어슨 상관계수는 +1과 -1 사이의 값을 갖습니다. +1에 가까울수록 강한 양의 선형 상관관계가 있다는 것을 의미하고 -1에 가까울수록 강한 음의 선형 상관관계가 있다는 것을 의미합니다. 또한 0은 아무런 선형 상관관계가 없음을 뜻합니다. \n",
    "\n",
    "상품 $i$와 상품 $j$의 피어슨 상관계수는 아래와 같이 정의할 수 있습니다.\n",
    "\n",
    "$$\n",
    "similarity(i,j)=\\frac{\\sum_{u \\in U_{ij}} (r_{ui}-\\bar{r_i}) \\cdot (r_{uj}-\\bar{r_j})}{\\sqrt {\\sum_{u \\in U_{ij}} (r_{ui}-\\bar{r_i})^2} \\sqrt {\\sum_{u \\in U_{ij}} (r_{uj}-\\bar{r_j})^2}}\n",
    "$$\n",
    "\n",
    "또한 사용자 $u$와 사용자 $v$의 피어슨 상관계수는 아래와 같이 정의할 수 있습니다.\n",
    "\n",
    "$$\n",
    "similarity(u,v)=\\frac{\\sum_{i \\in I_{uv}} (r_{ui}- \\bar {r_u}) \\cdot (r_{vi}-\\bar {r_v})}{\\sqrt {\\sum_{i \\in I_{uv}} (r_{ui}- \\bar {r_u})^2} \\sqrt {\\sum_{i \\in I_{uv}} (r_{vi}-\\bar {r_v})^2}}\n",
    "$$"
   ]
  },
  {
   "cell_type": "markdown",
   "metadata": {},
   "source": [
    "피어슨 상관계수를 구할 때 주의해야 할 점이 있습니다. 바로 두 벡터간의 피어슨 상관계수를 계산하는 과정에서 분모가 0이 될 수 있다는 점입니다. 분모가 0이되는 경우 분자도 0이 나오는데 이러한 경우 결과가 0이 되어야하지만 0으로 나눌 수 없다는 에러가 발생합니다. 따라서 분모가 0이되지 않도록 만들며 분모가 0이 아니더라도 결과에 영향을 주지 않는 적당히 작은 값을 더해주어야 합니다. 이 더하는 작은 값을 보통 **epsilon**이라고 합니다. 파이썬에서 **epsilon**은 보통 0.0001 을 사용합니다."
   ]
  },
  {
   "cell_type": "markdown",
   "metadata": {},
   "source": [
    "**get_pearson_correlation()**"
   ]
  },
  {
   "cell_type": "code",
   "execution_count": 193,
   "metadata": {},
   "outputs": [],
   "source": [
    "# 두 벡터간 피어슨 상관계수를 구해주는 get_pearson_correlation 함수를 구현해주세요.\n",
    "# 두 벡터 u, v 중에 한 개라도 값이 비어있다면 그에 대응하는 값들은 유사도를 구할 때 제외해주세요.\n",
    "# 분모가 0이 되는 경우를 제외하기 위해 최종적으로 분모에 epsilon을 더해주세요.\n",
    "def get_pearson_correlation(u, v, epsilon):\n",
    "    # 벡터 u와 v중에 한 개라도 값이 비어있으면\n",
    "    # 대응하는 위치에 False, 둘 다 값이 채워져있면 True가 들어가도록 mask를 만듭니다.\n",
    "    # np.isfinite()는 입력한 벡터의 위치마다 값이 비어있으면(NaN) False, 비어있지 않으면 True를 반환합니다.\n",
    "    mask = (np.isfinite(u) & np.isfinite(v))\n",
    "    \n",
    "    # 위에서 만든 mask를 사용하여 u, v 모두 채워져있는 위치의 값들만 인덱싱합니다.\n",
    "    u, v = u[mask], v[mask]\n",
    "    \n",
    "    # u, v 각 각 평균과의 차이(편차)를 구하여 변수에 저장합니다.\n",
    "    u_dev, v_dev = u-u.mean(), v-v.mean()\n",
    "    # u, v 각 각의 편차의 제곱의 합을 구하여 변수에 저장합니다.\n",
    "    u_var, v_var = (u_dev**2).sum(), (v_dev**2).sum()\n",
    "    \n",
    "    # u_dev, v_dev 의 내적(Dot Product)을 구하여 분자에 저장합니다. 각 원소끼리 곱한 값들의 합을 구합니다.\n",
    "    # u_dev.dot(v_dev) 또는 np.dot(u_dev, v_dev) 로 할 수 있습니다.\n",
    "    nominator = (u_dev * v_dev).sum()\n",
    "    # u_var, v_var을 곱한다는 루트를 씌워 분모를 구합니다.\n",
    "    denominator = np.sqrt(u_var * v_var)\n",
    "    \n",
    "    # 분자에 분모를 나누어 피어슨 상관계수를 구합니다. 단 분모가 0인 경우를 처리해주기 위해 분모에 epsilon을 더합니다.\n",
    "    pearson_correlation = nominator / (denominator + epsilon)\n",
    "    \n",
    "    return pearson_correlation    "
   ]
  },
  {
   "cell_type": "code",
   "execution_count": 196,
   "metadata": {},
   "outputs": [
    {
     "data": {
      "text/plain": [
       "-0.9999000099990001"
      ]
     },
     "execution_count": 196,
     "metadata": {},
     "output_type": "execute_result"
    }
   ],
   "source": [
    "# 테스트 \n",
    "u = np.array([np.nan, 4, 3])\n",
    "v = np.array([3, 2, 4])\n",
    "\n",
    "get_pearson_correlation(u, v, epsilon = 0.0001)"
   ]
  },
  {
   "cell_type": "code",
   "execution_count": 197,
   "metadata": {},
   "outputs": [
    {
     "data": {
      "text/plain": [
       "0.8944271909999159"
      ]
     },
     "execution_count": 197,
     "metadata": {},
     "output_type": "execute_result"
    }
   ],
   "source": [
    "get_cosine_similarity(u, v)"
   ]
  },
  {
   "cell_type": "code",
   "execution_count": 198,
   "metadata": {},
   "outputs": [],
   "source": [
    "# 모든 조합의 수를 구해주는 itertools의 product를 불러옵니다. \n",
    "from itertools import product\n",
    "\n",
    "# 모든 사용자간의 피어슨 상관계수를 구해주는 get_pearson_correlation_table를 구현해주세요.\n",
    "# 분모가 0이 되는 경우를 제외하기 위해 최종적으로 분모에 epsilon을 더해주세요. epsilon의 기본값은 0.0001으로 지정합니다.\n",
    "def get_pearson_correlation_table(ratings, epsilon = 0.0001):\n",
    "    # itertools의 product를 사용하여 인덱스와 인덱스 쌍의 모든 조합을 구합니다. 지금은 사용자의 이름이 index가 됩니다.\n",
    "    # product는 입력하는 repeat 의 수에 해당하는 쌍을 만듭니다. 3을 입력하면 3개의 인덱스 조합을 생성합니다.\n",
    "    # 결과를 list로 만들어 저장합니다.\n",
    "    index_combinations = list(product(ratings.index, repeat=2))\n",
    "\n",
    "    # 사용자간의 피어슨 상관계수를 담을 리스트를 생성합니다.\n",
    "    similarity_list = []\n",
    "\n",
    "    for u_name, v_name in index_combinations:\n",
    "        # 모든 사용자에 대하여 각 사용자의 평점에 해당하는 벡터를 u, v 에 저장합니다.\n",
    "        u = ratings.loc[u_name]\n",
    "        v = ratings.loc[v_name]\n",
    "    \n",
    "        # 위에서 구현한 get_pearson_correlation()을 사용하여 u, v 의 피어슨 상관계수를 구합니다.\n",
    "        score = get_pearson_correlation(u, v, epsilon)\n",
    "\n",
    "        # 사용자의 이름과 피어슨 상관계수를 담는 딕셔너리 변수를 만듭니다.\n",
    "        similarity = {\n",
    "            'u': u_name,\n",
    "            'v': v_name,\n",
    "            'score': score\n",
    "        }\n",
    "        \n",
    "        # 위에서 만든 사용자와 사용자간의 피어슨 상관계수가 담긴 딕녀너리 변수를 similarity_list에 추가합니다.\n",
    "        similarity_list.append(similarity)  \n",
    "    \n",
    "    # 위의 for문이 끝나면 similarity_list에는 모든 사용자간의 피어슨 상관계수가 남겨져 있습니다.\n",
    "    # 이를 깔끔하게 정리하기 위하여 판다스(Pandas)의 데이터프레임으로 변환합니다.\n",
    "    similarity_list = pd.DataFrame(similarity_list)\n",
    "    \n",
    "    # 판다스의 피벗 테이블을 활용하여 결과를 깔끔하게 정리합니다.\n",
    "    similarity_table= pd.pivot_table(similarity_list, index=\"u\", columns=\"v\", values=\"score\")\n",
    "\n",
    "    # similarity_table를 반환합니다.\n",
    "    return similarity_table"
   ]
  },
  {
   "cell_type": "code",
   "execution_count": 199,
   "metadata": {},
   "outputs": [
    {
     "data": {
      "text/html": [
       "<div>\n",
       "<style scoped>\n",
       "    .dataframe tbody tr th:only-of-type {\n",
       "        vertical-align: middle;\n",
       "    }\n",
       "\n",
       "    .dataframe tbody tr th {\n",
       "        vertical-align: top;\n",
       "    }\n",
       "\n",
       "    .dataframe thead th {\n",
       "        text-align: right;\n",
       "    }\n",
       "</style>\n",
       "<table border=\"1\" class=\"dataframe\">\n",
       "  <thead>\n",
       "    <tr style=\"text-align: right;\">\n",
       "      <th>v</th>\n",
       "      <th>민수</th>\n",
       "      <th>민지</th>\n",
       "      <th>지민</th>\n",
       "      <th>지연</th>\n",
       "      <th>현우</th>\n",
       "    </tr>\n",
       "    <tr>\n",
       "      <th>u</th>\n",
       "      <th></th>\n",
       "      <th></th>\n",
       "      <th></th>\n",
       "      <th></th>\n",
       "      <th></th>\n",
       "    </tr>\n",
       "  </thead>\n",
       "  <tbody>\n",
       "    <tr>\n",
       "      <th>민수</th>\n",
       "      <td>0.999917</td>\n",
       "      <td>0.970685</td>\n",
       "      <td>-0.948653</td>\n",
       "      <td>-0.904479</td>\n",
       "      <td>-0.865950</td>\n",
       "    </tr>\n",
       "    <tr>\n",
       "      <th>민지</th>\n",
       "      <td>0.970685</td>\n",
       "      <td>0.999989</td>\n",
       "      <td>-0.999988</td>\n",
       "      <td>-0.944858</td>\n",
       "      <td>0.000000</td>\n",
       "    </tr>\n",
       "    <tr>\n",
       "      <th>지민</th>\n",
       "      <td>-0.948653</td>\n",
       "      <td>-0.999988</td>\n",
       "      <td>0.999990</td>\n",
       "      <td>0.674182</td>\n",
       "      <td>0.999950</td>\n",
       "    </tr>\n",
       "    <tr>\n",
       "      <th>지연</th>\n",
       "      <td>-0.904479</td>\n",
       "      <td>-0.944858</td>\n",
       "      <td>0.674182</td>\n",
       "      <td>0.999969</td>\n",
       "      <td>0.816463</td>\n",
       "    </tr>\n",
       "    <tr>\n",
       "      <th>현우</th>\n",
       "      <td>-0.865950</td>\n",
       "      <td>0.000000</td>\n",
       "      <td>0.999950</td>\n",
       "      <td>0.816463</td>\n",
       "      <td>0.999950</td>\n",
       "    </tr>\n",
       "  </tbody>\n",
       "</table>\n",
       "</div>"
      ],
      "text/plain": [
       "v         민수        민지        지민        지연        현우\n",
       "u                                                   \n",
       "민수  0.999917  0.970685 -0.948653 -0.904479 -0.865950\n",
       "민지  0.970685  0.999989 -0.999988 -0.944858  0.000000\n",
       "지민 -0.948653 -0.999988  0.999990  0.674182  0.999950\n",
       "지연 -0.904479 -0.944858  0.674182  0.999969  0.816463\n",
       "현우 -0.865950  0.000000  0.999950  0.816463  0.999950"
      ]
     },
     "execution_count": 199,
     "metadata": {},
     "output_type": "execute_result"
    }
   ],
   "source": [
    "# 테스트\n",
    "# epsilon을 지정하지 않으면 기본값인 0.0001이 됩니다.\n",
    "get_pearson_correlation_table(ratings)"
   ]
  },
  {
   "cell_type": "code",
   "execution_count": 200,
   "metadata": {},
   "outputs": [
    {
     "data": {
      "text/html": [
       "<div>\n",
       "<style scoped>\n",
       "    .dataframe tbody tr th:only-of-type {\n",
       "        vertical-align: middle;\n",
       "    }\n",
       "\n",
       "    .dataframe tbody tr th {\n",
       "        vertical-align: top;\n",
       "    }\n",
       "\n",
       "    .dataframe thead th {\n",
       "        text-align: right;\n",
       "    }\n",
       "</style>\n",
       "<table border=\"1\" class=\"dataframe\">\n",
       "  <thead>\n",
       "    <tr style=\"text-align: right;\">\n",
       "      <th>사람</th>\n",
       "      <th>민지</th>\n",
       "      <th>민수</th>\n",
       "      <th>지연</th>\n",
       "      <th>지민</th>\n",
       "      <th>현우</th>\n",
       "    </tr>\n",
       "    <tr>\n",
       "      <th>책</th>\n",
       "      <th></th>\n",
       "      <th></th>\n",
       "      <th></th>\n",
       "      <th></th>\n",
       "      <th></th>\n",
       "    </tr>\n",
       "  </thead>\n",
       "  <tbody>\n",
       "    <tr>\n",
       "      <th>노인과바다</th>\n",
       "      <td>NaN</td>\n",
       "      <td>3.0</td>\n",
       "      <td>5.0</td>\n",
       "      <td>4.0</td>\n",
       "      <td>3.0</td>\n",
       "    </tr>\n",
       "    <tr>\n",
       "      <th>백설공주</th>\n",
       "      <td>5.0</td>\n",
       "      <td>4.0</td>\n",
       "      <td>NaN</td>\n",
       "      <td>1.0</td>\n",
       "      <td>NaN</td>\n",
       "    </tr>\n",
       "    <tr>\n",
       "      <th>신데렐라</th>\n",
       "      <td>4.0</td>\n",
       "      <td>4.0</td>\n",
       "      <td>3.0</td>\n",
       "      <td>NaN</td>\n",
       "      <td>2.0</td>\n",
       "    </tr>\n",
       "    <tr>\n",
       "      <th>어린왕자</th>\n",
       "      <td>1.0</td>\n",
       "      <td>3.0</td>\n",
       "      <td>4.0</td>\n",
       "      <td>5.0</td>\n",
       "      <td>NaN</td>\n",
       "    </tr>\n",
       "    <tr>\n",
       "      <th>콩쥐팥쥐</th>\n",
       "      <td>NaN</td>\n",
       "      <td>4.0</td>\n",
       "      <td>3.0</td>\n",
       "      <td>2.0</td>\n",
       "      <td>1.0</td>\n",
       "    </tr>\n",
       "    <tr>\n",
       "      <th>흥부전</th>\n",
       "      <td>3.0</td>\n",
       "      <td>NaN</td>\n",
       "      <td>3.0</td>\n",
       "      <td>3.0</td>\n",
       "      <td>2.0</td>\n",
       "    </tr>\n",
       "  </tbody>\n",
       "</table>\n",
       "</div>"
      ],
      "text/plain": [
       "사람      민지   민수   지연   지민   현우\n",
       "책                             \n",
       "노인과바다  NaN  3.0  5.0  4.0  3.0\n",
       "백설공주   5.0  4.0  NaN  1.0  NaN\n",
       "신데렐라   4.0  4.0  3.0  NaN  2.0\n",
       "어린왕자   1.0  3.0  4.0  5.0  NaN\n",
       "콩쥐팥쥐   NaN  4.0  3.0  2.0  1.0\n",
       "흥부전    3.0  NaN  3.0  3.0  2.0"
      ]
     },
     "execution_count": 200,
     "metadata": {},
     "output_type": "execute_result"
    }
   ],
   "source": [
    "ratings.T"
   ]
  },
  {
   "cell_type": "code",
   "execution_count": 201,
   "metadata": {},
   "outputs": [
    {
     "data": {
      "text/html": [
       "<div>\n",
       "<style scoped>\n",
       "    .dataframe tbody tr th:only-of-type {\n",
       "        vertical-align: middle;\n",
       "    }\n",
       "\n",
       "    .dataframe tbody tr th {\n",
       "        vertical-align: top;\n",
       "    }\n",
       "\n",
       "    .dataframe thead th {\n",
       "        text-align: right;\n",
       "    }\n",
       "</style>\n",
       "<table border=\"1\" class=\"dataframe\">\n",
       "  <thead>\n",
       "    <tr style=\"text-align: right;\">\n",
       "      <th>v</th>\n",
       "      <th>노인과바다</th>\n",
       "      <th>백설공주</th>\n",
       "      <th>신데렐라</th>\n",
       "      <th>어린왕자</th>\n",
       "      <th>콩쥐팥쥐</th>\n",
       "      <th>흥부전</th>\n",
       "    </tr>\n",
       "    <tr>\n",
       "      <th>u</th>\n",
       "      <th></th>\n",
       "      <th></th>\n",
       "      <th></th>\n",
       "      <th></th>\n",
       "      <th></th>\n",
       "      <th></th>\n",
       "    </tr>\n",
       "  </thead>\n",
       "  <tbody>\n",
       "    <tr>\n",
       "      <th>노인과바다</th>\n",
       "      <td>0.999964</td>\n",
       "      <td>-0.999933</td>\n",
       "      <td>0.000000</td>\n",
       "      <td>0.499975</td>\n",
       "      <td>0.134836</td>\n",
       "      <td>0.865950</td>\n",
       "    </tr>\n",
       "    <tr>\n",
       "      <th>백설공주</th>\n",
       "      <td>-0.999933</td>\n",
       "      <td>0.999988</td>\n",
       "      <td>0.000000</td>\n",
       "      <td>-0.960757</td>\n",
       "      <td>0.999967</td>\n",
       "      <td>0.000000</td>\n",
       "    </tr>\n",
       "    <tr>\n",
       "      <th>신데렐라</th>\n",
       "      <td>0.000000</td>\n",
       "      <td>0.000000</td>\n",
       "      <td>0.999964</td>\n",
       "      <td>-0.755886</td>\n",
       "      <td>0.981948</td>\n",
       "      <td>0.865950</td>\n",
       "    </tr>\n",
       "    <tr>\n",
       "      <th>어린왕자</th>\n",
       "      <td>0.499975</td>\n",
       "      <td>-0.960757</td>\n",
       "      <td>-0.755886</td>\n",
       "      <td>0.999989</td>\n",
       "      <td>-0.999950</td>\n",
       "      <td>0.000000</td>\n",
       "    </tr>\n",
       "    <tr>\n",
       "      <th>콩쥐팥쥐</th>\n",
       "      <td>0.134836</td>\n",
       "      <td>0.999967</td>\n",
       "      <td>0.981948</td>\n",
       "      <td>-0.999950</td>\n",
       "      <td>0.999980</td>\n",
       "      <td>0.865950</td>\n",
       "    </tr>\n",
       "    <tr>\n",
       "      <th>흥부전</th>\n",
       "      <td>0.865950</td>\n",
       "      <td>0.000000</td>\n",
       "      <td>0.865950</td>\n",
       "      <td>0.000000</td>\n",
       "      <td>0.865950</td>\n",
       "      <td>0.999867</td>\n",
       "    </tr>\n",
       "  </tbody>\n",
       "</table>\n",
       "</div>"
      ],
      "text/plain": [
       "v         노인과바다      백설공주      신데렐라      어린왕자      콩쥐팥쥐       흥부전\n",
       "u                                                                \n",
       "노인과바다  0.999964 -0.999933  0.000000  0.499975  0.134836  0.865950\n",
       "백설공주  -0.999933  0.999988  0.000000 -0.960757  0.999967  0.000000\n",
       "신데렐라   0.000000  0.000000  0.999964 -0.755886  0.981948  0.865950\n",
       "어린왕자   0.499975 -0.960757 -0.755886  0.999989 -0.999950  0.000000\n",
       "콩쥐팥쥐   0.134836  0.999967  0.981948 -0.999950  0.999980  0.865950\n",
       "흥부전    0.865950  0.000000  0.865950  0.000000  0.865950  0.999867"
      ]
     },
     "execution_count": 201,
     "metadata": {},
     "output_type": "execute_result"
    }
   ],
   "source": [
    "# 테스트\n",
    "# ratings 를 뒤집어(Transpose) 상품간의 피어슨 상관계수를 구할 수 있습니다.\n",
    "# 판다스의 데이터프레임은 .T 로 Transpose 할 수 있습니다.\n",
    "get_pearson_correlation_table(ratings.T)"
   ]
  },
  {
   "cell_type": "code",
   "execution_count": 202,
   "metadata": {},
   "outputs": [
    {
     "data": {
      "text/html": [
       "<div>\n",
       "<style scoped>\n",
       "    .dataframe tbody tr th:only-of-type {\n",
       "        vertical-align: middle;\n",
       "    }\n",
       "\n",
       "    .dataframe tbody tr th {\n",
       "        vertical-align: top;\n",
       "    }\n",
       "\n",
       "    .dataframe thead th {\n",
       "        text-align: right;\n",
       "    }\n",
       "</style>\n",
       "<table border=\"1\" class=\"dataframe\">\n",
       "  <thead>\n",
       "    <tr style=\"text-align: right;\">\n",
       "      <th>책</th>\n",
       "      <th>노인과바다</th>\n",
       "      <th>백설공주</th>\n",
       "      <th>신데렐라</th>\n",
       "      <th>어린왕자</th>\n",
       "      <th>콩쥐팥쥐</th>\n",
       "      <th>흥부전</th>\n",
       "    </tr>\n",
       "    <tr>\n",
       "      <th>사람</th>\n",
       "      <th></th>\n",
       "      <th></th>\n",
       "      <th></th>\n",
       "      <th></th>\n",
       "      <th></th>\n",
       "      <th></th>\n",
       "    </tr>\n",
       "  </thead>\n",
       "  <tbody>\n",
       "    <tr>\n",
       "      <th>민지</th>\n",
       "      <td>NaN</td>\n",
       "      <td>5.0</td>\n",
       "      <td>4.0</td>\n",
       "      <td>1.0</td>\n",
       "      <td>NaN</td>\n",
       "      <td>3.0</td>\n",
       "    </tr>\n",
       "    <tr>\n",
       "      <th>민수</th>\n",
       "      <td>3.0</td>\n",
       "      <td>4.0</td>\n",
       "      <td>4.0</td>\n",
       "      <td>3.0</td>\n",
       "      <td>4.0</td>\n",
       "      <td>NaN</td>\n",
       "    </tr>\n",
       "    <tr>\n",
       "      <th>지연</th>\n",
       "      <td>5.0</td>\n",
       "      <td>NaN</td>\n",
       "      <td>3.0</td>\n",
       "      <td>4.0</td>\n",
       "      <td>3.0</td>\n",
       "      <td>3.0</td>\n",
       "    </tr>\n",
       "    <tr>\n",
       "      <th>지민</th>\n",
       "      <td>4.0</td>\n",
       "      <td>1.0</td>\n",
       "      <td>NaN</td>\n",
       "      <td>5.0</td>\n",
       "      <td>2.0</td>\n",
       "      <td>3.0</td>\n",
       "    </tr>\n",
       "    <tr>\n",
       "      <th>현우</th>\n",
       "      <td>3.0</td>\n",
       "      <td>NaN</td>\n",
       "      <td>2.0</td>\n",
       "      <td>NaN</td>\n",
       "      <td>1.0</td>\n",
       "      <td>2.0</td>\n",
       "    </tr>\n",
       "  </tbody>\n",
       "</table>\n",
       "</div>"
      ],
      "text/plain": [
       "책   노인과바다  백설공주  신데렐라  어린왕자  콩쥐팥쥐  흥부전\n",
       "사람                                    \n",
       "민지    NaN   5.0   4.0   1.0   NaN  3.0\n",
       "민수    3.0   4.0   4.0   3.0   4.0  NaN\n",
       "지연    5.0   NaN   3.0   4.0   3.0  3.0\n",
       "지민    4.0   1.0   NaN   5.0   2.0  3.0\n",
       "현우    3.0   NaN   2.0   NaN   1.0  2.0"
      ]
     },
     "execution_count": 202,
     "metadata": {},
     "output_type": "execute_result"
    }
   ],
   "source": [
    "ratings"
   ]
  },
  {
   "cell_type": "markdown",
   "metadata": {},
   "source": [
    "## Predict Ratings\n"
   ]
  },
  {
   "cell_type": "markdown",
   "metadata": {},
   "source": [
    "### Get Nearest Neighbors"
   ]
  },
  {
   "cell_type": "markdown",
   "metadata": {},
   "source": [
    "우선 특정 사용자 𝑢의 상품 𝑖를 평가할 때 사용자 𝑢의 이웃을 구하겠습니다. 기본적으로 사용자 𝑢와 유사도가 가장 큰 k명이 이웃이 됩니다. 하지만 조건을 좀 더 추가해야합니다. 가령 아이템에 평가를 내리지 않거나 유사도가 절대적으로 작은 사용자는 이웃이 될 수 없습니다.\n",
    "\n",
    "다음의 조건에 해당하는 이웃을 구해주세요.\n",
    "\n",
    "- 이웃의 기준은 유사도가 된다.\n",
    "- 자기 자신은 이웃에서 제외한다.\n",
    "- 해당 아이템에 평가를 내린 사람들중에서 최근접 이웃을 고른다. 즉, 아이템에 평가를 내린적 없는 사람들은 고려하지 않는다.\n",
    "- 유사도가 0 이상인 사람들중에서 최근접 이웃을 고른다. \n",
    "- 유사도가 0이상인 이웃이 없다면 그나마 가장 유사도가 가장 큰 한 명을 고른다.\n",
    "\n",
    "결과적으로 아이템을 산 사람들중에서만 이웃이 지정되기 때문에 **예측하려는 아이템마다 구해지는 이웃이 달라질 수 있습니다.**"
   ]
  },
  {
   "cell_type": "markdown",
   "metadata": {},
   "source": [
    "**get_nearest_neighbors()**"
   ]
  },
  {
   "cell_type": "code",
   "execution_count": 203,
   "metadata": {},
   "outputs": [],
   "source": [
    "# 특정 사용자 user_name의 상품 item_name를 예측할 때 user_name의 k명의 이웃들을 구하는 get_nearest_neighbors을 구현합니다.\n",
    "# 이웃을 구하려는 사용자의 이름(user_name), 해당 상품의 이름(item_name), 평점 데이터(ratings), 사용자 또는 상품의 유사도 테이블(similarity), 구하려는 최대 이웃의 수(k)를 인자로 받습니다.\n",
    "# 결과는 이웃들의 목록이 되어야합니다. 결과를 리스트(List)로 반환합니다.\n",
    "# 평점이 존재하는 이웃이 없다면 빈 리스트를 반환합니다.\n",
    "def get_nearest_neighbors(user_name, item_name, ratings, similarity, k):\n",
    "    # k를 너무 크게 입력할시 최대값을 자신을 제외한 총 인원수로 지정합니다.\n",
    "    # 우선 자신을 제외한 총 인원수를 구합니다.\n",
    "    max_neighbors_num = similarity.shape[0] - 1\n",
    "    # k가 총 인원수보다 크면 k를 총 인원수로 대체합니다.\n",
    "    k = min(k, max_neighbors_num)\n",
    "    \n",
    "    # 자기 자신 제외한 사용자들의 유사도와 평점 데이터를 뽑아냅니다.\n",
    "    neighbors_similarity = similarity[user_name].drop(index=user_name)\n",
    "    neighbors_ratings = ratings[item_name].drop(index=user_name)\n",
    "    \n",
    "    # 해당 상품에 평점을 준 적이 있는 사용자들의 유사도와 평점 데이터만 남깁니다.\n",
    "    neighbors_similarity = neighbors_similarity[neighbors_ratings.notnull()]\n",
    "    neighbors_ratings = neighbors_ratings[neighbors_ratings.notnull()]\n",
    "\n",
    "    # 해당 상품에 평점을 준 사용자가 없다면 빈 리스트를 반환합니다.\n",
    "    if neighbors_ratings.shape[0] == 0:\n",
    "        # 빈 인덱스를 반환할 수 있습니다.\n",
    "        return neighbors_ratings.index\n",
    "        \n",
    "    # 내림차순으로 위에서 구해온 사용자의 유사도 neighbors_similarity를 정렬합니다.\n",
    "    neighbors_similarity = neighbors_similarity.sort_values(ascending=False)\n",
    "    \n",
    "    # 유사도가 0 이상인 사용자만 뽑아 이웃 후보를 만듭니다.\n",
    "    candidates = neighbors_similarity[neighbors_similarity > 0]\n",
    "\n",
    "    if (candidates.shape[0]) == 0:\n",
    "        # 유사도가 0이상인게 없다면, 즉 candidates 의 크기가 0이라면 \n",
    "        # 그나마 유사도가 가장 큰 사용자를 이웃이 됩니다.\n",
    "        nearest_neighbors = neighbors_similarity.head(1)\n",
    "    else:\n",
    "        # 최대 k 명의 이웃을 구합니다.\n",
    "        nearest_neighbors = candidates.head(k)\n",
    "\n",
    "    # 구한 이웃의 리스트를 반환합니다.\n",
    "    return nearest_neighbors.index"
   ]
  },
  {
   "cell_type": "markdown",
   "metadata": {},
   "source": [
    "$${F1 Score} = 2 \\times \\frac{{Precision}\\times{Recall}}{{Precision} + {Recall}}$$"
   ]
  },
  {
   "cell_type": "code",
   "execution_count": 227,
   "metadata": {},
   "outputs": [],
   "source": [
    "# 테스트 1\n",
    "pearson_correlation = get_pearson_correlation_table(ratings)"
   ]
  },
  {
   "cell_type": "code",
   "execution_count": 228,
   "metadata": {},
   "outputs": [
    {
     "data": {
      "text/html": [
       "<div>\n",
       "<style scoped>\n",
       "    .dataframe tbody tr th:only-of-type {\n",
       "        vertical-align: middle;\n",
       "    }\n",
       "\n",
       "    .dataframe tbody tr th {\n",
       "        vertical-align: top;\n",
       "    }\n",
       "\n",
       "    .dataframe thead th {\n",
       "        text-align: right;\n",
       "    }\n",
       "</style>\n",
       "<table border=\"1\" class=\"dataframe\">\n",
       "  <thead>\n",
       "    <tr style=\"text-align: right;\">\n",
       "      <th>v</th>\n",
       "      <th>민수</th>\n",
       "      <th>민지</th>\n",
       "      <th>지민</th>\n",
       "      <th>지연</th>\n",
       "      <th>현우</th>\n",
       "    </tr>\n",
       "    <tr>\n",
       "      <th>u</th>\n",
       "      <th></th>\n",
       "      <th></th>\n",
       "      <th></th>\n",
       "      <th></th>\n",
       "      <th></th>\n",
       "    </tr>\n",
       "  </thead>\n",
       "  <tbody>\n",
       "    <tr>\n",
       "      <th>민수</th>\n",
       "      <td>0.999917</td>\n",
       "      <td>0.970685</td>\n",
       "      <td>-0.948653</td>\n",
       "      <td>-0.904479</td>\n",
       "      <td>-0.865950</td>\n",
       "    </tr>\n",
       "    <tr>\n",
       "      <th>민지</th>\n",
       "      <td>0.970685</td>\n",
       "      <td>0.999989</td>\n",
       "      <td>-0.999988</td>\n",
       "      <td>-0.944858</td>\n",
       "      <td>0.000000</td>\n",
       "    </tr>\n",
       "    <tr>\n",
       "      <th>지민</th>\n",
       "      <td>-0.948653</td>\n",
       "      <td>-0.999988</td>\n",
       "      <td>0.999990</td>\n",
       "      <td>0.674182</td>\n",
       "      <td>0.999950</td>\n",
       "    </tr>\n",
       "    <tr>\n",
       "      <th>지연</th>\n",
       "      <td>-0.904479</td>\n",
       "      <td>-0.944858</td>\n",
       "      <td>0.674182</td>\n",
       "      <td>0.999969</td>\n",
       "      <td>0.816463</td>\n",
       "    </tr>\n",
       "    <tr>\n",
       "      <th>현우</th>\n",
       "      <td>-0.865950</td>\n",
       "      <td>0.000000</td>\n",
       "      <td>0.999950</td>\n",
       "      <td>0.816463</td>\n",
       "      <td>0.999950</td>\n",
       "    </tr>\n",
       "  </tbody>\n",
       "</table>\n",
       "</div>"
      ],
      "text/plain": [
       "v         민수        민지        지민        지연        현우\n",
       "u                                                   \n",
       "민수  0.999917  0.970685 -0.948653 -0.904479 -0.865950\n",
       "민지  0.970685  0.999989 -0.999988 -0.944858  0.000000\n",
       "지민 -0.948653 -0.999988  0.999990  0.674182  0.999950\n",
       "지연 -0.904479 -0.944858  0.674182  0.999969  0.816463\n",
       "현우 -0.865950  0.000000  0.999950  0.816463  0.999950"
      ]
     },
     "execution_count": 228,
     "metadata": {},
     "output_type": "execute_result"
    }
   ],
   "source": [
    "pearson_correlation"
   ]
  },
  {
   "cell_type": "code",
   "execution_count": 206,
   "metadata": {},
   "outputs": [
    {
     "data": {
      "text/html": [
       "<div>\n",
       "<style scoped>\n",
       "    .dataframe tbody tr th:only-of-type {\n",
       "        vertical-align: middle;\n",
       "    }\n",
       "\n",
       "    .dataframe tbody tr th {\n",
       "        vertical-align: top;\n",
       "    }\n",
       "\n",
       "    .dataframe thead th {\n",
       "        text-align: right;\n",
       "    }\n",
       "</style>\n",
       "<table border=\"1\" class=\"dataframe\">\n",
       "  <thead>\n",
       "    <tr style=\"text-align: right;\">\n",
       "      <th>책</th>\n",
       "      <th>노인과바다</th>\n",
       "      <th>백설공주</th>\n",
       "      <th>신데렐라</th>\n",
       "      <th>어린왕자</th>\n",
       "      <th>콩쥐팥쥐</th>\n",
       "      <th>흥부전</th>\n",
       "    </tr>\n",
       "    <tr>\n",
       "      <th>사람</th>\n",
       "      <th></th>\n",
       "      <th></th>\n",
       "      <th></th>\n",
       "      <th></th>\n",
       "      <th></th>\n",
       "      <th></th>\n",
       "    </tr>\n",
       "  </thead>\n",
       "  <tbody>\n",
       "    <tr>\n",
       "      <th>민지</th>\n",
       "      <td>NaN</td>\n",
       "      <td>5.0</td>\n",
       "      <td>4.0</td>\n",
       "      <td>1.0</td>\n",
       "      <td>NaN</td>\n",
       "      <td>3.0</td>\n",
       "    </tr>\n",
       "    <tr>\n",
       "      <th>민수</th>\n",
       "      <td>3.0</td>\n",
       "      <td>4.0</td>\n",
       "      <td>4.0</td>\n",
       "      <td>3.0</td>\n",
       "      <td>4.0</td>\n",
       "      <td>NaN</td>\n",
       "    </tr>\n",
       "    <tr>\n",
       "      <th>지연</th>\n",
       "      <td>5.0</td>\n",
       "      <td>NaN</td>\n",
       "      <td>3.0</td>\n",
       "      <td>4.0</td>\n",
       "      <td>3.0</td>\n",
       "      <td>3.0</td>\n",
       "    </tr>\n",
       "    <tr>\n",
       "      <th>지민</th>\n",
       "      <td>4.0</td>\n",
       "      <td>1.0</td>\n",
       "      <td>NaN</td>\n",
       "      <td>5.0</td>\n",
       "      <td>2.0</td>\n",
       "      <td>3.0</td>\n",
       "    </tr>\n",
       "    <tr>\n",
       "      <th>현우</th>\n",
       "      <td>3.0</td>\n",
       "      <td>NaN</td>\n",
       "      <td>2.0</td>\n",
       "      <td>NaN</td>\n",
       "      <td>1.0</td>\n",
       "      <td>2.0</td>\n",
       "    </tr>\n",
       "  </tbody>\n",
       "</table>\n",
       "</div>"
      ],
      "text/plain": [
       "책   노인과바다  백설공주  신데렐라  어린왕자  콩쥐팥쥐  흥부전\n",
       "사람                                    \n",
       "민지    NaN   5.0   4.0   1.0   NaN  3.0\n",
       "민수    3.0   4.0   4.0   3.0   4.0  NaN\n",
       "지연    5.0   NaN   3.0   4.0   3.0  3.0\n",
       "지민    4.0   1.0   NaN   5.0   2.0  3.0\n",
       "현우    3.0   NaN   2.0   NaN   1.0  2.0"
      ]
     },
     "execution_count": 206,
     "metadata": {},
     "output_type": "execute_result"
    }
   ],
   "source": [
    "ratings"
   ]
  },
  {
   "cell_type": "code",
   "execution_count": 221,
   "metadata": {},
   "outputs": [
    {
     "data": {
      "text/plain": [
       "Index(['민수'], dtype='object', name='u')"
      ]
     },
     "execution_count": 221,
     "metadata": {},
     "output_type": "execute_result"
    }
   ],
   "source": [
    "get_nearest_neighbors('민지', '어린왕자', ratings, pearson_correlation, k=2)"
   ]
  },
  {
   "cell_type": "code",
   "execution_count": 220,
   "metadata": {},
   "outputs": [
    {
     "data": {
      "text/plain": [
       "Index(['민지'], dtype='object', name='u')"
      ]
     },
     "execution_count": 220,
     "metadata": {},
     "output_type": "execute_result"
    }
   ],
   "source": [
    "get_nearest_neighbors('민수', '어린왕자', ratings, pearson_correlation, k=2)"
   ]
  },
  {
   "cell_type": "code",
   "execution_count": 237,
   "metadata": {},
   "outputs": [
    {
     "data": {
      "text/plain": [
       "Index(['현우', '지연'], dtype='object', name='u')"
      ]
     },
     "execution_count": 237,
     "metadata": {},
     "output_type": "execute_result"
    }
   ],
   "source": [
    "get_nearest_neighbors('지민', '신데렐라', ratings, pearson_correlation, k=2)"
   ]
  },
  {
   "cell_type": "code",
   "execution_count": 214,
   "metadata": {},
   "outputs": [
    {
     "data": {
      "text/plain": [
       "Index(['민지'], dtype='object', name='u')"
      ]
     },
     "execution_count": 214,
     "metadata": {},
     "output_type": "execute_result"
    }
   ],
   "source": [
    "get_nearest_neighbors('민수', '흥부전', ratings, pearson_correlation, k=2)"
   ]
  },
  {
   "cell_type": "code",
   "execution_count": 212,
   "metadata": {},
   "outputs": [
    {
     "data": {
      "text/plain": [
       "Index(['지민'], dtype='object', name='u')"
      ]
     },
     "execution_count": 212,
     "metadata": {},
     "output_type": "execute_result"
    }
   ],
   "source": [
    "# 테스트 1\n",
    "get_nearest_neighbors('현우', '백설공주', ratings, pearson_correlation, k=2)"
   ]
  },
  {
   "cell_type": "code",
   "execution_count": 216,
   "metadata": {},
   "outputs": [
    {
     "data": {
      "text/plain": [
       "Index(['지민', '지연'], dtype='object', name='u')"
      ]
     },
     "execution_count": 216,
     "metadata": {},
     "output_type": "execute_result"
    }
   ],
   "source": [
    "get_nearest_neighbors('현우', '어린왕자', ratings, pearson_correlation, k=2)"
   ]
  },
  {
   "cell_type": "markdown",
   "metadata": {},
   "source": [
    "### Average Correction\n",
    "\n",
    "유사한 상품/사용자에 더 큰 가중치를 주어 특정 상품에 대한 사용자의 ratings 값을 예측합니다. 유사도에 따라 ratings에 유사도가 높은 k개의 상품에 내려진 ratings의 평균/유사도가 높은 k명의 사용자가 내린 ratings의 평균을 뺀 값의 가중 평균을 구합니다. 이 값에 상품에 내린 ratings 값/사용자가 내린 ratings 값의 평균을 최종적으로 더하여 예측합니다. 상품/사용자가 받거나 하는 ratings 특성을 더 잘 반영합니다.\n",
    "\n",
    "\n",
    "#### 사용자 기반(사용자-based) 기법\n",
    "1. 특정 유사도 메트릭에 따라 사용자 $u$와 유사한 k명(혹은 이하)의 이웃을 결정합니다.\n",
    "2. 유사한 k명의 사용자가 상품 $i$에 내린 ratings에 각각 k명의 사용자가 내린 ratings의 평균을 뺀 값에 대해 유사도에 따른 가중 평균을 구합니다.\n",
    "3. 사용자 $u$이 내린 ratings 값의 평균을 더하여 값을 보정해줍니다.\n",
    "\n",
    "$$\n",
    "\\hat r_{ui} = \\bar r_u + \\frac{\\sum_{v \\in {N_i}^k(u)}{similarity(u,v)} \\cdot (r_{vi}-\\bar r_v)}{\\sum_{v \\in {N_i}^k(u)}{similarity(u,v)}}\n",
    "$$\n",
    "\n",
    "\n",
    "#### 상품 기반(상품-based) 기법\n",
    "1. 특정 유사도 메트릭에 따라 상품 $i$와 유사한 k개(혹은 이하)의 상품을 결정합니다.\n",
    "2. 유사한 k개의 상품에 내린 사용자 $u$의 ratings에 각각 k개의 상품에 내려진 ratings의 평균을 뺀 값에 대해 유사도에 따른 가중 평균을 구합니다.\n",
    "3. 상품 $i$에 내려진 ratings 값의 평균을 더하여 값을 보정해줍니다.\n",
    "\n",
    "$$\n",
    "\\hat r_{ui} = \\bar r_i + \\frac{\\sum_{j \\in {N_u}^k(i)}{similarity(i,j)} \\cdot (r_{uj}-\\bar r_j)}{\\sum_{j \\in {N_u}^k(i)}{similarity(i,j)}}\n",
    "$$"
   ]
  },
  {
   "cell_type": "markdown",
   "metadata": {},
   "source": [
    "**average_correction_predict_rating()**"
   ]
  },
  {
   "cell_type": "code",
   "execution_count": 229,
   "metadata": {},
   "outputs": [],
   "source": [
    "# 특정 사용자의 상품의 평점을 예측한 결과를 반환하는 average_correction_predict_rating를 구현합니다.\n",
    "# 예측하려는 사용자의 이름(user_name)과 해당 상품의 이름(item_name), 평점 데이터(ratings), 사용자 또는 상품의 유사도 테이블(similarity), 구하려는 최대 이웃의 수(k), epsilon를 인자로 받습니다.\n",
    "# epsilon의 기본값은 0.0001로 지정합니다.\n",
    "def average_correction_predict_rating(user_name, item_name, ratings, similarity, k, epsilon=0.0001):\n",
    "    # 인자로 받은 사용자의 예측하려는 상품에 대한 이웃을 구합니다.\n",
    "    nearest_neighbors = get_nearest_neighbors(user_name, item_name, ratings, similarity, k)\n",
    "    \n",
    "    # 가까운 이웃이 없다면(특정 아이템에 평점이 한 개도 없다면) 빈 값(NaN)을 반환합니다.\n",
    "    if len(nearest_neighbors) == 0:\n",
    "        return np.nan\n",
    "    \n",
    "    # 사용자와 사용자의 이웃들의 유사도만 추출합니다.\n",
    "    nn_similarity = similarity.loc[user_name, nearest_neighbors]\n",
    "    # 사용자와 사용자의 이웃들의 평점 데이터만 추출합니다.\n",
    "    nn_ratings = ratings.loc[nearest_neighbors, item_name]\n",
    "    \n",
    "    # 이웃들이 예측하려는 상품에 내린 평점의 평균을 구합니다.\n",
    "    neighbors_rating_mean = nn_ratings.mean()\n",
    "    # 예측하려는 사용자가 해당 상품에 내린 평점의 평균을 구합니다.  \n",
    "    u_rating_mean = ratings.loc[user_name].mean()\n",
    "    \n",
    "    # 이웃들이 내린 평점에 이웃들의 평점의 평균을 뺀 값과 이웃들과의 유사도의 내적(Dot Product)을 구합니다.\n",
    "    # 판다스 데이터프레임(DataFrame)의 .dot() 을 이용할 수 있습니다.\n",
    "    nominator = nn_similarity.dot(nn_ratings-neighbors_rating_mean)\n",
    "    #print(nn_similarity)\n",
    "    #print(nn_ratings)\n",
    "    #print(neighbors_rating_mean)\n",
    "    # 유사도의 합을 구합니다.\n",
    "    denominator = nn_similarity.sum()\n",
    "    \n",
    "    # nominator에 denominator 나누어 가중 평균을 구한 뒤 u_rating_mean을 더하여 보정합니다.\n",
    "    # 단 epsilon을 더하여 분모가 0이되는 경우를 처리합니다.\n",
    "    prediction = u_rating_mean + nominator / (denominator + epsilon)\n",
    "    \n",
    "    # 결과를 반환합니다.\n",
    "    return prediction"
   ]
  },
  {
   "cell_type": "code",
   "execution_count": 239,
   "metadata": {},
   "outputs": [
    {
     "data": {
      "text/html": [
       "<div>\n",
       "<style scoped>\n",
       "    .dataframe tbody tr th:only-of-type {\n",
       "        vertical-align: middle;\n",
       "    }\n",
       "\n",
       "    .dataframe tbody tr th {\n",
       "        vertical-align: top;\n",
       "    }\n",
       "\n",
       "    .dataframe thead th {\n",
       "        text-align: right;\n",
       "    }\n",
       "</style>\n",
       "<table border=\"1\" class=\"dataframe\">\n",
       "  <thead>\n",
       "    <tr style=\"text-align: right;\">\n",
       "      <th>v</th>\n",
       "      <th>민수</th>\n",
       "      <th>민지</th>\n",
       "      <th>지민</th>\n",
       "      <th>지연</th>\n",
       "      <th>현우</th>\n",
       "    </tr>\n",
       "    <tr>\n",
       "      <th>u</th>\n",
       "      <th></th>\n",
       "      <th></th>\n",
       "      <th></th>\n",
       "      <th></th>\n",
       "      <th></th>\n",
       "    </tr>\n",
       "  </thead>\n",
       "  <tbody>\n",
       "    <tr>\n",
       "      <th>민수</th>\n",
       "      <td>0.999917</td>\n",
       "      <td>0.970685</td>\n",
       "      <td>-0.948653</td>\n",
       "      <td>-0.904479</td>\n",
       "      <td>-0.865950</td>\n",
       "    </tr>\n",
       "    <tr>\n",
       "      <th>민지</th>\n",
       "      <td>0.970685</td>\n",
       "      <td>0.999989</td>\n",
       "      <td>-0.999988</td>\n",
       "      <td>-0.944858</td>\n",
       "      <td>0.000000</td>\n",
       "    </tr>\n",
       "    <tr>\n",
       "      <th>지민</th>\n",
       "      <td>-0.948653</td>\n",
       "      <td>-0.999988</td>\n",
       "      <td>0.999990</td>\n",
       "      <td>0.674182</td>\n",
       "      <td>0.999950</td>\n",
       "    </tr>\n",
       "    <tr>\n",
       "      <th>지연</th>\n",
       "      <td>-0.904479</td>\n",
       "      <td>-0.944858</td>\n",
       "      <td>0.674182</td>\n",
       "      <td>0.999969</td>\n",
       "      <td>0.816463</td>\n",
       "    </tr>\n",
       "    <tr>\n",
       "      <th>현우</th>\n",
       "      <td>-0.865950</td>\n",
       "      <td>0.000000</td>\n",
       "      <td>0.999950</td>\n",
       "      <td>0.816463</td>\n",
       "      <td>0.999950</td>\n",
       "    </tr>\n",
       "  </tbody>\n",
       "</table>\n",
       "</div>"
      ],
      "text/plain": [
       "v         민수        민지        지민        지연        현우\n",
       "u                                                   \n",
       "민수  0.999917  0.970685 -0.948653 -0.904479 -0.865950\n",
       "민지  0.970685  0.999989 -0.999988 -0.944858  0.000000\n",
       "지민 -0.948653 -0.999988  0.999990  0.674182  0.999950\n",
       "지연 -0.904479 -0.944858  0.674182  0.999969  0.816463\n",
       "현우 -0.865950  0.000000  0.999950  0.816463  0.999950"
      ]
     },
     "execution_count": 239,
     "metadata": {},
     "output_type": "execute_result"
    }
   ],
   "source": [
    "pearson_correlation = get_pearson_correlation_table(ratings)\n",
    "pearson_correlation"
   ]
  },
  {
   "cell_type": "code",
   "execution_count": 242,
   "metadata": {},
   "outputs": [
    {
     "data": {
      "text/html": [
       "<div>\n",
       "<style scoped>\n",
       "    .dataframe tbody tr th:only-of-type {\n",
       "        vertical-align: middle;\n",
       "    }\n",
       "\n",
       "    .dataframe tbody tr th {\n",
       "        vertical-align: top;\n",
       "    }\n",
       "\n",
       "    .dataframe thead th {\n",
       "        text-align: right;\n",
       "    }\n",
       "</style>\n",
       "<table border=\"1\" class=\"dataframe\">\n",
       "  <thead>\n",
       "    <tr style=\"text-align: right;\">\n",
       "      <th>책</th>\n",
       "      <th>노인과바다</th>\n",
       "      <th>백설공주</th>\n",
       "      <th>신데렐라</th>\n",
       "      <th>어린왕자</th>\n",
       "      <th>콩쥐팥쥐</th>\n",
       "      <th>흥부전</th>\n",
       "    </tr>\n",
       "    <tr>\n",
       "      <th>사람</th>\n",
       "      <th></th>\n",
       "      <th></th>\n",
       "      <th></th>\n",
       "      <th></th>\n",
       "      <th></th>\n",
       "      <th></th>\n",
       "    </tr>\n",
       "  </thead>\n",
       "  <tbody>\n",
       "    <tr>\n",
       "      <th>민지</th>\n",
       "      <td>NaN</td>\n",
       "      <td>5.0</td>\n",
       "      <td>4.0</td>\n",
       "      <td>1.0</td>\n",
       "      <td>NaN</td>\n",
       "      <td>3.0</td>\n",
       "    </tr>\n",
       "    <tr>\n",
       "      <th>민수</th>\n",
       "      <td>3.0</td>\n",
       "      <td>4.0</td>\n",
       "      <td>4.0</td>\n",
       "      <td>3.0</td>\n",
       "      <td>4.0</td>\n",
       "      <td>NaN</td>\n",
       "    </tr>\n",
       "    <tr>\n",
       "      <th>지연</th>\n",
       "      <td>5.0</td>\n",
       "      <td>NaN</td>\n",
       "      <td>3.0</td>\n",
       "      <td>4.0</td>\n",
       "      <td>3.0</td>\n",
       "      <td>3.0</td>\n",
       "    </tr>\n",
       "    <tr>\n",
       "      <th>지민</th>\n",
       "      <td>4.0</td>\n",
       "      <td>1.0</td>\n",
       "      <td>NaN</td>\n",
       "      <td>5.0</td>\n",
       "      <td>2.0</td>\n",
       "      <td>3.0</td>\n",
       "    </tr>\n",
       "    <tr>\n",
       "      <th>현우</th>\n",
       "      <td>3.0</td>\n",
       "      <td>NaN</td>\n",
       "      <td>2.0</td>\n",
       "      <td>NaN</td>\n",
       "      <td>1.0</td>\n",
       "      <td>2.0</td>\n",
       "    </tr>\n",
       "  </tbody>\n",
       "</table>\n",
       "</div>"
      ],
      "text/plain": [
       "책   노인과바다  백설공주  신데렐라  어린왕자  콩쥐팥쥐  흥부전\n",
       "사람                                    \n",
       "민지    NaN   5.0   4.0   1.0   NaN  3.0\n",
       "민수    3.0   4.0   4.0   3.0   4.0  NaN\n",
       "지연    5.0   NaN   3.0   4.0   3.0  3.0\n",
       "지민    4.0   1.0   NaN   5.0   2.0  3.0\n",
       "현우    3.0   NaN   2.0   NaN   1.0  2.0"
      ]
     },
     "execution_count": 242,
     "metadata": {},
     "output_type": "execute_result"
    }
   ],
   "source": [
    "ratings"
   ]
  },
  {
   "cell_type": "code",
   "execution_count": 247,
   "metadata": {},
   "outputs": [
    {
     "data": {
      "text/plain": [
       "2.050505206443646"
      ]
     },
     "execution_count": 247,
     "metadata": {},
     "output_type": "execute_result"
    }
   ],
   "source": [
    "# 테스트\n",
    "pearson_correlation = get_pearson_correlation_table(ratings)\n",
    "\n",
    "average_correction_predict_rating('현우', '어린왕자', ratings, pearson_correlation, k=2)"
   ]
  },
  {
   "cell_type": "code",
   "execution_count": 248,
   "metadata": {},
   "outputs": [],
   "source": [
    "# 모든 비어있는 값을 예측하는 average_correction_predict 구현합니다.\n",
    "# 단 비어있는 값만 예측 결과를 반환합니다.\n",
    "# 사용자 기반, 상품 기반 기법 모두 가능하도록 구현합니다.\n",
    "# kind에 사용자 기반인지 상품기반인지 여부를 지정합니다. 기본값은 사용자 기반으로 지정합니다.\n",
    "# k는 2, epsilon은 0.0001을 기본값으로 설정합니다.\n",
    "def average_correction_predict(ratings, kind='user', k=2, epsilon=0.0001):\n",
    "    # 상품 기반 예측이면 행렬을 뒤집어주고(transpose) 마지막에 결과를 다시 뒤집어서 반환합니다.\n",
    "    if kind == 'item':\n",
    "        ratings = ratings.T\n",
    "    \n",
    "    # 유사도(피어슨 상관계수) 테이블을 구합니다.\n",
    "    similarity = get_pearson_correlation_table(ratings, epsilon)\n",
    "    \n",
    "    # 예측한 결과를 담는 리스트를 만듭니다.\n",
    "    prediction_list = []\n",
    "\n",
    "    # 모든 사용자의 모든 상품에 대하여 예측을 진행합니다.\n",
    "    # itertool의 product로 모든 사용자와 모든 상품의 조합을 만듭니다.\n",
    "    for u_name, v_name in list(product(ratings.index, ratings.columns)):\n",
    "        # 위에서 구현한 average_correction_predict_rating으로 사용자의 상품을 예측합니다.\n",
    "        score = average_correction_predict_rating(u_name, v_name, ratings, similarity, k, epsilon)\n",
    "        \n",
    "        # 예측한 결과를 딕셔너리에 저장합니다.\n",
    "        prediction = {\n",
    "            'u' : u_name,\n",
    "            'v' : v_name,\n",
    "            \"score\" : score\n",
    "        }\n",
    "        # prediction_list 예측한 결과를 추가합니다.\n",
    "        prediction_list.append(prediction)\n",
    "\n",
    "    # 결과를 판다스의 피벗 테이블을 사용하여 데이터프레임으로 깔끔하게 정리합니다.\n",
    "    result = pd.DataFrame(prediction_list).pivot_table(index='u', columns='v', values='score')\n",
    "    # 단 비어있는 값만 예측 결과를 남깁니다.\n",
    "    result = result[ratings.isnull()]\n",
    "        \n",
    "    # 아이템 기반이면 결과를 다시 뒤집어줍니다.\n",
    "    if kind == 'item':\n",
    "        return result.T\n",
    "\n",
    "    # 결과를 반환합니다.\n",
    "    return result"
   ]
  },
  {
   "cell_type": "code",
   "execution_count": 249,
   "metadata": {},
   "outputs": [
    {
     "data": {
      "text/html": [
       "<div>\n",
       "<style scoped>\n",
       "    .dataframe tbody tr th:only-of-type {\n",
       "        vertical-align: middle;\n",
       "    }\n",
       "\n",
       "    .dataframe tbody tr th {\n",
       "        vertical-align: top;\n",
       "    }\n",
       "\n",
       "    .dataframe thead th {\n",
       "        text-align: right;\n",
       "    }\n",
       "</style>\n",
       "<table border=\"1\" class=\"dataframe\">\n",
       "  <thead>\n",
       "    <tr style=\"text-align: right;\">\n",
       "      <th>v</th>\n",
       "      <th>노인과바다</th>\n",
       "      <th>백설공주</th>\n",
       "      <th>신데렐라</th>\n",
       "      <th>어린왕자</th>\n",
       "      <th>콩쥐팥쥐</th>\n",
       "      <th>흥부전</th>\n",
       "    </tr>\n",
       "    <tr>\n",
       "      <th>u</th>\n",
       "      <th></th>\n",
       "      <th></th>\n",
       "      <th></th>\n",
       "      <th></th>\n",
       "      <th></th>\n",
       "      <th></th>\n",
       "    </tr>\n",
       "  </thead>\n",
       "  <tbody>\n",
       "    <tr>\n",
       "      <th>민수</th>\n",
       "      <td>NaN</td>\n",
       "      <td>NaN</td>\n",
       "      <td>NaN</td>\n",
       "      <td>NaN</td>\n",
       "      <td>NaN</td>\n",
       "      <td>3.6</td>\n",
       "    </tr>\n",
       "    <tr>\n",
       "      <th>민지</th>\n",
       "      <td>3.25</td>\n",
       "      <td>NaN</td>\n",
       "      <td>NaN</td>\n",
       "      <td>NaN</td>\n",
       "      <td>3.25</td>\n",
       "      <td>NaN</td>\n",
       "    </tr>\n",
       "    <tr>\n",
       "      <th>지민</th>\n",
       "      <td>NaN</td>\n",
       "      <td>NaN</td>\n",
       "      <td>2.902711</td>\n",
       "      <td>NaN</td>\n",
       "      <td>NaN</td>\n",
       "      <td>NaN</td>\n",
       "    </tr>\n",
       "    <tr>\n",
       "      <th>지연</th>\n",
       "      <td>NaN</td>\n",
       "      <td>3.6</td>\n",
       "      <td>NaN</td>\n",
       "      <td>NaN</td>\n",
       "      <td>NaN</td>\n",
       "      <td>NaN</td>\n",
       "    </tr>\n",
       "    <tr>\n",
       "      <th>현우</th>\n",
       "      <td>NaN</td>\n",
       "      <td>2.0</td>\n",
       "      <td>NaN</td>\n",
       "      <td>2.050505</td>\n",
       "      <td>NaN</td>\n",
       "      <td>NaN</td>\n",
       "    </tr>\n",
       "  </tbody>\n",
       "</table>\n",
       "</div>"
      ],
      "text/plain": [
       "v   노인과바다  백설공주      신데렐라      어린왕자  콩쥐팥쥐  흥부전\n",
       "u                                             \n",
       "민수    NaN   NaN       NaN       NaN   NaN  3.6\n",
       "민지   3.25   NaN       NaN       NaN  3.25  NaN\n",
       "지민    NaN   NaN  2.902711       NaN   NaN  NaN\n",
       "지연    NaN   3.6       NaN       NaN   NaN  NaN\n",
       "현우    NaN   2.0       NaN  2.050505   NaN  NaN"
      ]
     },
     "execution_count": 249,
     "metadata": {},
     "output_type": "execute_result"
    }
   ],
   "source": [
    "# 테스트\n",
    "average_correction_predict(ratings, kind='user', k=2, epsilon=0.0001)"
   ]
  },
  {
   "cell_type": "code",
   "execution_count": 250,
   "metadata": {},
   "outputs": [
    {
     "data": {
      "text/html": [
       "<div>\n",
       "<style scoped>\n",
       "    .dataframe tbody tr th:only-of-type {\n",
       "        vertical-align: middle;\n",
       "    }\n",
       "\n",
       "    .dataframe tbody tr th {\n",
       "        vertical-align: top;\n",
       "    }\n",
       "\n",
       "    .dataframe thead th {\n",
       "        text-align: right;\n",
       "    }\n",
       "</style>\n",
       "<table border=\"1\" class=\"dataframe\">\n",
       "  <thead>\n",
       "    <tr style=\"text-align: right;\">\n",
       "      <th>u</th>\n",
       "      <th>민수</th>\n",
       "      <th>민지</th>\n",
       "      <th>지민</th>\n",
       "      <th>지연</th>\n",
       "      <th>현우</th>\n",
       "    </tr>\n",
       "    <tr>\n",
       "      <th>v</th>\n",
       "      <th></th>\n",
       "      <th></th>\n",
       "      <th></th>\n",
       "      <th></th>\n",
       "      <th></th>\n",
       "    </tr>\n",
       "  </thead>\n",
       "  <tbody>\n",
       "    <tr>\n",
       "      <th>노인과바다</th>\n",
       "      <td>NaN</td>\n",
       "      <td>3.25</td>\n",
       "      <td>NaN</td>\n",
       "      <td>NaN</td>\n",
       "      <td>NaN</td>\n",
       "    </tr>\n",
       "    <tr>\n",
       "      <th>백설공주</th>\n",
       "      <td>NaN</td>\n",
       "      <td>NaN</td>\n",
       "      <td>NaN</td>\n",
       "      <td>3.6</td>\n",
       "      <td>2.000000</td>\n",
       "    </tr>\n",
       "    <tr>\n",
       "      <th>신데렐라</th>\n",
       "      <td>NaN</td>\n",
       "      <td>NaN</td>\n",
       "      <td>2.902711</td>\n",
       "      <td>NaN</td>\n",
       "      <td>NaN</td>\n",
       "    </tr>\n",
       "    <tr>\n",
       "      <th>어린왕자</th>\n",
       "      <td>NaN</td>\n",
       "      <td>NaN</td>\n",
       "      <td>NaN</td>\n",
       "      <td>NaN</td>\n",
       "      <td>2.050505</td>\n",
       "    </tr>\n",
       "    <tr>\n",
       "      <th>콩쥐팥쥐</th>\n",
       "      <td>NaN</td>\n",
       "      <td>3.25</td>\n",
       "      <td>NaN</td>\n",
       "      <td>NaN</td>\n",
       "      <td>NaN</td>\n",
       "    </tr>\n",
       "    <tr>\n",
       "      <th>흥부전</th>\n",
       "      <td>3.6</td>\n",
       "      <td>NaN</td>\n",
       "      <td>NaN</td>\n",
       "      <td>NaN</td>\n",
       "      <td>NaN</td>\n",
       "    </tr>\n",
       "  </tbody>\n",
       "</table>\n",
       "</div>"
      ],
      "text/plain": [
       "u       민수    민지        지민   지연        현우\n",
       "v                                        \n",
       "노인과바다  NaN  3.25       NaN  NaN       NaN\n",
       "백설공주   NaN   NaN       NaN  3.6  2.000000\n",
       "신데렐라   NaN   NaN  2.902711  NaN       NaN\n",
       "어린왕자   NaN   NaN       NaN  NaN  2.050505\n",
       "콩쥐팥쥐   NaN  3.25       NaN  NaN       NaN\n",
       "흥부전    3.6   NaN       NaN  NaN       NaN"
      ]
     },
     "execution_count": 250,
     "metadata": {},
     "output_type": "execute_result"
    }
   ],
   "source": [
    "# 테스트\n",
    "average_correction_predict(ratings.T, kind='item', k=2, epsilon=0.0001)"
   ]
  },
  {
   "cell_type": "markdown",
   "metadata": {},
   "source": [
    "## Recommend\n",
    "\n",
    "마지막으로 예측한 결과를 바탕으로 특정 사용자에게 상품을 추천하려고 합니다. 단순히 예측한 평점을 기반으로 추천하지 않고 조건을 추가해주도록 하겠습니다. 평점의 신뢰도를 위하여 추천할 상품이 받은 평점의 최소 개수를 지정해주세요. 즉, 최소 평점 개수 이상의 책만 추천되어야 합니다. 마지막으로 이미 본 것도 추천에서 제외해주어야 합니다. 조건을 정리하면 다음과 같습니다.\n",
    "\n",
    "- 평점의 개수가 지정한 개수 이상인 상품만 추천한다.\n",
    "- 이미 본 것은 추천하지 않는다."
   ]
  },
  {
   "cell_type": "markdown",
   "metadata": {},
   "source": [
    "**recommend()**"
   ]
  },
  {
   "cell_type": "code",
   "execution_count": 234,
   "metadata": {},
   "outputs": [],
   "source": [
    "# recommend를 구현해주세요!\n",
    "# numbers : 추천해줄 최대 책의 개수\n",
    "# min_counts : 추천할 상품이 받은 평점의 최소 개수, 최소 이 개수 이상의 책만 추천합니다.\n",
    "# numbers=3, min_count=3를 기본값으로 지정하겠습니다.\n",
    "def recommend(name, ratings, prediction, numbers=3, min_count=3):\n",
    "    # 입력한 사용자에 대한 예측값만 남깁니다. 시리즈(Series) 형태가 되므로 데이터프레임으로 변환합니다.\n",
    "    result = prediction.loc[name].to_frame()\n",
    "    # 상품이 받은 평점의 개수를 나타내는 count 컬럼을 만듭니다.\n",
    "    result['count'] = (ratings.notnull()).sum()\n",
    "    # 평점이 적힌 컬럼의 이름을 rating으로 지정합니다.\n",
    "    result.columns = ['rating', 'count']\n",
    "    # 평점을 기준으로 내림차순으로 정렬합니다.\n",
    "    result = result.sort_values('rating', ascending=False)\n",
    "    \n",
    "    # 이미 본 것을 제외하고 최소 영화 평가 개수 이상인 결과만 남깁니다.\n",
    "    over_min_count = result['count'] >= min_count\n",
    "    not_wathced = result['rating'].notnull()\n",
    "    #print(over_min_count)\n",
    "    #print(not_wathced)\n",
    "    result = result[over_min_count&not_wathced]\n",
    "\n",
    "    # 추천해줄 최대 책의 개수만큼 추천합니다.\n",
    "    recommendation = result.head(numbers)\n",
    "\n",
    "    # 결과를 반환합니다.\n",
    "    return recommendation"
   ]
  },
  {
   "cell_type": "code",
   "execution_count": 235,
   "metadata": {},
   "outputs": [
    {
     "data": {
      "text/html": [
       "<div>\n",
       "<style scoped>\n",
       "    .dataframe tbody tr th:only-of-type {\n",
       "        vertical-align: middle;\n",
       "    }\n",
       "\n",
       "    .dataframe tbody tr th {\n",
       "        vertical-align: top;\n",
       "    }\n",
       "\n",
       "    .dataframe thead th {\n",
       "        text-align: right;\n",
       "    }\n",
       "</style>\n",
       "<table border=\"1\" class=\"dataframe\">\n",
       "  <thead>\n",
       "    <tr style=\"text-align: right;\">\n",
       "      <th></th>\n",
       "      <th>rating</th>\n",
       "      <th>count</th>\n",
       "    </tr>\n",
       "    <tr>\n",
       "      <th>v</th>\n",
       "      <th></th>\n",
       "      <th></th>\n",
       "    </tr>\n",
       "  </thead>\n",
       "  <tbody>\n",
       "    <tr>\n",
       "      <th>노인과바다</th>\n",
       "      <td>3.25</td>\n",
       "      <td>4</td>\n",
       "    </tr>\n",
       "    <tr>\n",
       "      <th>콩쥐팥쥐</th>\n",
       "      <td>3.25</td>\n",
       "      <td>4</td>\n",
       "    </tr>\n",
       "  </tbody>\n",
       "</table>\n",
       "</div>"
      ],
      "text/plain": [
       "       rating  count\n",
       "v                   \n",
       "노인과바다    3.25      4\n",
       "콩쥐팥쥐     3.25      4"
      ]
     },
     "execution_count": 235,
     "metadata": {},
     "output_type": "execute_result"
    }
   ],
   "source": [
    "# 테스트\n",
    "prediction = average_correction_predict(ratings)\n",
    "\n",
    "recommend('민지', ratings, prediction, min_count=3)"
   ]
  },
  {
   "cell_type": "code",
   "execution_count": 236,
   "metadata": {},
   "outputs": [
    {
     "data": {
      "text/html": [
       "<div>\n",
       "<style scoped>\n",
       "    .dataframe tbody tr th:only-of-type {\n",
       "        vertical-align: middle;\n",
       "    }\n",
       "\n",
       "    .dataframe tbody tr th {\n",
       "        vertical-align: top;\n",
       "    }\n",
       "\n",
       "    .dataframe thead th {\n",
       "        text-align: right;\n",
       "    }\n",
       "</style>\n",
       "<table border=\"1\" class=\"dataframe\">\n",
       "  <thead>\n",
       "    <tr style=\"text-align: right;\">\n",
       "      <th>책</th>\n",
       "      <th>노인과바다</th>\n",
       "      <th>백설공주</th>\n",
       "      <th>신데렐라</th>\n",
       "      <th>어린왕자</th>\n",
       "      <th>콩쥐팥쥐</th>\n",
       "      <th>흥부전</th>\n",
       "    </tr>\n",
       "    <tr>\n",
       "      <th>사람</th>\n",
       "      <th></th>\n",
       "      <th></th>\n",
       "      <th></th>\n",
       "      <th></th>\n",
       "      <th></th>\n",
       "      <th></th>\n",
       "    </tr>\n",
       "  </thead>\n",
       "  <tbody>\n",
       "    <tr>\n",
       "      <th>민지</th>\n",
       "      <td>NaN</td>\n",
       "      <td>5.0</td>\n",
       "      <td>4.0</td>\n",
       "      <td>1.0</td>\n",
       "      <td>NaN</td>\n",
       "      <td>3.0</td>\n",
       "    </tr>\n",
       "    <tr>\n",
       "      <th>민수</th>\n",
       "      <td>3.0</td>\n",
       "      <td>4.0</td>\n",
       "      <td>4.0</td>\n",
       "      <td>3.0</td>\n",
       "      <td>4.0</td>\n",
       "      <td>NaN</td>\n",
       "    </tr>\n",
       "    <tr>\n",
       "      <th>지연</th>\n",
       "      <td>5.0</td>\n",
       "      <td>NaN</td>\n",
       "      <td>3.0</td>\n",
       "      <td>4.0</td>\n",
       "      <td>3.0</td>\n",
       "      <td>3.0</td>\n",
       "    </tr>\n",
       "    <tr>\n",
       "      <th>지민</th>\n",
       "      <td>4.0</td>\n",
       "      <td>1.0</td>\n",
       "      <td>NaN</td>\n",
       "      <td>5.0</td>\n",
       "      <td>2.0</td>\n",
       "      <td>3.0</td>\n",
       "    </tr>\n",
       "    <tr>\n",
       "      <th>현우</th>\n",
       "      <td>3.0</td>\n",
       "      <td>NaN</td>\n",
       "      <td>2.0</td>\n",
       "      <td>NaN</td>\n",
       "      <td>1.0</td>\n",
       "      <td>2.0</td>\n",
       "    </tr>\n",
       "  </tbody>\n",
       "</table>\n",
       "</div>"
      ],
      "text/plain": [
       "책   노인과바다  백설공주  신데렐라  어린왕자  콩쥐팥쥐  흥부전\n",
       "사람                                    \n",
       "민지    NaN   5.0   4.0   1.0   NaN  3.0\n",
       "민수    3.0   4.0   4.0   3.0   4.0  NaN\n",
       "지연    5.0   NaN   3.0   4.0   3.0  3.0\n",
       "지민    4.0   1.0   NaN   5.0   2.0  3.0\n",
       "현우    3.0   NaN   2.0   NaN   1.0  2.0"
      ]
     },
     "execution_count": 236,
     "metadata": {},
     "output_type": "execute_result"
    }
   ],
   "source": [
    "ratings"
   ]
  },
  {
   "cell_type": "code",
   "execution_count": null,
   "metadata": {},
   "outputs": [],
   "source": []
  }
 ],
 "metadata": {
  "kernelspec": {
   "display_name": "Python 3 (ipykernel)",
   "language": "python",
   "name": "python3"
  },
  "language_info": {
   "codemirror_mode": {
    "name": "ipython",
    "version": 3
   },
   "file_extension": ".py",
   "mimetype": "text/x-python",
   "name": "python",
   "nbconvert_exporter": "python",
   "pygments_lexer": "ipython3",
   "version": "3.9.12"
  },
  "toc": {
   "base_numbering": 1,
   "nav_menu": {},
   "number_sections": true,
   "sideBar": true,
   "skip_h1_title": false,
   "title_cell": "Table of Contents",
   "title_sidebar": "Contents",
   "toc_cell": false,
   "toc_position": {
    "height": "calc(100% - 180px)",
    "left": "10px",
    "top": "150px",
    "width": "245.062px"
   },
   "toc_section_display": true,
   "toc_window_display": true
  },
  "varInspector": {
   "cols": {
    "lenName": 16,
    "lenType": 16,
    "lenVar": 40
   },
   "kernels_config": {
    "python": {
     "delete_cmd_postfix": "",
     "delete_cmd_prefix": "del ",
     "library": "var_list.py",
     "varRefreshCmd": "print(var_dic_list())"
    },
    "r": {
     "delete_cmd_postfix": ") ",
     "delete_cmd_prefix": "rm(",
     "library": "var_list.r",
     "varRefreshCmd": "cat(var_dic_list()) "
    }
   },
   "types_to_exclude": [
    "module",
    "function",
    "builtin_function_or_method",
    "instance",
    "_Feature"
   ],
   "window_display": false
  }
 },
 "nbformat": 4,
 "nbformat_minor": 2
}
