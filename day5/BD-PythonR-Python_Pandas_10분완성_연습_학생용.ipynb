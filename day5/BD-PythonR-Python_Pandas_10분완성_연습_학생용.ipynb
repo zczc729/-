{
 "cells": [
  {
   "cell_type": "markdown",
   "id": "46edcf06",
   "metadata": {},
   "source": [
    "## 판다스 10 분 완성\n",
    "## 10 minutes to pandas    \n",
    "영문 : https://pandas.pydata.org/pandas-docs/stable/user_guide/10min.html    \n",
    "한글 : https://dataitgirls2.github.io/10minutes2pandas/"
   ]
  },
  {
   "cell_type": "markdown",
   "id": "d2fbb648",
   "metadata": {},
   "source": [
    "이 소개서는 주로 신규 사용자를 대상으로 한 판다스에 대한 간략한 소개로, 아래와 같이 구성되어 있습니다. 더 자세한 방법은 Cookbook에서 볼 수 있습니다.\n",
    "\n",
    "Object Creation (객체 생성)\n",
    "Viewing Data (데이터 확인하기)\n",
    "Selection (선택)\n",
    "Missing Data (결측치)\n",
    "Operation (연산)\n",
    "Merge (병합)\n",
    "Grouping (그룹화)\n",
    "Reshaping (변형)\n",
    "Time Series (시계열)\n",
    "Categoricals (범주화)\n",
    "Plotting (그래프)\n",
    "Getting Data In / Out (데이터 입 / 출력)\n",
    "Gotchas (잡았다!)\n"
   ]
  },
  {
   "cell_type": "markdown",
   "id": "f7c6a125",
   "metadata": {},
   "source": [
    "일반적으로 각 패캐지는 pd, np, plt라는 이름으로 불러옵니다."
   ]
  },
  {
   "cell_type": "code",
   "execution_count": 117,
   "id": "bbeddbd9",
   "metadata": {},
   "outputs": [],
   "source": [
    "import pandas as pd"
   ]
  },
  {
   "cell_type": "code",
   "execution_count": 118,
   "id": "879d465c",
   "metadata": {},
   "outputs": [],
   "source": [
    "import numpy as np"
   ]
  },
  {
   "cell_type": "code",
   "execution_count": 119,
   "id": "9dba65d2",
   "metadata": {},
   "outputs": [],
   "source": [
    "import matplotlib.pyplot as plt"
   ]
  },
  {
   "cell_type": "markdown",
   "id": "450db2ee",
   "metadata": {},
   "source": [
    "1. Object Creation (객체 생성)\n",
    "\n",
    "데이터 구조 소개 섹션을 참조하세요.\n",
    "\n",
    "Pandas는 값을 가지고 있는 리스트를 통해 Series를 만들고, 정수로 만들어진 인덱스를 기본값으로 불러올 것입니다."
   ]
  },
  {
   "cell_type": "code",
   "execution_count": 120,
   "id": "be8ff414",
   "metadata": {},
   "outputs": [],
   "source": [
    "s = pd.Series([1,3,5,np.nan,6,8])"
   ]
  },
  {
   "cell_type": "code",
   "execution_count": 121,
   "id": "723cd157",
   "metadata": {},
   "outputs": [
    {
     "data": {
      "text/plain": [
       "0    1.0\n",
       "1    3.0\n",
       "2    5.0\n",
       "3    NaN\n",
       "4    6.0\n",
       "5    8.0\n",
       "dtype: float64"
      ]
     },
     "execution_count": 121,
     "metadata": {},
     "output_type": "execute_result"
    }
   ],
   "source": [
    "s"
   ]
  },
  {
   "cell_type": "markdown",
   "id": "e854ffdf",
   "metadata": {},
   "source": [
    "datetime 인덱스와 레이블이 있는 열을 가지고 있는 numpy 배열을 전달하여 데이터프레임을 만듭니다."
   ]
  },
  {
   "cell_type": "code",
   "execution_count": 122,
   "id": "7615b739",
   "metadata": {},
   "outputs": [],
   "source": [
    "dates = pd.date_range('20130101', periods=6)"
   ]
  },
  {
   "cell_type": "code",
   "execution_count": 123,
   "id": "471179a9",
   "metadata": {},
   "outputs": [
    {
     "data": {
      "text/plain": [
       "DatetimeIndex(['2013-01-01', '2013-01-02', '2013-01-03', '2013-01-04',\n",
       "               '2013-01-05', '2013-01-06'],\n",
       "              dtype='datetime64[ns]', freq='D')"
      ]
     },
     "execution_count": 123,
     "metadata": {},
     "output_type": "execute_result"
    }
   ],
   "source": [
    "dates"
   ]
  },
  {
   "cell_type": "code",
   "execution_count": 124,
   "id": "09c0a576",
   "metadata": {},
   "outputs": [],
   "source": [
    "df = pd.DataFrame(np.random.randn(6,4), index=dates, columns=list('ABCD'))"
   ]
  },
  {
   "cell_type": "code",
   "execution_count": 125,
   "id": "a9a8ae37",
   "metadata": {},
   "outputs": [
    {
     "data": {
      "text/html": [
       "<div>\n",
       "<style scoped>\n",
       "    .dataframe tbody tr th:only-of-type {\n",
       "        vertical-align: middle;\n",
       "    }\n",
       "\n",
       "    .dataframe tbody tr th {\n",
       "        vertical-align: top;\n",
       "    }\n",
       "\n",
       "    .dataframe thead th {\n",
       "        text-align: right;\n",
       "    }\n",
       "</style>\n",
       "<table border=\"1\" class=\"dataframe\">\n",
       "  <thead>\n",
       "    <tr style=\"text-align: right;\">\n",
       "      <th></th>\n",
       "      <th>A</th>\n",
       "      <th>B</th>\n",
       "      <th>C</th>\n",
       "      <th>D</th>\n",
       "    </tr>\n",
       "  </thead>\n",
       "  <tbody>\n",
       "    <tr>\n",
       "      <th>2013-01-01</th>\n",
       "      <td>1.096648</td>\n",
       "      <td>-0.487988</td>\n",
       "      <td>-0.359217</td>\n",
       "      <td>-0.781398</td>\n",
       "    </tr>\n",
       "    <tr>\n",
       "      <th>2013-01-02</th>\n",
       "      <td>0.344175</td>\n",
       "      <td>-0.771685</td>\n",
       "      <td>-0.473469</td>\n",
       "      <td>-0.162239</td>\n",
       "    </tr>\n",
       "    <tr>\n",
       "      <th>2013-01-03</th>\n",
       "      <td>-1.055871</td>\n",
       "      <td>0.406498</td>\n",
       "      <td>-0.989208</td>\n",
       "      <td>-2.119538</td>\n",
       "    </tr>\n",
       "    <tr>\n",
       "      <th>2013-01-04</th>\n",
       "      <td>0.228958</td>\n",
       "      <td>0.022883</td>\n",
       "      <td>-0.669982</td>\n",
       "      <td>-0.963881</td>\n",
       "    </tr>\n",
       "    <tr>\n",
       "      <th>2013-01-05</th>\n",
       "      <td>0.806240</td>\n",
       "      <td>-0.719719</td>\n",
       "      <td>1.612131</td>\n",
       "      <td>-1.606452</td>\n",
       "    </tr>\n",
       "    <tr>\n",
       "      <th>2013-01-06</th>\n",
       "      <td>1.236621</td>\n",
       "      <td>-0.814583</td>\n",
       "      <td>0.085103</td>\n",
       "      <td>0.889925</td>\n",
       "    </tr>\n",
       "  </tbody>\n",
       "</table>\n",
       "</div>"
      ],
      "text/plain": [
       "                   A         B         C         D\n",
       "2013-01-01  1.096648 -0.487988 -0.359217 -0.781398\n",
       "2013-01-02  0.344175 -0.771685 -0.473469 -0.162239\n",
       "2013-01-03 -1.055871  0.406498 -0.989208 -2.119538\n",
       "2013-01-04  0.228958  0.022883 -0.669982 -0.963881\n",
       "2013-01-05  0.806240 -0.719719  1.612131 -1.606452\n",
       "2013-01-06  1.236621 -0.814583  0.085103  0.889925"
      ]
     },
     "execution_count": 125,
     "metadata": {},
     "output_type": "execute_result"
    }
   ],
   "source": [
    "df"
   ]
  },
  {
   "cell_type": "markdown",
   "id": "e16a03ed",
   "metadata": {},
   "source": [
    "Series와 같은 것으로 변환될 수 있는 객체들의 dict로 구성된 데이터프레임을 만듭니다."
   ]
  },
  {
   "cell_type": "code",
   "execution_count": 126,
   "id": "9aee5f32",
   "metadata": {},
   "outputs": [],
   "source": [
    "df2 = pd.DataFrame({'A' : 1.,\n",
    "                    'B' : pd.Timestamp('20130102'),\n",
    "                    'C' : pd.Series(1,index=list(range(4)),dtype='float32'),\n",
    "                    'D' : np.array([3] * 4,dtype='int32'),\n",
    "                    'E' : pd.Categorical([\"test\",\"train\",\"test\",\"train\"]),\n",
    "                    'F' : 'foo' })"
   ]
  },
  {
   "cell_type": "code",
   "execution_count": 127,
   "id": "077a8935",
   "metadata": {},
   "outputs": [
    {
     "data": {
      "text/html": [
       "<div>\n",
       "<style scoped>\n",
       "    .dataframe tbody tr th:only-of-type {\n",
       "        vertical-align: middle;\n",
       "    }\n",
       "\n",
       "    .dataframe tbody tr th {\n",
       "        vertical-align: top;\n",
       "    }\n",
       "\n",
       "    .dataframe thead th {\n",
       "        text-align: right;\n",
       "    }\n",
       "</style>\n",
       "<table border=\"1\" class=\"dataframe\">\n",
       "  <thead>\n",
       "    <tr style=\"text-align: right;\">\n",
       "      <th></th>\n",
       "      <th>A</th>\n",
       "      <th>B</th>\n",
       "      <th>C</th>\n",
       "      <th>D</th>\n",
       "      <th>E</th>\n",
       "      <th>F</th>\n",
       "    </tr>\n",
       "  </thead>\n",
       "  <tbody>\n",
       "    <tr>\n",
       "      <th>0</th>\n",
       "      <td>1.0</td>\n",
       "      <td>2013-01-02</td>\n",
       "      <td>1.0</td>\n",
       "      <td>3</td>\n",
       "      <td>test</td>\n",
       "      <td>foo</td>\n",
       "    </tr>\n",
       "    <tr>\n",
       "      <th>1</th>\n",
       "      <td>1.0</td>\n",
       "      <td>2013-01-02</td>\n",
       "      <td>1.0</td>\n",
       "      <td>3</td>\n",
       "      <td>train</td>\n",
       "      <td>foo</td>\n",
       "    </tr>\n",
       "    <tr>\n",
       "      <th>2</th>\n",
       "      <td>1.0</td>\n",
       "      <td>2013-01-02</td>\n",
       "      <td>1.0</td>\n",
       "      <td>3</td>\n",
       "      <td>test</td>\n",
       "      <td>foo</td>\n",
       "    </tr>\n",
       "    <tr>\n",
       "      <th>3</th>\n",
       "      <td>1.0</td>\n",
       "      <td>2013-01-02</td>\n",
       "      <td>1.0</td>\n",
       "      <td>3</td>\n",
       "      <td>train</td>\n",
       "      <td>foo</td>\n",
       "    </tr>\n",
       "  </tbody>\n",
       "</table>\n",
       "</div>"
      ],
      "text/plain": [
       "     A          B    C  D      E    F\n",
       "0  1.0 2013-01-02  1.0  3   test  foo\n",
       "1  1.0 2013-01-02  1.0  3  train  foo\n",
       "2  1.0 2013-01-02  1.0  3   test  foo\n",
       "3  1.0 2013-01-02  1.0  3  train  foo"
      ]
     },
     "execution_count": 127,
     "metadata": {},
     "output_type": "execute_result"
    }
   ],
   "source": [
    "df2"
   ]
  },
  {
   "cell_type": "markdown",
   "id": "2ca42780",
   "metadata": {},
   "source": [
    "데이터프레임 결과물의 열은 다양한 데이터 타입 (dtypes)으로 구성됩니다."
   ]
  },
  {
   "cell_type": "code",
   "execution_count": 129,
   "id": "68a6c335",
   "metadata": {},
   "outputs": [
    {
     "data": {
      "text/plain": [
       "A           float64\n",
       "B    datetime64[ns]\n",
       "C           float32\n",
       "D             int32\n",
       "E          category\n",
       "F            object\n",
       "dtype: object"
      ]
     },
     "execution_count": 129,
     "metadata": {},
     "output_type": "execute_result"
    }
   ],
   "source": [
    "df2.dtypes"
   ]
  },
  {
   "cell_type": "markdown",
   "id": "fcf0fa04",
   "metadata": {},
   "source": [
    "IPython을 이용하고 계시다면 (공용 속성을 포함한) 열 이름에 대한 Tap 자동완성 기능이 자동으로 활성화 됩니다. \n",
    "다음은 완성될 속성에 대한 부분집합 (subset)입니다.\n",
    "\n",
    "역자 주 : 아래 제시된 코드의 경우, IPython이 아닌 환경 (Google Colaboratory, Jupyter 등)에서는 사용이 불가능한 코드인 점에 주의하세요."
   ]
  },
  {
   "cell_type": "code",
   "execution_count": 130,
   "id": "b7b3325f",
   "metadata": {},
   "outputs": [],
   "source": [
    "# df2.<TAB>"
   ]
  },
  {
   "cell_type": "markdown",
   "id": "65f774c3",
   "metadata": {},
   "source": [
    "역자 주 : IPython에서 실행하면 다음과 같은 결과값이 나옵니다."
   ]
  },
  {
   "cell_type": "markdown",
   "id": "ef9cdd6d",
   "metadata": {},
   "source": [
    "df2.A                  df2.bool\n",
    "df2.abs                df2.boxplot\n",
    "df2.add                df2.C\n",
    "df2.add_prefix         df2.clip\n",
    "df2.add_suffix         df2.clip_lower\n",
    "df2.align              df2.clip_upper\n",
    "df2.all                df2.columns\n",
    "df2.any                df2.combine\n",
    "df2.append             df2.combine_first\n",
    "df2.apply              df2.compound\n",
    "df2.applymap           df2.consolidate\n",
    "df2.D"
   ]
  },
  {
   "cell_type": "markdown",
   "id": "f57210bd",
   "metadata": {},
   "source": [
    "보시다시피 A, B, C, D열이 탭 자동완성 기능으로 실행됩니다. 물론 E도 있습니다. 나머지 속성들은 간결하게 잘라 버렸습니다.\n",
    "\n"
   ]
  },
  {
   "cell_type": "markdown",
   "id": "775a3bcc",
   "metadata": {},
   "source": [
    "# 2. Viewing Data (데이터 확인하기)"
   ]
  },
  {
   "cell_type": "markdown",
   "id": "e867e20d",
   "metadata": {},
   "source": [
    "Basic Section을 참조하세요.\n",
    "\n",
    "데이터프레임의 가장 윗 줄과 마지막 줄을 확인하고 싶을 때에 사용하는 방법은 다음과 같습니다.\n",
    "\n",
    "역자 주: 괄호() 안에는 숫자가 들어갈 수도 있고 안 들어갈 수도 있습니다. 숫자가 들어간다면, 윗 / 마지막 줄의 특정 줄을 불러올 수 있습니다. 숫자가 들어가지 않다면, 기본값인 5로 처리됩니다.\n",
    "\n",
    "예시"
   ]
  },
  {
   "cell_type": "code",
   "execution_count": 131,
   "id": "7c62b810",
   "metadata": {},
   "outputs": [
    {
     "data": {
      "text/html": [
       "<div>\n",
       "<style scoped>\n",
       "    .dataframe tbody tr th:only-of-type {\n",
       "        vertical-align: middle;\n",
       "    }\n",
       "\n",
       "    .dataframe tbody tr th {\n",
       "        vertical-align: top;\n",
       "    }\n",
       "\n",
       "    .dataframe thead th {\n",
       "        text-align: right;\n",
       "    }\n",
       "</style>\n",
       "<table border=\"1\" class=\"dataframe\">\n",
       "  <thead>\n",
       "    <tr style=\"text-align: right;\">\n",
       "      <th></th>\n",
       "      <th>A</th>\n",
       "      <th>B</th>\n",
       "      <th>C</th>\n",
       "      <th>D</th>\n",
       "    </tr>\n",
       "  </thead>\n",
       "  <tbody>\n",
       "    <tr>\n",
       "      <th>2013-01-04</th>\n",
       "      <td>0.228958</td>\n",
       "      <td>0.022883</td>\n",
       "      <td>-0.669982</td>\n",
       "      <td>-0.963881</td>\n",
       "    </tr>\n",
       "    <tr>\n",
       "      <th>2013-01-05</th>\n",
       "      <td>0.806240</td>\n",
       "      <td>-0.719719</td>\n",
       "      <td>1.612131</td>\n",
       "      <td>-1.606452</td>\n",
       "    </tr>\n",
       "    <tr>\n",
       "      <th>2013-01-06</th>\n",
       "      <td>1.236621</td>\n",
       "      <td>-0.814583</td>\n",
       "      <td>0.085103</td>\n",
       "      <td>0.889925</td>\n",
       "    </tr>\n",
       "  </tbody>\n",
       "</table>\n",
       "</div>"
      ],
      "text/plain": [
       "                   A         B         C         D\n",
       "2013-01-04  0.228958  0.022883 -0.669982 -0.963881\n",
       "2013-01-05  0.806240 -0.719719  1.612131 -1.606452\n",
       "2013-01-06  1.236621 -0.814583  0.085103  0.889925"
      ]
     },
     "execution_count": 131,
     "metadata": {},
     "output_type": "execute_result"
    }
   ],
   "source": [
    "df.tail(3)  # 끝에서 마지막 3줄을 불러옴"
   ]
  },
  {
   "cell_type": "code",
   "execution_count": 132,
   "id": "d58d08ec",
   "metadata": {},
   "outputs": [
    {
     "data": {
      "text/html": [
       "<div>\n",
       "<style scoped>\n",
       "    .dataframe tbody tr th:only-of-type {\n",
       "        vertical-align: middle;\n",
       "    }\n",
       "\n",
       "    .dataframe tbody tr th {\n",
       "        vertical-align: top;\n",
       "    }\n",
       "\n",
       "    .dataframe thead th {\n",
       "        text-align: right;\n",
       "    }\n",
       "</style>\n",
       "<table border=\"1\" class=\"dataframe\">\n",
       "  <thead>\n",
       "    <tr style=\"text-align: right;\">\n",
       "      <th></th>\n",
       "      <th>A</th>\n",
       "      <th>B</th>\n",
       "      <th>C</th>\n",
       "      <th>D</th>\n",
       "    </tr>\n",
       "  </thead>\n",
       "  <tbody>\n",
       "    <tr>\n",
       "      <th>2013-01-02</th>\n",
       "      <td>0.344175</td>\n",
       "      <td>-0.771685</td>\n",
       "      <td>-0.473469</td>\n",
       "      <td>-0.162239</td>\n",
       "    </tr>\n",
       "    <tr>\n",
       "      <th>2013-01-03</th>\n",
       "      <td>-1.055871</td>\n",
       "      <td>0.406498</td>\n",
       "      <td>-0.989208</td>\n",
       "      <td>-2.119538</td>\n",
       "    </tr>\n",
       "    <tr>\n",
       "      <th>2013-01-04</th>\n",
       "      <td>0.228958</td>\n",
       "      <td>0.022883</td>\n",
       "      <td>-0.669982</td>\n",
       "      <td>-0.963881</td>\n",
       "    </tr>\n",
       "    <tr>\n",
       "      <th>2013-01-05</th>\n",
       "      <td>0.806240</td>\n",
       "      <td>-0.719719</td>\n",
       "      <td>1.612131</td>\n",
       "      <td>-1.606452</td>\n",
       "    </tr>\n",
       "    <tr>\n",
       "      <th>2013-01-06</th>\n",
       "      <td>1.236621</td>\n",
       "      <td>-0.814583</td>\n",
       "      <td>0.085103</td>\n",
       "      <td>0.889925</td>\n",
       "    </tr>\n",
       "  </tbody>\n",
       "</table>\n",
       "</div>"
      ],
      "text/plain": [
       "                   A         B         C         D\n",
       "2013-01-02  0.344175 -0.771685 -0.473469 -0.162239\n",
       "2013-01-03 -1.055871  0.406498 -0.989208 -2.119538\n",
       "2013-01-04  0.228958  0.022883 -0.669982 -0.963881\n",
       "2013-01-05  0.806240 -0.719719  1.612131 -1.606452\n",
       "2013-01-06  1.236621 -0.814583  0.085103  0.889925"
      ]
     },
     "execution_count": 132,
     "metadata": {},
     "output_type": "execute_result"
    }
   ],
   "source": [
    "df.tail()  # 끝에서 마지막 5줄 불러옴"
   ]
  },
  {
   "cell_type": "code",
   "execution_count": 133,
   "id": "d3d80661",
   "metadata": {},
   "outputs": [
    {
     "data": {
      "text/html": [
       "<div>\n",
       "<style scoped>\n",
       "    .dataframe tbody tr th:only-of-type {\n",
       "        vertical-align: middle;\n",
       "    }\n",
       "\n",
       "    .dataframe tbody tr th {\n",
       "        vertical-align: top;\n",
       "    }\n",
       "\n",
       "    .dataframe thead th {\n",
       "        text-align: right;\n",
       "    }\n",
       "</style>\n",
       "<table border=\"1\" class=\"dataframe\">\n",
       "  <thead>\n",
       "    <tr style=\"text-align: right;\">\n",
       "      <th></th>\n",
       "      <th>A</th>\n",
       "      <th>B</th>\n",
       "      <th>C</th>\n",
       "      <th>D</th>\n",
       "    </tr>\n",
       "  </thead>\n",
       "  <tbody>\n",
       "    <tr>\n",
       "      <th>2013-01-01</th>\n",
       "      <td>1.096648</td>\n",
       "      <td>-0.487988</td>\n",
       "      <td>-0.359217</td>\n",
       "      <td>-0.781398</td>\n",
       "    </tr>\n",
       "    <tr>\n",
       "      <th>2013-01-02</th>\n",
       "      <td>0.344175</td>\n",
       "      <td>-0.771685</td>\n",
       "      <td>-0.473469</td>\n",
       "      <td>-0.162239</td>\n",
       "    </tr>\n",
       "    <tr>\n",
       "      <th>2013-01-03</th>\n",
       "      <td>-1.055871</td>\n",
       "      <td>0.406498</td>\n",
       "      <td>-0.989208</td>\n",
       "      <td>-2.119538</td>\n",
       "    </tr>\n",
       "    <tr>\n",
       "      <th>2013-01-04</th>\n",
       "      <td>0.228958</td>\n",
       "      <td>0.022883</td>\n",
       "      <td>-0.669982</td>\n",
       "      <td>-0.963881</td>\n",
       "    </tr>\n",
       "    <tr>\n",
       "      <th>2013-01-05</th>\n",
       "      <td>0.806240</td>\n",
       "      <td>-0.719719</td>\n",
       "      <td>1.612131</td>\n",
       "      <td>-1.606452</td>\n",
       "    </tr>\n",
       "  </tbody>\n",
       "</table>\n",
       "</div>"
      ],
      "text/plain": [
       "                   A         B         C         D\n",
       "2013-01-01  1.096648 -0.487988 -0.359217 -0.781398\n",
       "2013-01-02  0.344175 -0.771685 -0.473469 -0.162239\n",
       "2013-01-03 -1.055871  0.406498 -0.989208 -2.119538\n",
       "2013-01-04  0.228958  0.022883 -0.669982 -0.963881\n",
       "2013-01-05  0.806240 -0.719719  1.612131 -1.606452"
      ]
     },
     "execution_count": 133,
     "metadata": {},
     "output_type": "execute_result"
    }
   ],
   "source": [
    "df.head()"
   ]
  },
  {
   "cell_type": "code",
   "execution_count": null,
   "id": "4763068e",
   "metadata": {},
   "outputs": [],
   "source": []
  },
  {
   "cell_type": "code",
   "execution_count": null,
   "id": "384bb11b",
   "metadata": {},
   "outputs": [],
   "source": []
  },
  {
   "cell_type": "code",
   "execution_count": null,
   "id": "05c3ac00",
   "metadata": {},
   "outputs": [],
   "source": []
  },
  {
   "cell_type": "code",
   "execution_count": null,
   "id": "bffac1f9",
   "metadata": {},
   "outputs": [],
   "source": []
  },
  {
   "cell_type": "code",
   "execution_count": null,
   "id": "3e3ae877",
   "metadata": {},
   "outputs": [],
   "source": []
  },
  {
   "cell_type": "code",
   "execution_count": null,
   "id": "f274066b",
   "metadata": {},
   "outputs": [],
   "source": []
  },
  {
   "cell_type": "code",
   "execution_count": null,
   "id": "e5cb2ad9",
   "metadata": {},
   "outputs": [],
   "source": []
  },
  {
   "cell_type": "code",
   "execution_count": null,
   "id": "46b542b9",
   "metadata": {},
   "outputs": [],
   "source": []
  },
  {
   "cell_type": "code",
   "execution_count": null,
   "id": "8f4beaa3",
   "metadata": {},
   "outputs": [],
   "source": []
  }
 ],
 "metadata": {
  "kernelspec": {
   "display_name": "Python 3 (ipykernel)",
   "language": "python",
   "name": "python3"
  },
  "language_info": {
   "codemirror_mode": {
    "name": "ipython",
    "version": 3
   },
   "file_extension": ".py",
   "mimetype": "text/x-python",
   "name": "python",
   "nbconvert_exporter": "python",
   "pygments_lexer": "ipython3",
   "version": "3.9.12"
  }
 },
 "nbformat": 4,
 "nbformat_minor": 5
}
